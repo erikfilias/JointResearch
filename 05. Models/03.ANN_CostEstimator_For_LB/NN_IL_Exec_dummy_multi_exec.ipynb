{
 "cells": [
  {
   "cell_type": "code",
   "execution_count": 1,
   "id": "6614cc5b",
   "metadata": {},
   "outputs": [],
   "source": [
    "import pandas as pd\n",
    "import DataLoading"
   ]
  },
  {
   "cell_type": "code",
   "execution_count": 2,
   "id": "94c3c735",
   "metadata": {},
   "outputs": [
    {
     "ename": "NameError",
     "evalue": "name 'load_data_ext_out' is not defined",
     "output_type": "error",
     "traceback": [
      "\u001b[1;31m---------------------------------------------------------------------------\u001b[0m",
      "\u001b[1;31mNameError\u001b[0m                                 Traceback (most recent call last)",
      "Cell \u001b[1;32mIn[2], line 9\u001b[0m\n\u001b[0;32m      6\u001b[0m te_s \u001b[38;5;241m=\u001b[39m \u001b[38;5;241m0.1\u001b[39m\n\u001b[0;32m      7\u001b[0m val_s \u001b[38;5;241m=\u001b[39m \u001b[38;5;241m0.2\u001b[39m\n\u001b[1;32m----> 9\u001b[0m dfs_in,dfs_out,dfs_inter \u001b[38;5;241m=\u001b[39m \u001b[43mload_data_ext_out\u001b[49m(folder,executions,period,sc,[\u001b[38;5;124m\"\u001b[39m\u001b[38;5;124mPowerOutput\u001b[39m\u001b[38;5;124m\"\u001b[39m,\u001b[38;5;124m\"\u001b[39m\u001b[38;5;124mPowerFlow\u001b[39m\u001b[38;5;124m\"\u001b[39m])\n\u001b[0;32m     10\u001b[0m dfs_inter_j \u001b[38;5;241m=\u001b[39m join_frames_inter_layer(dfs_inter)\n\u001b[0;32m     11\u001b[0m ts_in,ts_out,ts_inter \u001b[38;5;241m=\u001b[39m split_tr_val_te_ext_out(dfs_in,dfs_out,dfs_inter_j,executions,te_s,val_s)\n",
      "\u001b[1;31mNameError\u001b[0m: name 'load_data_ext_out' is not defined"
     ]
    }
   ],
   "source": [
    "executions = [\"Network_Existing_Generation_Full\"]\n",
    "\n",
    "sc = \"sc01\"\n",
    "period = \"2030\"\n",
    "folder = \"../Data/RTS24_AC_12w_ext_o_dummy\"\n",
    "te_s = 0.1\n",
    "val_s = 0.2\n",
    "\n",
    "dfs_in,dfs_out,dfs_inter = load_data_ext_out(folder,executions,period,sc,[\"PowerOutput\",\"PowerFlow\"])\n",
    "dfs_inter_j = join_frames_inter_layer(dfs_inter)\n",
    "ts_in,ts_out,ts_inter = split_tr_val_te_ext_out(dfs_in,dfs_out,dfs_inter_j,executions,te_s,val_s)\n",
    "d_ft_in, d_ft_out,d_ft_inter = concat_and_normalize_ext_out(ts_in,ts_out,ts_inter,executions)"
   ]
  }
 ],
 "metadata": {
  "kernelspec": {
   "display_name": "Python 3 (ipykernel)",
   "language": "python",
   "name": "python3"
  },
  "language_info": {
   "codemirror_mode": {
    "name": "ipython",
    "version": 3
   },
   "file_extension": ".py",
   "mimetype": "text/x-python",
   "name": "python",
   "nbconvert_exporter": "python",
   "pygments_lexer": "ipython3",
   "version": "3.10.11"
  }
 },
 "nbformat": 4,
 "nbformat_minor": 5
}
