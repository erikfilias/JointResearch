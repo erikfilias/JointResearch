{
 "cells": [
  {
   "cell_type": "code",
   "execution_count": 1,
   "id": "5392015a",
   "metadata": {},
   "outputs": [],
   "source": [
    "import pandas as pd\n",
    "import DataLoading\n",
    "import os\n",
    "import glob\n",
    "import numpy as np"
   ]
  },
  {
   "cell_type": "code",
   "execution_count": 2,
   "id": "c23a1e74",
   "metadata": {},
   "outputs": [],
   "source": [
    "def list_executions_from_Starnet_results(folder, case): \n",
    "    filenames = glob.glob(pathname=\"oT_Input*\",root_dir=folder)\n",
    "    executions = [fn.split(case)[1][1:-4] for fn in filenames]\n",
    "    return executions"
   ]
  },
  {
   "cell_type": "code",
   "execution_count": 4,
   "id": "017c34f4",
   "metadata": {},
   "outputs": [],
   "source": [
    "def list_investments_candidates_from_execs(executions): \n",
    "    l = [execution.strip(\"12345\").strip(\"_cac\") for execution in executions if execution != \"Network_Existing_Generation_Full\"]\n",
    "    \n",
    "#     return list(set(l))\n",
    "    return np.unique(l)"
   ]
  },
  {
   "cell_type": "code",
   "execution_count": 16,
   "id": "37db131f",
   "metadata": {},
   "outputs": [
    {
     "data": {
      "text/plain": [
       "Index(['LoadLevel', '101_CT_1', '101_CT_2', '101_PV_1', '101_PV_2', '101_PV_3',\n",
       "       '101_PV_4', '101_STEAM_3', '101_STEAM_4', '102_CT_1', '102_CT_2',\n",
       "       '102_PV_1', '102_PV_2', '102_STEAM_3', '102_STEAM_4', '103_PV_1',\n",
       "       '104_PV_1', '107_CC_1', '113_CT_1', '113_CT_2', '113_CT_3', '113_CT_4',\n",
       "       '113_PV_1', '115_STEAM_1', '115_STEAM_2', '115_STEAM_3', '116_STEAM_1',\n",
       "       '118_CC_1', '118_RTPV_1', '118_RTPV_10', '118_RTPV_2', '118_RTPV_3',\n",
       "       '118_RTPV_4', '118_RTPV_5', '118_RTPV_6', '118_RTPV_7', '118_RTPV_8',\n",
       "       '118_RTPV_9', '119_PV_1', '121_NUCLEAR_1', '122_HYDRO_1', '122_HYDRO_2',\n",
       "       '122_HYDRO_3', '122_HYDRO_4', '122_HYDRO_5', '122_HYDRO_6',\n",
       "       '122_WIND_1', '123_CT_1', '123_CT_4', '123_CT_5', '123_STEAM_2',\n",
       "       '123_STEAM_3'],\n",
       "      dtype='object')"
      ]
     },
     "execution_count": 16,
     "metadata": {},
     "output_type": "execute_result"
    }
   ],
   "source": [
    "folder_read = \"../10.StarNet/RTS24/ClusterResults/Results_PF/\"\n",
    "case = \"RTS24\"\n",
    "\n",
    "executions = list_executions_from_Starnet_results(folder_read,case)\n",
    "ics = list_investments_candidates_from_execs(executions)\n",
    "\n",
    "folder_write = \"RTS24_AC_12w_ext_o_dummy\"\n",
    "per = 2030\n",
    "sc = \"sc01\"\n",
    "exe = executions[0]\n",
    "\n",
    "pd.read_csv(f\"../Data/{folder_write}/output_f_{sc}_{exe}_{per}_PowerOutput.csv\").columns"
   ]
  },
  {
   "cell_type": "code",
   "execution_count": 29,
   "id": "ea291142",
   "metadata": {},
   "outputs": [
    {
     "data": {
      "text/plain": [
       "Index(['CC', 'CT', 'HYDRO', 'NUCLEAR', 'PV', 'RTPV', 'STEAM', 'WIND', nan], dtype='object')"
      ]
     },
     "execution_count": 29,
     "metadata": {},
     "output_type": "execute_result"
    }
   ],
   "source": [
    "pd.read_csv(f\"../Data/{folder_write}/output_f_{sc}_{exe}_{per}_PowerOutput.csv\").columns.str.split(\"_\").str[1].unique().sort_values()"
   ]
  },
  {
   "cell_type": "code",
   "execution_count": 19,
   "id": "0def0845",
   "metadata": {},
   "outputs": [
    {
     "data": {
      "text/html": [
       "<div>\n",
       "<style scoped>\n",
       "    .dataframe tbody tr th:only-of-type {\n",
       "        vertical-align: middle;\n",
       "    }\n",
       "\n",
       "    .dataframe tbody tr th {\n",
       "        vertical-align: top;\n",
       "    }\n",
       "\n",
       "    .dataframe thead th {\n",
       "        text-align: right;\n",
       "    }\n",
       "</style>\n",
       "<table border=\"1\" class=\"dataframe\">\n",
       "  <thead>\n",
       "    <tr style=\"text-align: right;\">\n",
       "      <th></th>\n",
       "      <th>LoadLevel</th>\n",
       "      <th>vTotalCCost</th>\n",
       "      <th>vTotalECost</th>\n",
       "      <th>vTotalGCost</th>\n",
       "      <th>vTotalRCost</th>\n",
       "    </tr>\n",
       "  </thead>\n",
       "  <tbody>\n",
       "    <tr>\n",
       "      <th>0</th>\n",
       "      <td>01-01 00:00:00+01:00</td>\n",
       "      <td>0.0</td>\n",
       "      <td>0.000000</td>\n",
       "      <td>0.000047</td>\n",
       "      <td>0.0</td>\n",
       "    </tr>\n",
       "    <tr>\n",
       "      <th>1</th>\n",
       "      <td>01-01 01:00:00+01:00</td>\n",
       "      <td>0.0</td>\n",
       "      <td>0.000000</td>\n",
       "      <td>0.000047</td>\n",
       "      <td>0.0</td>\n",
       "    </tr>\n",
       "    <tr>\n",
       "      <th>2</th>\n",
       "      <td>01-01 02:00:00+01:00</td>\n",
       "      <td>0.0</td>\n",
       "      <td>0.000000</td>\n",
       "      <td>0.000049</td>\n",
       "      <td>0.0</td>\n",
       "    </tr>\n",
       "    <tr>\n",
       "      <th>3</th>\n",
       "      <td>01-01 03:00:00+01:00</td>\n",
       "      <td>0.0</td>\n",
       "      <td>0.000000</td>\n",
       "      <td>0.000053</td>\n",
       "      <td>0.0</td>\n",
       "    </tr>\n",
       "    <tr>\n",
       "      <th>4</th>\n",
       "      <td>01-01 04:00:00+01:00</td>\n",
       "      <td>0.0</td>\n",
       "      <td>0.000486</td>\n",
       "      <td>0.000447</td>\n",
       "      <td>0.0</td>\n",
       "    </tr>\n",
       "    <tr>\n",
       "      <th>...</th>\n",
       "      <td>...</td>\n",
       "      <td>...</td>\n",
       "      <td>...</td>\n",
       "      <td>...</td>\n",
       "      <td>...</td>\n",
       "    </tr>\n",
       "    <tr>\n",
       "      <th>2179</th>\n",
       "      <td>12-09 19:00:00+01:00</td>\n",
       "      <td>0.0</td>\n",
       "      <td>0.001746</td>\n",
       "      <td>0.001455</td>\n",
       "      <td>0.0</td>\n",
       "    </tr>\n",
       "    <tr>\n",
       "      <th>2180</th>\n",
       "      <td>12-09 20:00:00+01:00</td>\n",
       "      <td>0.0</td>\n",
       "      <td>0.001395</td>\n",
       "      <td>0.001174</td>\n",
       "      <td>0.0</td>\n",
       "    </tr>\n",
       "    <tr>\n",
       "      <th>2181</th>\n",
       "      <td>12-09 21:00:00+01:00</td>\n",
       "      <td>0.0</td>\n",
       "      <td>0.000511</td>\n",
       "      <td>0.000466</td>\n",
       "      <td>0.0</td>\n",
       "    </tr>\n",
       "    <tr>\n",
       "      <th>2182</th>\n",
       "      <td>12-09 22:00:00+01:00</td>\n",
       "      <td>0.0</td>\n",
       "      <td>0.000000</td>\n",
       "      <td>0.000053</td>\n",
       "      <td>0.0</td>\n",
       "    </tr>\n",
       "    <tr>\n",
       "      <th>2183</th>\n",
       "      <td>12-09 23:00:00+01:00</td>\n",
       "      <td>0.0</td>\n",
       "      <td>0.000000</td>\n",
       "      <td>0.000049</td>\n",
       "      <td>0.0</td>\n",
       "    </tr>\n",
       "  </tbody>\n",
       "</table>\n",
       "<p>2184 rows × 5 columns</p>\n",
       "</div>"
      ],
      "text/plain": [
       "                 LoadLevel  vTotalCCost  vTotalECost  vTotalGCost  vTotalRCost\n",
       "0     01-01 00:00:00+01:00          0.0     0.000000     0.000047          0.0\n",
       "1     01-01 01:00:00+01:00          0.0     0.000000     0.000047          0.0\n",
       "2     01-01 02:00:00+01:00          0.0     0.000000     0.000049          0.0\n",
       "3     01-01 03:00:00+01:00          0.0     0.000000     0.000053          0.0\n",
       "4     01-01 04:00:00+01:00          0.0     0.000486     0.000447          0.0\n",
       "...                    ...          ...          ...          ...          ...\n",
       "2179  12-09 19:00:00+01:00          0.0     0.001746     0.001455          0.0\n",
       "2180  12-09 20:00:00+01:00          0.0     0.001395     0.001174          0.0\n",
       "2181  12-09 21:00:00+01:00          0.0     0.000511     0.000466          0.0\n",
       "2182  12-09 22:00:00+01:00          0.0     0.000000     0.000053          0.0\n",
       "2183  12-09 23:00:00+01:00          0.0     0.000000     0.000049          0.0\n",
       "\n",
       "[2184 rows x 5 columns]"
      ]
     },
     "execution_count": 19,
     "metadata": {},
     "output_type": "execute_result"
    }
   ],
   "source": [
    "pd.read_csv(f\"../Data/{folder_write}/output_f_{sc}_{exe}_{per}_SystemCosts.csv\")"
   ]
  },
  {
   "cell_type": "code",
   "execution_count": 7,
   "id": "ba528bd5",
   "metadata": {},
   "outputs": [
    {
     "ename": "NameError",
     "evalue": "name 'exe' is not defined",
     "output_type": "error",
     "traceback": [
      "\u001b[1;31m---------------------------------------------------------------------------\u001b[0m",
      "\u001b[1;31mNameError\u001b[0m                                 Traceback (most recent call last)",
      "Cell \u001b[1;32mIn[7], line 1\u001b[0m\n\u001b[1;32m----> 1\u001b[0m outp \u001b[38;5;241m=\u001b[39m pd\u001b[38;5;241m.\u001b[39mread_csv(\u001b[38;5;124mf\u001b[39m\u001b[38;5;124m\"\u001b[39m\u001b[38;5;124m../10.StarNet/RTS24/ClusterResults/Results_PF/0.WoParallel/oT_Output_Data_RTS24_\u001b[39m\u001b[38;5;132;01m{\u001b[39;00mexe\u001b[38;5;132;01m}\u001b[39;00m\u001b[38;5;124m.csv\u001b[39m\u001b[38;5;124m\"\u001b[39m)\n",
      "\u001b[1;31mNameError\u001b[0m: name 'exe' is not defined"
     ]
    }
   ],
   "source": [
    "outp = pd.read_csv(f\"../Data/RTS24_AC_fy_ext_o_dummy/\")\n"
   ]
  }
 ],
 "metadata": {
  "kernelspec": {
   "display_name": "Python 3 (ipykernel)",
   "language": "python",
   "name": "python3"
  },
  "language_info": {
   "codemirror_mode": {
    "name": "ipython",
    "version": 3
   },
   "file_extension": ".py",
   "mimetype": "text/x-python",
   "name": "python",
   "nbconvert_exporter": "python",
   "pygments_lexer": "ipython3",
   "version": "3.10.11"
  }
 },
 "nbformat": 4,
 "nbformat_minor": 5
}
