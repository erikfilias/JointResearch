{
 "cells": [
  {
   "cell_type": "code",
   "execution_count": 41,
   "id": "5b42ea1e",
   "metadata": {},
   "outputs": [],
   "source": [
    "from torch.utils.data import DataLoader, random_split,TensorDataset\n",
    "import torch\n",
    "import pandas as pd\n",
    "import numpy as np\n",
    "import matplotlib.pyplot as plt\n",
    "import NN_classes\n",
    "from torchvision import datasets, transforms\n",
    "import training_methods\n",
    "import DataLoading\n",
    "import pivottablejs\n",
    "%matplotlib inline"
   ]
  },
  {
   "cell_type": "code",
   "execution_count": 2,
   "id": "2cca8e86",
   "metadata": {},
   "outputs": [],
   "source": [
    "#executions = [\"Network_Line_Out_N_101_N_102_cac1\",\"Network_Line_Out_N_102_N_104_cac1\",\"Network_Line_Out_N_101_N_105_cac1\",\"Network_Line_Out_N_102_N_104_cac1\",\"Network_Line_Out_N_102_N_106_cac1\",\"Network_Line_Out_N_103_N_109_cac1\"]\n",
    "#executions = [\"Network_Line_Out_N_101_N_102_cac1\"]\n",
    "#executions = [\"Network_Full_Generation_Full\",\"Network_Line_In_N_101_N_102_cac1\",\"Network_Line_In_N_101_N_103_cac1\",\"Network_Line_In_N_101_N_105_cac1\"]\n",
    "\n",
    "executions = [\"Network_Existing_Generation_Full\"]\n",
    "sc = \"sc01\"\n",
    "period = \"2030\"\n",
    "folder = \"Samples_3-bus_ACOPF\"\n",
    "te_s = 0.1\n",
    "val_s = 0.2"
   ]
  },
  {
   "cell_type": "code",
   "execution_count": 3,
   "id": "2f16d73b",
   "metadata": {},
   "outputs": [
    {
     "name": "stdout",
     "output_type": "stream",
     "text": [
      "Data/input_f_sc01_Network_Existing_Generation_Full_2030.csv\n",
      "23\n"
     ]
    }
   ],
   "source": [
    "dfs_in,dfs_out = DataLoading.load_data(folder,executions,period,sc)"
   ]
  },
  {
   "cell_type": "code",
   "execution_count": 4,
   "id": "468ba0e6",
   "metadata": {},
   "outputs": [],
   "source": [
    "ts_in,ts_out =  DataLoading.split_tr_val_te(dfs_in,dfs_out,executions,te_s,val_s)"
   ]
  },
  {
   "cell_type": "code",
   "execution_count": 5,
   "id": "5d4032fa",
   "metadata": {},
   "outputs": [],
   "source": [
    "d_ft_in, d_ft_out = DataLoading.concat_and_normalize(ts_in,ts_out,executions)"
   ]
  },
  {
   "cell_type": "code",
   "execution_count": 6,
   "id": "da40d56a",
   "metadata": {},
   "outputs": [],
   "source": [
    "train = TensorDataset(d_ft_in['train'].float(), d_ft_out['train'].float())\n",
    "validation = TensorDataset(d_ft_in['val'].float(), d_ft_out['val'].float())\n",
    "\n",
    "training_loader = DataLoader(train,batch_size=32)\n",
    "validation_loader = DataLoader(train,batch_size=32)"
   ]
  },
  {
   "cell_type": "code",
   "execution_count": 61,
   "id": "b2c7391f",
   "metadata": {},
   "outputs": [],
   "source": [
    "def create_model(nb_hidden,input_size,nb_neurons = (0,0)):\n",
    "    if nb_hidden == 0: \n",
    "        m = NN_classes.ObjectiveEstimator_ANN_Single_layer(input_size=input_size,output_size=1)  \n",
    "    elif nb_hidden == 1: \n",
    "        hs1 = int(sqrt(d_ft_in['train'].shape[1]))\n",
    "        m = NN_classes.ObjectiveEstimator_ANN_1hidden_layer(input_size=input_size,hidden_size1=hs1,output_size=1)  \n",
    "    elif nb_hidden == 2: \n",
    "        hs1 = int(sqrt(d_ft_in['train'].shape[1]))\n",
    "        hs2 = int(sqrt(sqrt(d_ft_in['train'].shape[1])))\n",
    "        m = NN_classes.ObjectiveEstimator_ANN_1hidden_layer(input_size=input_size,hidden_size1=hs1,hidden_size2=hs2,output_size=1)\n",
    "    elif nb_hidden == 3:\n",
    "        hs1 = int(d_ft_in['train'].shape[1]/4)\n",
    "        hs2 = int(d_ft_in['train'].shape[1]/16)\n",
    "        hs3 = int(d_ft_in['train'].shape[1]/64)\n",
    "        m = NN_classes.ObjectiveEstimator_ANN_3hidden_layer(input_size=input_size,hidden_size1=hs1,hidden_size2=hs2,hidden_size3=hs3,output_size=1)\n",
    "    return m"
   ]
  },
  {
   "cell_type": "code",
   "execution_count": 62,
   "id": "3fb281c0",
   "metadata": {},
   "outputs": [
    {
     "name": "stdout",
     "output_type": "stream",
     "text": [
      "EPOCH 1:\n",
      "  batch 1 loss: 0.0032111567258834837\n",
      "  batch 101 loss: 0.012612657073186711\n"
     ]
    },
    {
     "name": "stderr",
     "output_type": "stream",
     "text": [
      "C:\\Workdir\\Programs\\Miniconda\\envs\\jr23\\lib\\site-packages\\torch\\nn\\modules\\loss.py:536: UserWarning: Using a target size (torch.Size([32])) that is different to the input size (torch.Size([32, 1])). This will likely lead to incorrect results due to broadcasting. Please ensure they have the same size.\n",
      "  return F.mse_loss(input, target, reduction=self.reduction)\n",
      "C:\\Workdir\\Programs\\Miniconda\\envs\\jr23\\lib\\site-packages\\torch\\nn\\modules\\loss.py:536: UserWarning: Using a target size (torch.Size([17])) that is different to the input size (torch.Size([17, 1])). This will likely lead to incorrect results due to broadcasting. Please ensure they have the same size.\n",
      "  return F.mse_loss(input, target, reduction=self.reduction)\n"
     ]
    },
    {
     "name": "stdout",
     "output_type": "stream",
     "text": [
      "LOSS train 0.008557857948220643 valid 0.0020578145049512386\n",
      "EPOCH 2:\n",
      "  batch 1 loss: 2.2875850554555654e-05\n",
      "  batch 101 loss: 0.0010681938388734124\n",
      "LOSS train 0.000701104408122072 valid 0.0007910191197879612\n",
      "EPOCH 3:\n",
      "  batch 1 loss: 5.996021209284663e-06\n",
      "  batch 101 loss: 0.0002559085060056532\n",
      "LOSS train 0.00017174919970978588 valid 0.00045775194303132594\n",
      "EPOCH 4:\n",
      "  batch 1 loss: 3.2042386010289193e-06\n",
      "  batch 101 loss: 8.284999760689971e-05\n",
      "LOSS train 5.905812621893873e-05 valid 7.574815390398726e-05\n"
     ]
    },
    {
     "name": "stderr",
     "output_type": "stream",
     "text": [
      "C:\\Workdir\\Programs\\Miniconda\\envs\\jr23\\lib\\site-packages\\torch\\nn\\modules\\loss.py:536: UserWarning: Using a target size (torch.Size([874])) that is different to the input size (torch.Size([874, 1])). This will likely lead to incorrect results due to broadcasting. Please ensure they have the same size.\n",
      "  return F.mse_loss(input, target, reduction=self.reduction)\n",
      "C:\\Workdir\\Programs\\Miniconda\\envs\\jr23\\lib\\site-packages\\torch\\nn\\modules\\loss.py:536: UserWarning: Using a target size (torch.Size([6289])) that is different to the input size (torch.Size([6289, 1])). This will likely lead to incorrect results due to broadcasting. Please ensure they have the same size.\n",
      "  return F.mse_loss(input, target, reduction=self.reduction)\n",
      "C:\\Workdir\\Programs\\Miniconda\\envs\\jr23\\lib\\site-packages\\torch\\nn\\modules\\loss.py:536: UserWarning: Using a target size (torch.Size([1573])) that is different to the input size (torch.Size([1573, 1])). This will likely lead to incorrect results due to broadcasting. Please ensure they have the same size.\n",
      "  return F.mse_loss(input, target, reduction=self.reduction)\n",
      "C:\\Workdir\\Programs\\Miniconda\\envs\\jr23\\lib\\site-packages\\torch\\nn\\init.py:405: UserWarning: Initializing zero-element tensors is a no-op\n",
      "  warnings.warn(\"Initializing zero-element tensors is a no-op\")\n"
     ]
    },
    {
     "name": "stdout",
     "output_type": "stream",
     "text": [
      "EPOCH 1:\n",
      "  batch 1 loss: 7.598357001370459e-09\n",
      "  batch 101 loss: 3.5267525583027036e-06\n",
      "LOSS train 1.8042565276598634e-06 valid 1.8270878854309558e-07\n",
      "EPOCH 2:\n",
      "  batch 1 loss: 1.7451772293952671e-09\n",
      "  batch 101 loss: 1.1701225131055537e-07\n",
      "LOSS train 7.893608026330289e-08 valid 1.0667744732018036e-07\n",
      "EPOCH 3:\n",
      "  batch 1 loss: 9.498042174982402e-10\n",
      "  batch 101 loss: 9.928076639464934e-08\n",
      "LOSS train 6.448141113781532e-08 valid 4.4329382831165276e-08\n",
      "EPOCH 4:\n",
      "  batch 1 loss: 2.7932307133937684e-10\n",
      "  batch 101 loss: 1.5157064648718687e-07\n",
      "LOSS train 1.2346435350678596e-07 valid 5.392543656057569e-08\n",
      "EPOCH 1:\n",
      "  batch 1 loss: 0.0013920286297798158\n",
      "  batch 101 loss: 0.011484130586068205\n",
      "LOSS train 0.006969355547811445 valid 0.0008482186240144074\n",
      "EPOCH 2:\n",
      "  batch 1 loss: 5.344028468243778e-06\n",
      "  batch 101 loss: 0.0004247836484319123\n",
      "LOSS train 0.0005061481445912523 valid 0.0008557186811231077\n",
      "EPOCH 3:\n",
      "  batch 1 loss: 1.9671343034133315e-06\n",
      "  batch 101 loss: 0.0011325031315573143\n",
      "LOSS train 0.0020200581764094686 valid 0.0021223213989287615\n",
      "EPOCH 4:\n",
      "  batch 1 loss: 3.656376851722598e-05\n",
      "  batch 101 loss: 0.04986433163459878\n",
      "LOSS train 0.02885928132460774 valid 0.0019479145994409919\n",
      "EPOCH 1:\n",
      "  batch 1 loss: 7.598357001370459e-09\n",
      "  batch 101 loss: 6.484566458188068e-05\n",
      "LOSS train 3.2936733340913424e-05 valid 1.6291983229166362e-07\n",
      "EPOCH 2:\n",
      "  batch 1 loss: 1.5391950114462816e-09\n",
      "  batch 101 loss: 8.724547989391596e-08\n",
      "LOSS train 6.037761759368691e-08 valid 1.6327339835697785e-07\n",
      "EPOCH 3:\n",
      "  batch 1 loss: 1.542880454508122e-09\n",
      "  batch 101 loss: 9.643946196291608e-08\n",
      "LOSS train 6.188615216562161e-08 valid 4.311463186468245e-08\n",
      "EPOCH 4:\n",
      "  batch 1 loss: 2.657102271541589e-10\n",
      "  batch 101 loss: 1.542105683949302e-07\n",
      "LOSS train 1.2409942332979863e-07 valid 5.547791204207897e-08\n",
      "EPOCH 1:\n",
      "  batch 1 loss: 0.0014311155676841735\n",
      "  batch 101 loss: 0.3816551314172102\n",
      "LOSS train 0.19483198470511456 valid 0.00027658470207825303\n",
      "EPOCH 2:\n",
      "  batch 1 loss: 3.245632105972618e-06\n",
      "  batch 101 loss: 0.00042038373689138095\n",
      "LOSS train 0.0002923924150429211 valid 8.917420927900821e-05\n",
      "EPOCH 3:\n",
      "  batch 1 loss: 2.8559044949361125e-07\n",
      "  batch 101 loss: 0.0003804215412765188\n",
      "LOSS train 0.0006931978227955281 valid 0.0010643728310242295\n",
      "EPOCH 4:\n",
      "  batch 1 loss: 3.297508810646832e-06\n",
      "  batch 101 loss: 0.0027679151567281224\n",
      "LOSS train 0.00397838416130685 valid 0.0042104218155145645\n",
      "EPOCH 1:\n",
      "  batch 1 loss: 7.598357001370459e-09\n",
      "  batch 101 loss: 0.0010746598370171335\n",
      "LOSS train 0.0005455558131975714 valid 1.551010342382142e-07\n",
      "EPOCH 2:\n",
      "  batch 1 loss: 1.457648011182755e-09\n",
      "  batch 101 loss: 7.921439272973174e-08\n",
      "LOSS train 5.5102622062501104e-08 valid 1.740781669923308e-07\n",
      "EPOCH 3:\n",
      "  batch 1 loss: 1.655409107570449e-09\n",
      "  batch 101 loss: 9.318774020883324e-08\n",
      "LOSS train 6.000231088637311e-08 valid 4.004807152568901e-08\n",
      "EPOCH 4:\n",
      "  batch 1 loss: 2.310797064808412e-10\n",
      "  batch 101 loss: 1.584751797389927e-07\n",
      "LOSS train 1.3084249057593987e-07 valid 5.937912561648773e-08\n",
      "EPOCH 1:\n",
      "  batch 1 loss: 0.0002964998967945576\n",
      "  batch 101 loss: 7.810345204868354\n",
      "LOSS train 3.98428163238976 valid 0.10232172906398773\n",
      "EPOCH 2:\n",
      "  batch 1 loss: 0.0007681470364332199\n",
      "  batch 101 loss: 0.017977868894740824\n",
      "LOSS train 0.009727910498002318 valid 0.00021915098477620631\n",
      "EPOCH 3:\n",
      "  batch 1 loss: 9.002620208775625e-07\n",
      "  batch 101 loss: 0.00035239556684246053\n",
      "LOSS train 0.0004420304710365968 valid 0.0005661718314513564\n",
      "EPOCH 4:\n",
      "  batch 1 loss: 1.2890018115285784e-06\n",
      "  batch 101 loss: 0.0017603542528922844\n",
      "LOSS train 0.002725750242387932 valid 0.0022442126646637917\n",
      "EPOCH 1:\n",
      "  batch 1 loss: 7.598357001370459e-09\n",
      "  batch 101 loss: 0.017347024958151394\n",
      "LOSS train 0.008805919796393853 valid 1.5021299759609974e-07\n",
      "EPOCH 2:\n",
      "  batch 1 loss: 1.406616263466276e-09\n",
      "  batch 101 loss: 7.724726081903555e-08\n",
      "LOSS train 5.380958643694721e-08 valid 1.7618140191189013e-07\n",
      "EPOCH 3:\n",
      "  batch 1 loss: 1.6772938238318602e-09\n",
      "  batch 101 loss: 9.218936349864038e-08\n",
      "LOSS train 5.9491301396714756e-08 valid 3.89911498643869e-08\n",
      "EPOCH 4:\n",
      "  batch 1 loss: 2.1903787228438887e-10\n",
      "  batch 101 loss: 1.589186907136053e-07\n",
      "LOSS train 1.319555559191621e-07 valid 5.923027757148702e-08\n"
     ]
    }
   ],
   "source": [
    "learning_rates = [0.01*4**i for i in range(4)]\n",
    "loss_fn = torch.nn.MSELoss()\n",
    "nbs_e = [4]#,4,8]\n",
    "i=0\n",
    "nbs_hidden = [0,3]\n",
    "results = pd.DataFrame()\n",
    "for nb_e in nbs_e:\n",
    "    for lr in learning_rates:\n",
    "        for nb_hidden in nbs_hidden: \n",
    "            m = create_model(nb_hidden,input_size=d_ft_in['train'].shape[1])\n",
    "            m_name = f\"OE_{nb_hidden}h_{nb_e}e_{lr}lr\"\n",
    "            optimizer = torch.optim.Adam(m.parameters(), lr=lr)\n",
    "            train_loss = training_methods.train_multiple_epochs(nb_e,m,training_loader,validation_loader,loss_fn,optimizer,m_name,True)\n",
    "            \n",
    "            saved_models = dict()\n",
    "            \n",
    "            for mt in [\"min_val\",\"all_epochs\"]:\n",
    "                path = f\"trained_models/{mt}/model_{m_name}.pth\"\n",
    "\n",
    "                \n",
    "                model = m\n",
    "                m.load_state_dict(torch.load(path))\n",
    "                m.eval()\n",
    "\n",
    "                test_predictions = m(d_ft_in[\"test\"].float())\n",
    "                test_loss = loss_fn(test_predictions,d_ft_out[\"test\"])\n",
    "                \n",
    "                train_predictions = m(d_ft_in[\"train\"].float())\n",
    "                train_loss = loss_fn(train_predictions,d_ft_out[\"train\"])\n",
    "                \n",
    "                validation_prediction = m(d_ft_in[\"val\"].float())\n",
    "                validation_loss = loss_fn(validation_prediction,d_ft_out[\"val\"])\n",
    "\n",
    "                if mt == \"min_val\": \n",
    "                    min_val = True\n",
    "                else: \n",
    "                    min_val = False\n",
    "\n",
    "                r = pd.DataFrame({\"Model_type\": nb_hidden,\"Min_val\":min_val,\"Epochs\": nb_e,\"Lr\":lr, \"Tr_l\":train_loss.item(),\"Te_l\":test_loss.item(),\"V_l\": validation_loss.item()},index = [i]\n",
    "                )\n",
    "                i+=1\n",
    "                results = pd.concat([results,r])"
   ]
  },
  {
   "cell_type": "code",
   "execution_count": 73,
   "id": "32866c3f",
   "metadata": {},
   "outputs": [
    {
     "data": {
      "text/plain": [
       "array([<Axes: title={'center': 'Te_l'}, xlabel='[Model_type, Min_val]'>,\n",
       "       <Axes: >], dtype=object)"
      ]
     },
     "execution_count": 73,
     "metadata": {},
     "output_type": "execute_result"
    },
    {
     "data": {
      "image/png": "[encoded data removed]",
      "text/plain": [
       "<Figure size 640x480 with 2 Axes>"
      ]
     },
     "metadata": {},
     "output_type": "display_data"
    }
   ],
   "source": [
    "results.boxplot(column = [\"Te_l\"],by = [\"Model_type\",\"Min_val\"],layout = (2,1),sharey = False)"
   ]
  },
  {
   "cell_type": "code",
   "execution_count": 35,
   "id": "e0e0a6fd",
   "metadata": {},
   "outputs": [
    {
     "data": {
      "text/html": [
       "\n",
       "        <iframe\n",
       "            width=\"100%\"\n",
       "            height=\"500\"\n",
       "            src=\"pivottablejs.html\"\n",
       "            frameborder=\"0\"\n",
       "            allowfullscreen\n",
       "            \n",
       "        ></iframe>\n",
       "        "
      ],
      "text/plain": [
       "<IPython.lib.display.IFrame at 0x2b9af08fc40>"
      ]
     },
     "execution_count": 35,
     "metadata": {},
     "output_type": "execute_result"
    }
   ],
   "source": [
    "pivottablejs.pivot_ui(results)"
   ]
  }
 ],
 "metadata": {
  "kernelspec": {
   "display_name": "Python 3 (ipykernel)",
   "language": "python",
   "name": "python3"
  },
  "language_info": {
   "codemirror_mode": {
    "name": "ipython",
    "version": 3
   },
   "file_extension": ".py",
   "mimetype": "text/x-python",
   "name": "python",
   "nbconvert_exporter": "python",
   "pygments_lexer": "ipython3",
   "version": "3.10.11"
  }
 },
 "nbformat": 4,
 "nbformat_minor": 5
}
