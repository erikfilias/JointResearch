{
 "cells": [
  {
   "cell_type": "code",
   "execution_count": 31,
   "id": "e79d640b",
   "metadata": {},
   "outputs": [],
   "source": [
    "import pandas as pd\n",
    "import DataLoading\n",
    "import os\n",
    "import glob\n",
    "import numpy as np"
   ]
  },
  {
   "cell_type": "code",
   "execution_count": 32,
   "id": "c24459e7",
   "metadata": {},
   "outputs": [],
   "source": [
    "def units_to_keep_Power_Output():\n",
    "    generation_types = pd.read_csv(\"../Data/Samples_RTS24_ACOPF/oT_Data_Generation_Technology_RTS24.csv\")\n",
    "    unwanted_gen_types = [\"Hydro\", \"Solar\",\"Wind\"]\n",
    "    units_kept = generation_types[~generation_types.Technology.isin(unwanted_gen_types)]\n",
    "    return units_kept"
   ]
  },
  {
   "cell_type": "code",
   "execution_count": 33,
   "id": "0a589482",
   "metadata": {},
   "outputs": [],
   "source": [
    "def list_executions_from_Starnet_results(folder, case): \n",
    "    filenames = glob.glob(pathname=\"oT_Input*\",root_dir=folder)\n",
    "    executions = [fn.split(case)[1][1:-4] for fn in filenames]\n",
    "    return executions\n"
   ]
  },
  {
   "cell_type": "code",
   "execution_count": 34,
   "id": "7e1ed04f",
   "metadata": {},
   "outputs": [],
   "source": [
    "def list_investments_candidates_from_execs(executions): \n",
    "    l = [execution.strip(\"12345\").strip(\"_cac\") for execution in executions if execution != \"Network_Existing_Generation_Full\"]\n",
    "    \n",
    "#     return list(set(l))\n",
    "    return np.unique(l)"
   ]
  },
  {
   "cell_type": "code",
   "execution_count": 35,
   "id": "d6d82a59",
   "metadata": {},
   "outputs": [],
   "source": [
    "#Create list of the types of output \n",
    "outp_types = outp.Dataset.unique()\n",
    "#Create dictionary for different output types \n",
    "outps_f=dict() \n",
    "\n",
    "#When the output type is PowerOutput, we want to keep only the dispatchable units?\n",
    "if key == \"PowerOutput\": \n",
    "    #For now, we don't filter on dipatchable units\n",
    "    pass\n",
    "\n"
   ]
  },
  {
   "cell_type": "code",
   "execution_count": 19,
   "id": "519ff9ff",
   "metadata": {},
   "outputs": [],
   "source": [
    "#Input stuff \n",
    "\n",
    "folder_read = \"../10.StarNet/RTS24/ClusterResults/Results_PF/0.WoParallel/\"\n",
    "case = \"RTS24\"\n",
    "\n",
    "executions = list_executions_from_Starnet_results(folder_read,case)\n",
    "ics = list_investments_candidates_from_execs(executions)\n",
    "\n",
    "folder_write = \"RTS24_AC_12w_ext_o_dummy\"\n",
    "per = 2030\n",
    "sc = \"sc01\"\n",
    "exe = executions[0]\n",
    "\n",
    "\n",
    "\n",
    "inp =  pd.read_csv(f\"../10.StarNet/RTS24/ClusterResults/Results_PF/0.WoParallel/oT_Input_Data_RTS24_{exe}.csv\")\n",
    "\n",
    "generation_types = pd.read_csv(\"../Data/Samples_RTS24_ACOPF/oT_Data_Generation_Technology_RTS24.csv\")\n",
    "techs_kept = [\"Hydro\", \"Solar\",\"Wind\"]\n",
    "variables = inp.Variable.unique()\n",
    "variables_to_drop_i = np.unique(generation_types[~generation_types.Technology.isin(techs_kept)].Unit)\n",
    "variables_to_keep_i = [v for v in variables if v not in(variables_to_drop_i)]\n",
    "\n",
    "#Filter the main frame on desired parameters: \n",
    "f_i_datasets = ~inp.Dataset.str.startswith('Matrix')\n",
    "f_i_tech = (inp.Variable.isin(variables_to_keep_i))\n",
    "f_i = (f_i_datasets) & (f_i_tech)\n",
    "#input_f = pd.DataFrame(all_input[f_i])\n",
    "inp_f_p = inp[f_i].pivot(index = \"LoadLevel\",columns = [\"Variable\"],values = \"Value\")\n",
    "for ic in ics:\n",
    "    if ic == exe.strip(\"12345\").strip(\"_cac\"):\n",
    "        inp_f_p[ic] = exe[-1]\n",
    "    else: \n",
    "        inp_f_p[ic] = 0\n",
    "inp_f_p.to_csv(f\"../Data/{folder_write}/input_f_{sc}_{exe}_{per}.csv\")\n"
   ]
  },
  {
   "cell_type": "code",
   "execution_count": 30,
   "id": "416277ec",
   "metadata": {},
   "outputs": [
    {
     "name": "stdout",
     "output_type": "stream",
     "text": [
      "13104\n",
      "8736\n"
     ]
    }
   ],
   "source": [
    "##Output stuff\n",
    "folder = \"RTS24_AC_12w_ext_o_dummy\"\n",
    "per = 2030\n",
    "sc = \"sc01\"\n",
    "\n",
    "exe = executions[0]\n",
    "\n",
    "#Read the output file into dataframe for a given execution\n",
    "outp = pd.read_csv(f\"../10.StarNet/RTS24/ClusterResults/Results_PF/oT_Output_Data_RTS24_{exe}.csv\")\n",
    "\n",
    "#loop over output types\n",
    "for key in [\"SystemCosts\",\"PowerOutput\",\"PowerFlow\"]:\n",
    "    \n",
    "    #Select one of the output types  and create a filter for the full frame\n",
    "#     key = outp_types[1]\n",
    "    f_o = (outp.Dataset == key)\n",
    "    \n",
    "    if key == \"SystemCosts\":\n",
    "        variables_to_keep_o = [\"vTotalCCost\",\"vTotalECost\",\"vTotalGCost\",\"vTotalRCost\"]\n",
    "        print(sum(f_o))\n",
    "        f_o = f_o & (outp.Variable.isin(variables_to_keep_o))\n",
    "        print(sum(f_o))\n",
    "\n",
    "\n",
    "    #Assign the filtered frame to a new frame\n",
    "    outp_f= outp[f_o]\n",
    "    #Pivot the filtered frame to have one row per timestamp, and one column per data type \n",
    "    outp_f_p = outp_f.pivot(index = \"LoadLevel\",columns=[\"Variable\"],values = \"Value\")\n",
    "    #Store result in a csv file \n",
    "    outp_f_p.to_csv(f\"../Data/{folder}/output_f_{sc}_{exe}_{per}_{key}.csv\")"
   ]
  }
 ],
 "metadata": {
  "kernelspec": {
   "display_name": "Python 3 (ipykernel)",
   "language": "python",
   "name": "python3"
  },
  "language_info": {
   "codemirror_mode": {
    "name": "ipython",
    "version": 3
   },
   "file_extension": ".py",
   "mimetype": "text/x-python",
   "name": "python",
   "nbconvert_exporter": "python",
   "pygments_lexer": "ipython3",
   "version": "3.10.11"
  }
 },
 "nbformat": 4,
 "nbformat_minor": 5
}
