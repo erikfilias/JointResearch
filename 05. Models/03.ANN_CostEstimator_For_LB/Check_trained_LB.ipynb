{
 "cells": [
  {
   "cell_type": "code",
   "execution_count": 93,
   "id": "7591887e",
   "metadata": {},
   "outputs": [],
   "source": [
    "import pandas as pd\n",
    "import DataLoading\n",
    "import NN_classes\n",
    "import torch\n",
    "import matplotlib.pyplot as plt\n",
    "import numpy as np"
   ]
  },
  {
   "cell_type": "code",
   "execution_count": 33,
   "id": "a644506a",
   "metadata": {
    "collapsed": true
   },
   "outputs": [
    {
     "name": "stdout",
     "output_type": "stream",
     "text": [
      "input_f_sc01_Network_Existing_Generation_Full_2030.csv\n",
      "86\n",
      "input_f_sc01_Network_Line_In_N_101_N_102_cac1_2030.csv\n",
      "86\n",
      "input_f_sc01_Network_Line_In_N_101_N_103_cac1_2030.csv\n",
      "86\n",
      "input_f_sc01_Network_Line_In_N_101_N_105_cac1_2030.csv\n",
      "86\n",
      "input_f_sc01_Network_Line_In_N_102_N_104_cac1_2030.csv\n",
      "86\n",
      "input_f_sc01_Network_Line_In_N_102_N_106_cac1_2030.csv\n",
      "86\n",
      "input_f_sc01_Network_Line_In_N_103_N_109_cac1_2030.csv\n",
      "86\n",
      "input_f_sc01_Network_Line_In_N_103_N_124_cac1_2030.csv\n",
      "86\n",
      "input_f_sc01_Network_Line_In_N_104_N_109_cac1_2030.csv\n",
      "86\n",
      "input_f_sc01_Network_Line_In_N_105_N_110_cac1_2030.csv\n",
      "86\n",
      "input_f_sc01_Network_Line_In_N_106_N_108_cac1_2030.csv\n",
      "86\n",
      "input_f_sc01_Network_Line_In_N_106_N_110_cac1_2030.csv\n",
      "86\n",
      "input_f_sc01_Network_Line_In_N_107_N_108_cac1_2030.csv\n",
      "86\n",
      "input_f_sc01_Network_Line_In_N_108_N_109_cac1_2030.csv\n",
      "86\n",
      "input_f_sc01_Network_Line_In_N_108_N_110_cac1_2030.csv\n",
      "86\n",
      "input_f_sc01_Network_Line_In_N_109_N_111_cac1_2030.csv\n",
      "86\n",
      "input_f_sc01_Network_Line_In_N_109_N_112_cac1_2030.csv\n",
      "86\n",
      "input_f_sc01_Network_Line_In_N_110_N_111_cac1_2030.csv\n",
      "86\n",
      "input_f_sc01_Network_Line_In_N_110_N_112_cac1_2030.csv\n",
      "86\n",
      "input_f_sc01_Network_Line_In_N_111_N_113_cac1_2030.csv\n",
      "86\n",
      "input_f_sc01_Network_Line_In_N_111_N_114_cac1_2030.csv\n",
      "86\n",
      "input_f_sc01_Network_Line_In_N_112_N_113_cac1_2030.csv\n",
      "86\n",
      "input_f_sc01_Network_Line_In_N_112_N_123_cac1_2030.csv\n",
      "86\n",
      "input_f_sc01_Network_Line_In_N_113_N_123_cac1_2030.csv\n",
      "86\n",
      "input_f_sc01_Network_Line_In_N_114_N_116_cac1_2030.csv\n",
      "86\n",
      "input_f_sc01_Network_Line_In_N_115_N_116_cac1_2030.csv\n",
      "86\n",
      "input_f_sc01_Network_Line_In_N_115_N_121_cac1_2030.csv\n",
      "86\n",
      "input_f_sc01_Network_Line_In_N_115_N_121_cac2_2030.csv\n",
      "86\n",
      "input_f_sc01_Network_Line_In_N_115_N_124_cac1_2030.csv\n",
      "86\n",
      "input_f_sc01_Network_Line_In_N_116_N_117_cac1_2030.csv\n",
      "86\n",
      "input_f_sc01_Network_Line_In_N_116_N_119_cac1_2030.csv\n",
      "86\n",
      "input_f_sc01_Network_Line_In_N_117_N_118_cac1_2030.csv\n",
      "86\n",
      "input_f_sc01_Network_Line_In_N_117_N_122_cac1_2030.csv\n",
      "86\n",
      "input_f_sc01_Network_Line_In_N_118_N_121_cac1_2030.csv\n",
      "86\n",
      "input_f_sc01_Network_Line_In_N_118_N_121_cac2_2030.csv\n",
      "86\n",
      "input_f_sc01_Network_Line_In_N_119_N_120_cac1_2030.csv\n",
      "86\n",
      "input_f_sc01_Network_Line_In_N_119_N_120_cac2_2030.csv\n",
      "86\n",
      "input_f_sc01_Network_Line_In_N_120_N_123_cac1_2030.csv\n",
      "86\n",
      "input_f_sc01_Network_Line_In_N_120_N_123_cac2_2030.csv\n",
      "86\n",
      "input_f_sc01_Network_Line_In_N_121_N_122_cac1_2030.csv\n",
      "86\n"
     ]
    }
   ],
   "source": [
    "sc = \"sc01\"\n",
    "period = \"2030\"\n",
    "folder = \"../Data/RTS24_AC_12w_ext_o_dummy/\"\n",
    "all_executions = DataLoading.list_executions(folder=folder,per = period,sc=sc)\n",
    "te_s = 0.3\n",
    "val_s = 0.4\n",
    "dfs_in, dfs_out, dfs_inter = DataLoading.load_data_ext_out(folder, all_executions, period, sc, [\"PowerFlow\"],\"LB\")\n",
    "dfs_inter_j = DataLoading.join_frames_inter_layer(dfs_inter)\n",
    "dfs_inter_j = DataLoading.trim_columns_to_common(dfs_inter_j)\n",
    "# Convert to pytorch tensors\n",
    "ts_in, ts_out, ts_inter = DataLoading.split_tr_val_te_ext_out(dfs_in, dfs_out, dfs_inter_j, all_executions, te_s, val_s)\n",
    "d_ft_in, d_ft_out, d_ft_inter,maxs = DataLoading.concat_and_normalize_ext_out(ts_in, ts_out, ts_inter, all_executions)\n",
    "\n",
    "input_size = dfs_in[\"Network_Existing_Generation_Full\"].shape[1]\n",
    "inter_size = dfs_inter_j[\"Network_Existing_Generation_Full\"].shape[1]"
   ]
  },
  {
   "cell_type": "code",
   "execution_count": 34,
   "id": "0e8d7b66",
   "metadata": {},
   "outputs": [],
   "source": [
    "def calculate_lb_from_dfs_out(dfs_out,execution): \n",
    "    return (dfs_out[\"Network_Existing_Generation_Full\"].sum(axis=1) - dfs_out[execution].sum(axis=1))\n",
    "\n",
    "def calculate_lb_from_ts_out(ts_out,ex):\n",
    "    b= \"Network_Existing_Generation_Full\"\n",
    "    all_ts_out_ex = torch.concat((ts_out[\"train\"][ex],ts_out[\"test\"][ex],ts_out[\"val\"][ex]))\n",
    "    all_ts_out_benchmark = torch.concat((ts_out[\"train\"][b],ts_out[\"test\"][b],ts_out[\"val\"][b]))\n",
    "    return all_ts_out_benchmark-all_ts_out_ex\n",
    "    \n",
    "\n",
    "def find_xthbest_model_params_from_df(df_losses,loss_to_sort,xth_best=1):\n",
    "    return df_losses.sort_values(by =loss_to_sort)[xth_best-1:xth_best]\n",
    "\n",
    "def create_model_and_load_state_from_row(row,input_size,inter_size,hyperloop_name,cluster_run = True):\n",
    "    #First, extract params from row\n",
    "    model_type = row.Model_type.item()\n",
    "    model_type = tuple(map(int, model_type.replace(\"(\",\"\").replace(\")\",\"\").split(', ')))\n",
    "    dor = row.Dor.item()\n",
    "    lr = row.Lr.item()\n",
    "    nb_e = row.Epochs.item()\n",
    "\n",
    "    relu_out = row.Relu_out.item()\n",
    "    np =row.Np.item()\n",
    "    bs = row.Batch_size.item()\n",
    "    alpha = row.alpha.item()\n",
    "    MAE = row.MAE.item()\n",
    "    \n",
    "    if str(alpha) == \"0.0\": \n",
    "        alpha = \"0\"\n",
    "\n",
    "    if row.Min_val.item(): \n",
    "        mt = \"min_val\"\n",
    "    else: \n",
    "        mt = \"all_epochs\"\n",
    "    \n",
    "    #Then create model of given type\n",
    "    m = NN_classes.create_model(model_type,input_size, dropout_ratio= dor,relu_out =relu_out,inter=True,inter_size=inter_size)\n",
    "    \n",
    "    #Finally, extract model state from dict\n",
    "    \n",
    "    #m_name = f\"OE_{model_type}h_{nb_e}e_{lr}lr_{dor}dor_{np}np_{relu_out}_ro_{bs}bs\"\n",
    "    m_name = f\"OE_{model_type}h_{nb_e}e_{lr}lr_{dor}dor_{np}np_{relu_out}ro_{bs}bs_{alpha}ill_{MAE}MAE\"\n",
    "\n",
    "    if cluster_run:\n",
    "        #m_name = f\"OE_{model_type}h_{nb_e}e_{lr}lr_{dor}dor_{np}np_{relu_out}_ro_{bs}bs\"\n",
    "        path = f\"ResultsClusterRuns/trained_models/{hyperloop_name}/{mt}/model_{m_name}.pth\"\n",
    "    else:\n",
    "        path = f\"trained_models/{hyperloop_name}/{mt}/model_{m_name}.pth\"\n",
    "\n",
    "    m.load_state_dict(torch.load(path))\n",
    "    m.eval()\n",
    "    \n",
    "    return m"
   ]
  },
  {
   "cell_type": "code",
   "execution_count": 67,
   "id": "8ce4fac9",
   "metadata": {},
   "outputs": [],
   "source": [
    "hyperloop_name = \"RTS24_AC_12w_dummy_0.3_v0.4_PF_LB_0_40\"\n",
    "#df_losses = pd.read_csv(f\"Loss_results_csv/{hyperloop_name}.csv\",index_col=0)\n",
    "df_losses = pd.read_csv(f\"ResultsClusterRuns/Loss_results_csv/{hyperloop_name}.csv\",index_col=0)"
   ]
  },
  {
   "cell_type": "code",
   "execution_count": 114,
   "id": "e5e3589d",
   "metadata": {},
   "outputs": [
    {
     "name": "stdout",
     "output_type": "stream",
     "text": [
      "[172, 258, 62, 38]\n"
     ]
    },
    {
     "name": "stderr",
     "output_type": "stream",
     "text": [
      "C:\\Workdir\\Programs\\Miniconda\\envs\\jr23\\lib\\site-packages\\torch\\_tensor.py:852: RuntimeWarning: invalid value encountered in multiply\n",
      "  return self.reciprocal() * other\n"
     ]
    },
    {
     "data": {
      "text/plain": [
       "<matplotlib.legend.Legend at 0x1c2235d7160>"
      ]
     },
     "execution_count": 114,
     "metadata": {},
     "output_type": "execute_result"
    },
    {
     "data": {
      "image/png": "[encoded data removed]",
      "text/plain": [
       "<Figure size 640x480 with 1 Axes>"
      ]
     },
     "metadata": {},
     "output_type": "display_data"
    }
   ],
   "source": [
    "#Visualisation of multiple models in input order\n",
    "\n",
    "cluster_run = True\n",
    "f = df_losses.alpha ==0.0\n",
    "loss_to_sort = \"Te_l_t_mse\"\n",
    "\n",
    "ex = all_executions[1]\n",
    "\n",
    "ex_in = torch.nan_to_num(dfs_in[ex].to_numpy()/maxs[\"in\"])\n",
    "ex_out = dfs_out[ex].sum(axis=1).to_numpy()\n",
    "\n",
    "s = 100\n",
    "e=s+100\n",
    "plt.plot(ex_out[s:e],label = \"Actual\")\n",
    "\n",
    "for xth_best in [1]: \n",
    "    row = find_xthbest_model_params_from_df(df_losses[f],loss_to_sort,xth_best)\n",
    "    m = create_model_and_load_state_from_row(row,input_size,inter_size,hyperloop_name,cluster_run=cluster_run)\n",
    "    prediction = m(ex_in.float())[0].detach().numpy()\n",
    "    plt.plot(prediction[s:e],label = f\"Prediction {xth_best}th best\")\n",
    "plt.legend()"
   ]
  },
  {
   "cell_type": "code",
   "execution_count": 105,
   "id": "b3795d34",
   "metadata": {
    "collapsed": true
   },
   "outputs": [
    {
     "name": "stderr",
     "output_type": "stream",
     "text": [
      "C:\\Workdir\\Programs\\Miniconda\\envs\\jr23\\lib\\site-packages\\torch\\_tensor.py:852: RuntimeWarning: invalid value encountered in multiply\n",
      "  return self.reciprocal() * other\n",
      "C:\\Workdir\\Programs\\Miniconda\\envs\\jr23\\lib\\site-packages\\torch\\_tensor.py:852: RuntimeWarning: invalid value encountered in multiply\n",
      "  return self.reciprocal() * other\n",
      "C:\\Workdir\\Programs\\Miniconda\\envs\\jr23\\lib\\site-packages\\torch\\_tensor.py:852: RuntimeWarning: invalid value encountered in multiply\n",
      "  return self.reciprocal() * other\n",
      "C:\\Workdir\\Programs\\Miniconda\\envs\\jr23\\lib\\site-packages\\torch\\_tensor.py:852: RuntimeWarning: invalid value encountered in multiply\n",
      "  return self.reciprocal() * other\n",
      "C:\\Workdir\\Programs\\Miniconda\\envs\\jr23\\lib\\site-packages\\torch\\_tensor.py:852: RuntimeWarning: invalid value encountered in multiply\n",
      "  return self.reciprocal() * other\n",
      "C:\\Workdir\\Programs\\Miniconda\\envs\\jr23\\lib\\site-packages\\torch\\_tensor.py:852: RuntimeWarning: invalid value encountered in multiply\n",
      "  return self.reciprocal() * other\n",
      "C:\\Workdir\\Programs\\Miniconda\\envs\\jr23\\lib\\site-packages\\torch\\_tensor.py:852: RuntimeWarning: invalid value encountered in multiply\n",
      "  return self.reciprocal() * other\n",
      "C:\\Workdir\\Programs\\Miniconda\\envs\\jr23\\lib\\site-packages\\torch\\_tensor.py:852: RuntimeWarning: invalid value encountered in multiply\n",
      "  return self.reciprocal() * other\n",
      "C:\\Workdir\\Programs\\Miniconda\\envs\\jr23\\lib\\site-packages\\torch\\_tensor.py:852: RuntimeWarning: invalid value encountered in multiply\n",
      "  return self.reciprocal() * other\n",
      "C:\\Workdir\\Programs\\Miniconda\\envs\\jr23\\lib\\site-packages\\torch\\_tensor.py:852: RuntimeWarning: invalid value encountered in multiply\n",
      "  return self.reciprocal() * other\n",
      "C:\\Workdir\\Programs\\Miniconda\\envs\\jr23\\lib\\site-packages\\torch\\_tensor.py:852: RuntimeWarning: invalid value encountered in multiply\n",
      "  return self.reciprocal() * other\n",
      "C:\\Workdir\\Programs\\Miniconda\\envs\\jr23\\lib\\site-packages\\torch\\_tensor.py:852: RuntimeWarning: invalid value encountered in multiply\n",
      "  return self.reciprocal() * other\n",
      "C:\\Workdir\\Programs\\Miniconda\\envs\\jr23\\lib\\site-packages\\torch\\_tensor.py:852: RuntimeWarning: invalid value encountered in multiply\n",
      "  return self.reciprocal() * other\n",
      "C:\\Workdir\\Programs\\Miniconda\\envs\\jr23\\lib\\site-packages\\torch\\_tensor.py:852: RuntimeWarning: invalid value encountered in multiply\n",
      "  return self.reciprocal() * other\n",
      "C:\\Workdir\\Programs\\Miniconda\\envs\\jr23\\lib\\site-packages\\torch\\_tensor.py:852: RuntimeWarning: invalid value encountered in multiply\n",
      "  return self.reciprocal() * other\n",
      "C:\\Workdir\\Programs\\Miniconda\\envs\\jr23\\lib\\site-packages\\torch\\_tensor.py:852: RuntimeWarning: invalid value encountered in multiply\n",
      "  return self.reciprocal() * other\n",
      "C:\\Workdir\\Programs\\Miniconda\\envs\\jr23\\lib\\site-packages\\torch\\_tensor.py:852: RuntimeWarning: invalid value encountered in multiply\n",
      "  return self.reciprocal() * other\n",
      "C:\\Workdir\\Programs\\Miniconda\\envs\\jr23\\lib\\site-packages\\torch\\_tensor.py:852: RuntimeWarning: invalid value encountered in multiply\n",
      "  return self.reciprocal() * other\n",
      "C:\\Workdir\\Programs\\Miniconda\\envs\\jr23\\lib\\site-packages\\torch\\_tensor.py:852: RuntimeWarning: invalid value encountered in multiply\n",
      "  return self.reciprocal() * other\n",
      "C:\\Workdir\\Programs\\Miniconda\\envs\\jr23\\lib\\site-packages\\torch\\_tensor.py:852: RuntimeWarning: invalid value encountered in multiply\n",
      "  return self.reciprocal() * other\n",
      "C:\\Workdir\\Programs\\Miniconda\\envs\\jr23\\lib\\site-packages\\torch\\_tensor.py:852: RuntimeWarning: invalid value encountered in multiply\n",
      "  return self.reciprocal() * other\n",
      "C:\\Workdir\\Programs\\Miniconda\\envs\\jr23\\lib\\site-packages\\torch\\_tensor.py:852: RuntimeWarning: invalid value encountered in multiply\n",
      "  return self.reciprocal() * other\n",
      "C:\\Workdir\\Programs\\Miniconda\\envs\\jr23\\lib\\site-packages\\torch\\_tensor.py:852: RuntimeWarning: invalid value encountered in multiply\n",
      "  return self.reciprocal() * other\n",
      "C:\\Workdir\\Programs\\Miniconda\\envs\\jr23\\lib\\site-packages\\torch\\_tensor.py:852: RuntimeWarning: invalid value encountered in multiply\n",
      "  return self.reciprocal() * other\n",
      "C:\\Workdir\\Programs\\Miniconda\\envs\\jr23\\lib\\site-packages\\torch\\_tensor.py:852: RuntimeWarning: invalid value encountered in multiply\n",
      "  return self.reciprocal() * other\n",
      "C:\\Workdir\\Programs\\Miniconda\\envs\\jr23\\lib\\site-packages\\torch\\_tensor.py:852: RuntimeWarning: invalid value encountered in multiply\n",
      "  return self.reciprocal() * other\n",
      "C:\\Workdir\\Programs\\Miniconda\\envs\\jr23\\lib\\site-packages\\torch\\_tensor.py:852: RuntimeWarning: invalid value encountered in multiply\n",
      "  return self.reciprocal() * other\n",
      "C:\\Workdir\\Programs\\Miniconda\\envs\\jr23\\lib\\site-packages\\torch\\_tensor.py:852: RuntimeWarning: invalid value encountered in multiply\n",
      "  return self.reciprocal() * other\n",
      "C:\\Workdir\\Programs\\Miniconda\\envs\\jr23\\lib\\site-packages\\torch\\_tensor.py:852: RuntimeWarning: invalid value encountered in multiply\n",
      "  return self.reciprocal() * other\n",
      "C:\\Workdir\\Programs\\Miniconda\\envs\\jr23\\lib\\site-packages\\torch\\_tensor.py:852: RuntimeWarning: invalid value encountered in multiply\n",
      "  return self.reciprocal() * other\n",
      "C:\\Workdir\\Programs\\Miniconda\\envs\\jr23\\lib\\site-packages\\torch\\_tensor.py:852: RuntimeWarning: invalid value encountered in multiply\n",
      "  return self.reciprocal() * other\n",
      "C:\\Workdir\\Programs\\Miniconda\\envs\\jr23\\lib\\site-packages\\torch\\_tensor.py:852: RuntimeWarning: invalid value encountered in multiply\n",
      "  return self.reciprocal() * other\n",
      "C:\\Workdir\\Programs\\Miniconda\\envs\\jr23\\lib\\site-packages\\torch\\_tensor.py:852: RuntimeWarning: invalid value encountered in multiply\n",
      "  return self.reciprocal() * other\n",
      "C:\\Workdir\\Programs\\Miniconda\\envs\\jr23\\lib\\site-packages\\torch\\_tensor.py:852: RuntimeWarning: invalid value encountered in multiply\n",
      "  return self.reciprocal() * other\n",
      "C:\\Workdir\\Programs\\Miniconda\\envs\\jr23\\lib\\site-packages\\torch\\_tensor.py:852: RuntimeWarning: invalid value encountered in multiply\n",
      "  return self.reciprocal() * other\n",
      "C:\\Workdir\\Programs\\Miniconda\\envs\\jr23\\lib\\site-packages\\torch\\_tensor.py:852: RuntimeWarning: invalid value encountered in multiply\n",
      "  return self.reciprocal() * other\n",
      "C:\\Workdir\\Programs\\Miniconda\\envs\\jr23\\lib\\site-packages\\torch\\_tensor.py:852: RuntimeWarning: invalid value encountered in multiply\n",
      "  return self.reciprocal() * other\n",
      "C:\\Workdir\\Programs\\Miniconda\\envs\\jr23\\lib\\site-packages\\torch\\_tensor.py:852: RuntimeWarning: invalid value encountered in multiply\n",
      "  return self.reciprocal() * other\n",
      "C:\\Workdir\\Programs\\Miniconda\\envs\\jr23\\lib\\site-packages\\torch\\_tensor.py:852: RuntimeWarning: invalid value encountered in multiply\n",
      "  return self.reciprocal() * other\n",
      "C:\\Workdir\\Programs\\Miniconda\\envs\\jr23\\lib\\site-packages\\torch\\_tensor.py:852: RuntimeWarning: invalid value encountered in multiply\n",
      "  return self.reciprocal() * other\n"
     ]
    }
   ],
   "source": [
    "i=0\n",
    "all_counts = pd.DataFrame()\n",
    "\n",
    "for ex in all_executions:\n",
    "    ex_in = torch.nan_to_num(dfs_in[ex].to_numpy()/maxs[\"in\"])\n",
    "    lb_actual = dfs_out[ex].sum(axis=1).to_numpy().flatten()\n",
    "    \n",
    "    lb_est =  m(ex_in.float())[0].detach().numpy().flatten()\n",
    "    \n",
    "    both_positive_count = np.sum((lb_est > 0) & (lb_actual > 0))\n",
    "    both_negative_count = np.sum((lb_est < 0) & (lb_actual < 0))\n",
    "    opposite_sign_count = np.sum((lb_est * lb_actual) < 0)\n",
    "    BZ = np.sum((lb_est==0) & (lb_actual == 0))\n",
    "    OZ = np.sum((lb_est * lb_actual) == 0)\n",
    "\n",
    "\n",
    "    row_lb = pd.DataFrame({\"exec\":ex,\"BP\":both_positive_count, \"BN\":both_negative_count,\"OS\":opposite_sign_count,\"OZ\":OZ,\"BZ\":BZ,}, index = [i])\n",
    "    all_counts = pd.concat([all_counts,row_lb],axis=0)\n",
    "    i+=1\n",
    "    "
   ]
  },
  {
   "cell_type": "code",
   "execution_count": 115,
   "id": "ceb4047d",
   "metadata": {},
   "outputs": [
    {
     "data": {
      "text/plain": [
       "exec    Network_Existing_Generation_FullNetwork_Line_I...\n",
       "BP                                                  63996\n",
       "BN                                                    196\n",
       "OS                                                  20886\n",
       "OZ                                                   2282\n",
       "BZ                                                      0\n",
       "dtype: object"
      ]
     },
     "execution_count": 115,
     "metadata": {},
     "output_type": "execute_result"
    }
   ],
   "source": [
    "all_counts.sum()"
   ]
  }
 ],
 "metadata": {
  "kernelspec": {
   "display_name": "Python 3 (ipykernel)",
   "language": "python",
   "name": "python3"
  },
  "language_info": {
   "codemirror_mode": {
    "name": "ipython",
    "version": 3
   },
   "file_extension": ".py",
   "mimetype": "text/x-python",
   "name": "python",
   "nbconvert_exporter": "python",
   "pygments_lexer": "ipython3",
   "version": "3.10.11"
  }
 },
 "nbformat": 4,
 "nbformat_minor": 5
}
