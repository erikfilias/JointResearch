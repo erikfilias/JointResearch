{
 "cells": [
  {
   "cell_type": "code",
   "execution_count": 8,
   "id": "9cabea9a",
   "metadata": {},
   "outputs": [],
   "source": [
    "import pandas as pd\n",
    "import DataLoading\n",
    "import NN_classes\n",
    "import NN_evaluation\n",
    "import torch\n",
    "import matplotlib.pyplot as plt\n",
    "import numpy as np"
   ]
  },
  {
   "cell_type": "code",
   "execution_count": 16,
   "id": "e2f7cf15",
   "metadata": {},
   "outputs": [
    {
     "name": "stdout",
     "output_type": "stream",
     "text": [
      "input_f_sc01_Network_Existing_Generation_Full_2030.csv\n",
      "86\n",
      "input_f_sc01_Network_Line_In_N_101_N_102_cac1_2030.csv\n",
      "86\n",
      "input_f_sc01_Network_Line_In_N_101_N_103_cac1_2030.csv\n",
      "86\n",
      "input_f_sc01_Network_Line_In_N_101_N_105_cac1_2030.csv\n",
      "86\n",
      "input_f_sc01_Network_Line_In_N_102_N_104_cac1_2030.csv\n",
      "86\n",
      "input_f_sc01_Network_Line_In_N_102_N_106_cac1_2030.csv\n",
      "86\n",
      "input_f_sc01_Network_Line_In_N_103_N_109_cac1_2030.csv\n",
      "86\n",
      "input_f_sc01_Network_Line_In_N_103_N_124_cac1_2030.csv\n",
      "86\n",
      "input_f_sc01_Network_Line_In_N_104_N_109_cac1_2030.csv\n",
      "86\n",
      "input_f_sc01_Network_Line_In_N_105_N_110_cac1_2030.csv\n",
      "86\n",
      "input_f_sc01_Network_Line_In_N_106_N_108_cac1_2030.csv\n",
      "86\n",
      "input_f_sc01_Network_Line_In_N_106_N_110_cac1_2030.csv\n",
      "86\n",
      "input_f_sc01_Network_Line_In_N_107_N_108_cac1_2030.csv\n",
      "86\n",
      "input_f_sc01_Network_Line_In_N_108_N_109_cac1_2030.csv\n",
      "86\n",
      "input_f_sc01_Network_Line_In_N_108_N_110_cac1_2030.csv\n",
      "86\n",
      "input_f_sc01_Network_Line_In_N_109_N_111_cac1_2030.csv\n",
      "86\n",
      "input_f_sc01_Network_Line_In_N_109_N_112_cac1_2030.csv\n",
      "86\n",
      "input_f_sc01_Network_Line_In_N_110_N_111_cac1_2030.csv\n",
      "86\n",
      "input_f_sc01_Network_Line_In_N_110_N_112_cac1_2030.csv\n",
      "86\n",
      "input_f_sc01_Network_Line_In_N_111_N_113_cac1_2030.csv\n",
      "86\n",
      "input_f_sc01_Network_Line_In_N_111_N_114_cac1_2030.csv\n",
      "86\n",
      "input_f_sc01_Network_Line_In_N_112_N_113_cac1_2030.csv\n",
      "86\n",
      "input_f_sc01_Network_Line_In_N_112_N_123_cac1_2030.csv\n",
      "86\n",
      "input_f_sc01_Network_Line_In_N_113_N_123_cac1_2030.csv\n",
      "86\n",
      "input_f_sc01_Network_Line_In_N_114_N_116_cac1_2030.csv\n",
      "86\n",
      "input_f_sc01_Network_Line_In_N_115_N_116_cac1_2030.csv\n",
      "86\n",
      "input_f_sc01_Network_Line_In_N_115_N_121_cac1_2030.csv\n",
      "86\n",
      "input_f_sc01_Network_Line_In_N_115_N_121_cac2_2030.csv\n",
      "86\n",
      "input_f_sc01_Network_Line_In_N_115_N_124_cac1_2030.csv\n",
      "86\n",
      "input_f_sc01_Network_Line_In_N_116_N_117_cac1_2030.csv\n",
      "86\n",
      "input_f_sc01_Network_Line_In_N_116_N_119_cac1_2030.csv\n",
      "86\n",
      "input_f_sc01_Network_Line_In_N_117_N_118_cac1_2030.csv\n",
      "86\n",
      "input_f_sc01_Network_Line_In_N_117_N_122_cac1_2030.csv\n",
      "86\n",
      "input_f_sc01_Network_Line_In_N_118_N_121_cac1_2030.csv\n",
      "86\n",
      "input_f_sc01_Network_Line_In_N_118_N_121_cac2_2030.csv\n",
      "86\n",
      "input_f_sc01_Network_Line_In_N_119_N_120_cac1_2030.csv\n",
      "86\n",
      "input_f_sc01_Network_Line_In_N_119_N_120_cac2_2030.csv\n",
      "86\n",
      "input_f_sc01_Network_Line_In_N_120_N_123_cac1_2030.csv\n",
      "86\n",
      "input_f_sc01_Network_Line_In_N_120_N_123_cac2_2030.csv\n",
      "86\n",
      "input_f_sc01_Network_Line_In_N_121_N_122_cac1_2030.csv\n",
      "86\n"
     ]
    }
   ],
   "source": [
    "sc = \"sc01\"\n",
    "period = \"2030\"\n",
    "#folder = \"../Data/3-bus_AC_12w_ext_o_dummy_LCOE\"\n",
    "#folder = \"../Data/9n_AC_12w_ext_o_dummy_LCOE\"\n",
    "folder = \"../Data/RTS24_AC_12w_ext_o_dummy_LCOE/\"\n",
    "\n",
    "all_executions = DataLoading.list_executions(folder=folder,per = period,sc=sc)\n",
    "te_s = 0.3\n",
    "val_s = 0.4\n",
    "dfs_in, dfs_out, dfs_inter = DataLoading.load_data_ext_out(folder, all_executions, period, sc, [\"PowerFlow\"])\n",
    "dfs_inter_j = DataLoading.join_frames_inter_layer(dfs_inter)\n",
    "dfs_inter_j = DataLoading.trim_columns_to_common(dfs_inter_j)\n",
    "# Convert to pytorch tensors\n",
    "ts_in, ts_out, ts_inter = DataLoading.split_tr_val_te_ext_out(dfs_in, dfs_out, dfs_inter_j, all_executions, te_s, val_s)\n",
    "d_ft_in, d_ft_out, d_ft_inter,maxs = DataLoading.concat_and_normalize_ext_out(ts_in, ts_out, ts_inter, all_executions)\n",
    "\n"
   ]
  },
  {
   "cell_type": "code",
   "execution_count": 17,
   "id": "db3fc771",
   "metadata": {},
   "outputs": [
    {
     "ename": "FileNotFoundError",
     "evalue": "[WinError 3] The system cannot find the path specified: '../Data/RTS24_AC_fy_ext_o_dummy_LCOE/'",
     "output_type": "error",
     "traceback": [
      "\u001b[1;31m---------------------------------------------------------------------------\u001b[0m",
      "\u001b[1;31mFileNotFoundError\u001b[0m                         Traceback (most recent call last)",
      "Cell \u001b[1;32mIn[17], line 7\u001b[0m\n\u001b[0;32m      3\u001b[0m \u001b[38;5;66;03m#folder = \"../Data/3-bus_AC_fy_ext_o_dummy_LCOE/\"\u001b[39;00m\n\u001b[0;32m      4\u001b[0m \u001b[38;5;66;03m#folder = \"../Data/9n_AC_fy_ext_o_dummy_LCOE/\"\u001b[39;00m\n\u001b[0;32m      5\u001b[0m folder \u001b[38;5;241m=\u001b[39m \u001b[38;5;124m\"\u001b[39m\u001b[38;5;124m../Data/RTS24_AC_fy_ext_o_dummy_LCOE/\u001b[39m\u001b[38;5;124m\"\u001b[39m\n\u001b[1;32m----> 7\u001b[0m all_executions \u001b[38;5;241m=\u001b[39m \u001b[43mDataLoading\u001b[49m\u001b[38;5;241;43m.\u001b[39;49m\u001b[43mlist_executions\u001b[49m\u001b[43m(\u001b[49m\u001b[43mfolder\u001b[49m\u001b[38;5;241;43m=\u001b[39;49m\u001b[43mfolder\u001b[49m\u001b[43m,\u001b[49m\u001b[43mper\u001b[49m\u001b[43m \u001b[49m\u001b[38;5;241;43m=\u001b[39;49m\u001b[43m \u001b[49m\u001b[43mperiod\u001b[49m\u001b[43m,\u001b[49m\u001b[43msc\u001b[49m\u001b[38;5;241;43m=\u001b[39;49m\u001b[43msc\u001b[49m\u001b[43m)\u001b[49m\n\u001b[0;32m      8\u001b[0m dfs_in_fy \u001b[38;5;241m=\u001b[39m DataLoading\u001b[38;5;241m.\u001b[39mload_data_input_only(folder,all_executions,period,sc)\n\u001b[0;32m     10\u001b[0m input_size \u001b[38;5;241m=\u001b[39m dfs_in[\u001b[38;5;124m\"\u001b[39m\u001b[38;5;124mNetwork_Existing_Generation_Full\u001b[39m\u001b[38;5;124m\"\u001b[39m]\u001b[38;5;241m.\u001b[39mshape[\u001b[38;5;241m1\u001b[39m]\n",
      "File \u001b[1;32m~\\OneDrive - KU Leuven\\JointResearch\\05. Models\\03.ANN_CostEstimator_For_LB\\DataLoading.py:8\u001b[0m, in \u001b[0;36mlist_executions\u001b[1;34m(per, sc, folder)\u001b[0m\n\u001b[0;32m      7\u001b[0m \u001b[38;5;28;01mdef\u001b[39;00m \u001b[38;5;21mlist_executions\u001b[39m(per,sc,folder):\n\u001b[1;32m----> 8\u001b[0m     filenames \u001b[38;5;241m=\u001b[39m \u001b[43mos\u001b[49m\u001b[38;5;241;43m.\u001b[39;49m\u001b[43mlistdir\u001b[49m\u001b[43m(\u001b[49m\u001b[38;5;124;43mf\u001b[39;49m\u001b[38;5;124;43m\"\u001b[39;49m\u001b[38;5;132;43;01m{\u001b[39;49;00m\u001b[43mfolder\u001b[49m\u001b[38;5;132;43;01m}\u001b[39;49;00m\u001b[38;5;124;43m\"\u001b[39;49m\u001b[43m)\u001b[49m\n\u001b[0;32m      9\u001b[0m     executions \u001b[38;5;241m=\u001b[39m [fn\u001b[38;5;241m.\u001b[39msplit(per)[\u001b[38;5;241m0\u001b[39m]\u001b[38;5;241m.\u001b[39msplit(sc)[\u001b[38;5;241m1\u001b[39m][\u001b[38;5;241m1\u001b[39m:\u001b[38;5;241m-\u001b[39m\u001b[38;5;241m1\u001b[39m] \u001b[38;5;28;01mfor\u001b[39;00m fn \u001b[38;5;129;01min\u001b[39;00m filenames]\n\u001b[0;32m     10\u001b[0m     \u001b[38;5;28;01mreturn\u001b[39;00m np\u001b[38;5;241m.\u001b[39munique(executions)\n",
      "\u001b[1;31mFileNotFoundError\u001b[0m: [WinError 3] The system cannot find the path specified: '../Data/RTS24_AC_fy_ext_o_dummy_LCOE/'"
     ]
    }
   ],
   "source": [
    "sc = \"sc01\"\n",
    "period = \"2030\"\n",
    "#folder = \"../Data/3-bus_AC_fy_ext_o_dummy_LCOE/\"\n",
    "#folder = \"../Data/9n_AC_fy_ext_o_dummy_LCOE/\"\n",
    "folder = \"../Data/RTS24_AC_fy_ext_o_dummy_LCOE/\"\n",
    "\n",
    "all_executions = DataLoading.list_executions(folder=folder,per = period,sc=sc)\n",
    "dfs_in_fy = DataLoading.load_data_input_only(folder,all_executions,period,sc)\n",
    "\n",
    "input_size = dfs_in[\"Network_Existing_Generation_Full\"].shape[1]\n",
    "inter_size = dfs_inter_j[\"Network_Existing_Generation_Full\"].shape[1]"
   ]
  },
  {
   "cell_type": "code",
   "execution_count": 11,
   "id": "dff81bef",
   "metadata": {},
   "outputs": [],
   "source": [
    "#hyperloop_name = \"3-bus_AC_12w_dummy_0.3_v0.4_PF_LCOE_0_10\"\n",
    "hyperloop_name = \"9n_AC_12w_dummy_0.3_v0.4_PF_LCOE_0_37\"\n",
    "# hyperloop_name = \"RTS24_AC_12w_dummy_0.3_v0.4_PF_sa_rand_0_40\"\n",
    "\n",
    "folder_exports = \"9n_AC_fy_ext_o_dummy_LCOE\"\n",
    "\n",
    "\n",
    "df_losses = pd.read_csv(f\"ResultsClusterRuns/Loss_results_csv/{hyperloop_name}.csv\",index_col=0)\n",
    "#df_losses = pd.read_csv(f\"Loss_results_csv/{hyperloop_name}.csv\",index_col=0)\n"
   ]
  },
  {
   "cell_type": "code",
   "execution_count": 15,
   "id": "71d17c43",
   "metadata": {},
   "outputs": [
    {
     "name": "stdout",
     "output_type": "stream",
     "text": [
      "[54, 19, 12]\n",
      "[54, 81, 19, 12]\n"
     ]
    }
   ],
   "source": [
    "for loss in [\"Te_l_mae\",\"Te_l_t_mse\"]:\n",
    "    for xth_best in [1]:\n",
    "        ##Find and: load model\n",
    "        f = df_losses.alpha ==0.16\n",
    "        # f = df_losses.Model_type == \"(3, 2)\"\n",
    "        loss_to_sort = loss\n",
    "        row = NN_evaluation.find_xthbest_model_params_from_df(df_losses[f],loss_to_sort,xth_best)\n",
    "        m = NN_evaluation.create_model_and_load_state_from_row(row,input_size,inter_size,hyperloop_name,cluster_run=True)\n",
    "\n",
    "        ##Uste model for estimates\n",
    "        df_all_exec = pd.DataFrame()\n",
    "        for ex in all_executions:\n",
    "            prediction = NN_evaluation.get_NN_estimates_from_dfs_in(m,ex,dfs_in_fy,maxs)\n",
    "            #actual= get_actual(ex,dfs_out) \n",
    "            df_all_exec[ex] = prediction\n",
    "\n",
    "        mpd = model_params_dict = NN_evaluation.extract_model_params_from_row(row)\n",
    "        keys = [\"Model_type\",\"nb_e\",\"lr\",\"dor\",\"np\",\"ro\",\"bs\",\"alpha\",\"MAE\", \"Min_val\"]\n",
    "        name = f\"Estimated_OC_fy_{mpd[keys[0]]}h_{mpd[keys[1]]}e_{mpd[keys[2]]}lr_{mpd[keys[3]]}dor_{mpd[keys[4]]}np_{mpd[keys[5]]}ro_{mpd[keys[6]]}bs_{mpd[keys[7]]}ill_{mpd[keys[8]]}MAE_{mpd[keys[9]]}Min_val\"\n",
    "        name = f\"Estimated_OC_fy_{mpd[keys[0]]}h_{mpd[keys[1]]}e_{mpd[keys[2]]}lr_{mpd[keys[3]]}dor_{mpd[keys[4]]}np_{mpd[keys[5]]}ro_{mpd[keys[6]]}bs_{mpd[keys[7]]}ill_{mpd[keys[8]]}MAE\"\n",
    "\n",
    "        #Write exports to csv\n",
    "        df_all_exec.to_csv(f\"NN_estimate_exports/{folder_exports}/{name}.csv\")"
   ]
  },
  {
   "cell_type": "code",
   "execution_count": 7,
   "id": "16de551f",
   "metadata": {},
   "outputs": [
    {
     "ename": "IndexError",
     "evalue": "index 0 is out of bounds for axis 0 with size 0",
     "output_type": "error",
     "traceback": [
      "\u001b[1;31m---------------------------------------------------------------------------\u001b[0m",
      "\u001b[1;31mIndexError\u001b[0m                                Traceback (most recent call last)",
      "Cell \u001b[1;32mIn[7], line 1\u001b[0m\n\u001b[1;32m----> 1\u001b[0m ex \u001b[38;5;241m=\u001b[39m \u001b[43mall_executions\u001b[49m\u001b[43m[\u001b[49m\u001b[38;5;241;43m0\u001b[39;49m\u001b[43m]\u001b[49m\n\u001b[0;32m      3\u001b[0m df_all_exec \u001b[38;5;241m=\u001b[39m pd\u001b[38;5;241m.\u001b[39mDataFrame()\n\u001b[0;32m      4\u001b[0m \u001b[38;5;28;01mfor\u001b[39;00m ex \u001b[38;5;129;01min\u001b[39;00m all_executions:\n",
      "\u001b[1;31mIndexError\u001b[0m: index 0 is out of bounds for axis 0 with size 0"
     ]
    }
   ],
   "source": [
    "ex = all_executions[0]\n",
    "\n",
    "df_all_exec = pd.DataFrame()\n",
    "for ex in all_executions:\n",
    "    prediction = get_NN_estimates_from_dfs_in(m,ex,dfs_in)\n",
    "    #actual= get_actual(ex,dfs_out) \n",
    "    df_all_exec[ex] = prediction\n",
    "\n",
    "mpd = model_params_dict = extract_model_params_from_row(row)\n",
    "keys = [\"Model_type\",\"nb_e\",\"lr\",\"dor\",\"np\",\"ro\",\"bs\",\"alpha\",\"MAE\"]\n",
    "name = f\"Estimated_OC_12w_{mpd[keys[0]]}h_{mpd[keys[1]]}e_{mpd[keys[2]]}lr_{mpd[keys[3]]}dor_{mpd[keys[4]]}np_{mpd[keys[5]]}ro_{mpd[keys[6]]}bs_{mpd[keys[7]]}ill_{mpd[keys[8]]}MAE\"\n",
    "df_all_exec.to_csv(f\"NN_estimate_exports/{name}.csv\")"
   ]
  }
 ],
 "metadata": {
  "kernelspec": {
   "display_name": "Python 3 (ipykernel)",
   "language": "python",
   "name": "python3"
  },
  "language_info": {
   "codemirror_mode": {
    "name": "ipython",
    "version": 3
   },
   "file_extension": ".py",
   "mimetype": "text/x-python",
   "name": "python",
   "nbconvert_exporter": "python",
   "pygments_lexer": "ipython3",
   "version": "3.10.11"
  }
 },
 "nbformat": 4,
 "nbformat_minor": 5
}
