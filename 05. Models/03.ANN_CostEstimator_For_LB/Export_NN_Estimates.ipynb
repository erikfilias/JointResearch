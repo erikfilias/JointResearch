{
 "cells": [
  {
   "cell_type": "code",
   "execution_count": 1,
   "id": "9cabea9a",
   "metadata": {},
   "outputs": [],
   "source": [
    "import pandas as pd\n",
    "import DataLoading\n",
    "import NN_classes\n",
    "import NN_evaluation\n",
    "import torch\n",
    "import matplotlib.pyplot as plt\n",
    "import numpy as np\n",
    "from time import perf_counter"
   ]
  },
  {
   "cell_type": "code",
   "execution_count": 3,
   "id": "e2f7cf15",
   "metadata": {},
   "outputs": [
    {
     "name": "stdout",
     "output_type": "stream",
     "text": [
      "input_f_sc01_Network_Existing_Generation_Full_2030.csv\n",
      "8\n",
      "input_f_sc01_Network_Line_In_Node_1_Node_2_cac1_2030.csv\n",
      "8\n",
      "input_f_sc01_Network_Line_In_Node_1_Node_2_cac2_2030.csv\n",
      "8\n",
      "input_f_sc01_Network_Line_In_Node_1_Node_2_cac3_2030.csv\n",
      "8\n",
      "input_f_sc01_Network_Line_In_Node_1_Node_3_cac1_2030.csv\n",
      "8\n",
      "input_f_sc01_Network_Line_In_Node_1_Node_3_cac2_2030.csv\n",
      "8\n",
      "input_f_sc01_Network_Line_In_Node_1_Node_3_cac3_2030.csv\n",
      "8\n",
      "input_f_sc01_Network_Line_In_Node_2_Node_3_cac1_2030.csv\n",
      "8\n",
      "input_f_sc01_Network_Line_In_Node_2_Node_3_cac2_2030.csv\n",
      "8\n",
      "input_f_sc01_Network_Line_In_Node_2_Node_3_cac3_2030.csv\n",
      "8\n"
     ]
    }
   ],
   "source": [
    "sc = \"sc01\"\n",
    "period = \"2030\"\n",
    "folder = \"../Data/3-bus_AC_12w_ext_o_dummy_LCOE\"\n",
    "#folder = \"../Data/9n_AC_12w_ext_o_dummy_LCOE\"\n",
    "#folder = \"../Data/RTS24_AC_12w_ext_o_dummy_LCOE/\"\n",
    "\n",
    "all_executions = DataLoading.list_executions(folder=folder,per = period,sc=sc)\n",
    "te_s = 0.3\n",
    "val_s = 0.4\n",
    "dfs_in, dfs_out, dfs_inter = DataLoading.load_data_ext_out(folder, all_executions, period, sc, [\"PowerFlow\"])\n",
    "dfs_inter_j = DataLoading.join_frames_inter_layer(dfs_inter)\n",
    "dfs_inter_j = DataLoading.trim_columns_to_common(dfs_inter_j)\n",
    "# Convert to pytorch tensors\n",
    "ts_in, ts_out, ts_inter = DataLoading.split_tr_val_te_ext_out(dfs_in, dfs_out, dfs_inter_j, all_executions, te_s, val_s)\n",
    "d_ft_in, d_ft_out, d_ft_inter,maxs = DataLoading.concat_and_normalize_ext_out(ts_in, ts_out, ts_inter, all_executions)\n",
    "\n"
   ]
  },
  {
   "cell_type": "code",
   "execution_count": 5,
   "id": "db3fc771",
   "metadata": {},
   "outputs": [
    {
     "name": "stdout",
     "output_type": "stream",
     "text": [
      "input_f_sc01_Network_Existing_Generation_Full_2030.csv\n",
      "8\n",
      "input_f_sc01_Network_Line_In_Node_1_Node_2_cac1_2030.csv\n",
      "8\n",
      "input_f_sc01_Network_Line_In_Node_1_Node_2_cac2_2030.csv\n",
      "8\n",
      "input_f_sc01_Network_Line_In_Node_1_Node_2_cac3_2030.csv\n",
      "8\n",
      "input_f_sc01_Network_Line_In_Node_1_Node_3_cac1_2030.csv\n",
      "8\n",
      "input_f_sc01_Network_Line_In_Node_1_Node_3_cac2_2030.csv\n",
      "8\n",
      "input_f_sc01_Network_Line_In_Node_1_Node_3_cac3_2030.csv\n",
      "8\n",
      "input_f_sc01_Network_Line_In_Node_2_Node_3_cac1_2030.csv\n",
      "8\n",
      "input_f_sc01_Network_Line_In_Node_2_Node_3_cac2_2030.csv\n",
      "8\n",
      "input_f_sc01_Network_Line_In_Node_2_Node_3_cac3_2030.csv\n",
      "8\n"
     ]
    }
   ],
   "source": [
    "sc = \"sc01\"\n",
    "period = \"2030\"\n",
    "folder = \"../Data/3-bus_AC_fy_ext_o_dummy_LCOE/\"\n",
    "#folder = \"../Data/9n_AC_fy_ext_o_dummy_LCOE/\"\n",
    "#folder = \"../Data/RTS24_AC_fy_ext_o_dummy_LCOE/\"\n",
    "\n",
    "all_executions = DataLoading.list_executions(folder=folder,per = period,sc=sc)\n",
    "dfs_in_fy = DataLoading.load_data_input_only(folder,all_executions,period,sc)\n",
    "\n",
    "input_size = dfs_in[\"Network_Existing_Generation_Full\"].shape[1]\n",
    "inter_size = dfs_inter_j[\"Network_Existing_Generation_Full\"].shape[1]"
   ]
  },
  {
   "cell_type": "code",
   "execution_count": 23,
   "id": "dff81bef",
   "metadata": {},
   "outputs": [],
   "source": [
    "hyperloop_name = \"3-bus_AC_12w_dummy_0.3_v0.4_PF_LCOE_0_10\"\n",
    "#hyperloop_name = \"9n_AC_12w_dummy_0.3_v0.4_PF_LCOE_0_37\"\n",
    "# hyperloop_name = \"RTS24_AC_12w_dummy_0.3_v0.4_PF_sa_rand_0_40\"\n",
    "\n",
    "folder_exports = \"3-bus_AC_fy_ext_o_dummy_LCOE\"\n",
    "\n",
    "\n",
    "df_losses = pd.read_csv(f\"ResultsClusterRuns/Loss_results_csv/{hyperloop_name}.csv\",index_col=0)\n",
    "#df_losses = pd.read_csv(f\"Loss_results_csv/{hyperloop_name}.csv\",index_col=0)\n"
   ]
  },
  {
   "cell_type": "code",
   "execution_count": 26,
   "id": "71d17c43",
   "metadata": {},
   "outputs": [
    {
     "name": "stdout",
     "output_type": "stream",
     "text": [
      "[16, 24, 5, 3]\n",
      "[16, 24, 5, 3]\n",
      "[16, 24, 5, 3]\n",
      "[16, 24, 5, 3]\n",
      "[16, 24, 5, 3]\n",
      "[16, 24, 5, 3]\n",
      "[16, 24, 5, 3]\n",
      "[16, 24, 5, 3]\n"
     ]
    }
   ],
   "source": [
    "df_extraction_time = pd.DataFrame()\n",
    "i=0\n",
    "for loss in [\"Te_l_mae\",\"Te_l_t_mse\"]:\n",
    "    for xth_best in [1,2]:\n",
    "        ##Find and: load model\n",
    "        for alpha in [0.0,0.16]:\n",
    "            f = df_losses.alpha ==alpha\n",
    "            # f = df_losses.Model_type == \"(3, 2)\"\n",
    "            loss_to_sort = loss\n",
    "            row = NN_evaluation.find_xthbest_model_params_from_df(df_losses[f],loss_to_sort,xth_best)\n",
    "            m = NN_evaluation.create_model_and_load_state_from_row(row,input_size,inter_size,hyperloop_name,cluster_run=True)\n",
    "\n",
    "            ##Uste model for estimates\n",
    "            df_all_exec = pd.DataFrame()\n",
    "            for ex in all_executions:\n",
    "                t_start = perf_counter()\n",
    "                prediction = NN_evaluation.get_NN_estimates_from_dfs_in(m,ex,dfs_in_fy,maxs)\n",
    "                t_elapsed = perf_counter() - t_start\n",
    "                #actual= get_actual(ex,dfs_out) \n",
    "                df_all_exec[ex] = prediction\n",
    "\n",
    "            mpd = model_params_dict = NN_evaluation.extract_model_params_from_row(row)\n",
    "            keys = [\"Model_type\",\"nb_e\",\"lr\",\"dor\",\"np\",\"ro\",\"bs\",\"alpha\",\"MAE\", \"Min_val\"]\n",
    "            name = f\"Estimated_OC_fy_{mpd[keys[0]]}h_{mpd[keys[1]]}e_{mpd[keys[2]]}lr_{mpd[keys[3]]}dor_{mpd[keys[4]]}np_{mpd[keys[5]]}ro_{mpd[keys[6]]}bs_{mpd[keys[7]]}ill_{mpd[keys[8]]}MAE_{mpd[keys[9]]}Min_val\"\n",
    "            #name = f\"Estimated_OC_fy_{mpd[keys[0]]}h_{mpd[keys[1]]}e_{mpd[keys[2]]}lr_{mpd[keys[3]]}dor_{mpd[keys[4]]}np_{mpd[keys[5]]}ro_{mpd[keys[6]]}bs_{mpd[keys[7]]}ill_{mpd[keys[8]]}MAE\"\n",
    "            time_row = pd.DataFrame({\"Model\":name,\"Evaluation Time\": t_elapsed},index = [i] )\n",
    "            i+=1\n",
    "            df_extraction_time = pd.concat([df_extraction_time,time_row])\n",
    "            #Write exports to csv\n",
    "            #df_all_exec.to_csv(f\"NN_estimate_exports/{folder_exports}/{name}.csv\")\n",
    "df_extraction_time.to_csv(f\"NN_estimate_exports/{folder_exports}/evaluation_times.csv\")"
   ]
  },
  {
   "cell_type": "code",
   "execution_count": 15,
   "id": "22edbd9d",
   "metadata": {},
   "outputs": [
    {
     "data": {
      "text/html": [
       "<div>\n",
       "<style scoped>\n",
       "    .dataframe tbody tr th:only-of-type {\n",
       "        vertical-align: middle;\n",
       "    }\n",
       "\n",
       "    .dataframe tbody tr th {\n",
       "        vertical-align: top;\n",
       "    }\n",
       "\n",
       "    .dataframe thead th {\n",
       "        text-align: right;\n",
       "    }\n",
       "</style>\n",
       "<table border=\"1\" class=\"dataframe\">\n",
       "  <thead>\n",
       "    <tr style=\"text-align: right;\">\n",
       "      <th></th>\n",
       "      <th>Model</th>\n",
       "      <th>Evaluation Time</th>\n",
       "    </tr>\n",
       "  </thead>\n",
       "  <tbody>\n",
       "    <tr>\n",
       "      <th>0</th>\n",
       "      <td>Estimated_OC_fy_(3, 0)h_128e_0.0025lr_0.0dor_0...</td>\n",
       "      <td>0.003910</td>\n",
       "    </tr>\n",
       "    <tr>\n",
       "      <th>1</th>\n",
       "      <td>Estimated_OC_fy_(3, 0)h_128e_0.000625lr_0.05do...</td>\n",
       "      <td>0.003271</td>\n",
       "    </tr>\n",
       "    <tr>\n",
       "      <th>2</th>\n",
       "      <td>Estimated_OC_fy_(3, 0)h_128e_0.0025lr_0.0dor_0...</td>\n",
       "      <td>0.004327</td>\n",
       "    </tr>\n",
       "    <tr>\n",
       "      <th>3</th>\n",
       "      <td>Estimated_OC_fy_(3, 0)h_128e_0.000625lr_0.05do...</td>\n",
       "      <td>0.003948</td>\n",
       "    </tr>\n",
       "  </tbody>\n",
       "</table>\n",
       "</div>"
      ],
      "text/plain": [
       "                                               Model  Evaluation Time\n",
       "0  Estimated_OC_fy_(3, 0)h_128e_0.0025lr_0.0dor_0...         0.003910\n",
       "1  Estimated_OC_fy_(3, 0)h_128e_0.000625lr_0.05do...         0.003271\n",
       "2  Estimated_OC_fy_(3, 0)h_128e_0.0025lr_0.0dor_0...         0.004327\n",
       "3  Estimated_OC_fy_(3, 0)h_128e_0.000625lr_0.05do...         0.003948"
      ]
     },
     "execution_count": 15,
     "metadata": {},
     "output_type": "execute_result"
    }
   ],
   "source": [
    "df_extraction_time"
   ]
  },
  {
   "cell_type": "code",
   "execution_count": 7,
   "id": "16de551f",
   "metadata": {},
   "outputs": [
    {
     "ename": "IndexError",
     "evalue": "index 0 is out of bounds for axis 0 with size 0",
     "output_type": "error",
     "traceback": [
      "\u001b[1;31m---------------------------------------------------------------------------\u001b[0m",
      "\u001b[1;31mIndexError\u001b[0m                                Traceback (most recent call last)",
      "Cell \u001b[1;32mIn[7], line 1\u001b[0m\n\u001b[1;32m----> 1\u001b[0m ex \u001b[38;5;241m=\u001b[39m \u001b[43mall_executions\u001b[49m\u001b[43m[\u001b[49m\u001b[38;5;241;43m0\u001b[39;49m\u001b[43m]\u001b[49m\n\u001b[0;32m      3\u001b[0m df_all_exec \u001b[38;5;241m=\u001b[39m pd\u001b[38;5;241m.\u001b[39mDataFrame()\n\u001b[0;32m      4\u001b[0m \u001b[38;5;28;01mfor\u001b[39;00m ex \u001b[38;5;129;01min\u001b[39;00m all_executions:\n",
      "\u001b[1;31mIndexError\u001b[0m: index 0 is out of bounds for axis 0 with size 0"
     ]
    }
   ],
   "source": [
    "ex = all_executions[0]\n",
    "\n",
    "df_all_exec = pd.DataFrame()\n",
    "for ex in all_executions:\n",
    "    prediction = get_NN_estimates_from_dfs_in(m,ex,dfs_in)\n",
    "    #actual= get_actual(ex,dfs_out) \n",
    "    df_all_exec[ex] = prediction\n",
    "\n",
    "mpd = model_params_dict = extract_model_params_from_row(row)\n",
    "keys = [\"Model_type\",\"nb_e\",\"lr\",\"dor\",\"np\",\"ro\",\"bs\",\"alpha\",\"MAE\"]\n",
    "name = f\"Estimated_OC_12w_{mpd[keys[0]]}h_{mpd[keys[1]]}e_{mpd[keys[2]]}lr_{mpd[keys[3]]}dor_{mpd[keys[4]]}np_{mpd[keys[5]]}ro_{mpd[keys[6]]}bs_{mpd[keys[7]]}ill_{mpd[keys[8]]}MAE\"\n",
    "df_all_exec.to_csv(f\"NN_estimate_exports/{name}.csv\")"
   ]
  }
 ],
 "metadata": {
  "kernelspec": {
   "display_name": "Python 3 (ipykernel)",
   "language": "python",
   "name": "python3"
  },
  "language_info": {
   "codemirror_mode": {
    "name": "ipython",
    "version": 3
   },
   "file_extension": ".py",
   "mimetype": "text/x-python",
   "name": "python",
   "nbconvert_exporter": "python",
   "pygments_lexer": "ipython3",
   "version": "3.10.11"
  }
 },
 "nbformat": 4,
 "nbformat_minor": 5
}
