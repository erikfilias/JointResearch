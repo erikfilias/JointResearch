{
 "cells": [
  {
   "cell_type": "code",
   "execution_count": 1,
   "id": "9cabea9a",
   "metadata": {},
   "outputs": [],
   "source": [
    "import pandas as pd\n",
    "import DataLoading\n",
    "import NN_classes\n",
    "import NN_evaluation\n",
    "import torch\n",
    "import matplotlib.pyplot as plt\n",
    "import numpy as np\n",
    "from time import perf_counter"
   ]
  },
  {
   "cell_type": "code",
   "execution_count": 2,
   "id": "e2f7cf15",
   "metadata": {},
   "outputs": [
    {
     "name": "stdout",
     "output_type": "stream",
     "text": [
      "input_f_sc01_Network_Existing_Generation_Full_2030.csv\n",
      "53\n",
      "input_f_sc01_Network_Full_Generation_Full_2030.csv\n",
      "53\n",
      "input_f_sc01_PINT_Network_Line_In_N_101_N_102_cac1_2030.csv\n",
      "53\n",
      "input_f_sc01_PINT_Network_Line_In_N_103_N_124_cac1_2030.csv\n",
      "53\n",
      "input_f_sc01_PINT_Network_Line_In_N_106_N_108_cac1_2030.csv\n",
      "53\n",
      "input_f_sc01_PINT_Network_Line_In_N_109_N_111_cac1_2030.csv\n",
      "53\n",
      "input_f_sc01_PINT_Network_Line_In_N_115_N_116_cac1_2030.csv\n",
      "53\n",
      "input_f_sc01_PINT_Network_Line_In_N_116_N_117_cac1_2030.csv\n",
      "53\n",
      "input_f_sc01_PINT_Network_Line_In_N_117_N_118_cac1_2030.csv\n",
      "53\n",
      "input_f_sc01_PINT_Network_Line_In_N_118_N_121_cac1_2030.csv\n",
      "53\n",
      "input_f_sc01_TOOT_Network_Line_Out_N_101_N_102_cac1_2030.csv\n",
      "53\n",
      "input_f_sc01_TOOT_Network_Line_Out_N_103_N_124_cac1_2030.csv\n",
      "53\n",
      "input_f_sc01_TOOT_Network_Line_Out_N_106_N_108_cac1_2030.csv\n",
      "53\n",
      "input_f_sc01_TOOT_Network_Line_Out_N_109_N_111_cac1_2030.csv\n",
      "53\n",
      "input_f_sc01_TOOT_Network_Line_Out_N_115_N_116_cac1_2030.csv\n",
      "53\n",
      "input_f_sc01_TOOT_Network_Line_Out_N_116_N_117_cac1_2030.csv\n",
      "53\n",
      "input_f_sc01_TOOT_Network_Line_Out_N_117_N_118_cac1_2030.csv\n",
      "53\n",
      "input_f_sc01_TOOT_Network_Line_Out_N_118_N_121_cac1_2030.csv\n",
      "53\n",
      "Be careful, normalization has not been properly tested in this method\n"
     ]
    }
   ],
   "source": [
    "sc = \"sc01\"\n",
    "period = \"2030\"\n",
    "case= \"RTS24_mod1\"\n",
    "folder = f\"../Data/{case}_DC_fy/\"\n",
    "\n",
    "all_executions = DataLoading.list_executions(folder=folder,per = period,sc=sc)\n",
    "te_s = 0.3\n",
    "val_s = 0.3\n",
    "dfs_in, dfs_out, dfs_inter = DataLoading.load_data_ext_out(folder, all_executions, period, sc, [\"PowerFlow\"],\"SystemCosts\")\n",
    "dfs_inter_j = DataLoading.join_frames_inter_layer(dfs_inter,all_executions)\n",
    "dfs_inter_j = DataLoading.trim_columns_to_common(dfs_inter_j)\n",
    "# Convert to pytorch tensors\n",
    "ts_in, ts_out, ts_inter = DataLoading.split_tr_val_te_ext_out(dfs_in, dfs_out, dfs_inter_j, all_executions, te_s, val_s)\n",
    "d_ft_in, d_ft_out, d_ft_inter,maxs = DataLoading.concat_and_normalize_ext_out(ts_in, ts_out, ts_inter, all_executions)\n",
    "\n",
    "input_size = dfs_in[\"Network_Existing_Generation_Full\"].shape[1]\n",
    "inter_size = dfs_inter_j[\"Network_Existing_Generation_Full\"].shape[1]\n",
    "\n",
    "t_in_fy, t_out_fy, t_inter_fy, maxs = DataLoading.concat_all_exec_fy(dfs_in=dfs_in, dfs_out=dfs_out, dfs_inter_j=dfs_inter_j,executions=all_executions,normalize_out=True)\n"
   ]
  },
  {
   "cell_type": "code",
   "execution_count": 3,
   "id": "db3fc771",
   "metadata": {
    "collapsed": true
   },
   "outputs": [
    {
     "ename": "AttributeError",
     "evalue": "module 'DataLoading' has no attribute 'load_data_input_only'",
     "output_type": "error",
     "traceback": [
      "\u001b[1;31m---------------------------------------------------------------------------\u001b[0m",
      "\u001b[1;31mAttributeError\u001b[0m                            Traceback (most recent call last)",
      "Cell \u001b[1;32mIn[3], line 8\u001b[0m\n\u001b[0;32m      5\u001b[0m folder \u001b[38;5;241m=\u001b[39m \u001b[38;5;124mf\u001b[39m\u001b[38;5;124m\"\u001b[39m\u001b[38;5;124m../Data/\u001b[39m\u001b[38;5;132;01m{\u001b[39;00mcase\u001b[38;5;132;01m}\u001b[39;00m\u001b[38;5;124m_DC_fy/\u001b[39m\u001b[38;5;124m\"\u001b[39m\n\u001b[0;32m      7\u001b[0m all_executions \u001b[38;5;241m=\u001b[39m DataLoading\u001b[38;5;241m.\u001b[39mlist_executions(folder\u001b[38;5;241m=\u001b[39mfolder,per \u001b[38;5;241m=\u001b[39m period,sc\u001b[38;5;241m=\u001b[39msc)\n\u001b[1;32m----> 8\u001b[0m dfs_in_fy \u001b[38;5;241m=\u001b[39m \u001b[43mDataLoading\u001b[49m\u001b[38;5;241;43m.\u001b[39;49m\u001b[43mload_data_input_only\u001b[49m(folder,all_executions,period,sc)\n\u001b[0;32m     10\u001b[0m input_size \u001b[38;5;241m=\u001b[39m dfs_in[\u001b[38;5;124m\"\u001b[39m\u001b[38;5;124mNetwork_Existing_Generation_Full\u001b[39m\u001b[38;5;124m\"\u001b[39m]\u001b[38;5;241m.\u001b[39mshape[\u001b[38;5;241m1\u001b[39m]\n\u001b[0;32m     11\u001b[0m inter_size \u001b[38;5;241m=\u001b[39m dfs_inter_j[\u001b[38;5;124m\"\u001b[39m\u001b[38;5;124mNetwork_Existing_Generation_Full\u001b[39m\u001b[38;5;124m\"\u001b[39m]\u001b[38;5;241m.\u001b[39mshape[\u001b[38;5;241m1\u001b[39m]\n",
      "\u001b[1;31mAttributeError\u001b[0m: module 'DataLoading' has no attribute 'load_data_input_only'"
     ]
    }
   ],
   "source": [
    "sc = \"sc01\"\n",
    "period = \"2030\"\n",
    "#folder = \"../Data/3-bus_AC_fy_ext_o_dummy_LCOE/\"\n",
    "#folder = \"../Data/9n_AC_fy_ext_o_dummy_LCOE/\"\n",
    "folder = f\"../Data/{case}_DC_fy/\"\n",
    "\n",
    "all_executions = DataLoading.list_executions(folder=folder,per = period,sc=sc)\n",
    "dfs_in_fy = DataLoading.load_data_input_only(folder,all_executions,period,sc)\n",
    "\n",
    "input_size = dfs_in[\"Network_Existing_Generation_Full\"].shape[1]\n",
    "inter_size = dfs_inter_j[\"Network_Existing_Generation_Full\"].shape[1]"
   ]
  },
  {
   "cell_type": "code",
   "execution_count": 14,
   "id": "dff81bef",
   "metadata": {},
   "outputs": [],
   "source": [
    "#hyperloop_name = \"3-bus_AC_12w_dummy_0.3_v0.4_PF_LCOE_0_10\"\n",
    "#hyperloop_name = \"9n_AC_12w_dummy_0.3_v0.4_PF_LCOE_0_37\"\n",
    "hyperloop_name = \"RTS24_AC_12w_dummy_0.3_v0.4_PF_LCOE_0_40\"\n",
    "hyperloop_name = f\"Decay_rand_Weeks_{case}_DC_0.25_v0.33_PF_0_74\"\n",
    "hyperloop_name = \"Decay_2016h_rand_Days_RTS24_DC_0.25_v0.33_PF_0_80\"\n",
    "hyperloop_name = f\"{case}_DC_0.25_v0.33_PF\"\n",
    "folder_exports = f\"{case}_DC_fy\"\n",
    "\n",
    "\n",
    "#df_losses = pd.read_csv(f\"ResultsClusterRuns/Loss_results_csv/{hyperloop_name}.csv\",index_col=0)\n",
    "df_losses = pd.read_csv(f\"Loss_results_csv/{hyperloop_name}.csv\",index_col=0)\n"
   ]
  },
  {
   "cell_type": "code",
   "execution_count": 15,
   "id": "71d17c43",
   "metadata": {
    "scrolled": true
   },
   "outputs": [
    {
     "name": "stdout",
     "output_type": "stream",
     "text": [
      "[60, 60, 43, 34, 17]\n",
      "OE_2016hours_3-1h_128e_0.0025-32-0.25lr_0dor_Falsero_128bs_0ill_TrueMAE all_epochs\n",
      "trained_models/RTS24_mod1_DC_0.25_v0.33_PF/all_epochs/model_OE_2016hours_3-1h_128e_0.0025-32-0.25lr_0dor_Falsero_128bs_0ill_TrueMAE.pth\n"
     ]
    },
    {
     "name": "stderr",
     "output_type": "stream",
     "text": [
      "C:\\Workdir\\Programs\\Miniconda\\envs\\jr23\\lib\\site-packages\\torch\\_tensor.py:852: RuntimeWarning: invalid value encountered in multiply\n",
      "  return self.reciprocal() * other\n",
      "C:\\Workdir\\Programs\\Miniconda\\envs\\jr23\\lib\\site-packages\\torch\\_tensor.py:852: RuntimeWarning: invalid value encountered in multiply\n",
      "  return self.reciprocal() * other\n",
      "C:\\Workdir\\Programs\\Miniconda\\envs\\jr23\\lib\\site-packages\\torch\\_tensor.py:852: RuntimeWarning: invalid value encountered in multiply\n",
      "  return self.reciprocal() * other\n",
      "C:\\Workdir\\Programs\\Miniconda\\envs\\jr23\\lib\\site-packages\\torch\\_tensor.py:852: RuntimeWarning: invalid value encountered in multiply\n",
      "  return self.reciprocal() * other\n",
      "C:\\Workdir\\Programs\\Miniconda\\envs\\jr23\\lib\\site-packages\\torch\\_tensor.py:852: RuntimeWarning: invalid value encountered in multiply\n",
      "  return self.reciprocal() * other\n",
      "C:\\Workdir\\Programs\\Miniconda\\envs\\jr23\\lib\\site-packages\\torch\\_tensor.py:852: RuntimeWarning: invalid value encountered in multiply\n",
      "  return self.reciprocal() * other\n",
      "C:\\Workdir\\Programs\\Miniconda\\envs\\jr23\\lib\\site-packages\\torch\\_tensor.py:852: RuntimeWarning: invalid value encountered in multiply\n",
      "  return self.reciprocal() * other\n",
      "C:\\Workdir\\Programs\\Miniconda\\envs\\jr23\\lib\\site-packages\\torch\\_tensor.py:852: RuntimeWarning: invalid value encountered in multiply\n",
      "  return self.reciprocal() * other\n",
      "C:\\Workdir\\Programs\\Miniconda\\envs\\jr23\\lib\\site-packages\\torch\\_tensor.py:852: RuntimeWarning: invalid value encountered in multiply\n",
      "  return self.reciprocal() * other\n",
      "C:\\Workdir\\Programs\\Miniconda\\envs\\jr23\\lib\\site-packages\\torch\\_tensor.py:852: RuntimeWarning: invalid value encountered in multiply\n",
      "  return self.reciprocal() * other\n",
      "C:\\Workdir\\Programs\\Miniconda\\envs\\jr23\\lib\\site-packages\\torch\\_tensor.py:852: RuntimeWarning: invalid value encountered in multiply\n",
      "  return self.reciprocal() * other\n",
      "C:\\Workdir\\Programs\\Miniconda\\envs\\jr23\\lib\\site-packages\\torch\\_tensor.py:852: RuntimeWarning: invalid value encountered in multiply\n",
      "  return self.reciprocal() * other\n",
      "C:\\Workdir\\Programs\\Miniconda\\envs\\jr23\\lib\\site-packages\\torch\\_tensor.py:852: RuntimeWarning: invalid value encountered in multiply\n",
      "  return self.reciprocal() * other\n",
      "C:\\Workdir\\Programs\\Miniconda\\envs\\jr23\\lib\\site-packages\\torch\\_tensor.py:852: RuntimeWarning: invalid value encountered in multiply\n",
      "  return self.reciprocal() * other\n",
      "C:\\Workdir\\Programs\\Miniconda\\envs\\jr23\\lib\\site-packages\\torch\\_tensor.py:852: RuntimeWarning: invalid value encountered in multiply\n",
      "  return self.reciprocal() * other\n",
      "C:\\Workdir\\Programs\\Miniconda\\envs\\jr23\\lib\\site-packages\\torch\\_tensor.py:852: RuntimeWarning: invalid value encountered in multiply\n",
      "  return self.reciprocal() * other\n",
      "C:\\Workdir\\Programs\\Miniconda\\envs\\jr23\\lib\\site-packages\\torch\\_tensor.py:852: RuntimeWarning: invalid value encountered in multiply\n",
      "  return self.reciprocal() * other\n",
      "C:\\Workdir\\Programs\\Miniconda\\envs\\jr23\\lib\\site-packages\\torch\\_tensor.py:852: RuntimeWarning: invalid value encountered in multiply\n",
      "  return self.reciprocal() * other\n"
     ]
    },
    {
     "ename": "OSError",
     "evalue": "Cannot save file into a non-existent directory: 'NN_estimate_exports\\RTS24_mod1_DC_fy'",
     "output_type": "error",
     "traceback": [
      "\u001b[1;31m---------------------------------------------------------------------------\u001b[0m",
      "\u001b[1;31mOSError\u001b[0m                                   Traceback (most recent call last)",
      "Cell \u001b[1;32mIn[15], line 44\u001b[0m\n\u001b[0;32m     42\u001b[0m             df_extraction_time \u001b[38;5;241m=\u001b[39m pd\u001b[38;5;241m.\u001b[39mconcat([df_extraction_time,time_row])\n\u001b[0;32m     43\u001b[0m             \u001b[38;5;66;03m#Write exports to csv\u001b[39;00m\n\u001b[1;32m---> 44\u001b[0m             \u001b[43mdf_all_exec\u001b[49m\u001b[38;5;241;43m.\u001b[39;49m\u001b[43mto_csv\u001b[49m\u001b[43m(\u001b[49m\u001b[38;5;124;43mf\u001b[39;49m\u001b[38;5;124;43m\"\u001b[39;49m\u001b[38;5;124;43mNN_estimate_exports/\u001b[39;49m\u001b[38;5;132;43;01m{\u001b[39;49;00m\u001b[43mfolder_exports\u001b[49m\u001b[38;5;132;43;01m}\u001b[39;49;00m\u001b[38;5;124;43m/\u001b[39;49m\u001b[38;5;132;43;01m{\u001b[39;49;00m\u001b[43mname\u001b[49m\u001b[38;5;132;43;01m}\u001b[39;49;00m\u001b[38;5;124;43m.csv\u001b[39;49m\u001b[38;5;124;43m\"\u001b[39;49m\u001b[43m)\u001b[49m\n\u001b[0;32m     45\u001b[0m df_extraction_time\u001b[38;5;241m.\u001b[39mto_csv(\u001b[38;5;124mf\u001b[39m\u001b[38;5;124m\"\u001b[39m\u001b[38;5;124mNN_estimate_exports/\u001b[39m\u001b[38;5;132;01m{\u001b[39;00mfolder_exports\u001b[38;5;132;01m}\u001b[39;00m\u001b[38;5;124m/evaluation_times.csv\u001b[39m\u001b[38;5;124m\"\u001b[39m)\n",
      "File \u001b[1;32mC:\\Workdir\\Programs\\Miniconda\\envs\\jr23\\lib\\site-packages\\pandas\\core\\generic.py:3772\u001b[0m, in \u001b[0;36mNDFrame.to_csv\u001b[1;34m(self, path_or_buf, sep, na_rep, float_format, columns, header, index, index_label, mode, encoding, compression, quoting, quotechar, lineterminator, chunksize, date_format, doublequote, escapechar, decimal, errors, storage_options)\u001b[0m\n\u001b[0;32m   3761\u001b[0m df \u001b[38;5;241m=\u001b[39m \u001b[38;5;28mself\u001b[39m \u001b[38;5;28;01mif\u001b[39;00m \u001b[38;5;28misinstance\u001b[39m(\u001b[38;5;28mself\u001b[39m, ABCDataFrame) \u001b[38;5;28;01melse\u001b[39;00m \u001b[38;5;28mself\u001b[39m\u001b[38;5;241m.\u001b[39mto_frame()\n\u001b[0;32m   3763\u001b[0m formatter \u001b[38;5;241m=\u001b[39m DataFrameFormatter(\n\u001b[0;32m   3764\u001b[0m     frame\u001b[38;5;241m=\u001b[39mdf,\n\u001b[0;32m   3765\u001b[0m     header\u001b[38;5;241m=\u001b[39mheader,\n\u001b[1;32m   (...)\u001b[0m\n\u001b[0;32m   3769\u001b[0m     decimal\u001b[38;5;241m=\u001b[39mdecimal,\n\u001b[0;32m   3770\u001b[0m )\n\u001b[1;32m-> 3772\u001b[0m \u001b[38;5;28;01mreturn\u001b[39;00m \u001b[43mDataFrameRenderer\u001b[49m\u001b[43m(\u001b[49m\u001b[43mformatter\u001b[49m\u001b[43m)\u001b[49m\u001b[38;5;241;43m.\u001b[39;49m\u001b[43mto_csv\u001b[49m\u001b[43m(\u001b[49m\n\u001b[0;32m   3773\u001b[0m \u001b[43m    \u001b[49m\u001b[43mpath_or_buf\u001b[49m\u001b[43m,\u001b[49m\n\u001b[0;32m   3774\u001b[0m \u001b[43m    \u001b[49m\u001b[43mlineterminator\u001b[49m\u001b[38;5;241;43m=\u001b[39;49m\u001b[43mlineterminator\u001b[49m\u001b[43m,\u001b[49m\n\u001b[0;32m   3775\u001b[0m \u001b[43m    \u001b[49m\u001b[43msep\u001b[49m\u001b[38;5;241;43m=\u001b[39;49m\u001b[43msep\u001b[49m\u001b[43m,\u001b[49m\n\u001b[0;32m   3776\u001b[0m \u001b[43m    \u001b[49m\u001b[43mencoding\u001b[49m\u001b[38;5;241;43m=\u001b[39;49m\u001b[43mencoding\u001b[49m\u001b[43m,\u001b[49m\n\u001b[0;32m   3777\u001b[0m \u001b[43m    \u001b[49m\u001b[43merrors\u001b[49m\u001b[38;5;241;43m=\u001b[39;49m\u001b[43merrors\u001b[49m\u001b[43m,\u001b[49m\n\u001b[0;32m   3778\u001b[0m \u001b[43m    \u001b[49m\u001b[43mcompression\u001b[49m\u001b[38;5;241;43m=\u001b[39;49m\u001b[43mcompression\u001b[49m\u001b[43m,\u001b[49m\n\u001b[0;32m   3779\u001b[0m \u001b[43m    \u001b[49m\u001b[43mquoting\u001b[49m\u001b[38;5;241;43m=\u001b[39;49m\u001b[43mquoting\u001b[49m\u001b[43m,\u001b[49m\n\u001b[0;32m   3780\u001b[0m \u001b[43m    \u001b[49m\u001b[43mcolumns\u001b[49m\u001b[38;5;241;43m=\u001b[39;49m\u001b[43mcolumns\u001b[49m\u001b[43m,\u001b[49m\n\u001b[0;32m   3781\u001b[0m \u001b[43m    \u001b[49m\u001b[43mindex_label\u001b[49m\u001b[38;5;241;43m=\u001b[39;49m\u001b[43mindex_label\u001b[49m\u001b[43m,\u001b[49m\n\u001b[0;32m   3782\u001b[0m \u001b[43m    \u001b[49m\u001b[43mmode\u001b[49m\u001b[38;5;241;43m=\u001b[39;49m\u001b[43mmode\u001b[49m\u001b[43m,\u001b[49m\n\u001b[0;32m   3783\u001b[0m \u001b[43m    \u001b[49m\u001b[43mchunksize\u001b[49m\u001b[38;5;241;43m=\u001b[39;49m\u001b[43mchunksize\u001b[49m\u001b[43m,\u001b[49m\n\u001b[0;32m   3784\u001b[0m \u001b[43m    \u001b[49m\u001b[43mquotechar\u001b[49m\u001b[38;5;241;43m=\u001b[39;49m\u001b[43mquotechar\u001b[49m\u001b[43m,\u001b[49m\n\u001b[0;32m   3785\u001b[0m \u001b[43m    \u001b[49m\u001b[43mdate_format\u001b[49m\u001b[38;5;241;43m=\u001b[39;49m\u001b[43mdate_format\u001b[49m\u001b[43m,\u001b[49m\n\u001b[0;32m   3786\u001b[0m \u001b[43m    \u001b[49m\u001b[43mdoublequote\u001b[49m\u001b[38;5;241;43m=\u001b[39;49m\u001b[43mdoublequote\u001b[49m\u001b[43m,\u001b[49m\n\u001b[0;32m   3787\u001b[0m \u001b[43m    \u001b[49m\u001b[43mescapechar\u001b[49m\u001b[38;5;241;43m=\u001b[39;49m\u001b[43mescapechar\u001b[49m\u001b[43m,\u001b[49m\n\u001b[0;32m   3788\u001b[0m \u001b[43m    \u001b[49m\u001b[43mstorage_options\u001b[49m\u001b[38;5;241;43m=\u001b[39;49m\u001b[43mstorage_options\u001b[49m\u001b[43m,\u001b[49m\n\u001b[0;32m   3789\u001b[0m \u001b[43m\u001b[49m\u001b[43m)\u001b[49m\n",
      "File \u001b[1;32mC:\\Workdir\\Programs\\Miniconda\\envs\\jr23\\lib\\site-packages\\pandas\\io\\formats\\format.py:1186\u001b[0m, in \u001b[0;36mDataFrameRenderer.to_csv\u001b[1;34m(self, path_or_buf, encoding, sep, columns, index_label, mode, compression, quoting, quotechar, lineterminator, chunksize, date_format, doublequote, escapechar, errors, storage_options)\u001b[0m\n\u001b[0;32m   1165\u001b[0m     created_buffer \u001b[38;5;241m=\u001b[39m \u001b[38;5;28;01mFalse\u001b[39;00m\n\u001b[0;32m   1167\u001b[0m csv_formatter \u001b[38;5;241m=\u001b[39m CSVFormatter(\n\u001b[0;32m   1168\u001b[0m     path_or_buf\u001b[38;5;241m=\u001b[39mpath_or_buf,\n\u001b[0;32m   1169\u001b[0m     lineterminator\u001b[38;5;241m=\u001b[39mlineterminator,\n\u001b[1;32m   (...)\u001b[0m\n\u001b[0;32m   1184\u001b[0m     formatter\u001b[38;5;241m=\u001b[39m\u001b[38;5;28mself\u001b[39m\u001b[38;5;241m.\u001b[39mfmt,\n\u001b[0;32m   1185\u001b[0m )\n\u001b[1;32m-> 1186\u001b[0m \u001b[43mcsv_formatter\u001b[49m\u001b[38;5;241;43m.\u001b[39;49m\u001b[43msave\u001b[49m\u001b[43m(\u001b[49m\u001b[43m)\u001b[49m\n\u001b[0;32m   1188\u001b[0m \u001b[38;5;28;01mif\u001b[39;00m created_buffer:\n\u001b[0;32m   1189\u001b[0m     \u001b[38;5;28;01massert\u001b[39;00m \u001b[38;5;28misinstance\u001b[39m(path_or_buf, StringIO)\n",
      "File \u001b[1;32mC:\\Workdir\\Programs\\Miniconda\\envs\\jr23\\lib\\site-packages\\pandas\\io\\formats\\csvs.py:240\u001b[0m, in \u001b[0;36mCSVFormatter.save\u001b[1;34m(self)\u001b[0m\n\u001b[0;32m    236\u001b[0m \u001b[38;5;124;03m\"\"\"\u001b[39;00m\n\u001b[0;32m    237\u001b[0m \u001b[38;5;124;03mCreate the writer & save.\u001b[39;00m\n\u001b[0;32m    238\u001b[0m \u001b[38;5;124;03m\"\"\"\u001b[39;00m\n\u001b[0;32m    239\u001b[0m \u001b[38;5;66;03m# apply compression and byte/text conversion\u001b[39;00m\n\u001b[1;32m--> 240\u001b[0m \u001b[38;5;28;01mwith\u001b[39;00m \u001b[43mget_handle\u001b[49m\u001b[43m(\u001b[49m\n\u001b[0;32m    241\u001b[0m \u001b[43m    \u001b[49m\u001b[38;5;28;43mself\u001b[39;49m\u001b[38;5;241;43m.\u001b[39;49m\u001b[43mfilepath_or_buffer\u001b[49m\u001b[43m,\u001b[49m\n\u001b[0;32m    242\u001b[0m \u001b[43m    \u001b[49m\u001b[38;5;28;43mself\u001b[39;49m\u001b[38;5;241;43m.\u001b[39;49m\u001b[43mmode\u001b[49m\u001b[43m,\u001b[49m\n\u001b[0;32m    243\u001b[0m \u001b[43m    \u001b[49m\u001b[43mencoding\u001b[49m\u001b[38;5;241;43m=\u001b[39;49m\u001b[38;5;28;43mself\u001b[39;49m\u001b[38;5;241;43m.\u001b[39;49m\u001b[43mencoding\u001b[49m\u001b[43m,\u001b[49m\n\u001b[0;32m    244\u001b[0m \u001b[43m    \u001b[49m\u001b[43merrors\u001b[49m\u001b[38;5;241;43m=\u001b[39;49m\u001b[38;5;28;43mself\u001b[39;49m\u001b[38;5;241;43m.\u001b[39;49m\u001b[43merrors\u001b[49m\u001b[43m,\u001b[49m\n\u001b[0;32m    245\u001b[0m \u001b[43m    \u001b[49m\u001b[43mcompression\u001b[49m\u001b[38;5;241;43m=\u001b[39;49m\u001b[38;5;28;43mself\u001b[39;49m\u001b[38;5;241;43m.\u001b[39;49m\u001b[43mcompression\u001b[49m\u001b[43m,\u001b[49m\n\u001b[0;32m    246\u001b[0m \u001b[43m    \u001b[49m\u001b[43mstorage_options\u001b[49m\u001b[38;5;241;43m=\u001b[39;49m\u001b[38;5;28;43mself\u001b[39;49m\u001b[38;5;241;43m.\u001b[39;49m\u001b[43mstorage_options\u001b[49m\u001b[43m,\u001b[49m\n\u001b[0;32m    247\u001b[0m \u001b[43m\u001b[49m\u001b[43m)\u001b[49m \u001b[38;5;28;01mas\u001b[39;00m handles:\n\u001b[0;32m    248\u001b[0m     \u001b[38;5;66;03m# Note: self.encoding is irrelevant here\u001b[39;00m\n\u001b[0;32m    249\u001b[0m     \u001b[38;5;28mself\u001b[39m\u001b[38;5;241m.\u001b[39mwriter \u001b[38;5;241m=\u001b[39m csvlib\u001b[38;5;241m.\u001b[39mwriter(\n\u001b[0;32m    250\u001b[0m         handles\u001b[38;5;241m.\u001b[39mhandle,\n\u001b[0;32m    251\u001b[0m         lineterminator\u001b[38;5;241m=\u001b[39m\u001b[38;5;28mself\u001b[39m\u001b[38;5;241m.\u001b[39mlineterminator,\n\u001b[1;32m   (...)\u001b[0m\n\u001b[0;32m    256\u001b[0m         quotechar\u001b[38;5;241m=\u001b[39m\u001b[38;5;28mself\u001b[39m\u001b[38;5;241m.\u001b[39mquotechar,\n\u001b[0;32m    257\u001b[0m     )\n\u001b[0;32m    259\u001b[0m     \u001b[38;5;28mself\u001b[39m\u001b[38;5;241m.\u001b[39m_save()\n",
      "File \u001b[1;32mC:\\Workdir\\Programs\\Miniconda\\envs\\jr23\\lib\\site-packages\\pandas\\io\\common.py:737\u001b[0m, in \u001b[0;36mget_handle\u001b[1;34m(path_or_buf, mode, encoding, compression, memory_map, is_text, errors, storage_options)\u001b[0m\n\u001b[0;32m    735\u001b[0m \u001b[38;5;66;03m# Only for write methods\u001b[39;00m\n\u001b[0;32m    736\u001b[0m \u001b[38;5;28;01mif\u001b[39;00m \u001b[38;5;124m\"\u001b[39m\u001b[38;5;124mr\u001b[39m\u001b[38;5;124m\"\u001b[39m \u001b[38;5;129;01mnot\u001b[39;00m \u001b[38;5;129;01min\u001b[39;00m mode \u001b[38;5;129;01mand\u001b[39;00m is_path:\n\u001b[1;32m--> 737\u001b[0m     \u001b[43mcheck_parent_directory\u001b[49m\u001b[43m(\u001b[49m\u001b[38;5;28;43mstr\u001b[39;49m\u001b[43m(\u001b[49m\u001b[43mhandle\u001b[49m\u001b[43m)\u001b[49m\u001b[43m)\u001b[49m\n\u001b[0;32m    739\u001b[0m \u001b[38;5;28;01mif\u001b[39;00m compression:\n\u001b[0;32m    740\u001b[0m     \u001b[38;5;28;01mif\u001b[39;00m compression \u001b[38;5;241m!=\u001b[39m \u001b[38;5;124m\"\u001b[39m\u001b[38;5;124mzstd\u001b[39m\u001b[38;5;124m\"\u001b[39m:\n\u001b[0;32m    741\u001b[0m         \u001b[38;5;66;03m# compression libraries do not like an explicit text-mode\u001b[39;00m\n",
      "File \u001b[1;32mC:\\Workdir\\Programs\\Miniconda\\envs\\jr23\\lib\\site-packages\\pandas\\io\\common.py:600\u001b[0m, in \u001b[0;36mcheck_parent_directory\u001b[1;34m(path)\u001b[0m\n\u001b[0;32m    598\u001b[0m parent \u001b[38;5;241m=\u001b[39m Path(path)\u001b[38;5;241m.\u001b[39mparent\n\u001b[0;32m    599\u001b[0m \u001b[38;5;28;01mif\u001b[39;00m \u001b[38;5;129;01mnot\u001b[39;00m parent\u001b[38;5;241m.\u001b[39mis_dir():\n\u001b[1;32m--> 600\u001b[0m     \u001b[38;5;28;01mraise\u001b[39;00m \u001b[38;5;167;01mOSError\u001b[39;00m(\u001b[38;5;124mrf\u001b[39m\u001b[38;5;124m\"\u001b[39m\u001b[38;5;124mCannot save file into a non-existent directory: \u001b[39m\u001b[38;5;124m'\u001b[39m\u001b[38;5;132;01m{\u001b[39;00mparent\u001b[38;5;132;01m}\u001b[39;00m\u001b[38;5;124m'\u001b[39m\u001b[38;5;124m\"\u001b[39m)\n",
      "\u001b[1;31mOSError\u001b[0m: Cannot save file into a non-existent directory: 'NN_estimate_exports\\RTS24_mod1_DC_fy'"
     ]
    }
   ],
   "source": [
    "df_extraction_time = pd.DataFrame()\n",
    "i=0\n",
    "new_name = True\n",
    "for loss in [\"Te_l_mse\"]:\n",
    "    for xth_best in [1]:\n",
    "        ##Find and: load model\n",
    "        for alpha in [0.0,0.16]:\n",
    "            #f = df_losses.alpha ==alpha\n",
    "            f = ((df_losses.Nb_hours_used) <=2050) & (df_losses.Sel_method == \"Days\")\n",
    "            \n",
    "            # f = df_losses.Model_type == \"(3, 2)\"\n",
    "            loss_to_sort = loss\n",
    "            \n",
    "            \n",
    "\n",
    "            row = NN_evaluation.find_xthbest_model_params_from_df(df_losses[f],loss_to_sort,xth_best)\n",
    "#             if row.Sel_method.item() == \"Hours\": \n",
    "#                 hyperloop_name = f\"Decay_rand_Hours_{case}_DC_0.25_v0.33_PF_0_20\"\n",
    "#             elif row.Sel_method.item() == \"Days\":\n",
    "#                 hyperloop_name = f\"Decay_rand_Days_{case}_DC_0.25_v0.33_PF_0_74\"\n",
    "#                 hyperloop_name = \"Decay_2016h_rand_Days_RTS24_DC_0.25_v0.33_PF_0_80\"\n",
    "#             else: \n",
    "#                 print(\"Problem\")\n",
    "\n",
    "            m = NN_evaluation.create_model_and_load_state_from_row(row,input_size,inter_size,hyperloop_name,cluster_run=False,hidden_sizes = None,new_name=new_name)\n",
    "\n",
    "            ##Use model for estimates\n",
    "            df_all_exec = pd.DataFrame()\n",
    "            for ex in all_executions:\n",
    "                t_start = perf_counter()\n",
    "                prediction = NN_evaluation.get_NN_estimates_from_dfs_in(m,ex,dfs_in,maxs)\n",
    "                t_elapsed = perf_counter() - t_start\n",
    "                #actual= get_actual(ex,dfs_out) \n",
    "                df_all_exec[ex] = prediction\n",
    "\n",
    "            mpd = model_params_dict = NN_evaluation.extract_model_params_from_row(row)\n",
    "            keys = [\"Model_type\",\"nb_e\",\"lr\",\"dor\",\"ro\",\"bs\",\"alpha\",\"MAE\", \"Min_val\"]\n",
    "            name = f\"Estimated_OC_fy_{mpd[keys[0]]}h_{mpd[keys[1]]}e_{mpd[keys[2]]}lr_{mpd[keys[3]]}dor_{mpd[keys[4]]}ro_{mpd[keys[5]]}bs_{mpd[keys[6]]}ill_{mpd[keys[7]]}MAE_{mpd[keys[8]]}Min_val\"\n",
    "            #name = f\"Estimated_OC_fy_{mpd[keys[0]]}h_{mpd[keys[1]]}e_{mpd[keys[2]]}lr_{mpd[keys[3]]}dor_{mpd[keys[4]]}np_{mpd[keys[5]]}ro_{mpd[keys[6]]}bs_{mpd[keys[7]]}ill_{mpd[keys[8]]}MAE\"\n",
    "            time_row = pd.DataFrame({\"Model\":name,\"Evaluation Time\": t_elapsed},index = [i] )\n",
    "            i+=1\n",
    "            df_extraction_time = pd.concat([df_extraction_time,time_row])\n",
    "            #Write exports to csv\n",
    "            df_all_exec.to_csv(f\"NN_estimate_exports/{folder_exports}/{name}.csv\")\n",
    "df_extraction_time.to_csv(f\"NN_estimate_exports/{folder_exports}/evaluation_times.csv\")"
   ]
  },
  {
   "cell_type": "code",
   "execution_count": 16,
   "id": "16de551f",
   "metadata": {},
   "outputs": [
    {
     "ename": "NameError",
     "evalue": "name 'get_NN_estimates_from_dfs_in' is not defined",
     "output_type": "error",
     "traceback": [
      "\u001b[1;31m---------------------------------------------------------------------------\u001b[0m",
      "\u001b[1;31mNameError\u001b[0m                                 Traceback (most recent call last)",
      "Cell \u001b[1;32mIn[16], line 5\u001b[0m\n\u001b[0;32m      3\u001b[0m df_all_exec \u001b[38;5;241m=\u001b[39m pd\u001b[38;5;241m.\u001b[39mDataFrame()\n\u001b[0;32m      4\u001b[0m \u001b[38;5;28;01mfor\u001b[39;00m ex \u001b[38;5;129;01min\u001b[39;00m all_executions:\n\u001b[1;32m----> 5\u001b[0m     prediction \u001b[38;5;241m=\u001b[39m \u001b[43mget_NN_estimates_from_dfs_in\u001b[49m(m,ex,dfs_in)\n\u001b[0;32m      6\u001b[0m     \u001b[38;5;66;03m#actual= get_actual(ex,dfs_out) \u001b[39;00m\n\u001b[0;32m      7\u001b[0m     df_all_exec[ex] \u001b[38;5;241m=\u001b[39m prediction\n",
      "\u001b[1;31mNameError\u001b[0m: name 'get_NN_estimates_from_dfs_in' is not defined"
     ]
    }
   ],
   "source": [
    "ex = all_executions[0]\n",
    "\n",
    "df_all_exec = pd.DataFrame()\n",
    "for ex in all_executions:\n",
    "    prediction = get_NN_estimates_from_dfs_in(m,ex,dfs_in)\n",
    "    #actual= get_actual(ex,dfs_out) \n",
    "    df_all_exec[ex] = prediction\n",
    "\n",
    "mpd = model_params_dict = extract_model_params_from_row(row)\n",
    "keys = [\"Model_type\",\"nb_e\",\"lr\",\"dor\",\"np\",\"ro\",\"bs\",\"alpha\",\"MAE\"]\n",
    "name = f\"Estimated_OC_12w_{mpd[keys[0]]}h_{mpd[keys[1]]}e_{mpd[keys[2]]}lr_{mpd[keys[3]]}dor_{mpd[keys[4]]}np_{mpd[keys[5]]}ro_{mpd[keys[6]]}bs_{mpd[keys[7]]}ill_{mpd[keys[8]]}MAE\"\n",
    "df_all_exec.to_csv(f\"NN_estimate_exports/{name}.csv\")"
   ]
  }
 ],
 "metadata": {
  "kernelspec": {
   "display_name": "Python 3 (ipykernel)",
   "language": "python",
   "name": "python3"
  },
  "language_info": {
   "codemirror_mode": {
    "name": "ipython",
    "version": 3
   },
   "file_extension": ".py",
   "mimetype": "text/x-python",
   "name": "python",
   "nbconvert_exporter": "python",
   "pygments_lexer": "ipython3",
   "version": "3.10.11"
  }
 },
 "nbformat": 4,
 "nbformat_minor": 5
}
