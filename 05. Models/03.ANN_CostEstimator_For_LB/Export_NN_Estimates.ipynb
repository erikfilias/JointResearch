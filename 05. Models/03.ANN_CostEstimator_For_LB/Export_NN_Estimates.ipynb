{
 "cells": [
  {
   "cell_type": "code",
   "execution_count": 1,
   "id": "9cabea9a",
   "metadata": {},
   "outputs": [],
   "source": [
    "import pandas as pd\n",
    "import DataLoading\n",
    "import NN_classes\n",
    "import NN_evaluation\n",
    "import torch\n",
    "import matplotlib.pyplot as plt\n",
    "import  numpy as np"
   ]
  },
  {
   "cell_type": "code",
   "execution_count": 15,
   "id": "734b90b1",
   "metadata": {},
   "outputs": [],
   "source": [
    "def calculate_lb_from_ts_out(ts_out,ex):\n",
    "    b= \"Network_Existing_Generation_Full\"\n",
    "    all_ts_out_ex = torch.concat((ts_out[\"train\"][ex],ts_out[\"test\"][ex],ts_out[\"val\"][ex]))\n",
    "    all_ts_out_benchmark = torch.concat((ts_out[\"train\"][b],ts_out[\"test\"][b],ts_out[\"val\"][b]))\n",
    "    return all_ts_out_benchmark-all_ts_out_ex\n",
    "    \n",
    "\n",
    "def find_xthbest_model_params_from_df(df_losses,loss_to_sort,xth_best=1):\n",
    "    return df_losses.sort_values(by =loss_to_sort)[xth_best-1:xth_best]\n",
    "\n",
    "def extract_model_params_from_row(row):\n",
    "    model_type = row.Model_type.item()\n",
    "    model_type = tuple(map(int, model_type.replace(\"(\",\"\").replace(\")\",\"\").split(', ')))\n",
    "    dor = row.Dor.item()\n",
    "    lr = row.Lr.item()\n",
    "    nb_e = row.Epochs.item()\n",
    "\n",
    "    relu_out = row.Relu_out.item()\n",
    "    np =row.Np.item()\n",
    "    bs = row.Batch_size.item()\n",
    "    alpha = row.alpha.item()\n",
    "    MAE = row.MAE.item()\n",
    "    \n",
    "    return {\"Model_type\": model_type,\"nb_e\":nb_e,\"lr\":lr,\"dor\":dor,\"np\":np,\"ro\":relu_out,\"bs\":bs,\"alpha\":alpha,\"MAE\":MAE}\n",
    "    \n",
    "\n",
    "def get_lb_est_and_actual(m,ex,dfs_in,dfs_out): \n",
    "    negf = all_executions[0]\n",
    "    ex_in_e = torch.nan_to_num(dfs_in[ex].to_numpy()/maxs[\"in\"])\n",
    "    ex_in_negf = torch.nan_to_num(dfs_in[negf].to_numpy()/maxs[\"in\"])\n",
    "\n",
    "    prediction_e = m(ex_in_e.float())[0].detach().numpy()\n",
    "    prediction_negf = m(ex_in_negf.float())[0].detach().numpy()\n",
    "\n",
    "    lb_est = prediction_negf- prediction_e\n",
    "    lb_actual = calculate_lb_from_dfs_out(dfs_out,ex).to_numpy()\n",
    "    return lb_est.flatten(),lb_actual.flatten()\n",
    "\n",
    "def get_NN_estimates_from_dfs_in(m,ex,dfs_in):\n",
    "    ex_in_e = torch.nan_to_num(dfs_in[ex].to_numpy()/maxs[\"in\"])\n",
    "    prediction_e = m(ex_in_e.float())[0].detach().numpy()\n",
    "    return prediction_e.flatten()\n",
    "def get_actual_from_dfs_out(ex,dfs_out):\n",
    "    actual = dfs_out[execution].sum(axis=1).to_numpy()\n",
    "    return actual"
   ]
  },
  {
   "cell_type": "code",
   "execution_count": 3,
   "id": "e2f7cf15",
   "metadata": {
    "collapsed": true
   },
   "outputs": [
    {
     "name": "stdout",
     "output_type": "stream",
     "text": [
      "input_f_sc01_Network_Existing_Generation_Full_2030.csv\n",
      "8\n",
      "input_f_sc01_Network_Line_In_Node_1_Node_2_cac1_2030.csv\n",
      "8\n",
      "input_f_sc01_Network_Line_In_Node_1_Node_2_cac2_2030.csv\n",
      "8\n",
      "input_f_sc01_Network_Line_In_Node_1_Node_2_cac3_2030.csv\n",
      "8\n",
      "input_f_sc01_Network_Line_In_Node_1_Node_3_cac1_2030.csv\n",
      "8\n",
      "input_f_sc01_Network_Line_In_Node_1_Node_3_cac2_2030.csv\n",
      "8\n",
      "input_f_sc01_Network_Line_In_Node_1_Node_3_cac3_2030.csv\n",
      "8\n",
      "input_f_sc01_Network_Line_In_Node_2_Node_3_cac1_2030.csv\n",
      "8\n",
      "input_f_sc01_Network_Line_In_Node_2_Node_3_cac2_2030.csv\n",
      "8\n",
      "input_f_sc01_Network_Line_In_Node_2_Node_3_cac3_2030.csv\n",
      "8\n"
     ]
    }
   ],
   "source": [
    "sc = \"sc01\"\n",
    "period = \"2030\"\n",
    "#folder = \"../Data/RTS24_AC_12w_ext_o_dummy/\"\n",
    "folder = \"../Data/3-bus_AC_12w_ext_o_dummy_LCOE\"\n",
    "\n",
    "all_executions = DataLoading.list_executions(folder=folder,per = period,sc=sc)\n",
    "te_s = 0.3\n",
    "val_s = 0.4\n",
    "dfs_in, dfs_out, dfs_inter = DataLoading.load_data_ext_out(folder, all_executions, period, sc, [\"PowerFlow\"])\n",
    "dfs_inter_j = DataLoading.join_frames_inter_layer(dfs_inter)\n",
    "dfs_inter_j = DataLoading.trim_columns_to_common(dfs_inter_j)\n",
    "# Convert to pytorch tensors\n",
    "ts_in, ts_out, ts_inter = DataLoading.split_tr_val_te_ext_out(dfs_in, dfs_out, dfs_inter_j, all_executions, te_s, val_s)\n",
    "d_ft_in, d_ft_out, d_ft_inter,maxs = DataLoading.concat_and_normalize_ext_out(ts_in, ts_out, ts_inter, all_executions)\n",
    "\n"
   ]
  },
  {
   "cell_type": "code",
   "execution_count": 4,
   "id": "db3fc771",
   "metadata": {
    "collapsed": true
   },
   "outputs": [
    {
     "name": "stdout",
     "output_type": "stream",
     "text": [
      "input_f_sc01_Network_Existing_Generation_Full_2030.csv\n",
      "8\n",
      "input_f_sc01_Network_Line_In_Node_1_Node_2_cac1_2030.csv\n",
      "8\n",
      "input_f_sc01_Network_Line_In_Node_1_Node_2_cac2_2030.csv\n",
      "8\n",
      "input_f_sc01_Network_Line_In_Node_1_Node_2_cac3_2030.csv\n",
      "8\n",
      "input_f_sc01_Network_Line_In_Node_1_Node_3_cac1_2030.csv\n",
      "8\n",
      "input_f_sc01_Network_Line_In_Node_1_Node_3_cac2_2030.csv\n",
      "8\n",
      "input_f_sc01_Network_Line_In_Node_1_Node_3_cac3_2030.csv\n",
      "8\n",
      "input_f_sc01_Network_Line_In_Node_2_Node_3_cac1_2030.csv\n",
      "8\n",
      "input_f_sc01_Network_Line_In_Node_2_Node_3_cac2_2030.csv\n",
      "8\n",
      "input_f_sc01_Network_Line_In_Node_2_Node_3_cac3_2030.csv\n",
      "8\n"
     ]
    }
   ],
   "source": [
    "sc = \"sc01\"\n",
    "period = \"2030\"\n",
    "folder = \"../Data/3-bus_AC_fy_ext_o_dummy_LCOE/\"\n",
    "all_executions = DataLoading.list_executions(folder=folder,per = period,sc=sc)\n",
    "dfs_in_fy = DataLoading.load_data_input_only(folder,all_executions,period,sc)\n",
    "\n",
    "input_size = dfs_in[\"Network_Existing_Generation_Full\"].shape[1]\n",
    "inter_size = dfs_inter_j[\"Network_Existing_Generation_Full\"].shape[1]"
   ]
  },
  {
   "cell_type": "code",
   "execution_count": 5,
   "id": "dff81bef",
   "metadata": {},
   "outputs": [],
   "source": [
    "# hyperloop_name = \"RTS24_AC_12w_dummy_0.3_v0.4_PF_sa_rand_0_40\"\n",
    "hyperloop_name = \"3-bus_AC_12w_dummy_0.3_v0.4_PF_LCOE_0_10\"\n",
    "df_losses = pd.read_csv(f\"ResultsClusterRuns/Loss_results_csv/{hyperloop_name}.csv\",index_col=0)\n",
    "#df_losses = pd.read_csv(f\"Loss_results_csv/{hyperloop_name}.csv\",index_col=0)\n"
   ]
  },
  {
   "cell_type": "code",
   "execution_count": 21,
   "id": "71d17c43",
   "metadata": {},
   "outputs": [
    {
     "name": "stdout",
     "output_type": "stream",
     "text": [
      "[16, 24, 5, 3, 1]\n"
     ]
    }
   ],
   "source": [
    "f = df_losses.alpha ==0\n",
    "# f = df_losses.Model_type == \"(3, 2)\"\n",
    "loss_to_sort = \"Te_l_t_mse\"\n",
    "xth_best = 2\n",
    "row = NN_evaluation.find_xthbest_model_params_from_df(df_losses[f],loss_to_sort,xth_best)\n",
    "m = NN_evaluation.create_model_and_load_state_from_row(row,input_size,inter_size,hyperloop_name,cluster_run=True)"
   ]
  },
  {
   "cell_type": "code",
   "execution_count": 22,
   "id": "d44fc881",
   "metadata": {},
   "outputs": [],
   "source": [
    "df_all_exec = pd.DataFrame()\n",
    "folder_exports = \"3-bus_AC_fy_ext_o_dummy_LCOE\"\n",
    "for ex in all_executions:\n",
    "    prediction = NN_evaluation.get_NN_estimates_from_dfs_in(m,ex,dfs_in_fy,maxs)\n",
    "    #actual= get_actual(ex,dfs_out) \n",
    "    df_all_exec[ex] = prediction\n",
    "\n",
    "mpd = model_params_dict = NN_evaluation.extract_model_params_from_row(row)\n",
    "keys = [\"Model_type\",\"nb_e\",\"lr\",\"dor\",\"np\",\"ro\",\"bs\",\"alpha\",\"MAE\"]\n",
    "name = f\"Estimated_OC_fy_{mpd[keys[0]]}h_{mpd[keys[1]]}e_{mpd[keys[2]]}lr_{mpd[keys[3]]}dor_{mpd[keys[4]]}np_{mpd[keys[5]]}ro_{mpd[keys[6]]}bs_{mpd[keys[7]]}ill_{mpd[keys[8]]}MAE\"\n",
    "df_all_exec.to_csv(f\"NN_estimate_exports/{folder_exports}/{name}.csv\")"
   ]
  },
  {
   "cell_type": "code",
   "execution_count": null,
   "id": "16de551f",
   "metadata": {},
   "outputs": [],
   "source": [
    "ex = all_executions[0]\n",
    "\n",
    "df_all_exec = pd.DataFrame()\n",
    "for ex in all_executions:\n",
    "    prediction = get_NN_estimates_from_dfs_in(m,ex,dfs_in)\n",
    "    #actual= get_actual(ex,dfs_out) \n",
    "    df_all_exec[ex] = prediction\n",
    "\n",
    "mpd = model_params_dict = extract_model_params_from_row(row)\n",
    "keys = [\"Model_type\",\"nb_e\",\"lr\",\"dor\",\"np\",\"ro\",\"bs\",\"alpha\",\"MAE\"]\n",
    "name = f\"Estimated_OC_12w_{mpd[keys[0]]}h_{mpd[keys[1]]}e_{mpd[keys[2]]}lr_{mpd[keys[3]]}dor_{mpd[keys[4]]}np_{mpd[keys[5]]}ro_{mpd[keys[6]]}bs_{mpd[keys[7]]}ill_{mpd[keys[8]]}MAE\"\n",
    "df_all_exec.to_csv(f\"NN_estimate_exports/{name}.csv\")"
   ]
  }
 ],
 "metadata": {
  "kernelspec": {
   "display_name": "Python 3 (ipykernel)",
   "language": "python",
   "name": "python3"
  },
  "language_info": {
   "codemirror_mode": {
    "name": "ipython",
    "version": 3
   },
   "file_extension": ".py",
   "mimetype": "text/x-python",
   "name": "python",
   "nbconvert_exporter": "python",
   "pygments_lexer": "ipython3",
   "version": "3.10.11"
  }
 },
 "nbformat": 4,
 "nbformat_minor": 5
}
