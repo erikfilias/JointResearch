{
 "cells": [
  {
   "cell_type": "code",
   "execution_count": 1,
   "id": "2d1ed792",
   "metadata": {},
   "outputs": [],
   "source": [
    "import pandas as pd\n",
    "import DataLoading\n",
    "import torch\n",
    "import matplotlib.pyplot as plt\n",
    "import NN_evaluation\n",
    "import numpy as np "
   ]
  },
  {
   "cell_type": "code",
   "execution_count": 2,
   "id": "a0133148",
   "metadata": {
    "collapsed": true
   },
   "outputs": [
    {
     "name": "stdout",
     "output_type": "stream",
     "text": [
      "input_f_sc01_Network_Existing_Generation_Full_2030.csv\n",
      "14\n",
      "input_f_sc01_Network_Full_Generation_Full_2030.csv\n",
      "14\n",
      "input_f_sc01_PINT_Network_Line_In_Node_1_Node_2_cac1_2030.csv\n",
      "14\n",
      "input_f_sc01_PINT_Network_Line_In_Node_1_Node_2_cac2_2030.csv\n",
      "14\n",
      "input_f_sc01_PINT_Network_Line_In_Node_1_Node_2_cac3_2030.csv\n",
      "14\n",
      "input_f_sc01_PINT_Network_Line_In_Node_1_Node_3_cac1_2030.csv\n",
      "14\n",
      "input_f_sc01_PINT_Network_Line_In_Node_1_Node_3_cac2_2030.csv\n",
      "14\n",
      "input_f_sc01_PINT_Network_Line_In_Node_1_Node_3_cac3_2030.csv\n",
      "14\n",
      "input_f_sc01_PINT_Network_Line_In_Node_2_Node_3_cac1_2030.csv\n",
      "14\n",
      "input_f_sc01_PINT_Network_Line_In_Node_2_Node_3_cac2_2030.csv\n",
      "14\n",
      "input_f_sc01_PINT_Network_Line_In_Node_2_Node_3_cac3_2030.csv\n",
      "14\n",
      "input_f_sc01_TOOT_Network_Line_In_Node_1_Node_2_cac1_2030.csv\n",
      "14\n",
      "input_f_sc01_TOOT_Network_Line_In_Node_1_Node_2_cac2_2030.csv\n",
      "14\n",
      "input_f_sc01_TOOT_Network_Line_In_Node_1_Node_2_cac3_2030.csv\n",
      "14\n",
      "input_f_sc01_TOOT_Network_Line_In_Node_1_Node_3_cac1_2030.csv\n",
      "14\n",
      "input_f_sc01_TOOT_Network_Line_In_Node_1_Node_3_cac2_2030.csv\n",
      "14\n",
      "input_f_sc01_TOOT_Network_Line_In_Node_1_Node_3_cac3_2030.csv\n",
      "14\n",
      "input_f_sc01_TOOT_Network_Line_In_Node_2_Node_3_cac1_2030.csv\n",
      "14\n",
      "input_f_sc01_TOOT_Network_Line_In_Node_2_Node_3_cac2_2030.csv\n",
      "14\n",
      "input_f_sc01_TOOT_Network_Line_In_Node_2_Node_3_cac3_2030.csv\n",
      "14\n"
     ]
    }
   ],
   "source": [
    "sc = \"sc01\"\n",
    "period = \"2030\"\n",
    "case= \"3-bus\"\n",
    "folder = f\"../Data/{case}_DC_fy/\"\n",
    "\n",
    "all_executions = DataLoading.list_executions(folder=folder,per = period,sc=sc)\n",
    "te_s = 0.3\n",
    "val_s = 0.3\n",
    "dfs_in, dfs_out, dfs_inter = DataLoading.load_data_ext_out(folder, all_executions, period, sc, [\"PowerFlow\"],\"SystemCosts\")\n",
    "dfs_inter_j = DataLoading.join_frames_inter_layer(dfs_inter,all_executions)\n",
    "dfs_inter_j = DataLoading.trim_columns_to_common(dfs_inter_j)\n",
    "# Convert to pytorch tensors\n",
    "ts_in, ts_out, ts_inter = DataLoading.split_tr_val_te_ext_out(dfs_in, dfs_out, dfs_inter_j, all_executions, te_s, val_s)\n",
    "d_ft_in, d_ft_out, d_ft_inter,maxs = DataLoading.concat_and_normalize_ext_out(ts_in, ts_out, ts_inter, all_executions)\n",
    "\n",
    "input_size = dfs_in[\"Network_Existing_Generation_Full\"].shape[1]\n",
    "inter_size = dfs_inter_j[\"Network_Existing_Generation_Full\"].shape[1]\n",
    "\n",
    "t_in_fy, t_out_fy, t_inter_fy, maxs = DataLoading.concat_all_exec_fy(dfs_in=dfs_in, dfs_out=dfs_out, dfs_inter_j=dfs_inter_j,executions=all_executions,normalize_out=True)\n"
   ]
  },
  {
   "cell_type": "code",
   "execution_count": 3,
   "id": "8a850754",
   "metadata": {},
   "outputs": [
    {
     "name": "stdout",
     "output_type": "stream",
     "text": [
      "Input standard dev: tensor([0.1405, 0.1122, 0.1228, 0.3096, 0.2013, 0.5000, 0.5000, 0.5000, 0.5000,\n",
      "        0.5000, 0.5000, 0.5000, 0.5000, 0.5000], dtype=torch.float64)\n",
      "Intermediate layer standard dev: tensor([0.4673, 0.2522, 0.2626], dtype=torch.float64)\n",
      "Output standard dev: tensor(0.0899, dtype=torch.float64)\n"
     ]
    },
    {
     "data": {
      "text/plain": [
       "tensor(0.2397, dtype=torch.float64)"
      ]
     },
     "execution_count": 3,
     "metadata": {},
     "output_type": "execute_result"
    }
   ],
   "source": [
    "#Calculate some overall metrics such as variance \n",
    "torch.mean(t_in_fy,axis = 0)\n",
    "print(\"Input standard dev:\", torch.std(t_in_fy,axis = 0))\n",
    "\n",
    "torch.mean(t_inter_fy,axis = 0)\n",
    "print(\"Intermediate layer standard dev:\",torch.std(t_inter_fy,axis = 0))\n",
    "\n",
    "print(\"Output standard dev:\",torch.std(t_out_fy,axis = 0))\n",
    "torch.mean(t_out_fy,axis = 0)\n"
   ]
  },
  {
   "cell_type": "code",
   "execution_count": 4,
   "id": "a7fb5825",
   "metadata": {
    "collapsed": true
   },
   "outputs": [
    {
     "name": "stdout",
     "output_type": "stream",
     "text": [
      "tensor(0.0914, dtype=torch.float64) tensor(2.3496e-13, dtype=torch.float64) tensor(0.1610, dtype=torch.float64)\n"
     ]
    },
    {
     "data": {
      "text/plain": [
       "{'whiskers': [<matplotlib.lines.Line2D at 0x1fb2495fe50>,\n",
       "  <matplotlib.lines.Line2D at 0x1fb249ac130>],\n",
       " 'caps': [<matplotlib.lines.Line2D at 0x1fb249ac3d0>,\n",
       "  <matplotlib.lines.Line2D at 0x1fb249ac670>],\n",
       " 'boxes': [<matplotlib.lines.Line2D at 0x1fb2495fbb0>],\n",
       " 'medians': [<matplotlib.lines.Line2D at 0x1fb249ac910>],\n",
       " 'fliers': [<matplotlib.lines.Line2D at 0x1fb249acbb0>],\n",
       " 'means': []}"
      ]
     },
     "execution_count": 4,
     "metadata": {},
     "output_type": "execute_result"
    },
    {
     "data": {
      "image/png": "[encoded data removed]",
      "text/plain": [
       "<Figure size 640x480 with 1 Axes>"
      ]
     },
     "metadata": {},
     "output_type": "display_data"
    }
   ],
   "source": [
    "#Look at the average difference and percentual deviation incurred by installing all candidates\n",
    "existing_actual = NN_evaluation.get_actual_from_dfs_out(all_executions[0],dfs_out)/maxs[\"out\"]\n",
    "full_actual = NN_evaluation.get_actual_from_dfs_out(all_executions[1],dfs_out)/maxs[\"out\"]\n",
    "\n",
    "differences = existing_actual - full_actual\n",
    "deviation_existing = torch.div(differences,existing_actual) \n",
    "\n",
    "print(torch.mean(deviation_existing),torch.median(deviation_existing), torch.std(deviation_existing))\n",
    "plt.boxplot(differences.detach().numpy())\n",
    "plt.boxplot(deviation_existing.detach().numpy())"
   ]
  },
  {
   "cell_type": "code",
   "execution_count": 73,
   "id": "a1295ce4",
   "metadata": {},
   "outputs": [],
   "source": [
    "#Collect difference and deviation incurred by individual candidates in dataframe\n",
    "ics = DataLoading.list_investments_candidates_from_execs(executions=all_executions)\n",
    "df_lb = pd.DataFrame()\n",
    "for ic in ics:\n",
    "    ix_P = [i for i, string in enumerate(all_executions) if ic in string and \"PINT\" in string]\n",
    "    ix_T = [i for i, string in enumerate(all_executions) if ic in string and \"TOOT\" in string]\n",
    "    ex_P  = all_executions[ix_P[0]]\n",
    "    ex_T = all_executions[ix_T[0]]\n",
    "\n",
    "    ex_actual_P = NN_evaluation.get_actual_from_dfs_out(ex_P,dfs_out)/maxs[\"out\"]\n",
    "    ex_actual_T = NN_evaluation.get_actual_from_dfs_out(ex_T,dfs_out)/maxs[\"out\"]\n",
    "\n",
    "    lb_P = existing_actual -ex_actual_P\n",
    "    lb_T = - (full_actual - ex_actual_T)\n",
    "\n",
    "    lb = (lb_P + lb_T)/2\n",
    "    df_lb[ic] = lb\n",
    "    #ic,ex_P,ex_T,lb.sum()\n",
    "df_lb_dev = df_lb.div(existing_actual,axis=0)"
   ]
  },
  {
   "cell_type": "code",
   "execution_count": 104,
   "id": "0aa69b17",
   "metadata": {},
   "outputs": [
    {
     "data": {
      "text/plain": [
       "<Axes: >"
      ]
     },
     "execution_count": 104,
     "metadata": {},
     "output_type": "execute_result"
    },
    {
     "data": {
      "image/png": "[encoded data removed]",
      "text/plain": [
       "<Figure size 640x480 with 1 Axes>"
      ]
     },
     "metadata": {},
     "output_type": "display_data"
    }
   ],
   "source": [
    "df_lb.plot(kind = \"box\")"
   ]
  },
  {
   "cell_type": "code",
   "execution_count": 77,
   "id": "b5445d44",
   "metadata": {
    "collapsed": true
   },
   "outputs": [
    {
     "data": {
      "text/plain": [
       "Network_Line_In_Node_1_Node_2_cac1    0.009197\n",
       "Network_Line_In_Node_1_Node_2_cac2    0.014961\n",
       "Network_Line_In_Node_1_Node_2_cac3    0.021679\n",
       "Network_Line_In_Node_1_Node_3_cac1    0.017911\n",
       "Network_Line_In_Node_1_Node_3_cac2    0.026364\n",
       "Network_Line_In_Node_1_Node_3_cac3    0.030725\n",
       "Network_Line_In_Node_2_Node_3_cac1    0.033423\n",
       "Network_Line_In_Node_2_Node_3_cac2    0.043741\n",
       "Network_Line_In_Node_2_Node_3_cac3    0.045721\n",
       "dtype: float64"
      ]
     },
     "execution_count": 77,
     "metadata": {},
     "output_type": "execute_result"
    }
   ],
   "source": [
    "df_lb_dev.mean()"
   ]
  },
  {
   "cell_type": "code",
   "execution_count": 105,
   "id": "aaeefee2",
   "metadata": {},
   "outputs": [
    {
     "name": "stdout",
     "output_type": "stream",
     "text": [
      "[28, 42, 8, 3, 1]\n",
      "OE_2900hours_(3, 1)h_256e_0.0025lr_0dor_Falsero_64bs_0ill_TrueMAE min_val\n",
      "trained_models/rand_hours_3-bus_DC_0.3_v0.3_PF_0_20/min_val/model_OE_2900hours_(3, 1)h_256e_0.0025lr_0dor_Falsero_64bs_0ill_TrueMAE.pth\n"
     ]
    }
   ],
   "source": [
    "#Model deviations\n",
    "hyperloop_name = \"rand_hours_3-bus_DC_0.3_v0.3_PF_0_20\"\n",
    "df_losses = pd.read_csv(f\"Loss_results_csv/{hyperloop_name}.csv\",index_col=0)\n",
    "f = df_losses.Nb_hours_used >=1\n",
    "\n",
    "loss_to_sort = \"fy_l_mse\"\n",
    "xth_best = 1\n",
    "\n",
    "row = NN_evaluation.find_xthbest_model_params_from_df(df_losses[f],loss_to_sort,xth_best)\n",
    "m = NN_evaluation.create_model_and_load_state_from_row(row,input_size,inter_size,hyperloop_name,cluster_run=False)\n",
    "prediction = m(t_in_fy.float())[0].squeeze().detach().numpy()\n",
    "\n",
    "diff = prediction - t_out_fy.numpy().transpose()\n",
    "dev = diff/prediction"
   ]
  },
  {
   "cell_type": "code",
   "execution_count": 108,
   "id": "3d7db6f4",
   "metadata": {},
   "outputs": [
    {
     "data": {
      "text/plain": [
       "{'whiskers': [<matplotlib.lines.Line2D at 0x1fb32e5f520>,\n",
       "  <matplotlib.lines.Line2D at 0x1fb32e5f7c0>],\n",
       " 'caps': [<matplotlib.lines.Line2D at 0x1fb329d6ce0>,\n",
       "  <matplotlib.lines.Line2D at 0x1fb329d6f80>],\n",
       " 'boxes': [<matplotlib.lines.Line2D at 0x1fb32e5f280>],\n",
       " 'medians': [<matplotlib.lines.Line2D at 0x1fb329d7220>],\n",
       " 'fliers': [<matplotlib.lines.Line2D at 0x1fb329d74c0>],\n",
       " 'means': []}"
      ]
     },
     "execution_count": 108,
     "metadata": {},
     "output_type": "execute_result"
    },
    {
     "data": {
      "image/png": "[encoded data removed]",
      "text/plain": [
       "<Figure size 640x480 with 1 Axes>"
      ]
     },
     "metadata": {},
     "output_type": "display_data"
    }
   ],
   "source": [
    "plt.boxplot(dev)"
   ]
  }
 ],
 "metadata": {
  "kernelspec": {
   "display_name": "Python 3 (ipykernel)",
   "language": "python",
   "name": "python3"
  },
  "language_info": {
   "codemirror_mode": {
    "name": "ipython",
    "version": 3
   },
   "file_extension": ".py",
   "mimetype": "text/x-python",
   "name": "python",
   "nbconvert_exporter": "python",
   "pygments_lexer": "ipython3",
   "version": "3.10.11"
  }
 },
 "nbformat": 4,
 "nbformat_minor": 5
}
