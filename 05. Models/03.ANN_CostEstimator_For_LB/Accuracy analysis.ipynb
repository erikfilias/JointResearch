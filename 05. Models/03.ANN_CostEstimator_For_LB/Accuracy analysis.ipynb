{
 "cells": [
  {
   "cell_type": "code",
   "execution_count": 1,
   "id": "2d1ed792",
   "metadata": {},
   "outputs": [],
   "source": [
    "import pandas as pd\n",
    "import DataLoading\n",
    "import torch\n",
    "import matplotlib.pyplot as plt\n",
    "import NN_evaluation\n",
    "import numpy as np "
   ]
  },
  {
   "cell_type": "code",
   "execution_count": 2,
   "id": "a0133148",
   "metadata": {},
   "outputs": [
    {
     "name": "stdout",
     "output_type": "stream",
     "text": [
      "input_f_sc01_Network_Existing_Generation_Full_2030.csv\n",
      "90\n",
      "input_f_sc01_Network_Full_Generation_Full_2030.csv\n",
      "90\n",
      "input_f_sc01_PINT_Network_Line_In_N_101_N_102_cac1_2030.csv\n",
      "90\n",
      "input_f_sc01_PINT_Network_Line_In_N_101_N_103_cac1_2030.csv\n",
      "90\n",
      "input_f_sc01_PINT_Network_Line_In_N_101_N_105_cac1_2030.csv\n",
      "90\n",
      "input_f_sc01_PINT_Network_Line_In_N_102_N_104_cac1_2030.csv\n",
      "90\n",
      "input_f_sc01_PINT_Network_Line_In_N_102_N_106_cac1_2030.csv\n",
      "90\n",
      "input_f_sc01_PINT_Network_Line_In_N_103_N_109_cac1_2030.csv\n",
      "90\n",
      "input_f_sc01_PINT_Network_Line_In_N_103_N_124_cac1_2030.csv\n",
      "90\n",
      "input_f_sc01_PINT_Network_Line_In_N_104_N_109_cac1_2030.csv\n",
      "90\n",
      "input_f_sc01_PINT_Network_Line_In_N_105_N_110_cac1_2030.csv\n",
      "90\n",
      "input_f_sc01_PINT_Network_Line_In_N_106_N_108_cac1_2030.csv\n",
      "90\n",
      "input_f_sc01_PINT_Network_Line_In_N_106_N_110_cac1_2030.csv\n",
      "90\n",
      "input_f_sc01_PINT_Network_Line_In_N_107_N_108_cac1_2030.csv\n",
      "90\n",
      "input_f_sc01_PINT_Network_Line_In_N_108_N_109_cac1_2030.csv\n",
      "90\n",
      "input_f_sc01_PINT_Network_Line_In_N_108_N_110_cac1_2030.csv\n",
      "90\n",
      "input_f_sc01_PINT_Network_Line_In_N_109_N_111_cac1_2030.csv\n",
      "90\n",
      "input_f_sc01_PINT_Network_Line_In_N_109_N_112_cac1_2030.csv\n",
      "90\n",
      "input_f_sc01_PINT_Network_Line_In_N_110_N_111_cac1_2030.csv\n",
      "90\n",
      "input_f_sc01_PINT_Network_Line_In_N_110_N_112_cac1_2030.csv\n",
      "90\n",
      "input_f_sc01_PINT_Network_Line_In_N_111_N_113_cac1_2030.csv\n",
      "90\n",
      "input_f_sc01_PINT_Network_Line_In_N_111_N_114_cac1_2030.csv\n",
      "90\n",
      "input_f_sc01_PINT_Network_Line_In_N_112_N_113_cac1_2030.csv\n",
      "90\n",
      "input_f_sc01_PINT_Network_Line_In_N_112_N_123_cac1_2030.csv\n",
      "90\n",
      "input_f_sc01_PINT_Network_Line_In_N_113_N_123_cac1_2030.csv\n",
      "90\n",
      "input_f_sc01_PINT_Network_Line_In_N_114_N_116_cac1_2030.csv\n",
      "90\n",
      "input_f_sc01_PINT_Network_Line_In_N_115_N_116_cac1_2030.csv\n",
      "90\n",
      "input_f_sc01_PINT_Network_Line_In_N_115_N_121_cac1_2030.csv\n",
      "90\n",
      "input_f_sc01_PINT_Network_Line_In_N_115_N_121_cac2_2030.csv\n",
      "90\n",
      "input_f_sc01_PINT_Network_Line_In_N_115_N_124_cac1_2030.csv\n",
      "90\n",
      "input_f_sc01_PINT_Network_Line_In_N_116_N_117_cac1_2030.csv\n",
      "90\n",
      "input_f_sc01_PINT_Network_Line_In_N_116_N_119_cac1_2030.csv\n",
      "90\n",
      "input_f_sc01_PINT_Network_Line_In_N_117_N_118_cac1_2030.csv\n",
      "90\n",
      "input_f_sc01_PINT_Network_Line_In_N_117_N_122_cac1_2030.csv\n",
      "90\n",
      "input_f_sc01_PINT_Network_Line_In_N_118_N_121_cac1_2030.csv\n",
      "90\n",
      "input_f_sc01_PINT_Network_Line_In_N_118_N_121_cac2_2030.csv\n",
      "90\n",
      "input_f_sc01_PINT_Network_Line_In_N_119_N_120_cac1_2030.csv\n",
      "90\n",
      "input_f_sc01_PINT_Network_Line_In_N_119_N_120_cac2_2030.csv\n",
      "90\n",
      "input_f_sc01_PINT_Network_Line_In_N_120_N_123_cac1_2030.csv\n",
      "90\n",
      "input_f_sc01_PINT_Network_Line_In_N_120_N_123_cac2_2030.csv\n",
      "90\n",
      "input_f_sc01_PINT_Network_Line_In_N_121_N_122_cac1_2030.csv\n",
      "90\n",
      "input_f_sc01_TOOT_Network_Line_In_N_101_N_102_cac1_2030.csv\n",
      "90\n",
      "input_f_sc01_TOOT_Network_Line_In_N_101_N_103_cac1_2030.csv\n",
      "90\n",
      "input_f_sc01_TOOT_Network_Line_In_N_101_N_105_cac1_2030.csv\n",
      "90\n",
      "input_f_sc01_TOOT_Network_Line_In_N_102_N_104_cac1_2030.csv\n",
      "90\n",
      "input_f_sc01_TOOT_Network_Line_In_N_102_N_106_cac1_2030.csv\n",
      "90\n",
      "input_f_sc01_TOOT_Network_Line_In_N_103_N_109_cac1_2030.csv\n",
      "90\n",
      "input_f_sc01_TOOT_Network_Line_In_N_103_N_124_cac1_2030.csv\n",
      "90\n",
      "input_f_sc01_TOOT_Network_Line_In_N_104_N_109_cac1_2030.csv\n",
      "90\n",
      "input_f_sc01_TOOT_Network_Line_In_N_105_N_110_cac1_2030.csv\n",
      "90\n",
      "input_f_sc01_TOOT_Network_Line_In_N_106_N_108_cac1_2030.csv\n",
      "90\n",
      "input_f_sc01_TOOT_Network_Line_In_N_106_N_110_cac1_2030.csv\n",
      "90\n",
      "input_f_sc01_TOOT_Network_Line_In_N_107_N_108_cac1_2030.csv\n",
      "90\n",
      "input_f_sc01_TOOT_Network_Line_In_N_108_N_109_cac1_2030.csv\n",
      "90\n",
      "input_f_sc01_TOOT_Network_Line_In_N_108_N_110_cac1_2030.csv\n",
      "90\n",
      "input_f_sc01_TOOT_Network_Line_In_N_109_N_111_cac1_2030.csv\n",
      "90\n",
      "input_f_sc01_TOOT_Network_Line_In_N_109_N_112_cac1_2030.csv\n",
      "90\n",
      "input_f_sc01_TOOT_Network_Line_In_N_110_N_111_cac1_2030.csv\n",
      "90\n",
      "input_f_sc01_TOOT_Network_Line_In_N_110_N_112_cac1_2030.csv\n",
      "90\n",
      "input_f_sc01_TOOT_Network_Line_In_N_111_N_113_cac1_2030.csv\n",
      "90\n",
      "input_f_sc01_TOOT_Network_Line_In_N_111_N_114_cac1_2030.csv\n",
      "90\n",
      "input_f_sc01_TOOT_Network_Line_In_N_112_N_113_cac1_2030.csv\n",
      "90\n",
      "input_f_sc01_TOOT_Network_Line_In_N_112_N_123_cac1_2030.csv\n",
      "90\n",
      "input_f_sc01_TOOT_Network_Line_In_N_113_N_123_cac1_2030.csv\n",
      "90\n",
      "input_f_sc01_TOOT_Network_Line_In_N_114_N_116_cac1_2030.csv\n",
      "90\n",
      "input_f_sc01_TOOT_Network_Line_In_N_115_N_116_cac1_2030.csv\n",
      "90\n",
      "input_f_sc01_TOOT_Network_Line_In_N_115_N_121_cac1_2030.csv\n",
      "90\n",
      "input_f_sc01_TOOT_Network_Line_In_N_115_N_121_cac2_2030.csv\n",
      "90\n",
      "input_f_sc01_TOOT_Network_Line_In_N_115_N_124_cac1_2030.csv\n",
      "90\n",
      "input_f_sc01_TOOT_Network_Line_In_N_116_N_117_cac1_2030.csv\n",
      "90\n",
      "input_f_sc01_TOOT_Network_Line_In_N_116_N_119_cac1_2030.csv\n",
      "90\n",
      "input_f_sc01_TOOT_Network_Line_In_N_117_N_118_cac1_2030.csv\n",
      "90\n",
      "input_f_sc01_TOOT_Network_Line_In_N_117_N_122_cac1_2030.csv\n",
      "90\n",
      "input_f_sc01_TOOT_Network_Line_In_N_118_N_121_cac1_2030.csv\n",
      "90\n",
      "input_f_sc01_TOOT_Network_Line_In_N_118_N_121_cac2_2030.csv\n",
      "90\n",
      "input_f_sc01_TOOT_Network_Line_In_N_119_N_120_cac1_2030.csv\n",
      "90\n",
      "input_f_sc01_TOOT_Network_Line_In_N_119_N_120_cac2_2030.csv\n",
      "90\n",
      "input_f_sc01_TOOT_Network_Line_In_N_120_N_123_cac1_2030.csv\n",
      "90\n",
      "input_f_sc01_TOOT_Network_Line_In_N_120_N_123_cac2_2030.csv\n",
      "90\n",
      "input_f_sc01_TOOT_Network_Line_In_N_121_N_122_cac1_2030.csv\n",
      "90\n"
     ]
    }
   ],
   "source": [
    "sc = \"sc01\"\n",
    "period = \"2030\"\n",
    "case= \"RTS24\"\n",
    "folder = f\"../Data/{case}_DC_fy/\"\n",
    "\n",
    "all_executions = DataLoading.list_executions(folder=folder,per = period,sc=sc)\n",
    "te_s = 0.3\n",
    "val_s = 0.3\n",
    "dfs_in, dfs_out, dfs_inter = DataLoading.load_data_ext_out(folder, all_executions, period, sc, [\"PowerFlow\"],\"SystemCosts\")\n",
    "dfs_inter_j = DataLoading.join_frames_inter_layer(dfs_inter,all_executions)\n",
    "dfs_inter_j = DataLoading.trim_columns_to_common(dfs_inter_j)\n",
    "# Convert to pytorch tensors\n",
    "ts_in, ts_out, ts_inter = DataLoading.split_tr_val_te_ext_out(dfs_in, dfs_out, dfs_inter_j, all_executions, te_s, val_s)\n",
    "d_ft_in, d_ft_out, d_ft_inter,maxs = DataLoading.concat_and_normalize_ext_out(ts_in, ts_out, ts_inter, all_executions)\n",
    "\n",
    "input_size = dfs_in[\"Network_Existing_Generation_Full\"].shape[1]\n",
    "inter_size = dfs_inter_j[\"Network_Existing_Generation_Full\"].shape[1]\n",
    "\n",
    "t_in_fy, t_out_fy, t_inter_fy, maxs = DataLoading.concat_all_exec_fy(dfs_in=dfs_in, dfs_out=dfs_out, dfs_inter_j=dfs_inter_j,executions=all_executions,normalize_out=True)\n"
   ]
  },
  {
   "cell_type": "code",
   "execution_count": 3,
   "id": "8a850754",
   "metadata": {},
   "outputs": [
    {
     "name": "stdout",
     "output_type": "stream",
     "text": [
      "Input standard dev: tensor([0.3657, 0.3641, 0.3653, 0.3601, 0.3635, 0.3642, 0.3154, 0.3607, 0.3678,\n",
      "        0.3191, 0.3163, 0.3190, 0.3137, 0.3193, 0.3159, 0.3237, 0.3091, 0.3175,\n",
      "        0.3173, 0.3142, 0.0000, 0.0000, 0.0000, 0.0000, 0.0000, 0.0000, 0.3653,\n",
      "        0.1440, 0.1440, 0.1440, 0.1440, 0.1440, 0.1440, 0.1440, 0.1440, 0.1440,\n",
      "        0.1440, 0.0000, 0.0000, 0.1440, 0.1440, 0.1440, 0.1440, 0.0000, 0.1440,\n",
      "        0.1440, 0.1440, 0.0000, 0.0000, 0.0000, 0.0000, 0.5000, 0.5000, 0.5000,\n",
      "        0.5000, 0.5000, 0.5000, 0.5000, 0.5000, 0.5000, 0.5000, 0.5000, 0.5000,\n",
      "        0.5000, 0.5000, 0.5000, 0.5000, 0.5000, 0.5000, 0.5000, 0.5000, 0.5000,\n",
      "        0.5000, 0.5000, 0.5000, 0.5000, 0.5000, 0.5000, 0.5000, 0.5000, 0.5000,\n",
      "        0.5000, 0.5000, 0.5000, 0.5000, 0.5000, 0.5000, 0.5000, 0.5000, 0.5000],\n",
      "       dtype=torch.float64)\n",
      "Intermediate layer standard dev: tensor([0.3227, 0.2408, 0.4857, 0.4125, 0.7808, 0.2462, 0.5980, 0.5194, 0.3979,\n",
      "        0.4301, 0.4305, 0.4915, 0.4301, 0.4745, 0.5656, 0.5628, 0.4580, 0.4099,\n",
      "        0.3204, 0.4404, 0.3264, 0.5243, 0.3828, 0.3210, 0.4399, 0.5577, 0.6171,\n",
      "        0.5036, 0.4745, 0.2995, 0.2711, 0.3578, 0.6171, 0.5577, 0.3683, 0.2957,\n",
      "        0.4519, 0.4407], dtype=torch.float64)\n",
      "Output standard dev: tensor(0.0206, dtype=torch.float64)\n"
     ]
    },
    {
     "data": {
      "text/plain": [
       "tensor(0.0154, dtype=torch.float64)"
      ]
     },
     "execution_count": 3,
     "metadata": {},
     "output_type": "execute_result"
    }
   ],
   "source": [
    "#Calculate some overall metrics such as variance \n",
    "torch.mean(t_in_fy,axis = 0)\n",
    "print(\"Input standard dev:\", torch.std(t_in_fy,axis = 0))\n",
    "\n",
    "torch.mean(t_inter_fy,axis = 0)\n",
    "print(\"Intermediate layer standard dev:\",torch.std(t_inter_fy,axis = 0))\n",
    "\n",
    "print(\"Output standard dev:\",torch.std(t_out_fy,axis = 0))\n",
    "torch.mean(t_out_fy,axis = 0)\n"
   ]
  },
  {
   "cell_type": "code",
   "execution_count": 12,
   "id": "a7fb5825",
   "metadata": {},
   "outputs": [
    {
     "name": "stdout",
     "output_type": "stream",
     "text": [
      "tensor(0.4010, dtype=torch.float64) tensor(0.2337, dtype=torch.float64) tensor(0.3771, dtype=torch.float64)\n"
     ]
    },
    {
     "data": {
      "text/plain": [
       "{'whiskers': [<matplotlib.lines.Line2D at 0x1d91e479b40>,\n",
       "  <matplotlib.lines.Line2D at 0x1d91e479de0>],\n",
       " 'caps': [<matplotlib.lines.Line2D at 0x1d91e47a080>,\n",
       "  <matplotlib.lines.Line2D at 0x1d91e47a320>],\n",
       " 'boxes': [<matplotlib.lines.Line2D at 0x1d91e4798a0>],\n",
       " 'medians': [<matplotlib.lines.Line2D at 0x1d91e47a5c0>],\n",
       " 'fliers': [<matplotlib.lines.Line2D at 0x1d91e47a860>],\n",
       " 'means': []}"
      ]
     },
     "execution_count": 12,
     "metadata": {},
     "output_type": "execute_result"
    },
    {
     "data": {
      "image/png": "[encoded data removed]",
      "text/plain": [
       "<Figure size 640x480 with 1 Axes>"
      ]
     },
     "metadata": {},
     "output_type": "display_data"
    }
   ],
   "source": [
    "#Look at the average difference and percentual deviation incurred by installing all candidates\n",
    "existing_actual = NN_evaluation.get_actual_from_dfs_out(all_executions[0],dfs_out)/maxs[\"out\"]\n",
    "full_actual = NN_evaluation.get_actual_from_dfs_out(all_executions[1],dfs_out)/maxs[\"out\"]\n",
    "\n",
    "differences = existing_actual - full_actual\n",
    "deviation_existing = torch.div(differences,existing_actual) \n",
    "\n",
    "print(torch.mean(deviation_existing),torch.median(deviation_existing), torch.std(deviation_existing))\n",
    "plt.boxplot(differences.detach().numpy())\n",
    "#plt.boxplot(deviation_existing.detach().numpy())"
   ]
  },
  {
   "cell_type": "code",
   "execution_count": 13,
   "id": "32978530",
   "metadata": {},
   "outputs": [
    {
     "data": {
      "text/plain": [
       "tensor(0.0006, dtype=torch.float64)"
      ]
     },
     "execution_count": 13,
     "metadata": {},
     "output_type": "execute_result"
    }
   ],
   "source": [
    "torch.min(full_actual)"
   ]
  },
  {
   "cell_type": "code",
   "execution_count": 17,
   "id": "8287638d",
   "metadata": {},
   "outputs": [
    {
     "data": {
      "text/plain": [
       "[<matplotlib.lines.Line2D at 0x1d91d785510>]"
      ]
     },
     "execution_count": 17,
     "metadata": {},
     "output_type": "execute_result"
    },
    {
     "data": {
      "image/png": "[encoded data removed]",
      "text/plain": [
       "<Figure size 640x480 with 1 Axes>"
      ]
     },
     "metadata": {},
     "output_type": "display_data"
    }
   ],
   "source": [
    "plt.plot(existing_actual)\n",
    "#plt.plot(full_actual)\n",
    "plt.plot(differences)"
   ]
  },
  {
   "cell_type": "code",
   "execution_count": 18,
   "id": "a1295ce4",
   "metadata": {},
   "outputs": [],
   "source": [
    "#Collect difference and deviation incurred by individual candidates in dataframe\n",
    "ics = DataLoading.list_investments_candidates_from_execs(executions=all_executions)\n",
    "df_lb = pd.DataFrame()\n",
    "for ic in ics:\n",
    "    ix_P = [i for i, string in enumerate(all_executions) if ic in string and \"PINT\" in string]\n",
    "    ix_T = [i for i, string in enumerate(all_executions) if ic in string and \"TOOT\" in string]\n",
    "    ex_P  = all_executions[ix_P[0]]\n",
    "    ex_T = all_executions[ix_T[0]]\n",
    "\n",
    "    ex_actual_P = NN_evaluation.get_actual_from_dfs_out(ex_P,dfs_out)/maxs[\"out\"]\n",
    "    ex_actual_T = NN_evaluation.get_actual_from_dfs_out(ex_T,dfs_out)/maxs[\"out\"]\n",
    "\n",
    "    lb_P = existing_actual -ex_actual_P\n",
    "    lb_T = - (full_actual - ex_actual_T)\n",
    "\n",
    "    lb = (lb_P + lb_T)/2\n",
    "    df_lb[ic] = lb\n",
    "    #ic,ex_P,ex_T,lb.sum()\n",
    "df_lb_dev = df_lb.div(existing_actual,axis=0)"
   ]
  },
  {
   "cell_type": "code",
   "execution_count": 24,
   "id": "2c0a01e1",
   "metadata": {},
   "outputs": [
    {
     "data": {
      "text/plain": [
       "{'in': tensor([0.0940, 0.0940, 0.0940, 0.0956, 0.0944, 0.0944, 0.2396, 0.0952, 0.3332,\n",
       "         0.0352, 0.0172, 0.0352, 0.0360, 0.0348, 0.0356, 0.0344, 0.0408, 0.0416,\n",
       "         0.0364, 0.2416, 0.0495, 0.0495, 0.0495, 0.0495, 0.0495, 0.0495, 2.8540,\n",
       "         0.1188, 0.1067, 0.1980, 0.0814, 0.0781, 0.1496, 0.1375, 0.1881, 0.1925,\n",
       "         0.2145, 0.0000, 0.0000, 0.2915, 0.2134, 0.3487, 0.1100, 0.0000, 0.3663,\n",
       "         0.1991, 0.1408, 0.0000, 0.0000, 0.0000, 0.0000, 1.0000, 1.0000, 1.0000,\n",
       "         1.0000, 1.0000, 1.0000, 1.0000, 1.0000, 1.0000, 1.0000, 1.0000, 1.0000,\n",
       "         1.0000, 1.0000, 1.0000, 1.0000, 1.0000, 1.0000, 1.0000, 1.0000, 1.0000,\n",
       "         1.0000, 1.0000, 1.0000, 1.0000, 1.0000, 1.0000, 1.0000, 1.0000, 1.0000,\n",
       "         1.0000, 1.0000, 1.0000, 1.0000, 1.0000, 1.0000, 1.0000, 1.0000, 1.0000],\n",
       "        dtype=torch.float64),\n",
       " 'inter': tensor([0.1750, 0.5000, 0.2200, 0.5000, 0.1750, 0.4000, 0.2200, 0.1750, 0.5000,\n",
       "         0.5000, 0.1750, 0.1750, 0.5000, 0.5000, 0.1750, 0.5000, 0.5000, 0.1750,\n",
       "         0.5000, 0.5000, 0.1750, 0.1750, 0.1750, 0.4000, 0.1750, 0.5000, 0.1750,\n",
       "         0.1750, 0.5000, 0.4000, 0.5000, 0.5000, 0.1750, 0.5000, 0.4000, 0.4000,\n",
       "         0.5000, 0.1750], dtype=torch.float64),\n",
       " 'out': tensor(878.8112, dtype=torch.float64)}"
      ]
     },
     "execution_count": 24,
     "metadata": {},
     "output_type": "execute_result"
    }
   ],
   "source": [
    "maxs"
   ]
  },
  {
   "cell_type": "code",
   "execution_count": 26,
   "id": "0aa69b17",
   "metadata": {},
   "outputs": [
    {
     "data": {
      "text/plain": [
       "Network_Line_In_N_101_N_102_cac1    -3045.716199\n",
       "Network_Line_In_N_101_N_103_cac1    -3267.437580\n",
       "Network_Line_In_N_101_N_105_cac1    -3068.256720\n",
       "Network_Line_In_N_102_N_104_cac1    -3041.296250\n",
       "Network_Line_In_N_102_N_106_cac1    -3080.956632\n",
       "Network_Line_In_N_103_N_109_cac1    -3221.378198\n",
       "Network_Line_In_N_103_N_124_cac1    -5681.737660\n",
       "Network_Line_In_N_104_N_109_cac1    -3022.836113\n",
       "Network_Line_In_N_105_N_110_cac1    -3006.084510\n",
       "Network_Line_In_N_106_N_108_cac1    -3052.345771\n",
       "Network_Line_In_N_106_N_110_cac1    -3002.054877\n",
       "Network_Line_In_N_107_N_108_cac1     2896.182759\n",
       "Network_Line_In_N_108_N_109_cac1    -3023.811948\n",
       "Network_Line_In_N_108_N_110_cac1    -3072.817440\n",
       "Network_Line_In_N_109_N_111_cac1    -2861.358306\n",
       "Network_Line_In_N_109_N_112_cac1    -2903.085826\n",
       "Network_Line_In_N_110_N_111_cac1    -2886.870661\n",
       "Network_Line_In_N_110_N_112_cac1    -2946.698257\n",
       "Network_Line_In_N_111_N_113_cac1    -3038.891845\n",
       "Network_Line_In_N_111_N_114_cac1    -2779.259070\n",
       "Network_Line_In_N_112_N_113_cac1    -3028.658505\n",
       "Network_Line_In_N_112_N_123_cac1    -2716.327224\n",
       "Network_Line_In_N_113_N_123_cac1    -2807.473208\n",
       "Network_Line_In_N_114_N_116_cac1    -2587.294916\n",
       "Network_Line_In_N_115_N_116_cac1    -6315.653743\n",
       "Network_Line_In_N_115_N_121_cac1    16537.460570\n",
       "Network_Line_In_N_115_N_121_cac2    16537.460570\n",
       "Network_Line_In_N_115_N_124_cac1    -3503.691590\n",
       "Network_Line_In_N_116_N_117_cac1     8854.960887\n",
       "Network_Line_In_N_116_N_119_cac1    -2917.213521\n",
       "Network_Line_In_N_117_N_118_cac1    -1162.161359\n",
       "Network_Line_In_N_117_N_122_cac1      218.388988\n",
       "Network_Line_In_N_118_N_121_cac1     -853.881801\n",
       "Network_Line_In_N_118_N_121_cac2     -853.881801\n",
       "Network_Line_In_N_119_N_120_cac1    -3022.559448\n",
       "Network_Line_In_N_119_N_120_cac2    -3022.559448\n",
       "Network_Line_In_N_120_N_123_cac1    -3053.611268\n",
       "Network_Line_In_N_120_N_123_cac2    -3053.611268\n",
       "Network_Line_In_N_121_N_122_cac1    -5209.217435\n",
       "dtype: float64"
      ]
     },
     "execution_count": 26,
     "metadata": {},
     "output_type": "execute_result"
    }
   ],
   "source": [
    "df_lb.sum()*maxs[\"out\"].numpy()"
   ]
  },
  {
   "cell_type": "code",
   "execution_count": 32,
   "id": "b5445d44",
   "metadata": {
    "collapsed": true
   },
   "outputs": [
    {
     "data": {
      "text/plain": [
       "Network_Line_In_Node_1_Node_6_cac1    3.171218e-03\n",
       "Network_Line_In_Node_1_Node_6_cac2    4.837323e-03\n",
       "Network_Line_In_Node_1_Node_6_cac3    5.012082e-03\n",
       "Network_Line_In_Node_2_Node_3_cac1   -3.250303e-06\n",
       "Network_Line_In_Node_2_Node_3_cac2   -4.711480e-06\n",
       "Network_Line_In_Node_2_Node_3_cac3   -6.096460e-06\n",
       "Network_Line_In_Node_2_Node_6_cac1    6.547080e-06\n",
       "Network_Line_In_Node_2_Node_6_cac2    9.068611e-06\n",
       "Network_Line_In_Node_2_Node_6_cac3    1.112875e-05\n",
       "Network_Line_In_Node_3_Node_4_cac1    1.827334e-05\n",
       "Network_Line_In_Node_3_Node_4_cac2    1.826099e-05\n",
       "Network_Line_In_Node_3_Node_4_cac3    1.823664e-05\n",
       "Network_Line_In_Node_3_Node_6_cac1    5.148033e-06\n",
       "Network_Line_In_Node_3_Node_6_cac2    7.896552e-06\n",
       "Network_Line_In_Node_3_Node_6_cac3    1.070598e-05\n",
       "Network_Line_In_Node_4_Node_5_cac1    3.926795e-02\n",
       "Network_Line_In_Node_4_Node_5_cac2    3.926795e-02\n",
       "Network_Line_In_Node_4_Node_5_cac3    3.926795e-02\n",
       "Network_Line_In_Node_4_Node_6_cac1    1.439580e-05\n",
       "Network_Line_In_Node_4_Node_6_cac2    1.737996e-05\n",
       "Network_Line_In_Node_4_Node_6_cac3    1.817030e-05\n",
       "Network_Line_In_Node_4_Node_9_cac1    2.037788e-08\n",
       "Network_Line_In_Node_4_Node_9_cac2    6.102434e-09\n",
       "Network_Line_In_Node_4_Node_9_cac3   -1.823432e-08\n",
       "Network_Line_In_Node_6_Node_7_cac1    2.264333e-06\n",
       "Network_Line_In_Node_6_Node_7_cac2    3.283334e-06\n",
       "Network_Line_In_Node_6_Node_7_cac3    4.233052e-06\n",
       "Network_Line_In_Node_6_Node_8_cac1    4.411139e-06\n",
       "Network_Line_In_Node_6_Node_8_cac2    6.341146e-06\n",
       "Network_Line_In_Node_6_Node_8_cac3    8.084539e-06\n",
       "Network_Line_In_Node_7_Node_8_cac1   -1.962812e-08\n",
       "Network_Line_In_Node_7_Node_8_cac2   -2.782690e-08\n",
       "Network_Line_In_Node_7_Node_8_cac3   -3.515892e-08\n",
       "Network_Line_In_Node_8_Node_9_cac1    2.928758e-06\n",
       "Network_Line_In_Node_8_Node_9_cac2    3.969493e-06\n",
       "Network_Line_In_Node_8_Node_9_cac3    4.827561e-06\n",
       "dtype: float64"
      ]
     },
     "execution_count": 32,
     "metadata": {},
     "output_type": "execute_result"
    }
   ],
   "source": [
    "df_lb.mean()"
   ]
  },
  {
   "cell_type": "code",
   "execution_count": 105,
   "id": "aaeefee2",
   "metadata": {},
   "outputs": [
    {
     "name": "stdout",
     "output_type": "stream",
     "text": [
      "[28, 42, 8, 3, 1]\n",
      "OE_2900hours_(3, 1)h_256e_0.0025lr_0dor_Falsero_64bs_0ill_TrueMAE min_val\n",
      "trained_models/rand_hours_3-bus_DC_0.3_v0.3_PF_0_20/min_val/model_OE_2900hours_(3, 1)h_256e_0.0025lr_0dor_Falsero_64bs_0ill_TrueMAE.pth\n"
     ]
    }
   ],
   "source": [
    "#Model deviations\n",
    "hyperloop_name = \"rand_hours_3-bus_DC_0.3_v0.3_PF_0_20\"\n",
    "df_losses = pd.read_csv(f\"Loss_results_csv/{hyperloop_name}.csv\",index_col=0)\n",
    "f = df_losses.Nb_hours_used >=1\n",
    "\n",
    "loss_to_sort = \"fy_l_mse\"\n",
    "xth_best = 1\n",
    "\n",
    "row = NN_evaluation.find_xthbest_model_params_from_df(df_losses[f],loss_to_sort,xth_best)\n",
    "m = NN_evaluation.create_model_and_load_state_from_row(row,input_size,inter_size,hyperloop_name,cluster_run=False)\n",
    "prediction = m(t_in_fy.float())[0].squeeze().detach().numpy()\n",
    "\n",
    "diff = prediction - t_out_fy.numpy().transpose()\n",
    "dev = diff/prediction"
   ]
  },
  {
   "cell_type": "code",
   "execution_count": 108,
   "id": "3d7db6f4",
   "metadata": {},
   "outputs": [
    {
     "data": {
      "text/plain": [
       "{'whiskers': [<matplotlib.lines.Line2D at 0x1fb32e5f520>,\n",
       "  <matplotlib.lines.Line2D at 0x1fb32e5f7c0>],\n",
       " 'caps': [<matplotlib.lines.Line2D at 0x1fb329d6ce0>,\n",
       "  <matplotlib.lines.Line2D at 0x1fb329d6f80>],\n",
       " 'boxes': [<matplotlib.lines.Line2D at 0x1fb32e5f280>],\n",
       " 'medians': [<matplotlib.lines.Line2D at 0x1fb329d7220>],\n",
       " 'fliers': [<matplotlib.lines.Line2D at 0x1fb329d74c0>],\n",
       " 'means': []}"
      ]
     },
     "execution_count": 108,
     "metadata": {},
     "output_type": "execute_result"
    },
    {
     "data": {
      "image/png": "[encoded data removed]",
      "text/plain": [
       "<Figure size 640x480 with 1 Axes>"
      ]
     },
     "metadata": {},
     "output_type": "display_data"
    }
   ],
   "source": [
    "plt.boxplot(dev)"
   ]
  }
 ],
 "metadata": {
  "kernelspec": {
   "display_name": "Python 3 (ipykernel)",
   "language": "python",
   "name": "python3"
  },
  "language_info": {
   "codemirror_mode": {
    "name": "ipython",
    "version": 3
   },
   "file_extension": ".py",
   "mimetype": "text/x-python",
   "name": "python",
   "nbconvert_exporter": "python",
   "pygments_lexer": "ipython3",
   "version": "3.10.11"
  }
 },
 "nbformat": 4,
 "nbformat_minor": 5
}
