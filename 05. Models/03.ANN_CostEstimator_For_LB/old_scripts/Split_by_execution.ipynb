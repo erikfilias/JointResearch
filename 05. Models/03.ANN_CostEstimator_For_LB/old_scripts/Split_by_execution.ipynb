{
 "cells": [
  {
   "cell_type": "code",
   "execution_count": 32,
   "id": "0e9f7608",
   "metadata": {},
   "outputs": [],
   "source": [
    "import DataLoading\n",
    "import random\n",
    "import torch"
   ]
  },
  {
   "cell_type": "code",
   "execution_count": 52,
   "id": "d4052221",
   "metadata": {},
   "outputs": [],
   "source": [
    "sc = \"sc01\"\n",
    "period = \"2030\"\n",
    "folder = \"../Data/RTS24_AC_12w\"\n",
    "all_executions = DataLoading.list_executions(folder=\"../Data/RTS24_AC_12w\",per = period,sc=sc)\n",
    "executions = all_executions[1:10]\n",
    "te_s = 0.3\n",
    "val_s = 0.4"
   ]
  },
  {
   "cell_type": "code",
   "execution_count": 53,
   "id": "25348805",
   "metadata": {},
   "outputs": [
    {
     "name": "stdout",
     "output_type": "stream",
     "text": [
      "input_f_sc01_Network_Line_In_N_101_N_102_cac1_2030.csv\n",
      "1227\n",
      "input_f_sc01_Network_Line_In_N_101_N_103_cac1_2030.csv\n",
      "1227\n",
      "input_f_sc01_Network_Line_In_N_101_N_105_cac1_2030.csv\n",
      "1227\n",
      "input_f_sc01_Network_Line_In_N_102_N_104_cac1_2030.csv\n",
      "1227\n",
      "input_f_sc01_Network_Line_In_N_102_N_106_cac1_2030.csv\n",
      "1227\n",
      "input_f_sc01_Network_Line_In_N_103_N_109_cac1_2030.csv\n",
      "1227\n",
      "input_f_sc01_Network_Line_In_N_103_N_124_cac1_2030.csv\n",
      "1227\n",
      "input_f_sc01_Network_Line_In_N_104_N_109_cac1_2030.csv\n",
      "1227\n",
      "input_f_sc01_Network_Line_In_N_105_N_110_cac1_2030.csv\n",
      "1227\n"
     ]
    }
   ],
   "source": [
    "dfs_in,dfs_out = DataLoading.load_data(folder,executions,period,sc)"
   ]
  },
  {
   "cell_type": "code",
   "execution_count": 54,
   "id": "4d880516",
   "metadata": {},
   "outputs": [
    {
     "data": {
      "text/plain": [
       "9"
      ]
     },
     "execution_count": 54,
     "metadata": {},
     "output_type": "execute_result"
    }
   ],
   "source": [
    "len(dfs_in)"
   ]
  },
  {
   "cell_type": "code",
   "execution_count": 55,
   "id": "d688aa36",
   "metadata": {},
   "outputs": [
    {
     "name": "stdout",
     "output_type": "stream",
     "text": [
      "3 4 2\n"
     ]
    }
   ],
   "source": [
    "randomized = False\n",
    "ts_in = dict()\n",
    "ts_out = dict()\n",
    "\n",
    "ts_in[\"train\"] = dict()\n",
    "ts_in[\"test\"] = dict()\n",
    "ts_in[\"val\"] = dict()\n",
    "\n",
    "ts_out[\"train\"] = dict()\n",
    "ts_out[\"test\"] = dict()\n",
    "ts_out[\"val\"] = dict()\n",
    "\n",
    "# Test size as fraction of full dataset, validation size as fraction of training data set\n",
    "nb_executions = len(dfs_in)\n",
    "nb_test = int(round(nb_executions*te_s))\n",
    "nb_val = int(round((nb_executions - nb_test)*val_s))\n",
    "nb_train = int(round((nb_executions - nb_test)*(1-val_s)))\n",
    "assert(nb_executions == nb_test+nb_train+nb_val)\n",
    "\n",
    "l_keys = list(dfs_in)\n",
    "if randomized: \n",
    "    random.shuffle(dfs_in)\n",
    "    \n",
    "for i,execution in enumerate(executions): \n",
    "    # Convert input dataframes numpy arrays sum the columns of the output:\n",
    "    np_in = dfs_in[execution].to_numpy()\n",
    "    np_out = dfs_out[execution].to_numpy().sum(axis=1)\n",
    "    # Convert to torch tensors\n",
    "    t_in = torch.from_numpy(np_in)\n",
    "    t_out = torch.from_numpy(np_out)\n",
    "    \n",
    "    if i<nb_train: \n",
    "        ts_in[\"train\"][execution] = t_in\n",
    "        ts_out[\"train\"][execution] = t_out\n",
    "    elif i<nb_train + nb_test: \n",
    "        ts_in[\"test\"][execution] = t_in\n",
    "        ts_out[\"test\"][execution] = t_out\n",
    "    elif i<nb_train + nb_test+nb_val: \n",
    "        ts_in[\"val\"][execution] = t_in\n",
    "        ts_out[\"val\"][execution] = t_out\n",
    "assert(len(ts_in[\"train\"]) == nb_train)\n",
    "assert(len(ts_in[\"test\"]) == nb_test)\n",
    "assert(len(ts_in[\"val\"]) == nb_val)\n",
    "        "
   ]
  },
  {
   "cell_type": "code",
   "execution_count": 56,
   "id": "1ea18ee5",
   "metadata": {},
   "outputs": [
    {
     "data": {
      "text/plain": [
       "(2, 4, 3)"
      ]
     },
     "execution_count": 56,
     "metadata": {},
     "output_type": "execute_result"
    }
   ],
   "source": [
    "len(ts_in[\"val\"].keys()),len(ts_in[\"train\"].keys()),len(ts_in[\"test\"].keys())"
   ]
  },
  {
   "cell_type": "code",
   "execution_count": 59,
   "id": "8bbf06b7",
   "metadata": {},
   "outputs": [
    {
     "data": {
      "text/plain": [
       "dict_keys(['Network_Line_In_N_104_N_109_cac1', 'Network_Line_In_N_105_N_110_cac1'])"
      ]
     },
     "execution_count": 59,
     "metadata": {},
     "output_type": "execute_result"
    }
   ],
   "source": [
    "ts_in[\"val\"].keys()"
   ]
  },
  {
   "cell_type": "code",
   "execution_count": 60,
   "id": "6bfec035",
   "metadata": {},
   "outputs": [
    {
     "data": {
      "text/plain": [
       "dict_keys(['Network_Line_In_N_101_N_102_cac1', 'Network_Line_In_N_101_N_103_cac1', 'Network_Line_In_N_101_N_105_cac1', 'Network_Line_In_N_102_N_104_cac1', 'Network_Line_In_N_102_N_106_cac1', 'Network_Line_In_N_103_N_109_cac1', 'Network_Line_In_N_103_N_124_cac1', 'Network_Line_In_N_104_N_109_cac1', 'Network_Line_In_N_105_N_110_cac1'])"
      ]
     },
     "execution_count": 60,
     "metadata": {},
     "output_type": "execute_result"
    }
   ],
   "source": []
  }
 ],
 "metadata": {
  "kernelspec": {
   "display_name": "Python 3 (ipykernel)",
   "language": "python",
   "name": "python3"
  },
  "language_info": {
   "codemirror_mode": {
    "name": "ipython",
    "version": 3
   },
   "file_extension": ".py",
   "mimetype": "text/x-python",
   "name": "python",
   "nbconvert_exporter": "python",
   "pygments_lexer": "ipython3",
   "version": "3.10.11"
  }
 },
 "nbformat": 4,
 "nbformat_minor": 5
}
