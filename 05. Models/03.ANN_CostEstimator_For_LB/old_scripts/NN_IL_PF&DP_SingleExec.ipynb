{
 "cells": [
  {
   "cell_type": "code",
   "execution_count": 1,
   "id": "c381f99b",
   "metadata": {},
   "outputs": [],
   "source": [
    "import pandas as pd\n",
    "import DataLoading\n",
    "import torch\n",
    "from sklearn.model_selection import train_test_split\n",
    "from torch.utils.data import DataLoader,TensorDataset\n",
    "import matplotlib.pyplot as plt"
   ]
  },
  {
   "cell_type": "code",
   "execution_count": 2,
   "id": "4ef99acd",
   "metadata": {},
   "outputs": [],
   "source": [
    "def load_data_ext_out(folder,executions,period,sc,il_os = None):\n",
    "    dfs_in = dict()\n",
    "    dfs_out = dict()\n",
    "    dfs_inter = dict()\n",
    "    for execution in executions:\n",
    "        # Read the data from desired execution\n",
    "        df_in_e = pd.read_csv(f\"{folder}/input_f_{sc}_{execution}_{period}.csv\", header=[0],index_col=0)\n",
    "        df_out_e = pd.read_csv(f\"{folder}/output_f_{sc}_{execution}_{period}_SystemCosts.csv\", header=[0],index_col=0)\n",
    "        \n",
    "        print(f\"input_f_{sc}_{execution}_{period}.csv\")\n",
    "\n",
    "        # And order the variables:\n",
    "\n",
    "        print(len(df_in_e.columns))\n",
    "        for col in df_out_e.columns:\n",
    "            df_out_e[col] = df_out_e[col].astype(float)\n",
    "        for col in df_in_e.columns:\n",
    "            df_in_e[col] = df_in_e[col].astype(float)\n",
    "\n",
    "        \n",
    "        if il_os != None:\n",
    "            dfs_ilo = dict()\n",
    "            for il_o in il_os:\n",
    "                df_inter = pd.read_csv(f\"{folder}/output_f_{sc}_{execution}_{period}_{il_o}.csv\", header=[0],index_col=0)\n",
    "                for col in df_inter.columns:\n",
    "                    df_inter[col] = df_inter[col].astype(float)\n",
    "                dfs_ilo[il_o]=df_inter\n",
    "            dfs_inter[execution] = dfs_ilo\n",
    "        \n",
    "        dfs_in[execution] = df_in_e\n",
    "        dfs_out[execution] = df_out_e\n",
    "        \n",
    "    return dfs_in,dfs_out,dfs_inter"
   ]
  },
  {
   "cell_type": "code",
   "execution_count": 3,
   "id": "fef97f0b",
   "metadata": {},
   "outputs": [],
   "source": [
    "def split_tr_val_te_ext_out(dfs_in,dfs_out,dfs_inter_j,executions,te_s,val_s):\n",
    "    ts_in = dict()\n",
    "    ts_out = dict()\n",
    "    ts_inter = dict()\n",
    "\n",
    "    ts_in[\"train\"] = dict()\n",
    "    ts_in[\"test\"] = dict()\n",
    "    ts_in[\"val\"] = dict()\n",
    "\n",
    "    ts_out[\"train\"] = dict()\n",
    "    ts_out[\"test\"] = dict()\n",
    "    ts_out[\"val\"] = dict()\n",
    "    \n",
    "    ts_inter[\"train\"] = dict()\n",
    "    ts_inter[\"test\"] = dict()\n",
    "    ts_inter[\"val\"] = dict()\n",
    "\n",
    "    # Test size as fraction of full dataset, validation size as fraction of training data set\n",
    "    test_size, validation_size = te_s, val_s\n",
    "    \n",
    "    for execution in executions:\n",
    "        \n",
    "        # Convert input dataframes numpy arrays sum the columns of the output:\n",
    "        np_in = dfs_in[execution].to_numpy()\n",
    "        np_out = dfs_out[execution].to_numpy().sum(axis=1)\n",
    "        np_inter = dfs_inter_j[execution].to_numpy()        \n",
    "                                  \n",
    "        # We don't normalize the separate runs, but will do it afterward, all together\n",
    "\n",
    "        # Convert to torch tensors\n",
    "        t_in = torch.from_numpy(np_in)\n",
    "        t_out = torch.from_numpy(np_out)\n",
    "        t_inter = torch.from_numpy(np_inter)\n",
    "\n",
    "        # And split into train, validation, and test set:\n",
    "        train_in, ts_in[\"test\"][execution], train_out, ts_out[\"test\"][execution],train_inter,ts_inter[\"test\"][execution] = train_test_split(t_in, t_out,t_inter,\n",
    "                                                                                                    test_size=test_size,\n",
    "                                                                                                    shuffle=False)\n",
    "        ts_in[\"train\"][execution], ts_in[\"val\"][execution], ts_out[\"train\"][execution], ts_out[\"val\"][\n",
    "            execution],ts_inter[\"train\"][execution], ts_inter[\"val\"][\n",
    "            execution] = train_test_split(train_in, train_out,train_inter, test_size=validation_size, shuffle=False)\n",
    "    return ts_in,ts_out,ts_inter\n"
   ]
  },
  {
   "cell_type": "code",
   "execution_count": 4,
   "id": "4c04a9da",
   "metadata": {},
   "outputs": [],
   "source": [
    "def concat_and_normalize_ext_out(ts_in,ts_out,ts_inter,executions):\n",
    "    # concatenate all the training and testing sets to a single tensor, and normalize:\n",
    "    first = True\n",
    "    for execution in executions:\n",
    "        if first:\n",
    "            tr_in = ts_in[\"train\"][execution]\n",
    "            tr_out = ts_out[\"train\"][execution]\n",
    "            tr_inter = ts_inter[\"train\"][execution]\n",
    "            \n",
    "            te_in = ts_in[\"test\"][execution]\n",
    "            te_out = ts_out[\"test\"][execution]\n",
    "            te_inter = ts_inter[\"test\"][execution]\n",
    "            \n",
    "            val_in = ts_in[\"val\"][execution]\n",
    "            val_out = ts_out[\"val\"][execution]\n",
    "            val_inter = ts_inter[\"val\"][execution]\n",
    "            first = False\n",
    "        else:\n",
    "            tr_in = torch.cat((tr_in, ts_in[\"train\"][execution]))\n",
    "            tr_out = torch.cat((tr_out, ts_out[\"train\"][execution]))\n",
    "            tr_inter = torch.cat((tr_inter, ts_inter[\"train\"][execution]))\n",
    "\n",
    "            \n",
    "            te_in = torch.cat((te_in, ts_in[\"test\"][execution]))\n",
    "            te_out = torch.cat((te_out, ts_out[\"test\"][execution]))\n",
    "            te_inter = torch.cat((te_inter, ts_inter[\"test\"][execution]))\n",
    "            \n",
    "            val_in = torch.cat((val_in, ts_in[\"val\"][execution]))\n",
    "            val_out = torch.cat((val_out, ts_out[\"val\"][execution]))\n",
    "            val_inter = torch.cat((val_inter, ts_inter[\"val\"][execution]))\n",
    "            \n",
    "    maxs=dict()\n",
    "    maxs[\"in\"] = torch.cat((tr_in, te_in, val_in)).abs().max(dim=0).values\n",
    "    maxs[\"inter\"] = torch.cat((tr_inter, te_inter, val_inter)).abs().max(dim=0).values\n",
    "    # maxs_te = te_in.abs().max(dim = 0).values\n",
    "    \n",
    "    tr_in = torch.nan_to_num(tr_in / maxs[\"in\"])\n",
    "    te_in = torch.nan_to_num(te_in / maxs[\"in\"])\n",
    "    val_in = torch.nan_to_num(val_in / maxs[\"in\"])\n",
    "    \n",
    "    tr_inter = torch.nan_to_num(tr_inter / maxs[\"inter\"])\n",
    "    te_inter = torch.nan_to_num(te_inter / maxs[\"inter\"])\n",
    "    val_inter = torch.nan_to_num(val_inter / maxs[\"inter\"])\n",
    "\n",
    "    d_ft_in = {\"train\": tr_in,\"val\": val_in,\"test\": te_in}\n",
    "    d_ft_out = {\"train\": tr_out,\"val\": val_out,\"test\": te_out}\n",
    "    d_ft_inter = {\"train\": tr_inter,\"val\": val_inter,\"test\": te_inter}\n",
    "\n",
    "\n",
    "    return d_ft_in,d_ft_out,d_ft_inter\n"
   ]
  },
  {
   "cell_type": "code",
   "execution_count": 5,
   "id": "8ddedeeb",
   "metadata": {},
   "outputs": [],
   "source": [
    "def join_frames_inter_layer(dfs_inter):\n",
    "    dfs_inter_j = dict()\n",
    "    for execution in dfs_inter.keys(): \n",
    "        dfs_inter_j[execution] = pd.concat([dfs_inter[execution][t] for t in dfs_inter[execution].keys()],axis=1)\n",
    "    return dfs_inter_j"
   ]
  },
  {
   "cell_type": "code",
   "execution_count": 6,
   "id": "b2ebc67a",
   "metadata": {},
   "outputs": [],
   "source": [
    "class ObjectiveEstimator_ANN_1hidden_layer_inter(torch.nn.Module):\n",
    "    def __init__(self, input_size, hidden_sizes, output_size, dropout_ratio=0.0,relu_out = False ):\n",
    "        super().__init__()\n",
    "        hidden_size1 = hidden_sizes[0]\n",
    "        print(hidden_size1)\n",
    "        print(output_size)\n",
    "        self.hidden_layer1 = torch.nn.Linear(input_size, hidden_size1)\n",
    "        self.dropout = torch.nn.Dropout(dropout_ratio)\n",
    "        self.output_layer = torch.nn.Linear(hidden_size1, output_size)\n",
    "        self.relu_out = relu_out\n",
    "\n",
    "        self.device = torch.device(\"cuda\" if torch.cuda.is_available() else \"cpu\")\n",
    "\n",
    "    def forward(self, input):\n",
    "        hidden1 = torch.relu(self.hidden_layer1(input))\n",
    "        hidden1_dropout = self.dropout(hidden1)\n",
    "        if (self.relu_out):\n",
    "            output = torch.relu(self.output_layer(hidden1_dropout))\n",
    "        else:\n",
    "            output = self.output_layer(hidden1_dropout)\n",
    "        return output,hidden1"
   ]
  },
  {
   "cell_type": "code",
   "execution_count": 42,
   "id": "16c87ef3",
   "metadata": {},
   "outputs": [],
   "source": [
    "import torch.nn.functional as F\n",
    "\n",
    "def custom_loss(output, target_output, hidden_layer_representation, target_hidden, alpha=0.0,beta = 1):\n",
    "    # Compute the standard loss (e.g., mean squared error) for the output layer\n",
    "    standard_loss = F.mse_loss(output.squeeze(), target_output)\n",
    "\n",
    "    # Compute a loss term based on the hidden layer representation and its target\n",
    "    hidden_loss = F.mse_loss(hidden_layer_representation, target_hidden)\n",
    "\n",
    "    # Combine the two loss terms with a weighting factor alpha\n",
    "    total_loss = beta*standard_loss + alpha * hidden_loss\n",
    "\n",
    "    return total_loss\n",
    "\n"
   ]
  },
  {
   "cell_type": "code",
   "execution_count": 25,
   "id": "ee4a9f04",
   "metadata": {},
   "outputs": [
    {
     "name": "stdout",
     "output_type": "stream",
     "text": [
      "input_f_sc01_Network_Existing_Generation_Full_2030.csv\n",
      "86\n"
     ]
    }
   ],
   "source": [
    "executions = [\"Network_Existing_Generation_Full\"]\n",
    "\n",
    "sc = \"sc01\"\n",
    "period = \"2030\"\n",
    "folder = \"../Data/RTS24_AC_12w_ext_o_dummy\"\n",
    "te_s = 0.1\n",
    "val_s = 0.2\n",
    "\n",
    "dfs_in,dfs_out,dfs_inter = load_data_ext_out(folder,executions,period,sc,[\"PowerOutput\",\"PowerFlow\"])\n",
    "dfs_inter_j = join_frames_inter_layer(dfs_inter)\n",
    "ts_in,ts_out,ts_inter = split_tr_val_te_ext_out(dfs_in,dfs_out,dfs_inter_j,executions,te_s,val_s)\n",
    "d_ft_in, d_ft_out,d_ft_inter = concat_and_normalize_ext_out(ts_in,ts_out,ts_inter,executions)\n"
   ]
  },
  {
   "cell_type": "code",
   "execution_count": 26,
   "id": "691efc80",
   "metadata": {},
   "outputs": [],
   "source": [
    "train = TensorDataset(d_ft_in['train'].float(), d_ft_out['train'].float(),d_ft_inter['train'])\n",
    "validation = TensorDataset(d_ft_in['val'].float(), d_ft_out['val'].float(),d_ft_inter['val'].float())\n",
    "\n",
    "training_loader = DataLoader(train,batch_size=32)\n",
    "#validation_loader = DataLoader(validation,batch_size=64)\n",
    "\n",
    "num_epochs = 100\n",
    "learning_rate = 0.001\n",
    "inp_size = train.tensors[0].shape[1]\n",
    "inter_size = train.tensors[2].shape[1]\n",
    "output_size = 1"
   ]
  },
  {
   "cell_type": "code",
   "execution_count": 39,
   "id": "9620f5cb",
   "metadata": {
    "collapsed": true
   },
   "outputs": [
    {
     "name": "stdout",
     "output_type": "stream",
     "text": [
      "89\n",
      "1\n",
      "tensor(0.0767, grad_fn=<AddBackward0>)\n",
      "tensor(0.0711, grad_fn=<AddBackward0>)\n",
      "tensor(0.0707, grad_fn=<AddBackward0>)\n",
      "tensor(0.0709, grad_fn=<AddBackward0>)\n",
      "tensor(0.0708, grad_fn=<AddBackward0>)\n",
      "tensor(0.0706, grad_fn=<AddBackward0>)\n",
      "tensor(0.0705, grad_fn=<AddBackward0>)\n",
      "tensor(0.0705, grad_fn=<AddBackward0>)\n",
      "tensor(0.0704, grad_fn=<AddBackward0>)\n",
      "tensor(0.0704, grad_fn=<AddBackward0>)\n",
      "tensor(0.0703, grad_fn=<AddBackward0>)\n",
      "tensor(0.0703, grad_fn=<AddBackward0>)\n",
      "tensor(0.0703, grad_fn=<AddBackward0>)\n",
      "tensor(0.0702, grad_fn=<AddBackward0>)\n",
      "tensor(0.0702, grad_fn=<AddBackward0>)\n",
      "tensor(0.0702, grad_fn=<AddBackward0>)\n",
      "tensor(0.0702, grad_fn=<AddBackward0>)\n",
      "tensor(0.0702, grad_fn=<AddBackward0>)\n",
      "tensor(0.0702, grad_fn=<AddBackward0>)\n",
      "tensor(0.0702, grad_fn=<AddBackward0>)\n",
      "tensor(0.0702, grad_fn=<AddBackward0>)\n",
      "tensor(0.0701, grad_fn=<AddBackward0>)\n",
      "tensor(0.0701, grad_fn=<AddBackward0>)\n",
      "tensor(0.0701, grad_fn=<AddBackward0>)\n",
      "tensor(0.0701, grad_fn=<AddBackward0>)\n",
      "tensor(0.0701, grad_fn=<AddBackward0>)\n",
      "tensor(0.0701, grad_fn=<AddBackward0>)\n",
      "tensor(0.0700, grad_fn=<AddBackward0>)\n",
      "tensor(0.0700, grad_fn=<AddBackward0>)\n",
      "tensor(0.0700, grad_fn=<AddBackward0>)\n",
      "tensor(0.0700, grad_fn=<AddBackward0>)\n",
      "tensor(0.0700, grad_fn=<AddBackward0>)\n",
      "tensor(0.0699, grad_fn=<AddBackward0>)\n",
      "tensor(0.0699, grad_fn=<AddBackward0>)\n",
      "tensor(0.0699, grad_fn=<AddBackward0>)\n",
      "tensor(0.0699, grad_fn=<AddBackward0>)\n",
      "tensor(0.0699, grad_fn=<AddBackward0>)\n",
      "tensor(0.0699, grad_fn=<AddBackward0>)\n",
      "tensor(0.0699, grad_fn=<AddBackward0>)\n",
      "tensor(0.0699, grad_fn=<AddBackward0>)\n",
      "tensor(0.0699, grad_fn=<AddBackward0>)\n",
      "tensor(0.0699, grad_fn=<AddBackward0>)\n",
      "tensor(0.0699, grad_fn=<AddBackward0>)\n",
      "tensor(0.0699, grad_fn=<AddBackward0>)\n",
      "tensor(0.0699, grad_fn=<AddBackward0>)\n",
      "tensor(0.0699, grad_fn=<AddBackward0>)\n",
      "tensor(0.0699, grad_fn=<AddBackward0>)\n",
      "tensor(0.0699, grad_fn=<AddBackward0>)\n",
      "tensor(0.0699, grad_fn=<AddBackward0>)\n",
      "tensor(0.0698, grad_fn=<AddBackward0>)\n",
      "tensor(0.0699, grad_fn=<AddBackward0>)\n",
      "tensor(0.0698, grad_fn=<AddBackward0>)\n",
      "tensor(0.0698, grad_fn=<AddBackward0>)\n",
      "tensor(0.0698, grad_fn=<AddBackward0>)\n",
      "tensor(0.0698, grad_fn=<AddBackward0>)\n",
      "tensor(0.0698, grad_fn=<AddBackward0>)\n",
      "tensor(0.0698, grad_fn=<AddBackward0>)\n",
      "tensor(0.0699, grad_fn=<AddBackward0>)\n",
      "tensor(0.0699, grad_fn=<AddBackward0>)\n",
      "tensor(0.0699, grad_fn=<AddBackward0>)\n",
      "tensor(0.0698, grad_fn=<AddBackward0>)\n",
      "tensor(0.0698, grad_fn=<AddBackward0>)\n",
      "tensor(0.0699, grad_fn=<AddBackward0>)\n",
      "tensor(0.0699, grad_fn=<AddBackward0>)\n",
      "tensor(0.0698, grad_fn=<AddBackward0>)\n",
      "tensor(0.0698, grad_fn=<AddBackward0>)\n",
      "tensor(0.0698, grad_fn=<AddBackward0>)\n",
      "tensor(0.0698, grad_fn=<AddBackward0>)\n",
      "tensor(0.0698, grad_fn=<AddBackward0>)\n",
      "tensor(0.0698, grad_fn=<AddBackward0>)\n",
      "tensor(0.0698, grad_fn=<AddBackward0>)\n",
      "tensor(0.0698, grad_fn=<AddBackward0>)\n",
      "tensor(0.0698, grad_fn=<AddBackward0>)\n",
      "tensor(0.0698, grad_fn=<AddBackward0>)\n",
      "tensor(0.0698, grad_fn=<AddBackward0>)\n",
      "tensor(0.0698, grad_fn=<AddBackward0>)\n",
      "tensor(0.0698, grad_fn=<AddBackward0>)\n",
      "tensor(0.0698, grad_fn=<AddBackward0>)\n",
      "tensor(0.0698, grad_fn=<AddBackward0>)\n",
      "tensor(0.0698, grad_fn=<AddBackward0>)\n",
      "tensor(0.0698, grad_fn=<AddBackward0>)\n",
      "tensor(0.0698, grad_fn=<AddBackward0>)\n",
      "tensor(0.0698, grad_fn=<AddBackward0>)\n",
      "tensor(0.0698, grad_fn=<AddBackward0>)\n",
      "tensor(0.0698, grad_fn=<AddBackward0>)\n",
      "tensor(0.0698, grad_fn=<AddBackward0>)\n",
      "tensor(0.0698, grad_fn=<AddBackward0>)\n",
      "tensor(0.0698, grad_fn=<AddBackward0>)\n",
      "tensor(0.0698, grad_fn=<AddBackward0>)\n",
      "tensor(0.0698, grad_fn=<AddBackward0>)\n",
      "tensor(0.0698, grad_fn=<AddBackward0>)\n",
      "tensor(0.0698, grad_fn=<AddBackward0>)\n",
      "tensor(0.0698, grad_fn=<AddBackward0>)\n",
      "tensor(0.0698, grad_fn=<AddBackward0>)\n",
      "tensor(0.0698, grad_fn=<AddBackward0>)\n",
      "tensor(0.0698, grad_fn=<AddBackward0>)\n",
      "tensor(0.0698, grad_fn=<AddBackward0>)\n",
      "tensor(0.0698, grad_fn=<AddBackward0>)\n",
      "tensor(0.0698, grad_fn=<AddBackward0>)\n",
      "tensor(0.0698, grad_fn=<AddBackward0>)\n"
     ]
    }
   ],
   "source": [
    "criterion = custom_loss  # Use your custom loss function\n",
    "\n",
    "model = ObjectiveEstimator_ANN_1hidden_layer_inter(inp_size,[inter_size],output_size)\n",
    "\n",
    "optimizer = torch.optim.Adam(model.parameters(), lr=learning_rate)\n",
    "\n",
    "\n",
    "for epoch in range(num_epochs):\n",
    "    for inputs, targets, target_hidden in training_loader:\n",
    "        optimizer.zero_grad()\n",
    "        outputs, hidden_representation = model(inputs)\n",
    "        loss = criterion(outputs.float(), targets.float(), hidden_representation.float(), target_hidden.float(),alpha = 0.5)\n",
    "        loss.backward()\n",
    "        optimizer.step()\n",
    "    print(loss)"
   ]
  },
  {
   "cell_type": "code",
   "execution_count": 40,
   "id": "a6687c26",
   "metadata": {
    "collapsed": true
   },
   "outputs": [
    {
     "data": {
      "text/plain": [
       "<matplotlib.legend.Legend at 0x207f801f2b0>"
      ]
     },
     "execution_count": 40,
     "metadata": {},
     "output_type": "execute_result"
    },
    {
     "data": {
      "image/png": "[encoded data removed]",
      "text/plain": [
       "<Figure size 640x480 with 2 Axes>"
      ]
     },
     "metadata": {},
     "output_type": "display_data"
    }
   ],
   "source": [
    "#Inspection of test results:\n",
    "s = \"train\"\n",
    "ex = \"Network_Existing_Generation_Full\"\n",
    "costs_target,power_target = d_ft_out[s],d_ft_inter[s]\n",
    "costs_pred,power_pred = model(d_ft_in[s].float())\n",
    "i=4\n",
    "s=800\n",
    "e=s+400\n",
    "\n",
    "fig,axs = plt.subplots(2,1)\n",
    "axs[0].plot(power_pred[s:e,i].detach(),label = \"Prediction\")\n",
    "axs[0].plot(power_target[s:e,i],label = \"Target\")\n",
    "\n",
    "axs[1].plot(costs_pred[s:e].detach(),label = \"Prediction\")\n",
    "axs[1].plot(costs_target[s:e],label = \"Target\")\n",
    "plt.legend()"
   ]
  },
  {
   "cell_type": "code",
   "execution_count": 45,
   "id": "cf592fe0",
   "metadata": {},
   "outputs": [
    {
     "data": {
      "text/plain": [
       "tensor([12.0610, 12.0610, 12.0610,  ..., 12.0703, 12.0717, 12.0729],\n",
       "       dtype=torch.float64)"
      ]
     },
     "execution_count": 45,
     "metadata": {},
     "output_type": "execute_result"
    }
   ],
   "source": [
    "power_target"
   ]
  },
  {
   "cell_type": "code",
   "execution_count": 85,
   "id": "ef658478",
   "metadata": {},
   "outputs": [],
   "source": [
    "ts_in,ts_out =  DataLoading.split_tr_val_te(dfs_in,dfs_out,executions,te_s,val_s)\n",
    "ts_in_2,ts_out_2,ts_inter = split_tr_val_te_ext_out(dfs_in,dfs_out,dfs_inter_j,executions,te_s,val_s)"
   ]
  },
  {
   "cell_type": "code",
   "execution_count": 61,
   "id": "59bf9013",
   "metadata": {
    "collapsed": true
   },
   "outputs": [
    {
     "name": "stdout",
     "output_type": "stream",
     "text": [
      "train in True\n",
      "train out True\n",
      "test in True\n",
      "test out True\n",
      "val in True\n",
      "val out True\n"
     ]
    }
   ],
   "source": [
    "key = \"val\"\n",
    "key2 = \"Network_Existing_Generation_Full\"\n",
    "for key in [\"train\", \"test\",\"val\"]:\n",
    "    print(key,\"in\", torch.equal(ts_in[key][key2],ts_in_2[key][key2]))\n",
    "    print(key,\"out\", torch.equal(ts_out[key][key2],ts_out_2[key][key2]))"
   ]
  },
  {
   "cell_type": "code",
   "execution_count": 75,
   "id": "900abae3",
   "metadata": {},
   "outputs": [
    {
     "data": {
      "text/plain": [
       "(torch.Size([1572, 89]), torch.Size([1572]), torch.Size([1572, 1203]))"
      ]
     },
     "execution_count": 75,
     "metadata": {},
     "output_type": "execute_result"
    }
   ],
   "source": [
    "ts_inter[\"train\"][\"Network_Existing_Generation_Full\"].shape,ts_out[\"train\"][\"Network_Existing_Generation_Full\"].shape,ts_in[\"train\"][\"Network_Existing_Generation_Full\"].shape"
   ]
  },
  {
   "cell_type": "code",
   "execution_count": 45,
   "id": "d7610bd2",
   "metadata": {},
   "outputs": [
    {
     "data": {
      "text/plain": [
       "dict_keys(['Network_Existing_Generation_Full'])"
      ]
     },
     "execution_count": 45,
     "metadata": {},
     "output_type": "execute_result"
    }
   ],
   "source": [
    "ts_in[\"train\"].keys()"
   ]
  }
 ],
 "metadata": {
  "kernelspec": {
   "display_name": "Python 3 (ipykernel)",
   "language": "python",
   "name": "python3"
  },
  "language_info": {
   "codemirror_mode": {
    "name": "ipython",
    "version": 3
   },
   "file_extension": ".py",
   "mimetype": "text/x-python",
   "name": "python",
   "nbconvert_exporter": "python",
   "pygments_lexer": "ipython3",
   "version": "3.10.11"
  }
 },
 "nbformat": 4,
 "nbformat_minor": 5
}
