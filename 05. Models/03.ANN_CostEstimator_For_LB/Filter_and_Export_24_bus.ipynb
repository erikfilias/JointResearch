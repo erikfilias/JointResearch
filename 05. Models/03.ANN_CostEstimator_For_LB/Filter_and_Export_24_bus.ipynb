{
 "cells": [
  {
   "cell_type": "code",
   "execution_count": 1,
   "id": "56189cba",
   "metadata": {},
   "outputs": [],
   "source": [
    "import pandas as pd\n",
    "import numpy as np\n",
    "import matplotlib.pyplot as plt"
   ]
  },
  {
   "cell_type": "code",
   "execution_count": 2,
   "id": "2fb56163",
   "metadata": {},
   "outputs": [],
   "source": [
    "def split_real_im(c): \n",
    "    c = complex(c)\n",
    "    return pd.Series([c.real,c.imag])"
   ]
  },
  {
   "cell_type": "code",
   "execution_count": 3,
   "id": "eeeaa142",
   "metadata": {},
   "outputs": [],
   "source": [
    "# import input and target data \n",
    "# all_input = pd.read_csv(\"../Samples_RTS24/oT_Result_NN_Input_RTS24.csv\")\n",
    "# all_output = pd.read_csv(\"../Samples_RTS24/oT_Result_NN_Output_RTS24.csv\")\n",
    "\n",
    "all_input = pd.read_csv(\"../../Samples_RTS24_ACOPF/oT_Result_NN_Input_RTS24.csv\")\n",
    "all_output = pd.read_csv(\"../../Samples_RTS24_ACOPF/oT_Result_NN_Output_RTS24.csv\")"
   ]
  },
  {
   "cell_type": "code",
   "execution_count": 7,
   "id": "0dc9388c",
   "metadata": {},
   "outputs": [],
   "source": [
    "timestamps = np.unique(all_input.LoadLevel)\n",
    "variables = np.sort(np.unique(all_input.Variable))\n",
    "executions = np.unique(all_input.Execution)\n",
    "periods = np.unique(all_input.Period)\n",
    "scenarios = np.unique(all_input.Scenario)\n",
    "\n",
    "variables_o =  np.unique(all_output.Variable)"
   ]
  },
  {
   "cell_type": "code",
   "execution_count": 12,
   "id": "03eb9a8f",
   "metadata": {},
   "outputs": [],
   "source": []
  },
  {
   "cell_type": "code",
   "execution_count": 13,
   "id": "cbf4dd61",
   "metadata": {},
   "outputs": [],
   "source": [
    "#Select only the relevant variables, for which the appropriate mapping file is read: \n",
    "generation_types = pd.read_csv(\"../../Samples_RTS24_ACOPF/oT_Data_Generation_Technology_RTS24.csv\")\n",
    "techs_kept = [\"Hydro\", \"Solar\",\"Wind\"]\n",
    "variables_to_drop_i = np.unique(generation_types[~generation_types.Technology.isin(techs_kept)].Unit)\n",
    "variables_to_keep_i = [v for v in variables if v not in(variables_to_drop_i)]\n",
    "\n",
    "variables_to_keep_o = [\"vTotalCCost\", \"vTotalECost\",\"vTotalGCost\",\"vTotalRCost\"]"
   ]
  },
  {
   "cell_type": "code",
   "execution_count": 14,
   "id": "c56491d3",
   "metadata": {},
   "outputs": [
    {
     "data": {
      "text/plain": [
       "(240, 651, 40, 1, 1)"
      ]
     },
     "execution_count": 14,
     "metadata": {},
     "output_type": "execute_result"
    }
   ],
   "source": [
    "len(timestamps),len(variables),len(executions),len(periods),len(scenarios)"
   ]
  },
  {
   "cell_type": "code",
   "execution_count": 17,
   "id": "e01f4a90",
   "metadata": {},
   "outputs": [],
   "source": [
    "#Select a certain scenario and execution\n",
    "\n",
    "#exe = executions[5]\n",
    "per = periods[0]\n",
    "sc = scenarios[0]\n",
    "for exe in executions:\n",
    "\n",
    "    #Filter the main frame on desired parameters: \n",
    "    f_i = (all_input.LoadLevel.isin(timestamps))& (all_input.Execution == exe ) & (all_input.Period == per )& (all_input.Scenario == sc)& (all_input.Variable.isin(variables_to_keep_i))\n",
    "    input_f = pd.DataFrame(all_input[f_i])\n",
    "\n",
    "    f_o = (all_output.LoadLevel.isin(timestamps))& (all_output.Execution == exe ) & (all_output.Period == per )& (all_output.Scenario == sc)& (all_output.Variable.isin(variables_to_keep_o))\n",
    "    output_f = pd.DataFrame(all_output[f_o])\n",
    "\n",
    "    #And then add to new frame the two parts of the complex numbers: \n",
    "    input_f[['Value_R', 'Value_I']] = input_f[\"Value\"].apply(split_real_im)\n",
    "\n",
    "    #Pivot \n",
    "    input_f_p = input_f.pivot(index = \"LoadLevel\",columns=[\"Variable\"],values = [\"Value_R\",\"Value_I\"])\n",
    "    output_f_p = output_f.pivot(index = \"LoadLevel\",columns=[\"Variable\",\"Dataset\"],values = [\"Value\"])\n",
    "\n",
    "    #Write to separate csv file\n",
    "    input_f_p.to_csv(f\"Data/RTS_24_AC/input_f_{sc}_{exe}_{per}.csv\")\n",
    "    output_f_p.to_csv(f\"Data/RTS_24_AC/output_f_{sc}_{exe}_{per}.csv\")"
   ]
  }
 ],
 "metadata": {
  "kernelspec": {
   "display_name": "Python 3 (ipykernel)",
   "language": "python",
   "name": "python3"
  },
  "language_info": {
   "codemirror_mode": {
    "name": "ipython",
    "version": 3
   },
   "file_extension": ".py",
   "mimetype": "text/x-python",
   "name": "python",
   "nbconvert_exporter": "python",
   "pygments_lexer": "ipython3",
   "version": "3.10.11"
  }
 },
 "nbformat": 4,
 "nbformat_minor": 5
}
