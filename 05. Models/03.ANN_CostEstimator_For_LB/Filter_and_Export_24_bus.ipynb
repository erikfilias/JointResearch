{
 "cells": [
  {
   "cell_type": "code",
   "execution_count": 1,
   "id": "56189cba",
   "metadata": {},
   "outputs": [],
   "source": [
    "import pandas as pd\n",
    "import numpy as np\n",
    "import matplotlib.pyplot as plt"
   ]
  },
  {
   "cell_type": "code",
   "execution_count": 2,
   "id": "2fb56163",
   "metadata": {},
   "outputs": [],
   "source": [
    "def split_real_im(c): \n",
    "    c = complex(c)\n",
    "    return pd.Series([c.real,c.imag])"
   ]
  },
  {
   "cell_type": "code",
   "execution_count": 3,
   "id": "eeeaa142",
   "metadata": {},
   "outputs": [],
   "source": [
    "# import input and target data \n",
    "all_input = pd.read_csv(\"../Samples_RTS24/oT_Result_NN_Input_RTS24.csv\")\n",
    "all_output = pd.read_csv(\"../Samples_RTS24/oT_Result_NN_Output_RTS24.csv\")"
   ]
  },
  {
   "cell_type": "code",
   "execution_count": 4,
   "id": "0dc9388c",
   "metadata": {},
   "outputs": [],
   "source": [
    "timestamps = np.unique(all_input.LoadLevel)\n",
    "variables = np.unique(all_input.Variable)\n",
    "executions = np.unique(all_input.Execution)\n",
    "periods = np.unique(all_input.Period)\n",
    "scenarios = np.unique(all_input.Scenario)"
   ]
  },
  {
   "cell_type": "code",
   "execution_count": 8,
   "id": "cd25d118",
   "metadata": {},
   "outputs": [
    {
     "data": {
      "text/plain": [
       "array(['Network_Full_Generation_Full',\n",
       "       'Network_Line_Out_N_101_N_102_cac1',\n",
       "       'Network_Line_Out_N_101_N_103_cac1',\n",
       "       'Network_Line_Out_N_101_N_105_cac1',\n",
       "       'Network_Line_Out_N_102_N_104_cac1',\n",
       "       'Network_Line_Out_N_102_N_106_cac1',\n",
       "       'Network_Line_Out_N_103_N_109_cac1',\n",
       "       'Network_Line_Out_N_103_N_124_cac1',\n",
       "       'Network_Line_Out_N_104_N_109_cac1',\n",
       "       'Network_Line_Out_N_105_N_110_cac1',\n",
       "       'Network_Line_Out_N_106_N_108_cac1',\n",
       "       'Network_Line_Out_N_106_N_110_cac1',\n",
       "       'Network_Line_Out_N_107_N_108_cac1',\n",
       "       'Network_Line_Out_N_108_N_109_cac1',\n",
       "       'Network_Line_Out_N_108_N_110_cac1',\n",
       "       'Network_Line_Out_N_109_N_111_cac1',\n",
       "       'Network_Line_Out_N_109_N_112_cac1',\n",
       "       'Network_Line_Out_N_110_N_111_cac1',\n",
       "       'Network_Line_Out_N_110_N_112_cac1',\n",
       "       'Network_Line_Out_N_111_N_113_cac1',\n",
       "       'Network_Line_Out_N_111_N_114_cac1',\n",
       "       'Network_Line_Out_N_112_N_113_cac1',\n",
       "       'Network_Line_Out_N_112_N_123_cac1',\n",
       "       'Network_Line_Out_N_113_N_123_cac1',\n",
       "       'Network_Line_Out_N_114_N_116_cac1',\n",
       "       'Network_Line_Out_N_115_N_116_cac1',\n",
       "       'Network_Line_Out_N_115_N_121_cac1',\n",
       "       'Network_Line_Out_N_115_N_121_cac2',\n",
       "       'Network_Line_Out_N_115_N_124_cac1',\n",
       "       'Network_Line_Out_N_116_N_117_cac1',\n",
       "       'Network_Line_Out_N_116_N_119_cac1',\n",
       "       'Network_Line_Out_N_117_N_118_cac1',\n",
       "       'Network_Line_Out_N_117_N_122_cac1',\n",
       "       'Network_Line_Out_N_118_N_121_cac1',\n",
       "       'Network_Line_Out_N_118_N_121_cac2',\n",
       "       'Network_Line_Out_N_119_N_120_cac1',\n",
       "       'Network_Line_Out_N_119_N_120_cac2',\n",
       "       'Network_Line_Out_N_120_N_123_cac1',\n",
       "       'Network_Line_Out_N_120_N_123_cac2',\n",
       "       'Network_Line_Out_N_121_N_122_cac1'], dtype=object)"
      ]
     },
     "execution_count": 8,
     "metadata": {},
     "output_type": "execute_result"
    }
   ],
   "source": [
    "executions"
   ]
  },
  {
   "cell_type": "code",
   "execution_count": 7,
   "id": "e01f4a90",
   "metadata": {},
   "outputs": [],
   "source": [
    "#Select a certain scenario and execution\n",
    "\n",
    "#exe = executions[5]\n",
    "per = periods[0]\n",
    "sc = scenarios[0]\n",
    "for exe in executions[5:]:\n",
    "\n",
    "    variables_to_keep = variables[4:]\n",
    "    variables_to_keep_o = np.sort(np.unique(all_output.Variable))[[0,1,3,4]]\n",
    "\n",
    "    #Filter the main frame on desired parameters: \n",
    "    f_i = (all_input.LoadLevel.isin(timestamps))& (all_input.Execution == exe ) & (all_input.Period == per )& (all_input.Scenario == sc)& (all_input.Variable.isin(variables_to_keep))\n",
    "    input_f = pd.DataFrame(all_input[f_i])\n",
    "\n",
    "    f_o = (all_output.LoadLevel.isin(timestamps))& (all_output.Execution == exe ) & (all_output.Period == per )& (all_output.Scenario == sc)& (all_output.Variable.isin(variables_to_keep_o))\n",
    "    output_f = pd.DataFrame(all_output[f_o])\n",
    "\n",
    "    #And then add to new frame the two parts of the complex numbers: \n",
    "    input_f[['Value_R', 'Value_I']] = input_f[\"Value\"].apply(split_real_im)\n",
    "\n",
    "    #Pivot \n",
    "    input_f_p = input_f.pivot(index = \"LoadLevel\",columns=[\"Variable\"],values = [\"Value_R\",\"Value_I\"])\n",
    "    output_f_p = output_f.pivot(index = \"LoadLevel\",columns=[\"Variable\"],values = [\"Value\"])\n",
    "\n",
    "    #Write to separate csv file\n",
    "    input_f_p.to_csv(f\"Data/RTS_24/input_f_{sc}_{exe}_{per}.csv\")\n",
    "    output_f_p.to_csv(f\"Data/RTS_24/output_f_{sc}_{exe}_{per}.csv\")"
   ]
  }
 ],
 "metadata": {
  "kernelspec": {
   "display_name": "Python 3 (ipykernel)",
   "language": "python",
   "name": "python3"
  },
  "language_info": {
   "codemirror_mode": {
    "name": "ipython",
    "version": 3
   },
   "file_extension": ".py",
   "mimetype": "text/x-python",
   "name": "python",
   "nbconvert_exporter": "python",
   "pygments_lexer": "ipython3",
   "version": "3.10.11"
  }
 },
 "nbformat": 4,
 "nbformat_minor": 5
}
