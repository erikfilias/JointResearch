{
 "cells": [
  {
   "cell_type": "code",
   "execution_count": 69,
   "id": "e79d640b",
   "metadata": {},
   "outputs": [],
   "source": [
    "import pandas as pd\n",
    "import DataLoading"
   ]
  },
  {
   "cell_type": "code",
   "execution_count": 54,
   "id": "c24459e7",
   "metadata": {},
   "outputs": [],
   "source": [
    "def units_to_keep_Power_Output():\n",
    "    generation_types = pd.read_csv(\"../Data/Samples_RTS24_ACOPF/oT_Data_Generation_Technology_RTS24.csv\")\n",
    "    unwanted_gen_types = [\"Hydro\", \"Solar\",\"Wind\"]\n",
    "    units_kept = generation_types[~generation_types.Technology.isin(unwanted_gen_types)]\n",
    "    return units_kept"
   ]
  },
  {
   "cell_type": "code",
   "execution_count": null,
   "id": "c976f69b",
   "metadata": {},
   "outputs": [],
   "source": [
    "#executions = DataLoading.list_executions(per=\"2030\",sc=sc,folder = \"../Data/RTS24_AC_12w\")"
   ]
  },
  {
   "cell_type": "code",
   "execution_count": 27,
   "id": "b938812d",
   "metadata": {},
   "outputs": [],
   "source": []
  },
  {
   "cell_type": "code",
   "execution_count": 75,
   "id": "26f51470",
   "metadata": {},
   "outputs": [],
   "source": [
    "executions = outp.Execution.unique()\n",
    "variables_o =  outp.Variable.unique()\n",
    "scenarios = outp.Scenario.unique()\n",
    "periods = outp.Period.unique()"
   ]
  },
  {
   "cell_type": "code",
   "execution_count": 52,
   "id": "4e472dcb",
   "metadata": {},
   "outputs": [
    {
     "data": {
      "text/plain": [
       "'PowerOutput'"
      ]
     },
     "execution_count": 52,
     "metadata": {},
     "output_type": "execute_result"
    }
   ],
   "source": [
    "len(outp.Variable.unique())\n",
    "#outp.Dataset.unique()\n",
    "outp_types[1]"
   ]
  },
  {
   "cell_type": "code",
   "execution_count": 57,
   "id": "d6d82a59",
   "metadata": {},
   "outputs": [
    {
     "data": {
      "text/plain": [
       "array(['Network_Existing_Generation_Full'], dtype=object)"
      ]
     },
     "execution_count": 57,
     "metadata": {},
     "output_type": "execute_result"
    }
   ],
   "source": [
    "#Create list of the types of output \n",
    "outp_types = outp.Dataset.unique()\n",
    "#Create dictionary for different output types \n",
    "outps_f=dict() \n",
    "\n",
    "#for key in [\"SystemCosts\", \"PowerOutput\", ]\n",
    "\n",
    "\n",
    "\n",
    "#When the output type is PowerOutput, we want to keep only the dispatchable units?\n",
    "if key == \"PowerOutput\": \n",
    "    #For now, we don't filter on dipatchable units\n",
    "    pass\n",
    "\n",
    "\n",
    "outps_f[key].Execution.unique()"
   ]
  },
  {
   "cell_type": "code",
   "execution_count": 95,
   "id": "86540832",
   "metadata": {},
   "outputs": [],
   "source": [
    "folder = \"RTS24_AC_12w_ext_o\"\n",
    "per = 2030\n",
    "sc = \"sc01\"\n",
    "\n",
    "\n",
    "exe = executions[0]\n",
    "\n",
    "#Read the output file into dataframe for a given execution\n",
    "outp = pd.read_csv(f\"../10.StarNet/RTS24/ClusterResults/Results_PF/oT_Output_Data_RTS24_{exe}.csv\")\n",
    "\n",
    "#loop over output types\n",
    "for key in [\"SystemCosts\",\"PowerOutput\",\"PowerFlow\"]:\n",
    "    \n",
    "    #Select one of the output types  and create a filter for the full frame\n",
    "#     key = outp_types[1]\n",
    "    f_o = (outp.Dataset == key)\n",
    "\n",
    "    #Assign the filtered frame to a new frame\n",
    "    outp_f= outp[f_o]\n",
    "    #Pivot the filtered frame to have one row per timestamp, and one column per data type \n",
    "    outp_f_p = outp_f.pivot(index = \"LoadLevel\",columns=[\"Variable\"],values = \"Value\")\n",
    "    #Store result in a csv file \n",
    "    outp_f_p.to_csv(f\"../Data/{folder}/output_f_{sc}_{exe}_{per}_{key}.csv\")"
   ]
  }
 ],
 "metadata": {
  "kernelspec": {
   "display_name": "Python 3 (ipykernel)",
   "language": "python",
   "name": "python3"
  },
  "language_info": {
   "codemirror_mode": {
    "name": "ipython",
    "version": 3
   },
   "file_extension": ".py",
   "mimetype": "text/x-python",
   "name": "python",
   "nbconvert_exporter": "python",
   "pygments_lexer": "ipython3",
   "version": "3.10.11"
  }
 },
 "nbformat": 4,
 "nbformat_minor": 5
}
