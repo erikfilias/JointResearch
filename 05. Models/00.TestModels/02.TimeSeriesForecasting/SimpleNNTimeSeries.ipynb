{
 "cells": [
  {
   "attachments": {},
   "cell_type": "markdown",
   "metadata": {},
   "source": [
    "### Forecasting of electricity consumption using a simple neural network"
   ]
  },
  {
   "cell_type": "code",
   "execution_count": 34,
   "metadata": {},
   "outputs": [],
   "source": [
    "import torch\n",
    "import pandas as pd\n",
    "import numpy as np"
   ]
  },
  {
   "cell_type": "code",
   "execution_count": 35,
   "metadata": {},
   "outputs": [],
   "source": [
    "# Load the data\n",
    "data = pd.read_csv('electricity_demand.csv', header=0, index_col=0)"
   ]
  },
  {
   "cell_type": "code",
   "execution_count": 36,
   "metadata": {},
   "outputs": [],
   "source": [
    "# Prepare the data\n",
    "# Split the data into training and testing sets\n",
    "train_size = int(len(data) * 0.8)\n",
    "train_data = data.iloc[:train_size]\n",
    "test_data = data.iloc[train_size:]"
   ]
  },
  {
   "cell_type": "code",
   "execution_count": 37,
   "metadata": {},
   "outputs": [],
   "source": [
    "# Convert the data into PyTorch tensors\n",
    "train_inputs = torch.from_numpy(train_data.values[:-1, :])\n",
    "train_targets = torch.from_numpy(train_data.values[1:, :])\n",
    "test_inputs = torch.from_numpy(test_data.values[:-1, :])\n",
    "test_targets = torch.from_numpy(test_data.values[1:, :])"
   ]
  },
  {
   "cell_type": "code",
   "execution_count": 38,
   "metadata": {},
   "outputs": [],
   "source": [
    "# Define the neural network model\n",
    "class ElectricityDemandForecasting(torch.nn.Module):\n",
    "    def __init__(self, input_size, hidden_size, output_size):\n",
    "        super().__init__()\n",
    "        self.hidden_layer1 = torch.nn.Linear(input_size, hidden_size)\n",
    "        self.hidden_layer2 = torch.nn.Linear(hidden_size, hidden_size)\n",
    "        self.output_layer = torch.nn.Linear(hidden_size, output_size)\n",
    "\n",
    "    def forward(self, input):\n",
    "        hidden = torch.relu(self.hidden_layer1(input))\n",
    "        hidden = torch.relu(self.hidden_layer2(hidden))\n",
    "        output = self.output_layer(hidden)\n",
    "        return output"
   ]
  },
  {
   "cell_type": "code",
   "execution_count": 39,
   "metadata": {},
   "outputs": [],
   "source": [
    "# Initialize the model and optimizer\n",
    "model = ElectricityDemandForecasting(input_size=1, hidden_size=20, output_size=1)\n",
    "optimizer = torch.optim.Adam(model.parameters(), lr=0.001)"
   ]
  },
  {
   "cell_type": "code",
   "execution_count": 40,
   "metadata": {},
   "outputs": [
    {
     "name": "stdout",
     "output_type": "stream",
     "text": [
      "Epoch 10, Train Loss: 0.1445731222629547\n",
      "Epoch 20, Train Loss: 0.09090759605169296\n",
      "Epoch 30, Train Loss: 0.05719895288348198\n",
      "Epoch 40, Train Loss: 0.0410848893225193\n",
      "Epoch 50, Train Loss: 0.03599340096116066\n",
      "Epoch 60, Train Loss: 0.03366927430033684\n",
      "Epoch 70, Train Loss: 0.030817747116088867\n",
      "Epoch 80, Train Loss: 0.027842313051223755\n",
      "Epoch 90, Train Loss: 0.024995854124426842\n",
      "Epoch 100, Train Loss: 0.022139325737953186\n"
     ]
    }
   ],
   "source": [
    "# Train the model\n",
    "for epoch in range(100):\n",
    "    # Forward pass\n",
    "    train_predictions = model(train_inputs.float())\n",
    "    train_loss = torch.nn.MSELoss()(train_predictions, train_targets.float())\n",
    "\n",
    "    # Backward pass\n",
    "    optimizer.zero_grad()\n",
    "    train_loss.backward()\n",
    "    optimizer.step()\n",
    "\n",
    "    # Print the training loss every 10 epochs\n",
    "    if (epoch + 1) % 10 == 0:\n",
    "        print(f'Epoch {epoch + 1}, Train Loss: {train_loss.item()}')"
   ]
  },
  {
   "cell_type": "code",
   "execution_count": 41,
   "metadata": {},
   "outputs": [
    {
     "name": "stdout",
     "output_type": "stream",
     "text": [
      "Test Loss: 0.012079893611371517\n"
     ]
    }
   ],
   "source": [
    "# Evaluate the model on the test set\n",
    "test_predictions = model(test_inputs.float())\n",
    "test_loss = torch.nn.MSELoss()(test_predictions, test_targets.float())\n",
    "print(f'Test Loss: {test_loss.item()}')"
   ]
  },
  {
   "cell_type": "code",
   "execution_count": 42,
   "metadata": {},
   "outputs": [],
   "source": [
    "# Save the trained model\n",
    "torch.save(model.state_dict(), \"model.pth\")"
   ]
  },
  {
   "cell_type": "code",
   "execution_count": 43,
   "metadata": {},
   "outputs": [],
   "source": [
    "# # Load the saved model\n",
    "# model.load_state_dict(torch.load(\"model.pth\"))\n",
    "# model.eval()\n",
    "\n",
    "# # Predict demand for new input\n",
    "# with torch.no_grad():\n",
    "#     predicted_demand = model(new_input)\n"
   ]
  },
  {
   "cell_type": "code",
   "execution_count": 44,
   "metadata": {},
   "outputs": [],
   "source": [
    "# Convert the test predictions and test output to NumPy arrays\n",
    "test_predictions = test_predictions.detach().numpy()\n"
   ]
  },
  {
   "cell_type": "code",
   "execution_count": 45,
   "metadata": {},
   "outputs": [],
   "source": [
    "test_predictions_df = pd.DataFrame(test_predictions, columns=['Predicted Demand'])\n",
    "test_predictions_df.to_csv('test_predictions.csv', index=False)"
   ]
  },
  {
   "cell_type": "code",
   "execution_count": 46,
   "metadata": {},
   "outputs": [],
   "source": [
    "# # import pandas as pd\n",
    "# import altair as alt\n",
    "\n",
    "# # # Convert the test predictions and test output to Pandas dataframes\n",
    "# # test_predictions_df = pd.DataFrame(test_predictions, columns=['Predicted Demand'])\n",
    "# # test_output_df = pd.DataFrame(test_output, columns=['Actual Demand'])\n",
    "\n",
    "# # Concatenate the two dataframes\n",
    "# results_df = pd.concat([test_targets_df, test_predictions_df], axis=0)\n",
    "\n",
    "# # Create an Altair chart\n",
    "# chart = alt.Chart(results_df).mark_line().encode(\n",
    "#     # x='index:Q',\n",
    "#     y=alt.Y('value:Q', axis=alt.Axis(title='Electricity Demand (kW)')),\n",
    "#     color='variable:N'\n",
    "# ).properties(\n",
    "#     title='Electricity Demand Forecasting Results',\n",
    "#     width=600,\n",
    "#     height=400\n",
    "# ).transform_fold(\n",
    "#     fold=['Actual Demand', 'Predicted Demand'],\n",
    "#     as_=['variable', 'value']\n",
    "# ).interactive()\n",
    "\n",
    "# # Display the chart\n",
    "# chart"
   ]
  },
  {
   "cell_type": "markdown",
   "metadata": {},
   "source": []
  }
 ],
 "metadata": {
  "kernelspec": {
   "display_name": "base",
   "language": "python",
   "name": "python3"
  },
  "language_info": {
   "codemirror_mode": {
    "name": "ipython",
    "version": 3
   },
   "file_extension": ".py",
   "mimetype": "text/x-python",
   "name": "python",
   "nbconvert_exporter": "python",
   "pygments_lexer": "ipython3",
   "version": "3.10.9"
  },
  "orig_nbformat": 4
 },
 "nbformat": 4,
 "nbformat_minor": 2
}
