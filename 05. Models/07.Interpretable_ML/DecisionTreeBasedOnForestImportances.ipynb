{
 "cells": [
  {
   "cell_type": "code",
   "execution_count": 204,
   "id": "44aee538",
   "metadata": {},
   "outputs": [],
   "source": [
    "import scipy\n",
    "import pandas as pd\n",
    "import numpy as np\n",
    "from sklearn import tree"
   ]
  },
  {
   "cell_type": "markdown",
   "id": "c75c03c3",
   "metadata": {},
   "source": [
    "# Random forest for input trimming"
   ]
  },
  {
   "cell_type": "code",
   "execution_count": 205,
   "id": "490d13c7",
   "metadata": {},
   "outputs": [],
   "source": [
    "case = \"RTS24_mod1\""
   ]
  },
  {
   "cell_type": "code",
   "execution_count": 206,
   "id": "8e3b5c51",
   "metadata": {},
   "outputs": [],
   "source": [
    "## Load input data  \n",
    "df_input = pd.read_csv(f\"../Data/{case}_DC_fy/input_f_sc01_Network_Existing_Generation_Full_2030.csv\")\n",
    "feature_list = list(df_input.columns[1:])"
   ]
  },
  {
   "cell_type": "code",
   "execution_count": 207,
   "id": "9661328b",
   "metadata": {},
   "outputs": [],
   "source": [
    "## Load output data example\n",
    "df_output = pd.read_csv(f\"../06.Benchmarking/L.Cont_Investments_per_hour/{case}/3.Out/oT_Hourly_Investments_RTS24_mod1.csv\",header = [0,1,2,3,4])"
   ]
  },
  {
   "cell_type": "code",
   "execution_count": 208,
   "id": "17cf61b2",
   "metadata": {},
   "outputs": [],
   "source": [
    "# Convert to numpy arrays\n",
    "#All input\n",
    "input_array = np.array(df_input.iloc[:,1:])\n",
    "#And a single output coumn\n",
    "output_array = np.array(df_output.iloc[:,1:])"
   ]
  },
  {
   "cell_type": "code",
   "execution_count": 209,
   "id": "d5edf63b",
   "metadata": {},
   "outputs": [],
   "source": [
    "# Split into train and test sets \n",
    "\n",
    "from sklearn.model_selection import train_test_split\n",
    "\n",
    "train_features, test_features, train_labels, test_labels = train_test_split(input_array,output_array,test_size=0.2,random_state=42)"
   ]
  },
  {
   "cell_type": "code",
   "execution_count": 210,
   "id": "c1e2cfde",
   "metadata": {},
   "outputs": [
    {
     "name": "stdout",
     "output_type": "stream",
     "text": [
      "Training Features Shape: (6988, 53)\n",
      "Training Labels Shape: (6988, 21)\n",
      "Testing Features Shape: (1748, 53)\n",
      "Testing Labels Shape: (1748, 21)\n"
     ]
    }
   ],
   "source": [
    "print('Training Features Shape:', train_features.shape)\n",
    "print('Training Labels Shape:', train_labels.shape)\n",
    "print('Testing Features Shape:', test_features.shape)\n",
    "print('Testing Labels Shape:', test_labels.shape)"
   ]
  },
  {
   "cell_type": "code",
   "execution_count": 211,
   "id": "103324f3",
   "metadata": {},
   "outputs": [
    {
     "name": "stdout",
     "output_type": "stream",
     "text": [
      "Average baseline error:  0.04\n"
     ]
    }
   ],
   "source": [
    "# The baseline predictions are the averages\n",
    "baseline_preds = np.tile(np.mean(test_labels,axis=0),len(test_labels)).reshape(test_labels.shape[0],test_labels.shape[1])\n",
    "# Baseline errors, and display average baseline error\n",
    "baseline_errors = abs(baseline_preds - test_labels)\n",
    "print('Average baseline error: ', round(np.mean(baseline_errors), 2))"
   ]
  },
  {
   "cell_type": "code",
   "execution_count": 212,
   "id": "b9855f3b",
   "metadata": {},
   "outputs": [
    {
     "data": {
      "text/html": [
       "<style>#sk-container-id-4 {color: black;background-color: white;}#sk-container-id-4 pre{padding: 0;}#sk-container-id-4 div.sk-toggleable {background-color: white;}#sk-container-id-4 label.sk-toggleable__label {cursor: pointer;display: block;width: 100%;margin-bottom: 0;padding: 0.3em;box-sizing: border-box;text-align: center;}#sk-container-id-4 label.sk-toggleable__label-arrow:before {content: \"▸\";float: left;margin-right: 0.25em;color: #696969;}#sk-container-id-4 label.sk-toggleable__label-arrow:hover:before {color: black;}#sk-container-id-4 div.sk-estimator:hover label.sk-toggleable__label-arrow:before {color: black;}#sk-container-id-4 div.sk-toggleable__content {max-height: 0;max-width: 0;overflow: hidden;text-align: left;background-color: #f0f8ff;}#sk-container-id-4 div.sk-toggleable__content pre {margin: 0.2em;color: black;border-radius: 0.25em;background-color: #f0f8ff;}#sk-container-id-4 input.sk-toggleable__control:checked~div.sk-toggleable__content {max-height: 200px;max-width: 100%;overflow: auto;}#sk-container-id-4 input.sk-toggleable__control:checked~label.sk-toggleable__label-arrow:before {content: \"▾\";}#sk-container-id-4 div.sk-estimator input.sk-toggleable__control:checked~label.sk-toggleable__label {background-color: #d4ebff;}#sk-container-id-4 div.sk-label input.sk-toggleable__control:checked~label.sk-toggleable__label {background-color: #d4ebff;}#sk-container-id-4 input.sk-hidden--visually {border: 0;clip: rect(1px 1px 1px 1px);clip: rect(1px, 1px, 1px, 1px);height: 1px;margin: -1px;overflow: hidden;padding: 0;position: absolute;width: 1px;}#sk-container-id-4 div.sk-estimator {font-family: monospace;background-color: #f0f8ff;border: 1px dotted black;border-radius: 0.25em;box-sizing: border-box;margin-bottom: 0.5em;}#sk-container-id-4 div.sk-estimator:hover {background-color: #d4ebff;}#sk-container-id-4 div.sk-parallel-item::after {content: \"\";width: 100%;border-bottom: 1px solid gray;flex-grow: 1;}#sk-container-id-4 div.sk-label:hover label.sk-toggleable__label {background-color: #d4ebff;}#sk-container-id-4 div.sk-serial::before {content: \"\";position: absolute;border-left: 1px solid gray;box-sizing: border-box;top: 0;bottom: 0;left: 50%;z-index: 0;}#sk-container-id-4 div.sk-serial {display: flex;flex-direction: column;align-items: center;background-color: white;padding-right: 0.2em;padding-left: 0.2em;position: relative;}#sk-container-id-4 div.sk-item {position: relative;z-index: 1;}#sk-container-id-4 div.sk-parallel {display: flex;align-items: stretch;justify-content: center;background-color: white;position: relative;}#sk-container-id-4 div.sk-item::before, #sk-container-id-4 div.sk-parallel-item::before {content: \"\";position: absolute;border-left: 1px solid gray;box-sizing: border-box;top: 0;bottom: 0;left: 50%;z-index: -1;}#sk-container-id-4 div.sk-parallel-item {display: flex;flex-direction: column;z-index: 1;position: relative;background-color: white;}#sk-container-id-4 div.sk-parallel-item:first-child::after {align-self: flex-end;width: 50%;}#sk-container-id-4 div.sk-parallel-item:last-child::after {align-self: flex-start;width: 50%;}#sk-container-id-4 div.sk-parallel-item:only-child::after {width: 0;}#sk-container-id-4 div.sk-dashed-wrapped {border: 1px dashed gray;margin: 0 0.4em 0.5em 0.4em;box-sizing: border-box;padding-bottom: 0.4em;background-color: white;}#sk-container-id-4 div.sk-label label {font-family: monospace;font-weight: bold;display: inline-block;line-height: 1.2em;}#sk-container-id-4 div.sk-label-container {text-align: center;}#sk-container-id-4 div.sk-container {/* jupyter's `normalize.less` sets `[hidden] { display: none; }` but bootstrap.min.css set `[hidden] { display: none !important; }` so we also need the `!important` here to be able to override the default hidden behavior on the sphinx rendered scikit-learn.org. See: https://github.com/scikit-learn/scikit-learn/issues/21755 */display: inline-block !important;position: relative;}#sk-container-id-4 div.sk-text-repr-fallback {display: none;}</style><div id=\"sk-container-id-4\" class=\"sk-top-container\"><div class=\"sk-text-repr-fallback\"><pre>RandomForestRegressor(n_estimators=20, random_state=42)</pre><b>In a Jupyter environment, please rerun this cell to show the HTML representation or trust the notebook. <br />On GitHub, the HTML representation is unable to render, please try loading this page with nbviewer.org.</b></div><div class=\"sk-container\" hidden><div class=\"sk-item\"><div class=\"sk-estimator sk-toggleable\"><input class=\"sk-toggleable__control sk-hidden--visually\" id=\"sk-estimator-id-4\" type=\"checkbox\" checked><label for=\"sk-estimator-id-4\" class=\"sk-toggleable__label sk-toggleable__label-arrow\">RandomForestRegressor</label><div class=\"sk-toggleable__content\"><pre>RandomForestRegressor(n_estimators=20, random_state=42)</pre></div></div></div></div></div>"
      ],
      "text/plain": [
       "RandomForestRegressor(n_estimators=20, random_state=42)"
      ]
     },
     "execution_count": 212,
     "metadata": {},
     "output_type": "execute_result"
    }
   ],
   "source": [
    "# Import the model we are using\n",
    "from sklearn.ensemble import RandomForestRegressor\n",
    "# Instantiate model with 1000 decision trees\n",
    "rf = RandomForestRegressor(n_estimators = 20, random_state = 42)\n",
    "# Train the model on training data\n",
    "rf.fit(train_features, train_labels)"
   ]
  },
  {
   "cell_type": "code",
   "execution_count": 213,
   "id": "e2c974b9",
   "metadata": {},
   "outputs": [
    {
     "name": "stdout",
     "output_type": "stream",
     "text": [
      "Mean Absolute Error: 0.02\n"
     ]
    }
   ],
   "source": [
    "# Use the forest's predict method on the test data\n",
    "predictions = rf.predict(test_features)\n",
    "# Calculate the absolute errors\n",
    "errors = abs(predictions - test_labels)\n",
    "# Print out the mean absolute error (mae), we do this to compare it with the base case prediction to check if the model somewhat makes sense \n",
    "print('Mean Absolute Error:', round(np.mean(errors), 2))"
   ]
  },
  {
   "cell_type": "code",
   "execution_count": 214,
   "id": "925bb205",
   "metadata": {},
   "outputs": [
    {
     "name": "stdout",
     "output_type": "stream",
     "text": [
      "Variable: N_120                Importance: 0.17\n",
      "Variable: 102_PV_1             Importance: 0.07\n",
      "Variable: 102_PV_2             Importance: 0.07\n",
      "Variable: 122_WIND_1           Importance: 0.05\n",
      "Variable: 104_PV_1             Importance: 0.04\n",
      "Variable: 113_PV_1             Importance: 0.04\n",
      "Variable: N_101                Importance: 0.04\n",
      "Variable: N_109                Importance: 0.04\n",
      "Variable: N_102                Importance: 0.03\n",
      "Variable: N_103                Importance: 0.03\n",
      "Variable: N_105                Importance: 0.03\n",
      "Variable: N_106                Importance: 0.03\n",
      "Variable: N_115                Importance: 0.03\n",
      "Variable: N_118                Importance: 0.03\n",
      "Variable: 101_PV_3             Importance: 0.02\n",
      "Variable: 101_PV_4             Importance: 0.02\n",
      "Variable: 119_PV_1             Importance: 0.02\n",
      "Variable: N_104                Importance: 0.02\n",
      "Variable: N_107                Importance: 0.02\n",
      "Variable: N_108                Importance: 0.02\n",
      "Variable: N_110                Importance: 0.02\n",
      "Variable: N_113                Importance: 0.02\n",
      "Variable: N_114                Importance: 0.02\n",
      "Variable: N_116                Importance: 0.02\n",
      "Variable: N_119                Importance: 0.02\n",
      "Variable: 101_PV_1             Importance: 0.01\n",
      "Variable: 101_PV_2             Importance: 0.01\n",
      "Variable: 103_PV_1             Importance: 0.01\n",
      "Variable: 118_RTPV_1           Importance: 0.01\n",
      "Variable: 118_RTPV_10          Importance: 0.01\n",
      "Variable: 118_RTPV_2           Importance: 0.01\n",
      "Variable: 118_RTPV_3           Importance: 0.01\n",
      "Variable: 118_RTPV_4           Importance: 0.01\n",
      "Variable: 118_RTPV_5           Importance: 0.01\n",
      "Variable: 118_RTPV_6           Importance: 0.01\n",
      "Variable: 118_RTPV_7           Importance: 0.01\n",
      "Variable: 118_RTPV_8           Importance: 0.01\n",
      "Variable: 118_RTPV_9           Importance: 0.01\n",
      "Variable: N_111                Importance: 0.0\n",
      "Variable: N_112                Importance: 0.0\n",
      "Variable: N_117                Importance: 0.0\n",
      "Variable: N_121                Importance: 0.0\n",
      "Variable: N_122                Importance: 0.0\n",
      "Variable: N_123                Importance: 0.0\n",
      "Variable: N_124                Importance: 0.0\n",
      "Variable: N_101_N_102_cac1     Importance: 0.0\n",
      "Variable: N_103_N_124_cac1     Importance: 0.0\n",
      "Variable: N_106_N_108_cac1     Importance: 0.0\n",
      "Variable: N_109_N_111_cac1     Importance: 0.0\n",
      "Variable: N_115_N_116_cac1     Importance: 0.0\n",
      "Variable: N_116_N_117_cac1     Importance: 0.0\n",
      "Variable: N_117_N_118_cac1     Importance: 0.0\n",
      "Variable: N_118_N_121_cac1     Importance: 0.0\n"
     ]
    }
   ],
   "source": [
    "# Get numerical feature importances\n",
    "importances = list(rf.feature_importances_)\n",
    "\n",
    "# List of tuples with variable and importance\n",
    "feature_importances = [(feature, round(importance, 2)) for feature, importance in zip(feature_list, importances)]\n",
    "# Sort the feature importances by most important first\n",
    "feature_importances = sorted(feature_importances, key = lambda x: x[1], reverse = True)\n",
    "# Print out the feature and importances \n",
    "[print('Variable: {:20} Importance: {}'.format(*pair)) for pair in feature_importances];\n",
    "\n",
    "#And save them to a csv for later use\n",
    "df_importances = pd.DataFrame(data= feature_importances,columns = [\"Name\",\"Importance\"])\n",
    "df_importances.to_csv(f\"FeatureImportances/{case}.csv\")"
   ]
  },
  {
   "cell_type": "markdown",
   "id": "feda4d10",
   "metadata": {},
   "source": [
    "# Decision tree for rule learning "
   ]
  },
  {
   "cell_type": "markdown",
   "id": "88a24dc6",
   "metadata": {},
   "source": [
    "## Testing accuracy as function of tree depth "
   ]
  },
  {
   "cell_type": "code",
   "execution_count": 222,
   "id": "c7db5b9a",
   "metadata": {},
   "outputs": [],
   "source": [
    "def count_true_matches(array1, array2):\n",
    "    # Ensure both arrays are of the same length\n",
    "    if len(array1) != len(array2):\n",
    "        raise ValueError(\"Both arrays must be of the same length\")\n",
    "    \n",
    "    # Initialize a counter\n",
    "    count = 0\n",
    "    \n",
    "    # Compare the arrays\n",
    "    for i in range(len(array1)):\n",
    "        if array1[i] and array2[i]:  # Check if both values are True\n",
    "            count += 1\n",
    "    \n",
    "    return count"
   ]
  },
  {
   "cell_type": "code",
   "execution_count": 215,
   "id": "fcd3b623",
   "metadata": {},
   "outputs": [],
   "source": [
    "#Load importances\n",
    "df_importances = pd.read_csv(f\"FeatureImportances/{case}.csv\")\n",
    "#Load input data\n",
    "df_input = pd.read_csv(f\"../Data/{case}_DC_fy/input_f_sc01_Network_Existing_Generation_Full_2030.csv\")\n",
    "\n",
    "## Load output data \n",
    "df_output = pd.read_csv(\"../06.Benchmarking/K.Investments_per_hour/RTS24_mod1/3.Out/oT_Hourly_Investments_RTS24_mod1.csv\",header = [0,1,2,3,4])\n",
    "\n",
    "#Convert numerical investment values to booleans\n",
    "for col in df_output.select_dtypes(include=['float64', 'int64']).columns:\n",
    "    df_output[col] = df_output[col].apply(lambda x: 0.5 <= x)"
   ]
  },
  {
   "cell_type": "code",
   "execution_count": 216,
   "id": "3907fa34",
   "metadata": {},
   "outputs": [],
   "source": [
    "#Filter input data based on importances \n",
    "nb_features = 10\n",
    "selected_features = df_importances.iloc[:nb_features,:].Name\n",
    "selected_input = df_input[selected_features]"
   ]
  },
  {
   "cell_type": "code",
   "execution_count": 217,
   "id": "61d8b22b",
   "metadata": {},
   "outputs": [],
   "source": [
    "# Convert to numpy arrays\n",
    "#All input\n",
    "input_array = np.array(selected_input.iloc[:,1:])\n",
    "#And a single output coumn\n",
    "output_array = np.array(df_output.iloc[:,1:])"
   ]
  },
  {
   "cell_type": "code",
   "execution_count": 218,
   "id": "08cc94cb",
   "metadata": {},
   "outputs": [],
   "source": [
    "# Split into train and test sets \n",
    "\n",
    "from sklearn.model_selection import train_test_split\n",
    "\n",
    "train_features, test_features, train_labels, test_labels = train_test_split(input_array,output_array,test_size=0.2,random_state=42)"
   ]
  },
  {
   "cell_type": "code",
   "execution_count": 219,
   "id": "1bfaea8e",
   "metadata": {},
   "outputs": [
    {
     "name": "stdout",
     "output_type": "stream",
     "text": [
      "Training Features Shape: (6988, 9)\n",
      "Training Labels Shape: (6988, 21)\n",
      "Testing Features Shape: (1748, 9)\n",
      "Testing Labels Shape: (1748, 21)\n"
     ]
    }
   ],
   "source": [
    "print('Training Features Shape:', train_features.shape)\n",
    "print('Training Labels Shape:', train_labels.shape)\n",
    "print('Testing Features Shape:', test_features.shape)\n",
    "print('Testing Labels Shape:', test_labels.shape)"
   ]
  },
  {
   "cell_type": "code",
   "execution_count": 275,
   "id": "619f4b4d",
   "metadata": {
    "scrolled": true
   },
   "outputs": [
    {
     "name": "stderr",
     "output_type": "stream",
     "text": [
      "C:\\Users\\u0138303\\AppData\\Local\\Temp\\ipykernel_24688\\846112954.py:25: RuntimeWarning: invalid value encountered in scalar divide\n",
      "  score_trues = nb_correct_trues/test_labels[:,col].sum()\n",
      "C:\\Users\\u0138303\\AppData\\Local\\Temp\\ipykernel_24688\\846112954.py:25: RuntimeWarning: invalid value encountered in scalar divide\n",
      "  score_trues = nb_correct_trues/test_labels[:,col].sum()\n",
      "C:\\Users\\u0138303\\AppData\\Local\\Temp\\ipykernel_24688\\846112954.py:25: RuntimeWarning: invalid value encountered in scalar divide\n",
      "  score_trues = nb_correct_trues/test_labels[:,col].sum()\n",
      "C:\\Users\\u0138303\\AppData\\Local\\Temp\\ipykernel_24688\\846112954.py:25: RuntimeWarning: invalid value encountered in scalar divide\n",
      "  score_trues = nb_correct_trues/test_labels[:,col].sum()\n",
      "C:\\Users\\u0138303\\AppData\\Local\\Temp\\ipykernel_24688\\846112954.py:25: RuntimeWarning: invalid value encountered in scalar divide\n",
      "  score_trues = nb_correct_trues/test_labels[:,col].sum()\n",
      "C:\\Users\\u0138303\\AppData\\Local\\Temp\\ipykernel_24688\\846112954.py:25: RuntimeWarning: invalid value encountered in scalar divide\n",
      "  score_trues = nb_correct_trues/test_labels[:,col].sum()\n",
      "C:\\Users\\u0138303\\AppData\\Local\\Temp\\ipykernel_24688\\846112954.py:25: RuntimeWarning: invalid value encountered in scalar divide\n",
      "  score_trues = nb_correct_trues/test_labels[:,col].sum()\n",
      "C:\\Users\\u0138303\\AppData\\Local\\Temp\\ipykernel_24688\\846112954.py:25: RuntimeWarning: invalid value encountered in scalar divide\n",
      "  score_trues = nb_correct_trues/test_labels[:,col].sum()\n",
      "C:\\Users\\u0138303\\AppData\\Local\\Temp\\ipykernel_24688\\846112954.py:25: RuntimeWarning: invalid value encountered in scalar divide\n",
      "  score_trues = nb_correct_trues/test_labels[:,col].sum()\n",
      "C:\\Users\\u0138303\\AppData\\Local\\Temp\\ipykernel_24688\\846112954.py:25: RuntimeWarning: invalid value encountered in scalar divide\n",
      "  score_trues = nb_correct_trues/test_labels[:,col].sum()\n",
      "C:\\Users\\u0138303\\AppData\\Local\\Temp\\ipykernel_24688\\846112954.py:25: RuntimeWarning: invalid value encountered in scalar divide\n",
      "  score_trues = nb_correct_trues/test_labels[:,col].sum()\n",
      "C:\\Users\\u0138303\\AppData\\Local\\Temp\\ipykernel_24688\\846112954.py:25: RuntimeWarning: invalid value encountered in scalar divide\n",
      "  score_trues = nb_correct_trues/test_labels[:,col].sum()\n",
      "C:\\Users\\u0138303\\AppData\\Local\\Temp\\ipykernel_24688\\846112954.py:25: RuntimeWarning: invalid value encountered in scalar divide\n",
      "  score_trues = nb_correct_trues/test_labels[:,col].sum()\n",
      "C:\\Users\\u0138303\\AppData\\Local\\Temp\\ipykernel_24688\\846112954.py:25: RuntimeWarning: invalid value encountered in scalar divide\n",
      "  score_trues = nb_correct_trues/test_labels[:,col].sum()\n",
      "C:\\Users\\u0138303\\AppData\\Local\\Temp\\ipykernel_24688\\846112954.py:25: RuntimeWarning: invalid value encountered in scalar divide\n",
      "  score_trues = nb_correct_trues/test_labels[:,col].sum()\n",
      "C:\\Users\\u0138303\\AppData\\Local\\Temp\\ipykernel_24688\\846112954.py:25: RuntimeWarning: invalid value encountered in scalar divide\n",
      "  score_trues = nb_correct_trues/test_labels[:,col].sum()\n",
      "C:\\Users\\u0138303\\AppData\\Local\\Temp\\ipykernel_24688\\846112954.py:25: RuntimeWarning: invalid value encountered in scalar divide\n",
      "  score_trues = nb_correct_trues/test_labels[:,col].sum()\n",
      "C:\\Users\\u0138303\\AppData\\Local\\Temp\\ipykernel_24688\\846112954.py:25: RuntimeWarning: invalid value encountered in scalar divide\n",
      "  score_trues = nb_correct_trues/test_labels[:,col].sum()\n",
      "C:\\Users\\u0138303\\AppData\\Local\\Temp\\ipykernel_24688\\846112954.py:25: RuntimeWarning: invalid value encountered in scalar divide\n",
      "  score_trues = nb_correct_trues/test_labels[:,col].sum()\n",
      "C:\\Users\\u0138303\\AppData\\Local\\Temp\\ipykernel_24688\\846112954.py:25: RuntimeWarning: invalid value encountered in scalar divide\n",
      "  score_trues = nb_correct_trues/test_labels[:,col].sum()\n",
      "C:\\Users\\u0138303\\AppData\\Local\\Temp\\ipykernel_24688\\846112954.py:25: RuntimeWarning: invalid value encountered in scalar divide\n",
      "  score_trues = nb_correct_trues/test_labels[:,col].sum()\n",
      "C:\\Users\\u0138303\\AppData\\Local\\Temp\\ipykernel_24688\\846112954.py:25: RuntimeWarning: invalid value encountered in scalar divide\n",
      "  score_trues = nb_correct_trues/test_labels[:,col].sum()\n",
      "C:\\Users\\u0138303\\AppData\\Local\\Temp\\ipykernel_24688\\846112954.py:25: RuntimeWarning: invalid value encountered in scalar divide\n",
      "  score_trues = nb_correct_trues/test_labels[:,col].sum()\n",
      "C:\\Users\\u0138303\\AppData\\Local\\Temp\\ipykernel_24688\\846112954.py:25: RuntimeWarning: invalid value encountered in scalar divide\n",
      "  score_trues = nb_correct_trues/test_labels[:,col].sum()\n",
      "C:\\Users\\u0138303\\AppData\\Local\\Temp\\ipykernel_24688\\846112954.py:25: RuntimeWarning: invalid value encountered in scalar divide\n",
      "  score_trues = nb_correct_trues/test_labels[:,col].sum()\n",
      "C:\\Users\\u0138303\\AppData\\Local\\Temp\\ipykernel_24688\\846112954.py:25: RuntimeWarning: invalid value encountered in scalar divide\n",
      "  score_trues = nb_correct_trues/test_labels[:,col].sum()\n",
      "C:\\Users\\u0138303\\AppData\\Local\\Temp\\ipykernel_24688\\846112954.py:25: RuntimeWarning: invalid value encountered in scalar divide\n",
      "  score_trues = nb_correct_trues/test_labels[:,col].sum()\n",
      "C:\\Users\\u0138303\\AppData\\Local\\Temp\\ipykernel_24688\\846112954.py:25: RuntimeWarning: invalid value encountered in scalar divide\n",
      "  score_trues = nb_correct_trues/test_labels[:,col].sum()\n",
      "C:\\Users\\u0138303\\AppData\\Local\\Temp\\ipykernel_24688\\846112954.py:25: RuntimeWarning: invalid value encountered in scalar divide\n",
      "  score_trues = nb_correct_trues/test_labels[:,col].sum()\n",
      "C:\\Users\\u0138303\\AppData\\Local\\Temp\\ipykernel_24688\\846112954.py:25: RuntimeWarning: invalid value encountered in scalar divide\n",
      "  score_trues = nb_correct_trues/test_labels[:,col].sum()\n",
      "C:\\Users\\u0138303\\AppData\\Local\\Temp\\ipykernel_24688\\846112954.py:25: RuntimeWarning: invalid value encountered in scalar divide\n",
      "  score_trues = nb_correct_trues/test_labels[:,col].sum()\n",
      "C:\\Users\\u0138303\\AppData\\Local\\Temp\\ipykernel_24688\\846112954.py:25: RuntimeWarning: invalid value encountered in scalar divide\n",
      "  score_trues = nb_correct_trues/test_labels[:,col].sum()\n",
      "C:\\Users\\u0138303\\AppData\\Local\\Temp\\ipykernel_24688\\846112954.py:25: RuntimeWarning: invalid value encountered in scalar divide\n",
      "  score_trues = nb_correct_trues/test_labels[:,col].sum()\n",
      "C:\\Users\\u0138303\\AppData\\Local\\Temp\\ipykernel_24688\\846112954.py:25: RuntimeWarning: invalid value encountered in scalar divide\n",
      "  score_trues = nb_correct_trues/test_labels[:,col].sum()\n",
      "C:\\Users\\u0138303\\AppData\\Local\\Temp\\ipykernel_24688\\846112954.py:25: RuntimeWarning: invalid value encountered in scalar divide\n",
      "  score_trues = nb_correct_trues/test_labels[:,col].sum()\n",
      "C:\\Users\\u0138303\\AppData\\Local\\Temp\\ipykernel_24688\\846112954.py:25: RuntimeWarning: invalid value encountered in scalar divide\n",
      "  score_trues = nb_correct_trues/test_labels[:,col].sum()\n",
      "C:\\Users\\u0138303\\AppData\\Local\\Temp\\ipykernel_24688\\846112954.py:25: RuntimeWarning: invalid value encountered in scalar divide\n",
      "  score_trues = nb_correct_trues/test_labels[:,col].sum()\n",
      "C:\\Users\\u0138303\\AppData\\Local\\Temp\\ipykernel_24688\\846112954.py:25: RuntimeWarning: invalid value encountered in scalar divide\n",
      "  score_trues = nb_correct_trues/test_labels[:,col].sum()\n",
      "C:\\Users\\u0138303\\AppData\\Local\\Temp\\ipykernel_24688\\846112954.py:25: RuntimeWarning: invalid value encountered in scalar divide\n",
      "  score_trues = nb_correct_trues/test_labels[:,col].sum()\n",
      "C:\\Users\\u0138303\\AppData\\Local\\Temp\\ipykernel_24688\\846112954.py:25: RuntimeWarning: invalid value encountered in scalar divide\n",
      "  score_trues = nb_correct_trues/test_labels[:,col].sum()\n",
      "C:\\Users\\u0138303\\AppData\\Local\\Temp\\ipykernel_24688\\846112954.py:25: RuntimeWarning: invalid value encountered in scalar divide\n",
      "  score_trues = nb_correct_trues/test_labels[:,col].sum()\n",
      "C:\\Users\\u0138303\\AppData\\Local\\Temp\\ipykernel_24688\\846112954.py:25: RuntimeWarning: invalid value encountered in scalar divide\n",
      "  score_trues = nb_correct_trues/test_labels[:,col].sum()\n",
      "C:\\Users\\u0138303\\AppData\\Local\\Temp\\ipykernel_24688\\846112954.py:25: RuntimeWarning: invalid value encountered in scalar divide\n",
      "  score_trues = nb_correct_trues/test_labels[:,col].sum()\n",
      "C:\\Users\\u0138303\\AppData\\Local\\Temp\\ipykernel_24688\\846112954.py:25: RuntimeWarning: invalid value encountered in scalar divide\n",
      "  score_trues = nb_correct_trues/test_labels[:,col].sum()\n"
     ]
    },
    {
     "name": "stderr",
     "output_type": "stream",
     "text": [
      "C:\\Users\\u0138303\\AppData\\Local\\Temp\\ipykernel_24688\\846112954.py:25: RuntimeWarning: invalid value encountered in scalar divide\n",
      "  score_trues = nb_correct_trues/test_labels[:,col].sum()\n",
      "C:\\Users\\u0138303\\AppData\\Local\\Temp\\ipykernel_24688\\846112954.py:25: RuntimeWarning: invalid value encountered in scalar divide\n",
      "  score_trues = nb_correct_trues/test_labels[:,col].sum()\n",
      "C:\\Users\\u0138303\\AppData\\Local\\Temp\\ipykernel_24688\\846112954.py:25: RuntimeWarning: invalid value encountered in scalar divide\n",
      "  score_trues = nb_correct_trues/test_labels[:,col].sum()\n",
      "C:\\Users\\u0138303\\AppData\\Local\\Temp\\ipykernel_24688\\846112954.py:25: RuntimeWarning: invalid value encountered in scalar divide\n",
      "  score_trues = nb_correct_trues/test_labels[:,col].sum()\n",
      "C:\\Users\\u0138303\\AppData\\Local\\Temp\\ipykernel_24688\\846112954.py:25: RuntimeWarning: invalid value encountered in scalar divide\n",
      "  score_trues = nb_correct_trues/test_labels[:,col].sum()\n",
      "C:\\Users\\u0138303\\AppData\\Local\\Temp\\ipykernel_24688\\846112954.py:25: RuntimeWarning: invalid value encountered in scalar divide\n",
      "  score_trues = nb_correct_trues/test_labels[:,col].sum()\n",
      "C:\\Users\\u0138303\\AppData\\Local\\Temp\\ipykernel_24688\\846112954.py:25: RuntimeWarning: invalid value encountered in scalar divide\n",
      "  score_trues = nb_correct_trues/test_labels[:,col].sum()\n",
      "C:\\Users\\u0138303\\AppData\\Local\\Temp\\ipykernel_24688\\846112954.py:25: RuntimeWarning: invalid value encountered in scalar divide\n",
      "  score_trues = nb_correct_trues/test_labels[:,col].sum()\n"
     ]
    }
   ],
   "source": [
    "from sklearn.metrics import accuracy_score\n",
    "accuracy_frame = pd.DataFrame()\n",
    "accuracy_frame_trues = pd.DataFrame()\n",
    "\n",
    "for md in range(2,15):\n",
    "    #Single investment decision\n",
    "    dtree = tree.DecisionTreeClassifier(max_depth = md)\n",
    "\n",
    "    #Loop over line candidates\n",
    "    ac_arr = []\n",
    "    ac_arr_t = []\n",
    "\n",
    "    for col in range(train_labels.shape[1]):\n",
    "        #Train model on training set \n",
    "        dtree = dtree.fit(train_features,train_labels[:,col])\n",
    "\n",
    "        #Test accuracy on test set \n",
    "        test_pred = dtree.predict(test_features)\n",
    "        score1 = accuracy_score(test_labels[:,col], test_pred)\n",
    "        score = dtree.score(test_features,test_labels[:,col])\n",
    "        score1,score\n",
    "\n",
    "        #Test accuracy of true values \n",
    "        nb_correct_trues = count_true_matches(test_pred,test_labels[:,col])\n",
    "        score_trues = nb_correct_trues/test_labels[:,col].sum()\n",
    "\n",
    "        #Save accuracies in arrays\n",
    "        ac_arr = np.append(ac_arr,score)\n",
    "        ac_arr_t = np.append(ac_arr_t,score_trues)\n",
    "\n",
    "    af_this_depth = pd.DataFrame(data = ac_arr,columns = [md])\n",
    "    aft_this_depth = pd.DataFrame(data = ac_arr_t,columns = [md])\n",
    "\n",
    "    accuracy_frame = pd.concat([accuracy_frame,af_this_depth],axis = 1)\n",
    "    accuracy_frame_trues = pd.concat([accuracy_frame_trues,aft_this_depth],axis =1)\n"
   ]
  },
  {
   "cell_type": "code",
   "execution_count": 273,
   "id": "3509357b",
   "metadata": {},
   "outputs": [
    {
     "name": "stderr",
     "output_type": "stream",
     "text": [
      "C:\\Users\\u0138303\\AppData\\Local\\Temp\\ipykernel_24688\\2239986735.py:31: RuntimeWarning: invalid value encountered in scalar divide\n",
      "  accuracy_trues = nb_correct_trues / test_labels[:, col].sum()\n",
      "C:\\Users\\u0138303\\AppData\\Local\\Temp\\ipykernel_24688\\2239986735.py:31: RuntimeWarning: invalid value encountered in scalar divide\n",
      "  accuracy_trues = nb_correct_trues / test_labels[:, col].sum()\n",
      "C:\\Users\\u0138303\\AppData\\Local\\Temp\\ipykernel_24688\\2239986735.py:31: RuntimeWarning: invalid value encountered in scalar divide\n",
      "  accuracy_trues = nb_correct_trues / test_labels[:, col].sum()\n",
      "C:\\Users\\u0138303\\AppData\\Local\\Temp\\ipykernel_24688\\2239986735.py:31: RuntimeWarning: invalid value encountered in scalar divide\n",
      "  accuracy_trues = nb_correct_trues / test_labels[:, col].sum()\n",
      "C:\\Users\\u0138303\\AppData\\Local\\Temp\\ipykernel_24688\\2239986735.py:31: RuntimeWarning: invalid value encountered in scalar divide\n",
      "  accuracy_trues = nb_correct_trues / test_labels[:, col].sum()\n",
      "C:\\Users\\u0138303\\AppData\\Local\\Temp\\ipykernel_24688\\2239986735.py:31: RuntimeWarning: invalid value encountered in scalar divide\n",
      "  accuracy_trues = nb_correct_trues / test_labels[:, col].sum()\n",
      "C:\\Users\\u0138303\\AppData\\Local\\Temp\\ipykernel_24688\\2239986735.py:31: RuntimeWarning: invalid value encountered in scalar divide\n",
      "  accuracy_trues = nb_correct_trues / test_labels[:, col].sum()\n",
      "C:\\Users\\u0138303\\AppData\\Local\\Temp\\ipykernel_24688\\2239986735.py:31: RuntimeWarning: invalid value encountered in scalar divide\n",
      "  accuracy_trues = nb_correct_trues / test_labels[:, col].sum()\n",
      "C:\\Users\\u0138303\\AppData\\Local\\Temp\\ipykernel_24688\\2239986735.py:31: RuntimeWarning: invalid value encountered in scalar divide\n",
      "  accuracy_trues = nb_correct_trues / test_labels[:, col].sum()\n",
      "C:\\Users\\u0138303\\AppData\\Local\\Temp\\ipykernel_24688\\2239986735.py:31: RuntimeWarning: invalid value encountered in scalar divide\n",
      "  accuracy_trues = nb_correct_trues / test_labels[:, col].sum()\n",
      "C:\\Users\\u0138303\\AppData\\Local\\Temp\\ipykernel_24688\\2239986735.py:31: RuntimeWarning: invalid value encountered in scalar divide\n",
      "  accuracy_trues = nb_correct_trues / test_labels[:, col].sum()\n",
      "C:\\Users\\u0138303\\AppData\\Local\\Temp\\ipykernel_24688\\2239986735.py:31: RuntimeWarning: invalid value encountered in scalar divide\n",
      "  accuracy_trues = nb_correct_trues / test_labels[:, col].sum()\n",
      "C:\\Users\\u0138303\\AppData\\Local\\Temp\\ipykernel_24688\\2239986735.py:31: RuntimeWarning: invalid value encountered in scalar divide\n",
      "  accuracy_trues = nb_correct_trues / test_labels[:, col].sum()\n",
      "C:\\Users\\u0138303\\AppData\\Local\\Temp\\ipykernel_24688\\2239986735.py:31: RuntimeWarning: invalid value encountered in scalar divide\n",
      "  accuracy_trues = nb_correct_trues / test_labels[:, col].sum()\n",
      "C:\\Users\\u0138303\\AppData\\Local\\Temp\\ipykernel_24688\\2239986735.py:31: RuntimeWarning: invalid value encountered in scalar divide\n",
      "  accuracy_trues = nb_correct_trues / test_labels[:, col].sum()\n",
      "C:\\Users\\u0138303\\AppData\\Local\\Temp\\ipykernel_24688\\2239986735.py:31: RuntimeWarning: invalid value encountered in scalar divide\n",
      "  accuracy_trues = nb_correct_trues / test_labels[:, col].sum()\n",
      "C:\\Users\\u0138303\\AppData\\Local\\Temp\\ipykernel_24688\\2239986735.py:31: RuntimeWarning: invalid value encountered in scalar divide\n",
      "  accuracy_trues = nb_correct_trues / test_labels[:, col].sum()\n",
      "C:\\Users\\u0138303\\AppData\\Local\\Temp\\ipykernel_24688\\2239986735.py:31: RuntimeWarning: invalid value encountered in scalar divide\n",
      "  accuracy_trues = nb_correct_trues / test_labels[:, col].sum()\n",
      "C:\\Users\\u0138303\\AppData\\Local\\Temp\\ipykernel_24688\\2239986735.py:31: RuntimeWarning: invalid value encountered in scalar divide\n",
      "  accuracy_trues = nb_correct_trues / test_labels[:, col].sum()\n",
      "C:\\Users\\u0138303\\AppData\\Local\\Temp\\ipykernel_24688\\2239986735.py:31: RuntimeWarning: invalid value encountered in scalar divide\n",
      "  accuracy_trues = nb_correct_trues / test_labels[:, col].sum()\n",
      "C:\\Users\\u0138303\\AppData\\Local\\Temp\\ipykernel_24688\\2239986735.py:31: RuntimeWarning: invalid value encountered in scalar divide\n",
      "  accuracy_trues = nb_correct_trues / test_labels[:, col].sum()\n",
      "C:\\Users\\u0138303\\AppData\\Local\\Temp\\ipykernel_24688\\2239986735.py:31: RuntimeWarning: invalid value encountered in scalar divide\n",
      "  accuracy_trues = nb_correct_trues / test_labels[:, col].sum()\n",
      "C:\\Users\\u0138303\\AppData\\Local\\Temp\\ipykernel_24688\\2239986735.py:31: RuntimeWarning: invalid value encountered in scalar divide\n",
      "  accuracy_trues = nb_correct_trues / test_labels[:, col].sum()\n",
      "C:\\Users\\u0138303\\AppData\\Local\\Temp\\ipykernel_24688\\2239986735.py:31: RuntimeWarning: invalid value encountered in scalar divide\n",
      "  accuracy_trues = nb_correct_trues / test_labels[:, col].sum()\n",
      "C:\\Users\\u0138303\\AppData\\Local\\Temp\\ipykernel_24688\\2239986735.py:31: RuntimeWarning: invalid value encountered in scalar divide\n",
      "  accuracy_trues = nb_correct_trues / test_labels[:, col].sum()\n",
      "C:\\Users\\u0138303\\AppData\\Local\\Temp\\ipykernel_24688\\2239986735.py:31: RuntimeWarning: invalid value encountered in scalar divide\n",
      "  accuracy_trues = nb_correct_trues / test_labels[:, col].sum()\n",
      "C:\\Users\\u0138303\\AppData\\Local\\Temp\\ipykernel_24688\\2239986735.py:31: RuntimeWarning: invalid value encountered in scalar divide\n",
      "  accuracy_trues = nb_correct_trues / test_labels[:, col].sum()\n",
      "C:\\Users\\u0138303\\AppData\\Local\\Temp\\ipykernel_24688\\2239986735.py:31: RuntimeWarning: invalid value encountered in scalar divide\n",
      "  accuracy_trues = nb_correct_trues / test_labels[:, col].sum()\n",
      "C:\\Users\\u0138303\\AppData\\Local\\Temp\\ipykernel_24688\\2239986735.py:31: RuntimeWarning: invalid value encountered in scalar divide\n",
      "  accuracy_trues = nb_correct_trues / test_labels[:, col].sum()\n",
      "C:\\Users\\u0138303\\AppData\\Local\\Temp\\ipykernel_24688\\2239986735.py:31: RuntimeWarning: invalid value encountered in scalar divide\n",
      "  accuracy_trues = nb_correct_trues / test_labels[:, col].sum()\n"
     ]
    },
    {
     "name": "stdout",
     "output_type": "stream",
     "text": [
      "     md  col  accuracy  accuracy_trues\n",
      "0     2    0  0.768879        0.102757\n",
      "1     2    1  0.831236        0.000000\n",
      "2     2    2  0.998856        0.000000\n",
      "3     2    3  0.768307        0.103365\n",
      "4     2    4  1.000000             NaN\n",
      "..   ..  ...       ...             ...\n",
      "163   9   16  1.000000             NaN\n",
      "164   9   17  0.879863        0.703125\n",
      "165   9   18  1.000000             NaN\n",
      "166   9   19  0.940503        0.164706\n",
      "167   9   20  0.893593        0.333333\n",
      "\n",
      "[168 rows x 4 columns]\n"
     ]
    },
    {
     "name": "stderr",
     "output_type": "stream",
     "text": [
      "C:\\Users\\u0138303\\AppData\\Local\\Temp\\ipykernel_24688\\2239986735.py:31: RuntimeWarning: invalid value encountered in scalar divide\n",
      "  accuracy_trues = nb_correct_trues / test_labels[:, col].sum()\n",
      "C:\\Users\\u0138303\\AppData\\Local\\Temp\\ipykernel_24688\\2239986735.py:31: RuntimeWarning: invalid value encountered in scalar divide\n",
      "  accuracy_trues = nb_correct_trues / test_labels[:, col].sum()\n"
     ]
    }
   ],
   "source": [
    "import numpy as np\n",
    "import pandas as pd\n",
    "from sklearn import tree\n",
    "from sklearn.metrics import accuracy_score\n",
    "\n",
    "# Initialize a DataFrame to store the results\n",
    "results_df = pd.DataFrame(columns=[\"md\", \"col\", \"accuracy\", \"accuracy_trues\"])\n",
    "\n",
    "# Define a function to count true matches (you need to implement this function)\n",
    "def count_true_matches(predictions, true_labels):\n",
    "    return np.sum((predictions == 1) & (true_labels == 1))\n",
    "\n",
    "# List to collect results\n",
    "results_list = []\n",
    "\n",
    "for md in range(2, 10):\n",
    "    # Single investment decision\n",
    "    dtree = tree.DecisionTreeClassifier(max_depth=md)\n",
    "\n",
    "    # Loop over line candidates\n",
    "    for col in range(train_labels.shape[1]):\n",
    "        # Train model on training set\n",
    "        dtree = dtree.fit(train_features, train_labels[:, col])\n",
    "\n",
    "        # Test accuracy on test set\n",
    "        test_pred = dtree.predict(test_features)\n",
    "        accuracy = accuracy_score(test_labels[:, col], test_pred)\n",
    "\n",
    "        # Test accuracy of true values\n",
    "        nb_correct_trues = count_true_matches(test_pred, test_labels[:, col])\n",
    "        accuracy_trues = nb_correct_trues / test_labels[:, col].sum()\n",
    "\n",
    "        # Collect the results in a list\n",
    "        results_list.append({\"md\": md, \"col\": col, \"accuracy\": accuracy, \"accuracy_trues\": accuracy_trues})\n",
    "\n",
    "# Convert the results list to a DataFrame\n",
    "results_df = pd.DataFrame(results_list)\n",
    "\n",
    "# Display the DataFrame\n",
    "print(results_df)\n"
   ]
  },
  {
   "cell_type": "code",
   "execution_count": 281,
   "id": "4f53dc9a",
   "metadata": {},
   "outputs": [
    {
     "data": {
      "image/png": "[encoded data removed]",
      "text/plain": [
       "<Figure size 1000x600 with 1 Axes>"
      ]
     },
     "metadata": {},
     "output_type": "display_data"
    }
   ],
   "source": [
    "import seaborn as sns\n",
    "import matplotlib.pyplot as plt\n",
    "\n",
    "# Set the aesthetic style of the plots\n",
    "sns.set(style=\"whitegrid\")\n",
    "\n",
    "# Create a boxplot\n",
    "plt.figure(figsize=(10, 6))\n",
    "sns.boxplot(x='md', y='accuracy_trues', data=results_df,showmeans = True)\n",
    "\n",
    "# Set plot title and labels\n",
    "plt.title('Accuracy Distribution by Max Depth')\n",
    "plt.xlabel('Max Depth (md)')\n",
    "plt.ylabel('Accuracy')\n",
    "\n",
    "# Show the plot\n",
    "plt.show()"
   ]
  },
  {
   "cell_type": "code",
   "execution_count": 203,
   "id": "9a1705eb",
   "metadata": {},
   "outputs": [
    {
     "name": "stdout",
     "output_type": "stream",
     "text": [
      "231 416\n"
     ]
    }
   ],
   "source": [
    "\n",
    "\n",
    "count = count_true_matches(test_pred, test_labels[:,col])\n",
    "print(count,test_labels[:,col].sum())  # Output: 2\n"
   ]
  },
  {
   "cell_type": "markdown",
   "id": "abc86f02",
   "metadata": {},
   "source": [
    "## Tree visualisations on full data"
   ]
  },
  {
   "cell_type": "code",
   "execution_count": 53,
   "id": "c0be50e8",
   "metadata": {},
   "outputs": [],
   "source": [
    "#Load importances\n",
    "df_importances = pd.read_csv(f\"FeatureImportances/{case}.csv\")\n",
    "#Load input data\n",
    "df_input = pd.read_csv(f\"../Data/{case}_DC_fy/input_f_sc01_Network_Existing_Generation_Full_2030.csv\")\n",
    "\n",
    "## Load output data \n",
    "df_output = pd.read_csv(\"../06.Benchmarking/K.Investments_per_hour/RTS24_mod1/3.Out/oT_Hourly_Investments_RTS24_mod1.csv\",header = [0,1,2,3,4])\n",
    "\n",
    "#Convert numerical investment values to booleans\n",
    "for col in df_output.select_dtypes(include=['float64', 'int64']).columns:\n",
    "    df_output[col] = df_output[col].apply(lambda x: 0.5 <= x)"
   ]
  },
  {
   "cell_type": "code",
   "execution_count": 58,
   "id": "00ccb222",
   "metadata": {},
   "outputs": [],
   "source": [
    "#Filter input data based on importances \n",
    "nb_features = 10\n",
    "selected_features = df_importances.iloc[:nb_features,:].Name\n",
    "selected_input = df_input[selected_features]"
   ]
  },
  {
   "cell_type": "code",
   "execution_count": 106,
   "id": "a2f3351e",
   "metadata": {},
   "outputs": [],
   "source": [
    "#Tree parameters \n",
    "md = 4\n",
    "mln = 1000\n",
    "\n",
    "#Single investment decision\n",
    "dtree = tree.DecisionTreeClassifier(max_depth = md,max_leaf_nodes = mln)\n",
    "\n",
    "#Select line candidate\n",
    "col = df_output.columns[1]\n",
    "\n",
    "dtree = dtree.fit(selected_input,df_output.loc[:,col])"
   ]
  },
  {
   "cell_type": "code",
   "execution_count": 107,
   "id": "5d89ea36",
   "metadata": {},
   "outputs": [
    {
     "data": {
      "text/plain": [
       "6888"
      ]
     },
     "execution_count": 107,
     "metadata": {},
     "output_type": "execute_result"
    }
   ],
   "source": [
    "(dtree.predict(selected_input.loc[0:]) == df_output.loc[:,col]).sum()"
   ]
  },
  {
   "cell_type": "code",
   "execution_count": 108,
   "id": "934bce45",
   "metadata": {},
   "outputs": [
    {
     "data": {
      "text/plain": [
       "(3080, 1986)"
      ]
     },
     "execution_count": 108,
     "metadata": {},
     "output_type": "execute_result"
    }
   ],
   "source": [
    "dtree.predict(selected_input.loc[0:]).sum(),df_output.loc[:,col].sum()"
   ]
  },
  {
   "cell_type": "code",
   "execution_count": 109,
   "id": "d06df616",
   "metadata": {
    "scrolled": true
   },
   "outputs": [
    {
     "data": {
      "text/plain": [
       "[Text(0.5, 0.9, '102_PV_2 <= 0.0\\ngini = 0.351\\nsamples = 8736\\nvalue = [6750, 1986]'),\n",
       " Text(0.25, 0.7, 'N_101 <= 0.082\\ngini = 0.139\\nsamples = 4124\\nvalue = [3814, 310]'),\n",
       " Text(0.125, 0.5, 'N_101 <= 0.068\\ngini = 0.055\\nsamples = 3728\\nvalue = [3623, 105]'),\n",
       " Text(0.0625, 0.3, '104_PV_1 <= 0.0\\ngini = 0.028\\nsamples = 3424\\nvalue = [3375, 49]'),\n",
       " Text(0.03125, 0.1, 'gini = 0.02\\nsamples = 3379\\nvalue = [3345, 34]'),\n",
       " Text(0.09375, 0.1, 'gini = 0.444\\nsamples = 45\\nvalue = [30, 15]'),\n",
       " Text(0.1875, 0.3, 'N_102 <= 0.08\\ngini = 0.301\\nsamples = 304\\nvalue = [248, 56]'),\n",
       " Text(0.15625, 0.1, 'gini = 0.276\\nsamples = 290\\nvalue = [242, 48]'),\n",
       " Text(0.21875, 0.1, 'gini = 0.49\\nsamples = 14\\nvalue = [6, 8]'),\n",
       " Text(0.375, 0.5, 'N_103 <= 0.137\\ngini = 0.499\\nsamples = 396\\nvalue = [191, 205]'),\n",
       " Text(0.3125, 0.3, 'N_120 <= 0.122\\ngini = 0.432\\nsamples = 111\\nvalue = [76, 35]'),\n",
       " Text(0.28125, 0.1, 'gini = 0.412\\nsamples = 107\\nvalue = [76, 31]'),\n",
       " Text(0.34375, 0.1, 'gini = 0.0\\nsamples = 4\\nvalue = [0, 4]'),\n",
       " Text(0.4375, 0.3, '104_PV_1 <= 0.0\\ngini = 0.481\\nsamples = 285\\nvalue = [115, 170]'),\n",
       " Text(0.40625, 0.1, 'gini = 0.467\\nsamples = 266\\nvalue = [99, 167]'),\n",
       " Text(0.46875, 0.1, 'gini = 0.266\\nsamples = 19\\nvalue = [16, 3]'),\n",
       " Text(0.75, 0.7, '102_PV_2 <= 0.045\\ngini = 0.463\\nsamples = 4612\\nvalue = [2936, 1676]'),\n",
       " Text(0.625, 0.5, '104_PV_1 <= 0.045\\ngini = 0.497\\nsamples = 3368\\nvalue = [1823, 1545]'),\n",
       " Text(0.5625, 0.3, 'N_101 <= 0.034\\ngini = 0.5\\nsamples = 2910\\nvalue = [1465, 1445]'),\n",
       " Text(0.53125, 0.1, 'gini = 0.444\\nsamples = 247\\nvalue = [165, 82]'),\n",
       " Text(0.59375, 0.1, 'gini = 0.5\\nsamples = 2663\\nvalue = [1300, 1363]'),\n",
       " Text(0.6875, 0.3, 'N_102 <= 0.066\\ngini = 0.341\\nsamples = 458\\nvalue = [358, 100]'),\n",
       " Text(0.65625, 0.1, 'gini = 0.168\\nsamples = 291\\nvalue = [264, 27]'),\n",
       " Text(0.71875, 0.1, 'gini = 0.492\\nsamples = 167\\nvalue = [94, 73]'),\n",
       " Text(0.875, 0.5, 'N_109 <= 0.142\\ngini = 0.188\\nsamples = 1244\\nvalue = [1113, 131]'),\n",
       " Text(0.8125, 0.3, '102_PV_1 <= 0.054\\ngini = 0.109\\nsamples = 1089\\nvalue = [1026, 63]'),\n",
       " Text(0.78125, 0.1, 'gini = 0.271\\nsamples = 248\\nvalue = [208, 40]'),\n",
       " Text(0.84375, 0.1, 'gini = 0.053\\nsamples = 841\\nvalue = [818, 23]'),\n",
       " Text(0.9375, 0.3, '102_PV_1 <= 0.071\\ngini = 0.492\\nsamples = 155\\nvalue = [87, 68]'),\n",
       " Text(0.90625, 0.1, 'gini = 0.5\\nsamples = 133\\nvalue = [66, 67]'),\n",
       " Text(0.96875, 0.1, 'gini = 0.087\\nsamples = 22\\nvalue = [21, 1]')]"
      ]
     },
     "execution_count": 109,
     "metadata": {},
     "output_type": "execute_result"
    },
    {
     "data": {
      "image/png": "[encoded data removed]",
      "text/plain": [
       "<Figure size 640x480 with 1 Axes>"
      ]
     },
     "metadata": {},
     "output_type": "display_data"
    }
   ],
   "source": [
    "tree.plot_tree(dtree,feature_names = selected_input.columns,fontsize = 5,filled = True)"
   ]
  },
  {
   "cell_type": "code",
   "execution_count": 87,
   "id": "4c0f0b7f",
   "metadata": {},
   "outputs": [
    {
     "ename": "ValueError",
     "evalue": "The truth value of a Index is ambiguous. Use a.empty, a.bool(), a.item(), a.any() or a.all().",
     "output_type": "error",
     "traceback": [
      "\u001b[1;31m---------------------------------------------------------------------------\u001b[0m",
      "\u001b[1;31mValueError\u001b[0m                                Traceback (most recent call last)",
      "Cell \u001b[1;32mIn[87], line 1\u001b[0m\n\u001b[1;32m----> 1\u001b[0m r \u001b[38;5;241m=\u001b[39m\u001b[43mtree\u001b[49m\u001b[38;5;241;43m.\u001b[39;49m\u001b[43mexport_text\u001b[49m\u001b[43m(\u001b[49m\u001b[43mdtree\u001b[49m\u001b[43m,\u001b[49m\u001b[43mfeature_names\u001b[49m\u001b[38;5;241;43m=\u001b[39;49m\u001b[43mselected_input\u001b[49m\u001b[38;5;241;43m.\u001b[39;49m\u001b[43mcolumns\u001b[49m\u001b[43m)\u001b[49m\n",
      "File \u001b[1;32mC:\\Workdir\\Programs\\Miniconda\\envs\\jr23\\lib\\site-packages\\sklearn\\tree\\_export.py:1016\u001b[0m, in \u001b[0;36mexport_text\u001b[1;34m(decision_tree, feature_names, max_depth, spacing, decimals, show_weights)\u001b[0m\n\u001b[0;32m   1013\u001b[0m \u001b[38;5;28;01melse\u001b[39;00m:\n\u001b[0;32m   1014\u001b[0m     value_fmt \u001b[38;5;241m=\u001b[39m \u001b[38;5;124m\"\u001b[39m\u001b[38;5;132;01m{}\u001b[39;00m\u001b[38;5;132;01m{}\u001b[39;00m\u001b[38;5;124m value: \u001b[39m\u001b[38;5;132;01m{}\u001b[39;00m\u001b[38;5;130;01m\\n\u001b[39;00m\u001b[38;5;124m\"\u001b[39m\n\u001b[1;32m-> 1016\u001b[0m \u001b[38;5;28;01mif\u001b[39;00m feature_names:\n\u001b[0;32m   1017\u001b[0m     feature_names_ \u001b[38;5;241m=\u001b[39m [\n\u001b[0;32m   1018\u001b[0m         feature_names[i] \u001b[38;5;28;01mif\u001b[39;00m i \u001b[38;5;241m!=\u001b[39m _tree\u001b[38;5;241m.\u001b[39mTREE_UNDEFINED \u001b[38;5;28;01melse\u001b[39;00m \u001b[38;5;28;01mNone\u001b[39;00m\n\u001b[0;32m   1019\u001b[0m         \u001b[38;5;28;01mfor\u001b[39;00m i \u001b[38;5;129;01min\u001b[39;00m tree_\u001b[38;5;241m.\u001b[39mfeature\n\u001b[0;32m   1020\u001b[0m     ]\n\u001b[0;32m   1021\u001b[0m \u001b[38;5;28;01melse\u001b[39;00m:\n",
      "File \u001b[1;32mC:\\Workdir\\Programs\\Miniconda\\envs\\jr23\\lib\\site-packages\\pandas\\core\\indexes\\base.py:3034\u001b[0m, in \u001b[0;36mIndex.__nonzero__\u001b[1;34m(self)\u001b[0m\n\u001b[0;32m   3032\u001b[0m \u001b[38;5;129m@final\u001b[39m\n\u001b[0;32m   3033\u001b[0m \u001b[38;5;28;01mdef\u001b[39;00m \u001b[38;5;21m__nonzero__\u001b[39m(\u001b[38;5;28mself\u001b[39m) \u001b[38;5;241m-\u001b[39m\u001b[38;5;241m>\u001b[39m NoReturn:\n\u001b[1;32m-> 3034\u001b[0m     \u001b[38;5;28;01mraise\u001b[39;00m \u001b[38;5;167;01mValueError\u001b[39;00m(\n\u001b[0;32m   3035\u001b[0m         \u001b[38;5;124mf\u001b[39m\u001b[38;5;124m\"\u001b[39m\u001b[38;5;124mThe truth value of a \u001b[39m\u001b[38;5;132;01m{\u001b[39;00m\u001b[38;5;28mtype\u001b[39m(\u001b[38;5;28mself\u001b[39m)\u001b[38;5;241m.\u001b[39m\u001b[38;5;18m__name__\u001b[39m\u001b[38;5;132;01m}\u001b[39;00m\u001b[38;5;124m is ambiguous. \u001b[39m\u001b[38;5;124m\"\u001b[39m\n\u001b[0;32m   3036\u001b[0m         \u001b[38;5;124m\"\u001b[39m\u001b[38;5;124mUse a.empty, a.bool(), a.item(), a.any() or a.all().\u001b[39m\u001b[38;5;124m\"\u001b[39m\n\u001b[0;32m   3037\u001b[0m     )\n",
      "\u001b[1;31mValueError\u001b[0m: The truth value of a Index is ambiguous. Use a.empty, a.bool(), a.item(), a.any() or a.all()."
     ]
    }
   ],
   "source": [
    "r =tree.export_text(dtree,feature_names=selected_input.columns)"
   ]
  }
 ],
 "metadata": {
  "kernelspec": {
   "display_name": "Python 3 (ipykernel)",
   "language": "python",
   "name": "python3"
  },
  "language_info": {
   "codemirror_mode": {
    "name": "ipython",
    "version": 3
   },
   "file_extension": ".py",
   "mimetype": "text/x-python",
   "name": "python",
   "nbconvert_exporter": "python",
   "pygments_lexer": "ipython3",
   "version": "3.10.11"
  }
 },
 "nbformat": 4,
 "nbformat_minor": 5
}
