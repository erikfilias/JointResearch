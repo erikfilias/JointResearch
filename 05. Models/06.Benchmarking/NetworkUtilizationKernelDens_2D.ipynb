{
 "cells": [
  {
   "cell_type": "code",
   "execution_count": 1,
   "id": "f51cda5a",
   "metadata": {},
   "outputs": [],
   "source": [
    "import os\n",
    "import pandas as pd\n",
    "import seaborn as sns\n",
    "import matplotlib.pyplot as plt\n",
    "import numpy as np"
   ]
  },
  {
   "cell_type": "code",
   "execution_count": 2,
   "id": "5f6ba0e2",
   "metadata": {},
   "outputs": [],
   "source": [
    "CaseName_Base = 'RTS24_mod1'\n",
    "\n",
    "Folder_A = 'A.The_full_year_MILP'\n",
    "Folder_B = 'B.Operation_cost'\n",
    "Folder_D = 'D.Representative_days_based_on_RES_and_Demand'\n",
    "Folder_E = 'E.Representative_days_based_on_Line_Benefits_OptModel'\n",
    "Folder_K = 'K.Investments_per_hour'\n",
    "Folder_L = 'L.Cont_Investments_per_hour'\n",
    "\n",
    "\n",
    "DirName  = os.getcwd()\n",
    "_path_0 = os.path.join(DirName, CaseName_Base)\n",
    "category_dict = {Folder_A: \"FYMILP\",\n",
    "                 Folder_B: \"OPC\",\n",
    "                 Folder_D: \"R&D\",\n",
    "                 Folder_E: \"OPT_LB\",\n",
    "                 Folder_K: \"HI\",\n",
    "                 Folder_L: \"CHI\",\n",
    "                }"
   ]
  },
  {
   "cell_type": "code",
   "execution_count": 3,
   "id": "b7c433a9",
   "metadata": {},
   "outputs": [],
   "source": [
    "def LoadingData(dir, folder,result, case, ncluster, cm,folder_out = \"4.OutWoInv\"):\n",
    "    #If the folder is A, the name is slightly different (no ByStages in the name and not dependent on nb clust)\n",
    "    if folder == 'A.The_full_year_MILP': \n",
    "        df = pd.read_csv(os.path.join(dir, folder, case, folder_out, f'oT_Result_{result}_'+case+'.csv'), index_col=[0,1])\n",
    "    else: \n",
    "        df = pd.read_csv(os.path.join(dir, folder, case+'_ByStages_nc'+str(ncluster), folder_out, f'oT_Result_{result}_'+case+ '_ByStages_nc'+str(ncluster)+'.csv'), index_col=[0,1])\n",
    "\n",
    "    df['CaseName'] = folder + ' - ' + case + str(ncluster)\n",
    "    df['Clustering method'] = cm\n",
    "    df['Number of clusters'] = ncluster\n",
    "    df = df.reset_index()\n",
    "\n",
    "    return df\n",
    "\n",
    "#Load the weights of the representative periods \n",
    "def LoadingWeights(dir, folder, case, ncluster):\n",
    "    if folder == 'A.The_full_year_MILP': \n",
    "        df_stage = pd.read_csv(os.path.join(dir, folder, case, '2.Par', f'oT_Data_Stage_'+case+'.csv'))\n",
    "        df_duration = pd.read_csv(os.path.join(dir, folder, case, '2.Par', f'oT_Data_Duration_'+case+'.csv'))\n",
    "    else: \n",
    "        df_stage = pd.read_csv(os.path.join(dir, folder, case+'_ByStages_nc'+str(ncluster), '2.Par', f'oT_Data_Stage_'+case+ '_ByStages_nc'+str(ncluster)+'.csv'))\n",
    "        df_duration = pd.read_csv(os.path.join(dir, folder, case+'_ByStages_nc'+str(ncluster), '2.Par', f'oT_Data_Duration_'+case+ '_ByStages_nc'+str(ncluster)+'.csv'))\n",
    "    durations_filtered = df_duration[df_duration['Duration'] == 1]\n",
    "    merged_df = pd.merge(df_stage, durations_filtered, left_on='Unnamed: 0', right_on='Stage', how='left')\n",
    "\n",
    "    return merged_df"
   ]
  },
  {
   "cell_type": "code",
   "execution_count": null,
   "id": "4e1ca30b",
   "metadata": {},
   "outputs": [],
   "source": [
    "nbs_clusters = [(i+1)*10 for i in range(10)] + [150, 200, 250, 300,350, 400]\n",
    "nbs_clusters = [(i+1)*10 for i in range(10)]+ [150, 200, 250, 300,350, 400]\n",
    "\n",
    "folders = [Folder_A]\n",
    "results = [\"NetworkUtilizationPerNode_DC\"]\n",
    "\n",
    "results_dfs = dict()\n",
    "weights_dfs = dict()\n",
    "results_w_dfs = dict()\n",
    "for result in results :\n",
    "    results_dfs[result] = dict()\n",
    "    weights_dfs[result] = dict()\n",
    "    results_w_dfs[result] = dict()\n",
    "    for folder in folders: \n",
    "        results_dfs[result][folder] = dict()\n",
    "        results_w_dfs[result][folder] = dict()\n",
    "        weights_dfs[result][folder] = dict()\n",
    "        for nb_clusters in nbs_clusters:\n",
    "            try: \n",
    "                results_dfs[result][folder][nb_clusters] = LoadingData(DirName, folder,result, CaseName_Base, nb_clusters, category_dict[folder])\n",
    "                if not(folder.startswith(\"J\")):\n",
    "                    weights_dfs[result][folder][nb_clusters] = LoadingWeights(DirName,folder,CaseName_Base,nb_clusters)\n",
    "                    results_w_dfs[result][folder][nb_clusters] = results_dfs[result][folder][nb_clusters].merge(weights_dfs[result][folder][nb_clusters][[\"LoadLevel\",\"Weight\"]],on= \"LoadLevel\")\n",
    "                                        \n",
    "            except FileNotFoundError as e : \n",
    "                print(e)\n",
    "                print(folder,nb_clusters, \"Does not contain\", result)"
   ]
  },
  {
   "cell_type": "code",
   "execution_count": 5,
   "id": "b92c762f",
   "metadata": {},
   "outputs": [
    {
     "name": "stdout",
     "output_type": "stream",
     "text": [
      "A.The_full_year_MILP\n"
     ]
    }
   ],
   "source": [
    "# Initialize DataFrames to store results\n",
    "overal_avg_utilization = pd.DataFrame()\n",
    "all_utils = pd.DataFrame()\n",
    "i = 0\n",
    "\n",
    "# Loop through each folder and number of clusters\n",
    "for folder in folders:\n",
    "    print(folder)\n",
    "    for nb_clusters in nbs_clusters:\n",
    "        # Concatenate the individual results to the all_utils DataFrame\n",
    "        #all_utils = pd.concat([all_utils, results_dfs[result][folder][nb_clusters]])\n",
    "        all_utils = pd.concat([all_utils, results_w_dfs[result][folder][nb_clusters]])\n"
   ]
  },
  {
   "cell_type": "markdown",
   "id": "ac2681f1",
   "metadata": {},
   "source": [
    "## 2D kernel density plots"
   ]
  },
  {
   "cell_type": "code",
   "execution_count": 6,
   "id": "c3ba2c73",
   "metadata": {},
   "outputs": [],
   "source": [
    "def extract_FYMILP_one_line(all_utils_FYMILP,node_pair): \n",
    "    filter_this_line = (all_utils_FYMILP[\"InitialNode\"] == node_pair[0]) & (all_utils_FYMILP[\"FinalNode\"] == node_pair[1])\n",
    "    utils_this_line_FYMILP = all_utils_FYMILP[filter_this_line]\n",
    "\n",
    "    ts_this_line_FYMILP = utils_this_line_FYMILP.GWh.to_numpy()\n",
    "    return ts_this_line_FYMILP\n",
    "\n",
    "def extract_CM_one_line(cm,nbc): \n",
    "    ts_CM_All_lines = pd.read_csv(f\"Y.FYTS_from_ByStages/RTS24_mod1/{cm}/NetworkUtilization_nc{nbc}.csv\",header = [0,1],index_col=0)\n",
    "    ts_this_line_CM = ts_CM_All_lines.loc[:,node_pair].to_numpy()\n",
    "    return ts_this_line_CM\n"
   ]
  },
  {
   "cell_type": "code",
   "execution_count": 7,
   "id": "642e2c12",
   "metadata": {},
   "outputs": [
    {
     "data": {
      "text/plain": [
       "array([[1.        , 0.90631982],\n",
       "       [0.90631982, 1.        ]])"
      ]
     },
     "execution_count": 7,
     "metadata": {},
     "output_type": "execute_result"
    }
   ],
   "source": [
    "## Extract fyts for single line \n",
    "\n",
    "## FYMILP\n",
    "filter_FYMILP = (all_utils[\"Clustering method\"] == \"FYMILP\") & (all_utils[\"Number of clusters\"] == 10) & (all_utils[\"Circuit\"] == \"eac1\") \n",
    "\n",
    "all_utils_FYMILP = all_utils[filter_FYMILP]\n",
    "unique_node_pairs = [tuple(x) for x in all_utils_FYMILP[['InitialNode', 'FinalNode']].drop_duplicates().values.tolist()]\n",
    "\n",
    "node_pair = unique_node_pairs[0]\n",
    "\n",
    "ts_this_line_FYMILP = extract_FYMILP_one_line(all_utils_FYMILP,node_pair)\n",
    "##CM \n",
    "cm = \"CHI\"\n",
    "nbc = 200\n",
    "\n",
    "ts_CM_All_lines = pd.read_csv(f\"Y.FYTS_from_ByStages/RTS24_mod1/{cm}/NetworkUtilization_nc{nbc}.csv\",header = [0,1],index_col=0)\n",
    "ts_this_line_CM = ts_CM_All_lines.loc[:,node_pair].to_numpy()\n",
    "ts_this_line_CM = extract_CM_one_line(cm,nbc)\n",
    "\n",
    "np.corrcoef(ts_this_line_FYMILP,ts_this_line_CM)\n"
   ]
  },
  {
   "cell_type": "code",
   "execution_count": 8,
   "id": "fa13858d",
   "metadata": {
    "scrolled": false
   },
   "outputs": [
    {
     "data": {
      "image/png": "[encoded data removed]",
      "text/plain": [
       "<Figure size 640x480 with 1 Axes>"
      ]
     },
     "metadata": {},
     "output_type": "display_data"
    }
   ],
   "source": [
    "import scipy.stats as st\n",
    "\n",
    "x = ts_this_line_FYMILP\n",
    "y = ts_this_line_CM\n",
    "\n",
    "\n",
    "xmin, xmax = 0, 1\n",
    "ymin, ymax = 0, 1\n",
    "\n",
    "# Peform the kernel density estimate\n",
    "xx, yy = np.mgrid[xmin:xmax:100j, ymin:ymax:100j]\n",
    "positions = np.vstack([xx.ravel(), yy.ravel()])\n",
    "values = np.vstack([x, y])\n",
    "kernel = st.gaussian_kde(values)\n",
    "f = np.reshape(kernel(positions).T, xx.shape)\n",
    "\n",
    "fig = plt.figure()\n",
    "ax = fig.gca()\n",
    "ax.set_xlim(xmin, xmax)\n",
    "ax.set_ylim(ymin, ymax)\n",
    "# Contourf plot\n",
    "cfset = ax.contourf(xx, yy, f, cmap='Blues')\n",
    "## Or kernel density estimate plot instead of the contourf plot\n",
    "#ax.imshow(np.rot90(f), cmap='Blues', extent=[xmin, xmax, ymin, ymax])\n",
    "# Contour plot\n",
    "cset = ax.contour(xx, yy, f, colors='k')\n",
    "# Label plot\n",
    "ax.clabel(cset, inline=1, fontsize=10)\n",
    "ax.set_xlabel('Y1')\n",
    "ax.set_ylabel('Y0')\n",
    "\n",
    "plt.show()"
   ]
  },
  {
   "cell_type": "code",
   "execution_count": 7,
   "id": "95ad241d",
   "metadata": {},
   "outputs": [
    {
     "data": {
      "text/plain": [
       "array([[1.        , 0.69251766],\n",
       "       [0.69251766, 1.        ]])"
      ]
     },
     "execution_count": 7,
     "metadata": {},
     "output_type": "execute_result"
    }
   ],
   "source": [
    "## Extract fyts for multiple lines \n",
    "\n",
    "\n",
    "## FYMILP\n",
    "filter_FYMILP = (all_utils[\"Clustering method\"] == \"FYMILP\") & (all_utils[\"Number of clusters\"] == 10) & (all_utils[\"Circuit\"] == \"eac1\") \n",
    "\n",
    "all_utils_FYMILP = all_utils[filter_FYMILP]\n",
    "unique_node_pairs = [tuple(x) for x in all_utils_FYMILP[['InitialNode', 'FinalNode']].drop_duplicates().values.tolist()]\n",
    "\n",
    "\n",
    "##CM \n",
    "cm = \"CHI\"\n",
    "nbc = 20\n",
    "\n",
    "nb_lines = len(unique_node_pairs)\n",
    "ts_all_lines_CM=np.zeros(8736*nb_lines)\n",
    "ts_all_lines_FYMILP=np.zeros(8736*nb_lines)\n",
    "\n",
    "for i,node_pair in enumerate(unique_node_pairs[:nb_lines]): \n",
    "    ts_this_line_FYMILP = extract_FYMILP_one_line(all_utils_FYMILP,node_pair)\n",
    "    ts_this_line_CM = extract_CM_one_line(cm,nbc)\n",
    "    i_start = i*8736\n",
    "    i_end = (i+1)*8736\n",
    "    ts_all_lines_FYMILP[i_start:i_end]=ts_this_line_FYMILP\n",
    "    ts_all_lines_CM[i_start:i_end] = ts_this_line_CM\n",
    "    \n",
    "np.corrcoef(ts_all_lines_FYMILP,ts_all_lines_CM)"
   ]
  },
  {
   "cell_type": "code",
   "execution_count": null,
   "id": "5e6751cf",
   "metadata": {},
   "outputs": [],
   "source": [
    "import scipy.stats as st\n",
    "min_value = 0.9\n",
    "max_value = 1\n",
    "x = ts_all_lines_CM\n",
    "y = ts_all_lines_FYMILP\n",
    "xmin, xmax = min_value, max_value\n",
    "ymin, ymax = min_value, max_value\n",
    "\n",
    "#Filter values\n",
    "filter_greater_than = max_value>(ts_all_lines_FYMILP>min_value)\n",
    "\n",
    "x = x[filter_greater_than]\n",
    "y = y[filter_greater_than]\n",
    "\n",
    "\n",
    "# Peform the kernel density estimate\n",
    "xx, yy = np.mgrid[xmin:xmax:100j, ymin:ymax:100j]\n",
    "positions = np.vstack([xx.ravel(), yy.ravel()])\n",
    "values = np.vstack([x, y])\n",
    "kernel = st.gaussian_kde(values)\n",
    "f = np.reshape(kernel(positions).T, xx.shape)\n",
    "\n",
    "fig = plt.figure()\n",
    "ax = fig.gca()\n",
    "ax.set_xlim(xmin, xmax)\n",
    "ax.set_ylim(ymin, ymax)\n",
    "# Contourf plot\n",
    "cfset = ax.contourf(xx, yy, f, cmap='Blues')\n",
    "## Or kernel density estimate plot instead of the contourf plot\n",
    "#ax.imshow(np.rot90(f), cmap='Blues', extent=[xmin, xmax, ymin, ymax])\n",
    "# Contour plot\n",
    "cset = ax.contour(xx, yy, f, colors='k')\n",
    "# Label plot\n",
    "ax.clabel(cset, inline=1, fontsize=10)\n",
    "ax.set_xlabel(f'{cm}')\n",
    "ax.set_ylabel('FYMILP')\n",
    "plt.savefig(f\"Z.Figures/KDE2D/LinUtil_{cm}_nc{nbc}_th{min_value}_{max_value}.png\")\n",
    "plt.show()"
   ]
  },
  {
   "cell_type": "code",
   "execution_count": 11,
   "id": "409b0d5f",
   "metadata": {},
   "outputs": [],
   "source": [
    "filter_FYMILP = (all_utils[\"Clustering method\"] == \"FYMILP\") & (all_utils[\"Number of clusters\"] == 10) & (all_utils[\"Circuit\"] == \"eac1\") \n",
    "\n",
    "bm_utils = all_utils[filter_FYMILP].GWh.to_numpy()\n",
    "\n",
    "cm = \"R&D\"\n",
    "nbc = 50\n",
    "filter_case = (all_utils[\"Clustering method\"] == cm) & (all_utils[\"Number of clusters\"] == nbc) & (all_utils[\"Circuit\"] == \"eac1\") \n",
    "case_utils = all_utils[filter_case].GWh.to_numpy()\n",
    "\n",
    "\n",
    "cm = \"CHI\"\n",
    "nbc = 50\n",
    "filter_case = (all_utils[\"Clustering method\"] == cm) & (all_utils[\"Number of clusters\"] == nbc) & (all_utils[\"Circuit\"] == \"eac1\") \n",
    "case_utils_2 = all_utils[filter_case].GWh.to_numpy()\n"
   ]
  },
  {
   "cell_type": "code",
   "execution_count": 16,
   "id": "8b58d95a",
   "metadata": {},
   "outputs": [
    {
     "data": {
      "image/png": "[encoded data removed]",
      "text/plain": [
       "<Figure size 640x480 with 1 Axes>"
      ]
     },
     "metadata": {},
     "output_type": "display_data"
    }
   ],
   "source": [
    "import numpy as np\n",
    "import matplotlib.pyplot as pl\n",
    "import scipy.stats as st\n",
    "\n",
    "data = np.random.multivariate_normal((0, 0), [[0.8, 0.05], [0.05, 0.7]], 100)\n",
    "x = bm_utils\n",
    "y = bm_utils\n",
    "xmin, xmax = 0, 1\n",
    "ymin, ymax = 0, 1\n",
    "\n",
    "# Peform the kernel density estimate\n",
    "xx, yy = np.mgrid[xmin:xmax:100j, ymin:ymax:100j]\n",
    "positions = np.vstack([xx.ravel(), yy.ravel()])\n",
    "values = np.vstack([x, y])\n",
    "kernel = st.gaussian_kde(values)\n",
    "f = np.reshape(kernel(positions).T, xx.shape)\n",
    "\n",
    "fig = pl.figure()\n",
    "ax = fig.gca()\n",
    "ax.set_xlim(xmin, xmax)\n",
    "ax.set_ylim(ymin, ymax)\n",
    "# Contourf plot\n",
    "cfset = ax.contourf(xx, yy, f, cmap='Blues')\n",
    "## Or kernel density estimate plot instead of the contourf plot\n",
    "#ax.imshow(np.rot90(f), cmap='Blues', extent=[xmin, xmax, ymin, ymax])\n",
    "# Contour plot\n",
    "cset = ax.contour(xx, yy, f, colors='k')\n",
    "# Label plot\n",
    "ax.clabel(cset, inline=1, fontsize=10)\n",
    "ax.set_xlabel('Y1')\n",
    "ax.set_ylabel('Y0')\n",
    "\n",
    "pl.show()"
   ]
  },
  {
   "cell_type": "code",
   "execution_count": 15,
   "id": "2a0db05f",
   "metadata": {},
   "outputs": [
    {
     "data": {
      "text/plain": [
       "<Axes: >"
      ]
     },
     "execution_count": 15,
     "metadata": {},
     "output_type": "execute_result"
    },
    {
     "data": {
      "image/png": "[encoded data removed]",
      "text/plain": [
       "<Figure size 640x480 with 1 Axes>"
      ]
     },
     "metadata": {},
     "output_type": "display_data"
    }
   ],
   "source": [
    "sns.kdeplot(x = case_utils, y = case_utils)"
   ]
  },
  {
   "cell_type": "code",
   "execution_count": null,
   "id": "03e1beb8",
   "metadata": {},
   "outputs": [],
   "source": [
    "sns.kdeplot(x = bm_utils, y = case_utils)"
   ]
  }
 ],
 "metadata": {
  "kernelspec": {
   "display_name": "Python 3 (ipykernel)",
   "language": "python",
   "name": "python3"
  },
  "language_info": {
   "codemirror_mode": {
    "name": "ipython",
    "version": 3
   },
   "file_extension": ".py",
   "mimetype": "text/x-python",
   "name": "python",
   "nbconvert_exporter": "python",
   "pygments_lexer": "ipython3",
   "version": "3.10.11"
  }
 },
 "nbformat": 4,
 "nbformat_minor": 5
}
