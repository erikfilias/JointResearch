{
 "cells": [
  {
   "cell_type": "code",
   "execution_count": 40,
   "metadata": {},
   "outputs": [],
   "source": [
    "import pandas as pd\n",
    "import os"
   ]
  },
  {
   "cell_type": "code",
   "execution_count": 41,
   "metadata": {},
   "outputs": [],
   "source": [
    "df = pd.read_csv(os.path.join('TimeSeriesPerCountry.csv'), index_col=0, header=[0,1])"
   ]
  },
  {
   "cell_type": "code",
   "execution_count": 42,
   "metadata": {},
   "outputs": [],
   "source": [
    "df.fillna(0, inplace=True)"
   ]
  },
  {
   "cell_type": "code",
   "execution_count": 43,
   "metadata": {},
   "outputs": [],
   "source": [
    "# normalize the data per column according to the max and min value of each column\n",
    "df = df.apply(lambda x: (x - x.min()) / (x.max() - x.min()))"
   ]
  },
  {
   "cell_type": "code",
   "execution_count": 44,
   "metadata": {},
   "outputs": [],
   "source": [
    "df.fillna(0, inplace=True)"
   ]
  },
  {
   "cell_type": "code",
   "execution_count": 45,
   "metadata": {},
   "outputs": [],
   "source": [
    "# select the multindex columns called \"load_actual_entsoe_transparency\"1.Set\n",
    "df_load = df.loc[:, df.columns.get_level_values(0) == 'load_actual_entsoe_transparency']"
   ]
  },
  {
   "cell_type": "code",
   "execution_count": 46,
   "metadata": {},
   "outputs": [],
   "source": [
    "# select the multindex columns called \"price_day_ahead\"1.Set\n",
    "df_price = df.loc[:, df.columns.get_level_values(0) == 'price_day_ahead']"
   ]
  },
  {
   "cell_type": "code",
   "execution_count": 47,
   "metadata": {},
   "outputs": [],
   "source": [
    "# select the multindex columns called \"solar_day_ahead\"1.Set\n",
    "df_solar = df.loc[:, df.columns.get_level_values(0) == 'solar_generation_actual']"
   ]
  },
  {
   "cell_type": "code",
   "execution_count": 48,
   "metadata": {},
   "outputs": [],
   "source": [
    "# select the multindex columns called \"wind_offshore_day_ahead\"1.Set\n",
    "df_wind_offshore = df.loc[:, df.columns.get_level_values(0) == 'wind_offshore_generation_actual']"
   ]
  },
  {
   "cell_type": "code",
   "execution_count": 49,
   "metadata": {},
   "outputs": [],
   "source": [
    "# select the multindex columns called \"wind_onshore_day_ahead\"1.Set\n",
    "df_wind_onshore = df.loc[:, df.columns.get_level_values(0) == 'wind_onshore_generation_actual']"
   ]
  },
  {
   "cell_type": "code",
   "execution_count": 50,
   "metadata": {},
   "outputs": [],
   "source": [
    "# redefining the multindex columns into one index\n",
    "df_load.columns = df_load.columns.droplevel(0)\n",
    "df_price.columns = df_price.columns.droplevel(0)\n",
    "df_solar.columns = df_solar.columns.droplevel(0)\n",
    "df_wind_offshore.columns = df_wind_offshore.columns.droplevel(0)\n",
    "df_wind_onshore.columns = df_wind_onshore.columns.droplevel(0)"
   ]
  },
  {
   "cell_type": "code",
   "execution_count": 52,
   "metadata": {},
   "outputs": [],
   "source": [
    "df_load.to_csv('load_actual_entsoe_transparency.csv')\n",
    "df_price.to_csv('price_day_ahead.csv')\n",
    "df_solar.to_csv('solar_generation_actual.csv')\n",
    "df_wind_offshore.to_csv('wind_offshore_generation_actual.csv')\n",
    "df_wind_onshore.to_csv('wind_onshore_generation_actual.csv')"
   ]
  }
 ],
 "metadata": {
  "kernelspec": {
   "display_name": "base",
   "language": "python",
   "name": "python3"
  },
  "language_info": {
   "codemirror_mode": {
    "name": "ipython",
    "version": 3
   },
   "file_extension": ".py",
   "mimetype": "text/x-python",
   "name": "python",
   "nbconvert_exporter": "python",
   "pygments_lexer": "ipython3",
   "version": "3.11.4"
  }
 },
 "nbformat": 4,
 "nbformat_minor": 2
}
