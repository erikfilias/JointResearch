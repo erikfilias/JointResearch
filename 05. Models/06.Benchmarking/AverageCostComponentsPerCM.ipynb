{
 "cells": [
  {
   "cell_type": "code",
   "execution_count": 1,
   "id": "abe7b913",
   "metadata": {},
   "outputs": [],
   "source": [
    "import numpy as np\n",
    "import pandas as pd\n",
    "import seaborn as sns\n",
    "import os"
   ]
  },
  {
   "cell_type": "code",
   "execution_count": 2,
   "id": "e5305052",
   "metadata": {},
   "outputs": [],
   "source": [
    "Folder_JB = 'J.Full_year_operational_cost/Results/B.Operation_cost'\n",
    "Folder_JD = 'J.Full_year_operational_cost/Results/D.Representative_days_based_on_RES_and_Demand'\n",
    "Folder_JE = 'J.Full_year_operational_cost/Results/E.Representative_days_based_on_Line_Benefits_OptModel'\n",
    "Folder_JK = 'J.Full_year_operational_cost/Results/K.Investments_per_hour'\n",
    "Folder_JL = 'J.Full_year_operational_cost/Results/L.Cont_Investments_per_hour'\n",
    "\n",
    "# Folder_JB = 'J.Full_year_operational_cost/Results/B'\n",
    "# Folder_JD = 'J.Full_year_operational_cost/Results/D'\n",
    "# Folder_JE = 'J.Full_year_operational_cost/Results/E'\n",
    "# Folder_JK = 'J.Full_year_operational_cost/Results/K'\n",
    "# Folder_JL = 'J.Full_year_operational_cost/Results/L'\n",
    "\n",
    "Folder_B = \"B.Operation_cost\"\n",
    "DirName  = os.getcwd()\n",
    "category_dict = {\n",
    "                 Folder_B: \"OPC\",\n",
    "                 Folder_JB: \"OPC_fy\",\n",
    "                 Folder_JD: \"R&D_fy\",\n",
    "                 Folder_JE: \"OPT_LB_fy\",\n",
    "                 Folder_JK: \"HI_fy\",\n",
    "                 Folder_JL: \"CHI_fy\"\n",
    "                }"
   ]
  },
  {
   "cell_type": "code",
   "execution_count": 3,
   "id": "eea3e691",
   "metadata": {},
   "outputs": [],
   "source": [
    "def LoadingData(dir, folder,result, case, ncluster, cm):\n",
    "    if folder == 'A.The_full_year_MILP': \n",
    "        df = pd.read_csv(os.path.join( folder, case, '3.Out', f'oT_Result_{result}_'+case+'.csv'), index_col=[0,1])\n",
    "    else: \n",
    "        #df = pd.read_csv(os.path.join( folder, case+'_ByStages_nc'+str(ncluster), '3.Out', f'oT_Result_{result}_'+case+ '_ByStages_nc'+str(ncluster)+'.csv'), index_col=[0,1])\n",
    "        df = pd.read_csv(f\"{folder}/{case}_Bystages_nc{ncluster}/3.out/oT_Result_{result}_{case}_Bystages_nc{ncluster}.csv\",index_col=[0,1])\n",
    "    df['CaseName'] = folder + ' - ' + case + str(ncluster)\n",
    "    df['Case'] = case\n",
    "    df['Clustering method'] = cm\n",
    "    df['Number of clusters'] = ncluster\n",
    "    df = df.reset_index()\n",
    "    if result == \"CostSummary\":\n",
    "        df[\"Cost/Payment\"] = df[\"Cost/Payment\"].str.replace(\" \",\"\")\n",
    "    print(f\"{folder}/{case}_Bystages_nc{ncluster}/3.out/oT_Result_{result}_{case}_Bystages_nc{ncluster}.csv\")\n",
    "    return df"
   ]
  },
  {
   "cell_type": "code",
   "execution_count": 24,
   "id": "2a35a6ee",
   "metadata": {},
   "outputs": [
    {
     "name": "stdout",
     "output_type": "stream",
     "text": [
      "J.Full_year_operational_cost/Results/B.Operation_cost/IEEE118_mod1_Bystages_nc10/3.out/oT_Result_CostSummary_IEEE118_mod1_Bystages_nc10.csv\n",
      "J.Full_year_operational_cost/Results/D.Representative_days_based_on_RES_and_Demand/IEEE118_mod1_Bystages_nc10/3.out/oT_Result_CostSummary_IEEE118_mod1_Bystages_nc10.csv\n",
      "J.Full_year_operational_cost/Results/E.Representative_days_based_on_Line_Benefits_OptModel/IEEE118_mod1_Bystages_nc10/3.out/oT_Result_CostSummary_IEEE118_mod1_Bystages_nc10.csv\n",
      "J.Full_year_operational_cost/Results/K.Investments_per_hour/IEEE118_mod1_Bystages_nc10/3.out/oT_Result_CostSummary_IEEE118_mod1_Bystages_nc10.csv\n",
      "J.Full_year_operational_cost/Results/L.Cont_Investments_per_hour/IEEE118_mod1_Bystages_nc10/3.out/oT_Result_CostSummary_IEEE118_mod1_Bystages_nc10.csv\n",
      "J.Full_year_operational_cost/Results/B.Operation_cost/IEEE118_mod1_Bystages_nc20/3.out/oT_Result_CostSummary_IEEE118_mod1_Bystages_nc20.csv\n",
      "J.Full_year_operational_cost/Results/D.Representative_days_based_on_RES_and_Demand/IEEE118_mod1_Bystages_nc20/3.out/oT_Result_CostSummary_IEEE118_mod1_Bystages_nc20.csv\n",
      "J.Full_year_operational_cost/Results/E.Representative_days_based_on_Line_Benefits_OptModel/IEEE118_mod1_Bystages_nc20/3.out/oT_Result_CostSummary_IEEE118_mod1_Bystages_nc20.csv\n",
      "J.Full_year_operational_cost/Results/K.Investments_per_hour/IEEE118_mod1_Bystages_nc20/3.out/oT_Result_CostSummary_IEEE118_mod1_Bystages_nc20.csv\n",
      "J.Full_year_operational_cost/Results/L.Cont_Investments_per_hour/IEEE118_mod1_Bystages_nc20/3.out/oT_Result_CostSummary_IEEE118_mod1_Bystages_nc20.csv\n",
      "J.Full_year_operational_cost/Results/B.Operation_cost/IEEE118_mod1_Bystages_nc30/3.out/oT_Result_CostSummary_IEEE118_mod1_Bystages_nc30.csv\n",
      "J.Full_year_operational_cost/Results/D.Representative_days_based_on_RES_and_Demand/IEEE118_mod1_Bystages_nc30/3.out/oT_Result_CostSummary_IEEE118_mod1_Bystages_nc30.csv\n",
      "J.Full_year_operational_cost/Results/E.Representative_days_based_on_Line_Benefits_OptModel/IEEE118_mod1_Bystages_nc30/3.out/oT_Result_CostSummary_IEEE118_mod1_Bystages_nc30.csv\n",
      "J.Full_year_operational_cost/Results/K.Investments_per_hour/IEEE118_mod1_Bystages_nc30/3.out/oT_Result_CostSummary_IEEE118_mod1_Bystages_nc30.csv\n",
      "J.Full_year_operational_cost/Results/L.Cont_Investments_per_hour/IEEE118_mod1_Bystages_nc30/3.out/oT_Result_CostSummary_IEEE118_mod1_Bystages_nc30.csv\n",
      "J.Full_year_operational_cost/Results/B.Operation_cost/IEEE118_mod1_Bystages_nc40/3.out/oT_Result_CostSummary_IEEE118_mod1_Bystages_nc40.csv\n",
      "J.Full_year_operational_cost/Results/D.Representative_days_based_on_RES_and_Demand/IEEE118_mod1_Bystages_nc40/3.out/oT_Result_CostSummary_IEEE118_mod1_Bystages_nc40.csv\n",
      "J.Full_year_operational_cost/Results/E.Representative_days_based_on_Line_Benefits_OptModel/IEEE118_mod1_Bystages_nc40/3.out/oT_Result_CostSummary_IEEE118_mod1_Bystages_nc40.csv\n",
      "J.Full_year_operational_cost/Results/K.Investments_per_hour/IEEE118_mod1_Bystages_nc40/3.out/oT_Result_CostSummary_IEEE118_mod1_Bystages_nc40.csv\n",
      "J.Full_year_operational_cost/Results/L.Cont_Investments_per_hour/IEEE118_mod1_Bystages_nc40/3.out/oT_Result_CostSummary_IEEE118_mod1_Bystages_nc40.csv\n",
      "J.Full_year_operational_cost/Results/B.Operation_cost/IEEE118_mod1_Bystages_nc50/3.out/oT_Result_CostSummary_IEEE118_mod1_Bystages_nc50.csv\n",
      "J.Full_year_operational_cost/Results/D.Representative_days_based_on_RES_and_Demand/IEEE118_mod1_Bystages_nc50/3.out/oT_Result_CostSummary_IEEE118_mod1_Bystages_nc50.csv\n",
      "J.Full_year_operational_cost/Results/E.Representative_days_based_on_Line_Benefits_OptModel/IEEE118_mod1_Bystages_nc50/3.out/oT_Result_CostSummary_IEEE118_mod1_Bystages_nc50.csv\n",
      "J.Full_year_operational_cost/Results/K.Investments_per_hour/IEEE118_mod1_Bystages_nc50/3.out/oT_Result_CostSummary_IEEE118_mod1_Bystages_nc50.csv\n",
      "J.Full_year_operational_cost/Results/L.Cont_Investments_per_hour/IEEE118_mod1_Bystages_nc50/3.out/oT_Result_CostSummary_IEEE118_mod1_Bystages_nc50.csv\n",
      "J.Full_year_operational_cost/Results/B.Operation_cost/IEEE118_mod1_Bystages_nc60/3.out/oT_Result_CostSummary_IEEE118_mod1_Bystages_nc60.csv\n",
      "J.Full_year_operational_cost/Results/D.Representative_days_based_on_RES_and_Demand/IEEE118_mod1_Bystages_nc60/3.out/oT_Result_CostSummary_IEEE118_mod1_Bystages_nc60.csv\n",
      "J.Full_year_operational_cost/Results/E.Representative_days_based_on_Line_Benefits_OptModel/IEEE118_mod1_Bystages_nc60/3.out/oT_Result_CostSummary_IEEE118_mod1_Bystages_nc60.csv\n",
      "J.Full_year_operational_cost/Results/K.Investments_per_hour/IEEE118_mod1_Bystages_nc60/3.out/oT_Result_CostSummary_IEEE118_mod1_Bystages_nc60.csv\n",
      "J.Full_year_operational_cost/Results/L.Cont_Investments_per_hour/IEEE118_mod1_Bystages_nc60/3.out/oT_Result_CostSummary_IEEE118_mod1_Bystages_nc60.csv\n",
      "J.Full_year_operational_cost/Results/B.Operation_cost/IEEE118_mod1_Bystages_nc70/3.out/oT_Result_CostSummary_IEEE118_mod1_Bystages_nc70.csv\n",
      "J.Full_year_operational_cost/Results/D.Representative_days_based_on_RES_and_Demand/IEEE118_mod1_Bystages_nc70/3.out/oT_Result_CostSummary_IEEE118_mod1_Bystages_nc70.csv\n",
      "J.Full_year_operational_cost/Results/E.Representative_days_based_on_Line_Benefits_OptModel/IEEE118_mod1_Bystages_nc70/3.out/oT_Result_CostSummary_IEEE118_mod1_Bystages_nc70.csv\n",
      "J.Full_year_operational_cost/Results/K.Investments_per_hour/IEEE118_mod1_Bystages_nc70/3.out/oT_Result_CostSummary_IEEE118_mod1_Bystages_nc70.csv\n",
      "J.Full_year_operational_cost/Results/L.Cont_Investments_per_hour/IEEE118_mod1_Bystages_nc70/3.out/oT_Result_CostSummary_IEEE118_mod1_Bystages_nc70.csv\n",
      "J.Full_year_operational_cost/Results/B.Operation_cost/IEEE118_mod1_Bystages_nc80/3.out/oT_Result_CostSummary_IEEE118_mod1_Bystages_nc80.csv\n",
      "J.Full_year_operational_cost/Results/D.Representative_days_based_on_RES_and_Demand/IEEE118_mod1_Bystages_nc80/3.out/oT_Result_CostSummary_IEEE118_mod1_Bystages_nc80.csv\n",
      "J.Full_year_operational_cost/Results/E.Representative_days_based_on_Line_Benefits_OptModel/IEEE118_mod1_Bystages_nc80/3.out/oT_Result_CostSummary_IEEE118_mod1_Bystages_nc80.csv\n",
      "J.Full_year_operational_cost/Results/K.Investments_per_hour/IEEE118_mod1_Bystages_nc80/3.out/oT_Result_CostSummary_IEEE118_mod1_Bystages_nc80.csv\n",
      "J.Full_year_operational_cost/Results/L.Cont_Investments_per_hour/IEEE118_mod1_Bystages_nc80/3.out/oT_Result_CostSummary_IEEE118_mod1_Bystages_nc80.csv\n",
      "J.Full_year_operational_cost/Results/B.Operation_cost/IEEE118_mod1_Bystages_nc90/3.out/oT_Result_CostSummary_IEEE118_mod1_Bystages_nc90.csv\n",
      "J.Full_year_operational_cost/Results/D.Representative_days_based_on_RES_and_Demand/IEEE118_mod1_Bystages_nc90/3.out/oT_Result_CostSummary_IEEE118_mod1_Bystages_nc90.csv\n",
      "J.Full_year_operational_cost/Results/E.Representative_days_based_on_Line_Benefits_OptModel/IEEE118_mod1_Bystages_nc90/3.out/oT_Result_CostSummary_IEEE118_mod1_Bystages_nc90.csv\n",
      "J.Full_year_operational_cost/Results/K.Investments_per_hour/IEEE118_mod1_Bystages_nc90/3.out/oT_Result_CostSummary_IEEE118_mod1_Bystages_nc90.csv\n",
      "J.Full_year_operational_cost/Results/L.Cont_Investments_per_hour/IEEE118_mod1_Bystages_nc90/3.out/oT_Result_CostSummary_IEEE118_mod1_Bystages_nc90.csv\n",
      "J.Full_year_operational_cost/Results/B.Operation_cost/IEEE118_mod1_Bystages_nc100/3.out/oT_Result_CostSummary_IEEE118_mod1_Bystages_nc100.csv\n",
      "J.Full_year_operational_cost/Results/D.Representative_days_based_on_RES_and_Demand/IEEE118_mod1_Bystages_nc100/3.out/oT_Result_CostSummary_IEEE118_mod1_Bystages_nc100.csv\n",
      "J.Full_year_operational_cost/Results/E.Representative_days_based_on_Line_Benefits_OptModel/IEEE118_mod1_Bystages_nc100/3.out/oT_Result_CostSummary_IEEE118_mod1_Bystages_nc100.csv\n",
      "J.Full_year_operational_cost/Results/K.Investments_per_hour/IEEE118_mod1_Bystages_nc100/3.out/oT_Result_CostSummary_IEEE118_mod1_Bystages_nc100.csv\n",
      "J.Full_year_operational_cost/Results/L.Cont_Investments_per_hour/IEEE118_mod1_Bystages_nc100/3.out/oT_Result_CostSummary_IEEE118_mod1_Bystages_nc100.csv\n"
     ]
    }
   ],
   "source": [
    "df_all = pd.DataFrame()\n",
    "\n",
    "case = \"IEEE118_mod1\"\n",
    "folders = [Folder_JB,Folder_JD,Folder_JE,Folder_JK,Folder_JL]\n",
    "nbcs = [10,20,30,40,50,60,70,80,90,100]#,110,120,130,140,150]\n",
    "\n",
    "for nbc in nbcs:\n",
    "    for folder in folders: \n",
    "        df = LoadingData(DirName,folder,\"CostSummary\",case,nbc,category_dict[folder])\n",
    "        df_all = pd.concat([df_all,df])\n",
    "\n",
    "df_cost_bm = pd.read_csv(f\"J.Full_year_operational_cost/Results/L.Cont_Investments_per_hour/IEEE118_mod1_ByStages_nc400/3.Out/oT_Result_CostSummary_IEEE118_mod1_ByStages_nc400.csv\")\n",
    "\n",
    "#df_cost_bm = pd.read_csv(f\"A.The_full_year_MILP/RTS24_mod1/3.Out/oT_Result_CostSummary_RTS24_mod1.csv\")\n",
    "\n",
    "\n",
    "df_cost_bm['CaseName'] = \"Benchmark\"\n",
    "df_cost_bm['Case'] = case\n",
    "df_cost_bm['Clustering method'] = \"Benchmark\"\n",
    "df_cost_bm['Number of clusters'] = 400\n",
    "df_cost_bm[\"Cost/Payment\"] = df[\"Cost/Payment\"].str.replace(\" \",\"\")\n",
    "df_all = pd.concat([df_all,df_cost_bm])\n",
    "#df_all.pivot_table(index = \"Clustering method\",columns = \"Cost/Payment\",values = \"MEUR\")"
   ]
  },
  {
   "cell_type": "code",
   "execution_count": 33,
   "id": "a0e8ff31",
   "metadata": {},
   "outputs": [],
   "source": [
    "df_pivot = df_all.pivot_table(index = \"Clustering method\",columns = \"Cost/Payment\",values = \"MEUR\",aggfunc = \"mean\").drop(\"TotalSystemCost\",axis = 1)"
   ]
  },
  {
   "cell_type": "code",
   "execution_count": 34,
   "id": "6b02a2bf",
   "metadata": {},
   "outputs": [
    {
     "data": {
      "text/plain": [
       "<Axes: xlabel='Clustering method'>"
      ]
     },
     "execution_count": 34,
     "metadata": {},
     "output_type": "execute_result"
    },
    {
     "data": {
      "image/png": "[encoded data removed]",
      "text/plain": [
       "<Figure size 640x480 with 1 Axes>"
      ]
     },
     "metadata": {},
     "output_type": "display_data"
    }
   ],
   "source": [
    "df_pivot.plot(kind = \"bar\",stacked = False,legend = False)"
   ]
  }
 ],
 "metadata": {
  "kernelspec": {
   "display_name": "Python 3 (ipykernel)",
   "language": "python",
   "name": "python3"
  },
  "language_info": {
   "codemirror_mode": {
    "name": "ipython",
    "version": 3
   },
   "file_extension": ".py",
   "mimetype": "text/x-python",
   "name": "python",
   "nbconvert_exporter": "python",
   "pygments_lexer": "ipython3",
   "version": "3.10.11"
  }
 },
 "nbformat": 4,
 "nbformat_minor": 5
}
