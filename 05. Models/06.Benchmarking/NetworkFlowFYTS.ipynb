{
 "cells": [
  {
   "cell_type": "code",
   "execution_count": 1,
   "id": "fff92b17",
   "metadata": {},
   "outputs": [],
   "source": [
    "import os\n",
    "import pandas as pd\n",
    "import seaborn as sns\n",
    "import matplotlib.pyplot as plt\n",
    "import numpy as np"
   ]
  },
  {
   "cell_type": "code",
   "execution_count": 38,
   "id": "c9d772fd",
   "metadata": {},
   "outputs": [],
   "source": [
    "CaseName_Base = 'RTS24_mod1'\n",
    "\n",
    "Folder_A = 'A.The_full_year_MILP'\n",
    "Folder_B = 'B.Operation_cost'\n",
    "Folder_D = 'D.Representative_days_based_on_RES_and_Demand'\n",
    "Folder_E = 'E.Representative_days_based_on_Line_Benefits_OptModel'\n",
    "Folder_K = 'K.Investments_per_hour'\n",
    "Folder_L = 'L.Cont_Investments_per_hour'\n",
    "\n",
    "DirName  = os.getcwd()\n",
    "_path_0 = os.path.join(DirName, CaseName_Base)\n",
    "category_dict = {Folder_A: \"FYMILP\",\n",
    "                 Folder_B: \"OPC\",\n",
    "                 Folder_D: \"R&D\",\n",
    "                 Folder_E: \"OPT_LB\",\n",
    "                 Folder_K: \"Hourly_inv\",\n",
    "                 Folder_L: \"CHI\",\n",
    "\n",
    "                }"
   ]
  },
  {
   "cell_type": "code",
   "execution_count": 39,
   "id": "d2b118cc",
   "metadata": {},
   "outputs": [],
   "source": [
    "def LoadingData(dir, folder,result, case, ncluster, cm,folder_out = \"4.OutWoInv\"):\n",
    "    #If the folder is A, the name is slightly different (no ByStages in the name and not dependent on nb clust)\n",
    "    if folder == 'A.The_full_year_MILP': \n",
    "        df = pd.read_csv(os.path.join(dir, folder, case, folder_out, f'oT_Result_{result}_'+case+'.csv'), index_col=[0,1])\n",
    "    else: \n",
    "        df = pd.read_csv(os.path.join(dir, folder, case+'_ByStages_nc'+str(ncluster), folder_out, f'oT_Result_{result}_'+case+ '_ByStages_nc'+str(ncluster)+'.csv'), index_col=[0,1])\n",
    "\n",
    "    df['CaseName'] = folder + ' - ' + case + str(ncluster)\n",
    "    df['Clustering method'] = cm\n",
    "    df['Number of clusters'] = ncluster\n",
    "    df = df.reset_index()\n",
    "\n",
    "    return df\n",
    "\n",
    "#Load the weights of the representative periods \n",
    "def LoadingWeights(dir, folder, case, ncluster):\n",
    "    if folder == 'A.The_full_year_MILP': \n",
    "        df_stage = pd.read_csv(os.path.join(dir, folder, case, '2.Par', f'oT_Data_Stage_'+case+'.csv'))\n",
    "        df_duration = pd.read_csv(os.path.join(dir, folder, case, '2.Par', f'oT_Data_Duration_'+case+'.csv'))\n",
    "    else: \n",
    "        df_stage = pd.read_csv(os.path.join(dir, folder, case+'_ByStages_nc'+str(ncluster), '2.Par', f'oT_Data_Stage_'+case+ '_ByStages_nc'+str(ncluster)+'.csv'))\n",
    "        df_duration = pd.read_csv(os.path.join(dir, folder, case+'_ByStages_nc'+str(ncluster), '2.Par', f'oT_Data_Duration_'+case+ '_ByStages_nc'+str(ncluster)+'.csv'))\n",
    "    durations_filtered = df_duration[df_duration['Duration'] == 1]\n",
    "    merged_df = pd.merge(df_stage, durations_filtered, left_on='Unnamed: 0', right_on='Stage', how='left')\n",
    "\n",
    "    return merged_df\n"
   ]
  },
  {
   "cell_type": "code",
   "execution_count": 40,
   "id": "8337bb43",
   "metadata": {},
   "outputs": [],
   "source": [
    "nbs_clusters = [(i+1)*10 for i in range(10)] + [150, 200, 250, 300,350, 400]\n",
    "#nbs_clusters = [(i+1)*10 for i in range(2)]\n",
    "\n",
    "#folders = [Folder_JB, Folder_JD,Folder_JE,Folder_JL]#,Folder_E,Folder_F,Folder_G]\n",
    "folders = [Folder_A,Folder_B,Folder_D,Folder_E,Folder_L,Folder_K]\n",
    "folders = [Folder_A]#,Folder_B,Folder_D,Folder_E,Folder_L,Folder_K]\n",
    "\n",
    "#folders = [Folder_A,Folder_L,Folder_JL,Folder_D,Folder_JD,Folder_B,Folder_JB,Folder_E,Folder_JE]\n",
    "results = [\"NetworkFlowPerNode\"]\n",
    "\n",
    "results_dfs = dict()\n",
    "weights_dfs = dict()\n",
    "results_w_dfs = dict()\n",
    "for result in results :\n",
    "    results_dfs[result] = dict()\n",
    "    weights_dfs[result] = dict()\n",
    "    results_w_dfs[result] = dict()\n",
    "    for folder in folders: \n",
    "        results_dfs[result][folder] = dict()\n",
    "        results_w_dfs[result][folder] = dict()\n",
    "        weights_dfs[result][folder] = dict()\n",
    "        for nb_clusters in nbs_clusters:\n",
    "            try: \n",
    "                results_dfs[result][folder][nb_clusters] = LoadingData(DirName, folder,result, CaseName_Base, nb_clusters, category_dict[folder])\n",
    "                if not(folder.startswith(\"J\")):\n",
    "                    weights_dfs[result][folder][nb_clusters] = LoadingWeights(DirName,folder,CaseName_Base,nb_clusters)\n",
    "                    results_w_dfs[result][folder][nb_clusters] = results_dfs[result][folder][nb_clusters].merge(weights_dfs[result][folder][nb_clusters][[\"LoadLevel\",\"Weight\"]],on= \"LoadLevel\")\n",
    "                                        \n",
    "            except FileNotFoundError as e : \n",
    "                print(e)\n",
    "                print(folder,nb_clusters, \"Does not contain\", result)\n",
    "def get_overall_avg_utilization(df_utilization): \n",
    "    return df_utilization[\"GWh\"].mean()\n",
    "\n",
    "def get_weighted_overall_avg_Utilization(df_util,df_weights):\n",
    "    merged_df = df_util.merge(df_weights,how = \"left\",on = \"LoadLevel\")\n",
    "    merged_df[\"GWh_weighted\"] = merged_df[\"GWh\"] * merged_df[\"Weight\"]\n",
    "    return merged_df[\"GWh_weighted\"].sum()/merged_df[\"Weight\"].sum()"
   ]
  },
  {
   "cell_type": "code",
   "execution_count": 41,
   "id": "85334dcb",
   "metadata": {},
   "outputs": [
    {
     "name": "stdout",
     "output_type": "stream",
     "text": [
      "A.The_full_year_MILP\n"
     ]
    }
   ],
   "source": [
    "# Initialize DataFrames to store results\n",
    "overal_avg_flows = pd.DataFrame()\n",
    "all_flows = pd.DataFrame()\n",
    "i = 0\n",
    "\n",
    "# Loop through each folder and number of clusters\n",
    "for folder in folders:\n",
    "    print(folder)\n",
    "    for nb_clusters in nbs_clusters:\n",
    "        # Calculate the overall average utilization\n",
    "        overall_avg_util = get_overall_avg_utilization(results_dfs[result][folder][nb_clusters])\n",
    "        \n",
    "        # Calculate the weighted overall average utilization if necessary\n",
    "        if folder.startswith(\"J.\"):\n",
    "            overall_weighted_utilization = overall_avg_util\n",
    "        else:\n",
    "            overall_weighted_utilization = get_weighted_overall_avg_Utilization(\n",
    "                results_dfs[result][folder][nb_clusters],\n",
    "                weights_dfs[result][folder][nb_clusters]\n",
    "            )\n",
    "        \n",
    "        # Create a new row with the calculated values\n",
    "        row = pd.DataFrame({\n",
    "            \"Clustering method\": category_dict[folder],\n",
    "            \"Number of clusters\": nb_clusters,\n",
    "            \"Avg_util\": overall_avg_util,\n",
    "            \"Avg_util_w\": overall_weighted_utilization\n",
    "        }, index=[i])\n",
    "        i += 1\n",
    "        \n",
    "        # Concatenate the new row to the overall summary DataFrame\n",
    "        overal_avg_flows = pd.concat([overal_avg_flows, row])\n",
    "        \n",
    "        # Concatenate the individual results to the all_utils DataFrame\n",
    "        #all_utils = pd.concat([all_utils, results_dfs[result][folder][nb_clusters]])\n",
    "        all_flows = pd.concat([all_flows, results_w_dfs[result][folder][nb_clusters]])"
   ]
  },
  {
   "cell_type": "code",
   "execution_count": 42,
   "id": "5ed748c7",
   "metadata": {},
   "outputs": [],
   "source": [
    "def extract_FYMILP_one_line(all_utils_FYMILP,node_pair): \n",
    "    filter_this_line = (all_utils_FYMILP[\"InitialNode\"] == node_pair[0]) & (all_utils_FYMILP[\"FinalNode\"] == node_pair[1])\n",
    "    utils_this_line_FYMILP = all_utils_FYMILP[filter_this_line]\n",
    "\n",
    "    ts_this_line_FYMILP = utils_this_line_FYMILP.GWh.to_numpy()\n",
    "    return ts_this_line_FYMILP\n",
    "\n",
    "def extract_CM_one_line(cm,nbc): \n",
    "    ts_CM_All_lines = pd.read_csv(f\"Y.FYTS_from_ByStages/{CaseName_Base}/{cm}/Flow_per_node_nc{nbc}.csv\",header = [0,1],index_col=0)\n",
    "    ts_this_line_CM = ts_CM_All_lines.loc[:,node_pair].to_numpy()\n",
    "    return ts_this_line_CM"
   ]
  },
  {
   "cell_type": "code",
   "execution_count": 43,
   "id": "ca633bcf",
   "metadata": {},
   "outputs": [
    {
     "data": {
      "text/plain": [
       "array([[1.      , 0.548189],\n",
       "       [0.548189, 1.      ]])"
      ]
     },
     "execution_count": 43,
     "metadata": {},
     "output_type": "execute_result"
    }
   ],
   "source": [
    "## Extract fyts for multiple lines \n",
    "\n",
    "\n",
    "## FYMILP\n",
    "filter_FYMILP = (all_flows[\"Clustering method\"] == \"FYMILP\") & (all_flows[\"Number of clusters\"] == 10) & (all_flows[\"Circuit\"] == \"eac1\") \n",
    "\n",
    "all_flows_FYMILP = all_flows[filter_FYMILP]\n",
    "unique_node_pairs = [tuple(x) for x in all_flows_FYMILP[['InitialNode', 'FinalNode']].drop_duplicates().values.tolist()]\n",
    "\n",
    "\n",
    "##CM \n",
    "cm = \"OPT_LB\"\n",
    "nbc = 10\n",
    "\n",
    "nb_lines = len(unique_node_pairs)\n",
    "ts_all_lines_CM=np.zeros(8736*nb_lines)\n",
    "ts_all_lines_FYMILP=np.zeros(8736*nb_lines)\n",
    "\n",
    "for i,node_pair in enumerate(unique_node_pairs[:nb_lines]): \n",
    "    ts_this_line_FYMILP = extract_FYMILP_one_line(all_flows_FYMILP,node_pair)\n",
    "    ts_this_line_CM = extract_CM_one_line(cm,nbc)\n",
    "    i_start = i*8736\n",
    "    i_end = (i+1)*8736\n",
    "    ts_all_lines_FYMILP[i_start:i_end]=ts_this_line_FYMILP\n",
    "    ts_all_lines_CM[i_start:i_end] = ts_this_line_CM\n",
    "    \n",
    "np.corrcoef(ts_all_lines_FYMILP,ts_all_lines_CM)"
   ]
  },
  {
   "cell_type": "markdown",
   "id": "b9d38177",
   "metadata": {},
   "source": [
    "# Flow correlations "
   ]
  },
  {
   "cell_type": "code",
   "execution_count": 44,
   "id": "53b4d5b2",
   "metadata": {},
   "outputs": [],
   "source": [
    "## Extract fyts for multiple lines \n",
    "\n",
    "\n",
    "## FYMILP\n",
    "filter_FYMILP = (all_flows[\"Clustering method\"] == \"FYMILP\") & (all_flows[\"Number of clusters\"] == 10) & (all_flows[\"Circuit\"] == \"eac1\") \n",
    "\n",
    "all_flows_FYMILP = all_flows[filter_FYMILP]\n",
    "unique_node_pairs = [tuple(x) for x in all_flows_FYMILP[['InitialNode', 'FinalNode']].drop_duplicates().values.tolist()]\n",
    "nb_lines = len(unique_node_pairs)\n",
    "\n",
    "correls_v,total_diffs_v,total_devs_v,nbcs_v,cms_v = [],[],[],[],[]\n",
    "\n",
    "\n",
    "##CM \n",
    "cm = \"OPT_LB\"\n",
    "for cm in [\"R&D\",\"CHI\",\"OPT_LB\",\"HI\",\"OPC\"]:\n",
    "    for nbc in [10,20,50,100,200]:\n",
    "\n",
    "\n",
    "        ts_all_lines_CM=np.zeros(8736*nb_lines)\n",
    "        ts_all_lines_FYMILP=np.zeros(8736*nb_lines)\n",
    "\n",
    "        for i,node_pair in enumerate(unique_node_pairs[:nb_lines]): \n",
    "            ts_this_line_FYMILP = extract_FYMILP_one_line(all_flows_FYMILP,node_pair)\n",
    "            ts_this_line_CM = extract_CM_one_line(cm,nbc)\n",
    "            i_start = i*8736\n",
    "            i_end = (i+1)*8736\n",
    "            ts_all_lines_FYMILP[i_start:i_end]=ts_this_line_FYMILP\n",
    "            ts_all_lines_CM[i_start:i_end] = ts_this_line_CM\n",
    "\n",
    "        total_dev= np.sum(np.abs((ts_all_lines_CM-ts_all_lines_FYMILP)))\n",
    "        correlation = np.corrcoef(ts_all_lines_FYMILP,ts_all_lines_CM)[0,1]\n",
    "\n",
    "        cms_v.append(cm)\n",
    "        nbcs_v.append(nbc)\n",
    "        \n",
    "        total_flow = np.sum((np.abs((ts_all_lines_FYMILP))))\n",
    "\n",
    "        correls_v.append(correlation)\n",
    "        total_diffs_v.append(total_dev)\n",
    "        total_devs_v.append(total_dev/total_flow)\n",
    "\n",
    "df = pd.DataFrame({\"CM\":cms_v,\"nbc\":nbcs_v,\"Correlation\": correls_v,\"Total diff\":total_diffs_v,\"Total dev\":total_devs_v})"
   ]
  },
  {
   "cell_type": "code",
   "execution_count": 48,
   "id": "57b64fed",
   "metadata": {},
   "outputs": [
    {
     "data": {
      "text/plain": [
       "<Axes: xlabel='nbc', ylabel='Total dev'>"
      ]
     },
     "execution_count": 48,
     "metadata": {},
     "output_type": "execute_result"
    },
    {
     "data": {
      "image/png": "[encoded data removed]",
      "text/plain": [
       "<Figure size 640x480 with 1 Axes>"
      ]
     },
     "metadata": {},
     "output_type": "display_data"
    }
   ],
   "source": [
    "x = \"nbc\"\n",
    "y= \"Total dev\"\n",
    "sns.lineplot(data = df,x = x, y = y,hue = \"CM\",marker = \"o\")\n"
   ]
  },
  {
   "cell_type": "code",
   "execution_count": 74,
   "id": "07336e21",
   "metadata": {},
   "outputs": [
    {
     "data": {
      "text/html": [
       "<div>\n",
       "<style scoped>\n",
       "    .dataframe tbody tr th:only-of-type {\n",
       "        vertical-align: middle;\n",
       "    }\n",
       "\n",
       "    .dataframe tbody tr th {\n",
       "        vertical-align: top;\n",
       "    }\n",
       "\n",
       "    .dataframe thead th {\n",
       "        text-align: right;\n",
       "    }\n",
       "</style>\n",
       "<table border=\"1\" class=\"dataframe\">\n",
       "  <thead>\n",
       "    <tr style=\"text-align: right;\">\n",
       "      <th></th>\n",
       "      <th>CM</th>\n",
       "      <th>nbc</th>\n",
       "      <th>Correlation</th>\n",
       "      <th>Total diff</th>\n",
       "      <th>Total dev</th>\n",
       "    </tr>\n",
       "  </thead>\n",
       "  <tbody>\n",
       "    <tr>\n",
       "      <th>0</th>\n",
       "      <td>R&amp;D</td>\n",
       "      <td>10</td>\n",
       "      <td>0.662288</td>\n",
       "      <td>16443.213048</td>\n",
       "      <td>0.828082</td>\n",
       "    </tr>\n",
       "    <tr>\n",
       "      <th>1</th>\n",
       "      <td>R&amp;D</td>\n",
       "      <td>20</td>\n",
       "      <td>0.676477</td>\n",
       "      <td>15060.163003</td>\n",
       "      <td>0.758432</td>\n",
       "    </tr>\n",
       "    <tr>\n",
       "      <th>2</th>\n",
       "      <td>R&amp;D</td>\n",
       "      <td>50</td>\n",
       "      <td>0.687668</td>\n",
       "      <td>13958.430080</td>\n",
       "      <td>0.702948</td>\n",
       "    </tr>\n",
       "    <tr>\n",
       "      <th>3</th>\n",
       "      <td>R&amp;D</td>\n",
       "      <td>100</td>\n",
       "      <td>0.689018</td>\n",
       "      <td>13893.071876</td>\n",
       "      <td>0.699657</td>\n",
       "    </tr>\n",
       "    <tr>\n",
       "      <th>4</th>\n",
       "      <td>R&amp;D</td>\n",
       "      <td>200</td>\n",
       "      <td>0.724479</td>\n",
       "      <td>12735.079919</td>\n",
       "      <td>0.641340</td>\n",
       "    </tr>\n",
       "  </tbody>\n",
       "</table>\n",
       "</div>"
      ],
      "text/plain": [
       "    CM  nbc  Correlation    Total diff  Total dev\n",
       "0  R&D   10     0.662288  16443.213048   0.828082\n",
       "1  R&D   20     0.676477  15060.163003   0.758432\n",
       "2  R&D   50     0.687668  13958.430080   0.702948\n",
       "3  R&D  100     0.689018  13893.071876   0.699657\n",
       "4  R&D  200     0.724479  12735.079919   0.641340"
      ]
     },
     "execution_count": 74,
     "metadata": {},
     "output_type": "execute_result"
    }
   ],
   "source": [
    "df[df.CM == \"R&D\"]"
   ]
  },
  {
   "cell_type": "code",
   "execution_count": 98,
   "id": "d251f7af",
   "metadata": {},
   "outputs": [],
   "source": [
    "## Export for latex figure \n",
    "\n",
    "y = \"Total dev\"\n",
    "x = \"Number of clusters\"\n",
    "\n",
    "if CaseName_Base.endswith(\"mod1\"): \n",
    "    correl = \"LC\"\n",
    "else:\n",
    "    correl = \"HC\"\n",
    "\n",
    "        \n",
    "# Directory to save CSV files\n",
    "output_dir = \"Z.Figures/data_for_latex\"\n",
    "os.makedirs(output_dir, exist_ok=True)\n",
    "nbcs = [10,20,40,60,80,100,150,200,250,300,350,400]\n",
    "# Export data for each case\n",
    "if CaseName_Base.startswith(\"IEEE\"):\n",
    "    nbcs = [10,20,30,40,50,60,70,80,90,100]\n",
    "else:\n",
    "    nbcs = [10,20,50,40,60,80,100,150,200,250,300,350,400]\n",
    "for cm in [\"R&D\",\"OPT_LB\",\"CHI\",\"OPC\",\"HI\"]:\n",
    "    rf = df[df.CM == cm]\n",
    "    rf.set_index(\"nbc\", inplace=True)\n",
    "    csv_file = os.path.join(output_dir, f\"{CaseName_Base.replace('_', '').replace('mod1', '')}_{cm.replace('_', '').replace('&', '')}_{correl}_flowdev.csv\")\n",
    "    rf[rf.index.isin(nbcs)][\"Total dev\"].to_csv(csv_file)"
   ]
  },
  {
   "cell_type": "code",
   "execution_count": 97,
   "id": "0c453294",
   "metadata": {},
   "outputs": [
    {
     "data": {
      "text/html": [
       "<div>\n",
       "<style scoped>\n",
       "    .dataframe tbody tr th:only-of-type {\n",
       "        vertical-align: middle;\n",
       "    }\n",
       "\n",
       "    .dataframe tbody tr th {\n",
       "        vertical-align: top;\n",
       "    }\n",
       "\n",
       "    .dataframe thead th {\n",
       "        text-align: right;\n",
       "    }\n",
       "</style>\n",
       "<table border=\"1\" class=\"dataframe\">\n",
       "  <thead>\n",
       "    <tr style=\"text-align: right;\">\n",
       "      <th></th>\n",
       "      <th>CM</th>\n",
       "      <th>nbc</th>\n",
       "      <th>Correlation</th>\n",
       "      <th>Total diff</th>\n",
       "      <th>Total dev</th>\n",
       "    </tr>\n",
       "  </thead>\n",
       "  <tbody>\n",
       "  </tbody>\n",
       "</table>\n",
       "</div>"
      ],
      "text/plain": [
       "Empty DataFrame\n",
       "Columns: [CM, nbc, Correlation, Total diff, Total dev]\n",
       "Index: []"
      ]
     },
     "execution_count": 97,
     "metadata": {},
     "output_type": "execute_result"
    }
   ],
   "source": [
    "rf[rf.index.isin(nbcs)]"
   ]
  }
 ],
 "metadata": {
  "kernelspec": {
   "display_name": "Python 3 (ipykernel)",
   "language": "python",
   "name": "python3"
  },
  "language_info": {
   "codemirror_mode": {
    "name": "ipython",
    "version": 3
   },
   "file_extension": ".py",
   "mimetype": "text/x-python",
   "name": "python",
   "nbconvert_exporter": "python",
   "pygments_lexer": "ipython3",
   "version": "3.10.11"
  }
 },
 "nbformat": 4,
 "nbformat_minor": 5
}
