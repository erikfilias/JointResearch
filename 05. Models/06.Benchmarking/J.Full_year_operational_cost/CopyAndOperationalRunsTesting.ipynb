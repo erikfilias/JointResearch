{
 "cells": [
  {
   "cell_type": "code",
   "execution_count": 7,
   "id": "a95eda69",
   "metadata": {},
   "outputs": [],
   "source": [
    "import pandas as pd "
   ]
  },
  {
   "cell_type": "code",
   "execution_count": 8,
   "id": "f0ef09e7",
   "metadata": {},
   "outputs": [],
   "source": [
    "case = \"3-bus\"\n",
    "nb_stages = 10\n",
    "folder = \"D.Representative_days_based_on_RES_and_Demand\""
   ]
  },
  {
   "cell_type": "code",
   "execution_count": 9,
   "id": "01a97ab8",
   "metadata": {},
   "outputs": [],
   "source": [
    "df_investment_results = pd.read_csv(f\"../{folder}/{case}_ByStages_nc{nb_stages}/3.Out/oT_Result_NetworkInvestment_{case}_ByStages_nc{nb_stages}.csv\")"
   ]
  },
  {
   "cell_type": "code",
   "execution_count": 10,
   "id": "44882197",
   "metadata": {},
   "outputs": [],
   "source": [
    "# Specify the positions of the columns to be used as the index (adjust as needed)\n",
    "index_columns = [0, 1, 2]\n",
    "\n",
    "# Read the CSV file and set the specified columns as the index\n",
    "df_parameters = pd.read_csv(f\"{case}/2.Par/oT_Data_Network_{case}.csv\", index_col=index_columns)\n",
    "\n",
    "# Specify the names for the index columns\n",
    "index_names = ['InitialNode', 'FinalNode', 'Circuit']\n",
    "\n",
    "# Set the names for the index columns\n",
    "df_parameters.index.set_names(index_names, inplace=True)\n",
    "df_investment_results.set_index(index_names,inplace=True)\n",
    "df_investment_results[\"Sensitivity\"] = True"
   ]
  },
  {
   "cell_type": "code",
   "execution_count": 11,
   "id": "992300ee",
   "metadata": {},
   "outputs": [],
   "source": [
    "df_parameters[\"InvestmentFixed\"] = df_investment_results[\"p.u.\"]\n",
    "df_parameters[\"Sensitivity\"] = df_investment_results[\"Sensitivity\"]"
   ]
  },
  {
   "cell_type": "code",
   "execution_count": 24,
   "id": "5de91dc2",
   "metadata": {},
   "outputs": [],
   "source": [
    "df_parameters.index.names = [None] * len(df_parameters.index.names)\n",
    "df_parameters.to_csv(f\"{case}/2.Par/oT_Data_Network_{case}.csv\")"
   ]
  },
  {
   "cell_type": "code",
   "execution_count": 36,
   "id": "ef3d0b7c",
   "metadata": {},
   "outputs": [
    {
     "name": "stdout",
     "output_type": "stream",
     "text": [
      "['3-bus_ByStages_nc10']\n"
     ]
    }
   ],
   "source": [
    "import os\n",
    "import re\n",
    "\n",
    "min_nb = 10\n",
    "max_nb = 10\n",
    "\n",
    "path_to_scan = os.path.dirname(\"../D.Representative_days_based_on_RES_and_Demand/\")\n",
    "\n",
    "filter = f'{case}_ByStages_nc'\n",
    "\n",
    "directories = []\n",
    "\n",
    "for f in os.scandir(path_to_scan):\n",
    "    if f.is_dir():\n",
    "        basename = os.path.basename(f.path)\n",
    "        match = re.search(f'{filter}(\\d+)', basename)\n",
    "        if match:\n",
    "            nb = int(match.group(1))\n",
    "            if (min_nb is None or nb >= min_nb) and (max_nb is None or nb <= max_nb):\n",
    "                directories.append(basename)\n",
    "\n",
    "directories = sorted(directories, key=lambda x: int(re.search(r'nc(\\d+)', x).group(1)))\n",
    "\n",
    "print(directories)"
   ]
  }
 ],
 "metadata": {
  "kernelspec": {
   "display_name": "Python 3 (ipykernel)",
   "language": "python",
   "name": "python3"
  },
  "language_info": {
   "codemirror_mode": {
    "name": "ipython",
    "version": 3
   },
   "file_extension": ".py",
   "mimetype": "text/x-python",
   "name": "python",
   "nbconvert_exporter": "python",
   "pygments_lexer": "ipython3",
   "version": "3.10.11"
  }
 },
 "nbformat": 4,
 "nbformat_minor": 5
}
