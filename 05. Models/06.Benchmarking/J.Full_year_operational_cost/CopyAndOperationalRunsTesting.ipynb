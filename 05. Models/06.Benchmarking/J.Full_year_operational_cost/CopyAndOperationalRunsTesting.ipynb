{
 "cells": [
  {
   "cell_type": "code",
   "execution_count": 13,
   "id": "e02478bb",
   "metadata": {},
   "outputs": [],
   "source": [
    "import pandas as pd"
   ]
  },
  {
   "cell_type": "code",
   "execution_count": 8,
   "id": "f440e8b5",
   "metadata": {},
   "outputs": [],
   "source": [
    "case = \"3-bus\"\n",
    "nb_stages = 10\n",
    "folder = \"D.Representative_days_based_on_RES_and_Demand\""
   ]
  },
  {
   "cell_type": "code",
   "execution_count": 9,
   "id": "3fa9c6c8",
   "metadata": {},
   "outputs": [],
   "source": [
    "df_investment_results = pd.read_csv(f\"../{folder}/{case}_ByStages_nc{nb_stages}/3.Out/oT_Result_NetworkInvestment_{case}_ByStages_nc{nb_stages}.csv\")"
   ]
  },
  {
   "cell_type": "code",
   "execution_count": 10,
   "id": "4cbce800",
   "metadata": {},
   "outputs": [],
   "source": [
    "# Specify the positions of the columns to be used as the index (adjust as needed)\n",
    "index_columns = [0, 1, 2]\n",
    "\n",
    "# Read the CSV file and set the specified columns as the index\n",
    "df_parameters = pd.read_csv(f\"{case}/2.Par/oT_Data_Network_{case}.csv\", index_col=index_columns)\n",
    "\n",
    "# Specify the names for the index columns\n",
    "index_names = ['InitialNode', 'FinalNode', 'Circuit']\n",
    "\n",
    "# Set the names for the index columns\n",
    "df_parameters.index.set_names(index_names, inplace=True)\n",
    "df_investment_results.set_index(index_names,inplace=True)\n",
    "df_investment_results[\"Sensitivity\"] = True"
   ]
  },
  {
   "cell_type": "code",
   "execution_count": 11,
   "id": "b62594ac",
   "metadata": {},
   "outputs": [],
   "source": [
    "df_parameters[\"InvestmentFixed\"] = df_investment_results[\"p.u.\"]\n",
    "df_parameters[\"Sensitivity\"] = df_investment_results[\"Sensitivity\"]"
   ]
  },
  {
   "cell_type": "code",
   "execution_count": 24,
   "id": "bfc00a0c",
   "metadata": {},
   "outputs": [],
   "source": [
    "df_parameters.index.names = [None] * len(df_parameters.index.names)\n",
    "df_parameters.to_csv(f\"{case}/2.Par/oT_Data_Network_{case}.csv\")"
   ]
  },
  {
   "cell_type": "code",
   "execution_count": 36,
   "id": "075f9012",
   "metadata": {},
   "outputs": [
    {
     "name": "stdout",
     "output_type": "stream",
     "text": [
      "['3-bus_ByStages_nc10']\n"
     ]
    }
   ],
   "source": [
    "#Test loop with copying\n",
    "\n",
    "import os\n",
    "import re\n",
    "\n",
    "min_nb = 10\n",
    "max_nb = 10\n",
    "\n",
    "path_to_scan = os.path.dirname(\"../D.Representative_days_based_on_RES_and_Demand/\")\n",
    "\n",
    "filter = f'{case}_ByStages_nc'\n",
    "\n",
    "directories = []\n",
    "\n",
    "for f in os.scandir(path_to_scan):\n",
    "    if f.is_dir():\n",
    "        basename = os.path.basename(f.path)\n",
    "        match = re.search(f'{filter}(\\d+)', basename)\n",
    "        if match:\n",
    "            nb = int(match.group(1))\n",
    "            if (min_nb is None or nb >= min_nb) and (max_nb is None or nb <= max_nb):\n",
    "                directories.append(basename)\n",
    "\n",
    "directories = sorted(directories, key=lambda x: int(re.search(r'nc(\\d+)', x).group(1)))\n",
    "\n",
    "print(directories)"
   ]
  },
  {
   "cell_type": "code",
   "execution_count": 5,
   "id": "555364f1",
   "metadata": {},
   "outputs": [
    {
     "name": "stdout",
     "output_type": "stream",
     "text": [
      "\n",
      " #### Academic research license - for non-commercial use only #### \n",
      "\n",
      "Reading    input data                 ...  0 s\n",
      "Setting up input data                 ...  6 s\n",
      "Generating objective function         ...  4 s\n",
      "Generating operation & investment     ...  0 s\n",
      "Generating balance                    ...  6 s\n",
      "Generating storage operation          ...  0 s\n",
      "Generating generation commitment      ...  2 s\n",
      "Generating generation capacity        ...  1 s\n",
      "Generating network    capacity        ...  7 s\n",
      "Generating network    constraints     ...  19 s\n",
      "Econometric analysis  constraints     ...  0 s\n"
     ]
    },
    {
     "data": {
      "text/plain": [
       "<pyomo.core.base.PyomoModel.ConcreteModel at 0x23d73522520>"
      ]
     },
     "execution_count": 5,
     "metadata": {},
     "output_type": "execute_result"
    }
   ],
   "source": [
    "#Test script without re-building model\n",
    "import oSN_Main_operational\n",
    "import pyomo\n",
    "\n",
    "openStarNet = pyomo.environ.ConcreteModel('openStarNet - Open Version of the StartNetLite Model (Long Term Transmission Expansion Planning) - Version 1.0.0 - January 16, 2023')\n",
    "openStarNet.pLineXNetInv = 0\n",
    "\n",
    "oSN_Main_operational.data_processing(\"\",\"3-bus\",openStarNet)\n",
    "oSN_Main_operational.create_variables(openStarNet,openStarNet)\n",
    "oSN_Main_operational.create_constraints(openStarNet,openStarNet)\n"
   ]
  },
  {
   "cell_type": "code",
   "execution_count": 15,
   "id": "0709c46c",
   "metadata": {},
   "outputs": [
    {
     "data": {
      "text/html": [
       "<div>\n",
       "<style scoped>\n",
       "    .dataframe tbody tr th:only-of-type {\n",
       "        vertical-align: middle;\n",
       "    }\n",
       "\n",
       "    .dataframe tbody tr th {\n",
       "        vertical-align: top;\n",
       "    }\n",
       "\n",
       "    .dataframe thead th {\n",
       "        text-align: right;\n",
       "    }\n",
       "</style>\n",
       "<table border=\"1\" class=\"dataframe\">\n",
       "  <thead>\n",
       "    <tr style=\"text-align: right;\">\n",
       "      <th></th>\n",
       "      <th>Period</th>\n",
       "      <th>InitialNode</th>\n",
       "      <th>FinalNode</th>\n",
       "      <th>Circuit</th>\n",
       "      <th>p.u.</th>\n",
       "    </tr>\n",
       "  </thead>\n",
       "  <tbody>\n",
       "    <tr>\n",
       "      <th>0</th>\n",
       "      <td>2030</td>\n",
       "      <td>Node_1</td>\n",
       "      <td>Node_3</td>\n",
       "      <td>cac3</td>\n",
       "      <td>-0.0</td>\n",
       "    </tr>\n",
       "    <tr>\n",
       "      <th>1</th>\n",
       "      <td>2030</td>\n",
       "      <td>Node_1</td>\n",
       "      <td>Node_2</td>\n",
       "      <td>cac1</td>\n",
       "      <td>-0.0</td>\n",
       "    </tr>\n",
       "    <tr>\n",
       "      <th>2</th>\n",
       "      <td>2030</td>\n",
       "      <td>Node_2</td>\n",
       "      <td>Node_3</td>\n",
       "      <td>cac2</td>\n",
       "      <td>-0.0</td>\n",
       "    </tr>\n",
       "    <tr>\n",
       "      <th>3</th>\n",
       "      <td>2030</td>\n",
       "      <td>Node_2</td>\n",
       "      <td>Node_3</td>\n",
       "      <td>cac3</td>\n",
       "      <td>-0.0</td>\n",
       "    </tr>\n",
       "    <tr>\n",
       "      <th>4</th>\n",
       "      <td>2030</td>\n",
       "      <td>Node_1</td>\n",
       "      <td>Node_3</td>\n",
       "      <td>cac1</td>\n",
       "      <td>-0.0</td>\n",
       "    </tr>\n",
       "    <tr>\n",
       "      <th>5</th>\n",
       "      <td>2030</td>\n",
       "      <td>Node_1</td>\n",
       "      <td>Node_2</td>\n",
       "      <td>cac2</td>\n",
       "      <td>-0.0</td>\n",
       "    </tr>\n",
       "    <tr>\n",
       "      <th>6</th>\n",
       "      <td>2030</td>\n",
       "      <td>Node_1</td>\n",
       "      <td>Node_2</td>\n",
       "      <td>cac3</td>\n",
       "      <td>-0.0</td>\n",
       "    </tr>\n",
       "    <tr>\n",
       "      <th>7</th>\n",
       "      <td>2030</td>\n",
       "      <td>Node_2</td>\n",
       "      <td>Node_3</td>\n",
       "      <td>cac1</td>\n",
       "      <td>1.0</td>\n",
       "    </tr>\n",
       "    <tr>\n",
       "      <th>8</th>\n",
       "      <td>2030</td>\n",
       "      <td>Node_1</td>\n",
       "      <td>Node_3</td>\n",
       "      <td>cac2</td>\n",
       "      <td>-0.0</td>\n",
       "    </tr>\n",
       "  </tbody>\n",
       "</table>\n",
       "</div>"
      ],
      "text/plain": [
       "   Period InitialNode FinalNode Circuit  p.u.\n",
       "0    2030      Node_1    Node_3    cac3  -0.0\n",
       "1    2030      Node_1    Node_2    cac1  -0.0\n",
       "2    2030      Node_2    Node_3    cac2  -0.0\n",
       "3    2030      Node_2    Node_3    cac3  -0.0\n",
       "4    2030      Node_1    Node_3    cac1  -0.0\n",
       "5    2030      Node_1    Node_2    cac2  -0.0\n",
       "6    2030      Node_1    Node_2    cac3  -0.0\n",
       "7    2030      Node_2    Node_3    cac1   1.0\n",
       "8    2030      Node_1    Node_3    cac2  -0.0"
      ]
     },
     "execution_count": 15,
     "metadata": {},
     "output_type": "execute_result"
    }
   ],
   "source": [
    "#Read investment decisions\n",
    "folder = \"D.Representative_days_based_on_RES_and_Demand\"\n",
    "case = \"3-bus\"\n",
    "nb_stages = 10\n",
    "origin_folder = f\"../{folder}/{case}_ByStages_nc{nb_stages}/3.Out/oT_Result_NetworkInvestment_{case}_ByStages_nc{nb_stages}.csv\"\n",
    "df_investment_results = pd.read_csv(origin_folder)\n",
    "df_investment_results"
   ]
  },
  {
   "cell_type": "code",
   "execution_count": 42,
   "id": "17873715",
   "metadata": {},
   "outputs": [],
   "source": []
  },
  {
   "cell_type": "code",
   "execution_count": 41,
   "id": "d8fbb659",
   "metadata": {},
   "outputs": [
    {
     "data": {
      "text/html": [
       "<div>\n",
       "<style scoped>\n",
       "    .dataframe tbody tr th:only-of-type {\n",
       "        vertical-align: middle;\n",
       "    }\n",
       "\n",
       "    .dataframe tbody tr th {\n",
       "        vertical-align: top;\n",
       "    }\n",
       "\n",
       "    .dataframe thead th {\n",
       "        text-align: right;\n",
       "    }\n",
       "</style>\n",
       "<table border=\"1\" class=\"dataframe\">\n",
       "  <thead>\n",
       "    <tr style=\"text-align: right;\">\n",
       "      <th></th>\n",
       "      <th>Period</th>\n",
       "      <th>InitialNode</th>\n",
       "      <th>FinalNode</th>\n",
       "      <th>Circuit</th>\n",
       "      <th>p.u.</th>\n",
       "    </tr>\n",
       "  </thead>\n",
       "  <tbody>\n",
       "    <tr>\n",
       "      <th>0</th>\n",
       "      <td>2030</td>\n",
       "      <td>Node_1</td>\n",
       "      <td>Node_3</td>\n",
       "      <td>cac3</td>\n",
       "      <td>-0.0</td>\n",
       "    </tr>\n",
       "    <tr>\n",
       "      <th>1</th>\n",
       "      <td>2030</td>\n",
       "      <td>Node_1</td>\n",
       "      <td>Node_2</td>\n",
       "      <td>cac1</td>\n",
       "      <td>-0.0</td>\n",
       "    </tr>\n",
       "    <tr>\n",
       "      <th>2</th>\n",
       "      <td>2030</td>\n",
       "      <td>Node_2</td>\n",
       "      <td>Node_3</td>\n",
       "      <td>cac2</td>\n",
       "      <td>-0.0</td>\n",
       "    </tr>\n",
       "    <tr>\n",
       "      <th>3</th>\n",
       "      <td>2030</td>\n",
       "      <td>Node_2</td>\n",
       "      <td>Node_3</td>\n",
       "      <td>cac3</td>\n",
       "      <td>-0.0</td>\n",
       "    </tr>\n",
       "    <tr>\n",
       "      <th>4</th>\n",
       "      <td>2030</td>\n",
       "      <td>Node_1</td>\n",
       "      <td>Node_3</td>\n",
       "      <td>cac1</td>\n",
       "      <td>-0.0</td>\n",
       "    </tr>\n",
       "    <tr>\n",
       "      <th>5</th>\n",
       "      <td>2030</td>\n",
       "      <td>Node_1</td>\n",
       "      <td>Node_2</td>\n",
       "      <td>cac2</td>\n",
       "      <td>-0.0</td>\n",
       "    </tr>\n",
       "    <tr>\n",
       "      <th>6</th>\n",
       "      <td>2030</td>\n",
       "      <td>Node_1</td>\n",
       "      <td>Node_2</td>\n",
       "      <td>cac3</td>\n",
       "      <td>-0.0</td>\n",
       "    </tr>\n",
       "    <tr>\n",
       "      <th>7</th>\n",
       "      <td>2030</td>\n",
       "      <td>Node_2</td>\n",
       "      <td>Node_3</td>\n",
       "      <td>cac1</td>\n",
       "      <td>1.0</td>\n",
       "    </tr>\n",
       "    <tr>\n",
       "      <th>8</th>\n",
       "      <td>2030</td>\n",
       "      <td>Node_1</td>\n",
       "      <td>Node_3</td>\n",
       "      <td>cac2</td>\n",
       "      <td>-0.0</td>\n",
       "    </tr>\n",
       "  </tbody>\n",
       "</table>\n",
       "</div>"
      ],
      "text/plain": [
       "   Period InitialNode FinalNode Circuit  p.u.\n",
       "0    2030      Node_1    Node_3    cac3  -0.0\n",
       "1    2030      Node_1    Node_2    cac1  -0.0\n",
       "2    2030      Node_2    Node_3    cac2  -0.0\n",
       "3    2030      Node_2    Node_3    cac3  -0.0\n",
       "4    2030      Node_1    Node_3    cac1  -0.0\n",
       "5    2030      Node_1    Node_2    cac2  -0.0\n",
       "6    2030      Node_1    Node_2    cac3  -0.0\n",
       "7    2030      Node_2    Node_3    cac1   1.0\n",
       "8    2030      Node_1    Node_3    cac2  -0.0"
      ]
     },
     "execution_count": 41,
     "metadata": {},
     "output_type": "execute_result"
    }
   ],
   "source": [
    "df_investment_results"
   ]
  },
  {
   "cell_type": "code",
   "execution_count": 46,
   "id": "c0781d80",
   "metadata": {},
   "outputs": [
    {
     "name": "stdout",
     "output_type": "stream",
     "text": [
      "# ============================================================================= #\n",
      "# ============================================================================= #\n",
      "fixing: vNetworkInvest[2030,Node_1,Node_2,cac1]to -0.0\n",
      "fixing: vNetworkInvest[2030,Node_2,Node_3,cac1]to 1.0\n",
      "fixing: vNetworkInvest[2030,Node_1,Node_2,cac3]to -0.0\n",
      "fixing: vNetworkInvest[2030,Node_1,Node_2,cac2]to -0.0\n",
      "fixing: vNetworkInvest[2030,Node_2,Node_3,cac3]to -0.0\n",
      "fixing: vNetworkInvest[2030,Node_2,Node_3,cac2]to -0.0\n",
      "fixing: vNetworkInvest[2030,Node_1,Node_3,cac1]to -0.0\n",
      "fixing: vNetworkInvest[2030,Node_1,Node_3,cac3]to -0.0\n",
      "fixing: vNetworkInvest[2030,Node_1,Node_3,cac2]to -0.0\n",
      "Number of fixed variables:  9\n",
      "# ============================================================================= #\n",
      "# ============================================================================= #\n"
     ]
    }
   ],
   "source": [
    " #%% fix values of binary variables to get dual variables and solve it again\n",
    "print('# ============================================================================= #')\n",
    "print('# ============================================================================= #')\n",
    "idx = 0\n",
    "for var in openStarNet.component_data_objects(pyomo.environ.Var, active=True, descend_into=True):\n",
    "    if not var.is_continuous():\n",
    "        node_from,node_to,cac = var.index()[1],var.index()[2],var.index()[3]\n",
    "        value_to_fix = find_pu_value_from_inv_results_df(df_investment_results,node_from=node_from,node_to=node_to,cac=cac)\n",
    "        #var.fixed = True  # fix the current value\n",
    "        print(\"fixing: \" + str(var) + \"to \" + str(value_to_fix))\n",
    "        var.fix(value=value_to_fix)\n",
    "        idx += 1\n",
    "print(\"Number of fixed variables: \", idx)\n",
    "print('# ============================================================================= #')\n",
    "print('# ============================================================================= #')"
   ]
  }
 ],
 "metadata": {
  "kernelspec": {
   "display_name": "Python 3 (ipykernel)",
   "language": "python",
   "name": "python3"
  },
  "language_info": {
   "codemirror_mode": {
    "name": "ipython",
    "version": 3
   },
   "file_extension": ".py",
   "mimetype": "text/x-python",
   "name": "python",
   "nbconvert_exporter": "python",
   "pygments_lexer": "ipython3",
   "version": "3.10.11"
  }
 },
 "nbformat": 4,
 "nbformat_minor": 5
}
