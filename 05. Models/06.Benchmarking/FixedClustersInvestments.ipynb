{
 "cells": [
  {
   "cell_type": "code",
   "execution_count": 1,
   "id": "d02108a1",
   "metadata": {},
   "outputs": [],
   "source": [
    "import os\n",
    "import pandas as pd"
   ]
  },
  {
   "cell_type": "code",
   "execution_count": 7,
   "id": "5c222a44",
   "metadata": {},
   "outputs": [],
   "source": [
    "CaseName_Base = 'RTS24'\n",
    "CaseName_ByStages = CaseName_Base + '_ByStages_nc'\n",
    "\n",
    "\n",
    "Folder_A = 'A.The_full_year_MILP'\n",
    "Folder_D = 'D.Representative_days_based_on_RES_and_Demand'\n",
    "Folder_E = 'E.Representative_days_based_on_Line_Benefits_OptModel'\n",
    "Folder_F = 'F.Representative_days_based_on_Line_Benefit_NN_OC_fy_1'\n",
    "# Folder_G = 'G.Representative_days_based_on_Line_Benefit_NN_OC_fy_2'\n",
    "# Folder_H = 'H.Representative_days_based_on_Line_Benefit_NN_OC_fy_3'\n",
    "# Folder_I = 'I.Representative_days_based_on_Line_Benefit_NN_OC_fy_4'\n",
    "\n",
    "DirName  = os.getcwd()\n",
    "_path_0 = os.path.join(DirName, CaseName_Base)"
   ]
  },
  {
   "cell_type": "code",
   "execution_count": 5,
   "id": "0fbc8a89",
   "metadata": {},
   "outputs": [],
   "source": [
    "def LoadingData_FY(dir, folder, case, ncluster, cat1, cat2, cat3):\n",
    "    df = pd.read_csv(os.path.join(dir, folder, case, '3.Out', 'oT_Result_NetworkInvestment_'+case+'.csv'), index_col=[0,1])\n",
    "    df['CaseName'] = folder + ' - ' + case\n",
    "    df['Category1'] = cat1\n",
    "    df['Category2'] = cat2\n",
    "    df['Category3'] = cat3\n",
    "    df['Category4'] = ncluster\n",
    "    df = df.reset_index().set_index(['CaseName', 'Category1', 'Category2', 'Category3', 'Category4'])\n",
    "    # df = df.set_index('CaseName', append=True)\n",
    "    return df\n",
    "def LoadingData(dir, folder, case, ncluster, cat1, cat2, cat3):\n",
    "    df = pd.read_csv(os.path.join(dir, folder, case+str(ncluster), '3.Out', 'oT_Result_NetworkInvestment_'+case+str(ncluster)+'.csv'), index_col=[0,1])\n",
    "    df['CaseName'] = folder + ' - ' + case + str(ncluster)\n",
    "    df['Category1'] = cat1\n",
    "    df['Category2'] = cat2\n",
    "    df['Category3'] = cat3\n",
    "    df['Category4'] = ncluster\n",
    "    df = df.reset_index().set_index(['CaseName', 'Category1', 'Category2', 'Category3', 'Category4'])\n",
    "    # df = df.set_index('CaseName', append=True)\n",
    "    return df"
   ]
  },
  {
   "cell_type": "code",
   "execution_count": 52,
   "id": "846fab6c",
   "metadata": {},
   "outputs": [],
   "source": [
    "Folder_A_10 = LoadingData_FY(DirName, Folder_A, CaseName_Base, 10, 'A', '0.Full Year', 'MILP')\n",
    "Folder_A_20 = LoadingData_FY(DirName, Folder_A, CaseName_Base, 20, 'A', '0.Full Year', 'MILP')\n",
    "Folder_A_30 = LoadingData_FY(DirName, Folder_A, CaseName_Base, 30, 'A', '0.Full Year', 'MILP')\n",
    "Folder_A_40 = LoadingData_FY(DirName, Folder_A, CaseName_Base, 40, 'A', '0.Full Year', 'MILP')\n",
    "Folder_A_50 = LoadingData_FY(DirName, Folder_A, CaseName_Base, 50, 'A', '0.Full Year', 'MILP')\n",
    "Folder_A_60 = LoadingData_FY(DirName, Folder_A, CaseName_Base, 60, 'A', '0.Full Year', 'MILP')\n",
    "Folder_A_70 = LoadingData_FY(DirName, Folder_A, CaseName_Base, 70, 'A', '0.Full Year', 'MILP')\n",
    "Folder_A_80 = LoadingData_FY(DirName, Folder_A, CaseName_Base, 80, 'A', '0.Full Year', 'MILP')\n",
    "Folder_A_90 = LoadingData_FY(DirName, Folder_A, CaseName_Base, 90, 'A', '0.Full Year', 'MILP')\n",
    "Folder_A_100 = LoadingData_FY(DirName, Folder_A, CaseName_Base, 100, 'A', '0.Full Year', 'MILP')\n",
    "\n",
    "Folder_D_10 = LoadingData(DirName, Folder_D, CaseName_ByStages, 10, 'Representative Days', '1.RES and Demand', '1.OptModel')\n",
    "Folder_D_20 = LoadingData(DirName, Folder_D, CaseName_ByStages, 20, 'Representative Days', '1.RES and Demand', '1.OptModel')\n",
    "Folder_D_30 = LoadingData(DirName, Folder_D, CaseName_ByStages, 30, 'Representative Days', '1.RES and Demand', '1.OptModel')\n",
    "Folder_D_40 = LoadingData(DirName, Folder_D, CaseName_ByStages, 40, 'Representative Days', '1.RES and Demand', '1.OptModel')\n",
    "Folder_D_50 = LoadingData(DirName, Folder_D, CaseName_ByStages, 50, 'Representative Days', '1.RES and Demand', '1.OptModel')\n",
    "Folder_D_60 = LoadingData(DirName, Folder_D, CaseName_ByStages, 60, 'Representative Days', '1.RES and Demand', '1.OptModel')\n",
    "Folder_D_70 = LoadingData(DirName, Folder_D, CaseName_ByStages, 70, 'Representative Days', '1.RES and Demand', '1.OptModel')\n",
    "Folder_D_80 = LoadingData(DirName, Folder_D, CaseName_ByStages, 80, 'Representative Days', '1.RES and Demand', '1.OptModel')\n",
    "Folder_D_90 = LoadingData(DirName, Folder_D, CaseName_ByStages, 90, 'Representative Days', '1.RES and Demand', '1.OptModel')\n",
    "Folder_D_100 = LoadingData(DirName, Folder_D, CaseName_ByStages, 100, 'Representative Days', '1.RES and Demand', '1.OptModel')\n",
    "\n",
    "Folder_E_10 = LoadingData(DirName, Folder_E, CaseName_ByStages, 10, 'Representative Days', '2.Line Benefits', '1.OptModel')\n",
    "Folder_E_20 = LoadingData(DirName, Folder_E, CaseName_ByStages, 20, 'Representative Days', '2.Line Benefits', '1.OptModel')\n",
    "Folder_E_30 = LoadingData(DirName, Folder_E, CaseName_ByStages, 30, 'Representative Days', '2.Line Benefits', '1.OptModel')\n",
    "Folder_E_40 = LoadingData(DirName, Folder_E, CaseName_ByStages, 40, 'Representative Days', '2.Line Benefits', '1.OptModel')\n",
    "Folder_E_50 = LoadingData(DirName, Folder_E, CaseName_ByStages, 50, 'Representative Days', '2.Line Benefits', '1.OptModel')\n",
    "Folder_E_60 = LoadingData(DirName, Folder_E, CaseName_ByStages, 60, 'Representative Days', '2.Line Benefits', '1.OptModel')\n",
    "Folder_E_70 = LoadingData(DirName, Folder_E, CaseName_ByStages, 70, 'Representative Days', '2.Line Benefits', '1.OptModel')\n",
    "Folder_E_80 = LoadingData(DirName, Folder_E, CaseName_ByStages, 80, 'Representative Days', '2.Line Benefits', '1.OptModel')\n",
    "Folder_E_90 = LoadingData(DirName, Folder_E, CaseName_ByStages, 90, 'Representative Days', '2.Line Benefits', '1.OptModel')\n",
    "Folder_E_100 = LoadingData(DirName, Folder_E, CaseName_ByStages, 100, 'Representative Days', '2.Line Benefits', '1.OptModel')\n",
    "\n",
    "Folder_F_10 = LoadingData(DirName, Folder_F, CaseName_ByStages, 10, 'Representative Days', '2.Line Benefits', '2.NN_OC_fy_1')\n",
    "Folder_F_20 = LoadingData(DirName, Folder_F, CaseName_ByStages, 20, 'Representative Days', '2.Line Benefits', '2.NN_OC_fy_1')\n",
    "Folder_F_30 = LoadingData(DirName, Folder_F, CaseName_ByStages, 30, 'Representative Days', '2.Line Benefits', '2.NN_OC_fy_1')\n",
    "Folder_F_40 = LoadingData(DirName, Folder_F, CaseName_ByStages, 40, 'Representative Days', '2.Line Benefits', '2.NN_OC_fy_1')\n",
    "Folder_F_50 = LoadingData(DirName, Folder_F, CaseName_ByStages, 50, 'Representative Days', '2.Line Benefits', '2.NN_OC_fy_1')\n",
    "Folder_F_60 = LoadingData(DirName, Folder_F, CaseName_ByStages, 60, 'Representative Days', '2.Line Benefits', '2.NN_OC_fy_1')\n",
    "Folder_F_70 = LoadingData(DirName, Folder_F, CaseName_ByStages, 70, 'Representative Days', '2.Line Benefits', '2.NN_OC_fy_1')\n",
    "Folder_F_80 = LoadingData(DirName, Folder_F, CaseName_ByStages, 80, 'Representative Days', '2.Line Benefits', '2.NN_OC_fy_1')\n",
    "Folder_F_90 = LoadingData(DirName, Folder_F, CaseName_ByStages, 90, 'Representative Days', '2.Line Benefits', '2.NN_OC_fy_1')\n",
    "Folder_F_100 = LoadingData(DirName, Folder_F, CaseName_ByStages, 100, 'Representative Days', '2.Line Benefits', '2.NN_OC_fy_1')"
   ]
  },
  {
   "cell_type": "code",
   "execution_count": 53,
   "id": "d32effe2",
   "metadata": {},
   "outputs": [],
   "source": [
    "df_A = pd.concat([Folder_A_10, Folder_A_20, Folder_A_30, Folder_A_40, Folder_A_50, Folder_A_60, Folder_A_70, Folder_A_80, Folder_A_90, Folder_A_100], axis=0)\n",
    "df_D = pd.concat([Folder_D_10, Folder_D_20, Folder_D_30, Folder_D_40, Folder_D_50, Folder_D_60, Folder_D_70, Folder_D_80, Folder_D_90, Folder_D_100], axis=0)\n",
    "df_E = pd.concat([Folder_E_10, Folder_E_20, Folder_E_30, Folder_E_40, Folder_E_50, Folder_E_60, Folder_E_70, Folder_E_80, Folder_E_90, Folder_E_100], axis=0)\n",
    "df_F = pd.concat([Folder_F_10, Folder_F_20, Folder_F_30, Folder_F_40, Folder_F_50, Folder_F_60, Folder_F_70, Folder_F_80, Folder_F_90, Folder_F_100], axis=0)"
   ]
  },
  {
   "cell_type": "code",
   "execution_count": 54,
   "id": "5b6fc0a2",
   "metadata": {},
   "outputs": [],
   "source": [
    "df = pd.concat([df_A, df_D, df_E, df_F], axis=0)"
   ]
  },
  {
   "cell_type": "code",
   "execution_count": 55,
   "id": "d592c4f6",
   "metadata": {},
   "outputs": [
    {
     "data": {
      "text/html": [
       "<div>\n",
       "<style scoped>\n",
       "    .dataframe tbody tr th:only-of-type {\n",
       "        vertical-align: middle;\n",
       "    }\n",
       "\n",
       "    .dataframe tbody tr th {\n",
       "        vertical-align: top;\n",
       "    }\n",
       "\n",
       "    .dataframe thead th {\n",
       "        text-align: right;\n",
       "    }\n",
       "</style>\n",
       "<table border=\"1\" class=\"dataframe\">\n",
       "  <thead>\n",
       "    <tr style=\"text-align: right;\">\n",
       "      <th></th>\n",
       "      <th></th>\n",
       "      <th></th>\n",
       "      <th></th>\n",
       "      <th></th>\n",
       "      <th>Period</th>\n",
       "      <th>InitialNode</th>\n",
       "      <th>FinalNode</th>\n",
       "      <th>Circuit</th>\n",
       "      <th>p.u.</th>\n",
       "    </tr>\n",
       "    <tr>\n",
       "      <th>CaseName</th>\n",
       "      <th>Category1</th>\n",
       "      <th>Category2</th>\n",
       "      <th>Category3</th>\n",
       "      <th>Category4</th>\n",
       "      <th></th>\n",
       "      <th></th>\n",
       "      <th></th>\n",
       "      <th></th>\n",
       "      <th></th>\n",
       "    </tr>\n",
       "  </thead>\n",
       "  <tbody>\n",
       "    <tr>\n",
       "      <th rowspan=\"11\" valign=\"top\">A.The_full_year_MILP - RTS24</th>\n",
       "      <th rowspan=\"11\" valign=\"top\">A</th>\n",
       "      <th rowspan=\"11\" valign=\"top\">0.Full Year</th>\n",
       "      <th rowspan=\"11\" valign=\"top\">MILP</th>\n",
       "      <th>10</th>\n",
       "      <td>2030</td>\n",
       "      <td>N_109</td>\n",
       "      <td>N_111</td>\n",
       "      <td>cac1</td>\n",
       "      <td>0.0</td>\n",
       "    </tr>\n",
       "    <tr>\n",
       "      <th>10</th>\n",
       "      <td>2030</td>\n",
       "      <td>N_119</td>\n",
       "      <td>N_120</td>\n",
       "      <td>cac2</td>\n",
       "      <td>0.0</td>\n",
       "    </tr>\n",
       "    <tr>\n",
       "      <th>10</th>\n",
       "      <td>2030</td>\n",
       "      <td>N_116</td>\n",
       "      <td>N_119</td>\n",
       "      <td>cac1</td>\n",
       "      <td>0.0</td>\n",
       "    </tr>\n",
       "    <tr>\n",
       "      <th>10</th>\n",
       "      <td>2030</td>\n",
       "      <td>N_118</td>\n",
       "      <td>N_121</td>\n",
       "      <td>cac1</td>\n",
       "      <td>1.0</td>\n",
       "    </tr>\n",
       "    <tr>\n",
       "      <th>10</th>\n",
       "      <td>2030</td>\n",
       "      <td>N_101</td>\n",
       "      <td>N_102</td>\n",
       "      <td>cac1</td>\n",
       "      <td>0.0</td>\n",
       "    </tr>\n",
       "    <tr>\n",
       "      <th>...</th>\n",
       "      <td>...</td>\n",
       "      <td>...</td>\n",
       "      <td>...</td>\n",
       "      <td>...</td>\n",
       "      <td>...</td>\n",
       "    </tr>\n",
       "    <tr>\n",
       "      <th>100</th>\n",
       "      <td>2030</td>\n",
       "      <td>N_116</td>\n",
       "      <td>N_117</td>\n",
       "      <td>cac1</td>\n",
       "      <td>1.0</td>\n",
       "    </tr>\n",
       "    <tr>\n",
       "      <th>100</th>\n",
       "      <td>2030</td>\n",
       "      <td>N_101</td>\n",
       "      <td>N_103</td>\n",
       "      <td>cac1</td>\n",
       "      <td>0.0</td>\n",
       "    </tr>\n",
       "    <tr>\n",
       "      <th>100</th>\n",
       "      <td>2030</td>\n",
       "      <td>N_115</td>\n",
       "      <td>N_121</td>\n",
       "      <td>cac2</td>\n",
       "      <td>1.0</td>\n",
       "    </tr>\n",
       "    <tr>\n",
       "      <th>100</th>\n",
       "      <td>2030</td>\n",
       "      <td>N_112</td>\n",
       "      <td>N_113</td>\n",
       "      <td>cac1</td>\n",
       "      <td>0.0</td>\n",
       "    </tr>\n",
       "    <tr>\n",
       "      <th>100</th>\n",
       "      <td>2030</td>\n",
       "      <td>N_113</td>\n",
       "      <td>N_123</td>\n",
       "      <td>cac1</td>\n",
       "      <td>0.0</td>\n",
       "    </tr>\n",
       "  </tbody>\n",
       "</table>\n",
       "<p>390 rows × 5 columns</p>\n",
       "</div>"
      ],
      "text/plain": [
       "                                                                        Period   \n",
       "CaseName                     Category1 Category2   Category3 Category4           \n",
       "A.The_full_year_MILP - RTS24 A         0.Full Year MILP      10           2030  \\\n",
       "                                                             10           2030   \n",
       "                                                             10           2030   \n",
       "                                                             10           2030   \n",
       "                                                             10           2030   \n",
       "...                                                                        ...   \n",
       "                                                             100          2030   \n",
       "                                                             100          2030   \n",
       "                                                             100          2030   \n",
       "                                                             100          2030   \n",
       "                                                             100          2030   \n",
       "\n",
       "                                                                       InitialNode   \n",
       "CaseName                     Category1 Category2   Category3 Category4               \n",
       "A.The_full_year_MILP - RTS24 A         0.Full Year MILP      10              N_109  \\\n",
       "                                                             10              N_119   \n",
       "                                                             10              N_116   \n",
       "                                                             10              N_118   \n",
       "                                                             10              N_101   \n",
       "...                                                                            ...   \n",
       "                                                             100             N_116   \n",
       "                                                             100             N_101   \n",
       "                                                             100             N_115   \n",
       "                                                             100             N_112   \n",
       "                                                             100             N_113   \n",
       "\n",
       "                                                                       FinalNode   \n",
       "CaseName                     Category1 Category2   Category3 Category4             \n",
       "A.The_full_year_MILP - RTS24 A         0.Full Year MILP      10            N_111  \\\n",
       "                                                             10            N_120   \n",
       "                                                             10            N_119   \n",
       "                                                             10            N_121   \n",
       "                                                             10            N_102   \n",
       "...                                                                          ...   \n",
       "                                                             100           N_117   \n",
       "                                                             100           N_103   \n",
       "                                                             100           N_121   \n",
       "                                                             100           N_113   \n",
       "                                                             100           N_123   \n",
       "\n",
       "                                                                       Circuit   \n",
       "CaseName                     Category1 Category2   Category3 Category4           \n",
       "A.The_full_year_MILP - RTS24 A         0.Full Year MILP      10           cac1  \\\n",
       "                                                             10           cac2   \n",
       "                                                             10           cac1   \n",
       "                                                             10           cac1   \n",
       "                                                             10           cac1   \n",
       "...                                                                        ...   \n",
       "                                                             100          cac1   \n",
       "                                                             100          cac1   \n",
       "                                                             100          cac2   \n",
       "                                                             100          cac1   \n",
       "                                                             100          cac1   \n",
       "\n",
       "                                                                        p.u.  \n",
       "CaseName                     Category1 Category2   Category3 Category4        \n",
       "A.The_full_year_MILP - RTS24 A         0.Full Year MILP      10          0.0  \n",
       "                                                             10          0.0  \n",
       "                                                             10          0.0  \n",
       "                                                             10          1.0  \n",
       "                                                             10          0.0  \n",
       "...                                                                      ...  \n",
       "                                                             100         1.0  \n",
       "                                                             100         0.0  \n",
       "                                                             100         1.0  \n",
       "                                                             100         0.0  \n",
       "                                                             100         0.0  \n",
       "\n",
       "[390 rows x 5 columns]"
      ]
     },
     "execution_count": 55,
     "metadata": {},
     "output_type": "execute_result"
    }
   ],
   "source": [
    "df_A"
   ]
  },
  {
   "cell_type": "code",
   "execution_count": 87,
   "id": "a01dd4f5",
   "metadata": {},
   "outputs": [],
   "source": [
    "df_diff_D = df_A.reset_index().set_index([\"InitialNode\",\"FinalNode\",\"Circuit\",\"Category4\"])[\"p.u.\"] -df_D.reset_index().set_index([\"InitialNode\",\"FinalNode\",\"Circuit\",\"Category4\"])[\"p.u.\"]\n",
    "df_diff_E = df_A.reset_index().set_index([\"InitialNode\",\"FinalNode\",\"Circuit\",\"Category4\"])[\"p.u.\"] -df_E.reset_index().set_index([\"InitialNode\",\"FinalNode\",\"Circuit\",\"Category4\"])[\"p.u.\"]\n",
    "df_diff_F = df_A.reset_index().set_index([\"InitialNode\",\"FinalNode\",\"Circuit\",\"Category4\"])[\"p.u.\"] -df_F.reset_index().set_index([\"InitialNode\",\"FinalNode\",\"Circuit\",\"Category4\"])[\"p.u.\"]\n"
   ]
  },
  {
   "cell_type": "code",
   "execution_count": 88,
   "id": "de3a80a5",
   "metadata": {},
   "outputs": [],
   "source": [
    "df_diff_D = df_diff_D.reset_index()\n",
    "df_diff_D[\"p.u. abs\"] = df_diff_D[\"p.u.\"].abs()\n",
    "df_diff_D[\"Folder\"] = \"D\"\n",
    "\n",
    "df_diff_E = df_diff_E.reset_index()\n",
    "df_diff_E[\"p.u. abs\"] = df_diff_E[\"p.u.\"].abs()\n",
    "df_diff_E[\"Folder\"] = \"E\"\n",
    "\n",
    "df_diff_F = df_diff_F.reset_index()\n",
    "df_diff_F[\"p.u. abs\"] = df_diff_F[\"p.u.\"].abs()\n",
    "df_diff_F[\"Folder\"] = \"F\"\n",
    "\n"
   ]
  },
  {
   "cell_type": "code",
   "execution_count": 89,
   "id": "99360439",
   "metadata": {},
   "outputs": [],
   "source": [
    "df_diffs = pd.concat([df_diff_D,df_diff_E,df_diff_F])"
   ]
  },
  {
   "cell_type": "code",
   "execution_count": 91,
   "id": "17914f8f",
   "metadata": {},
   "outputs": [
    {
     "data": {
      "text/plain": [
       "<Axes: xlabel='Category4'>"
      ]
     },
     "execution_count": 91,
     "metadata": {},
     "output_type": "execute_result"
    },
    {
     "data": {
      "image/png": "[encoded data removed]",
      "text/plain": [
       "<Figure size 640x480 with 1 Axes>"
      ]
     },
     "metadata": {},
     "output_type": "display_data"
    }
   ],
   "source": [
    "df_diffs.pivot_table(values = \"p.u.\",columns = \"Folder\",index = \"Category4\",aggfunc =\"sum\").plot(kind = \"bar\")"
   ]
  },
  {
   "cell_type": "code",
   "execution_count": 96,
   "id": "4df6294a",
   "metadata": {},
   "outputs": [
    {
     "data": {
      "text/plain": [
       "<Axes: xlabel='Category4'>"
      ]
     },
     "execution_count": 96,
     "metadata": {},
     "output_type": "execute_result"
    },
    {
     "data": {
      "image/png": "[encoded data removed]",
      "text/plain": [
       "<Figure size 640x480 with 1 Axes>"
      ]
     },
     "metadata": {},
     "output_type": "display_data"
    }
   ],
   "source": [
    "df_diffs.pivot_table(values = \"p.u. abs\",columns = \"Folder\",index = \"Category4\",aggfunc =\"sum\").plot()"
   ]
  }
 ],
 "metadata": {
  "kernelspec": {
   "display_name": "Python 3 (ipykernel)",
   "language": "python",
   "name": "python3"
  },
  "language_info": {
   "codemirror_mode": {
    "name": "ipython",
    "version": 3
   },
   "file_extension": ".py",
   "mimetype": "text/x-python",
   "name": "python",
   "nbconvert_exporter": "python",
   "pygments_lexer": "ipython3",
   "version": "3.10.11"
  }
 },
 "nbformat": 4,
 "nbformat_minor": 5
}
