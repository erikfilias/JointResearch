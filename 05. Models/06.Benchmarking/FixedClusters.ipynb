{
 "cells": [
  {
   "cell_type": "code",
   "execution_count": 207,
   "metadata": {},
   "outputs": [],
   "source": [
    "import os\n",
    "import altair as alt\n",
    "import pandas as pd"
   ]
  },
  {
   "cell_type": "code",
   "execution_count": 208,
   "metadata": {},
   "outputs": [],
   "source": [
    "CaseName_Base = '9n'\n",
    "CaseName_ByStages = CaseName_Base + '_ByStages_nc'"
   ]
  },
  {
   "cell_type": "code",
   "execution_count": 209,
   "metadata": {},
   "outputs": [],
   "source": [
    "DirName  = os.getcwd()"
   ]
  },
  {
   "cell_type": "code",
   "execution_count": 210,
   "metadata": {},
   "outputs": [],
   "source": [
    "Folder_A = 'A.The_full_year_MILP'\n",
    "Folder_D = 'D.Representative_days_based_on_RES_and_Demand'\n",
    "Folder_E = 'E.Representative_days_based_on_Line_Benefits_OptModel'\n",
    "Folder_F = 'F.Representative_days_based_on_Line_Benefit_NN_OC_fy_1'\n",
    "Folder_G = 'G.Representative_days_based_on_Line_Benefit_NN_OC_fy_2'\n",
    "Folder_H = 'H.Representative_days_based_on_Line_Benefit_NN_OC_fy_3'\n",
    "Folder_I = 'I.Representative_days_based_on_Line_Benefit_NN_OC_fy_4'"
   ]
  },
  {
   "cell_type": "code",
   "execution_count": 211,
   "metadata": {},
   "outputs": [],
   "source": [
    "def LoadingData_FY(dir, folder, case, ncluster, cat1, cat2, cat3):\n",
    "    df = pd.read_csv(os.path.join(dir, folder, case, '3.Out', 'oT_Result_CostSummary_'+case+'.csv'), index_col=[0,1])\n",
    "    df['CaseName'] = folder + ' - ' + case\n",
    "    df['Category1'] = cat1\n",
    "    df['Category2'] = cat2\n",
    "    df['Category3'] = cat3\n",
    "    df['Category4'] = ncluster\n",
    "    df = df.reset_index().set_index(['CaseName', 'Category1', 'Category2', 'Category3', 'Category4'])\n",
    "    # df = df.set_index('CaseName', append=True)\n",
    "    return df"
   ]
  },
  {
   "cell_type": "code",
   "execution_count": 212,
   "metadata": {},
   "outputs": [],
   "source": [
    "def LoadingData(dir, folder, case, ncluster, cat1, cat2, cat3):\n",
    "    df = pd.read_csv(os.path.join(dir, folder, case+str(ncluster), '3.Out', 'oT_Result_CostSummary_'+case+str(ncluster)+'.csv'), index_col=[0,1])\n",
    "    df['CaseName'] = folder + ' - ' + case + str(ncluster)\n",
    "    df['Category1'] = cat1\n",
    "    df['Category2'] = cat2\n",
    "    df['Category3'] = cat3\n",
    "    df['Category4'] = ncluster\n",
    "    df = df.reset_index().set_index(['CaseName', 'Category1', 'Category2', 'Category3', 'Category4'])\n",
    "    # df = df.set_index('CaseName', append=True)\n",
    "    return df"
   ]
  },
  {
   "cell_type": "code",
   "execution_count": 213,
   "metadata": {},
   "outputs": [],
   "source": [
    "Folder_A_10 = LoadingData_FY(DirName, Folder_A, CaseName_Base, 10, 'A', '0.Full Year', 'MILP')\n",
    "Folder_A_20 = LoadingData_FY(DirName, Folder_A, CaseName_Base, 20, 'A', '0.Full Year', 'MILP')\n",
    "Folder_A_30 = LoadingData_FY(DirName, Folder_A, CaseName_Base, 30, 'A', '0.Full Year', 'MILP')\n",
    "Folder_A_40 = LoadingData_FY(DirName, Folder_A, CaseName_Base, 40, 'A', '0.Full Year', 'MILP')\n",
    "Folder_A_50 = LoadingData_FY(DirName, Folder_A, CaseName_Base, 50, 'A', '0.Full Year', 'MILP')\n",
    "Folder_A_60 = LoadingData_FY(DirName, Folder_A, CaseName_Base, 60, 'A', '0.Full Year', 'MILP')\n",
    "Folder_A_70 = LoadingData_FY(DirName, Folder_A, CaseName_Base, 70, 'A', '0.Full Year', 'MILP')\n",
    "Folder_A_80 = LoadingData_FY(DirName, Folder_A, CaseName_Base, 80, 'A', '0.Full Year', 'MILP')\n",
    "Folder_A_90 = LoadingData_FY(DirName, Folder_A, CaseName_Base, 90, 'A', '0.Full Year', 'MILP')\n",
    "Folder_A_100 = LoadingData_FY(DirName, Folder_A, CaseName_Base, 100, 'A', '0.Full Year', 'MILP')"
   ]
  },
  {
   "cell_type": "code",
   "execution_count": 214,
   "metadata": {},
   "outputs": [],
   "source": [
    "df_A = pd.concat([Folder_A_10, Folder_A_20, Folder_A_30, Folder_A_40, Folder_A_50, Folder_A_60, Folder_A_70, Folder_A_80, Folder_A_90, Folder_A_100], axis=0)"
   ]
  },
  {
   "cell_type": "code",
   "execution_count": 215,
   "metadata": {},
   "outputs": [],
   "source": [
    "Folder_D_10 = LoadingData(DirName, Folder_D, CaseName_ByStages, 10, 'Representative Days', '1.RES and Demand', '1.OptModel')\n",
    "Folder_D_20 = LoadingData(DirName, Folder_D, CaseName_ByStages, 20, 'Representative Days', '1.RES and Demand', '1.OptModel')\n",
    "Folder_D_30 = LoadingData(DirName, Folder_D, CaseName_ByStages, 30, 'Representative Days', '1.RES and Demand', '1.OptModel')\n",
    "Folder_D_40 = LoadingData(DirName, Folder_D, CaseName_ByStages, 40, 'Representative Days', '1.RES and Demand', '1.OptModel')\n",
    "Folder_D_50 = LoadingData(DirName, Folder_D, CaseName_ByStages, 50, 'Representative Days', '1.RES and Demand', '1.OptModel')\n",
    "Folder_D_60 = LoadingData(DirName, Folder_D, CaseName_ByStages, 60, 'Representative Days', '1.RES and Demand', '1.OptModel')\n",
    "Folder_D_70 = LoadingData(DirName, Folder_D, CaseName_ByStages, 70, 'Representative Days', '1.RES and Demand', '1.OptModel')\n",
    "Folder_D_80 = LoadingData(DirName, Folder_D, CaseName_ByStages, 80, 'Representative Days', '1.RES and Demand', '1.OptModel')\n",
    "Folder_D_90 = LoadingData(DirName, Folder_D, CaseName_ByStages, 90, 'Representative Days', '1.RES and Demand', '1.OptModel')\n",
    "Folder_D_100 = LoadingData(DirName, Folder_D, CaseName_ByStages, 100, 'Representative Days', '1.RES and Demand', '1.OptModel')"
   ]
  },
  {
   "cell_type": "code",
   "execution_count": 216,
   "metadata": {},
   "outputs": [],
   "source": [
    "Folder_E_10 = LoadingData(DirName, Folder_E, CaseName_ByStages, 10, 'Representative Days', '2.Line Benefits', '1.OptModel')\n",
    "Folder_E_20 = LoadingData(DirName, Folder_E, CaseName_ByStages, 20, 'Representative Days', '2.Line Benefits', '1.OptModel')\n",
    "Folder_E_30 = LoadingData(DirName, Folder_E, CaseName_ByStages, 30, 'Representative Days', '2.Line Benefits', '1.OptModel')\n",
    "Folder_E_40 = LoadingData(DirName, Folder_E, CaseName_ByStages, 40, 'Representative Days', '2.Line Benefits', '1.OptModel')\n",
    "Folder_E_50 = LoadingData(DirName, Folder_E, CaseName_ByStages, 50, 'Representative Days', '2.Line Benefits', '1.OptModel')\n",
    "Folder_E_60 = LoadingData(DirName, Folder_E, CaseName_ByStages, 60, 'Representative Days', '2.Line Benefits', '1.OptModel')\n",
    "Folder_E_70 = LoadingData(DirName, Folder_E, CaseName_ByStages, 70, 'Representative Days', '2.Line Benefits', '1.OptModel')\n",
    "Folder_E_80 = LoadingData(DirName, Folder_E, CaseName_ByStages, 80, 'Representative Days', '2.Line Benefits', '1.OptModel')\n",
    "Folder_E_90 = LoadingData(DirName, Folder_E, CaseName_ByStages, 90, 'Representative Days', '2.Line Benefits', '1.OptModel')\n",
    "Folder_E_100 = LoadingData(DirName, Folder_E, CaseName_ByStages, 100, 'Representative Days', '2.Line Benefits', '1.OptModel')"
   ]
  },
  {
   "cell_type": "code",
   "execution_count": 217,
   "metadata": {},
   "outputs": [],
   "source": [
    "Folder_F_10 = LoadingData(DirName, Folder_F, CaseName_ByStages, 10, 'Representative Days', '2.Line Benefits', '2.NN_OC_fy_1')\n",
    "Folder_F_20 = LoadingData(DirName, Folder_F, CaseName_ByStages, 20, 'Representative Days', '2.Line Benefits', '2.NN_OC_fy_1')\n",
    "Folder_F_30 = LoadingData(DirName, Folder_F, CaseName_ByStages, 30, 'Representative Days', '2.Line Benefits', '2.NN_OC_fy_1')\n",
    "Folder_F_40 = LoadingData(DirName, Folder_F, CaseName_ByStages, 40, 'Representative Days', '2.Line Benefits', '2.NN_OC_fy_1')\n",
    "Folder_F_50 = LoadingData(DirName, Folder_F, CaseName_ByStages, 50, 'Representative Days', '2.Line Benefits', '2.NN_OC_fy_1')\n",
    "Folder_F_60 = LoadingData(DirName, Folder_F, CaseName_ByStages, 60, 'Representative Days', '2.Line Benefits', '2.NN_OC_fy_1')\n",
    "Folder_F_70 = LoadingData(DirName, Folder_F, CaseName_ByStages, 70, 'Representative Days', '2.Line Benefits', '2.NN_OC_fy_1')\n",
    "Folder_F_80 = LoadingData(DirName, Folder_F, CaseName_ByStages, 80, 'Representative Days', '2.Line Benefits', '2.NN_OC_fy_1')\n",
    "Folder_F_90 = LoadingData(DirName, Folder_F, CaseName_ByStages, 90, 'Representative Days', '2.Line Benefits', '2.NN_OC_fy_1')\n",
    "Folder_F_100 = LoadingData(DirName, Folder_F, CaseName_ByStages, 100, 'Representative Days', '2.Line Benefits', '2.NN_OC_fy_1')"
   ]
  },
  {
   "cell_type": "code",
   "execution_count": 218,
   "metadata": {},
   "outputs": [],
   "source": [
    "Folder_G_10 = LoadingData(DirName, Folder_G, CaseName_ByStages, 10, 'Representative Days', '2.Line Benefits', '3.NN_OC_fy_2')\n",
    "Folder_G_20 = LoadingData(DirName, Folder_G, CaseName_ByStages, 20, 'Representative Days', '2.Line Benefits', '3.NN_OC_fy_2')\n",
    "Folder_G_30 = LoadingData(DirName, Folder_G, CaseName_ByStages, 30, 'Representative Days', '2.Line Benefits', '3.NN_OC_fy_2')\n",
    "Folder_G_40 = LoadingData(DirName, Folder_G, CaseName_ByStages, 40, 'Representative Days', '2.Line Benefits', '3.NN_OC_fy_2')\n",
    "Folder_G_50 = LoadingData(DirName, Folder_G, CaseName_ByStages, 50, 'Representative Days', '2.Line Benefits', '3.NN_OC_fy_2')\n",
    "Folder_G_60 = LoadingData(DirName, Folder_G, CaseName_ByStages, 60, 'Representative Days', '2.Line Benefits', '3.NN_OC_fy_2')\n",
    "Folder_G_70 = LoadingData(DirName, Folder_G, CaseName_ByStages, 70, 'Representative Days', '2.Line Benefits', '3.NN_OC_fy_2')\n",
    "Folder_G_80 = LoadingData(DirName, Folder_G, CaseName_ByStages, 80, 'Representative Days', '2.Line Benefits', '3.NN_OC_fy_2')\n",
    "Folder_G_90 = LoadingData(DirName, Folder_G, CaseName_ByStages, 90, 'Representative Days', '2.Line Benefits', '3.NN_OC_fy_2')\n",
    "Folder_G_100 = LoadingData(DirName, Folder_G, CaseName_ByStages, 100, 'Representative Days', '2.Line Benefits', '3.NN_OC_fy_2')"
   ]
  },
  {
   "cell_type": "code",
   "execution_count": 219,
   "metadata": {},
   "outputs": [],
   "source": [
    "Folder_H_10 = LoadingData(DirName, Folder_H, CaseName_ByStages, 10, 'Representative Days', '2.Line Benefits', '4.NN_OC_fy_3')\n",
    "Folder_H_20 = LoadingData(DirName, Folder_H, CaseName_ByStages, 20, 'Representative Days', '2.Line Benefits', '4.NN_OC_fy_3')\n",
    "Folder_H_30 = LoadingData(DirName, Folder_H, CaseName_ByStages, 30, 'Representative Days', '2.Line Benefits', '4.NN_OC_fy_3')\n",
    "Folder_H_40 = LoadingData(DirName, Folder_H, CaseName_ByStages, 40, 'Representative Days', '2.Line Benefits', '4.NN_OC_fy_3')\n",
    "Folder_H_50 = LoadingData(DirName, Folder_H, CaseName_ByStages, 50, 'Representative Days', '2.Line Benefits', '4.NN_OC_fy_3')\n",
    "Folder_H_60 = LoadingData(DirName, Folder_H, CaseName_ByStages, 60, 'Representative Days', '2.Line Benefits', '4.NN_OC_fy_3')\n",
    "Folder_H_70 = LoadingData(DirName, Folder_H, CaseName_ByStages, 70, 'Representative Days', '2.Line Benefits', '4.NN_OC_fy_3')\n",
    "Folder_H_80 = LoadingData(DirName, Folder_H, CaseName_ByStages, 80, 'Representative Days', '2.Line Benefits', '4.NN_OC_fy_3')\n",
    "Folder_H_90 = LoadingData(DirName, Folder_H, CaseName_ByStages, 90, 'Representative Days', '2.Line Benefits', '4.NN_OC_fy_3')\n",
    "Folder_H_100 = LoadingData(DirName, Folder_H, CaseName_ByStages, 100, 'Representative Days', '2.Line Benefits', '4.NN_OC_fy_3')"
   ]
  },
  {
   "cell_type": "code",
   "execution_count": 220,
   "metadata": {},
   "outputs": [],
   "source": [
    "Folder_I_10 = LoadingData(DirName, Folder_I, CaseName_ByStages, 10, 'Representative Days', '2.Line Benefits', '5.NN_OC_fy_4')\n",
    "Folder_I_20 = LoadingData(DirName, Folder_I, CaseName_ByStages, 20, 'Representative Days', '2.Line Benefits', '5.NN_OC_fy_4')\n",
    "Folder_I_30 = LoadingData(DirName, Folder_I, CaseName_ByStages, 30, 'Representative Days', '2.Line Benefits', '5.NN_OC_fy_4')\n",
    "Folder_I_40 = LoadingData(DirName, Folder_I, CaseName_ByStages, 40, 'Representative Days', '2.Line Benefits', '5.NN_OC_fy_4')\n",
    "Folder_I_50 = LoadingData(DirName, Folder_I, CaseName_ByStages, 50, 'Representative Days', '2.Line Benefits', '5.NN_OC_fy_4')\n",
    "Folder_I_60 = LoadingData(DirName, Folder_I, CaseName_ByStages, 60, 'Representative Days', '2.Line Benefits', '5.NN_OC_fy_4')\n",
    "Folder_I_70 = LoadingData(DirName, Folder_I, CaseName_ByStages, 70, 'Representative Days', '2.Line Benefits', '5.NN_OC_fy_4')\n",
    "Folder_I_80 = LoadingData(DirName, Folder_I, CaseName_ByStages, 80, 'Representative Days', '2.Line Benefits', '5.NN_OC_fy_4')\n",
    "Folder_I_90 = LoadingData(DirName, Folder_I, CaseName_ByStages, 90, 'Representative Days', '2.Line Benefits', '5.NN_OC_fy_4')\n",
    "Folder_I_100 = LoadingData(DirName, Folder_I, CaseName_ByStages, 100, 'Representative Days', '2.Line Benefits', '5.NN_OC_fy_4')"
   ]
  },
  {
   "cell_type": "code",
   "execution_count": 221,
   "metadata": {},
   "outputs": [],
   "source": [
    "df_D = pd.concat([Folder_D_10, Folder_D_20, Folder_D_30, Folder_D_40, Folder_D_50, Folder_D_60, Folder_D_70, Folder_D_80, Folder_D_90, Folder_D_100], axis=0)"
   ]
  },
  {
   "cell_type": "code",
   "execution_count": 222,
   "metadata": {},
   "outputs": [],
   "source": [
    "df_E = pd.concat([Folder_E_10, Folder_E_20, Folder_E_30, Folder_E_40, Folder_E_50, Folder_E_60, Folder_E_70, Folder_E_80, Folder_E_90, Folder_E_100], axis=0)"
   ]
  },
  {
   "cell_type": "code",
   "execution_count": 223,
   "metadata": {},
   "outputs": [],
   "source": [
    "df_F = pd.concat([Folder_F_10, Folder_F_20, Folder_F_30, Folder_F_40, Folder_F_50, Folder_F_60, Folder_F_70, Folder_F_80, Folder_F_90, Folder_F_100], axis=0)"
   ]
  },
  {
   "cell_type": "code",
   "execution_count": 224,
   "metadata": {},
   "outputs": [],
   "source": [
    "df_G = pd.concat([Folder_G_10, Folder_G_20, Folder_G_30, Folder_G_40, Folder_G_50, Folder_G_60, Folder_G_70, Folder_G_80, Folder_G_90, Folder_G_100], axis=0)"
   ]
  },
  {
   "cell_type": "code",
   "execution_count": 225,
   "metadata": {},
   "outputs": [],
   "source": [
    "df_H = pd.concat([Folder_H_10, Folder_H_20, Folder_H_30, Folder_H_40, Folder_H_50, Folder_H_60, Folder_H_70, Folder_H_80, Folder_H_90, Folder_H_100], axis=0)"
   ]
  },
  {
   "cell_type": "code",
   "execution_count": 226,
   "metadata": {},
   "outputs": [],
   "source": [
    "df_I = pd.concat([Folder_I_10, Folder_I_20, Folder_I_30, Folder_I_40, Folder_I_50, Folder_I_60, Folder_I_70, Folder_I_80, Folder_I_90, Folder_I_100], axis=0)"
   ]
  },
  {
   "cell_type": "code",
   "execution_count": 227,
   "metadata": {},
   "outputs": [],
   "source": [
    "df = pd.concat([df_A, df_D, df_E, df_F, df_G, df_H, df_I], axis=0)"
   ]
  },
  {
   "cell_type": "code",
   "execution_count": 228,
   "metadata": {},
   "outputs": [],
   "source": [
    "df = df.reset_index()"
   ]
  },
  {
   "cell_type": "code",
   "execution_count": 229,
   "metadata": {},
   "outputs": [
    {
     "data": {
      "text/html": [
       "<div>\n",
       "<style scoped>\n",
       "    .dataframe tbody tr th:only-of-type {\n",
       "        vertical-align: middle;\n",
       "    }\n",
       "\n",
       "    .dataframe tbody tr th {\n",
       "        vertical-align: top;\n",
       "    }\n",
       "\n",
       "    .dataframe thead th {\n",
       "        text-align: right;\n",
       "    }\n",
       "</style>\n",
       "<table border=\"1\" class=\"dataframe\">\n",
       "  <thead>\n",
       "    <tr style=\"text-align: right;\">\n",
       "      <th></th>\n",
       "      <th>CaseName</th>\n",
       "      <th>Category1</th>\n",
       "      <th>Category2</th>\n",
       "      <th>Category3</th>\n",
       "      <th>Category4</th>\n",
       "      <th>Period</th>\n",
       "      <th>Cost/Payment</th>\n",
       "      <th>MEUR</th>\n",
       "    </tr>\n",
       "  </thead>\n",
       "  <tbody>\n",
       "    <tr>\n",
       "      <th>0</th>\n",
       "      <td>A.The_full_year_MILP - 3-bus</td>\n",
       "      <td>A</td>\n",
       "      <td>0.Full Year</td>\n",
       "      <td>MILP</td>\n",
       "      <td>10</td>\n",
       "      <td></td>\n",
       "      <td>Total          System Cost</td>\n",
       "      <td>174.568533</td>\n",
       "    </tr>\n",
       "    <tr>\n",
       "      <th>1</th>\n",
       "      <td>A.The_full_year_MILP - 3-bus</td>\n",
       "      <td>A</td>\n",
       "      <td>0.Full Year</td>\n",
       "      <td>MILP</td>\n",
       "      <td>10</td>\n",
       "      <td>2030</td>\n",
       "      <td>Generation Investment Cost</td>\n",
       "      <td>0.000000</td>\n",
       "    </tr>\n",
       "    <tr>\n",
       "      <th>2</th>\n",
       "      <td>A.The_full_year_MILP - 3-bus</td>\n",
       "      <td>A</td>\n",
       "      <td>0.Full Year</td>\n",
       "      <td>MILP</td>\n",
       "      <td>10</td>\n",
       "      <td>2030</td>\n",
       "      <td>Network    Investment Cost</td>\n",
       "      <td>0.750000</td>\n",
       "    </tr>\n",
       "    <tr>\n",
       "      <th>3</th>\n",
       "      <td>A.The_full_year_MILP - 3-bus</td>\n",
       "      <td>A</td>\n",
       "      <td>0.Full Year</td>\n",
       "      <td>MILP</td>\n",
       "      <td>10</td>\n",
       "      <td>2030</td>\n",
       "      <td>Generation  Operation Cost</td>\n",
       "      <td>173.818533</td>\n",
       "    </tr>\n",
       "    <tr>\n",
       "      <th>4</th>\n",
       "      <td>A.The_full_year_MILP - 3-bus</td>\n",
       "      <td>A</td>\n",
       "      <td>0.Full Year</td>\n",
       "      <td>MILP</td>\n",
       "      <td>10</td>\n",
       "      <td>2030</td>\n",
       "      <td>Consumption Operation Cost</td>\n",
       "      <td>0.000000</td>\n",
       "    </tr>\n",
       "    <tr>\n",
       "      <th>...</th>\n",
       "      <td>...</td>\n",
       "      <td>...</td>\n",
       "      <td>...</td>\n",
       "      <td>...</td>\n",
       "      <td>...</td>\n",
       "      <td>...</td>\n",
       "      <td>...</td>\n",
       "      <td>...</td>\n",
       "    </tr>\n",
       "    <tr>\n",
       "      <th>485</th>\n",
       "      <td>I.Representative_days_based_on_Line_Benefit_NN...</td>\n",
       "      <td>Representative Days</td>\n",
       "      <td>2.Line Benefits</td>\n",
       "      <td>5.NN_OC_fy_4</td>\n",
       "      <td>100</td>\n",
       "      <td>2030</td>\n",
       "      <td>Network    Investment Cost</td>\n",
       "      <td>0.750000</td>\n",
       "    </tr>\n",
       "    <tr>\n",
       "      <th>486</th>\n",
       "      <td>I.Representative_days_based_on_Line_Benefit_NN...</td>\n",
       "      <td>Representative Days</td>\n",
       "      <td>2.Line Benefits</td>\n",
       "      <td>5.NN_OC_fy_4</td>\n",
       "      <td>100</td>\n",
       "      <td>2030</td>\n",
       "      <td>Generation  Operation Cost</td>\n",
       "      <td>174.738682</td>\n",
       "    </tr>\n",
       "    <tr>\n",
       "      <th>487</th>\n",
       "      <td>I.Representative_days_based_on_Line_Benefit_NN...</td>\n",
       "      <td>Representative Days</td>\n",
       "      <td>2.Line Benefits</td>\n",
       "      <td>5.NN_OC_fy_4</td>\n",
       "      <td>100</td>\n",
       "      <td>2030</td>\n",
       "      <td>Consumption Operation Cost</td>\n",
       "      <td>0.000000</td>\n",
       "    </tr>\n",
       "    <tr>\n",
       "      <th>488</th>\n",
       "      <td>I.Representative_days_based_on_Line_Benefit_NN...</td>\n",
       "      <td>Representative Days</td>\n",
       "      <td>2.Line Benefits</td>\n",
       "      <td>5.NN_OC_fy_4</td>\n",
       "      <td>100</td>\n",
       "      <td>2030</td>\n",
       "      <td>Emission              Cost</td>\n",
       "      <td>0.000000</td>\n",
       "    </tr>\n",
       "    <tr>\n",
       "      <th>489</th>\n",
       "      <td>I.Representative_days_based_on_Line_Benefit_NN...</td>\n",
       "      <td>Representative Days</td>\n",
       "      <td>2.Line Benefits</td>\n",
       "      <td>5.NN_OC_fy_4</td>\n",
       "      <td>100</td>\n",
       "      <td>2030</td>\n",
       "      <td>Reliability           Cost</td>\n",
       "      <td>0.000000</td>\n",
       "    </tr>\n",
       "  </tbody>\n",
       "</table>\n",
       "<p>490 rows × 8 columns</p>\n",
       "</div>"
      ],
      "text/plain": [
       "                                              CaseName            Category1  \\\n",
       "0                         A.The_full_year_MILP - 3-bus                    A   \n",
       "1                         A.The_full_year_MILP - 3-bus                    A   \n",
       "2                         A.The_full_year_MILP - 3-bus                    A   \n",
       "3                         A.The_full_year_MILP - 3-bus                    A   \n",
       "4                         A.The_full_year_MILP - 3-bus                    A   \n",
       "..                                                 ...                  ...   \n",
       "485  I.Representative_days_based_on_Line_Benefit_NN...  Representative Days   \n",
       "486  I.Representative_days_based_on_Line_Benefit_NN...  Representative Days   \n",
       "487  I.Representative_days_based_on_Line_Benefit_NN...  Representative Days   \n",
       "488  I.Representative_days_based_on_Line_Benefit_NN...  Representative Days   \n",
       "489  I.Representative_days_based_on_Line_Benefit_NN...  Representative Days   \n",
       "\n",
       "           Category2     Category3  Category4 Period  \\\n",
       "0        0.Full Year          MILP         10          \n",
       "1        0.Full Year          MILP         10   2030   \n",
       "2        0.Full Year          MILP         10   2030   \n",
       "3        0.Full Year          MILP         10   2030   \n",
       "4        0.Full Year          MILP         10   2030   \n",
       "..               ...           ...        ...    ...   \n",
       "485  2.Line Benefits  5.NN_OC_fy_4        100   2030   \n",
       "486  2.Line Benefits  5.NN_OC_fy_4        100   2030   \n",
       "487  2.Line Benefits  5.NN_OC_fy_4        100   2030   \n",
       "488  2.Line Benefits  5.NN_OC_fy_4        100   2030   \n",
       "489  2.Line Benefits  5.NN_OC_fy_4        100   2030   \n",
       "\n",
       "                   Cost/Payment        MEUR  \n",
       "0    Total          System Cost  174.568533  \n",
       "1    Generation Investment Cost    0.000000  \n",
       "2    Network    Investment Cost    0.750000  \n",
       "3    Generation  Operation Cost  173.818533  \n",
       "4    Consumption Operation Cost    0.000000  \n",
       "..                          ...         ...  \n",
       "485  Network    Investment Cost    0.750000  \n",
       "486  Generation  Operation Cost  174.738682  \n",
       "487  Consumption Operation Cost    0.000000  \n",
       "488  Emission              Cost    0.000000  \n",
       "489  Reliability           Cost    0.000000  \n",
       "\n",
       "[490 rows x 8 columns]"
      ]
     },
     "execution_count": 229,
     "metadata": {},
     "output_type": "execute_result"
    }
   ],
   "source": [
    "df"
   ]
  },
  {
   "cell_type": "code",
   "execution_count": 230,
   "metadata": {},
   "outputs": [],
   "source": [
    "df = df[['CaseName', 'Category1', 'Category2', 'Category3', 'Category4', 'Cost/Payment', 'MEUR']]"
   ]
  },
  {
   "cell_type": "code",
   "execution_count": 231,
   "metadata": {},
   "outputs": [],
   "source": [
    "df = df.loc[df['Cost/Payment'] == 'Total          System Cost']"
   ]
  },
  {
   "cell_type": "code",
   "execution_count": 232,
   "metadata": {},
   "outputs": [],
   "source": [
    "df = pd.pivot_table(df, values='MEUR', index=['CaseName', 'Category1', 'Category2', 'Category3', 'Category4'], aggfunc='first')"
   ]
  },
  {
   "cell_type": "code",
   "execution_count": 233,
   "metadata": {},
   "outputs": [
    {
     "data": {
      "text/html": [
       "<div>\n",
       "<style scoped>\n",
       "    .dataframe tbody tr th:only-of-type {\n",
       "        vertical-align: middle;\n",
       "    }\n",
       "\n",
       "    .dataframe tbody tr th {\n",
       "        vertical-align: top;\n",
       "    }\n",
       "\n",
       "    .dataframe thead th {\n",
       "        text-align: right;\n",
       "    }\n",
       "</style>\n",
       "<table border=\"1\" class=\"dataframe\">\n",
       "  <thead>\n",
       "    <tr style=\"text-align: right;\">\n",
       "      <th></th>\n",
       "      <th></th>\n",
       "      <th></th>\n",
       "      <th></th>\n",
       "      <th></th>\n",
       "      <th>MEUR</th>\n",
       "    </tr>\n",
       "    <tr>\n",
       "      <th>CaseName</th>\n",
       "      <th>Category1</th>\n",
       "      <th>Category2</th>\n",
       "      <th>Category3</th>\n",
       "      <th>Category4</th>\n",
       "      <th></th>\n",
       "    </tr>\n",
       "  </thead>\n",
       "  <tbody>\n",
       "    <tr>\n",
       "      <th rowspan=\"10\" valign=\"top\">A.The_full_year_MILP - 3-bus</th>\n",
       "      <th rowspan=\"10\" valign=\"top\">A</th>\n",
       "      <th rowspan=\"10\" valign=\"top\">0.Full Year</th>\n",
       "      <th rowspan=\"10\" valign=\"top\">MILP</th>\n",
       "      <th>10</th>\n",
       "      <td>174.568533</td>\n",
       "    </tr>\n",
       "    <tr>\n",
       "      <th>20</th>\n",
       "      <td>174.568533</td>\n",
       "    </tr>\n",
       "    <tr>\n",
       "      <th>30</th>\n",
       "      <td>174.568533</td>\n",
       "    </tr>\n",
       "    <tr>\n",
       "      <th>40</th>\n",
       "      <td>174.568533</td>\n",
       "    </tr>\n",
       "    <tr>\n",
       "      <th>50</th>\n",
       "      <td>174.568533</td>\n",
       "    </tr>\n",
       "    <tr>\n",
       "      <th>60</th>\n",
       "      <td>174.568533</td>\n",
       "    </tr>\n",
       "    <tr>\n",
       "      <th>70</th>\n",
       "      <td>174.568533</td>\n",
       "    </tr>\n",
       "    <tr>\n",
       "      <th>80</th>\n",
       "      <td>174.568533</td>\n",
       "    </tr>\n",
       "    <tr>\n",
       "      <th>90</th>\n",
       "      <td>174.568533</td>\n",
       "    </tr>\n",
       "    <tr>\n",
       "      <th>100</th>\n",
       "      <td>174.568533</td>\n",
       "    </tr>\n",
       "  </tbody>\n",
       "</table>\n",
       "</div>"
      ],
      "text/plain": [
       "                                                                              MEUR\n",
       "CaseName                     Category1 Category2   Category3 Category4            \n",
       "A.The_full_year_MILP - 3-bus A         0.Full Year MILP      10         174.568533\n",
       "                                                             20         174.568533\n",
       "                                                             30         174.568533\n",
       "                                                             40         174.568533\n",
       "                                                             50         174.568533\n",
       "                                                             60         174.568533\n",
       "                                                             70         174.568533\n",
       "                                                             80         174.568533\n",
       "                                                             90         174.568533\n",
       "                                                             100        174.568533"
      ]
     },
     "execution_count": 233,
     "metadata": {},
     "output_type": "execute_result"
    }
   ],
   "source": [
    "df.head(10)"
   ]
  },
  {
   "cell_type": "code",
   "execution_count": 234,
   "metadata": {},
   "outputs": [],
   "source": [
    "df = df.reset_index()"
   ]
  },
  {
   "cell_type": "code",
   "execution_count": 235,
   "metadata": {},
   "outputs": [],
   "source": [
    "df['Category5'] = df['Category2'] + ' - ' + df['Category3']"
   ]
  },
  {
   "cell_type": "code",
   "execution_count": 236,
   "metadata": {},
   "outputs": [
    {
     "data": {
      "text/html": [
       "\n",
       "<style>\n",
       "  #altair-viz-5747366f8e5b4cbc9f7d946d5689c6e5.vega-embed {\n",
       "    width: 100%;\n",
       "    display: flex;\n",
       "  }\n",
       "\n",
       "  #altair-viz-5747366f8e5b4cbc9f7d946d5689c6e5.vega-embed details,\n",
       "  #altair-viz-5747366f8e5b4cbc9f7d946d5689c6e5.vega-embed details summary {\n",
       "    position: relative;\n",
       "  }\n",
       "</style>\n",
       "<div id=\"altair-viz-5747366f8e5b4cbc9f7d946d5689c6e5\"></div>\n",
       "<script type=\"text/javascript\">\n",
       "  var VEGA_DEBUG = (typeof VEGA_DEBUG == \"undefined\") ? {} : VEGA_DEBUG;\n",
       "  (function(spec, embedOpt){\n",
       "    let outputDiv = document.currentScript.previousElementSibling;\n",
       "    if (outputDiv.id !== \"altair-viz-5747366f8e5b4cbc9f7d946d5689c6e5\") {\n",
       "      outputDiv = document.getElementById(\"altair-viz-5747366f8e5b4cbc9f7d946d5689c6e5\");\n",
       "    }\n",
       "    const paths = {\n",
       "      \"vega\": \"https://cdn.jsdelivr.net/npm/vega@5?noext\",\n",
       "      \"vega-lib\": \"https://cdn.jsdelivr.net/npm/vega-lib?noext\",\n",
       "      \"vega-lite\": \"https://cdn.jsdelivr.net/npm/vega-lite@5.8.0?noext\",\n",
       "      \"vega-embed\": \"https://cdn.jsdelivr.net/npm/vega-embed@6?noext\",\n",
       "    };\n",
       "\n",
       "    function maybeLoadScript(lib, version) {\n",
       "      var key = `${lib.replace(\"-\", \"\")}_version`;\n",
       "      return (VEGA_DEBUG[key] == version) ?\n",
       "        Promise.resolve(paths[lib]) :\n",
       "        new Promise(function(resolve, reject) {\n",
       "          var s = document.createElement('script');\n",
       "          document.getElementsByTagName(\"head\")[0].appendChild(s);\n",
       "          s.async = true;\n",
       "          s.onload = () => {\n",
       "            VEGA_DEBUG[key] = version;\n",
       "            return resolve(paths[lib]);\n",
       "          };\n",
       "          s.onerror = () => reject(`Error loading script: ${paths[lib]}`);\n",
       "          s.src = paths[lib];\n",
       "        });\n",
       "    }\n",
       "\n",
       "    function showError(err) {\n",
       "      outputDiv.innerHTML = `<div class=\"error\" style=\"color:red;\">${err}</div>`;\n",
       "      throw err;\n",
       "    }\n",
       "\n",
       "    function displayChart(vegaEmbed) {\n",
       "      vegaEmbed(outputDiv, spec, embedOpt)\n",
       "        .catch(err => showError(`Javascript Error: ${err.message}<br>This usually means there's a typo in your chart specification. See the javascript console for the full traceback.`));\n",
       "    }\n",
       "\n",
       "    if(typeof define === \"function\" && define.amd) {\n",
       "      requirejs.config({paths});\n",
       "      require([\"vega-embed\"], displayChart, err => showError(`Error loading script: ${err.message}`));\n",
       "    } else {\n",
       "      maybeLoadScript(\"vega\", \"5\")\n",
       "        .then(() => maybeLoadScript(\"vega-lite\", \"5.8.0\"))\n",
       "        .then(() => maybeLoadScript(\"vega-embed\", \"6\"))\n",
       "        .catch(showError)\n",
       "        .then(() => displayChart(vegaEmbed));\n",
       "    }\n",
       "  })({\"config\": {\"view\": {\"continuousWidth\": 300, \"continuousHeight\": 300}, \"legend\": {\"orient\": \"right\"}}, \"data\": {\"name\": \"data-bff40f9f5274540edb59298502732706\"}, \"mark\": {\"type\": \"line\", \"point\": {\"color\": \"red\"}}, \"encoding\": {\"color\": {\"field\": \"Category5\", \"title\": \"\", \"type\": \"nominal\"}, \"x\": {\"field\": \"Category4\", \"title\": \"Number of Clusters\", \"type\": \"ordinal\"}, \"y\": {\"field\": \"MEUR\", \"scale\": {\"domain\": [173.55397937911644, 181.4443912015916]}, \"type\": \"quantitative\"}}, \"height\": 300, \"width\": 600, \"$schema\": \"https://vega.github.io/schema/vega-lite/v5.8.0.json\", \"datasets\": {\"data-bff40f9f5274540edb59298502732706\": [{\"CaseName\": \"A.The_full_year_MILP - 3-bus\", \"Category1\": \"A\", \"Category2\": \"0.Full Year\", \"Category3\": \"MILP\", \"Category4\": 10, \"MEUR\": 174.5685333429853, \"Category5\": \"0.Full Year - MILP\"}, {\"CaseName\": \"A.The_full_year_MILP - 3-bus\", \"Category1\": \"A\", \"Category2\": \"0.Full Year\", \"Category3\": \"MILP\", \"Category4\": 20, \"MEUR\": 174.5685333429853, \"Category5\": \"0.Full Year - MILP\"}, {\"CaseName\": \"A.The_full_year_MILP - 3-bus\", \"Category1\": \"A\", \"Category2\": \"0.Full Year\", \"Category3\": \"MILP\", \"Category4\": 30, \"MEUR\": 174.5685333429853, \"Category5\": \"0.Full Year - MILP\"}, {\"CaseName\": \"A.The_full_year_MILP - 3-bus\", \"Category1\": \"A\", \"Category2\": \"0.Full Year\", \"Category3\": \"MILP\", \"Category4\": 40, \"MEUR\": 174.5685333429853, \"Category5\": \"0.Full Year - MILP\"}, {\"CaseName\": \"A.The_full_year_MILP - 3-bus\", \"Category1\": \"A\", \"Category2\": \"0.Full Year\", \"Category3\": \"MILP\", \"Category4\": 50, \"MEUR\": 174.5685333429853, \"Category5\": \"0.Full Year - MILP\"}, {\"CaseName\": \"A.The_full_year_MILP - 3-bus\", \"Category1\": \"A\", \"Category2\": \"0.Full Year\", \"Category3\": \"MILP\", \"Category4\": 60, \"MEUR\": 174.5685333429853, \"Category5\": \"0.Full Year - MILP\"}, {\"CaseName\": \"A.The_full_year_MILP - 3-bus\", \"Category1\": \"A\", \"Category2\": \"0.Full Year\", \"Category3\": \"MILP\", \"Category4\": 70, \"MEUR\": 174.5685333429853, \"Category5\": \"0.Full Year - MILP\"}, {\"CaseName\": \"A.The_full_year_MILP - 3-bus\", \"Category1\": \"A\", \"Category2\": \"0.Full Year\", \"Category3\": \"MILP\", \"Category4\": 80, \"MEUR\": 174.5685333429853, \"Category5\": \"0.Full Year - MILP\"}, {\"CaseName\": \"A.The_full_year_MILP - 3-bus\", \"Category1\": \"A\", \"Category2\": \"0.Full Year\", \"Category3\": \"MILP\", \"Category4\": 90, \"MEUR\": 174.5685333429853, \"Category5\": \"0.Full Year - MILP\"}, {\"CaseName\": \"A.The_full_year_MILP - 3-bus\", \"Category1\": \"A\", \"Category2\": \"0.Full Year\", \"Category3\": \"MILP\", \"Category4\": 100, \"MEUR\": 174.5685333429853, \"Category5\": \"0.Full Year - MILP\"}, {\"CaseName\": \"D.Representative_days_based_on_RES_and_Demand - 3-bus_ByStages_nc10\", \"Category1\": \"Representative Days\", \"Category2\": \"1.RES and Demand\", \"Category3\": \"1.OptModel\", \"Category4\": 10, \"MEUR\": 181.4443912015916, \"Category5\": \"1.RES and Demand - 1.OptModel\"}, {\"CaseName\": \"D.Representative_days_based_on_RES_and_Demand - 3-bus_ByStages_nc100\", \"Category1\": \"Representative Days\", \"Category2\": \"1.RES and Demand\", \"Category3\": \"1.OptModel\", \"Category4\": 100, \"MEUR\": 179.45362016477952, \"Category5\": \"1.RES and Demand - 1.OptModel\"}, {\"CaseName\": \"D.Representative_days_based_on_RES_and_Demand - 3-bus_ByStages_nc20\", \"Category1\": \"Representative Days\", \"Category2\": \"1.RES and Demand\", \"Category3\": \"1.OptModel\", \"Category4\": 20, \"MEUR\": 180.79520082912885, \"Category5\": \"1.RES and Demand - 1.OptModel\"}, {\"CaseName\": \"D.Representative_days_based_on_RES_and_Demand - 3-bus_ByStages_nc30\", \"Category1\": \"Representative Days\", \"Category2\": \"1.RES and Demand\", \"Category3\": \"1.OptModel\", \"Category4\": 30, \"MEUR\": 180.792497649772, \"Category5\": \"1.RES and Demand - 1.OptModel\"}, {\"CaseName\": \"D.Representative_days_based_on_RES_and_Demand - 3-bus_ByStages_nc40\", \"Category1\": \"Representative Days\", \"Category2\": \"1.RES and Demand\", \"Category3\": \"1.OptModel\", \"Category4\": 40, \"MEUR\": 176.14683603035564, \"Category5\": \"1.RES and Demand - 1.OptModel\"}, {\"CaseName\": \"D.Representative_days_based_on_RES_and_Demand - 3-bus_ByStages_nc50\", \"Category1\": \"Representative Days\", \"Category2\": \"1.RES and Demand\", \"Category3\": \"1.OptModel\", \"Category4\": 50, \"MEUR\": 179.42444542961027, \"Category5\": \"1.RES and Demand - 1.OptModel\"}, {\"CaseName\": \"D.Representative_days_based_on_RES_and_Demand - 3-bus_ByStages_nc60\", \"Category1\": \"Representative Days\", \"Category2\": \"1.RES and Demand\", \"Category3\": \"1.OptModel\", \"Category4\": 60, \"MEUR\": 178.520974878506, \"Category5\": \"1.RES and Demand - 1.OptModel\"}, {\"CaseName\": \"D.Representative_days_based_on_RES_and_Demand - 3-bus_ByStages_nc70\", \"Category1\": \"Representative Days\", \"Category2\": \"1.RES and Demand\", \"Category3\": \"1.OptModel\", \"Category4\": 70, \"MEUR\": 179.42258282100195, \"Category5\": \"1.RES and Demand - 1.OptModel\"}, {\"CaseName\": \"D.Representative_days_based_on_RES_and_Demand - 3-bus_ByStages_nc80\", \"Category1\": \"Representative Days\", \"Category2\": \"1.RES and Demand\", \"Category3\": \"1.OptModel\", \"Category4\": 80, \"MEUR\": 178.55187324123185, \"Category5\": \"1.RES and Demand - 1.OptModel\"}, {\"CaseName\": \"D.Representative_days_based_on_RES_and_Demand - 3-bus_ByStages_nc90\", \"Category1\": \"Representative Days\", \"Category2\": \"1.RES and Demand\", \"Category3\": \"1.OptModel\", \"Category4\": 90, \"MEUR\": 180.77472255282063, \"Category5\": \"1.RES and Demand - 1.OptModel\"}, {\"CaseName\": \"E.Representative_days_based_on_Line_Benefits_OptModel - 3-bus_ByStages_nc10\", \"Category1\": \"Representative Days\", \"Category2\": \"2.Line Benefits\", \"Category3\": \"1.OptModel\", \"Category4\": 10, \"MEUR\": 175.04195428055016, \"Category5\": \"2.Line Benefits - 1.OptModel\"}, {\"CaseName\": \"E.Representative_days_based_on_Line_Benefits_OptModel - 3-bus_ByStages_nc100\", \"Category1\": \"Representative Days\", \"Category2\": \"2.Line Benefits\", \"Category3\": \"1.OptModel\", \"Category4\": 100, \"MEUR\": 176.8112101560423, \"Category5\": \"2.Line Benefits - 1.OptModel\"}, {\"CaseName\": \"E.Representative_days_based_on_Line_Benefits_OptModel - 3-bus_ByStages_nc20\", \"Category1\": \"Representative Days\", \"Category2\": \"2.Line Benefits\", \"Category3\": \"1.OptModel\", \"Category4\": 20, \"MEUR\": 175.7283939659689, \"Category5\": \"2.Line Benefits - 1.OptModel\"}, {\"CaseName\": \"E.Representative_days_based_on_Line_Benefits_OptModel - 3-bus_ByStages_nc30\", \"Category1\": \"Representative Days\", \"Category2\": \"2.Line Benefits\", \"Category3\": \"1.OptModel\", \"Category4\": 30, \"MEUR\": 176.0015302659193, \"Category5\": \"2.Line Benefits - 1.OptModel\"}, {\"CaseName\": \"E.Representative_days_based_on_Line_Benefits_OptModel - 3-bus_ByStages_nc40\", \"Category1\": \"Representative Days\", \"Category2\": \"2.Line Benefits\", \"Category3\": \"1.OptModel\", \"Category4\": 40, \"MEUR\": 177.95757489690345, \"Category5\": \"2.Line Benefits - 1.OptModel\"}, {\"CaseName\": \"E.Representative_days_based_on_Line_Benefits_OptModel - 3-bus_ByStages_nc50\", \"Category1\": \"Representative Days\", \"Category2\": \"2.Line Benefits\", \"Category3\": \"1.OptModel\", \"Category4\": 50, \"MEUR\": 174.55381640142917, \"Category5\": \"2.Line Benefits - 1.OptModel\"}, {\"CaseName\": \"E.Representative_days_based_on_Line_Benefits_OptModel - 3-bus_ByStages_nc60\", \"Category1\": \"Representative Days\", \"Category2\": \"2.Line Benefits\", \"Category3\": \"1.OptModel\", \"Category4\": 60, \"MEUR\": 175.01420446541923, \"Category5\": \"2.Line Benefits - 1.OptModel\"}, {\"CaseName\": \"E.Representative_days_based_on_Line_Benefits_OptModel - 3-bus_ByStages_nc70\", \"Category1\": \"Representative Days\", \"Category2\": \"2.Line Benefits\", \"Category3\": \"1.OptModel\", \"Category4\": 70, \"MEUR\": 173.97323061685626, \"Category5\": \"2.Line Benefits - 1.OptModel\"}, {\"CaseName\": \"E.Representative_days_based_on_Line_Benefits_OptModel - 3-bus_ByStages_nc80\", \"Category1\": \"Representative Days\", \"Category2\": \"2.Line Benefits\", \"Category3\": \"1.OptModel\", \"Category4\": 80, \"MEUR\": 174.15580610947225, \"Category5\": \"2.Line Benefits - 1.OptModel\"}, {\"CaseName\": \"E.Representative_days_based_on_Line_Benefits_OptModel - 3-bus_ByStages_nc90\", \"Category1\": \"Representative Days\", \"Category2\": \"2.Line Benefits\", \"Category3\": \"1.OptModel\", \"Category4\": 90, \"MEUR\": 174.15524075532576, \"Category5\": \"2.Line Benefits - 1.OptModel\"}, {\"CaseName\": \"F.Representative_days_based_on_Line_Benefit_NN_OC_fy_1 - 3-bus_ByStages_nc10\", \"Category1\": \"Representative Days\", \"Category2\": \"2.Line Benefits\", \"Category3\": \"2.NN_OC_fy_1\", \"Category4\": 10, \"MEUR\": 177.34510350616594, \"Category5\": \"2.Line Benefits - 2.NN_OC_fy_1\"}, {\"CaseName\": \"F.Representative_days_based_on_Line_Benefit_NN_OC_fy_1 - 3-bus_ByStages_nc100\", \"Category1\": \"Representative Days\", \"Category2\": \"2.Line Benefits\", \"Category3\": \"2.NN_OC_fy_1\", \"Category4\": 100, \"MEUR\": 175.62253872339778, \"Category5\": \"2.Line Benefits - 2.NN_OC_fy_1\"}, {\"CaseName\": \"F.Representative_days_based_on_Line_Benefit_NN_OC_fy_1 - 3-bus_ByStages_nc20\", \"Category1\": \"Representative Days\", \"Category2\": \"2.Line Benefits\", \"Category3\": \"2.NN_OC_fy_1\", \"Category4\": 20, \"MEUR\": 175.58580697378355, \"Category5\": \"2.Line Benefits - 2.NN_OC_fy_1\"}, {\"CaseName\": \"F.Representative_days_based_on_Line_Benefit_NN_OC_fy_1 - 3-bus_ByStages_nc30\", \"Category1\": \"Representative Days\", \"Category2\": \"2.Line Benefits\", \"Category3\": \"2.NN_OC_fy_1\", \"Category4\": 30, \"MEUR\": 173.55397937911644, \"Category5\": \"2.Line Benefits - 2.NN_OC_fy_1\"}, {\"CaseName\": \"F.Representative_days_based_on_Line_Benefit_NN_OC_fy_1 - 3-bus_ByStages_nc40\", \"Category1\": \"Representative Days\", \"Category2\": \"2.Line Benefits\", \"Category3\": \"2.NN_OC_fy_1\", \"Category4\": 40, \"MEUR\": 176.21151413568597, \"Category5\": \"2.Line Benefits - 2.NN_OC_fy_1\"}, {\"CaseName\": \"F.Representative_days_based_on_Line_Benefit_NN_OC_fy_1 - 3-bus_ByStages_nc50\", \"Category1\": \"Representative Days\", \"Category2\": \"2.Line Benefits\", \"Category3\": \"2.NN_OC_fy_1\", \"Category4\": 50, \"MEUR\": 175.07272277133777, \"Category5\": \"2.Line Benefits - 2.NN_OC_fy_1\"}, {\"CaseName\": \"F.Representative_days_based_on_Line_Benefit_NN_OC_fy_1 - 3-bus_ByStages_nc60\", \"Category1\": \"Representative Days\", \"Category2\": \"2.Line Benefits\", \"Category3\": \"2.NN_OC_fy_1\", \"Category4\": 60, \"MEUR\": 175.5805135534147, \"Category5\": \"2.Line Benefits - 2.NN_OC_fy_1\"}, {\"CaseName\": \"F.Representative_days_based_on_Line_Benefit_NN_OC_fy_1 - 3-bus_ByStages_nc70\", \"Category1\": \"Representative Days\", \"Category2\": \"2.Line Benefits\", \"Category3\": \"2.NN_OC_fy_1\", \"Category4\": 70, \"MEUR\": 175.21035427009102, \"Category5\": \"2.Line Benefits - 2.NN_OC_fy_1\"}, {\"CaseName\": \"F.Representative_days_based_on_Line_Benefit_NN_OC_fy_1 - 3-bus_ByStages_nc80\", \"Category1\": \"Representative Days\", \"Category2\": \"2.Line Benefits\", \"Category3\": \"2.NN_OC_fy_1\", \"Category4\": 80, \"MEUR\": 175.07093391744166, \"Category5\": \"2.Line Benefits - 2.NN_OC_fy_1\"}, {\"CaseName\": \"F.Representative_days_based_on_Line_Benefit_NN_OC_fy_1 - 3-bus_ByStages_nc90\", \"Category1\": \"Representative Days\", \"Category2\": \"2.Line Benefits\", \"Category3\": \"2.NN_OC_fy_1\", \"Category4\": 90, \"MEUR\": 175.62428730032872, \"Category5\": \"2.Line Benefits - 2.NN_OC_fy_1\"}, {\"CaseName\": \"G.Representative_days_based_on_Line_Benefit_NN_OC_fy_2 - 3-bus_ByStages_nc10\", \"Category1\": \"Representative Days\", \"Category2\": \"2.Line Benefits\", \"Category3\": \"3.NN_OC_fy_2\", \"Category4\": 10, \"MEUR\": 176.7900857283057, \"Category5\": \"2.Line Benefits - 3.NN_OC_fy_2\"}, {\"CaseName\": \"G.Representative_days_based_on_Line_Benefit_NN_OC_fy_2 - 3-bus_ByStages_nc100\", \"Category1\": \"Representative Days\", \"Category2\": \"2.Line Benefits\", \"Category3\": \"3.NN_OC_fy_2\", \"Category4\": 100, \"MEUR\": 175.94607447803628, \"Category5\": \"2.Line Benefits - 3.NN_OC_fy_2\"}, {\"CaseName\": \"G.Representative_days_based_on_Line_Benefit_NN_OC_fy_2 - 3-bus_ByStages_nc20\", \"Category1\": \"Representative Days\", \"Category2\": \"2.Line Benefits\", \"Category3\": \"3.NN_OC_fy_2\", \"Category4\": 20, \"MEUR\": 175.98773239003546, \"Category5\": \"2.Line Benefits - 3.NN_OC_fy_2\"}, {\"CaseName\": \"G.Representative_days_based_on_Line_Benefit_NN_OC_fy_2 - 3-bus_ByStages_nc30\", \"Category1\": \"Representative Days\", \"Category2\": \"2.Line Benefits\", \"Category3\": \"3.NN_OC_fy_2\", \"Category4\": 30, \"MEUR\": 178.1191439352549, \"Category5\": \"2.Line Benefits - 3.NN_OC_fy_2\"}, {\"CaseName\": \"G.Representative_days_based_on_Line_Benefit_NN_OC_fy_2 - 3-bus_ByStages_nc40\", \"Category1\": \"Representative Days\", \"Category2\": \"2.Line Benefits\", \"Category3\": \"3.NN_OC_fy_2\", \"Category4\": 40, \"MEUR\": 175.83373438164605, \"Category5\": \"2.Line Benefits - 3.NN_OC_fy_2\"}, {\"CaseName\": \"G.Representative_days_based_on_Line_Benefit_NN_OC_fy_2 - 3-bus_ByStages_nc50\", \"Category1\": \"Representative Days\", \"Category2\": \"2.Line Benefits\", \"Category3\": \"3.NN_OC_fy_2\", \"Category4\": 50, \"MEUR\": 176.0785478142097, \"Category5\": \"2.Line Benefits - 3.NN_OC_fy_2\"}, {\"CaseName\": \"G.Representative_days_based_on_Line_Benefit_NN_OC_fy_2 - 3-bus_ByStages_nc60\", \"Category1\": \"Representative Days\", \"Category2\": \"2.Line Benefits\", \"Category3\": \"3.NN_OC_fy_2\", \"Category4\": 60, \"MEUR\": 176.0539241158738, \"Category5\": \"2.Line Benefits - 3.NN_OC_fy_2\"}, {\"CaseName\": \"G.Representative_days_based_on_Line_Benefit_NN_OC_fy_2 - 3-bus_ByStages_nc70\", \"Category1\": \"Representative Days\", \"Category2\": \"2.Line Benefits\", \"Category3\": \"3.NN_OC_fy_2\", \"Category4\": 70, \"MEUR\": 176.21362857752968, \"Category5\": \"2.Line Benefits - 3.NN_OC_fy_2\"}, {\"CaseName\": \"G.Representative_days_based_on_Line_Benefit_NN_OC_fy_2 - 3-bus_ByStages_nc80\", \"Category1\": \"Representative Days\", \"Category2\": \"2.Line Benefits\", \"Category3\": \"3.NN_OC_fy_2\", \"Category4\": 80, \"MEUR\": 175.24658465344967, \"Category5\": \"2.Line Benefits - 3.NN_OC_fy_2\"}, {\"CaseName\": \"G.Representative_days_based_on_Line_Benefit_NN_OC_fy_2 - 3-bus_ByStages_nc90\", \"Category1\": \"Representative Days\", \"Category2\": \"2.Line Benefits\", \"Category3\": \"3.NN_OC_fy_2\", \"Category4\": 90, \"MEUR\": 175.59916596732535, \"Category5\": \"2.Line Benefits - 3.NN_OC_fy_2\"}, {\"CaseName\": \"H.Representative_days_based_on_Line_Benefit_NN_OC_fy_3 - 3-bus_ByStages_nc10\", \"Category1\": \"Representative Days\", \"Category2\": \"2.Line Benefits\", \"Category3\": \"4.NN_OC_fy_3\", \"Category4\": 10, \"MEUR\": 174.85311741265954, \"Category5\": \"2.Line Benefits - 4.NN_OC_fy_3\"}, {\"CaseName\": \"H.Representative_days_based_on_Line_Benefit_NN_OC_fy_3 - 3-bus_ByStages_nc100\", \"Category1\": \"Representative Days\", \"Category2\": \"2.Line Benefits\", \"Category3\": \"4.NN_OC_fy_3\", \"Category4\": 100, \"MEUR\": 174.47842430356735, \"Category5\": \"2.Line Benefits - 4.NN_OC_fy_3\"}, {\"CaseName\": \"H.Representative_days_based_on_Line_Benefit_NN_OC_fy_3 - 3-bus_ByStages_nc20\", \"Category1\": \"Representative Days\", \"Category2\": \"2.Line Benefits\", \"Category3\": \"4.NN_OC_fy_3\", \"Category4\": 20, \"MEUR\": 173.6532933559504, \"Category5\": \"2.Line Benefits - 4.NN_OC_fy_3\"}, {\"CaseName\": \"H.Representative_days_based_on_Line_Benefit_NN_OC_fy_3 - 3-bus_ByStages_nc30\", \"Category1\": \"Representative Days\", \"Category2\": \"2.Line Benefits\", \"Category3\": \"4.NN_OC_fy_3\", \"Category4\": 30, \"MEUR\": 174.3899094177687, \"Category5\": \"2.Line Benefits - 4.NN_OC_fy_3\"}, {\"CaseName\": \"H.Representative_days_based_on_Line_Benefit_NN_OC_fy_3 - 3-bus_ByStages_nc40\", \"Category1\": \"Representative Days\", \"Category2\": \"2.Line Benefits\", \"Category3\": \"4.NN_OC_fy_3\", \"Category4\": 40, \"MEUR\": 176.77904638304673, \"Category5\": \"2.Line Benefits - 4.NN_OC_fy_3\"}, {\"CaseName\": \"H.Representative_days_based_on_Line_Benefit_NN_OC_fy_3 - 3-bus_ByStages_nc50\", \"Category1\": \"Representative Days\", \"Category2\": \"2.Line Benefits\", \"Category3\": \"4.NN_OC_fy_3\", \"Category4\": 50, \"MEUR\": 174.87036560421146, \"Category5\": \"2.Line Benefits - 4.NN_OC_fy_3\"}, {\"CaseName\": \"H.Representative_days_based_on_Line_Benefit_NN_OC_fy_3 - 3-bus_ByStages_nc60\", \"Category1\": \"Representative Days\", \"Category2\": \"2.Line Benefits\", \"Category3\": \"4.NN_OC_fy_3\", \"Category4\": 60, \"MEUR\": 175.8368556554939, \"Category5\": \"2.Line Benefits - 4.NN_OC_fy_3\"}, {\"CaseName\": \"H.Representative_days_based_on_Line_Benefit_NN_OC_fy_3 - 3-bus_ByStages_nc70\", \"Category1\": \"Representative Days\", \"Category2\": \"2.Line Benefits\", \"Category3\": \"4.NN_OC_fy_3\", \"Category4\": 70, \"MEUR\": 176.87367925535304, \"Category5\": \"2.Line Benefits - 4.NN_OC_fy_3\"}, {\"CaseName\": \"H.Representative_days_based_on_Line_Benefit_NN_OC_fy_3 - 3-bus_ByStages_nc80\", \"Category1\": \"Representative Days\", \"Category2\": \"2.Line Benefits\", \"Category3\": \"4.NN_OC_fy_3\", \"Category4\": 80, \"MEUR\": 178.1233084689575, \"Category5\": \"2.Line Benefits - 4.NN_OC_fy_3\"}, {\"CaseName\": \"H.Representative_days_based_on_Line_Benefit_NN_OC_fy_3 - 3-bus_ByStages_nc90\", \"Category1\": \"Representative Days\", \"Category2\": \"2.Line Benefits\", \"Category3\": \"4.NN_OC_fy_3\", \"Category4\": 90, \"MEUR\": 175.47541122374068, \"Category5\": \"2.Line Benefits - 4.NN_OC_fy_3\"}, {\"CaseName\": \"I.Representative_days_based_on_Line_Benefit_NN_OC_fy_4 - 3-bus_ByStages_nc10\", \"Category1\": \"Representative Days\", \"Category2\": \"2.Line Benefits\", \"Category3\": \"5.NN_OC_fy_4\", \"Category4\": 10, \"MEUR\": 178.7635852999973, \"Category5\": \"2.Line Benefits - 5.NN_OC_fy_4\"}, {\"CaseName\": \"I.Representative_days_based_on_Line_Benefit_NN_OC_fy_4 - 3-bus_ByStages_nc100\", \"Category1\": \"Representative Days\", \"Category2\": \"2.Line Benefits\", \"Category3\": \"5.NN_OC_fy_4\", \"Category4\": 100, \"MEUR\": 175.4886823230144, \"Category5\": \"2.Line Benefits - 5.NN_OC_fy_4\"}, {\"CaseName\": \"I.Representative_days_based_on_Line_Benefit_NN_OC_fy_4 - 3-bus_ByStages_nc20\", \"Category1\": \"Representative Days\", \"Category2\": \"2.Line Benefits\", \"Category3\": \"5.NN_OC_fy_4\", \"Category4\": 20, \"MEUR\": 176.28368078839466, \"Category5\": \"2.Line Benefits - 5.NN_OC_fy_4\"}, {\"CaseName\": \"I.Representative_days_based_on_Line_Benefit_NN_OC_fy_4 - 3-bus_ByStages_nc30\", \"Category1\": \"Representative Days\", \"Category2\": \"2.Line Benefits\", \"Category3\": \"5.NN_OC_fy_4\", \"Category4\": 30, \"MEUR\": 175.74830297696633, \"Category5\": \"2.Line Benefits - 5.NN_OC_fy_4\"}, {\"CaseName\": \"I.Representative_days_based_on_Line_Benefit_NN_OC_fy_4 - 3-bus_ByStages_nc40\", \"Category1\": \"Representative Days\", \"Category2\": \"2.Line Benefits\", \"Category3\": \"5.NN_OC_fy_4\", \"Category4\": 40, \"MEUR\": 175.88568028718888, \"Category5\": \"2.Line Benefits - 5.NN_OC_fy_4\"}, {\"CaseName\": \"I.Representative_days_based_on_Line_Benefit_NN_OC_fy_4 - 3-bus_ByStages_nc50\", \"Category1\": \"Representative Days\", \"Category2\": \"2.Line Benefits\", \"Category3\": \"5.NN_OC_fy_4\", \"Category4\": 50, \"MEUR\": 175.2911502788271, \"Category5\": \"2.Line Benefits - 5.NN_OC_fy_4\"}, {\"CaseName\": \"I.Representative_days_based_on_Line_Benefit_NN_OC_fy_4 - 3-bus_ByStages_nc60\", \"Category1\": \"Representative Days\", \"Category2\": \"2.Line Benefits\", \"Category3\": \"5.NN_OC_fy_4\", \"Category4\": 60, \"MEUR\": 174.61144484363786, \"Category5\": \"2.Line Benefits - 5.NN_OC_fy_4\"}, {\"CaseName\": \"I.Representative_days_based_on_Line_Benefit_NN_OC_fy_4 - 3-bus_ByStages_nc70\", \"Category1\": \"Representative Days\", \"Category2\": \"2.Line Benefits\", \"Category3\": \"5.NN_OC_fy_4\", \"Category4\": 70, \"MEUR\": 174.80113509227203, \"Category5\": \"2.Line Benefits - 5.NN_OC_fy_4\"}, {\"CaseName\": \"I.Representative_days_based_on_Line_Benefit_NN_OC_fy_4 - 3-bus_ByStages_nc80\", \"Category1\": \"Representative Days\", \"Category2\": \"2.Line Benefits\", \"Category3\": \"5.NN_OC_fy_4\", \"Category4\": 80, \"MEUR\": 175.01517628834844, \"Category5\": \"2.Line Benefits - 5.NN_OC_fy_4\"}, {\"CaseName\": \"I.Representative_days_based_on_Line_Benefit_NN_OC_fy_4 - 3-bus_ByStages_nc90\", \"Category1\": \"Representative Days\", \"Category2\": \"2.Line Benefits\", \"Category3\": \"5.NN_OC_fy_4\", \"Category4\": 90, \"MEUR\": 175.73163806173122, \"Category5\": \"2.Line Benefits - 5.NN_OC_fy_4\"}]}}, {\"mode\": \"vega-lite\"});\n",
       "</script>"
      ],
      "text/plain": [
       "alt.Chart(...)"
      ]
     },
     "execution_count": 236,
     "metadata": {},
     "output_type": "execute_result"
    }
   ],
   "source": [
    "chart = alt.Chart(df).mark_line(\n",
    "    point=alt.OverlayMarkDef(color=\"red\")\n",
    ").encode(\n",
    "    x=alt.X(\"Category4:O\").title('Number of Clusters'),\n",
    "    # y=alt.Y(\"MEUR:Q\", scale=alt.Scale(domain=[170, 185])),\n",
    "    y=alt.Y(\"MEUR:Q\", scale=alt.Scale(domain= [df['MEUR'].min(), df['MEUR'].max()])),\n",
    "    color=alt.Color(\"Category5\").title(''),\n",
    "    # strokeDash='Category2',\n",
    ")\n",
    "line = alt.Chart(pd.DataFrame({'-': [174.568533342985]})).mark_rule().encode(y='-')\n",
    "# line = alt.Chart(pd.DataFrame({'-': [409.989891886376]})).mark_rule().encode(y='-')\n",
    "# base = chart + line\n",
    "base = chart\n",
    "base.configure_legend(\n",
    "  orient='right'\n",
    ").properties(\n",
    "    width=600,\n",
    "    height=300\n",
    ")"
   ]
  }
 ],
 "metadata": {
  "kernelspec": {
   "display_name": "base",
   "language": "python",
   "name": "python3"
  },
  "language_info": {
   "codemirror_mode": {
    "name": "ipython",
    "version": 3
   },
   "file_extension": ".py",
   "mimetype": "text/x-python",
   "name": "python",
   "nbconvert_exporter": "python",
   "pygments_lexer": "ipython3",
   "version": "3.11.4"
  },
  "orig_nbformat": 4
 },
 "nbformat": 4,
 "nbformat_minor": 2
}
