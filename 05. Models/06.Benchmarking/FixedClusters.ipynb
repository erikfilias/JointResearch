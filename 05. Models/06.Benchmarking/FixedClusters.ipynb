{
 "cells": [
  {
   "cell_type": "code",
   "execution_count": 14,
   "metadata": {},
   "outputs": [],
   "source": [
    "import os\n",
    "import altair as alt\n",
    "import pandas as pd"
   ]
  },
  {
   "cell_type": "code",
   "execution_count": 15,
   "metadata": {},
   "outputs": [],
   "source": [
    "CaseName_Base = 'RTS24'\n",
    "CaseName_ByStages = CaseName_Base + '_ByStages_nc'"
   ]
  },
  {
   "cell_type": "code",
   "execution_count": 16,
   "metadata": {},
   "outputs": [],
   "source": [
    "DirName  = os.getcwd()"
   ]
  },
  {
   "cell_type": "code",
   "execution_count": 17,
   "metadata": {},
   "outputs": [],
   "source": [
    "Folder_A = 'A.The_full_year_MILP'\n",
    "Folder_D = 'D.Representative_days_based_on_RES_and_Demand'\n",
    "Folder_E = 'E.Representative_days_based_on_Line_Benefits_OptModel'\n",
    "Folder_F = 'F.Representative_days_based_on_Line_Benefit_NN_OC_fy_1'\n",
    "Folder_G = 'G.Representative_days_based_on_Line_Benefit_NN_OC_fy_2'\n",
    "# Folder_H = 'H.Representative_days_based_on_Line_Benefit_NN_OC_fy_3'\n",
    "# Folder_I = 'I.Representative_days_based_on_Line_Benefit_NN_OC_fy_4'"
   ]
  },
  {
   "cell_type": "code",
   "execution_count": 18,
   "metadata": {},
   "outputs": [],
   "source": [
    "def LoadingData_FY(dir, folder, case, ncluster, cat1, cat2, cat3):\n",
    "    df = pd.read_csv(os.path.join(dir, folder, case, '3.Out', 'oT_Result_CostSummary_'+case+'.csv'), index_col=[0,1])\n",
    "    df['CaseName'] = folder + ' - ' + case\n",
    "    df['Category1'] = cat1\n",
    "    df['Category2'] = cat2\n",
    "    df['Category3'] = cat3\n",
    "    df['Category4'] = ncluster\n",
    "    df = df.reset_index().set_index(['CaseName', 'Category1', 'Category2', 'Category3', 'Category4'])\n",
    "    # df = df.set_index('CaseName', append=True)\n",
    "    return df"
   ]
  },
  {
   "cell_type": "code",
   "execution_count": 19,
   "metadata": {},
   "outputs": [],
   "source": [
    "def LoadingData(dir, folder, case, ncluster, cat1, cat2, cat3):\n",
    "    df = pd.read_csv(os.path.join(dir, folder, case+str(ncluster), '3.Out', 'oT_Result_CostSummary_'+case+str(ncluster)+'.csv'), index_col=[0,1])\n",
    "    df['CaseName'] = folder + ' - ' + case + str(ncluster)\n",
    "    df['Category1'] = cat1\n",
    "    df['Category2'] = cat2\n",
    "    df['Category3'] = cat3\n",
    "    df['Category4'] = ncluster\n",
    "    df = df.reset_index().set_index(['CaseName', 'Category1', 'Category2', 'Category3', 'Category4'])\n",
    "    # df = df.set_index('CaseName', append=True)\n",
    "    return df"
   ]
  },
  {
   "cell_type": "code",
   "execution_count": 20,
   "metadata": {},
   "outputs": [],
   "source": [
    "Folder_A_10 = LoadingData_FY(DirName, Folder_A, CaseName_Base, 10, 'A', '0.Full Year', 'MILP')\n",
    "Folder_A_20 = LoadingData_FY(DirName, Folder_A, CaseName_Base, 20, 'A', '0.Full Year', 'MILP')\n",
    "Folder_A_30 = LoadingData_FY(DirName, Folder_A, CaseName_Base, 30, 'A', '0.Full Year', 'MILP')\n",
    "Folder_A_40 = LoadingData_FY(DirName, Folder_A, CaseName_Base, 40, 'A', '0.Full Year', 'MILP')\n",
    "Folder_A_50 = LoadingData_FY(DirName, Folder_A, CaseName_Base, 50, 'A', '0.Full Year', 'MILP')\n",
    "Folder_A_60 = LoadingData_FY(DirName, Folder_A, CaseName_Base, 60, 'A', '0.Full Year', 'MILP')\n",
    "Folder_A_70 = LoadingData_FY(DirName, Folder_A, CaseName_Base, 70, 'A', '0.Full Year', 'MILP')\n",
    "Folder_A_80 = LoadingData_FY(DirName, Folder_A, CaseName_Base, 80, 'A', '0.Full Year', 'MILP')\n",
    "Folder_A_90 = LoadingData_FY(DirName, Folder_A, CaseName_Base, 90, 'A', '0.Full Year', 'MILP')\n",
    "Folder_A_100 = LoadingData_FY(DirName, Folder_A, CaseName_Base, 100, 'A', '0.Full Year', 'MILP')"
   ]
  },
  {
   "cell_type": "code",
   "execution_count": 21,
   "metadata": {},
   "outputs": [],
   "source": [
    "df_A = pd.concat([Folder_A_10, Folder_A_20, Folder_A_30, Folder_A_40, Folder_A_50, Folder_A_60, Folder_A_70, Folder_A_80, Folder_A_90, Folder_A_100], axis=0)"
   ]
  },
  {
   "cell_type": "code",
   "execution_count": 22,
   "metadata": {},
   "outputs": [],
   "source": [
    "Folder_D_10 = LoadingData(DirName, Folder_D, CaseName_ByStages, 10, 'Representative Days', '1.RES and Demand', '1.OptModel')\n",
    "Folder_D_20 = LoadingData(DirName, Folder_D, CaseName_ByStages, 20, 'Representative Days', '1.RES and Demand', '1.OptModel')\n",
    "Folder_D_30 = LoadingData(DirName, Folder_D, CaseName_ByStages, 30, 'Representative Days', '1.RES and Demand', '1.OptModel')\n",
    "Folder_D_40 = LoadingData(DirName, Folder_D, CaseName_ByStages, 40, 'Representative Days', '1.RES and Demand', '1.OptModel')\n",
    "Folder_D_50 = LoadingData(DirName, Folder_D, CaseName_ByStages, 50, 'Representative Days', '1.RES and Demand', '1.OptModel')\n",
    "Folder_D_60 = LoadingData(DirName, Folder_D, CaseName_ByStages, 60, 'Representative Days', '1.RES and Demand', '1.OptModel')\n",
    "Folder_D_70 = LoadingData(DirName, Folder_D, CaseName_ByStages, 70, 'Representative Days', '1.RES and Demand', '1.OptModel')\n",
    "Folder_D_80 = LoadingData(DirName, Folder_D, CaseName_ByStages, 80, 'Representative Days', '1.RES and Demand', '1.OptModel')\n",
    "Folder_D_90 = LoadingData(DirName, Folder_D, CaseName_ByStages, 90, 'Representative Days', '1.RES and Demand', '1.OptModel')\n",
    "Folder_D_100 = LoadingData(DirName, Folder_D, CaseName_ByStages, 100, 'Representative Days', '1.RES and Demand', '1.OptModel')"
   ]
  },
  {
   "cell_type": "code",
   "execution_count": 23,
   "metadata": {},
   "outputs": [],
   "source": [
    "Folder_E_10 = LoadingData(DirName, Folder_E, CaseName_ByStages, 10, 'Representative Days', '2.Line Benefits', '1.OptModel')\n",
    "Folder_E_20 = LoadingData(DirName, Folder_E, CaseName_ByStages, 20, 'Representative Days', '2.Line Benefits', '1.OptModel')\n",
    "Folder_E_30 = LoadingData(DirName, Folder_E, CaseName_ByStages, 30, 'Representative Days', '2.Line Benefits', '1.OptModel')\n",
    "Folder_E_40 = LoadingData(DirName, Folder_E, CaseName_ByStages, 40, 'Representative Days', '2.Line Benefits', '1.OptModel')\n",
    "Folder_E_50 = LoadingData(DirName, Folder_E, CaseName_ByStages, 50, 'Representative Days', '2.Line Benefits', '1.OptModel')\n",
    "Folder_E_60 = LoadingData(DirName, Folder_E, CaseName_ByStages, 60, 'Representative Days', '2.Line Benefits', '1.OptModel')\n",
    "Folder_E_70 = LoadingData(DirName, Folder_E, CaseName_ByStages, 70, 'Representative Days', '2.Line Benefits', '1.OptModel')\n",
    "Folder_E_80 = LoadingData(DirName, Folder_E, CaseName_ByStages, 80, 'Representative Days', '2.Line Benefits', '1.OptModel')\n",
    "Folder_E_90 = LoadingData(DirName, Folder_E, CaseName_ByStages, 90, 'Representative Days', '2.Line Benefits', '1.OptModel')\n",
    "Folder_E_100 = LoadingData(DirName, Folder_E, CaseName_ByStages, 100, 'Representative Days', '2.Line Benefits', '1.OptModel')"
   ]
  },
  {
   "cell_type": "code",
   "execution_count": 24,
   "metadata": {},
   "outputs": [],
   "source": [
    "Folder_F_10 = LoadingData(DirName, Folder_F, CaseName_ByStages, 10, 'Representative Days', '2.Line Benefits', '2.NN_OC_fy_1')\n",
    "Folder_F_20 = LoadingData(DirName, Folder_F, CaseName_ByStages, 20, 'Representative Days', '2.Line Benefits', '2.NN_OC_fy_1')\n",
    "Folder_F_30 = LoadingData(DirName, Folder_F, CaseName_ByStages, 30, 'Representative Days', '2.Line Benefits', '2.NN_OC_fy_1')\n",
    "Folder_F_40 = LoadingData(DirName, Folder_F, CaseName_ByStages, 40, 'Representative Days', '2.Line Benefits', '2.NN_OC_fy_1')\n",
    "Folder_F_50 = LoadingData(DirName, Folder_F, CaseName_ByStages, 50, 'Representative Days', '2.Line Benefits', '2.NN_OC_fy_1')\n",
    "Folder_F_60 = LoadingData(DirName, Folder_F, CaseName_ByStages, 60, 'Representative Days', '2.Line Benefits', '2.NN_OC_fy_1')\n",
    "Folder_F_70 = LoadingData(DirName, Folder_F, CaseName_ByStages, 70, 'Representative Days', '2.Line Benefits', '2.NN_OC_fy_1')\n",
    "Folder_F_80 = LoadingData(DirName, Folder_F, CaseName_ByStages, 80, 'Representative Days', '2.Line Benefits', '2.NN_OC_fy_1')\n",
    "Folder_F_90 = LoadingData(DirName, Folder_F, CaseName_ByStages, 90, 'Representative Days', '2.Line Benefits', '2.NN_OC_fy_1')\n",
    "Folder_F_100 = LoadingData(DirName, Folder_F, CaseName_ByStages, 100, 'Representative Days', '2.Line Benefits', '2.NN_OC_fy_1')"
   ]
  },
  {
   "cell_type": "code",
   "execution_count": 25,
   "metadata": {},
   "outputs": [],
   "source": [
    "Folder_G_10 = LoadingData(DirName, Folder_G, CaseName_ByStages, 10, 'Representative Days', '2.Line Benefits', '3.NN_OC_fy_2')\n",
    "Folder_G_20 = LoadingData(DirName, Folder_G, CaseName_ByStages, 20, 'Representative Days', '2.Line Benefits', '3.NN_OC_fy_2')\n",
    "Folder_G_30 = LoadingData(DirName, Folder_G, CaseName_ByStages, 30, 'Representative Days', '2.Line Benefits', '3.NN_OC_fy_2')\n",
    "Folder_G_40 = LoadingData(DirName, Folder_G, CaseName_ByStages, 40, 'Representative Days', '2.Line Benefits', '3.NN_OC_fy_2')\n",
    "Folder_G_50 = LoadingData(DirName, Folder_G, CaseName_ByStages, 50, 'Representative Days', '2.Line Benefits', '3.NN_OC_fy_2')\n",
    "Folder_G_60 = LoadingData(DirName, Folder_G, CaseName_ByStages, 60, 'Representative Days', '2.Line Benefits', '3.NN_OC_fy_2')\n",
    "Folder_G_70 = LoadingData(DirName, Folder_G, CaseName_ByStages, 70, 'Representative Days', '2.Line Benefits', '3.NN_OC_fy_2')\n",
    "Folder_G_80 = LoadingData(DirName, Folder_G, CaseName_ByStages, 80, 'Representative Days', '2.Line Benefits', '3.NN_OC_fy_2')\n",
    "Folder_G_90 = LoadingData(DirName, Folder_G, CaseName_ByStages, 90, 'Representative Days', '2.Line Benefits', '3.NN_OC_fy_2')\n",
    "Folder_G_100 = LoadingData(DirName, Folder_G, CaseName_ByStages, 100, 'Representative Days', '2.Line Benefits', '3.NN_OC_fy_2')"
   ]
  },
  {
   "cell_type": "code",
   "execution_count": 13,
   "metadata": {},
   "outputs": [],
   "source": [
    "# Folder_H_10 = LoadingData(DirName, Folder_H, CaseName_ByStages, 10, 'Representative Days', '2.Line Benefits', '4.NN_OC_fy_3')\n",
    "# Folder_H_20 = LoadingData(DirName, Folder_H, CaseName_ByStages, 20, 'Representative Days', '2.Line Benefits', '4.NN_OC_fy_3')\n",
    "# Folder_H_30 = LoadingData(DirName, Folder_H, CaseName_ByStages, 30, 'Representative Days', '2.Line Benefits', '4.NN_OC_fy_3')\n",
    "# Folder_H_40 = LoadingData(DirName, Folder_H, CaseName_ByStages, 40, 'Representative Days', '2.Line Benefits', '4.NN_OC_fy_3')\n",
    "# Folder_H_50 = LoadingData(DirName, Folder_H, CaseName_ByStages, 50, 'Representative Days', '2.Line Benefits', '4.NN_OC_fy_3')\n",
    "# Folder_H_60 = LoadingData(DirName, Folder_H, CaseName_ByStages, 60, 'Representative Days', '2.Line Benefits', '4.NN_OC_fy_3')\n",
    "# Folder_H_70 = LoadingData(DirName, Folder_H, CaseName_ByStages, 70, 'Representative Days', '2.Line Benefits', '4.NN_OC_fy_3')\n",
    "# Folder_H_80 = LoadingData(DirName, Folder_H, CaseName_ByStages, 80, 'Representative Days', '2.Line Benefits', '4.NN_OC_fy_3')\n",
    "# Folder_H_90 = LoadingData(DirName, Folder_H, CaseName_ByStages, 90, 'Representative Days', '2.Line Benefits', '4.NN_OC_fy_3')\n",
    "# Folder_H_100 = LoadingData(DirName, Folder_H, CaseName_ByStages, 100, 'Representative Days', '2.Line Benefits', '4.NN_OC_fy_3')"
   ]
  },
  {
   "cell_type": "code",
   "execution_count": 14,
   "metadata": {},
   "outputs": [],
   "source": [
    "# Folder_I_10 = LoadingData(DirName, Folder_I, CaseName_ByStages, 10, 'Representative Days', '2.Line Benefits', '5.NN_OC_fy_4')\n",
    "# Folder_I_20 = LoadingData(DirName, Folder_I, CaseName_ByStages, 20, 'Representative Days', '2.Line Benefits', '5.NN_OC_fy_4')\n",
    "# Folder_I_30 = LoadingData(DirName, Folder_I, CaseName_ByStages, 30, 'Representative Days', '2.Line Benefits', '5.NN_OC_fy_4')\n",
    "# Folder_I_40 = LoadingData(DirName, Folder_I, CaseName_ByStages, 40, 'Representative Days', '2.Line Benefits', '5.NN_OC_fy_4')\n",
    "# Folder_I_50 = LoadingData(DirName, Folder_I, CaseName_ByStages, 50, 'Representative Days', '2.Line Benefits', '5.NN_OC_fy_4')\n",
    "# Folder_I_60 = LoadingData(DirName, Folder_I, CaseName_ByStages, 60, 'Representative Days', '2.Line Benefits', '5.NN_OC_fy_4')\n",
    "# Folder_I_70 = LoadingData(DirName, Folder_I, CaseName_ByStages, 70, 'Representative Days', '2.Line Benefits', '5.NN_OC_fy_4')\n",
    "# Folder_I_80 = LoadingData(DirName, Folder_I, CaseName_ByStages, 80, 'Representative Days', '2.Line Benefits', '5.NN_OC_fy_4')\n",
    "# Folder_I_90 = LoadingData(DirName, Folder_I, CaseName_ByStages, 90, 'Representative Days', '2.Line Benefits', '5.NN_OC_fy_4')\n",
    "# Folder_I_100 = LoadingData(DirName, Folder_I, CaseName_ByStages, 100, 'Representative Days', '2.Line Benefits', '5.NN_OC_fy_4')"
   ]
  },
  {
   "cell_type": "code",
   "execution_count": 26,
   "metadata": {},
   "outputs": [],
   "source": [
    "df_D = pd.concat([Folder_D_10, Folder_D_20, Folder_D_30, Folder_D_40, Folder_D_50, Folder_D_60, Folder_D_70, Folder_D_80, Folder_D_90, Folder_D_100], axis=0)"
   ]
  },
  {
   "cell_type": "code",
   "execution_count": 27,
   "metadata": {},
   "outputs": [],
   "source": [
    "df_E = pd.concat([Folder_E_10, Folder_E_20, Folder_E_30, Folder_E_40, Folder_E_50, Folder_E_60, Folder_E_70, Folder_E_80, Folder_E_90, Folder_E_100], axis=0)"
   ]
  },
  {
   "cell_type": "code",
   "execution_count": 28,
   "metadata": {},
   "outputs": [],
   "source": [
    "df_F = pd.concat([Folder_F_10, Folder_F_20, Folder_F_30, Folder_F_40, Folder_F_50, Folder_F_60, Folder_F_70, Folder_F_80, Folder_F_90, Folder_F_100], axis=0)"
   ]
  },
  {
   "cell_type": "code",
   "execution_count": 29,
   "metadata": {},
   "outputs": [],
   "source": [
    "df_G = pd.concat([Folder_G_10, Folder_G_20, Folder_G_30, Folder_G_40, Folder_G_50, Folder_G_60, Folder_G_70, Folder_G_80, Folder_G_90, Folder_G_100], axis=0)"
   ]
  },
  {
   "cell_type": "code",
   "execution_count": 19,
   "metadata": {},
   "outputs": [],
   "source": [
    "# df_H = pd.concat([Folder_H_10, Folder_H_20, Folder_H_30, Folder_H_40, Folder_H_50, Folder_H_60, Folder_H_70, Folder_H_80, Folder_H_90, Folder_H_100], axis=0)"
   ]
  },
  {
   "cell_type": "code",
   "execution_count": 20,
   "metadata": {},
   "outputs": [],
   "source": [
    "# df_I = pd.concat([Folder_I_10, Folder_I_20, Folder_I_30, Folder_I_40, Folder_I_50, Folder_I_60, Folder_I_70, Folder_I_80, Folder_I_90, Folder_I_100], axis=0)"
   ]
  },
  {
   "cell_type": "code",
   "execution_count": 30,
   "metadata": {},
   "outputs": [],
   "source": [
    "# df = pd.concat([df_A, df_D, df_E, df_F, df_G, df_H, df_I], axis=0)\n",
    "df = pd.concat([df_A, df_D, df_E, df_F, df_G], axis=0)"
   ]
  },
  {
   "cell_type": "code",
   "execution_count": 31,
   "metadata": {},
   "outputs": [],
   "source": [
    "df = df.reset_index()"
   ]
  },
  {
   "cell_type": "code",
   "execution_count": 32,
   "metadata": {},
   "outputs": [
    {
     "data": {
      "text/html": [
       "<div>\n",
       "<style scoped>\n",
       "    .dataframe tbody tr th:only-of-type {\n",
       "        vertical-align: middle;\n",
       "    }\n",
       "\n",
       "    .dataframe tbody tr th {\n",
       "        vertical-align: top;\n",
       "    }\n",
       "\n",
       "    .dataframe thead th {\n",
       "        text-align: right;\n",
       "    }\n",
       "</style>\n",
       "<table border=\"1\" class=\"dataframe\">\n",
       "  <thead>\n",
       "    <tr style=\"text-align: right;\">\n",
       "      <th></th>\n",
       "      <th>CaseName</th>\n",
       "      <th>Category1</th>\n",
       "      <th>Category2</th>\n",
       "      <th>Category3</th>\n",
       "      <th>Category4</th>\n",
       "      <th>Period</th>\n",
       "      <th>Cost/Payment</th>\n",
       "      <th>MEUR</th>\n",
       "    </tr>\n",
       "  </thead>\n",
       "  <tbody>\n",
       "    <tr>\n",
       "      <th>0</th>\n",
       "      <td>A.The_full_year_MILP - RTS24</td>\n",
       "      <td>A</td>\n",
       "      <td>0.Full Year</td>\n",
       "      <td>MILP</td>\n",
       "      <td>10</td>\n",
       "      <td></td>\n",
       "      <td>Total          System Cost</td>\n",
       "      <td>107.305613</td>\n",
       "    </tr>\n",
       "    <tr>\n",
       "      <th>1</th>\n",
       "      <td>A.The_full_year_MILP - RTS24</td>\n",
       "      <td>A</td>\n",
       "      <td>0.Full Year</td>\n",
       "      <td>MILP</td>\n",
       "      <td>10</td>\n",
       "      <td>2030</td>\n",
       "      <td>Generation Investment Cost</td>\n",
       "      <td>0.000000</td>\n",
       "    </tr>\n",
       "    <tr>\n",
       "      <th>2</th>\n",
       "      <td>A.The_full_year_MILP - RTS24</td>\n",
       "      <td>A</td>\n",
       "      <td>0.Full Year</td>\n",
       "      <td>MILP</td>\n",
       "      <td>10</td>\n",
       "      <td>2030</td>\n",
       "      <td>Network    Investment Cost</td>\n",
       "      <td>19.356181</td>\n",
       "    </tr>\n",
       "    <tr>\n",
       "      <th>3</th>\n",
       "      <td>A.The_full_year_MILP - RTS24</td>\n",
       "      <td>A</td>\n",
       "      <td>0.Full Year</td>\n",
       "      <td>MILP</td>\n",
       "      <td>10</td>\n",
       "      <td>2030</td>\n",
       "      <td>Generation  Operation Cost</td>\n",
       "      <td>39.030505</td>\n",
       "    </tr>\n",
       "    <tr>\n",
       "      <th>4</th>\n",
       "      <td>A.The_full_year_MILP - RTS24</td>\n",
       "      <td>A</td>\n",
       "      <td>0.Full Year</td>\n",
       "      <td>MILP</td>\n",
       "      <td>10</td>\n",
       "      <td>2030</td>\n",
       "      <td>Consumption Operation Cost</td>\n",
       "      <td>0.000000</td>\n",
       "    </tr>\n",
       "    <tr>\n",
       "      <th>...</th>\n",
       "      <td>...</td>\n",
       "      <td>...</td>\n",
       "      <td>...</td>\n",
       "      <td>...</td>\n",
       "      <td>...</td>\n",
       "      <td>...</td>\n",
       "      <td>...</td>\n",
       "      <td>...</td>\n",
       "    </tr>\n",
       "    <tr>\n",
       "      <th>345</th>\n",
       "      <td>G.Representative_days_based_on_Line_Benefit_NN...</td>\n",
       "      <td>Representative Days</td>\n",
       "      <td>2.Line Benefits</td>\n",
       "      <td>3.NN_OC_fy_2</td>\n",
       "      <td>100</td>\n",
       "      <td>2030</td>\n",
       "      <td>Network    Investment Cost</td>\n",
       "      <td>19.356181</td>\n",
       "    </tr>\n",
       "    <tr>\n",
       "      <th>346</th>\n",
       "      <td>G.Representative_days_based_on_Line_Benefit_NN...</td>\n",
       "      <td>Representative Days</td>\n",
       "      <td>2.Line Benefits</td>\n",
       "      <td>3.NN_OC_fy_2</td>\n",
       "      <td>100</td>\n",
       "      <td>2030</td>\n",
       "      <td>Generation  Operation Cost</td>\n",
       "      <td>37.495826</td>\n",
       "    </tr>\n",
       "    <tr>\n",
       "      <th>347</th>\n",
       "      <td>G.Representative_days_based_on_Line_Benefit_NN...</td>\n",
       "      <td>Representative Days</td>\n",
       "      <td>2.Line Benefits</td>\n",
       "      <td>3.NN_OC_fy_2</td>\n",
       "      <td>100</td>\n",
       "      <td>2030</td>\n",
       "      <td>Consumption Operation Cost</td>\n",
       "      <td>0.000000</td>\n",
       "    </tr>\n",
       "    <tr>\n",
       "      <th>348</th>\n",
       "      <td>G.Representative_days_based_on_Line_Benefit_NN...</td>\n",
       "      <td>Representative Days</td>\n",
       "      <td>2.Line Benefits</td>\n",
       "      <td>3.NN_OC_fy_2</td>\n",
       "      <td>100</td>\n",
       "      <td>2030</td>\n",
       "      <td>Emission              Cost</td>\n",
       "      <td>46.866035</td>\n",
       "    </tr>\n",
       "    <tr>\n",
       "      <th>349</th>\n",
       "      <td>G.Representative_days_based_on_Line_Benefit_NN...</td>\n",
       "      <td>Representative Days</td>\n",
       "      <td>2.Line Benefits</td>\n",
       "      <td>3.NN_OC_fy_2</td>\n",
       "      <td>100</td>\n",
       "      <td>2030</td>\n",
       "      <td>Reliability           Cost</td>\n",
       "      <td>0.000000</td>\n",
       "    </tr>\n",
       "  </tbody>\n",
       "</table>\n",
       "<p>350 rows × 8 columns</p>\n",
       "</div>"
      ],
      "text/plain": [
       "                                              CaseName            Category1   \n",
       "0                         A.The_full_year_MILP - RTS24                    A  \\\n",
       "1                         A.The_full_year_MILP - RTS24                    A   \n",
       "2                         A.The_full_year_MILP - RTS24                    A   \n",
       "3                         A.The_full_year_MILP - RTS24                    A   \n",
       "4                         A.The_full_year_MILP - RTS24                    A   \n",
       "..                                                 ...                  ...   \n",
       "345  G.Representative_days_based_on_Line_Benefit_NN...  Representative Days   \n",
       "346  G.Representative_days_based_on_Line_Benefit_NN...  Representative Days   \n",
       "347  G.Representative_days_based_on_Line_Benefit_NN...  Representative Days   \n",
       "348  G.Representative_days_based_on_Line_Benefit_NN...  Representative Days   \n",
       "349  G.Representative_days_based_on_Line_Benefit_NN...  Representative Days   \n",
       "\n",
       "           Category2     Category3  Category4 Period   \n",
       "0        0.Full Year          MILP         10         \\\n",
       "1        0.Full Year          MILP         10   2030   \n",
       "2        0.Full Year          MILP         10   2030   \n",
       "3        0.Full Year          MILP         10   2030   \n",
       "4        0.Full Year          MILP         10   2030   \n",
       "..               ...           ...        ...    ...   \n",
       "345  2.Line Benefits  3.NN_OC_fy_2        100   2030   \n",
       "346  2.Line Benefits  3.NN_OC_fy_2        100   2030   \n",
       "347  2.Line Benefits  3.NN_OC_fy_2        100   2030   \n",
       "348  2.Line Benefits  3.NN_OC_fy_2        100   2030   \n",
       "349  2.Line Benefits  3.NN_OC_fy_2        100   2030   \n",
       "\n",
       "                   Cost/Payment        MEUR  \n",
       "0    Total          System Cost  107.305613  \n",
       "1    Generation Investment Cost    0.000000  \n",
       "2    Network    Investment Cost   19.356181  \n",
       "3    Generation  Operation Cost   39.030505  \n",
       "4    Consumption Operation Cost    0.000000  \n",
       "..                          ...         ...  \n",
       "345  Network    Investment Cost   19.356181  \n",
       "346  Generation  Operation Cost   37.495826  \n",
       "347  Consumption Operation Cost    0.000000  \n",
       "348  Emission              Cost   46.866035  \n",
       "349  Reliability           Cost    0.000000  \n",
       "\n",
       "[350 rows x 8 columns]"
      ]
     },
     "execution_count": 32,
     "metadata": {},
     "output_type": "execute_result"
    }
   ],
   "source": [
    "df"
   ]
  },
  {
   "cell_type": "code",
   "execution_count": 33,
   "metadata": {},
   "outputs": [],
   "source": [
    "df = df[['CaseName', 'Category1', 'Category2', 'Category3', 'Category4', 'Cost/Payment', 'MEUR']]"
   ]
  },
  {
   "cell_type": "code",
   "execution_count": 34,
   "metadata": {},
   "outputs": [],
   "source": [
    "df = df.loc[df['Cost/Payment'] == 'Total          System Cost']"
   ]
  },
  {
   "cell_type": "code",
   "execution_count": 35,
   "metadata": {},
   "outputs": [],
   "source": [
    "df = pd.pivot_table(df, values='MEUR', index=['CaseName', 'Category1', 'Category2', 'Category3', 'Category4'], aggfunc='first')"
   ]
  },
  {
   "cell_type": "code",
   "execution_count": 36,
   "metadata": {},
   "outputs": [
    {
     "data": {
      "text/html": [
       "<div>\n",
       "<style scoped>\n",
       "    .dataframe tbody tr th:only-of-type {\n",
       "        vertical-align: middle;\n",
       "    }\n",
       "\n",
       "    .dataframe tbody tr th {\n",
       "        vertical-align: top;\n",
       "    }\n",
       "\n",
       "    .dataframe thead th {\n",
       "        text-align: right;\n",
       "    }\n",
       "</style>\n",
       "<table border=\"1\" class=\"dataframe\">\n",
       "  <thead>\n",
       "    <tr style=\"text-align: right;\">\n",
       "      <th></th>\n",
       "      <th></th>\n",
       "      <th></th>\n",
       "      <th></th>\n",
       "      <th></th>\n",
       "      <th>MEUR</th>\n",
       "    </tr>\n",
       "    <tr>\n",
       "      <th>CaseName</th>\n",
       "      <th>Category1</th>\n",
       "      <th>Category2</th>\n",
       "      <th>Category3</th>\n",
       "      <th>Category4</th>\n",
       "      <th></th>\n",
       "    </tr>\n",
       "  </thead>\n",
       "  <tbody>\n",
       "    <tr>\n",
       "      <th rowspan=\"10\" valign=\"top\">A.The_full_year_MILP - RTS24</th>\n",
       "      <th rowspan=\"10\" valign=\"top\">A</th>\n",
       "      <th rowspan=\"10\" valign=\"top\">0.Full Year</th>\n",
       "      <th rowspan=\"10\" valign=\"top\">MILP</th>\n",
       "      <th>10</th>\n",
       "      <td>107.305613</td>\n",
       "    </tr>\n",
       "    <tr>\n",
       "      <th>20</th>\n",
       "      <td>107.305613</td>\n",
       "    </tr>\n",
       "    <tr>\n",
       "      <th>30</th>\n",
       "      <td>107.305613</td>\n",
       "    </tr>\n",
       "    <tr>\n",
       "      <th>40</th>\n",
       "      <td>107.305613</td>\n",
       "    </tr>\n",
       "    <tr>\n",
       "      <th>50</th>\n",
       "      <td>107.305613</td>\n",
       "    </tr>\n",
       "    <tr>\n",
       "      <th>60</th>\n",
       "      <td>107.305613</td>\n",
       "    </tr>\n",
       "    <tr>\n",
       "      <th>70</th>\n",
       "      <td>107.305613</td>\n",
       "    </tr>\n",
       "    <tr>\n",
       "      <th>80</th>\n",
       "      <td>107.305613</td>\n",
       "    </tr>\n",
       "    <tr>\n",
       "      <th>90</th>\n",
       "      <td>107.305613</td>\n",
       "    </tr>\n",
       "    <tr>\n",
       "      <th>100</th>\n",
       "      <td>107.305613</td>\n",
       "    </tr>\n",
       "  </tbody>\n",
       "</table>\n",
       "</div>"
      ],
      "text/plain": [
       "                                                                              MEUR\n",
       "CaseName                     Category1 Category2   Category3 Category4            \n",
       "A.The_full_year_MILP - RTS24 A         0.Full Year MILP      10         107.305613\n",
       "                                                             20         107.305613\n",
       "                                                             30         107.305613\n",
       "                                                             40         107.305613\n",
       "                                                             50         107.305613\n",
       "                                                             60         107.305613\n",
       "                                                             70         107.305613\n",
       "                                                             80         107.305613\n",
       "                                                             90         107.305613\n",
       "                                                             100        107.305613"
      ]
     },
     "execution_count": 36,
     "metadata": {},
     "output_type": "execute_result"
    }
   ],
   "source": [
    "df.head(10)"
   ]
  },
  {
   "cell_type": "code",
   "execution_count": 37,
   "metadata": {},
   "outputs": [],
   "source": [
    "df = df.reset_index()"
   ]
  },
  {
   "cell_type": "code",
   "execution_count": 38,
   "metadata": {},
   "outputs": [],
   "source": [
    "df['Category5'] = df['Category2'] + ' - ' + df['Category3']"
   ]
  },
  {
   "cell_type": "code",
   "execution_count": 39,
   "metadata": {},
   "outputs": [
    {
     "data": {
      "text/html": [
       "\n",
       "<style>\n",
       "  #altair-viz-9ff28a033e244ac186b65f87422e0d58.vega-embed {\n",
       "    width: 100%;\n",
       "    display: flex;\n",
       "  }\n",
       "\n",
       "  #altair-viz-9ff28a033e244ac186b65f87422e0d58.vega-embed details,\n",
       "  #altair-viz-9ff28a033e244ac186b65f87422e0d58.vega-embed details summary {\n",
       "    position: relative;\n",
       "  }\n",
       "</style>\n",
       "<div id=\"altair-viz-9ff28a033e244ac186b65f87422e0d58\"></div>\n",
       "<script type=\"text/javascript\">\n",
       "  var VEGA_DEBUG = (typeof VEGA_DEBUG == \"undefined\") ? {} : VEGA_DEBUG;\n",
       "  (function(spec, embedOpt){\n",
       "    let outputDiv = document.currentScript.previousElementSibling;\n",
       "    if (outputDiv.id !== \"altair-viz-9ff28a033e244ac186b65f87422e0d58\") {\n",
       "      outputDiv = document.getElementById(\"altair-viz-9ff28a033e244ac186b65f87422e0d58\");\n",
       "    }\n",
       "    const paths = {\n",
       "      \"vega\": \"https://cdn.jsdelivr.net/npm/vega@5?noext\",\n",
       "      \"vega-lib\": \"https://cdn.jsdelivr.net/npm/vega-lib?noext\",\n",
       "      \"vega-lite\": \"https://cdn.jsdelivr.net/npm/vega-lite@5.8.0?noext\",\n",
       "      \"vega-embed\": \"https://cdn.jsdelivr.net/npm/vega-embed@6?noext\",\n",
       "    };\n",
       "\n",
       "    function maybeLoadScript(lib, version) {\n",
       "      var key = `${lib.replace(\"-\", \"\")}_version`;\n",
       "      return (VEGA_DEBUG[key] == version) ?\n",
       "        Promise.resolve(paths[lib]) :\n",
       "        new Promise(function(resolve, reject) {\n",
       "          var s = document.createElement('script');\n",
       "          document.getElementsByTagName(\"head\")[0].appendChild(s);\n",
       "          s.async = true;\n",
       "          s.onload = () => {\n",
       "            VEGA_DEBUG[key] = version;\n",
       "            return resolve(paths[lib]);\n",
       "          };\n",
       "          s.onerror = () => reject(`Error loading script: ${paths[lib]}`);\n",
       "          s.src = paths[lib];\n",
       "        });\n",
       "    }\n",
       "\n",
       "    function showError(err) {\n",
       "      outputDiv.innerHTML = `<div class=\"error\" style=\"color:red;\">${err}</div>`;\n",
       "      throw err;\n",
       "    }\n",
       "\n",
       "    function displayChart(vegaEmbed) {\n",
       "      vegaEmbed(outputDiv, spec, embedOpt)\n",
       "        .catch(err => showError(`Javascript Error: ${err.message}<br>This usually means there's a typo in your chart specification. See the javascript console for the full traceback.`));\n",
       "    }\n",
       "\n",
       "    if(typeof define === \"function\" && define.amd) {\n",
       "      requirejs.config({paths});\n",
       "      require([\"vega-embed\"], displayChart, err => showError(`Error loading script: ${err.message}`));\n",
       "    } else {\n",
       "      maybeLoadScript(\"vega\", \"5\")\n",
       "        .then(() => maybeLoadScript(\"vega-lite\", \"5.8.0\"))\n",
       "        .then(() => maybeLoadScript(\"vega-embed\", \"6\"))\n",
       "        .catch(showError)\n",
       "        .then(() => displayChart(vegaEmbed));\n",
       "    }\n",
       "  })({\"config\": {\"view\": {\"continuousWidth\": 300, \"continuousHeight\": 300}, \"axis\": {\"labelFontSize\": 20, \"titleFontSize\": 20}, \"legend\": {\"gradientLength\": 400, \"gradientThickness\": 30, \"labelFontSize\": 20, \"orient\": \"right\"}}, \"data\": {\"name\": \"data-53cc05058eded87bf11d3a4cf5363edd\"}, \"mark\": {\"type\": \"line\", \"point\": {\"color\": \"red\"}}, \"encoding\": {\"color\": {\"field\": \"Category5\", \"title\": \"\", \"type\": \"nominal\"}, \"text\": {\"field\": \"MEUR\", \"format\": \".0f\", \"type\": \"quantitative\"}, \"x\": {\"field\": \"Category4\", \"title\": \"Number of Clusters\", \"type\": \"ordinal\"}, \"y\": {\"field\": \"MEUR\", \"scale\": {\"domain\": [84.9618184385189, 115.1601862238074]}, \"type\": \"quantitative\"}}, \"height\": 300, \"width\": 700, \"$schema\": \"https://vega.github.io/schema/vega-lite/v5.8.0.json\", \"datasets\": {\"data-53cc05058eded87bf11d3a4cf5363edd\": [{\"CaseName\": \"A.The_full_year_MILP - RTS24\", \"Category1\": \"A\", \"Category2\": \"0.Full Year\", \"Category3\": \"MILP\", \"Category4\": 10, \"MEUR\": 107.3056131672964, \"Category5\": \"0.Full Year - MILP\"}, {\"CaseName\": \"A.The_full_year_MILP - RTS24\", \"Category1\": \"A\", \"Category2\": \"0.Full Year\", \"Category3\": \"MILP\", \"Category4\": 20, \"MEUR\": 107.3056131672964, \"Category5\": \"0.Full Year - MILP\"}, {\"CaseName\": \"A.The_full_year_MILP - RTS24\", \"Category1\": \"A\", \"Category2\": \"0.Full Year\", \"Category3\": \"MILP\", \"Category4\": 30, \"MEUR\": 107.3056131672964, \"Category5\": \"0.Full Year - MILP\"}, {\"CaseName\": \"A.The_full_year_MILP - RTS24\", \"Category1\": \"A\", \"Category2\": \"0.Full Year\", \"Category3\": \"MILP\", \"Category4\": 40, \"MEUR\": 107.3056131672964, \"Category5\": \"0.Full Year - MILP\"}, {\"CaseName\": \"A.The_full_year_MILP - RTS24\", \"Category1\": \"A\", \"Category2\": \"0.Full Year\", \"Category3\": \"MILP\", \"Category4\": 50, \"MEUR\": 107.3056131672964, \"Category5\": \"0.Full Year - MILP\"}, {\"CaseName\": \"A.The_full_year_MILP - RTS24\", \"Category1\": \"A\", \"Category2\": \"0.Full Year\", \"Category3\": \"MILP\", \"Category4\": 60, \"MEUR\": 107.3056131672964, \"Category5\": \"0.Full Year - MILP\"}, {\"CaseName\": \"A.The_full_year_MILP - RTS24\", \"Category1\": \"A\", \"Category2\": \"0.Full Year\", \"Category3\": \"MILP\", \"Category4\": 70, \"MEUR\": 107.3056131672964, \"Category5\": \"0.Full Year - MILP\"}, {\"CaseName\": \"A.The_full_year_MILP - RTS24\", \"Category1\": \"A\", \"Category2\": \"0.Full Year\", \"Category3\": \"MILP\", \"Category4\": 80, \"MEUR\": 107.3056131672964, \"Category5\": \"0.Full Year - MILP\"}, {\"CaseName\": \"A.The_full_year_MILP - RTS24\", \"Category1\": \"A\", \"Category2\": \"0.Full Year\", \"Category3\": \"MILP\", \"Category4\": 90, \"MEUR\": 107.3056131672964, \"Category5\": \"0.Full Year - MILP\"}, {\"CaseName\": \"A.The_full_year_MILP - RTS24\", \"Category1\": \"A\", \"Category2\": \"0.Full Year\", \"Category3\": \"MILP\", \"Category4\": 100, \"MEUR\": 107.3056131672964, \"Category5\": \"0.Full Year - MILP\"}, {\"CaseName\": \"D.Representative_days_based_on_RES_and_Demand - RTS24_ByStages_nc10\", \"Category1\": \"Representative Days\", \"Category2\": \"1.RES and Demand\", \"Category3\": \"1.OptModel\", \"Category4\": 10, \"MEUR\": 84.9618184385189, \"Category5\": \"1.RES and Demand - 1.OptModel\"}, {\"CaseName\": \"D.Representative_days_based_on_RES_and_Demand - RTS24_ByStages_nc100\", \"Category1\": \"Representative Days\", \"Category2\": \"1.RES and Demand\", \"Category3\": \"1.OptModel\", \"Category4\": 100, \"MEUR\": 107.15336124878212, \"Category5\": \"1.RES and Demand - 1.OptModel\"}, {\"CaseName\": \"D.Representative_days_based_on_RES_and_Demand - RTS24_ByStages_nc20\", \"Category1\": \"Representative Days\", \"Category2\": \"1.RES and Demand\", \"Category3\": \"1.OptModel\", \"Category4\": 20, \"MEUR\": 101.5233122946742, \"Category5\": \"1.RES and Demand - 1.OptModel\"}, {\"CaseName\": \"D.Representative_days_based_on_RES_and_Demand - RTS24_ByStages_nc30\", \"Category1\": \"Representative Days\", \"Category2\": \"1.RES and Demand\", \"Category3\": \"1.OptModel\", \"Category4\": 30, \"MEUR\": 102.683040653561, \"Category5\": \"1.RES and Demand - 1.OptModel\"}, {\"CaseName\": \"D.Representative_days_based_on_RES_and_Demand - RTS24_ByStages_nc40\", \"Category1\": \"Representative Days\", \"Category2\": \"1.RES and Demand\", \"Category3\": \"1.OptModel\", \"Category4\": 40, \"MEUR\": 98.23607731412896, \"Category5\": \"1.RES and Demand - 1.OptModel\"}, {\"CaseName\": \"D.Representative_days_based_on_RES_and_Demand - RTS24_ByStages_nc50\", \"Category1\": \"Representative Days\", \"Category2\": \"1.RES and Demand\", \"Category3\": \"1.OptModel\", \"Category4\": 50, \"MEUR\": 108.77879078244146, \"Category5\": \"1.RES and Demand - 1.OptModel\"}, {\"CaseName\": \"D.Representative_days_based_on_RES_and_Demand - RTS24_ByStages_nc60\", \"Category1\": \"Representative Days\", \"Category2\": \"1.RES and Demand\", \"Category3\": \"1.OptModel\", \"Category4\": 60, \"MEUR\": 106.92668659718566, \"Category5\": \"1.RES and Demand - 1.OptModel\"}, {\"CaseName\": \"D.Representative_days_based_on_RES_and_Demand - RTS24_ByStages_nc70\", \"Category1\": \"Representative Days\", \"Category2\": \"1.RES and Demand\", \"Category3\": \"1.OptModel\", \"Category4\": 70, \"MEUR\": 105.2363027988876, \"Category5\": \"1.RES and Demand - 1.OptModel\"}, {\"CaseName\": \"D.Representative_days_based_on_RES_and_Demand - RTS24_ByStages_nc80\", \"Category1\": \"Representative Days\", \"Category2\": \"1.RES and Demand\", \"Category3\": \"1.OptModel\", \"Category4\": 80, \"MEUR\": 103.54605889116102, \"Category5\": \"1.RES and Demand - 1.OptModel\"}, {\"CaseName\": \"D.Representative_days_based_on_RES_and_Demand - RTS24_ByStages_nc90\", \"Category1\": \"Representative Days\", \"Category2\": \"1.RES and Demand\", \"Category3\": \"1.OptModel\", \"Category4\": 90, \"MEUR\": 103.48236305067958, \"Category5\": \"1.RES and Demand - 1.OptModel\"}, {\"CaseName\": \"E.Representative_days_based_on_Line_Benefits_OptModel - RTS24_ByStages_nc10\", \"Category1\": \"Representative Days\", \"Category2\": \"2.Line Benefits\", \"Category3\": \"1.OptModel\", \"Category4\": 10, \"MEUR\": 87.17141065537034, \"Category5\": \"2.Line Benefits - 1.OptModel\"}, {\"CaseName\": \"E.Representative_days_based_on_Line_Benefits_OptModel - RTS24_ByStages_nc100\", \"Category1\": \"Representative Days\", \"Category2\": \"2.Line Benefits\", \"Category3\": \"1.OptModel\", \"Category4\": 100, \"MEUR\": 102.7763009894516, \"Category5\": \"2.Line Benefits - 1.OptModel\"}, {\"CaseName\": \"E.Representative_days_based_on_Line_Benefits_OptModel - RTS24_ByStages_nc20\", \"Category1\": \"Representative Days\", \"Category2\": \"2.Line Benefits\", \"Category3\": \"1.OptModel\", \"Category4\": 20, \"MEUR\": 93.25556640834012, \"Category5\": \"2.Line Benefits - 1.OptModel\"}, {\"CaseName\": \"E.Representative_days_based_on_Line_Benefits_OptModel - RTS24_ByStages_nc30\", \"Category1\": \"Representative Days\", \"Category2\": \"2.Line Benefits\", \"Category3\": \"1.OptModel\", \"Category4\": 30, \"MEUR\": 112.75543215681824, \"Category5\": \"2.Line Benefits - 1.OptModel\"}, {\"CaseName\": \"E.Representative_days_based_on_Line_Benefits_OptModel - RTS24_ByStages_nc40\", \"Category1\": \"Representative Days\", \"Category2\": \"2.Line Benefits\", \"Category3\": \"1.OptModel\", \"Category4\": 40, \"MEUR\": 115.1601862238074, \"Category5\": \"2.Line Benefits - 1.OptModel\"}, {\"CaseName\": \"E.Representative_days_based_on_Line_Benefits_OptModel - RTS24_ByStages_nc50\", \"Category1\": \"Representative Days\", \"Category2\": \"2.Line Benefits\", \"Category3\": \"1.OptModel\", \"Category4\": 50, \"MEUR\": 107.29303583643122, \"Category5\": \"2.Line Benefits - 1.OptModel\"}, {\"CaseName\": \"E.Representative_days_based_on_Line_Benefits_OptModel - RTS24_ByStages_nc60\", \"Category1\": \"Representative Days\", \"Category2\": \"2.Line Benefits\", \"Category3\": \"1.OptModel\", \"Category4\": 60, \"MEUR\": 103.85851976723848, \"Category5\": \"2.Line Benefits - 1.OptModel\"}, {\"CaseName\": \"E.Representative_days_based_on_Line_Benefits_OptModel - RTS24_ByStages_nc70\", \"Category1\": \"Representative Days\", \"Category2\": \"2.Line Benefits\", \"Category3\": \"1.OptModel\", \"Category4\": 70, \"MEUR\": 99.12579945048466, \"Category5\": \"2.Line Benefits - 1.OptModel\"}, {\"CaseName\": \"E.Representative_days_based_on_Line_Benefits_OptModel - RTS24_ByStages_nc80\", \"Category1\": \"Representative Days\", \"Category2\": \"2.Line Benefits\", \"Category3\": \"1.OptModel\", \"Category4\": 80, \"MEUR\": 106.3107471213558, \"Category5\": \"2.Line Benefits - 1.OptModel\"}, {\"CaseName\": \"E.Representative_days_based_on_Line_Benefits_OptModel - RTS24_ByStages_nc90\", \"Category1\": \"Representative Days\", \"Category2\": \"2.Line Benefits\", \"Category3\": \"1.OptModel\", \"Category4\": 90, \"MEUR\": 104.80968948434948, \"Category5\": \"2.Line Benefits - 1.OptModel\"}, {\"CaseName\": \"F.Representative_days_based_on_Line_Benefit_NN_OC_fy_1 - RTS24_ByStages_nc10\", \"Category1\": \"Representative Days\", \"Category2\": \"2.Line Benefits\", \"Category3\": \"2.NN_OC_fy_1\", \"Category4\": 10, \"MEUR\": 101.99773770784591, \"Category5\": \"2.Line Benefits - 2.NN_OC_fy_1\"}, {\"CaseName\": \"F.Representative_days_based_on_Line_Benefit_NN_OC_fy_1 - RTS24_ByStages_nc100\", \"Category1\": \"Representative Days\", \"Category2\": \"2.Line Benefits\", \"Category3\": \"2.NN_OC_fy_1\", \"Category4\": 100, \"MEUR\": 104.65398905949176, \"Category5\": \"2.Line Benefits - 2.NN_OC_fy_1\"}, {\"CaseName\": \"F.Representative_days_based_on_Line_Benefit_NN_OC_fy_1 - RTS24_ByStages_nc20\", \"Category1\": \"Representative Days\", \"Category2\": \"2.Line Benefits\", \"Category3\": \"2.NN_OC_fy_1\", \"Category4\": 20, \"MEUR\": 105.98774840526762, \"Category5\": \"2.Line Benefits - 2.NN_OC_fy_1\"}, {\"CaseName\": \"F.Representative_days_based_on_Line_Benefit_NN_OC_fy_1 - RTS24_ByStages_nc30\", \"Category1\": \"Representative Days\", \"Category2\": \"2.Line Benefits\", \"Category3\": \"2.NN_OC_fy_1\", \"Category4\": 30, \"MEUR\": 107.20315717405866, \"Category5\": \"2.Line Benefits - 2.NN_OC_fy_1\"}, {\"CaseName\": \"F.Representative_days_based_on_Line_Benefit_NN_OC_fy_1 - RTS24_ByStages_nc40\", \"Category1\": \"Representative Days\", \"Category2\": \"2.Line Benefits\", \"Category3\": \"2.NN_OC_fy_1\", \"Category4\": 40, \"MEUR\": 103.26106235763112, \"Category5\": \"2.Line Benefits - 2.NN_OC_fy_1\"}, {\"CaseName\": \"F.Representative_days_based_on_Line_Benefit_NN_OC_fy_1 - RTS24_ByStages_nc50\", \"Category1\": \"Representative Days\", \"Category2\": \"2.Line Benefits\", \"Category3\": \"2.NN_OC_fy_1\", \"Category4\": 50, \"MEUR\": 105.2139850788718, \"Category5\": \"2.Line Benefits - 2.NN_OC_fy_1\"}, {\"CaseName\": \"F.Representative_days_based_on_Line_Benefit_NN_OC_fy_1 - RTS24_ByStages_nc60\", \"Category1\": \"Representative Days\", \"Category2\": \"2.Line Benefits\", \"Category3\": \"2.NN_OC_fy_1\", \"Category4\": 60, \"MEUR\": 105.83113877434567, \"Category5\": \"2.Line Benefits - 2.NN_OC_fy_1\"}, {\"CaseName\": \"F.Representative_days_based_on_Line_Benefit_NN_OC_fy_1 - RTS24_ByStages_nc70\", \"Category1\": \"Representative Days\", \"Category2\": \"2.Line Benefits\", \"Category3\": \"2.NN_OC_fy_1\", \"Category4\": 70, \"MEUR\": 105.6032817886449, \"Category5\": \"2.Line Benefits - 2.NN_OC_fy_1\"}, {\"CaseName\": \"F.Representative_days_based_on_Line_Benefit_NN_OC_fy_1 - RTS24_ByStages_nc80\", \"Category1\": \"Representative Days\", \"Category2\": \"2.Line Benefits\", \"Category3\": \"2.NN_OC_fy_1\", \"Category4\": 80, \"MEUR\": 106.71433014821876, \"Category5\": \"2.Line Benefits - 2.NN_OC_fy_1\"}, {\"CaseName\": \"F.Representative_days_based_on_Line_Benefit_NN_OC_fy_1 - RTS24_ByStages_nc90\", \"Category1\": \"Representative Days\", \"Category2\": \"2.Line Benefits\", \"Category3\": \"2.NN_OC_fy_1\", \"Category4\": 90, \"MEUR\": 106.33401023244498, \"Category5\": \"2.Line Benefits - 2.NN_OC_fy_1\"}, {\"CaseName\": \"G.Representative_days_based_on_Line_Benefit_NN_OC_fy_2 - RTS24_ByStages_nc10\", \"Category1\": \"Representative Days\", \"Category2\": \"2.Line Benefits\", \"Category3\": \"3.NN_OC_fy_2\", \"Category4\": 10, \"MEUR\": 87.37849822033088, \"Category5\": \"2.Line Benefits - 3.NN_OC_fy_2\"}, {\"CaseName\": \"G.Representative_days_based_on_Line_Benefit_NN_OC_fy_2 - RTS24_ByStages_nc100\", \"Category1\": \"Representative Days\", \"Category2\": \"2.Line Benefits\", \"Category3\": \"3.NN_OC_fy_2\", \"Category4\": 100, \"MEUR\": 103.7180422232746, \"Category5\": \"2.Line Benefits - 3.NN_OC_fy_2\"}, {\"CaseName\": \"G.Representative_days_based_on_Line_Benefit_NN_OC_fy_2 - RTS24_ByStages_nc20\", \"Category1\": \"Representative Days\", \"Category2\": \"2.Line Benefits\", \"Category3\": \"3.NN_OC_fy_2\", \"Category4\": 20, \"MEUR\": 93.10696025084486, \"Category5\": \"2.Line Benefits - 3.NN_OC_fy_2\"}, {\"CaseName\": \"G.Representative_days_based_on_Line_Benefit_NN_OC_fy_2 - RTS24_ByStages_nc30\", \"Category1\": \"Representative Days\", \"Category2\": \"2.Line Benefits\", \"Category3\": \"3.NN_OC_fy_2\", \"Category4\": 30, \"MEUR\": 105.41919527997446, \"Category5\": \"2.Line Benefits - 3.NN_OC_fy_2\"}, {\"CaseName\": \"G.Representative_days_based_on_Line_Benefit_NN_OC_fy_2 - RTS24_ByStages_nc40\", \"Category1\": \"Representative Days\", \"Category2\": \"2.Line Benefits\", \"Category3\": \"3.NN_OC_fy_2\", \"Category4\": 40, \"MEUR\": 104.21856576996848, \"Category5\": \"2.Line Benefits - 3.NN_OC_fy_2\"}, {\"CaseName\": \"G.Representative_days_based_on_Line_Benefit_NN_OC_fy_2 - RTS24_ByStages_nc50\", \"Category1\": \"Representative Days\", \"Category2\": \"2.Line Benefits\", \"Category3\": \"3.NN_OC_fy_2\", \"Category4\": 50, \"MEUR\": 101.0404791631146, \"Category5\": \"2.Line Benefits - 3.NN_OC_fy_2\"}, {\"CaseName\": \"G.Representative_days_based_on_Line_Benefit_NN_OC_fy_2 - RTS24_ByStages_nc60\", \"Category1\": \"Representative Days\", \"Category2\": \"2.Line Benefits\", \"Category3\": \"3.NN_OC_fy_2\", \"Category4\": 60, \"MEUR\": 104.02305935723824, \"Category5\": \"2.Line Benefits - 3.NN_OC_fy_2\"}, {\"CaseName\": \"G.Representative_days_based_on_Line_Benefit_NN_OC_fy_2 - RTS24_ByStages_nc70\", \"Category1\": \"Representative Days\", \"Category2\": \"2.Line Benefits\", \"Category3\": \"3.NN_OC_fy_2\", \"Category4\": 70, \"MEUR\": 103.32212888866994, \"Category5\": \"2.Line Benefits - 3.NN_OC_fy_2\"}, {\"CaseName\": \"G.Representative_days_based_on_Line_Benefit_NN_OC_fy_2 - RTS24_ByStages_nc80\", \"Category1\": \"Representative Days\", \"Category2\": \"2.Line Benefits\", \"Category3\": \"3.NN_OC_fy_2\", \"Category4\": 80, \"MEUR\": 101.13281623236072, \"Category5\": \"2.Line Benefits - 3.NN_OC_fy_2\"}, {\"CaseName\": \"G.Representative_days_based_on_Line_Benefit_NN_OC_fy_2 - RTS24_ByStages_nc90\", \"Category1\": \"Representative Days\", \"Category2\": \"2.Line Benefits\", \"Category3\": \"3.NN_OC_fy_2\", \"Category4\": 90, \"MEUR\": 104.2038530758191, \"Category5\": \"2.Line Benefits - 3.NN_OC_fy_2\"}]}}, {\"mode\": \"vega-lite\"});\n",
       "</script>"
      ],
      "text/plain": [
       "alt.Chart(...)"
      ]
     },
     "execution_count": 39,
     "metadata": {},
     "output_type": "execute_result"
    }
   ],
   "source": [
    "chart = alt.Chart(df).mark_line(\n",
    "    point=alt.OverlayMarkDef(color=\"red\")\n",
    ").encode(\n",
    "    alt.X(\"Category4:O\").title('Number of Clusters'),\n",
    "    # y=alt.Y(\"MEUR:Q\", scale=alt.Scale(domain=[170, 185])),\n",
    "    alt.Y(\"MEUR:Q\", scale=alt.Scale(domain= [df['MEUR'].min(), df['MEUR'].max()])),\n",
    "    # alt.Color(\"Category5\").title('').legend(None),\n",
    "    alt.Color(\"Category5\").title(''),\n",
    "    alt.Text(\"MEUR:Q\", format=\".0f\"),\n",
    "    # strokeDash='Category2',\n",
    ")\n",
    "# line = alt.Chart(pd.DataFrame({'-': [174.568533342985]})).mark_rule().encode(y='-')\n",
    "# line = alt.Chart(pd.DataFrame({'-': [409.989891886376]})).mark_rule().encode(y='-')\n",
    "# base = chart + line\n",
    "\n",
    "# alt.layer(\n",
    "#     chart.mark_bar(),\n",
    "#     chart.mark_text(dy=-10)\n",
    "# ).facet(\n",
    "#     alt.Column(\"Category2:N\", title=None)\n",
    "# ).configure_facet(spacing=0).resolve_scale(\n",
    "#   x='independent'\n",
    "# )\n",
    "\n",
    "base = chart\n",
    "base.configure_legend(\n",
    "    orient='right',\n",
    "    gradientLength=400,\n",
    "    gradientThickness=30,\n",
    "    labelFontSize=20\n",
    ").properties(\n",
    "    width=700,\n",
    "    height=300\n",
    ").configure_axis(\n",
    "    labelFontSize=20,\n",
    "    titleFontSize=20\n",
    ")\n",
    "# base.save('VariableNumberOfCluster_'+CaseName_Base+'.eps')\n",
    "# base.save('VariableNumberOfCluster_'+CaseName_Base+'.pdf')\n",
    "# base.save('VariableNumberOfCluster_'+CaseName_Base+'.png')"
   ]
  }
 ],
 "metadata": {
  "kernelspec": {
   "display_name": "Python 3 (ipykernel)",
   "language": "python",
   "name": "python3"
  },
  "language_info": {
   "codemirror_mode": {
    "name": "ipython",
    "version": 3
   },
   "file_extension": ".py",
   "mimetype": "text/x-python",
   "name": "python",
   "nbconvert_exporter": "python",
   "pygments_lexer": "ipython3",
   "version": "3.10.11"
  }
 },
 "nbformat": 4,
 "nbformat_minor": 2
}
