{
 "cells": [
  {
   "cell_type": "code",
   "execution_count": 1,
   "id": "27095224",
   "metadata": {},
   "outputs": [],
   "source": [
    "import os\n",
    "import pandas as pd\n",
    "import seaborn as sns\n",
    "import matplotlib.pyplot as plt\n",
    "import numpy as np"
   ]
  },
  {
   "cell_type": "code",
   "execution_count": 2,
   "id": "aa33abd6",
   "metadata": {},
   "outputs": [],
   "source": [
    "def get_curts_FYMILP(case):\n",
    "    df_curts_FYMILP = pd.read_csv(f\"A.The_full_year_MILP/{case}/4.OutWoInv/oT_Result_RESCurtailment_{case}.csv\")\n",
    "    # Only considering existing lines:\n",
    "    #df_utils_existing = df_utils_FYMILP[df_utils_FYMILP[\"Circuit\"] == \"eac1\"]\n",
    "    \n",
    "    return df_curts_FYMILP\n",
    "\n",
    "def extract_FYMILP_one_generator(all_curts_FYMILP,unit): \n",
    "    filter_this_gen = (all_curts_FYMILP[\"Unit\"] == unit)\n",
    "    curts_this_gen_FYMILP = all_curts_FYMILP[filter_this_gen]\n",
    "\n",
    "    ts_this_gen_FYMILP = curts_this_gen_FYMILP.MW.to_numpy()\n",
    "    return ts_this_gen_FYMILP\n",
    "\n",
    "def extract_CM_one_gen(case,cm,nbc,unit): \n",
    "    ts_CM_All_lines = pd.read_csv(f\"Y.FYTS_from_ByStages/{case}/{cm}/Curtailment_nc{nbc}_2.csv\",header = [0],index_col=0)\n",
    "    ts_this_line_CM = ts_CM_All_lines.loc[:,unit].to_numpy()\n",
    "    return ts_this_line_CM"
   ]
  },
  {
   "cell_type": "code",
   "execution_count": 6,
   "id": "edb81d23",
   "metadata": {},
   "outputs": [
    {
     "name": "stdout",
     "output_type": "stream",
     "text": [
      "Solar 03\n",
      "Solar 03\n",
      "Solar 03\n",
      "Solar 03\n",
      "Solar 03\n"
     ]
    }
   ],
   "source": [
    "## Extract fyts for multiple lines \n",
    "\n",
    "case = \"IEEE118_mod1\"\n",
    "\n",
    "## FYMILP\n",
    "all_curts_FYMILP = get_curts_FYMILP(case)\n",
    "\n",
    "unique_generators = [x for x in all_curts_FYMILP[\"Unit\"].drop_duplicates().values.tolist()]\n",
    "nb_gens = len(unique_generators)\n",
    "\n",
    "correls_v,total_diffs_v,total_devs_v,nbcs_v,cms_v = [],[],[],[],[]\n",
    "\n",
    "\n",
    "##CM \n",
    "cm = \"R&D\"\n",
    "for cm in [\"R&D\",\"CHI\",\"OPT_LB\",\"HI\",\"OPC\"]:\n",
    "    for nbc in [100]:\n",
    "\n",
    "\n",
    "#         ts_all_gens_CM=np.zeros(8736*nb_gens)\n",
    "#         ts_all_gens_FYMILP=np.zeros(8736*nb_gens)\n",
    "        ts_all_gens_CM=np.zeros(8736)\n",
    "        ts_all_gens_FYMILP=np.zeros(8736)\n",
    "\n",
    "        for i,generator in enumerate(unique_generators): \n",
    "            ts_this_gen_FYMILP = extract_FYMILP_one_generator(all_curts_FYMILP,generator)\n",
    "            ts_this_gen_CM = extract_CM_one_gen(case,cm,nbc,generator)\n",
    "            i_start =0\n",
    "            i_end = 8736\n",
    "            ts_all_gens_FYMILP[i_start:i_end] +=ts_this_gen_FYMILP\n",
    "            ts_all_gens_CM[i_start:i_end] += ts_this_gen_CM\n",
    "\n",
    "        total_dev= np.sum(np.abs((ts_all_gens_CM-ts_all_gens_FYMILP)))\n",
    "        #total_dev= np.sum((ts_all_gens_CM-ts_all_gens_FYMILP))\n",
    "        correlation = np.corrcoef(ts_all_gens_FYMILP,ts_all_gens_CM)[0,1]\n",
    "\n",
    "        cms_v.append(cm)\n",
    "        nbcs_v.append(nbc)\n",
    "        \n",
    "        total_flow = np.sum((np.abs((ts_all_gens_FYMILP))))\n",
    "\n",
    "        correls_v.append(correlation)\n",
    "        total_diffs_v.append(total_dev)\n",
    "        total_devs_v.append(total_dev/total_flow)\n",
    "        print(generator)\n",
    "\n",
    "df = pd.DataFrame({\"CM\":cms_v,\"nbc\":nbcs_v,\"Correlation\": correls_v,\"Total diff\":total_diffs_v,\"Total dev\":total_devs_v,\"MAE\":total_dev})\n"
   ]
  },
  {
   "cell_type": "code",
   "execution_count": 7,
   "id": "01944893",
   "metadata": {},
   "outputs": [
    {
     "data": {
      "text/html": [
       "<div>\n",
       "<style scoped>\n",
       "    .dataframe tbody tr th:only-of-type {\n",
       "        vertical-align: middle;\n",
       "    }\n",
       "\n",
       "    .dataframe tbody tr th {\n",
       "        vertical-align: top;\n",
       "    }\n",
       "\n",
       "    .dataframe thead th {\n",
       "        text-align: right;\n",
       "    }\n",
       "</style>\n",
       "<table border=\"1\" class=\"dataframe\">\n",
       "  <thead>\n",
       "    <tr style=\"text-align: right;\">\n",
       "      <th></th>\n",
       "      <th>CM</th>\n",
       "      <th>nbc</th>\n",
       "      <th>Correlation</th>\n",
       "      <th>Total diff</th>\n",
       "      <th>Total dev</th>\n",
       "      <th>MAE</th>\n",
       "    </tr>\n",
       "  </thead>\n",
       "  <tbody>\n",
       "    <tr>\n",
       "      <th>0</th>\n",
       "      <td>R&amp;D</td>\n",
       "      <td>100</td>\n",
       "      <td>0.876648</td>\n",
       "      <td>1.646618e+07</td>\n",
       "      <td>0.239162</td>\n",
       "      <td>3.939781e+07</td>\n",
       "    </tr>\n",
       "    <tr>\n",
       "      <th>1</th>\n",
       "      <td>CHI</td>\n",
       "      <td>100</td>\n",
       "      <td>0.662062</td>\n",
       "      <td>2.661250e+07</td>\n",
       "      <td>0.386532</td>\n",
       "      <td>3.939781e+07</td>\n",
       "    </tr>\n",
       "    <tr>\n",
       "      <th>2</th>\n",
       "      <td>OPT_LB</td>\n",
       "      <td>100</td>\n",
       "      <td>0.255930</td>\n",
       "      <td>3.872242e+07</td>\n",
       "      <td>0.562422</td>\n",
       "      <td>3.939781e+07</td>\n",
       "    </tr>\n",
       "    <tr>\n",
       "      <th>3</th>\n",
       "      <td>HI</td>\n",
       "      <td>100</td>\n",
       "      <td>0.610562</td>\n",
       "      <td>2.625909e+07</td>\n",
       "      <td>0.381399</td>\n",
       "      <td>3.939781e+07</td>\n",
       "    </tr>\n",
       "    <tr>\n",
       "      <th>4</th>\n",
       "      <td>OPC</td>\n",
       "      <td>100</td>\n",
       "      <td>0.283473</td>\n",
       "      <td>3.939781e+07</td>\n",
       "      <td>0.572232</td>\n",
       "      <td>3.939781e+07</td>\n",
       "    </tr>\n",
       "  </tbody>\n",
       "</table>\n",
       "</div>"
      ],
      "text/plain": [
       "       CM  nbc  Correlation    Total diff  Total dev           MAE\n",
       "0     R&D  100     0.876648  1.646618e+07   0.239162  3.939781e+07\n",
       "1     CHI  100     0.662062  2.661250e+07   0.386532  3.939781e+07\n",
       "2  OPT_LB  100     0.255930  3.872242e+07   0.562422  3.939781e+07\n",
       "3      HI  100     0.610562  2.625909e+07   0.381399  3.939781e+07\n",
       "4     OPC  100     0.283473  3.939781e+07   0.572232  3.939781e+07"
      ]
     },
     "execution_count": 7,
     "metadata": {},
     "output_type": "execute_result"
    }
   ],
   "source": [
    "df"
   ]
  },
  {
   "cell_type": "code",
   "execution_count": 17,
   "id": "91622fd1",
   "metadata": {},
   "outputs": [
    {
     "data": {
      "text/plain": [
       "('Solar 03', array([0., 0., 0., ..., 0., 0., 0.]))"
      ]
     },
     "execution_count": 17,
     "metadata": {},
     "output_type": "execute_result"
    }
   ],
   "source": [
    "generator, extract_FYMILP_one_generator(all_curts_FYMILP,generator)"
   ]
  },
  {
   "cell_type": "code",
   "execution_count": 18,
   "id": "6832b75a",
   "metadata": {},
   "outputs": [
    {
     "data": {
      "text/plain": [
       "array([0., 0., 0., ..., 0., 0., 0.])"
      ]
     },
     "execution_count": 18,
     "metadata": {},
     "output_type": "execute_result"
    }
   ],
   "source": [
    "extract_CM_one_gen(case,cm,nbc,generator)"
   ]
  },
  {
   "cell_type": "code",
   "execution_count": 8,
   "id": "5a2049a6",
   "metadata": {},
   "outputs": [
    {
     "data": {
      "text/plain": [
       "<Axes: xlabel='nbc', ylabel='Correlation'>"
      ]
     },
     "execution_count": 8,
     "metadata": {},
     "output_type": "execute_result"
    },
    {
     "data": {
      "image/png": "[encoded data removed]",
      "text/plain": [
       "<Figure size 640x480 with 1 Axes>"
      ]
     },
     "metadata": {},
     "output_type": "display_data"
    }
   ],
   "source": [
    "x = \"nbc\"\n",
    "y= \"Correlation\"\n",
    "sns.lineplot(data = df,x = x, y = y,hue = \"CM\",marker = \"o\")"
   ]
  },
  {
   "cell_type": "code",
   "execution_count": 9,
   "id": "d472a15d",
   "metadata": {},
   "outputs": [
    {
     "data": {
      "text/plain": [
       "<Axes: xlabel='nbc', ylabel='Total dev'>"
      ]
     },
     "execution_count": 9,
     "metadata": {},
     "output_type": "execute_result"
    },
    {
     "data": {
      "image/png": "[encoded data removed]",
      "text/plain": [
       "<Figure size 640x480 with 1 Axes>"
      ]
     },
     "metadata": {},
     "output_type": "display_data"
    }
   ],
   "source": [
    "x = \"nbc\"\n",
    "y= \"Total dev\"\n",
    "sns.lineplot(data = df,x = x, y = y,hue = \"CM\",marker = \"o\")"
   ]
  }
 ],
 "metadata": {
  "kernelspec": {
   "display_name": "Python 3 (ipykernel)",
   "language": "python",
   "name": "python3"
  },
  "language_info": {
   "codemirror_mode": {
    "name": "ipython",
    "version": 3
   },
   "file_extension": ".py",
   "mimetype": "text/x-python",
   "name": "python",
   "nbconvert_exporter": "python",
   "pygments_lexer": "ipython3",
   "version": "3.10.11"
  }
 },
 "nbformat": 4,
 "nbformat_minor": 5
}
