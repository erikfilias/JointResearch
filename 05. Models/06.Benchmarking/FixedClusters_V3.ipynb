{
 "cells": [
  {
   "cell_type": "code",
   "execution_count": 135,
   "id": "c99a607f",
   "metadata": {},
   "outputs": [],
   "source": [
    "import os\n",
    "import pandas as pd\n",
    "import seaborn as sns\n",
    "import matplotlib.pyplot as plt"
   ]
  },
  {
   "cell_type": "code",
   "execution_count": 146,
   "id": "e09c275f",
   "metadata": {},
   "outputs": [],
   "source": [
    "correl = \"HC\"\n",
    "if correl == \"LC\": \n",
    "    CaseNames_Base = ['9n_mod1',\"RTS24_mod1\",\"IEEE118_mod1\"]\n",
    "elif correl == \"HC\": \n",
    "    CaseNames_Base = ['9n',\"RTS24\",\"IEEE118\"]\n",
    "\n",
    "CaseNames_ByStages = [CaseName_Base + '_ByStages_nc' for CaseName_Base in CaseNames_Base]\n",
    "\n",
    "\n",
    "Folder_A = 'A.The_full_year_MILP'\n",
    "Folder_B = 'B.Operation_cost'\n",
    "Folder_D = 'D.Representative_days_based_on_RES_and_Demand'\n",
    "Folder_E = 'E.Representative_days_based_on_Line_Benefits_OptModel'\n",
    "Folder_F = 'F.Representative_days_based_on_Line_Benefit_NN_OC_fy_1'\n",
    "Folder_G = 'G.Representative_days_based_on_Line_Benefit_NN_OC_fy_2'\n",
    "Folder_K = 'K.Investments_per_hour'\n",
    "Folder_L = 'L.Cont_Investments_per_hour'\n",
    "# Folder_H = 'H.Representative_days_based_on_Line_Benefit_NN_OC_fy_3'\n",
    "# Folder_I = 'I.Representative_days_based_on_Line_Benefit_NN_OC_fy_4'\n",
    "Folder_JB = 'J.Full_year_operational_cost\\\\Results\\\\B.Operation_cost'\n",
    "Folder_JD = 'J.Full_year_operational_cost\\\\Results\\\\D.Representative_days_based_on_RES_and_Demand'\n",
    "Folder_JE = 'J.Full_year_operational_cost\\\\Results\\\\E.Representative_days_based_on_Line_Benefits_OptModel'\n",
    "Folder_JF = 'J.Full_year_operational_cost\\\\Results\\\\F.Representative_days_based_on_Line_Benefit_NN_OC_fy_1'\n",
    "Folder_JG = 'J.Full_year_operational_cost\\\\Results\\\\G.Representative_days_based_on_Line_Benefit_NN_OC_fy_2'\n",
    "Folder_JK = 'J.Full_year_operational_cost\\\\Results\\\\K.Investments_per_hour'\n",
    "Folder_JL = 'J.Full_year_operational_cost\\\\Results\\\\L.Cont_Investments_per_hour'\n",
    "\n",
    "DirName  = os.getcwd()\n",
    "category_dict = {Folder_A: \"FYMILP\",\n",
    "                 Folder_B: \"OC\",\n",
    "                 Folder_D: \"R&D\",\n",
    "                 Folder_E: \"LB\",\n",
    "                 #Folder_F: \"NN_LB1\",\n",
    "                 #Folder_G: \"NN_LB2\",\n",
    "                 Folder_K: \"DHI\",\n",
    "                 Folder_L: \"CHI\",\n",
    "                 Folder_JB: \"OPC_fy\",\n",
    "                 Folder_JD: \"R&D_fy\",\n",
    "                 Folder_JE: \"OPT_LB_fy\",\n",
    "                 #Folder_JF: \"NN_LB_fy1\",\n",
    "                 #Folder_JG: \"NN_LB_fy2\",\n",
    "                 Folder_JK: \"HI_fy\",\n",
    "                 Folder_JL: \"CHI_fy\"\n",
    "                }\n",
    "# category_dict = {Folder_A: \"FYMILP\",Folder_D: \"R&D\"}\n",
    "# colors_dict = { \"FYMILP\": \"Blue\",\"R&D\": \"Red\",\"OPT_LB\": \"Black\",\"NN_OPCOST\": \"Orange\" ,Folder_G: \"Green\"}\n",
    "colors_dict = { \"FYMILP\": \"Blue\",\"R&D\": \"Red\"}"
   ]
  },
  {
   "cell_type": "code",
   "execution_count": 147,
   "id": "cfcf89fc",
   "metadata": {},
   "outputs": [],
   "source": [
    "def LoadingData(dir, folder,result, case, ncluster, cm):\n",
    "    if folder == 'A.The_full_year_MILP': \n",
    "        df = pd.read_csv(os.path.join(dir, folder, case, '3.Out', f'oT_Result_{result}_'+case+'.csv'), index_col=[0,1])\n",
    "    else: \n",
    "        df = pd.read_csv(os.path.join(dir, folder, case+'_ByStages_nc'+str(ncluster), '3.Out', f'oT_Result_{result}_'+case+ '_ByStages_nc'+str(ncluster)+'.csv'), index_col=[0,1])\n",
    "\n",
    "    df['CaseName'] = folder + ' - ' + case + str(ncluster)\n",
    "    df['Case'] = case\n",
    "    df['Clustering method'] = cm\n",
    "#     df['Category2'] = cat2\n",
    "#     df['Category3'] = cat3\n",
    "    df['Number of clusters'] = ncluster\n",
    "    df = df.reset_index()\n",
    "#df = df.reset_index().set_index(['CaseName', 'Category1', 'Category2', 'Category3', 'Category4'])\n",
    "    # df = df.set_index('CaseName', append=True)\n",
    "    return df"
   ]
  },
  {
   "cell_type": "code",
   "execution_count": 148,
   "id": "63750caf",
   "metadata": {},
   "outputs": [
    {
     "name": "stdout",
     "output_type": "stream",
     "text": [
      "[Errno 2] No such file or directory: 'C:\\\\Users\\\\u0138303\\\\OneDrive - KU Leuven\\\\JointResearch\\\\05. Models\\\\06.Benchmarking\\\\B.Operation_cost\\\\IEEE118_ByStages_nc250\\\\3.Out\\\\oT_Result_CostSummary_IEEE118_ByStages_nc250.csv'\n",
      "IEEE118 B.Operation_cost 250 Does not contain CostSummary\n",
      "[Errno 2] No such file or directory: 'C:\\\\Users\\\\u0138303\\\\OneDrive - KU Leuven\\\\JointResearch\\\\05. Models\\\\06.Benchmarking\\\\B.Operation_cost\\\\IEEE118_ByStages_nc300\\\\3.Out\\\\oT_Result_CostSummary_IEEE118_ByStages_nc300.csv'\n",
      "IEEE118 B.Operation_cost 300 Does not contain CostSummary\n",
      "[Errno 2] No such file or directory: 'C:\\\\Users\\\\u0138303\\\\OneDrive - KU Leuven\\\\JointResearch\\\\05. Models\\\\06.Benchmarking\\\\B.Operation_cost\\\\IEEE118_ByStages_nc350\\\\3.Out\\\\oT_Result_CostSummary_IEEE118_ByStages_nc350.csv'\n",
      "IEEE118 B.Operation_cost 350 Does not contain CostSummary\n",
      "[Errno 2] No such file or directory: 'C:\\\\Users\\\\u0138303\\\\OneDrive - KU Leuven\\\\JointResearch\\\\05. Models\\\\06.Benchmarking\\\\B.Operation_cost\\\\IEEE118_ByStages_nc400\\\\3.Out\\\\oT_Result_CostSummary_IEEE118_ByStages_nc400.csv'\n",
      "IEEE118 B.Operation_cost 400 Does not contain CostSummary\n",
      "[Errno 2] No such file or directory: 'C:\\\\Users\\\\u0138303\\\\OneDrive - KU Leuven\\\\JointResearch\\\\05. Models\\\\06.Benchmarking\\\\D.Representative_days_based_on_RES_and_Demand\\\\IEEE118_ByStages_nc300\\\\3.Out\\\\oT_Result_CostSummary_IEEE118_ByStages_nc300.csv'\n",
      "IEEE118 D.Representative_days_based_on_RES_and_Demand 300 Does not contain CostSummary\n",
      "[Errno 2] No such file or directory: 'C:\\\\Users\\\\u0138303\\\\OneDrive - KU Leuven\\\\JointResearch\\\\05. Models\\\\06.Benchmarking\\\\D.Representative_days_based_on_RES_and_Demand\\\\IEEE118_ByStages_nc350\\\\3.Out\\\\oT_Result_CostSummary_IEEE118_ByStages_nc350.csv'\n",
      "IEEE118 D.Representative_days_based_on_RES_and_Demand 350 Does not contain CostSummary\n",
      "[Errno 2] No such file or directory: 'C:\\\\Users\\\\u0138303\\\\OneDrive - KU Leuven\\\\JointResearch\\\\05. Models\\\\06.Benchmarking\\\\D.Representative_days_based_on_RES_and_Demand\\\\IEEE118_ByStages_nc400\\\\3.Out\\\\oT_Result_CostSummary_IEEE118_ByStages_nc400.csv'\n",
      "IEEE118 D.Representative_days_based_on_RES_and_Demand 400 Does not contain CostSummary\n",
      "[Errno 2] No such file or directory: 'C:\\\\Users\\\\u0138303\\\\OneDrive - KU Leuven\\\\JointResearch\\\\05. Models\\\\06.Benchmarking\\\\E.Representative_days_based_on_Line_Benefits_OptModel\\\\IEEE118_ByStages_nc250\\\\3.Out\\\\oT_Result_CostSummary_IEEE118_ByStages_nc250.csv'\n",
      "IEEE118 E.Representative_days_based_on_Line_Benefits_OptModel 250 Does not contain CostSummary\n",
      "[Errno 2] No such file or directory: 'C:\\\\Users\\\\u0138303\\\\OneDrive - KU Leuven\\\\JointResearch\\\\05. Models\\\\06.Benchmarking\\\\E.Representative_days_based_on_Line_Benefits_OptModel\\\\IEEE118_ByStages_nc300\\\\3.Out\\\\oT_Result_CostSummary_IEEE118_ByStages_nc300.csv'\n",
      "IEEE118 E.Representative_days_based_on_Line_Benefits_OptModel 300 Does not contain CostSummary\n",
      "[Errno 2] No such file or directory: 'C:\\\\Users\\\\u0138303\\\\OneDrive - KU Leuven\\\\JointResearch\\\\05. Models\\\\06.Benchmarking\\\\E.Representative_days_based_on_Line_Benefits_OptModel\\\\IEEE118_ByStages_nc350\\\\3.Out\\\\oT_Result_CostSummary_IEEE118_ByStages_nc350.csv'\n",
      "IEEE118 E.Representative_days_based_on_Line_Benefits_OptModel 350 Does not contain CostSummary\n",
      "[Errno 2] No such file or directory: 'C:\\\\Users\\\\u0138303\\\\OneDrive - KU Leuven\\\\JointResearch\\\\05. Models\\\\06.Benchmarking\\\\E.Representative_days_based_on_Line_Benefits_OptModel\\\\IEEE118_ByStages_nc400\\\\3.Out\\\\oT_Result_CostSummary_IEEE118_ByStages_nc400.csv'\n",
      "IEEE118 E.Representative_days_based_on_Line_Benefits_OptModel 400 Does not contain CostSummary\n",
      "[Errno 2] No such file or directory: 'C:\\\\Users\\\\u0138303\\\\OneDrive - KU Leuven\\\\JointResearch\\\\05. Models\\\\06.Benchmarking\\\\K.Investments_per_hour\\\\IEEE118_ByStages_nc150\\\\3.Out\\\\oT_Result_CostSummary_IEEE118_ByStages_nc150.csv'\n",
      "IEEE118 K.Investments_per_hour 150 Does not contain CostSummary\n",
      "[Errno 2] No such file or directory: 'C:\\\\Users\\\\u0138303\\\\OneDrive - KU Leuven\\\\JointResearch\\\\05. Models\\\\06.Benchmarking\\\\K.Investments_per_hour\\\\IEEE118_ByStages_nc200\\\\3.Out\\\\oT_Result_CostSummary_IEEE118_ByStages_nc200.csv'\n",
      "IEEE118 K.Investments_per_hour 200 Does not contain CostSummary\n",
      "[Errno 2] No such file or directory: 'C:\\\\Users\\\\u0138303\\\\OneDrive - KU Leuven\\\\JointResearch\\\\05. Models\\\\06.Benchmarking\\\\K.Investments_per_hour\\\\IEEE118_ByStages_nc250\\\\3.Out\\\\oT_Result_CostSummary_IEEE118_ByStages_nc250.csv'\n",
      "IEEE118 K.Investments_per_hour 250 Does not contain CostSummary\n",
      "[Errno 2] No such file or directory: 'C:\\\\Users\\\\u0138303\\\\OneDrive - KU Leuven\\\\JointResearch\\\\05. Models\\\\06.Benchmarking\\\\K.Investments_per_hour\\\\IEEE118_ByStages_nc300\\\\3.Out\\\\oT_Result_CostSummary_IEEE118_ByStages_nc300.csv'\n",
      "IEEE118 K.Investments_per_hour 300 Does not contain CostSummary\n",
      "[Errno 2] No such file or directory: 'C:\\\\Users\\\\u0138303\\\\OneDrive - KU Leuven\\\\JointResearch\\\\05. Models\\\\06.Benchmarking\\\\K.Investments_per_hour\\\\IEEE118_ByStages_nc350\\\\3.Out\\\\oT_Result_CostSummary_IEEE118_ByStages_nc350.csv'\n",
      "IEEE118 K.Investments_per_hour 350 Does not contain CostSummary\n",
      "[Errno 2] No such file or directory: 'C:\\\\Users\\\\u0138303\\\\OneDrive - KU Leuven\\\\JointResearch\\\\05. Models\\\\06.Benchmarking\\\\K.Investments_per_hour\\\\IEEE118_ByStages_nc400\\\\3.Out\\\\oT_Result_CostSummary_IEEE118_ByStages_nc400.csv'\n",
      "IEEE118 K.Investments_per_hour 400 Does not contain CostSummary\n",
      "[Errno 2] No such file or directory: 'C:\\\\Users\\\\u0138303\\\\OneDrive - KU Leuven\\\\JointResearch\\\\05. Models\\\\06.Benchmarking\\\\L.Cont_Investments_per_hour\\\\IEEE118_ByStages_nc400\\\\3.Out\\\\oT_Result_CostSummary_IEEE118_ByStages_nc400.csv'\n",
      "IEEE118 L.Cont_Investments_per_hour 400 Does not contain CostSummary\n",
      "[Errno 2] No such file or directory: 'C:\\\\Users\\\\u0138303\\\\OneDrive - KU Leuven\\\\JointResearch\\\\05. Models\\\\06.Benchmarking\\\\J.Full_year_operational_cost\\\\Results\\\\B.Operation_cost\\\\IEEE118_ByStages_nc250\\\\3.Out\\\\oT_Result_CostSummary_IEEE118_ByStages_nc250.csv'\n",
      "IEEE118 J.Full_year_operational_cost\\Results\\B.Operation_cost 250 Does not contain CostSummary\n",
      "[Errno 2] No such file or directory: 'C:\\\\Users\\\\u0138303\\\\OneDrive - KU Leuven\\\\JointResearch\\\\05. Models\\\\06.Benchmarking\\\\J.Full_year_operational_cost\\\\Results\\\\B.Operation_cost\\\\IEEE118_ByStages_nc300\\\\3.Out\\\\oT_Result_CostSummary_IEEE118_ByStages_nc300.csv'\n",
      "IEEE118 J.Full_year_operational_cost\\Results\\B.Operation_cost 300 Does not contain CostSummary\n",
      "[Errno 2] No such file or directory: 'C:\\\\Users\\\\u0138303\\\\OneDrive - KU Leuven\\\\JointResearch\\\\05. Models\\\\06.Benchmarking\\\\J.Full_year_operational_cost\\\\Results\\\\B.Operation_cost\\\\IEEE118_ByStages_nc350\\\\3.Out\\\\oT_Result_CostSummary_IEEE118_ByStages_nc350.csv'\n",
      "IEEE118 J.Full_year_operational_cost\\Results\\B.Operation_cost 350 Does not contain CostSummary\n",
      "[Errno 2] No such file or directory: 'C:\\\\Users\\\\u0138303\\\\OneDrive - KU Leuven\\\\JointResearch\\\\05. Models\\\\06.Benchmarking\\\\J.Full_year_operational_cost\\\\Results\\\\B.Operation_cost\\\\IEEE118_ByStages_nc400\\\\3.Out\\\\oT_Result_CostSummary_IEEE118_ByStages_nc400.csv'\n",
      "IEEE118 J.Full_year_operational_cost\\Results\\B.Operation_cost 400 Does not contain CostSummary\n",
      "[Errno 2] No such file or directory: 'C:\\\\Users\\\\u0138303\\\\OneDrive - KU Leuven\\\\JointResearch\\\\05. Models\\\\06.Benchmarking\\\\J.Full_year_operational_cost\\\\Results\\\\D.Representative_days_based_on_RES_and_Demand\\\\IEEE118_ByStages_nc250\\\\3.Out\\\\oT_Result_CostSummary_IEEE118_ByStages_nc250.csv'\n",
      "IEEE118 J.Full_year_operational_cost\\Results\\D.Representative_days_based_on_RES_and_Demand 250 Does not contain CostSummary\n",
      "[Errno 2] No such file or directory: 'C:\\\\Users\\\\u0138303\\\\OneDrive - KU Leuven\\\\JointResearch\\\\05. Models\\\\06.Benchmarking\\\\J.Full_year_operational_cost\\\\Results\\\\D.Representative_days_based_on_RES_and_Demand\\\\IEEE118_ByStages_nc300\\\\3.Out\\\\oT_Result_CostSummary_IEEE118_ByStages_nc300.csv'\n",
      "IEEE118 J.Full_year_operational_cost\\Results\\D.Representative_days_based_on_RES_and_Demand 300 Does not contain CostSummary\n",
      "[Errno 2] No such file or directory: 'C:\\\\Users\\\\u0138303\\\\OneDrive - KU Leuven\\\\JointResearch\\\\05. Models\\\\06.Benchmarking\\\\J.Full_year_operational_cost\\\\Results\\\\D.Representative_days_based_on_RES_and_Demand\\\\IEEE118_ByStages_nc350\\\\3.Out\\\\oT_Result_CostSummary_IEEE118_ByStages_nc350.csv'\n",
      "IEEE118 J.Full_year_operational_cost\\Results\\D.Representative_days_based_on_RES_and_Demand 350 Does not contain CostSummary\n",
      "[Errno 2] No such file or directory: 'C:\\\\Users\\\\u0138303\\\\OneDrive - KU Leuven\\\\JointResearch\\\\05. Models\\\\06.Benchmarking\\\\J.Full_year_operational_cost\\\\Results\\\\D.Representative_days_based_on_RES_and_Demand\\\\IEEE118_ByStages_nc400\\\\3.Out\\\\oT_Result_CostSummary_IEEE118_ByStages_nc400.csv'\n",
      "IEEE118 J.Full_year_operational_cost\\Results\\D.Representative_days_based_on_RES_and_Demand 400 Does not contain CostSummary\n",
      "[Errno 2] No such file or directory: 'C:\\\\Users\\\\u0138303\\\\OneDrive - KU Leuven\\\\JointResearch\\\\05. Models\\\\06.Benchmarking\\\\J.Full_year_operational_cost\\\\Results\\\\E.Representative_days_based_on_Line_Benefits_OptModel\\\\IEEE118_ByStages_nc250\\\\3.Out\\\\oT_Result_CostSummary_IEEE118_ByStages_nc250.csv'\n",
      "IEEE118 J.Full_year_operational_cost\\Results\\E.Representative_days_based_on_Line_Benefits_OptModel 250 Does not contain CostSummary\n",
      "[Errno 2] No such file or directory: 'C:\\\\Users\\\\u0138303\\\\OneDrive - KU Leuven\\\\JointResearch\\\\05. Models\\\\06.Benchmarking\\\\J.Full_year_operational_cost\\\\Results\\\\E.Representative_days_based_on_Line_Benefits_OptModel\\\\IEEE118_ByStages_nc300\\\\3.Out\\\\oT_Result_CostSummary_IEEE118_ByStages_nc300.csv'\n",
      "IEEE118 J.Full_year_operational_cost\\Results\\E.Representative_days_based_on_Line_Benefits_OptModel 300 Does not contain CostSummary\n",
      "[Errno 2] No such file or directory: 'C:\\\\Users\\\\u0138303\\\\OneDrive - KU Leuven\\\\JointResearch\\\\05. Models\\\\06.Benchmarking\\\\J.Full_year_operational_cost\\\\Results\\\\E.Representative_days_based_on_Line_Benefits_OptModel\\\\IEEE118_ByStages_nc350\\\\3.Out\\\\oT_Result_CostSummary_IEEE118_ByStages_nc350.csv'\n",
      "IEEE118 J.Full_year_operational_cost\\Results\\E.Representative_days_based_on_Line_Benefits_OptModel 350 Does not contain CostSummary\n",
      "[Errno 2] No such file or directory: 'C:\\\\Users\\\\u0138303\\\\OneDrive - KU Leuven\\\\JointResearch\\\\05. Models\\\\06.Benchmarking\\\\J.Full_year_operational_cost\\\\Results\\\\E.Representative_days_based_on_Line_Benefits_OptModel\\\\IEEE118_ByStages_nc400\\\\3.Out\\\\oT_Result_CostSummary_IEEE118_ByStages_nc400.csv'\n",
      "IEEE118 J.Full_year_operational_cost\\Results\\E.Representative_days_based_on_Line_Benefits_OptModel 400 Does not contain CostSummary\n"
     ]
    },
    {
     "name": "stdout",
     "output_type": "stream",
     "text": [
      "[Errno 2] No such file or directory: 'C:\\\\Users\\\\u0138303\\\\OneDrive - KU Leuven\\\\JointResearch\\\\05. Models\\\\06.Benchmarking\\\\J.Full_year_operational_cost\\\\Results\\\\K.Investments_per_hour\\\\IEEE118_ByStages_nc150\\\\3.Out\\\\oT_Result_CostSummary_IEEE118_ByStages_nc150.csv'\n",
      "IEEE118 J.Full_year_operational_cost\\Results\\K.Investments_per_hour 150 Does not contain CostSummary\n",
      "[Errno 2] No such file or directory: 'C:\\\\Users\\\\u0138303\\\\OneDrive - KU Leuven\\\\JointResearch\\\\05. Models\\\\06.Benchmarking\\\\J.Full_year_operational_cost\\\\Results\\\\K.Investments_per_hour\\\\IEEE118_ByStages_nc200\\\\3.Out\\\\oT_Result_CostSummary_IEEE118_ByStages_nc200.csv'\n",
      "IEEE118 J.Full_year_operational_cost\\Results\\K.Investments_per_hour 200 Does not contain CostSummary\n",
      "[Errno 2] No such file or directory: 'C:\\\\Users\\\\u0138303\\\\OneDrive - KU Leuven\\\\JointResearch\\\\05. Models\\\\06.Benchmarking\\\\J.Full_year_operational_cost\\\\Results\\\\K.Investments_per_hour\\\\IEEE118_ByStages_nc250\\\\3.Out\\\\oT_Result_CostSummary_IEEE118_ByStages_nc250.csv'\n",
      "IEEE118 J.Full_year_operational_cost\\Results\\K.Investments_per_hour 250 Does not contain CostSummary\n",
      "[Errno 2] No such file or directory: 'C:\\\\Users\\\\u0138303\\\\OneDrive - KU Leuven\\\\JointResearch\\\\05. Models\\\\06.Benchmarking\\\\J.Full_year_operational_cost\\\\Results\\\\K.Investments_per_hour\\\\IEEE118_ByStages_nc300\\\\3.Out\\\\oT_Result_CostSummary_IEEE118_ByStages_nc300.csv'\n",
      "IEEE118 J.Full_year_operational_cost\\Results\\K.Investments_per_hour 300 Does not contain CostSummary\n",
      "[Errno 2] No such file or directory: 'C:\\\\Users\\\\u0138303\\\\OneDrive - KU Leuven\\\\JointResearch\\\\05. Models\\\\06.Benchmarking\\\\J.Full_year_operational_cost\\\\Results\\\\K.Investments_per_hour\\\\IEEE118_ByStages_nc350\\\\3.Out\\\\oT_Result_CostSummary_IEEE118_ByStages_nc350.csv'\n",
      "IEEE118 J.Full_year_operational_cost\\Results\\K.Investments_per_hour 350 Does not contain CostSummary\n",
      "[Errno 2] No such file or directory: 'C:\\\\Users\\\\u0138303\\\\OneDrive - KU Leuven\\\\JointResearch\\\\05. Models\\\\06.Benchmarking\\\\J.Full_year_operational_cost\\\\Results\\\\K.Investments_per_hour\\\\IEEE118_ByStages_nc400\\\\3.Out\\\\oT_Result_CostSummary_IEEE118_ByStages_nc400.csv'\n",
      "IEEE118 J.Full_year_operational_cost\\Results\\K.Investments_per_hour 400 Does not contain CostSummary\n",
      "[Errno 2] No such file or directory: 'C:\\\\Users\\\\u0138303\\\\OneDrive - KU Leuven\\\\JointResearch\\\\05. Models\\\\06.Benchmarking\\\\J.Full_year_operational_cost\\\\Results\\\\L.Cont_Investments_per_hour\\\\IEEE118_ByStages_nc250\\\\3.Out\\\\oT_Result_CostSummary_IEEE118_ByStages_nc250.csv'\n",
      "IEEE118 J.Full_year_operational_cost\\Results\\L.Cont_Investments_per_hour 250 Does not contain CostSummary\n",
      "[Errno 2] No such file or directory: 'C:\\\\Users\\\\u0138303\\\\OneDrive - KU Leuven\\\\JointResearch\\\\05. Models\\\\06.Benchmarking\\\\J.Full_year_operational_cost\\\\Results\\\\L.Cont_Investments_per_hour\\\\IEEE118_ByStages_nc300\\\\3.Out\\\\oT_Result_CostSummary_IEEE118_ByStages_nc300.csv'\n",
      "IEEE118 J.Full_year_operational_cost\\Results\\L.Cont_Investments_per_hour 300 Does not contain CostSummary\n",
      "[Errno 2] No such file or directory: 'C:\\\\Users\\\\u0138303\\\\OneDrive - KU Leuven\\\\JointResearch\\\\05. Models\\\\06.Benchmarking\\\\J.Full_year_operational_cost\\\\Results\\\\L.Cont_Investments_per_hour\\\\IEEE118_ByStages_nc350\\\\3.Out\\\\oT_Result_CostSummary_IEEE118_ByStages_nc350.csv'\n",
      "IEEE118 J.Full_year_operational_cost\\Results\\L.Cont_Investments_per_hour 350 Does not contain CostSummary\n",
      "[Errno 2] No such file or directory: 'C:\\\\Users\\\\u0138303\\\\OneDrive - KU Leuven\\\\JointResearch\\\\05. Models\\\\06.Benchmarking\\\\J.Full_year_operational_cost\\\\Results\\\\L.Cont_Investments_per_hour\\\\IEEE118_ByStages_nc400\\\\3.Out\\\\oT_Result_CostSummary_IEEE118_ByStages_nc400.csv'\n",
      "IEEE118 J.Full_year_operational_cost\\Results\\L.Cont_Investments_per_hour 400 Does not contain CostSummary\n"
     ]
    }
   ],
   "source": [
    "result = \"CostSummary\"\n",
    "nbs_clusters = [(i+2)*10 for i in range(9)] + [150, 200, 250, 300, 350, 400]\n",
    "#nbs_clusters = [(i+5)*10 for i in range(5)] + [150, 200, 250, 300, 350, 400]\n",
    "# nbs_clusters = [(i+1)*10 for i in range(9)]\n",
    "#nbs_clusters = [(i+1)*10 for i in range(2)]\n",
    "folders = [Folder_A, Folder_B,Folder_D, Folder_E,Folder_K,Folder_L,Folder_JB, Folder_JD,Folder_JE,Folder_JK,Folder_JL]#,Folder_E,Folder_F,Folder_G]\n",
    "#folders = [Folder_D,Folder_B, Folder_E,Folder_L,Folder_JB, Folder_JD,Folder_JE,Folder_JL]#,Folder_E,Folder_F,Folder_G]\n",
    "\n",
    "#folders = [Folder_A,Folder_D]\n",
    "results = [\"CostSummary\"]\n",
    "\n",
    "results_dfs = dict()\n",
    "for CaseName_Base in CaseNames_Base:\n",
    "    results_dfs[CaseName_Base] = dict()\n",
    "    for result in results:\n",
    "        results_dfs[CaseName_Base][result] = dict()\n",
    "        for folder in folders: \n",
    "            results_dfs[CaseName_Base][result][folder] = dict()\n",
    "            for nb_clusters in nbs_clusters:\n",
    "                try: \n",
    "                    results_dfs[CaseName_Base][result][folder][nb_clusters] = LoadingData(DirName, folder,result, CaseName_Base, nb_clusters, category_dict[folder])\n",
    "                except FileNotFoundError as e : \n",
    "                    print(e)\n",
    "                    print(CaseName_Base,folder,nb_clusters, \"Does not contain\", result)"
   ]
  },
  {
   "cell_type": "code",
   "execution_count": 149,
   "id": "3107e420",
   "metadata": {},
   "outputs": [],
   "source": [
    "# Concatenate results dataframes \n",
    "results_dfs_concat = dict()\n",
    "for result in results:\n",
    "    results_dfs_concat[result] = pd.concat([results_dfs[CaseName_Base][result][folder][nb_clusters] for CaseName_Base in CaseNames_Base for folder in folders for nb_clusters in results_dfs[CaseName_Base][result][folder]])"
   ]
  },
  {
   "cell_type": "code",
   "execution_count": 150,
   "id": "e0854bac",
   "metadata": {},
   "outputs": [],
   "source": [
    "#Pivot the system cost dataframe and rename some columns\n",
    "results_dfs_pivot = results_dfs_concat[\"CostSummary\"].pivot_table(values = \"MEUR\",columns = \"Cost/Payment\",index = [\"Case\",\"Clustering method\", \"Number of clusters\"]).reset_index().set_index([\"Case\",\"Clustering method\", \"Number of clusters\"])\n",
    "results_dfs_pivot.rename({\"Total          System Cost\" : \"TSC\",'Network    Investment Cost' : \"NIC\" },axis = 1,inplace=True)"
   ]
  },
  {
   "cell_type": "code",
   "execution_count": 151,
   "id": "b41db146",
   "metadata": {},
   "outputs": [
    {
     "ename": "KeyError",
     "evalue": "'IEEE118_mod1'",
     "output_type": "error",
     "traceback": [
      "\u001b[1;31m---------------------------------------------------------------------------\u001b[0m",
      "\u001b[1;31mKeyError\u001b[0m                                  Traceback (most recent call last)",
      "File \u001b[1;32mC:\\Workdir\\Programs\\Miniconda\\envs\\jr23\\lib\\site-packages\\pandas\\core\\indexes\\base.py:3652\u001b[0m, in \u001b[0;36mIndex.get_loc\u001b[1;34m(self, key)\u001b[0m\n\u001b[0;32m   3651\u001b[0m \u001b[38;5;28;01mtry\u001b[39;00m:\n\u001b[1;32m-> 3652\u001b[0m     \u001b[38;5;28;01mreturn\u001b[39;00m \u001b[38;5;28;43mself\u001b[39;49m\u001b[38;5;241;43m.\u001b[39;49m\u001b[43m_engine\u001b[49m\u001b[38;5;241;43m.\u001b[39;49m\u001b[43mget_loc\u001b[49m\u001b[43m(\u001b[49m\u001b[43mcasted_key\u001b[49m\u001b[43m)\u001b[49m\n\u001b[0;32m   3653\u001b[0m \u001b[38;5;28;01mexcept\u001b[39;00m \u001b[38;5;167;01mKeyError\u001b[39;00m \u001b[38;5;28;01mas\u001b[39;00m err:\n",
      "File \u001b[1;32mC:\\Workdir\\Programs\\Miniconda\\envs\\jr23\\lib\\site-packages\\pandas\\_libs\\index.pyx:147\u001b[0m, in \u001b[0;36mpandas._libs.index.IndexEngine.get_loc\u001b[1;34m()\u001b[0m\n",
      "File \u001b[1;32mC:\\Workdir\\Programs\\Miniconda\\envs\\jr23\\lib\\site-packages\\pandas\\_libs\\index.pyx:176\u001b[0m, in \u001b[0;36mpandas._libs.index.IndexEngine.get_loc\u001b[1;34m()\u001b[0m\n",
      "File \u001b[1;32mpandas\\_libs\\hashtable_class_helper.pxi:7080\u001b[0m, in \u001b[0;36mpandas._libs.hashtable.PyObjectHashTable.get_item\u001b[1;34m()\u001b[0m\n",
      "File \u001b[1;32mpandas\\_libs\\hashtable_class_helper.pxi:7088\u001b[0m, in \u001b[0;36mpandas._libs.hashtable.PyObjectHashTable.get_item\u001b[1;34m()\u001b[0m\n",
      "\u001b[1;31mKeyError\u001b[0m: 'IEEE118_mod1'",
      "\nThe above exception was the direct cause of the following exception:\n",
      "\u001b[1;31mKeyError\u001b[0m                                  Traceback (most recent call last)",
      "Cell \u001b[1;32mIn[151], line 5\u001b[0m\n\u001b[0;32m      2\u001b[0m y \u001b[38;5;241m=\u001b[39m \u001b[38;5;124m\"\u001b[39m\u001b[38;5;124mTSC\u001b[39m\u001b[38;5;124m\"\u001b[39m\n\u001b[0;32m      3\u001b[0m x \u001b[38;5;241m=\u001b[39m \u001b[38;5;124m\"\u001b[39m\u001b[38;5;124mNumber of clusters\u001b[39m\u001b[38;5;124m\"\u001b[39m\n\u001b[1;32m----> 5\u001b[0m rf \u001b[38;5;241m=\u001b[39m \u001b[43mresults_dfs_pivot\u001b[49m\u001b[38;5;241;43m.\u001b[39;49m\u001b[43mloc\u001b[49m\u001b[43m[\u001b[49m\u001b[38;5;124;43m\"\u001b[39;49m\u001b[38;5;124;43mIEEE118_mod1\u001b[39;49m\u001b[38;5;124;43m\"\u001b[39;49m\u001b[43m]\u001b[49m\u001b[38;5;241m.\u001b[39mloc[[\u001b[38;5;124m\"\u001b[39m\u001b[38;5;124mR&D_fy\u001b[39m\u001b[38;5;124m\"\u001b[39m,\u001b[38;5;124m\"\u001b[39m\u001b[38;5;124mOPT_LB_fy\u001b[39m\u001b[38;5;124m\"\u001b[39m,\u001b[38;5;124m\"\u001b[39m\u001b[38;5;124mCHI_fy\u001b[39m\u001b[38;5;124m\"\u001b[39m,\u001b[38;5;124m\"\u001b[39m\u001b[38;5;124mOPC_fy\u001b[39m\u001b[38;5;124m\"\u001b[39m,\u001b[38;5;124m\"\u001b[39m\u001b[38;5;124mHI_fy\u001b[39m\u001b[38;5;124m\"\u001b[39m]]\n\u001b[0;32m      6\u001b[0m \u001b[38;5;66;03m#rf = results_dfs_pivot.loc[[\"R&D_fy\",\"OPT_LB_fy\"]]\u001b[39;00m\n\u001b[0;32m      7\u001b[0m sns\u001b[38;5;241m.\u001b[39mlineplot(data \u001b[38;5;241m=\u001b[39m rf,x \u001b[38;5;241m=\u001b[39m x, y \u001b[38;5;241m=\u001b[39m y,hue \u001b[38;5;241m=\u001b[39m \u001b[38;5;124m\"\u001b[39m\u001b[38;5;124mClustering method\u001b[39m\u001b[38;5;124m\"\u001b[39m,marker \u001b[38;5;241m=\u001b[39m \u001b[38;5;124m\"\u001b[39m\u001b[38;5;124mo\u001b[39m\u001b[38;5;124m\"\u001b[39m)\n",
      "File \u001b[1;32mC:\\Workdir\\Programs\\Miniconda\\envs\\jr23\\lib\\site-packages\\pandas\\core\\indexing.py:1103\u001b[0m, in \u001b[0;36m_LocationIndexer.__getitem__\u001b[1;34m(self, key)\u001b[0m\n\u001b[0;32m   1100\u001b[0m axis \u001b[38;5;241m=\u001b[39m \u001b[38;5;28mself\u001b[39m\u001b[38;5;241m.\u001b[39maxis \u001b[38;5;129;01mor\u001b[39;00m \u001b[38;5;241m0\u001b[39m\n\u001b[0;32m   1102\u001b[0m maybe_callable \u001b[38;5;241m=\u001b[39m com\u001b[38;5;241m.\u001b[39mapply_if_callable(key, \u001b[38;5;28mself\u001b[39m\u001b[38;5;241m.\u001b[39mobj)\n\u001b[1;32m-> 1103\u001b[0m \u001b[38;5;28;01mreturn\u001b[39;00m \u001b[38;5;28;43mself\u001b[39;49m\u001b[38;5;241;43m.\u001b[39;49m\u001b[43m_getitem_axis\u001b[49m\u001b[43m(\u001b[49m\u001b[43mmaybe_callable\u001b[49m\u001b[43m,\u001b[49m\u001b[43m \u001b[49m\u001b[43maxis\u001b[49m\u001b[38;5;241;43m=\u001b[39;49m\u001b[43maxis\u001b[49m\u001b[43m)\u001b[49m\n",
      "File \u001b[1;32mC:\\Workdir\\Programs\\Miniconda\\envs\\jr23\\lib\\site-packages\\pandas\\core\\indexing.py:1343\u001b[0m, in \u001b[0;36m_LocIndexer._getitem_axis\u001b[1;34m(self, key, axis)\u001b[0m\n\u001b[0;32m   1341\u001b[0m \u001b[38;5;66;03m# fall thru to straight lookup\u001b[39;00m\n\u001b[0;32m   1342\u001b[0m \u001b[38;5;28mself\u001b[39m\u001b[38;5;241m.\u001b[39m_validate_key(key, axis)\n\u001b[1;32m-> 1343\u001b[0m \u001b[38;5;28;01mreturn\u001b[39;00m \u001b[38;5;28;43mself\u001b[39;49m\u001b[38;5;241;43m.\u001b[39;49m\u001b[43m_get_label\u001b[49m\u001b[43m(\u001b[49m\u001b[43mkey\u001b[49m\u001b[43m,\u001b[49m\u001b[43m \u001b[49m\u001b[43maxis\u001b[49m\u001b[38;5;241;43m=\u001b[39;49m\u001b[43maxis\u001b[49m\u001b[43m)\u001b[49m\n",
      "File \u001b[1;32mC:\\Workdir\\Programs\\Miniconda\\envs\\jr23\\lib\\site-packages\\pandas\\core\\indexing.py:1293\u001b[0m, in \u001b[0;36m_LocIndexer._get_label\u001b[1;34m(self, label, axis)\u001b[0m\n\u001b[0;32m   1291\u001b[0m \u001b[38;5;28;01mdef\u001b[39;00m \u001b[38;5;21m_get_label\u001b[39m(\u001b[38;5;28mself\u001b[39m, label, axis: AxisInt):\n\u001b[0;32m   1292\u001b[0m     \u001b[38;5;66;03m# GH#5567 this will fail if the label is not present in the axis.\u001b[39;00m\n\u001b[1;32m-> 1293\u001b[0m     \u001b[38;5;28;01mreturn\u001b[39;00m \u001b[38;5;28;43mself\u001b[39;49m\u001b[38;5;241;43m.\u001b[39;49m\u001b[43mobj\u001b[49m\u001b[38;5;241;43m.\u001b[39;49m\u001b[43mxs\u001b[49m\u001b[43m(\u001b[49m\u001b[43mlabel\u001b[49m\u001b[43m,\u001b[49m\u001b[43m \u001b[49m\u001b[43maxis\u001b[49m\u001b[38;5;241;43m=\u001b[39;49m\u001b[43maxis\u001b[49m\u001b[43m)\u001b[49m\n",
      "File \u001b[1;32mC:\\Workdir\\Programs\\Miniconda\\envs\\jr23\\lib\\site-packages\\pandas\\core\\generic.py:4088\u001b[0m, in \u001b[0;36mNDFrame.xs\u001b[1;34m(self, key, axis, level, drop_level)\u001b[0m\n\u001b[0;32m   4085\u001b[0m     index \u001b[38;5;241m=\u001b[39m \u001b[38;5;28mself\u001b[39m\u001b[38;5;241m.\u001b[39mindex\n\u001b[0;32m   4087\u001b[0m \u001b[38;5;28;01mif\u001b[39;00m \u001b[38;5;28misinstance\u001b[39m(index, MultiIndex):\n\u001b[1;32m-> 4088\u001b[0m     loc, new_index \u001b[38;5;241m=\u001b[39m \u001b[43mindex\u001b[49m\u001b[38;5;241;43m.\u001b[39;49m\u001b[43m_get_loc_level\u001b[49m\u001b[43m(\u001b[49m\u001b[43mkey\u001b[49m\u001b[43m,\u001b[49m\u001b[43m \u001b[49m\u001b[43mlevel\u001b[49m\u001b[38;5;241;43m=\u001b[39;49m\u001b[38;5;241;43m0\u001b[39;49m\u001b[43m)\u001b[49m\n\u001b[0;32m   4089\u001b[0m     \u001b[38;5;28;01mif\u001b[39;00m \u001b[38;5;129;01mnot\u001b[39;00m drop_level:\n\u001b[0;32m   4090\u001b[0m         \u001b[38;5;28;01mif\u001b[39;00m lib\u001b[38;5;241m.\u001b[39mis_integer(loc):\n",
      "File \u001b[1;32mC:\\Workdir\\Programs\\Miniconda\\envs\\jr23\\lib\\site-packages\\pandas\\core\\indexes\\multi.py:3059\u001b[0m, in \u001b[0;36mMultiIndex._get_loc_level\u001b[1;34m(self, key, level)\u001b[0m\n\u001b[0;32m   3057\u001b[0m         \u001b[38;5;28;01mreturn\u001b[39;00m indexer, maybe_mi_droplevels(indexer, ilevels)\n\u001b[0;32m   3058\u001b[0m \u001b[38;5;28;01melse\u001b[39;00m:\n\u001b[1;32m-> 3059\u001b[0m     indexer \u001b[38;5;241m=\u001b[39m \u001b[38;5;28;43mself\u001b[39;49m\u001b[38;5;241;43m.\u001b[39;49m\u001b[43m_get_level_indexer\u001b[49m\u001b[43m(\u001b[49m\u001b[43mkey\u001b[49m\u001b[43m,\u001b[49m\u001b[43m \u001b[49m\u001b[43mlevel\u001b[49m\u001b[38;5;241;43m=\u001b[39;49m\u001b[43mlevel\u001b[49m\u001b[43m)\u001b[49m\n\u001b[0;32m   3060\u001b[0m     \u001b[38;5;28;01mif\u001b[39;00m (\n\u001b[0;32m   3061\u001b[0m         \u001b[38;5;28misinstance\u001b[39m(key, \u001b[38;5;28mstr\u001b[39m)\n\u001b[0;32m   3062\u001b[0m         \u001b[38;5;129;01mand\u001b[39;00m \u001b[38;5;28mself\u001b[39m\u001b[38;5;241m.\u001b[39mlevels[level]\u001b[38;5;241m.\u001b[39m_supports_partial_string_indexing\n\u001b[0;32m   3063\u001b[0m     ):\n\u001b[0;32m   3064\u001b[0m         \u001b[38;5;66;03m# check to see if we did an exact lookup vs sliced\u001b[39;00m\n\u001b[0;32m   3065\u001b[0m         check \u001b[38;5;241m=\u001b[39m \u001b[38;5;28mself\u001b[39m\u001b[38;5;241m.\u001b[39mlevels[level]\u001b[38;5;241m.\u001b[39mget_loc(key)\n",
      "File \u001b[1;32mC:\\Workdir\\Programs\\Miniconda\\envs\\jr23\\lib\\site-packages\\pandas\\core\\indexes\\multi.py:3160\u001b[0m, in \u001b[0;36mMultiIndex._get_level_indexer\u001b[1;34m(self, key, level, indexer)\u001b[0m\n\u001b[0;32m   3157\u001b[0m         \u001b[38;5;28;01mreturn\u001b[39;00m \u001b[38;5;28mslice\u001b[39m(i, j, step)\n\u001b[0;32m   3159\u001b[0m \u001b[38;5;28;01melse\u001b[39;00m:\n\u001b[1;32m-> 3160\u001b[0m     idx \u001b[38;5;241m=\u001b[39m \u001b[38;5;28;43mself\u001b[39;49m\u001b[38;5;241;43m.\u001b[39;49m\u001b[43m_get_loc_single_level_index\u001b[49m\u001b[43m(\u001b[49m\u001b[43mlevel_index\u001b[49m\u001b[43m,\u001b[49m\u001b[43m \u001b[49m\u001b[43mkey\u001b[49m\u001b[43m)\u001b[49m\n\u001b[0;32m   3162\u001b[0m     \u001b[38;5;28;01mif\u001b[39;00m level \u001b[38;5;241m>\u001b[39m \u001b[38;5;241m0\u001b[39m \u001b[38;5;129;01mor\u001b[39;00m \u001b[38;5;28mself\u001b[39m\u001b[38;5;241m.\u001b[39m_lexsort_depth \u001b[38;5;241m==\u001b[39m \u001b[38;5;241m0\u001b[39m:\n\u001b[0;32m   3163\u001b[0m         \u001b[38;5;66;03m# Desired level is not sorted\u001b[39;00m\n\u001b[0;32m   3164\u001b[0m         \u001b[38;5;28;01mif\u001b[39;00m \u001b[38;5;28misinstance\u001b[39m(idx, \u001b[38;5;28mslice\u001b[39m):\n\u001b[0;32m   3165\u001b[0m             \u001b[38;5;66;03m# test_get_loc_partial_timestamp_multiindex\u001b[39;00m\n",
      "File \u001b[1;32mC:\\Workdir\\Programs\\Miniconda\\envs\\jr23\\lib\\site-packages\\pandas\\core\\indexes\\multi.py:2752\u001b[0m, in \u001b[0;36mMultiIndex._get_loc_single_level_index\u001b[1;34m(self, level_index, key)\u001b[0m\n\u001b[0;32m   2750\u001b[0m     \u001b[38;5;28;01mreturn\u001b[39;00m \u001b[38;5;241m-\u001b[39m\u001b[38;5;241m1\u001b[39m\n\u001b[0;32m   2751\u001b[0m \u001b[38;5;28;01melse\u001b[39;00m:\n\u001b[1;32m-> 2752\u001b[0m     \u001b[38;5;28;01mreturn\u001b[39;00m \u001b[43mlevel_index\u001b[49m\u001b[38;5;241;43m.\u001b[39;49m\u001b[43mget_loc\u001b[49m\u001b[43m(\u001b[49m\u001b[43mkey\u001b[49m\u001b[43m)\u001b[49m\n",
      "File \u001b[1;32mC:\\Workdir\\Programs\\Miniconda\\envs\\jr23\\lib\\site-packages\\pandas\\core\\indexes\\base.py:3654\u001b[0m, in \u001b[0;36mIndex.get_loc\u001b[1;34m(self, key)\u001b[0m\n\u001b[0;32m   3652\u001b[0m     \u001b[38;5;28;01mreturn\u001b[39;00m \u001b[38;5;28mself\u001b[39m\u001b[38;5;241m.\u001b[39m_engine\u001b[38;5;241m.\u001b[39mget_loc(casted_key)\n\u001b[0;32m   3653\u001b[0m \u001b[38;5;28;01mexcept\u001b[39;00m \u001b[38;5;167;01mKeyError\u001b[39;00m \u001b[38;5;28;01mas\u001b[39;00m err:\n\u001b[1;32m-> 3654\u001b[0m     \u001b[38;5;28;01mraise\u001b[39;00m \u001b[38;5;167;01mKeyError\u001b[39;00m(key) \u001b[38;5;28;01mfrom\u001b[39;00m \u001b[38;5;21;01merr\u001b[39;00m\n\u001b[0;32m   3655\u001b[0m \u001b[38;5;28;01mexcept\u001b[39;00m \u001b[38;5;167;01mTypeError\u001b[39;00m:\n\u001b[0;32m   3656\u001b[0m     \u001b[38;5;66;03m# If we have a listlike key, _check_indexing_error will raise\u001b[39;00m\n\u001b[0;32m   3657\u001b[0m     \u001b[38;5;66;03m#  InvalidIndexError. Otherwise we fall through and re-raise\u001b[39;00m\n\u001b[0;32m   3658\u001b[0m     \u001b[38;5;66;03m#  the TypeError.\u001b[39;00m\n\u001b[0;32m   3659\u001b[0m     \u001b[38;5;28mself\u001b[39m\u001b[38;5;241m.\u001b[39m_check_indexing_error(key)\n",
      "\u001b[1;31mKeyError\u001b[0m: 'IEEE118_mod1'"
     ]
    }
   ],
   "source": [
    "#Regular line plots\n",
    "y = \"TSC\"\n",
    "x = \"Number of clusters\"\n",
    "\n",
    "rf = results_dfs_pivot.loc[\"IEEE118_mod1\"].loc[[\"R&D_fy\",\"OPT_LB_fy\",\"CHI_fy\",\"OPC_fy\",\"HI_fy\"]]\n",
    "#rf = results_dfs_pivot.loc[[\"R&D_fy\",\"OPT_LB_fy\"]]\n",
    "sns.lineplot(data = rf,x = x, y = y,hue = \"Clustering method\",marker = \"o\")\n",
    "#plt.ylim((76,77))\n",
    "#plt.ylim((228,229))\n",
    "\n",
    "#plt.savefig(f\"Z.Figures/lineplot_{y}_{x}_{CaseName_Base}\")"
   ]
  },
  {
   "cell_type": "code",
   "execution_count": null,
   "id": "e83e2cd0",
   "metadata": {},
   "outputs": [],
   "source": [
    "# Define variables\n",
    "y = \"TSC\"\n",
    "x = \"Number of clusters\"\n",
    "\n",
    "# Define the different case names you want to plot\n",
    "caseNames = CaseNames_Base\n",
    "# Create subplots\n",
    "fig, axes = plt.subplots(nrows=len(caseNames), ncols=1, figsize=(7, 9), sharex=True)\n",
    "\n",
    "# Loop through each caseName and create a subplot\n",
    "for i,(ax, caseName) in enumerate(zip(axes, caseNames)):\n",
    "    # Select specific rows and columns from the DataFrame\n",
    "    rf = results_dfs_pivot.loc[caseName].loc[[\"R&D_fy\",\"OPT_LB_fy\",\"CHI_fy\",\"OPC_fy\",\"HI_fy\"]]\n",
    "    #rf = results_dfs_pivot.loc[caseName].loc[[\"\",\"CHI_fy\",\"HI_fy\"]]\n",
    "    \n",
    "    # Create the line plot in the current subplot\n",
    "    sns.lineplot(data=rf, x=x, y=y, hue=\"Clustering method\", marker=\"o\", ax=ax)\n",
    "    \n",
    "    # Set the title of the subplot to indicate the caseName\n",
    "    ax.set_title(f\"Case: {caseName}\")\n",
    "    \n",
    "    if i != 0:\n",
    "        ax.legend().remove()\n",
    "\n",
    "# Adjust layout\n",
    "plt.tight_layout()\n",
    "\n",
    "# Optionally save the figure\n",
    "plt.savefig(f\"Z.Figures/lineplot_subplots_fy_{y}_{correl}.png\")\n",
    "\n",
    "# Display the plot\n",
    "plt.show()"
   ]
  },
  {
   "cell_type": "markdown",
   "id": "a4c39e74",
   "metadata": {},
   "source": [
    "## Save as latex compatible figure "
   ]
  },
  {
   "cell_type": "markdown",
   "id": "a3c309c1",
   "metadata": {},
   "source": [
    "## Save data for tex figure "
   ]
  },
  {
   "cell_type": "code",
   "execution_count": 152,
   "id": "a77b6406",
   "metadata": {},
   "outputs": [
    {
     "data": {
      "text/plain": [
       "array([False, False, False,  True, False, False, False, False,  True,\n",
       "       False,  True,  True,  True, False,  True])"
      ]
     },
     "execution_count": 152,
     "metadata": {},
     "output_type": "execute_result"
    }
   ],
   "source": [
    "import numpy as np\n",
    "rf.index.isin([10,50,100,200,250,300,400])"
   ]
  },
  {
   "cell_type": "code",
   "execution_count": 153,
   "id": "0ea0f9be",
   "metadata": {},
   "outputs": [],
   "source": [
    "import pandas as pd\n",
    "import os\n",
    "\n",
    "# Define variables\n",
    "y = \"TSC\"\n",
    "x = \"Number of clusters\"\n",
    "\n",
    "# Define the different case names you want to plot\n",
    "caseNames = CaseNames_Base\n",
    "\n",
    "# Directory to save CSV files\n",
    "output_dir = \"Z.Figures/data_for_latex\"\n",
    "os.makedirs(output_dir, exist_ok=True)\n",
    "nbcs = [10,20,40,60,80,100,150,200,250,300,350,400]\n",
    "# Export data for each case\n",
    "for caseName in caseNames:\n",
    "    if caseName.startswith(\"IEEE\"):\n",
    "        nbcs = [10,20,30,40,50,60,70,80,90,100]\n",
    "    else:\n",
    "        nbcs = [10,20,40,60,80,100,150,200,250,300,350,400]\n",
    "    for cm in [\"R&D_fy\",\"OPT_LB_fy\",\"CHI_fy\",\"OPC_fy\",\"HI_fy\"]:\n",
    "        rf = results_dfs_pivot.loc[caseName].loc[cm]\n",
    "        csv_file = os.path.join(output_dir, f\"{caseName.replace('_', '').replace('mod1', '')}_{cm.replace('_', '').replace('&', '')}_{correl}.csv\")\n",
    "        rf[\"Cost\"] = ((rf[\"TSC\"] / np.min(rf[\"TSC\"]))-1)*100\n",
    "        rf[rf.index.isin(nbcs)][\"Cost\"].to_csv(csv_file)\n"
   ]
  },
  {
   "cell_type": "code",
   "execution_count": 10,
   "id": "fb1dfab4",
   "metadata": {},
   "outputs": [
    {
     "ename": "ValueError",
     "evalue": "Could not interpret value `Dev_TSC` for parameter `y`",
     "output_type": "error",
     "traceback": [
      "\u001b[1;31m---------------------------------------------------------------------------\u001b[0m",
      "\u001b[1;31mValueError\u001b[0m                                Traceback (most recent call last)",
      "Cell \u001b[1;32mIn[10], line 16\u001b[0m\n\u001b[0;32m     13\u001b[0m rf \u001b[38;5;241m=\u001b[39m results_dfs_pivot\u001b[38;5;241m.\u001b[39mloc[caseName]\u001b[38;5;241m.\u001b[39mloc[[\u001b[38;5;124m\"\u001b[39m\u001b[38;5;124mR&D\u001b[39m\u001b[38;5;124m\"\u001b[39m,\u001b[38;5;124m\"\u001b[39m\u001b[38;5;124mOPT_LB\u001b[39m\u001b[38;5;124m\"\u001b[39m,\u001b[38;5;124m\"\u001b[39m\u001b[38;5;124mCHI\u001b[39m\u001b[38;5;124m\"\u001b[39m,\u001b[38;5;124m\"\u001b[39m\u001b[38;5;124mOPC\u001b[39m\u001b[38;5;124m\"\u001b[39m,\u001b[38;5;124m\"\u001b[39m\u001b[38;5;124mHI\u001b[39m\u001b[38;5;124m\"\u001b[39m]]\n\u001b[0;32m     15\u001b[0m \u001b[38;5;66;03m# Create the line plot in the current subplot\u001b[39;00m\n\u001b[1;32m---> 16\u001b[0m \u001b[43msns\u001b[49m\u001b[38;5;241;43m.\u001b[39;49m\u001b[43mlineplot\u001b[49m\u001b[43m(\u001b[49m\u001b[43mdata\u001b[49m\u001b[38;5;241;43m=\u001b[39;49m\u001b[43mrf\u001b[49m\u001b[43m,\u001b[49m\u001b[43m \u001b[49m\u001b[43mx\u001b[49m\u001b[38;5;241;43m=\u001b[39;49m\u001b[43mx\u001b[49m\u001b[43m,\u001b[49m\u001b[43m \u001b[49m\u001b[43my\u001b[49m\u001b[38;5;241;43m=\u001b[39;49m\u001b[43my\u001b[49m\u001b[43m,\u001b[49m\u001b[43m \u001b[49m\u001b[43mhue\u001b[49m\u001b[38;5;241;43m=\u001b[39;49m\u001b[38;5;124;43m\"\u001b[39;49m\u001b[38;5;124;43mClustering method\u001b[39;49m\u001b[38;5;124;43m\"\u001b[39;49m\u001b[43m,\u001b[49m\u001b[43m \u001b[49m\u001b[43mmarker\u001b[49m\u001b[38;5;241;43m=\u001b[39;49m\u001b[38;5;124;43m\"\u001b[39;49m\u001b[38;5;124;43mo\u001b[39;49m\u001b[38;5;124;43m\"\u001b[39;49m\u001b[43m,\u001b[49m\u001b[43m \u001b[49m\u001b[43max\u001b[49m\u001b[38;5;241;43m=\u001b[39;49m\u001b[43max\u001b[49m\u001b[43m)\u001b[49m\n\u001b[0;32m     18\u001b[0m \u001b[38;5;66;03m# Set the title of the subplot to indicate the caseName\u001b[39;00m\n\u001b[0;32m     19\u001b[0m ax\u001b[38;5;241m.\u001b[39mset_title(\u001b[38;5;124mf\u001b[39m\u001b[38;5;124m\"\u001b[39m\u001b[38;5;124mCase: \u001b[39m\u001b[38;5;132;01m{\u001b[39;00mcaseName\u001b[38;5;132;01m}\u001b[39;00m\u001b[38;5;124m\"\u001b[39m)\n",
      "File \u001b[1;32mC:\\Workdir\\Programs\\Miniconda\\envs\\jr23\\lib\\site-packages\\seaborn\\relational.py:618\u001b[0m, in \u001b[0;36mlineplot\u001b[1;34m(data, x, y, hue, size, style, units, palette, hue_order, hue_norm, sizes, size_order, size_norm, dashes, markers, style_order, estimator, errorbar, n_boot, seed, orient, sort, err_style, err_kws, legend, ci, ax, **kwargs)\u001b[0m\n\u001b[0;32m    615\u001b[0m errorbar \u001b[38;5;241m=\u001b[39m _deprecate_ci(errorbar, ci)\n\u001b[0;32m    617\u001b[0m variables \u001b[38;5;241m=\u001b[39m _LinePlotter\u001b[38;5;241m.\u001b[39mget_semantics(\u001b[38;5;28mlocals\u001b[39m())\n\u001b[1;32m--> 618\u001b[0m p \u001b[38;5;241m=\u001b[39m \u001b[43m_LinePlotter\u001b[49m\u001b[43m(\u001b[49m\n\u001b[0;32m    619\u001b[0m \u001b[43m    \u001b[49m\u001b[43mdata\u001b[49m\u001b[38;5;241;43m=\u001b[39;49m\u001b[43mdata\u001b[49m\u001b[43m,\u001b[49m\u001b[43m \u001b[49m\u001b[43mvariables\u001b[49m\u001b[38;5;241;43m=\u001b[39;49m\u001b[43mvariables\u001b[49m\u001b[43m,\u001b[49m\n\u001b[0;32m    620\u001b[0m \u001b[43m    \u001b[49m\u001b[43mestimator\u001b[49m\u001b[38;5;241;43m=\u001b[39;49m\u001b[43mestimator\u001b[49m\u001b[43m,\u001b[49m\u001b[43m \u001b[49m\u001b[43mn_boot\u001b[49m\u001b[38;5;241;43m=\u001b[39;49m\u001b[43mn_boot\u001b[49m\u001b[43m,\u001b[49m\u001b[43m \u001b[49m\u001b[43mseed\u001b[49m\u001b[38;5;241;43m=\u001b[39;49m\u001b[43mseed\u001b[49m\u001b[43m,\u001b[49m\u001b[43m \u001b[49m\u001b[43merrorbar\u001b[49m\u001b[38;5;241;43m=\u001b[39;49m\u001b[43merrorbar\u001b[49m\u001b[43m,\u001b[49m\n\u001b[0;32m    621\u001b[0m \u001b[43m    \u001b[49m\u001b[43msort\u001b[49m\u001b[38;5;241;43m=\u001b[39;49m\u001b[43msort\u001b[49m\u001b[43m,\u001b[49m\u001b[43m \u001b[49m\u001b[43morient\u001b[49m\u001b[38;5;241;43m=\u001b[39;49m\u001b[43morient\u001b[49m\u001b[43m,\u001b[49m\u001b[43m \u001b[49m\u001b[43merr_style\u001b[49m\u001b[38;5;241;43m=\u001b[39;49m\u001b[43merr_style\u001b[49m\u001b[43m,\u001b[49m\u001b[43m \u001b[49m\u001b[43merr_kws\u001b[49m\u001b[38;5;241;43m=\u001b[39;49m\u001b[43merr_kws\u001b[49m\u001b[43m,\u001b[49m\n\u001b[0;32m    622\u001b[0m \u001b[43m    \u001b[49m\u001b[43mlegend\u001b[49m\u001b[38;5;241;43m=\u001b[39;49m\u001b[43mlegend\u001b[49m\u001b[43m,\u001b[49m\n\u001b[0;32m    623\u001b[0m \u001b[43m\u001b[49m\u001b[43m)\u001b[49m\n\u001b[0;32m    625\u001b[0m p\u001b[38;5;241m.\u001b[39mmap_hue(palette\u001b[38;5;241m=\u001b[39mpalette, order\u001b[38;5;241m=\u001b[39mhue_order, norm\u001b[38;5;241m=\u001b[39mhue_norm)\n\u001b[0;32m    626\u001b[0m p\u001b[38;5;241m.\u001b[39mmap_size(sizes\u001b[38;5;241m=\u001b[39msizes, order\u001b[38;5;241m=\u001b[39msize_order, norm\u001b[38;5;241m=\u001b[39msize_norm)\n",
      "File \u001b[1;32mC:\\Workdir\\Programs\\Miniconda\\envs\\jr23\\lib\\site-packages\\seaborn\\relational.py:365\u001b[0m, in \u001b[0;36m_LinePlotter.__init__\u001b[1;34m(self, data, variables, estimator, n_boot, seed, errorbar, sort, orient, err_style, err_kws, legend)\u001b[0m\n\u001b[0;32m    351\u001b[0m \u001b[38;5;28;01mdef\u001b[39;00m \u001b[38;5;21m__init__\u001b[39m(\n\u001b[0;32m    352\u001b[0m     \u001b[38;5;28mself\u001b[39m, \u001b[38;5;241m*\u001b[39m,\n\u001b[0;32m    353\u001b[0m     data\u001b[38;5;241m=\u001b[39m\u001b[38;5;28;01mNone\u001b[39;00m, variables\u001b[38;5;241m=\u001b[39m{},\n\u001b[1;32m   (...)\u001b[0m\n\u001b[0;32m    359\u001b[0m     \u001b[38;5;66;03m# the kind of plot to draw, but for the time being we need to set\u001b[39;00m\n\u001b[0;32m    360\u001b[0m     \u001b[38;5;66;03m# this information so the SizeMapping can use it\u001b[39;00m\n\u001b[0;32m    361\u001b[0m     \u001b[38;5;28mself\u001b[39m\u001b[38;5;241m.\u001b[39m_default_size_range \u001b[38;5;241m=\u001b[39m (\n\u001b[0;32m    362\u001b[0m         np\u001b[38;5;241m.\u001b[39mr_[\u001b[38;5;241m.5\u001b[39m, \u001b[38;5;241m2\u001b[39m] \u001b[38;5;241m*\u001b[39m mpl\u001b[38;5;241m.\u001b[39mrcParams[\u001b[38;5;124m\"\u001b[39m\u001b[38;5;124mlines.linewidth\u001b[39m\u001b[38;5;124m\"\u001b[39m]\n\u001b[0;32m    363\u001b[0m     )\n\u001b[1;32m--> 365\u001b[0m     \u001b[38;5;28;43msuper\u001b[39;49m\u001b[43m(\u001b[49m\u001b[43m)\u001b[49m\u001b[38;5;241;43m.\u001b[39;49m\u001b[38;5;21;43m__init__\u001b[39;49m\u001b[43m(\u001b[49m\u001b[43mdata\u001b[49m\u001b[38;5;241;43m=\u001b[39;49m\u001b[43mdata\u001b[49m\u001b[43m,\u001b[49m\u001b[43m \u001b[49m\u001b[43mvariables\u001b[49m\u001b[38;5;241;43m=\u001b[39;49m\u001b[43mvariables\u001b[49m\u001b[43m)\u001b[49m\n\u001b[0;32m    367\u001b[0m     \u001b[38;5;28mself\u001b[39m\u001b[38;5;241m.\u001b[39mestimator \u001b[38;5;241m=\u001b[39m estimator\n\u001b[0;32m    368\u001b[0m     \u001b[38;5;28mself\u001b[39m\u001b[38;5;241m.\u001b[39merrorbar \u001b[38;5;241m=\u001b[39m errorbar\n",
      "File \u001b[1;32mC:\\Workdir\\Programs\\Miniconda\\envs\\jr23\\lib\\site-packages\\seaborn\\_oldcore.py:640\u001b[0m, in \u001b[0;36mVectorPlotter.__init__\u001b[1;34m(self, data, variables)\u001b[0m\n\u001b[0;32m    635\u001b[0m \u001b[38;5;66;03m# var_ordered is relevant only for categorical axis variables, and may\u001b[39;00m\n\u001b[0;32m    636\u001b[0m \u001b[38;5;66;03m# be better handled by an internal axis information object that tracks\u001b[39;00m\n\u001b[0;32m    637\u001b[0m \u001b[38;5;66;03m# such information and is set up by the scale_* methods. The analogous\u001b[39;00m\n\u001b[0;32m    638\u001b[0m \u001b[38;5;66;03m# information for numeric axes would be information about log scales.\u001b[39;00m\n\u001b[0;32m    639\u001b[0m \u001b[38;5;28mself\u001b[39m\u001b[38;5;241m.\u001b[39m_var_ordered \u001b[38;5;241m=\u001b[39m {\u001b[38;5;124m\"\u001b[39m\u001b[38;5;124mx\u001b[39m\u001b[38;5;124m\"\u001b[39m: \u001b[38;5;28;01mFalse\u001b[39;00m, \u001b[38;5;124m\"\u001b[39m\u001b[38;5;124my\u001b[39m\u001b[38;5;124m\"\u001b[39m: \u001b[38;5;28;01mFalse\u001b[39;00m}  \u001b[38;5;66;03m# alt., used DefaultDict\u001b[39;00m\n\u001b[1;32m--> 640\u001b[0m \u001b[38;5;28;43mself\u001b[39;49m\u001b[38;5;241;43m.\u001b[39;49m\u001b[43massign_variables\u001b[49m\u001b[43m(\u001b[49m\u001b[43mdata\u001b[49m\u001b[43m,\u001b[49m\u001b[43m \u001b[49m\u001b[43mvariables\u001b[49m\u001b[43m)\u001b[49m\n\u001b[0;32m    642\u001b[0m \u001b[38;5;28;01mfor\u001b[39;00m var, \u001b[38;5;28mcls\u001b[39m \u001b[38;5;129;01min\u001b[39;00m \u001b[38;5;28mself\u001b[39m\u001b[38;5;241m.\u001b[39m_semantic_mappings\u001b[38;5;241m.\u001b[39mitems():\n\u001b[0;32m    643\u001b[0m \n\u001b[0;32m    644\u001b[0m     \u001b[38;5;66;03m# Create the mapping function\u001b[39;00m\n\u001b[0;32m    645\u001b[0m     map_func \u001b[38;5;241m=\u001b[39m partial(\u001b[38;5;28mcls\u001b[39m\u001b[38;5;241m.\u001b[39mmap, plotter\u001b[38;5;241m=\u001b[39m\u001b[38;5;28mself\u001b[39m)\n",
      "File \u001b[1;32mC:\\Workdir\\Programs\\Miniconda\\envs\\jr23\\lib\\site-packages\\seaborn\\_oldcore.py:701\u001b[0m, in \u001b[0;36mVectorPlotter.assign_variables\u001b[1;34m(self, data, variables)\u001b[0m\n\u001b[0;32m    699\u001b[0m \u001b[38;5;28;01melse\u001b[39;00m:\n\u001b[0;32m    700\u001b[0m     \u001b[38;5;28mself\u001b[39m\u001b[38;5;241m.\u001b[39minput_format \u001b[38;5;241m=\u001b[39m \u001b[38;5;124m\"\u001b[39m\u001b[38;5;124mlong\u001b[39m\u001b[38;5;124m\"\u001b[39m\n\u001b[1;32m--> 701\u001b[0m     plot_data, variables \u001b[38;5;241m=\u001b[39m \u001b[38;5;28mself\u001b[39m\u001b[38;5;241m.\u001b[39m_assign_variables_longform(\n\u001b[0;32m    702\u001b[0m         data, \u001b[38;5;241m*\u001b[39m\u001b[38;5;241m*\u001b[39mvariables,\n\u001b[0;32m    703\u001b[0m     )\n\u001b[0;32m    705\u001b[0m \u001b[38;5;28mself\u001b[39m\u001b[38;5;241m.\u001b[39mplot_data \u001b[38;5;241m=\u001b[39m plot_data\n\u001b[0;32m    706\u001b[0m \u001b[38;5;28mself\u001b[39m\u001b[38;5;241m.\u001b[39mvariables \u001b[38;5;241m=\u001b[39m variables\n",
      "File \u001b[1;32mC:\\Workdir\\Programs\\Miniconda\\envs\\jr23\\lib\\site-packages\\seaborn\\_oldcore.py:938\u001b[0m, in \u001b[0;36mVectorPlotter._assign_variables_longform\u001b[1;34m(self, data, **kwargs)\u001b[0m\n\u001b[0;32m    933\u001b[0m \u001b[38;5;28;01melif\u001b[39;00m \u001b[38;5;28misinstance\u001b[39m(val, (\u001b[38;5;28mstr\u001b[39m, \u001b[38;5;28mbytes\u001b[39m)):\n\u001b[0;32m    934\u001b[0m \n\u001b[0;32m    935\u001b[0m     \u001b[38;5;66;03m# This looks like a column name but we don't know what it means!\u001b[39;00m\n\u001b[0;32m    937\u001b[0m     err \u001b[38;5;241m=\u001b[39m \u001b[38;5;124mf\u001b[39m\u001b[38;5;124m\"\u001b[39m\u001b[38;5;124mCould not interpret value `\u001b[39m\u001b[38;5;132;01m{\u001b[39;00mval\u001b[38;5;132;01m}\u001b[39;00m\u001b[38;5;124m` for parameter `\u001b[39m\u001b[38;5;132;01m{\u001b[39;00mkey\u001b[38;5;132;01m}\u001b[39;00m\u001b[38;5;124m`\u001b[39m\u001b[38;5;124m\"\u001b[39m\n\u001b[1;32m--> 938\u001b[0m     \u001b[38;5;28;01mraise\u001b[39;00m \u001b[38;5;167;01mValueError\u001b[39;00m(err)\n\u001b[0;32m    940\u001b[0m \u001b[38;5;28;01melse\u001b[39;00m:\n\u001b[0;32m    941\u001b[0m \n\u001b[0;32m    942\u001b[0m     \u001b[38;5;66;03m# Otherwise, assume the value is itself data\u001b[39;00m\n\u001b[0;32m    943\u001b[0m \n\u001b[0;32m    944\u001b[0m     \u001b[38;5;66;03m# Raise when data object is present and a vector can't matched\u001b[39;00m\n\u001b[0;32m    945\u001b[0m     \u001b[38;5;28;01mif\u001b[39;00m \u001b[38;5;28misinstance\u001b[39m(data, pd\u001b[38;5;241m.\u001b[39mDataFrame) \u001b[38;5;129;01mand\u001b[39;00m \u001b[38;5;129;01mnot\u001b[39;00m \u001b[38;5;28misinstance\u001b[39m(val, pd\u001b[38;5;241m.\u001b[39mSeries):\n",
      "\u001b[1;31mValueError\u001b[0m: Could not interpret value `Dev_TSC` for parameter `y`"
     ]
    },
    {
     "data": {
      "image/png": "[encoded data removed]",
      "text/plain": [
       "<Figure size 1000x1500 with 3 Axes>"
      ]
     },
     "metadata": {},
     "output_type": "display_data"
    }
   ],
   "source": [
    "# Define variables\n",
    "y = \"Dev_TSC\"\n",
    "x = \"Number of clusters\"\n",
    "\n",
    "# Define the different case names you want to plot\n",
    "caseNames = CaseNames_Base\n",
    "# Create subplots\n",
    "fig, axes = plt.subplots(nrows=len(caseNames), ncols=1, figsize=(10, 15), sharex=True)\n",
    "\n",
    "# Loop through each caseName and create a subplot\n",
    "for i,(ax, caseName) in enumerate(zip(axes, caseNames)):\n",
    "    # Select specific rows and columns from the DataFrame\n",
    "    rf = results_dfs_pivot.loc[caseName].loc[[\"R&D\",\"OPT_LB\",\"CHI\",\"OPC\",\"HI\"]]\n",
    "    \n",
    "    # Create the line plot in the current subplot\n",
    "    sns.lineplot(data=rf, x=x, y=y, hue=\"Clustering method\", marker=\"o\", ax=ax)\n",
    "    \n",
    "    # Set the title of the subplot to indicate the caseName\n",
    "    ax.set_title(f\"Case: {caseName}\")\n",
    "    \n",
    "    if i != 0:\n",
    "        ax.legend().remove()\n",
    "\n",
    "# Adjust layout\n",
    "plt.tight_layout()\n",
    "\n",
    "# Optionally save the figure\n",
    "plt.savefig(f\"Z.Figures/lineplot_subplots_reduced_{y}.png\")\n",
    "\n",
    "# Display the plot\n",
    "plt.show()"
   ]
  }
 ],
 "metadata": {
  "kernelspec": {
   "display_name": "Python 3 (ipykernel)",
   "language": "python",
   "name": "python3"
  },
  "language_info": {
   "codemirror_mode": {
    "name": "ipython",
    "version": 3
   },
   "file_extension": ".py",
   "mimetype": "text/x-python",
   "name": "python",
   "nbconvert_exporter": "python",
   "pygments_lexer": "ipython3",
   "version": "3.10.11"
  }
 },
 "nbformat": 4,
 "nbformat_minor": 5
}
