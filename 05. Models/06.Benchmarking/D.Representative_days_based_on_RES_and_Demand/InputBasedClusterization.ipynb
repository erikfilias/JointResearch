{
 "cells": [
  {
   "cell_type": "markdown",
   "metadata": {},
   "source": [
    "### This notebook generate the line benefits from the operational cost"
   ]
  },
  {
   "cell_type": "code",
   "execution_count": 232,
   "metadata": {},
   "outputs": [],
   "source": [
    "# libraries\n",
    "import os\n",
    "import time\n",
    "import math\n",
    "import pandas as pd\n",
    "import numpy as np\n",
    "from sklearn.preprocessing import StandardScaler\n",
    "from sklearn.preprocessing import MinMaxScaler\n",
    "from matplotlib import pyplot as plt\n",
    "from sklearn.decomposition import PCA as sklearnPCA\n",
    "from sklearn.cluster import KMeans\n",
    "from sklearn_extra.cluster import KMedoids\n",
    "# from kneed import KneeLocator\n",
    "from pyomo.environ      import *\n",
    "from pyomo.opt          import SolverFactory"
   ]
  },
  {
   "cell_type": "code",
   "execution_count": 233,
   "metadata": {},
   "outputs": [],
   "source": [
    "#%% Defining the clustering functions\n",
    "def KMeansMethod(OptClusters, Y_sklearn, _path_0, _path_1, CaseName_0, CaseName_1, table, data, cluster_type):\n",
    "    # Running the K-means with the optimal number of clusters. Setting up the initializer and random state.\n",
    "    kmeans_pca = KMeans(n_clusters=OptClusters, init='k-means++', random_state=42)\n",
    "    kmeans_pca.fit(Y_sklearn)\n",
    "    df_segm_pca_kmeans = pd.concat([table.reset_index(drop=True), pd.DataFrame(Y_sklearn)], axis=1)\n",
    "    df_segm_pca_kmeans.columns.values[-3:] = ['Component 1', 'Component 2', 'Component 3']\n",
    "    df_segm_pca_kmeans['Segment K-means PCA'] = kmeans_pca.labels_\n",
    "    # Saving the cluster on the NetworkCommitment CSV file\n",
    "    # df_segm_pca_kmeans.to_csv(_path_0 + '/oT_Result_NetworkCommitment_ReducedCost_Clusters_kmeans_' + CaseName_0 + '.csv', sep=',')\n",
    "    # Storing clusters in the first table\n",
    "    table['Segment K-means PCA'] = kmeans_pca.labels_\n",
    "    table = table.reset_index()\n",
    "    if cluster_type == 'hourly':\n",
    "        table = table.set_index(['LoadLevel', 'Day', 'Month', 'Segment K-medoids PCA'])\n",
    "    elif cluster_type == 'daily with hourly resolution':\n",
    "        table = table.set_index(['Day', 'Month', 'Segment K-medoids PCA'])\n",
    "    elif cluster_type == 'weekly with hourly resolution':\n",
    "        table = table.set_index(['Week', 'Segment K-medoids PCA'])\n",
    "    # Stacking the table to also have the lines as index\n",
    "    df = table.stack()\n",
    "    df = df.reset_index()\n",
    "    # Adding a new column with the cluster for each LoadLevel\n",
    "    data['Segment K-means PCA'] = np.where(data['Variable'] == df['Variable'],\n",
    "                                                    df['Segment K-means PCA'], df['Segment K-means PCA'])\n",
    "    # Adding the duration to each LoadLevel\n",
    "    data['Duration'] = 1\n",
    "    # Renaming the cluster with respective name adopting in openTEPES project\n",
    "    data['Stage'] = data['Segment K-means PCA'].map({0: 'st1', 1: 'st2', 2: 'st3', 3: 'st4', 4: 'st5',\n",
    "                                                                       5: 'st6', 6: 'st7', 7: 'st8', 8: 'st9',\n",
    "                                                                       9: 'st10',\n",
    "                                                                       10: 'st11', 11: 'st12', 12: 'st13', 13: 'st14',\n",
    "                                                                       14: 'st15',\n",
    "                                                                       15: 'st16', 16: 'st17', 17: 'st18', 18: 'st19',\n",
    "                                                                       19: 'st20',\n",
    "                                                                       20: 'st21', 21: 'st22', 22: 'st23', 23: 'st24',\n",
    "                                                                       24: 'st25',\n",
    "                                                                       25: 'st26', 26: 'st27', 27: 'st28', 28: 'st29',\n",
    "                                                                       29: 'st30',\n",
    "                                                                       30: 'st31', 31: 'st32', 32: 'st33', 33: 'st34',\n",
    "                                                                       34: 'st35',\n",
    "                                                                       35: 'st36', 36: 'st37', 37: 'st38', 38: 'st39',\n",
    "                                                                       39: 'st40',\n",
    "                                                                       40: 'st41', 41: 'st42', 42: 'st43', 43: 'st44',\n",
    "                                                                       44: 'st45',\n",
    "                                                                       45: 'st46', 46: 'st47', 47: 'st48', 48: 'st49',\n",
    "                                                                       49: 'st50'})\n",
    "    # Getting only the relevant information to build the new CSV file in CaseName_ByStages\n",
    "    data = data[\n",
    "        ['Scenario', 'Period', 'LoadLevel', 'Stage', 'InitialNode', 'FinalNode', 'Circuit', 'Value']]\n",
    "    # data.to_csv(_path_0 + '/oT_Test_ReducedCost_Clusters_' + CaseName_0 + '.csv', sep=',')\n",
    "    # Shaping the dataframe to be saved in CSV files\n",
    "    TableToFile = pd.pivot_table(data, values='Value', index=['LoadLevel', 'Stage', 'Duration'],\n",
    "                                 columns=['InitialNode', 'FinalNode', 'Circuit'], fill_value=0)\n",
    "    TableToFile = TableToFile.reset_index()\n",
    "    # TableToFile['Duration'] = 1\n",
    "    # Creating the dataframe to generate oT_Data_Duration\n",
    "    dfDuration = pd.DataFrame(0, index=TableToFile.index, columns=['LoadLevel', 'Duration', 'Stage'])\n",
    "    dfDuration['LoadLevel'] = TableToFile['LoadLevel']\n",
    "    dfDuration['Duration'] = TableToFile['Duration']\n",
    "    dfDuration['Stage'] = TableToFile['Stage']\n",
    "    dfDuration.to_csv(_path_1 + '/oT_Data_Duration_' + CaseName_1 + '.csv', sep=',', index=False)\n",
    "    # Identifying the Stages\n",
    "    Stages = dfDuration.Stage.unique()\n",
    "    Stages = np.sort(Stages)\n",
    "    # Creating the dataframe to generate oT_Data_Stages\n",
    "    dfa = pd.DataFrame({'Weight': dfDuration['Stage']})\n",
    "    dfa = dfa['Weight'].value_counts()\n",
    "    dfa = dfa / 24\n",
    "    dfa = dfa.sort_index()\n",
    "    dfStages = pd.DataFrame(dfa.values, index=dfa.index, columns=['Weight'])\n",
    "    dfStages.to_csv(_path_1 + '/oT_Data_Stage_' + CaseName_1 + '.csv', sep=',')\n",
    "    # Creating the dataframe to generate oT_Dict_Stages\n",
    "    dict_Stages = pd.DataFrame(Stages, columns=['Stage'])\n",
    "    dict_Stages.to_csv(_path_1 + '/oT_Dict_Stage_' + CaseName_1 + '.csv', sep=',', index=False)\n",
    "\n",
    "\n",
    "def KMedoidsMethod(OptClusters, Y_sklearn, _path_0, _path_1, CaseName_0, CaseName_1, table, data, cluster_type):\n",
    "    # Running the K-means with the optimal number of clusters. Setting up the initializer and random state.\n",
    "    kmedoids_pca = KMedoids(metric=\"euclidean\", n_clusters=OptClusters, init=\"heuristic\", max_iter=2, random_state=42)\n",
    "    kmedoids_pca.fit(Y_sklearn)\n",
    "    df_segm_pca_kmedoids = pd.concat([table.reset_index(drop=True), pd.DataFrame(Y_sklearn)], axis=1)\n",
    "    df_segm_pca_kmedoids.columns.values[-3:] = ['Component 1', 'Component 2', 'Component 3']\n",
    "    df_segm_pca_kmedoids['Segment K-medoids PCA'] = kmedoids_pca.labels_\n",
    "    # Saving the cluster on the NetworkCommitment CSV file\n",
    "    # df_segm_pca_kmedoids.to_csv(_path_0 + '/oT_Result_NetworkCommitment_ReducedCost_Clusters_kmedoids_' + CaseName_0 + '.csv', sep=',')\n",
    "    # Storing clusters in the first table\n",
    "    table['Segment K-medoids PCA'] = kmedoids_pca.labels_\n",
    "    table = table.reset_index()\n",
    "    if cluster_type == 'hourly':\n",
    "        table = table.set_index(['LoadLevel', 'Day', 'Month', 'Segment K-medoids PCA'])\n",
    "    elif cluster_type == 'daily with hourly resolution':\n",
    "        table = table.set_index(['Day', 'Month', 'Segment K-medoids PCA'])\n",
    "    elif cluster_type == 'weekly with hourly resolution':\n",
    "        table = table.set_index(['Week', 'Segment K-medoids PCA'])\n",
    "    # Stacking the table to also have the lines as index\n",
    "    df = table.stack()\n",
    "    df = df.reset_index()\n",
    "    # Adding a new column with the cluster for each LoadLevel\n",
    "    data['Segment K-medoids PCA'] = np.where(data['Variable'] == df['Variable'], df['Segment K-medoids PCA'], df['Segment K-medoids PCA'])\n",
    "    # Adding the duration to each LoadLevel\n",
    "    data['Duration'] = 0\n",
    "    # Getting only the relevant information to build the new CSV file in CaseName_ByStages\n",
    "    data['Stage'] = data['Segment K-medoids PCA'].map(lambda x: f'st{x + 1}' if 0 <= x < 8000 else f'st{x}')\n",
    "\n",
    "    #\n",
    "    idx = kmedoids_pca.medoid_indices_\n",
    "    data['HourOfYear'] = (data['Day']-1)*24 + data['Hour']\n",
    "    if cluster_type == 'hourly':\n",
    "        dfHourToStage = pd.DataFrame(idx, columns=['Hour'])\n",
    "        dfHourToStage = dfHourToStage\n",
    "        for k in dfHourToStage.index:\n",
    "            data.loc[data['HourOfYear']== dfHourToStage['Hour'][k], 'Duration'] = 1\n",
    "    elif cluster_type == 'daily with hourly resolution':\n",
    "        dfDayToStage = pd.DataFrame(idx, columns=['Day'])\n",
    "        dfDayToStage = dfDayToStage + 1\n",
    "        for k in dfDayToStage.index:\n",
    "            data.loc[data['Day'] == dfDayToStage['Day'][k], 'Duration'] = 1\n",
    "    elif cluster_type == 'weekly with hourly resolution':\n",
    "        dfWeekToStage = pd.DataFrame(idx, columns=['Day'])\n",
    "        dfWeekToStage = dfWeekToStage + 1\n",
    "        for k in dfWeekToStage.index:\n",
    "            data.loc[data['Week'] == dfDayToStage['Week'][k], 'Duration'] = 1\n",
    "\n",
    "    # Getting only the relevant information to build the new CSV file in CaseName_ByStages\n",
    "    # data = data[\n",
    "        # ['Scenario', 'Period', 'LoadLevel', 'Stage', 'InitialNode', 'FinalNode', 'Circuit', 'Duration', 'Value']]\n",
    "    data = data[\n",
    "        ['LoadLevel', 'Stage', 'Execution', 'Duration', 'Value']]\n",
    "    # data.to_csv(_path_0 + '/oT_Test_ReducedCost_Clusters_' + CaseName_0 + '.csv', sep=',')\n",
    "    # Shaping the dataframe to be saved in CSV files\n",
    "    # TableToFile = pd.pivot_table(data, values='Value', index=['LoadLevel', 'Stage', 'Duration'],\n",
    "    #                              columns=['InitialNode', 'FinalNode', 'Circuit'], fill_value=0)\n",
    "    TableToFile = pd.pivot_table(data, values='Value', index=['LoadLevel', 'Stage', 'Duration'],\n",
    "                                 columns=['Execution'], fill_value=0)\n",
    "    TableToFile = TableToFile.reset_index()\n",
    "\n",
    "    # Creating the dataframe to generate oT_Data_Duration\n",
    "    dfDuration = pd.DataFrame(0, index=TableToFile.index, columns=['LoadLevel', 'Duration', 'Stage'])\n",
    "    dfDuration['LoadLevel'] = TableToFile['LoadLevel']\n",
    "    dfDuration['Duration'] = TableToFile['Duration']\n",
    "    dfDuration['Stage'] = TableToFile['Stage']\n",
    "    dfDuration.to_csv(os.path.join(_path_1, '2.Par', 'oT_Data_Duration_' + CaseName_1 + '.csv'), sep=',', index=False)\n",
    "    # dfDuration.to_csv(_path_1 + '/oT_Data_Duration_' + CaseName_1 + '.csv', sep=',', index=False)\n",
    "    # Identifying the Stages\n",
    "    Stages = dfDuration.Stage.unique()\n",
    "    Stages = np.sort(Stages)\n",
    "    # Creating the dataframe to generate oT_Data_Stages\n",
    "    dfa = pd.DataFrame({'Weight': dfDuration['Stage']})\n",
    "    dfa = dfa['Weight'].value_counts()\n",
    "    if cluster_type == 'hourly':\n",
    "        dfa = dfa\n",
    "    elif cluster_type == 'daily with hourly resolution':\n",
    "        dfa = dfa/24\n",
    "    elif cluster_type == 'weekly with hourly resolution':\n",
    "        dfa = dfa/168\n",
    "    dfa = dfa.sort_index()\n",
    "    dfStages = pd.DataFrame(dfa.values, index=dfa.index, columns=['Weight'])\n",
    "    dfStages.index.name = None\n",
    "    dfStages.to_csv(os.path.join(_path_1, '2.Par', 'oT_Data_Stage_' + CaseName_1 + '.csv'), sep=',')\n",
    "    # dfStages.to_csv(_path_1 + '/oT_Data_Stage_' + CaseName_1 + '.csv', sep=',')\n",
    "    # Creating the dataframe to generate oT_Dict_Stages\n",
    "    dict_Stages = pd.DataFrame(Stages, columns=['Stage'])\n",
    "    dict_Stages.to_csv(os.path.join(_path_1, '1.Set', 'oT_Dict_Stage_' + CaseName_1 + '.csv'), sep=',', index=False)\n",
    "    # dict_Stages.to_csv(_path_1 + '/oT_Dict_Stage_' + CaseName_1 + '.csv', sep=',', index=False)\n",
    "\n",
    "    return kmedoids_pca"
   ]
  },
  {
   "cell_type": "markdown",
   "metadata": {},
   "source": [
    "### Reading the data for clustering"
   ]
  },
  {
   "cell_type": "code",
   "execution_count": 234,
   "metadata": {},
   "outputs": [],
   "source": [
    "#%% Setting up the path a cases\n",
    "DirName  = os.getcwd()\n",
    "\n",
    "opt_cluster = 20\n",
    "\n",
    "CaseName_Base     = '3-bus'\n",
    "# CaseName_ByStages = CaseName_Base+'_ByStages'\n",
    "CaseName_ByStages = CaseName_Base+'_ByStages_nc'+str(opt_cluster)\n",
    "\n",
    "CSV_name =  'oT_Data_Profiles_' + CaseName_Base\n",
    "\n",
    "_path_0 = os.path.join(DirName, CaseName_Base)\n",
    "_path_1 = os.path.join(DirName, CaseName_ByStages)\n",
    "\n",
    "StartTime = time.time()\n",
    "\n",
    "#%% Selecting the maximum number of cluster to plot\n",
    "max_cluster = 300\n",
    "#%% Selecting the optimal number of cluster and defining the clustering method (0: k-means; 1:k-medoids)\n",
    "# opt_cluster = 150\n",
    "\n",
    "# type of cluster method (0: k-means; 1:k-medoids)\n",
    "cluster_method = 1\n",
    "\n",
    "#%% type of clustering  ('hourly'; 'daily with hourly resolution'; 'weekly with hourly resolution')\n",
    "clustering_type = 'hourly'\n",
    "\n",
    "output_directory = DirName + '/' + CaseName_ByStages + '/'\n",
    "if not os.path.exists(output_directory):\n",
    "    os.makedirs(output_directory)\n"
   ]
  },
  {
   "cell_type": "code",
   "execution_count": 235,
   "metadata": {},
   "outputs": [],
   "source": [
    "df_1 = pd.read_csv(_path_0+'/2.Par'+'/'+CSV_name+'.csv', index_col=0)\n",
    "diff_df_1 = df_1"
   ]
  },
  {
   "cell_type": "code",
   "execution_count": 236,
   "metadata": {},
   "outputs": [],
   "source": [
    "#%% Loading Sets from CSV\n",
    "dictSets = DataPortal()\n",
    "dictSets.load(filename=_path_0+'/1.Set'+'/oT_Dict_LoadLevel_'   +CaseName_Base+'.csv', set='n'   , format='set')"
   ]
  },
  {
   "cell_type": "markdown",
   "metadata": {},
   "source": [
    "#### Line benefits"
   ]
  },
  {
   "cell_type": "code",
   "execution_count": 237,
   "metadata": {},
   "outputs": [
    {
     "data": {
      "text/html": [
       "<div>\n",
       "<style scoped>\n",
       "    .dataframe tbody tr th:only-of-type {\n",
       "        vertical-align: middle;\n",
       "    }\n",
       "\n",
       "    .dataframe tbody tr th {\n",
       "        vertical-align: top;\n",
       "    }\n",
       "\n",
       "    .dataframe thead th {\n",
       "        text-align: right;\n",
       "    }\n",
       "</style>\n",
       "<table border=\"1\" class=\"dataframe\">\n",
       "  <thead>\n",
       "    <tr style=\"text-align: right;\">\n",
       "      <th></th>\n",
       "      <th>Unnamed: 1</th>\n",
       "      <th>Unnamed: 2</th>\n",
       "      <th>Demand</th>\n",
       "      <th>Solar</th>\n",
       "      <th>Wind</th>\n",
       "      <th>Hydro</th>\n",
       "    </tr>\n",
       "  </thead>\n",
       "  <tbody>\n",
       "    <tr>\n",
       "      <th>2030</th>\n",
       "      <td>sc01</td>\n",
       "      <td>01-01 00:00:00+01:00</td>\n",
       "      <td>976.000000</td>\n",
       "      <td>0.0</td>\n",
       "      <td>157.075000</td>\n",
       "      <td>0</td>\n",
       "    </tr>\n",
       "    <tr>\n",
       "      <th>2030</th>\n",
       "      <td>sc01</td>\n",
       "      <td>01-01 01:00:00+01:00</td>\n",
       "      <td>934.491895</td>\n",
       "      <td>0.0</td>\n",
       "      <td>144.705600</td>\n",
       "      <td>0</td>\n",
       "    </tr>\n",
       "    <tr>\n",
       "      <th>2030</th>\n",
       "      <td>sc01</td>\n",
       "      <td>01-01 02:00:00+01:00</td>\n",
       "      <td>896.076257</td>\n",
       "      <td>0.0</td>\n",
       "      <td>134.218275</td>\n",
       "      <td>0</td>\n",
       "    </tr>\n",
       "    <tr>\n",
       "      <th>2030</th>\n",
       "      <td>sc01</td>\n",
       "      <td>01-01 03:00:00+01:00</td>\n",
       "      <td>869.357209</td>\n",
       "      <td>0.0</td>\n",
       "      <td>128.766400</td>\n",
       "      <td>0</td>\n",
       "    </tr>\n",
       "    <tr>\n",
       "      <th>2030</th>\n",
       "      <td>sc01</td>\n",
       "      <td>01-01 04:00:00+01:00</td>\n",
       "      <td>848.582196</td>\n",
       "      <td>0.0</td>\n",
       "      <td>120.892500</td>\n",
       "      <td>0</td>\n",
       "    </tr>\n",
       "  </tbody>\n",
       "</table>\n",
       "</div>"
      ],
      "text/plain": [
       "     Unnamed: 1            Unnamed: 2      Demand  Solar        Wind  Hydro\n",
       "2030       sc01  01-01 00:00:00+01:00  976.000000    0.0  157.075000      0\n",
       "2030       sc01  01-01 01:00:00+01:00  934.491895    0.0  144.705600      0\n",
       "2030       sc01  01-01 02:00:00+01:00  896.076257    0.0  134.218275      0\n",
       "2030       sc01  01-01 03:00:00+01:00  869.357209    0.0  128.766400      0\n",
       "2030       sc01  01-01 04:00:00+01:00  848.582196    0.0  120.892500      0"
      ]
     },
     "execution_count": 237,
     "metadata": {},
     "output_type": "execute_result"
    }
   ],
   "source": [
    "diff_df_1.head()"
   ]
  },
  {
   "cell_type": "code",
   "execution_count": 238,
   "metadata": {},
   "outputs": [],
   "source": [
    "diff_df_1['LoadLevel'] = dictSets['n' ]\n",
    "diff_df_1.set_index('LoadLevel', inplace=True)"
   ]
  },
  {
   "cell_type": "code",
   "execution_count": 239,
   "metadata": {},
   "outputs": [
    {
     "data": {
      "text/html": [
       "<div>\n",
       "<style scoped>\n",
       "    .dataframe tbody tr th:only-of-type {\n",
       "        vertical-align: middle;\n",
       "    }\n",
       "\n",
       "    .dataframe tbody tr th {\n",
       "        vertical-align: top;\n",
       "    }\n",
       "\n",
       "    .dataframe thead th {\n",
       "        text-align: right;\n",
       "    }\n",
       "</style>\n",
       "<table border=\"1\" class=\"dataframe\">\n",
       "  <thead>\n",
       "    <tr style=\"text-align: right;\">\n",
       "      <th></th>\n",
       "      <th>Unnamed: 1</th>\n",
       "      <th>Unnamed: 2</th>\n",
       "      <th>Demand</th>\n",
       "      <th>Solar</th>\n",
       "      <th>Wind</th>\n",
       "      <th>Hydro</th>\n",
       "    </tr>\n",
       "    <tr>\n",
       "      <th>LoadLevel</th>\n",
       "      <th></th>\n",
       "      <th></th>\n",
       "      <th></th>\n",
       "      <th></th>\n",
       "      <th></th>\n",
       "      <th></th>\n",
       "    </tr>\n",
       "  </thead>\n",
       "  <tbody>\n",
       "    <tr>\n",
       "      <th>01-01 00:00:00+01:00</th>\n",
       "      <td>sc01</td>\n",
       "      <td>01-01 00:00:00+01:00</td>\n",
       "      <td>976.000000</td>\n",
       "      <td>0.0</td>\n",
       "      <td>157.075000</td>\n",
       "      <td>0</td>\n",
       "    </tr>\n",
       "    <tr>\n",
       "      <th>01-01 01:00:00+01:00</th>\n",
       "      <td>sc01</td>\n",
       "      <td>01-01 01:00:00+01:00</td>\n",
       "      <td>934.491895</td>\n",
       "      <td>0.0</td>\n",
       "      <td>144.705600</td>\n",
       "      <td>0</td>\n",
       "    </tr>\n",
       "    <tr>\n",
       "      <th>01-01 02:00:00+01:00</th>\n",
       "      <td>sc01</td>\n",
       "      <td>01-01 02:00:00+01:00</td>\n",
       "      <td>896.076257</td>\n",
       "      <td>0.0</td>\n",
       "      <td>134.218275</td>\n",
       "      <td>0</td>\n",
       "    </tr>\n",
       "    <tr>\n",
       "      <th>01-01 03:00:00+01:00</th>\n",
       "      <td>sc01</td>\n",
       "      <td>01-01 03:00:00+01:00</td>\n",
       "      <td>869.357209</td>\n",
       "      <td>0.0</td>\n",
       "      <td>128.766400</td>\n",
       "      <td>0</td>\n",
       "    </tr>\n",
       "    <tr>\n",
       "      <th>01-01 04:00:00+01:00</th>\n",
       "      <td>sc01</td>\n",
       "      <td>01-01 04:00:00+01:00</td>\n",
       "      <td>848.582196</td>\n",
       "      <td>0.0</td>\n",
       "      <td>120.892500</td>\n",
       "      <td>0</td>\n",
       "    </tr>\n",
       "  </tbody>\n",
       "</table>\n",
       "</div>"
      ],
      "text/plain": [
       "                     Unnamed: 1            Unnamed: 2      Demand  Solar  \\\n",
       "LoadLevel                                                                  \n",
       "01-01 00:00:00+01:00       sc01  01-01 00:00:00+01:00  976.000000    0.0   \n",
       "01-01 01:00:00+01:00       sc01  01-01 01:00:00+01:00  934.491895    0.0   \n",
       "01-01 02:00:00+01:00       sc01  01-01 02:00:00+01:00  896.076257    0.0   \n",
       "01-01 03:00:00+01:00       sc01  01-01 03:00:00+01:00  869.357209    0.0   \n",
       "01-01 04:00:00+01:00       sc01  01-01 04:00:00+01:00  848.582196    0.0   \n",
       "\n",
       "                            Wind  Hydro  \n",
       "LoadLevel                                \n",
       "01-01 00:00:00+01:00  157.075000      0  \n",
       "01-01 01:00:00+01:00  144.705600      0  \n",
       "01-01 02:00:00+01:00  134.218275      0  \n",
       "01-01 03:00:00+01:00  128.766400      0  \n",
       "01-01 04:00:00+01:00  120.892500      0  "
      ]
     },
     "execution_count": 239,
     "metadata": {},
     "output_type": "execute_result"
    }
   ],
   "source": [
    "diff_df_1.head()"
   ]
  },
  {
   "cell_type": "code",
   "execution_count": 240,
   "metadata": {},
   "outputs": [],
   "source": [
    "# Selecting the columns demand, wind, solar, hydro\n",
    "diff_df_1 = diff_df_1[['Demand', 'Wind', 'Solar', 'Hydro']]"
   ]
  },
  {
   "cell_type": "code",
   "execution_count": 241,
   "metadata": {},
   "outputs": [],
   "source": [
    "ddf_1 = diff_df_1.stack()"
   ]
  },
  {
   "cell_type": "code",
   "execution_count": 242,
   "metadata": {},
   "outputs": [],
   "source": [
    "ddf_1.index.names = ['LoadLevel', 'Execution']"
   ]
  },
  {
   "cell_type": "code",
   "execution_count": 243,
   "metadata": {},
   "outputs": [],
   "source": [
    "# changing the column name\n",
    "ddf_1 = ddf_1.to_frame(name='Value')"
   ]
  },
  {
   "cell_type": "code",
   "execution_count": 244,
   "metadata": {},
   "outputs": [
    {
     "data": {
      "text/html": [
       "<div>\n",
       "<style scoped>\n",
       "    .dataframe tbody tr th:only-of-type {\n",
       "        vertical-align: middle;\n",
       "    }\n",
       "\n",
       "    .dataframe tbody tr th {\n",
       "        vertical-align: top;\n",
       "    }\n",
       "\n",
       "    .dataframe thead th {\n",
       "        text-align: right;\n",
       "    }\n",
       "</style>\n",
       "<table border=\"1\" class=\"dataframe\">\n",
       "  <thead>\n",
       "    <tr style=\"text-align: right;\">\n",
       "      <th></th>\n",
       "      <th></th>\n",
       "      <th>Value</th>\n",
       "    </tr>\n",
       "    <tr>\n",
       "      <th>LoadLevel</th>\n",
       "      <th>Execution</th>\n",
       "      <th></th>\n",
       "    </tr>\n",
       "  </thead>\n",
       "  <tbody>\n",
       "    <tr>\n",
       "      <th rowspan=\"4\" valign=\"top\">01-01 00:00:00+01:00</th>\n",
       "      <th>Demand</th>\n",
       "      <td>976.000000</td>\n",
       "    </tr>\n",
       "    <tr>\n",
       "      <th>Wind</th>\n",
       "      <td>157.075000</td>\n",
       "    </tr>\n",
       "    <tr>\n",
       "      <th>Solar</th>\n",
       "      <td>0.000000</td>\n",
       "    </tr>\n",
       "    <tr>\n",
       "      <th>Hydro</th>\n",
       "      <td>0.000000</td>\n",
       "    </tr>\n",
       "    <tr>\n",
       "      <th>01-01 01:00:00+01:00</th>\n",
       "      <th>Demand</th>\n",
       "      <td>934.491895</td>\n",
       "    </tr>\n",
       "  </tbody>\n",
       "</table>\n",
       "</div>"
      ],
      "text/plain": [
       "                                     Value\n",
       "LoadLevel            Execution            \n",
       "01-01 00:00:00+01:00 Demand     976.000000\n",
       "                     Wind       157.075000\n",
       "                     Solar        0.000000\n",
       "                     Hydro        0.000000\n",
       "01-01 01:00:00+01:00 Demand     934.491895"
      ]
     },
     "execution_count": 244,
     "metadata": {},
     "output_type": "execute_result"
    }
   ],
   "source": [
    "ddf_1.head()"
   ]
  },
  {
   "cell_type": "code",
   "execution_count": 245,
   "metadata": {},
   "outputs": [],
   "source": [
    "ddf_1 = ddf_1.reset_index()"
   ]
  },
  {
   "cell_type": "code",
   "execution_count": 246,
   "metadata": {},
   "outputs": [],
   "source": [
    "ddf_1['Date'] = ddf_1['LoadLevel']\n",
    "ddf_1['Date'] = ddf_1['Date'].str.slice(0, -6)"
   ]
  },
  {
   "cell_type": "code",
   "execution_count": 247,
   "metadata": {},
   "outputs": [],
   "source": [
    "ddf_1['Date'] = pd.to_datetime(ddf_1['Date'], format='%m-%d %H:%M:%S', errors='coerce')"
   ]
  },
  {
   "cell_type": "code",
   "execution_count": 248,
   "metadata": {},
   "outputs": [
    {
     "data": {
      "text/html": [
       "<div>\n",
       "<style scoped>\n",
       "    .dataframe tbody tr th:only-of-type {\n",
       "        vertical-align: middle;\n",
       "    }\n",
       "\n",
       "    .dataframe tbody tr th {\n",
       "        vertical-align: top;\n",
       "    }\n",
       "\n",
       "    .dataframe thead th {\n",
       "        text-align: right;\n",
       "    }\n",
       "</style>\n",
       "<table border=\"1\" class=\"dataframe\">\n",
       "  <thead>\n",
       "    <tr style=\"text-align: right;\">\n",
       "      <th></th>\n",
       "      <th>LoadLevel</th>\n",
       "      <th>Execution</th>\n",
       "      <th>Value</th>\n",
       "      <th>Date</th>\n",
       "    </tr>\n",
       "  </thead>\n",
       "  <tbody>\n",
       "    <tr>\n",
       "      <th>34939</th>\n",
       "      <td>12-30 22:00:00+01:00</td>\n",
       "      <td>Hydro</td>\n",
       "      <td>0.000000</td>\n",
       "      <td>1900-12-30 22:00:00</td>\n",
       "    </tr>\n",
       "    <tr>\n",
       "      <th>34940</th>\n",
       "      <td>12-30 23:00:00+01:00</td>\n",
       "      <td>Demand</td>\n",
       "      <td>952.950245</td>\n",
       "      <td>1900-12-30 23:00:00</td>\n",
       "    </tr>\n",
       "    <tr>\n",
       "      <th>34941</th>\n",
       "      <td>12-30 23:00:00+01:00</td>\n",
       "      <td>Wind</td>\n",
       "      <td>235.870875</td>\n",
       "      <td>1900-12-30 23:00:00</td>\n",
       "    </tr>\n",
       "    <tr>\n",
       "      <th>34942</th>\n",
       "      <td>12-30 23:00:00+01:00</td>\n",
       "      <td>Solar</td>\n",
       "      <td>0.000000</td>\n",
       "      <td>1900-12-30 23:00:00</td>\n",
       "    </tr>\n",
       "    <tr>\n",
       "      <th>34943</th>\n",
       "      <td>12-30 23:00:00+01:00</td>\n",
       "      <td>Hydro</td>\n",
       "      <td>0.000000</td>\n",
       "      <td>1900-12-30 23:00:00</td>\n",
       "    </tr>\n",
       "  </tbody>\n",
       "</table>\n",
       "</div>"
      ],
      "text/plain": [
       "                  LoadLevel Execution       Value                Date\n",
       "34939  12-30 22:00:00+01:00     Hydro    0.000000 1900-12-30 22:00:00\n",
       "34940  12-30 23:00:00+01:00    Demand  952.950245 1900-12-30 23:00:00\n",
       "34941  12-30 23:00:00+01:00      Wind  235.870875 1900-12-30 23:00:00\n",
       "34942  12-30 23:00:00+01:00     Solar    0.000000 1900-12-30 23:00:00\n",
       "34943  12-30 23:00:00+01:00     Hydro    0.000000 1900-12-30 23:00:00"
      ]
     },
     "execution_count": 248,
     "metadata": {},
     "output_type": "execute_result"
    }
   ],
   "source": [
    "ddf_1.tail()"
   ]
  },
  {
   "cell_type": "markdown",
   "metadata": {},
   "source": [
    "#### Getting day of year and month"
   ]
  },
  {
   "cell_type": "code",
   "execution_count": 249,
   "metadata": {},
   "outputs": [],
   "source": [
    "ddf_1['Hour' ] = ddf_1['Date'].dt.hour\n",
    "ddf_1['Day'  ] = ddf_1['Date'].dt.dayofyear\n",
    "ddf_1['Week' ] = ddf_1['Date'].dt.isocalendar().week\n",
    "ddf_1['Month'] = ddf_1['Date'].dt.month"
   ]
  },
  {
   "cell_type": "code",
   "execution_count": 250,
   "metadata": {},
   "outputs": [
    {
     "data": {
      "text/html": [
       "<div>\n",
       "<style scoped>\n",
       "    .dataframe tbody tr th:only-of-type {\n",
       "        vertical-align: middle;\n",
       "    }\n",
       "\n",
       "    .dataframe tbody tr th {\n",
       "        vertical-align: top;\n",
       "    }\n",
       "\n",
       "    .dataframe thead th {\n",
       "        text-align: right;\n",
       "    }\n",
       "</style>\n",
       "<table border=\"1\" class=\"dataframe\">\n",
       "  <thead>\n",
       "    <tr style=\"text-align: right;\">\n",
       "      <th></th>\n",
       "      <th>LoadLevel</th>\n",
       "      <th>Execution</th>\n",
       "      <th>Value</th>\n",
       "      <th>Date</th>\n",
       "      <th>Hour</th>\n",
       "      <th>Day</th>\n",
       "      <th>Week</th>\n",
       "      <th>Month</th>\n",
       "    </tr>\n",
       "  </thead>\n",
       "  <tbody>\n",
       "    <tr>\n",
       "      <th>0</th>\n",
       "      <td>01-01 00:00:00+01:00</td>\n",
       "      <td>Demand</td>\n",
       "      <td>976.000000</td>\n",
       "      <td>1900-01-01 00:00:00</td>\n",
       "      <td>0</td>\n",
       "      <td>1</td>\n",
       "      <td>1</td>\n",
       "      <td>1</td>\n",
       "    </tr>\n",
       "    <tr>\n",
       "      <th>1</th>\n",
       "      <td>01-01 00:00:00+01:00</td>\n",
       "      <td>Wind</td>\n",
       "      <td>157.075000</td>\n",
       "      <td>1900-01-01 00:00:00</td>\n",
       "      <td>0</td>\n",
       "      <td>1</td>\n",
       "      <td>1</td>\n",
       "      <td>1</td>\n",
       "    </tr>\n",
       "    <tr>\n",
       "      <th>2</th>\n",
       "      <td>01-01 00:00:00+01:00</td>\n",
       "      <td>Solar</td>\n",
       "      <td>0.000000</td>\n",
       "      <td>1900-01-01 00:00:00</td>\n",
       "      <td>0</td>\n",
       "      <td>1</td>\n",
       "      <td>1</td>\n",
       "      <td>1</td>\n",
       "    </tr>\n",
       "    <tr>\n",
       "      <th>3</th>\n",
       "      <td>01-01 00:00:00+01:00</td>\n",
       "      <td>Hydro</td>\n",
       "      <td>0.000000</td>\n",
       "      <td>1900-01-01 00:00:00</td>\n",
       "      <td>0</td>\n",
       "      <td>1</td>\n",
       "      <td>1</td>\n",
       "      <td>1</td>\n",
       "    </tr>\n",
       "    <tr>\n",
       "      <th>4</th>\n",
       "      <td>01-01 01:00:00+01:00</td>\n",
       "      <td>Demand</td>\n",
       "      <td>934.491895</td>\n",
       "      <td>1900-01-01 01:00:00</td>\n",
       "      <td>1</td>\n",
       "      <td>1</td>\n",
       "      <td>1</td>\n",
       "      <td>1</td>\n",
       "    </tr>\n",
       "  </tbody>\n",
       "</table>\n",
       "</div>"
      ],
      "text/plain": [
       "              LoadLevel Execution       Value                Date  Hour  Day  \\\n",
       "0  01-01 00:00:00+01:00    Demand  976.000000 1900-01-01 00:00:00     0    1   \n",
       "1  01-01 00:00:00+01:00      Wind  157.075000 1900-01-01 00:00:00     0    1   \n",
       "2  01-01 00:00:00+01:00     Solar    0.000000 1900-01-01 00:00:00     0    1   \n",
       "3  01-01 00:00:00+01:00     Hydro    0.000000 1900-01-01 00:00:00     0    1   \n",
       "4  01-01 01:00:00+01:00    Demand  934.491895 1900-01-01 01:00:00     1    1   \n",
       "\n",
       "   Week  Month  \n",
       "0     1      1  \n",
       "1     1      1  \n",
       "2     1      1  \n",
       "3     1      1  \n",
       "4     1      1  "
      ]
     },
     "execution_count": 250,
     "metadata": {},
     "output_type": "execute_result"
    }
   ],
   "source": [
    "ddf_1.head()"
   ]
  },
  {
   "cell_type": "markdown",
   "metadata": {},
   "source": [
    "#### Generation new ID considering each line, and hour"
   ]
  },
  {
   "cell_type": "code",
   "execution_count": 251,
   "metadata": {},
   "outputs": [],
   "source": [
    "if clustering_type == 'hourly':\n",
    "    ddf_1['Variable'] = ddf_1['Execution']\n",
    "elif clustering_type == 'daily with hourly resolution':\n",
    "    ddf_1['Variable'] = ddf_1['Execution'] + '_' + ddf_1['Hour'].astype(str)\n",
    "elif clustering_type == 'weekly with hourly resolution':\n",
    "    ddf_1['Variable'] = ddf_1['Execution'] + '_' + ddf_1['Hour'].astype(str)"
   ]
  },
  {
   "cell_type": "code",
   "execution_count": 252,
   "metadata": {},
   "outputs": [
    {
     "data": {
      "text/html": [
       "<div>\n",
       "<style scoped>\n",
       "    .dataframe tbody tr th:only-of-type {\n",
       "        vertical-align: middle;\n",
       "    }\n",
       "\n",
       "    .dataframe tbody tr th {\n",
       "        vertical-align: top;\n",
       "    }\n",
       "\n",
       "    .dataframe thead th {\n",
       "        text-align: right;\n",
       "    }\n",
       "</style>\n",
       "<table border=\"1\" class=\"dataframe\">\n",
       "  <thead>\n",
       "    <tr style=\"text-align: right;\">\n",
       "      <th></th>\n",
       "      <th>LoadLevel</th>\n",
       "      <th>Execution</th>\n",
       "      <th>Value</th>\n",
       "      <th>Date</th>\n",
       "      <th>Hour</th>\n",
       "      <th>Day</th>\n",
       "      <th>Week</th>\n",
       "      <th>Month</th>\n",
       "      <th>Variable</th>\n",
       "    </tr>\n",
       "  </thead>\n",
       "  <tbody>\n",
       "    <tr>\n",
       "      <th>34939</th>\n",
       "      <td>12-30 22:00:00+01:00</td>\n",
       "      <td>Hydro</td>\n",
       "      <td>0.000000</td>\n",
       "      <td>1900-12-30 22:00:00</td>\n",
       "      <td>22</td>\n",
       "      <td>364</td>\n",
       "      <td>52</td>\n",
       "      <td>12</td>\n",
       "      <td>Hydro</td>\n",
       "    </tr>\n",
       "    <tr>\n",
       "      <th>34940</th>\n",
       "      <td>12-30 23:00:00+01:00</td>\n",
       "      <td>Demand</td>\n",
       "      <td>952.950245</td>\n",
       "      <td>1900-12-30 23:00:00</td>\n",
       "      <td>23</td>\n",
       "      <td>364</td>\n",
       "      <td>52</td>\n",
       "      <td>12</td>\n",
       "      <td>Demand</td>\n",
       "    </tr>\n",
       "    <tr>\n",
       "      <th>34941</th>\n",
       "      <td>12-30 23:00:00+01:00</td>\n",
       "      <td>Wind</td>\n",
       "      <td>235.870875</td>\n",
       "      <td>1900-12-30 23:00:00</td>\n",
       "      <td>23</td>\n",
       "      <td>364</td>\n",
       "      <td>52</td>\n",
       "      <td>12</td>\n",
       "      <td>Wind</td>\n",
       "    </tr>\n",
       "    <tr>\n",
       "      <th>34942</th>\n",
       "      <td>12-30 23:00:00+01:00</td>\n",
       "      <td>Solar</td>\n",
       "      <td>0.000000</td>\n",
       "      <td>1900-12-30 23:00:00</td>\n",
       "      <td>23</td>\n",
       "      <td>364</td>\n",
       "      <td>52</td>\n",
       "      <td>12</td>\n",
       "      <td>Solar</td>\n",
       "    </tr>\n",
       "    <tr>\n",
       "      <th>34943</th>\n",
       "      <td>12-30 23:00:00+01:00</td>\n",
       "      <td>Hydro</td>\n",
       "      <td>0.000000</td>\n",
       "      <td>1900-12-30 23:00:00</td>\n",
       "      <td>23</td>\n",
       "      <td>364</td>\n",
       "      <td>52</td>\n",
       "      <td>12</td>\n",
       "      <td>Hydro</td>\n",
       "    </tr>\n",
       "  </tbody>\n",
       "</table>\n",
       "</div>"
      ],
      "text/plain": [
       "                  LoadLevel Execution       Value                Date  Hour  \\\n",
       "34939  12-30 22:00:00+01:00     Hydro    0.000000 1900-12-30 22:00:00    22   \n",
       "34940  12-30 23:00:00+01:00    Demand  952.950245 1900-12-30 23:00:00    23   \n",
       "34941  12-30 23:00:00+01:00      Wind  235.870875 1900-12-30 23:00:00    23   \n",
       "34942  12-30 23:00:00+01:00     Solar    0.000000 1900-12-30 23:00:00    23   \n",
       "34943  12-30 23:00:00+01:00     Hydro    0.000000 1900-12-30 23:00:00    23   \n",
       "\n",
       "       Day  Week  Month Variable  \n",
       "34939  364    52     12    Hydro  \n",
       "34940  364    52     12   Demand  \n",
       "34941  364    52     12     Wind  \n",
       "34942  364    52     12    Solar  \n",
       "34943  364    52     12    Hydro  "
      ]
     },
     "execution_count": 252,
     "metadata": {},
     "output_type": "execute_result"
    }
   ],
   "source": [
    "ddf_1.tail()"
   ]
  },
  {
   "cell_type": "code",
   "execution_count": 253,
   "metadata": {},
   "outputs": [],
   "source": [
    "if clustering_type == 'hourly':\n",
    "    table = pd.pivot_table(ddf_1, values='Value', index=['LoadLevel', 'Month', 'Day'], columns=['Variable'], aggfunc=np.sum)\n",
    "elif clustering_type == 'daily with hourly resolution':\n",
    "    table = pd.pivot_table(ddf_1, values='Value', index=['Month', 'Day'], columns=['Variable'], aggfunc=np.sum)\n",
    "elif clustering_type == 'weekly with hourly resolution':\n",
    "    table = pd.pivot_table(ddf_1, values='Value', index=['Month', 'Week'], columns=['Variable'], aggfunc=np.sum)"
   ]
  },
  {
   "cell_type": "code",
   "execution_count": 254,
   "metadata": {},
   "outputs": [
    {
     "data": {
      "text/html": [
       "<div>\n",
       "<style scoped>\n",
       "    .dataframe tbody tr th:only-of-type {\n",
       "        vertical-align: middle;\n",
       "    }\n",
       "\n",
       "    .dataframe tbody tr th {\n",
       "        vertical-align: top;\n",
       "    }\n",
       "\n",
       "    .dataframe thead th {\n",
       "        text-align: right;\n",
       "    }\n",
       "</style>\n",
       "<table border=\"1\" class=\"dataframe\">\n",
       "  <thead>\n",
       "    <tr style=\"text-align: right;\">\n",
       "      <th></th>\n",
       "      <th></th>\n",
       "      <th>Variable</th>\n",
       "      <th>Demand</th>\n",
       "      <th>Hydro</th>\n",
       "      <th>Solar</th>\n",
       "      <th>Wind</th>\n",
       "    </tr>\n",
       "    <tr>\n",
       "      <th>LoadLevel</th>\n",
       "      <th>Month</th>\n",
       "      <th>Day</th>\n",
       "      <th></th>\n",
       "      <th></th>\n",
       "      <th></th>\n",
       "      <th></th>\n",
       "    </tr>\n",
       "  </thead>\n",
       "  <tbody>\n",
       "    <tr>\n",
       "      <th>12-30 19:00:00+01:00</th>\n",
       "      <th>12</th>\n",
       "      <th>364</th>\n",
       "      <td>1106.572690</td>\n",
       "      <td>0.0</td>\n",
       "      <td>0.0</td>\n",
       "      <td>277.537100</td>\n",
       "    </tr>\n",
       "    <tr>\n",
       "      <th>12-30 20:00:00+01:00</th>\n",
       "      <th>12</th>\n",
       "      <th>364</th>\n",
       "      <td>1084.297100</td>\n",
       "      <td>0.0</td>\n",
       "      <td>0.0</td>\n",
       "      <td>274.647225</td>\n",
       "    </tr>\n",
       "    <tr>\n",
       "      <th>12-30 21:00:00+01:00</th>\n",
       "      <th>12</th>\n",
       "      <th>364</th>\n",
       "      <td>1055.502857</td>\n",
       "      <td>0.0</td>\n",
       "      <td>0.0</td>\n",
       "      <td>267.108850</td>\n",
       "    </tr>\n",
       "    <tr>\n",
       "      <th>12-30 22:00:00+01:00</th>\n",
       "      <th>12</th>\n",
       "      <th>364</th>\n",
       "      <td>1006.974152</td>\n",
       "      <td>0.0</td>\n",
       "      <td>0.0</td>\n",
       "      <td>260.707475</td>\n",
       "    </tr>\n",
       "    <tr>\n",
       "      <th>12-30 23:00:00+01:00</th>\n",
       "      <th>12</th>\n",
       "      <th>364</th>\n",
       "      <td>952.950245</td>\n",
       "      <td>0.0</td>\n",
       "      <td>0.0</td>\n",
       "      <td>235.870875</td>\n",
       "    </tr>\n",
       "  </tbody>\n",
       "</table>\n",
       "</div>"
      ],
      "text/plain": [
       "Variable                             Demand  Hydro  Solar        Wind\n",
       "LoadLevel            Month Day                                       \n",
       "12-30 19:00:00+01:00 12    364  1106.572690    0.0    0.0  277.537100\n",
       "12-30 20:00:00+01:00 12    364  1084.297100    0.0    0.0  274.647225\n",
       "12-30 21:00:00+01:00 12    364  1055.502857    0.0    0.0  267.108850\n",
       "12-30 22:00:00+01:00 12    364  1006.974152    0.0    0.0  260.707475\n",
       "12-30 23:00:00+01:00 12    364   952.950245    0.0    0.0  235.870875"
      ]
     },
     "execution_count": 254,
     "metadata": {},
     "output_type": "execute_result"
    }
   ],
   "source": [
    "table.tail()"
   ]
  },
  {
   "cell_type": "code",
   "execution_count": 255,
   "metadata": {},
   "outputs": [],
   "source": [
    "table = table.reset_index()"
   ]
  },
  {
   "cell_type": "code",
   "execution_count": 256,
   "metadata": {},
   "outputs": [],
   "source": [
    "if clustering_type == 'hourly':\n",
    "    table = table.set_index(['LoadLevel'])\n",
    "elif clustering_type == 'daily with hourly resolution':\n",
    "    table = table.set_index(['Day'])\n",
    "elif clustering_type == 'weekly with hourly resolution':\n",
    "    table = table.set_index(['Week'])"
   ]
  },
  {
   "cell_type": "code",
   "execution_count": 257,
   "metadata": {},
   "outputs": [
    {
     "data": {
      "text/html": [
       "<div>\n",
       "<style scoped>\n",
       "    .dataframe tbody tr th:only-of-type {\n",
       "        vertical-align: middle;\n",
       "    }\n",
       "\n",
       "    .dataframe tbody tr th {\n",
       "        vertical-align: top;\n",
       "    }\n",
       "\n",
       "    .dataframe thead th {\n",
       "        text-align: right;\n",
       "    }\n",
       "</style>\n",
       "<table border=\"1\" class=\"dataframe\">\n",
       "  <thead>\n",
       "    <tr style=\"text-align: right;\">\n",
       "      <th>Variable</th>\n",
       "      <th>Month</th>\n",
       "      <th>Day</th>\n",
       "      <th>Demand</th>\n",
       "      <th>Hydro</th>\n",
       "      <th>Solar</th>\n",
       "      <th>Wind</th>\n",
       "    </tr>\n",
       "    <tr>\n",
       "      <th>LoadLevel</th>\n",
       "      <th></th>\n",
       "      <th></th>\n",
       "      <th></th>\n",
       "      <th></th>\n",
       "      <th></th>\n",
       "      <th></th>\n",
       "    </tr>\n",
       "  </thead>\n",
       "  <tbody>\n",
       "    <tr>\n",
       "      <th>12-30 19:00:00+01:00</th>\n",
       "      <td>12</td>\n",
       "      <td>364</td>\n",
       "      <td>1106.572690</td>\n",
       "      <td>0.0</td>\n",
       "      <td>0.0</td>\n",
       "      <td>277.537100</td>\n",
       "    </tr>\n",
       "    <tr>\n",
       "      <th>12-30 20:00:00+01:00</th>\n",
       "      <td>12</td>\n",
       "      <td>364</td>\n",
       "      <td>1084.297100</td>\n",
       "      <td>0.0</td>\n",
       "      <td>0.0</td>\n",
       "      <td>274.647225</td>\n",
       "    </tr>\n",
       "    <tr>\n",
       "      <th>12-30 21:00:00+01:00</th>\n",
       "      <td>12</td>\n",
       "      <td>364</td>\n",
       "      <td>1055.502857</td>\n",
       "      <td>0.0</td>\n",
       "      <td>0.0</td>\n",
       "      <td>267.108850</td>\n",
       "    </tr>\n",
       "    <tr>\n",
       "      <th>12-30 22:00:00+01:00</th>\n",
       "      <td>12</td>\n",
       "      <td>364</td>\n",
       "      <td>1006.974152</td>\n",
       "      <td>0.0</td>\n",
       "      <td>0.0</td>\n",
       "      <td>260.707475</td>\n",
       "    </tr>\n",
       "    <tr>\n",
       "      <th>12-30 23:00:00+01:00</th>\n",
       "      <td>12</td>\n",
       "      <td>364</td>\n",
       "      <td>952.950245</td>\n",
       "      <td>0.0</td>\n",
       "      <td>0.0</td>\n",
       "      <td>235.870875</td>\n",
       "    </tr>\n",
       "  </tbody>\n",
       "</table>\n",
       "</div>"
      ],
      "text/plain": [
       "Variable              Month  Day       Demand  Hydro  Solar        Wind\n",
       "LoadLevel                                                              \n",
       "12-30 19:00:00+01:00     12  364  1106.572690    0.0    0.0  277.537100\n",
       "12-30 20:00:00+01:00     12  364  1084.297100    0.0    0.0  274.647225\n",
       "12-30 21:00:00+01:00     12  364  1055.502857    0.0    0.0  267.108850\n",
       "12-30 22:00:00+01:00     12  364  1006.974152    0.0    0.0  260.707475\n",
       "12-30 23:00:00+01:00     12  364   952.950245    0.0    0.0  235.870875"
      ]
     },
     "execution_count": 257,
     "metadata": {},
     "output_type": "execute_result"
    }
   ],
   "source": [
    "table.tail()"
   ]
  },
  {
   "cell_type": "markdown",
   "metadata": {},
   "source": [
    "#### Split data table into data X and class labels y"
   ]
  },
  {
   "cell_type": "code",
   "execution_count": 258,
   "metadata": {},
   "outputs": [],
   "source": [
    "X = table.iloc[:,1:len(table.columns)+1].values\n",
    "y = table.iloc[:,0].values"
   ]
  },
  {
   "cell_type": "code",
   "execution_count": 259,
   "metadata": {},
   "outputs": [
    {
     "name": "stdout",
     "output_type": "stream",
     "text": [
      "[[1.00000000e+00 9.76000000e+02 0.00000000e+00 0.00000000e+00\n",
      "  1.57075000e+02]\n",
      " [1.00000000e+00 9.34491895e+02 0.00000000e+00 0.00000000e+00\n",
      "  1.44705600e+02]\n",
      " [1.00000000e+00 8.96076257e+02 0.00000000e+00 0.00000000e+00\n",
      "  1.34218275e+02]\n",
      " ...\n",
      " [3.64000000e+02 1.05550286e+03 0.00000000e+00 0.00000000e+00\n",
      "  2.67108850e+02]\n",
      " [3.64000000e+02 1.00697415e+03 0.00000000e+00 0.00000000e+00\n",
      "  2.60707475e+02]\n",
      " [3.64000000e+02 9.52950245e+02 0.00000000e+00 0.00000000e+00\n",
      "  2.35870875e+02]]\n",
      "[ 1  1  1 ... 12 12 12]\n"
     ]
    }
   ],
   "source": [
    "print(X)\n",
    "print(y)"
   ]
  },
  {
   "cell_type": "markdown",
   "metadata": {},
   "source": [
    "## PCA step by step"
   ]
  },
  {
   "cell_type": "markdown",
   "metadata": {},
   "source": [
    "#### Standardizing of the data"
   ]
  },
  {
   "cell_type": "code",
   "execution_count": 260,
   "metadata": {},
   "outputs": [],
   "source": [
    "X_std = StandardScaler().fit_transform(X)"
   ]
  },
  {
   "cell_type": "markdown",
   "metadata": {},
   "source": [
    "#### Eigendecomposition of the raw data based on the correlation matrix:"
   ]
  },
  {
   "cell_type": "code",
   "execution_count": 261,
   "metadata": {},
   "outputs": [
    {
     "name": "stdout",
     "output_type": "stream",
     "text": [
      "Eigenvectors \n",
      "[[ 0.61904704 -0.64031122 -0.45433608 -0.01900062  0.        ]\n",
      " [-0.63605613 -0.7346385   0.16150279  0.17220837  0.        ]\n",
      " [ 0.          0.          0.          0.          1.        ]\n",
      " [-0.10426802  0.19377588 -0.45132984  0.86480082  0.        ]\n",
      " [-0.44871097  0.11295451 -0.75086414 -0.47127783  0.        ]]\n",
      "\n",
      "Eigenvalues \n",
      "[1.73639606 0.45688092 0.71203055 1.0951504  0.        ]\n"
     ]
    }
   ],
   "source": [
    "cov_mat = np.cov(X_std.T)\n",
    "eig_vals, eig_vecs = np.linalg.eig(cov_mat)\n",
    "\n",
    "print('Eigenvectors \\n%s' %eig_vecs)\n",
    "print('\\nEigenvalues \\n%s' %eig_vals)"
   ]
  },
  {
   "cell_type": "markdown",
   "metadata": {},
   "source": [
    "#### Selecting Principal Components"
   ]
  },
  {
   "cell_type": "markdown",
   "metadata": {},
   "source": [
    "### Sorting Eigenpairs"
   ]
  },
  {
   "cell_type": "markdown",
   "metadata": {},
   "source": [
    "The typical goal of a PCA is to reduce the dimensionality of the original feature space by projecting it onto a smaller subspace, where the eigenvectors will form the axes. However, the eigenvectors only define the directions of the new axis, since they have all the same unit length 1, which can confirmed by the following two lines of code:"
   ]
  },
  {
   "cell_type": "code",
   "execution_count": 262,
   "metadata": {},
   "outputs": [],
   "source": [
    "# for ev in eig_vecs:\n",
    "#     np.testing.assert_array_almost_equal(1.0, np.linalg.norm(ev))\n",
    "# print('Everything ok!')"
   ]
  },
  {
   "cell_type": "markdown",
   "metadata": {},
   "source": [
    "The common approach is to rank the eigenvalues from highest to lowest in order choose the top k eigenvectors."
   ]
  },
  {
   "cell_type": "code",
   "execution_count": 263,
   "metadata": {},
   "outputs": [
    {
     "name": "stdout",
     "output_type": "stream",
     "text": [
      "Eigenvalues in descending order:\n",
      "1.736396058450259\n",
      "1.0951504008386415\n",
      "0.7120305515513056\n",
      "0.45688091703614986\n",
      "0.0\n"
     ]
    }
   ],
   "source": [
    "# Make a list of (eigenvalue, eigenvector) tuples\n",
    "eig_pairs = [(np.abs(eig_vals[i]), eig_vecs[:,i]) for i in range(len(eig_vals))]\n",
    "\n",
    "# Sort the (eigenvalue, eigenvector) tuples from high to low\n",
    "eig_pairs.sort(key=lambda x: x[0], reverse=True)\n",
    "\n",
    "# Visually confirm that the list is correctly sorted by decreasing eigenvalues\n",
    "print('Eigenvalues in descending order:')\n",
    "for i in eig_pairs:\n",
    "    print(i[0])"
   ]
  },
  {
   "cell_type": "markdown",
   "metadata": {},
   "source": [
    "### Explained Variance"
   ]
  },
  {
   "cell_type": "markdown",
   "metadata": {},
   "source": [
    "After sorting the eigenpairs, the next question is \"how many principal components are we going to choose for our new feature subspace?\" A useful measure is the so-called \"explained variance,\" which can be calculated from the eigenvalues. The explained variance tells us how much information (variance) can be attributed to each of the principal components."
   ]
  },
  {
   "cell_type": "code",
   "execution_count": 264,
   "metadata": {},
   "outputs": [],
   "source": [
    "tot = sum(eig_vals)\n",
    "var_exp = [(i / tot)*100 for i in sorted(eig_vals, reverse=True)]\n",
    "cum_var_exp = np.cumsum(var_exp)"
   ]
  },
  {
   "cell_type": "code",
   "execution_count": 265,
   "metadata": {},
   "outputs": [
    {
     "name": "stdout",
     "output_type": "stream",
     "text": [
      "43.404932379129534 0\n",
      "70.78055838452542 1\n",
      "88.5792845400905 2\n",
      "99.99999999999999 3\n"
     ]
    }
   ],
   "source": [
    "i = 0\n",
    "cum = 0\n",
    "while cum < 97:\n",
    "    cum += var_exp[i]\n",
    "    print(cum, i)\n",
    "    i += 1"
   ]
  },
  {
   "cell_type": "markdown",
   "metadata": {},
   "source": [
    "Then"
   ]
  },
  {
   "cell_type": "code",
   "execution_count": 266,
   "metadata": {},
   "outputs": [
    {
     "name": "stdout",
     "output_type": "stream",
     "text": [
      "['Solarize_Light2', '_classic_test_patch', '_mpl-gallery', '_mpl-gallery-nogrid', 'bmh', 'classic', 'dark_background', 'fast', 'fivethirtyeight', 'ggplot', 'grayscale', 'seaborn-v0_8', 'seaborn-v0_8-bright', 'seaborn-v0_8-colorblind', 'seaborn-v0_8-dark', 'seaborn-v0_8-dark-palette', 'seaborn-v0_8-darkgrid', 'seaborn-v0_8-deep', 'seaborn-v0_8-muted', 'seaborn-v0_8-notebook', 'seaborn-v0_8-paper', 'seaborn-v0_8-pastel', 'seaborn-v0_8-poster', 'seaborn-v0_8-talk', 'seaborn-v0_8-ticks', 'seaborn-v0_8-white', 'seaborn-v0_8-whitegrid', 'tableau-colorblind10']\n",
      "5 5\n"
     ]
    },
    {
     "data": {
      "image/png": "[encoded data removed]",
      "text/plain": [
       "<Figure size 600x400 with 1 Axes>"
      ]
     },
     "metadata": {},
     "output_type": "display_data"
    }
   ],
   "source": [
    "print(plt.style.available)\n",
    "# Check the lengths of the arrays\n",
    "print(len(var_exp), len(cum_var_exp))\n",
    "\n",
    "# Trim or adjust arrays to match lengths for plotting\n",
    "min_length = min(len(var_exp), len(cum_var_exp))\n",
    "var_exp = var_exp[:min_length]  # Truncate var_exp to the minimum length\n",
    "cum_var_exp = cum_var_exp[:min_length]  # Truncate cum_var_exp to the minimum length\n",
    "\n",
    "# Proceed with the plot using the adjusted arrays\n",
    "with plt.style.context('tableau-colorblind10'):\n",
    "    plt.figure(figsize=(6, 4))\n",
    "    plt.axvline(x=i, label='line at x = {}'.format(i), c='r')\n",
    "    plt.bar(range(min_length), var_exp, alpha=0.5, align='center', label='individual explained variance')\n",
    "    plt.step(range(min_length), cum_var_exp, where='mid', label='cumulative explained variance')\n",
    "\n",
    "    plt.ylabel('Explained variance ratio')\n",
    "    plt.xlabel('Principal components')\n",
    "    plt.legend(loc='best')\n",
    "    plt.tight_layout()\n",
    "    plt.savefig(_path_1 + '/Fig1.png', format='png', dpi=1200)\n",
    "    plt.show()\n",
    "# with plt.style.context('classic'):\n",
    "#     plt.figure(figsize=(6, 4))\n",
    "#     plt.axvline(x=i, label='line at x = {}'.format(i), c='r')\n",
    "#     plt.bar(range(len(table.columns)-1), var_exp, alpha=0.5, align='center',\n",
    "#             label='individual explained variance')\n",
    "#     plt.step(range(len(table.columns)-1), cum_var_exp, where='mid',\n",
    "#              label='cumulative explained variance')\n",
    "    \n",
    "#     plt.ylabel('Explained variance ratio')\n",
    "#     plt.xlabel('Principal components')\n",
    "#     plt.legend(loc='best')\n",
    "#     plt.tight_layout()\n",
    "# plt.savefig(_path_1+'/Fig1.png', format='png', dpi=1200)\n",
    "# plt.show()"
   ]
  },
  {
   "cell_type": "code",
   "execution_count": 267,
   "metadata": {},
   "outputs": [],
   "source": [
    "labels = np.unique(y, axis=0)"
   ]
  },
  {
   "cell_type": "code",
   "execution_count": 268,
   "metadata": {},
   "outputs": [
    {
     "data": {
      "text/plain": [
       "array([ 1,  2,  3,  4,  5,  6,  7,  8,  9, 10, 11, 12])"
      ]
     },
     "execution_count": 268,
     "metadata": {},
     "output_type": "execute_result"
    }
   ],
   "source": [
    "labels"
   ]
  },
  {
   "cell_type": "markdown",
   "metadata": {},
   "source": [
    "### Data distribution in relevant components"
   ]
  },
  {
   "cell_type": "code",
   "execution_count": 269,
   "metadata": {},
   "outputs": [
    {
     "data": {
      "image/png": "[encoded data removed]",
      "text/plain": [
       "<Figure size 640x480 with 1 Axes>"
      ]
     },
     "metadata": {},
     "output_type": "display_data"
    }
   ],
   "source": [
    "sklearn_pca = sklearnPCA(n_components=i)\n",
    "Y_sklearn = sklearn_pca.fit_transform(X_std)\n",
    "\n",
    "ax = plt.axes(projection='3d')\n",
    "with plt.style.context('tableau-colorblind10'):\n",
    "#     plt.figure(figsize=(8, 6))\n",
    "    for lab in labels:\n",
    "#         plt.scatter(Y_sklearn[y==lab, 0],\n",
    "#                     Y_sklearn[y==lab, 1],\n",
    "#                     label=lab)\n",
    "        zdata = Y_sklearn[y==lab, 2]\n",
    "        xdata = Y_sklearn[y==lab, 0]\n",
    "        ydata = Y_sklearn[y==lab, 1]\n",
    "        ax.scatter3D(xdata, ydata, zdata, c=zdata, label=lab, cmap='twilight');\n",
    "#     plt.xlabel('Principal Component 1')\n",
    "#     plt.ylabel('Principal Component 2')\n",
    "    ax.set_xlabel('Principal Component 1')\n",
    "    ax.set_ylabel('Principal Component 2')\n",
    "    ax.set_zlabel('Principal Component 3')\n",
    "    ax.legend(loc=\"best\")\n",
    "#     plt.legend(loc='best')\n",
    "#     plt.tight_layout()\n",
    "    plt.savefig(_path_1+'/Fig2.png', format='png', dpi=1200)\n",
    "    plt.show()"
   ]
  },
  {
   "cell_type": "markdown",
   "metadata": {},
   "source": [
    "### Variance of each component"
   ]
  },
  {
   "cell_type": "code",
   "execution_count": 270,
   "metadata": {},
   "outputs": [
    {
     "data": {
      "image/png": "[encoded data removed]",
      "text/plain": [
       "<Figure size 640x480 with 1 Axes>"
      ]
     },
     "metadata": {},
     "output_type": "display_data"
    }
   ],
   "source": [
    "features = range(sklearn_pca.n_components_)\n",
    "plt.bar(features, sklearn_pca.explained_variance_ratio_, color='black')\n",
    "plt.xlabel('PCA features')\n",
    "plt.ylabel('variance %')\n",
    "plt.xticks(features)\n",
    "plt.savefig(_path_1+'/Fig3.png', format='png', dpi=1200)\n",
    "plt.show()"
   ]
  },
  {
   "cell_type": "code",
   "execution_count": 271,
   "metadata": {},
   "outputs": [],
   "source": [
    "# Save components to a DataFrame\n",
    "PCA_components = pd.DataFrame(Y_sklearn)"
   ]
  },
  {
   "cell_type": "code",
   "execution_count": 272,
   "metadata": {},
   "outputs": [
    {
     "data": {
      "text/html": [
       "<div>\n",
       "<style scoped>\n",
       "    .dataframe tbody tr th:only-of-type {\n",
       "        vertical-align: middle;\n",
       "    }\n",
       "\n",
       "    .dataframe tbody tr th {\n",
       "        vertical-align: top;\n",
       "    }\n",
       "\n",
       "    .dataframe thead th {\n",
       "        text-align: right;\n",
       "    }\n",
       "</style>\n",
       "<table border=\"1\" class=\"dataframe\">\n",
       "  <thead>\n",
       "    <tr style=\"text-align: right;\">\n",
       "      <th></th>\n",
       "      <th>0</th>\n",
       "      <th>1</th>\n",
       "      <th>2</th>\n",
       "      <th>3</th>\n",
       "    </tr>\n",
       "  </thead>\n",
       "  <tbody>\n",
       "    <tr>\n",
       "      <th>0</th>\n",
       "      <td>0.855250</td>\n",
       "      <td>-0.825406</td>\n",
       "      <td>-0.876107</td>\n",
       "      <td>1.273592</td>\n",
       "    </tr>\n",
       "    <tr>\n",
       "      <th>1</th>\n",
       "      <td>0.609475</td>\n",
       "      <td>-0.800993</td>\n",
       "      <td>-0.946398</td>\n",
       "      <td>1.460605</td>\n",
       "    </tr>\n",
       "    <tr>\n",
       "      <th>2</th>\n",
       "      <td>0.387356</td>\n",
       "      <td>-0.784014</td>\n",
       "      <td>-1.002506</td>\n",
       "      <td>1.635032</td>\n",
       "    </tr>\n",
       "    <tr>\n",
       "      <th>3</th>\n",
       "      <td>0.243123</td>\n",
       "      <td>-0.782975</td>\n",
       "      <td>-1.024371</td>\n",
       "      <td>1.758931</td>\n",
       "    </tr>\n",
       "    <tr>\n",
       "      <th>4</th>\n",
       "      <td>0.110743</td>\n",
       "      <td>-0.760918</td>\n",
       "      <td>-1.075228</td>\n",
       "      <td>1.850174</td>\n",
       "    </tr>\n",
       "  </tbody>\n",
       "</table>\n",
       "</div>"
      ],
      "text/plain": [
       "          0         1         2         3\n",
       "0  0.855250 -0.825406 -0.876107  1.273592\n",
       "1  0.609475 -0.800993 -0.946398  1.460605\n",
       "2  0.387356 -0.784014 -1.002506  1.635032\n",
       "3  0.243123 -0.782975 -1.024371  1.758931\n",
       "4  0.110743 -0.760918 -1.075228  1.850174"
      ]
     },
     "execution_count": 272,
     "metadata": {},
     "output_type": "execute_result"
    }
   ],
   "source": [
    "PCA_components.head()"
   ]
  },
  {
   "cell_type": "markdown",
   "metadata": {},
   "source": [
    "### Getting the optimal number of clusters"
   ]
  },
  {
   "cell_type": "code",
   "execution_count": 273,
   "metadata": {},
   "outputs": [],
   "source": [
    "# ks = range(1, max_cluster)\n",
    "# inertias = []\n",
    "# for k in ks:\n",
    "#     # Create a KMeans instance with k clusters: model\n",
    "#     model = KMeans(n_clusters=k)\n",
    "#     # model = KMedoids(metric=\"euclidean\", n_clusters=k, init=\"heuristic\", max_iter=2, random_state=42)\n",
    "\n",
    "#     # Fit model to samples\n",
    "#     model.fit(PCA_components.iloc[:,:i])\n",
    "    \n",
    "#     # Append the inertia to the list of inertias\n",
    "#     inertias.append(model.inertia_)\n",
    "    \n",
    "# plt.plot(ks, inertias, '-o', color='black')\n",
    "# plt.xlabel('number of clusters, k')\n",
    "# plt.ylabel('inertia')\n",
    "# plt.xticks(ks)\n",
    "# plt.savefig(_path_1+'/Fig4.png', format='png', dpi=1200)\n",
    "# plt.show()"
   ]
  },
  {
   "cell_type": "code",
   "execution_count": 274,
   "metadata": {},
   "outputs": [],
   "source": [
    "# opt_cluster = 0\n",
    "# for k in range(len(inertias)-1):\n",
    "#     diff = abs(inertias[k]-inertias[k+1])/inertias[k]*100\n",
    "#     if diff > 0.05:\n",
    "#         opt_cluster += 1\n",
    "#     else:\n",
    "#         break\n",
    "# print(\"Optimal number of clusters: \", opt_cluster)"
   ]
  },
  {
   "cell_type": "code",
   "execution_count": 275,
   "metadata": {},
   "outputs": [],
   "source": [
    "# with plt.style.context('tableau-colorblind10'):\n",
    "#     plt.figure(figsize=(6, 4))\n",
    "#     plt.axvline(x=opt_cluster, label='Optimal number of clusters at k = {}'.format(opt_cluster), c='r')\n",
    "#     # plt.bar(range(len(table.columns)-1), var_exp, alpha=0.5, align='center',\n",
    "#             # label='individual explained variance')\n",
    "#     plt.step(range(len(inertias)), inertias, where='mid',\n",
    "#              label='cumulative inertia')\n",
    "    \n",
    "#     plt.ylabel('Inertia')\n",
    "#     plt.xlabel('Number of clusters, k')\n",
    "#     plt.legend(loc='best')\n",
    "#     plt.tight_layout()\n",
    "# plt.savefig(_path_1+'/Fig5.png', format='png', dpi=1200)\n",
    "# plt.show()"
   ]
  },
  {
   "cell_type": "markdown",
   "metadata": {},
   "source": [
    "### %opt_cluster Five clusters are chosen, so we run K-medoids with number of clusters equals four.\n",
    "### Same initializer and random state as before"
   ]
  },
  {
   "cell_type": "code",
   "execution_count": 276,
   "metadata": {},
   "outputs": [
    {
     "name": "stdout",
     "output_type": "stream",
     "text": [
      "Clustering\n",
      "End of the process...\n"
     ]
    },
    {
     "name": "stderr",
     "output_type": "stream",
     "text": [
      "c:\\Users\\erik_\\miniconda3\\Lib\\site-packages\\sklearn_extra\\cluster\\_k_medoids.py:297: ConvergenceWarning: Maximum number of iteration reached before convergence. Consider increasing max_iter to improve the fit.\n",
      "  warnings.warn(\n"
     ]
    }
   ],
   "source": [
    "#%% Clustering method\n",
    "print(\"Clustering\")\n",
    "if cluster_method == 0:\n",
    "    KMeansMethod(opt_cluster, Y_sklearn, _path_0, _path_1, CaseName_Base, CaseName_ByStages, table, ddf_1, clustering_type)\n",
    "elif cluster_method == 1:\n",
    "    results = KMedoidsMethod(opt_cluster, Y_sklearn, _path_0, _path_1, CaseName_Base, CaseName_ByStages, table, ddf_1, clustering_type)\n",
    "print('End of the process...')"
   ]
  }
 ],
 "metadata": {
  "kernelspec": {
   "display_name": "base",
   "language": "python",
   "name": "python3"
  },
  "language_info": {
   "codemirror_mode": {
    "name": "ipython",
    "version": 3
   },
   "file_extension": ".py",
   "mimetype": "text/x-python",
   "name": "python",
   "nbconvert_exporter": "python",
   "pygments_lexer": "ipython3",
   "version": "3.11.4"
  },
  "orig_nbformat": 4
 },
 "nbformat": 4,
 "nbformat_minor": 2
}
