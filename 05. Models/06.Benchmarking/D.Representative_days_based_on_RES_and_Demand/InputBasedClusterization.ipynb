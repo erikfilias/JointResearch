{
 "cells": [
  {
   "cell_type": "markdown",
   "metadata": {},
   "source": [
    "### This notebook generate the line benefits from the operational cost"
   ]
  },
  {
   "cell_type": "code",
   "execution_count": 465,
   "metadata": {},
   "outputs": [],
   "source": [
    "# libraries\n",
    "import os\n",
    "import time\n",
    "import math\n",
    "import pandas as pd\n",
    "import numpy as np\n",
    "from sklearn.preprocessing import StandardScaler\n",
    "from sklearn.preprocessing import MinMaxScaler\n",
    "from matplotlib import pyplot as plt\n",
    "from sklearn.decomposition import PCA as sklearnPCA\n",
    "from sklearn.cluster import KMeans\n",
    "from sklearn_extra.cluster import KMedoids\n",
    "# from kneed import KneeLocator\n",
    "from pyomo.environ      import *\n",
    "from pyomo.opt          import SolverFactory"
   ]
  },
  {
   "cell_type": "code",
   "execution_count": 466,
   "metadata": {},
   "outputs": [],
   "source": [
    "#%% Defining the clustering functions\n",
    "def KMeansMethod(OptClusters, Y_sklearn, _path_0, _path_1, CaseName_0, CaseName_1, table, data, cluster_type):\n",
    "    # Running the K-means with the optimal number of clusters. Setting up the initializer and random state.\n",
    "    kmeans_pca = KMeans(n_clusters=OptClusters, init='k-means++', random_state=42)\n",
    "    kmeans_pca.fit(Y_sklearn)\n",
    "    df_segm_pca_kmeans = pd.concat([table.reset_index(drop=True), pd.DataFrame(Y_sklearn)], axis=1)\n",
    "    df_segm_pca_kmeans.columns.values[-3:] = ['Component 1', 'Component 2', 'Component 3']\n",
    "    df_segm_pca_kmeans['Segment K-means PCA'] = kmeans_pca.labels_\n",
    "    # Saving the cluster on the NetworkCommitment CSV file\n",
    "    # df_segm_pca_kmeans.to_csv(_path_0 + '/oT_Result_NetworkCommitment_ReducedCost_Clusters_kmeans_' + CaseName_0 + '.csv', sep=',')\n",
    "    # Storing clusters in the first table\n",
    "    table['Segment K-means PCA'] = kmeans_pca.labels_\n",
    "    table = table.reset_index()\n",
    "    if cluster_type == 'hourly':\n",
    "        table = table.set_index(['LoadLevel', 'Day', 'Month', 'Segment K-medoids PCA'])\n",
    "    elif cluster_type == 'daily with hourly resolution':\n",
    "        table = table.set_index(['Day', 'Month', 'Segment K-medoids PCA'])\n",
    "    elif cluster_type == 'weekly with hourly resolution':\n",
    "        table = table.set_index(['Week', 'Segment K-medoids PCA'])\n",
    "    # Stacking the table to also have the lines as index\n",
    "    df = table.stack()\n",
    "    df = df.reset_index()\n",
    "    # Adding a new column with the cluster for each LoadLevel\n",
    "    data['Segment K-means PCA'] = np.where(data['Variable'] == df['Variable'],\n",
    "                                                    df['Segment K-means PCA'], df['Segment K-means PCA'])\n",
    "    # Adding the duration to each LoadLevel\n",
    "    data['Duration'] = 1\n",
    "    # Renaming the cluster with respective name adopting in openTEPES project\n",
    "    data['Stage'] = data['Segment K-means PCA'].map({0: 'st1', 1: 'st2', 2: 'st3', 3: 'st4', 4: 'st5',\n",
    "                                                                       5: 'st6', 6: 'st7', 7: 'st8', 8: 'st9',\n",
    "                                                                       9: 'st10',\n",
    "                                                                       10: 'st11', 11: 'st12', 12: 'st13', 13: 'st14',\n",
    "                                                                       14: 'st15',\n",
    "                                                                       15: 'st16', 16: 'st17', 17: 'st18', 18: 'st19',\n",
    "                                                                       19: 'st20',\n",
    "                                                                       20: 'st21', 21: 'st22', 22: 'st23', 23: 'st24',\n",
    "                                                                       24: 'st25',\n",
    "                                                                       25: 'st26', 26: 'st27', 27: 'st28', 28: 'st29',\n",
    "                                                                       29: 'st30',\n",
    "                                                                       30: 'st31', 31: 'st32', 32: 'st33', 33: 'st34',\n",
    "                                                                       34: 'st35',\n",
    "                                                                       35: 'st36', 36: 'st37', 37: 'st38', 38: 'st39',\n",
    "                                                                       39: 'st40',\n",
    "                                                                       40: 'st41', 41: 'st42', 42: 'st43', 43: 'st44',\n",
    "                                                                       44: 'st45',\n",
    "                                                                       45: 'st46', 46: 'st47', 47: 'st48', 48: 'st49',\n",
    "                                                                       49: 'st50'})\n",
    "    # Getting only the relevant information to build the new CSV file in CaseName_ByStages\n",
    "    data = data[\n",
    "        ['Scenario', 'Period', 'LoadLevel', 'Stage', 'InitialNode', 'FinalNode', 'Circuit', 'Value']]\n",
    "    # data.to_csv(_path_0 + '/oT_Test_ReducedCost_Clusters_' + CaseName_0 + '.csv', sep=',')\n",
    "    # Shaping the dataframe to be saved in CSV files\n",
    "    TableToFile = pd.pivot_table(data, values='Value', index=['LoadLevel', 'Stage', 'Duration'],\n",
    "                                 columns=['InitialNode', 'FinalNode', 'Circuit'], fill_value=0)\n",
    "    TableToFile = TableToFile.reset_index()\n",
    "    # TableToFile['Duration'] = 1\n",
    "    # Creating the dataframe to generate oT_Data_Duration\n",
    "    dfDuration = pd.DataFrame(0, index=TableToFile.index, columns=['LoadLevel', 'Duration', 'Stage'])\n",
    "    dfDuration['LoadLevel'] = TableToFile['LoadLevel']\n",
    "    dfDuration['Duration'] = TableToFile['Duration']\n",
    "    dfDuration['Stage'] = TableToFile['Stage']\n",
    "    dfDuration.to_csv(_path_1 + '/oT_Data_Duration_' + CaseName_1 + '.csv', sep=',', index=False)\n",
    "    # Identifying the Stages\n",
    "    Stages = dfDuration.Stage.unique()\n",
    "    Stages = np.sort(Stages)\n",
    "    # Creating the dataframe to generate oT_Data_Stages\n",
    "    dfa = pd.DataFrame({'Weight': dfDuration['Stage']})\n",
    "    dfa = dfa['Weight'].value_counts()\n",
    "    dfa = dfa / 24\n",
    "    dfa = dfa.sort_index()\n",
    "    dfStages = pd.DataFrame(dfa.values, index=dfa.index, columns=['Weight'])\n",
    "    dfStages.to_csv(_path_1 + '/oT_Data_Stage_' + CaseName_1 + '.csv', sep=',')\n",
    "    # Creating the dataframe to generate oT_Dict_Stages\n",
    "    dict_Stages = pd.DataFrame(Stages, columns=['Stage'])\n",
    "    dict_Stages.to_csv(_path_1 + '/oT_Dict_Stage_' + CaseName_1 + '.csv', sep=',', index=False)\n",
    "\n",
    "\n",
    "def KMedoidsMethod(OptClusters, Y_sklearn, _path_0, _path_1, CaseName_0, CaseName_1, table, data, cluster_type):\n",
    "    # Running the K-means with the optimal number of clusters. Setting up the initializer and random state.\n",
    "    kmedoids_pca = KMedoids(metric=\"euclidean\", n_clusters=OptClusters, init=\"heuristic\", max_iter=2, random_state=42)\n",
    "    kmedoids_pca.fit(Y_sklearn)\n",
    "    df_segm_pca_kmedoids = pd.concat([table.reset_index(drop=True), pd.DataFrame(Y_sklearn)], axis=1)\n",
    "    df_segm_pca_kmedoids.columns.values[-3:] = ['Component 1', 'Component 2', 'Component 3']\n",
    "    df_segm_pca_kmedoids['Segment K-medoids PCA'] = kmedoids_pca.labels_\n",
    "    # Saving the cluster on the NetworkCommitment CSV file\n",
    "    # df_segm_pca_kmedoids.to_csv(_path_0 + '/oT_Result_NetworkCommitment_ReducedCost_Clusters_kmedoids_' + CaseName_0 + '.csv', sep=',')\n",
    "    # Storing clusters in the first table\n",
    "    table['Segment K-medoids PCA'] = kmedoids_pca.labels_\n",
    "    table = table.reset_index()\n",
    "    if cluster_type == 'hourly':\n",
    "        table = table.set_index(['LoadLevel', 'Day', 'Month', 'Segment K-medoids PCA'])\n",
    "    elif cluster_type == 'daily with hourly resolution':\n",
    "        table = table.set_index(['Day', 'Month', 'Segment K-medoids PCA'])\n",
    "    elif cluster_type == 'weekly with hourly resolution':\n",
    "        table = table.set_index(['Week', 'Segment K-medoids PCA'])\n",
    "    # Stacking the table to also have the lines as index\n",
    "    df = table.stack()\n",
    "    df = df.reset_index()\n",
    "    # Adding a new column with the cluster for each LoadLevel\n",
    "    data['Segment K-medoids PCA'] = np.where(data['Variable'] == df['Variable'], df['Segment K-medoids PCA'], df['Segment K-medoids PCA'])\n",
    "    # Adding the duration to each LoadLevel\n",
    "    data['Duration'] = 0\n",
    "    # Renaming the cluster with respective name adopting in openTEPES project\n",
    "    data['Stage'] = data['Segment K-medoids PCA'].map({0: 'st1', 1: 'st2', 2: 'st3', 3: 'st4', 4: 'st5',\n",
    "                                                                         5: 'st6', 6: 'st7', 7: 'st8', 8: 'st9', 9: 'st10',\n",
    "                                                                         10: 'st11', 11: 'st12', 12: 'st13', 13: 'st14', 14: 'st15',\n",
    "                                                                         15: 'st16', 16: 'st17', 17: 'st18', 18: 'st19', 19: 'st20',\n",
    "                                                                         20: 'st21', 21: 'st22', 22: 'st23', 23: 'st24', 24: 'st25',\n",
    "                                                                         25: 'st26', 26: 'st27', 27: 'st28', 28: 'st29', 29: 'st30',\n",
    "                                                                         30: 'st31', 31: 'st32', 32: 'st33', 33: 'st34', 34: 'st35',\n",
    "                                                                         35: 'st36', 36: 'st37', 37: 'st38', 38: 'st39', 39: 'st40',\n",
    "                                                                         40: 'st41', 41: 'st42', 42: 'st43', 43: 'st44', 44: 'st45',\n",
    "                                                                         45: 'st46', 46: 'st47', 47: 'st48', 48: 'st49', 49: 'st50',\n",
    "                                                                         50: 'st51', 51: 'st52', 52: 'st53', 53: 'st54', 54: 'st55',\n",
    "                                                                         55: 'st56', 56: 'st57', 57: 'st58', 58: 'st59', 59: 'st60',\n",
    "                                                                         60: 'st61', 61: 'st62', 62: 'st63', 63: 'st64', 64: 'st65',\n",
    "                                                                         65: 'st66', 66: 'st67', 67: 'st68', 68: 'st69', 69: 'st70',\n",
    "                                                                         70: 'st71', 71: 'st72', 72: 'st73', 73: 'st74', 74: 'st75',\n",
    "                                                                         75: 'st76', 76: 'st77', 77: 'st78', 78: 'st79', 79: 'st80',\n",
    "                                                                         80: 'st81', 81: 'st82', 82: 'st83', 83: 'st84', 84: 'st85',\n",
    "                                                                         85: 'st86', 86: 'st87', 87: 'st88', 88: 'st89', 89: 'st90',\n",
    "                                                                         90: 'st91', 91: 'st92', 92: 'st93', 93: 'st94', 94: 'st95',\n",
    "                                                                         95: 'st96', 96: 'st97', 97: 'st98', 98: 'st99', 99: 'st100',\n",
    "                                                                         100: 'st101', 101: 'st102', 102: 'st103', 103: 'st104', 104: 'st105',\n",
    "                                                                         105: 'st106', 106: 'st107', 107: 'st108', 108: 'st109', 109: 'st110',\n",
    "                                                                         110: 'st111', 111: 'st112', 112: 'st113', 113: 'st114', 114: 'st115',\n",
    "                                                                         115: 'st116', 116: 'st117', 117: 'st118', 118: 'st119', 119: 'st120',\n",
    "                                                                         120: 'st121', 121: 'st122', 122: 'st123', 123: 'st124', 124: 'st125',\n",
    "                                                                         125: 'st126', 126: 'st127', 127: 'st128', 128: 'st129', 129: 'st130',\n",
    "                                                                         130: 'st131', 131: 'st132', 132: 'st133', 133: 'st134', 134: 'st135',\n",
    "                                                                         135: 'st136', 136: 'st137', 137: 'st138', 138: 'st139', 139: 'st140',\n",
    "                                                                         140: 'st141', 141: 'st142', 142: 'st143', 143: 'st144', 144: 'st145',\n",
    "                                                                         145: 'st146', 146: 'st147', 147: 'st148', 148: 'st149', 149: 'st150',\n",
    "                                                                         150: 'st151', 151: 'st152', 152: 'st153', 153: 'st154', 154: 'st155',\n",
    "                                                                         155: 'st156', 156: 'st157', 157: 'st158', 158: 'st159', 159: 'st160'})\n",
    "\n",
    "    #\n",
    "    idx = kmedoids_pca.medoid_indices_\n",
    "    dfDayToStage = pd.DataFrame(idx, columns=['Day'])\n",
    "    dfDayToStage = dfDayToStage + 1\n",
    "    for k in dfDayToStage.index:\n",
    "        data.loc[data['Day'] == dfDayToStage['Day'][k], 'Duration'] = 1\n",
    "\n",
    "    # Getting only the relevant information to build the new CSV file in CaseName_ByStages\n",
    "    # data = data[\n",
    "        # ['Scenario', 'Period', 'LoadLevel', 'Stage', 'InitialNode', 'FinalNode', 'Circuit', 'Duration', 'Value']]\n",
    "    data = data[\n",
    "        ['LoadLevel', 'Stage', 'Execution', 'Duration', 'Value']]\n",
    "    # data.to_csv(_path_0 + '/oT_Test_ReducedCost_Clusters_' + CaseName_0 + '.csv', sep=',')\n",
    "    # Shaping the dataframe to be saved in CSV files\n",
    "    # TableToFile = pd.pivot_table(data, values='Value', index=['LoadLevel', 'Stage', 'Duration'],\n",
    "    #                              columns=['InitialNode', 'FinalNode', 'Circuit'], fill_value=0)\n",
    "    TableToFile = pd.pivot_table(data, values='Value', index=['LoadLevel', 'Stage', 'Duration'],\n",
    "                                 columns=['Execution'], fill_value=0)\n",
    "    TableToFile = TableToFile.reset_index()\n",
    "    # Creating the dataframe to generate oT_Data_Duration\n",
    "    dfDuration = pd.DataFrame(0, index=TableToFile.index, columns=['LoadLevel', 'Duration', 'Stage'])\n",
    "    dfDuration['LoadLevel'] = TableToFile['LoadLevel']\n",
    "    dfDuration['Duration'] = TableToFile['Duration']\n",
    "    dfDuration['Stage'] = TableToFile['Stage']\n",
    "    dfDuration.to_csv(os.path.join(_path_1, '2.Par', 'oT_Data_Duration_' + CaseName_1 + '.csv'), sep=',', index=False)\n",
    "    # dfDuration.to_csv(_path_1 + '/oT_Data_Duration_' + CaseName_1 + '.csv', sep=',', index=False)\n",
    "    # Identifying the Stages\n",
    "    Stages = dfDuration.Stage.unique()\n",
    "    Stages = np.sort(Stages)\n",
    "    # Creating the dataframe to generate oT_Data_Stages\n",
    "    dfa = pd.DataFrame({'Weight': dfDuration['Stage']})\n",
    "    dfa = dfa['Weight'].value_counts()\n",
    "    dfa = dfa/24\n",
    "    dfa = dfa.sort_index()\n",
    "    dfStages = pd.DataFrame(dfa.values, index=dfa.index, columns=['Weight'])\n",
    "    dfStages.index.name = None\n",
    "    dfStages.to_csv(os.path.join(_path_1, '2.Par', 'oT_Data_Stage_' + CaseName_1 + '.csv'), sep=',')\n",
    "    # dfStages.to_csv(_path_1 + '/oT_Data_Stage_' + CaseName_1 + '.csv', sep=',')\n",
    "    # Creating the dataframe to generate oT_Dict_Stages\n",
    "    dict_Stages = pd.DataFrame(Stages, columns=['Stage'])\n",
    "    dict_Stages.to_csv(os.path.join(_path_1, '1.Set', 'oT_Dict_Stage_' + CaseName_1 + '.csv'), sep=',', index=False)\n",
    "    # dict_Stages.to_csv(_path_1 + '/oT_Dict_Stage_' + CaseName_1 + '.csv', sep=',', index=False)\n",
    "\n",
    "    return kmedoids_pca"
   ]
  },
  {
   "cell_type": "markdown",
   "metadata": {},
   "source": [
    "### Reading the data for clustering"
   ]
  },
  {
   "cell_type": "code",
   "execution_count": 467,
   "metadata": {},
   "outputs": [],
   "source": [
    "#%% Setting up the path a cases\n",
    "DirName  = os.getcwd()\n",
    "\n",
    "opt_cluster = 100\n",
    "\n",
    "CaseName_Base     = 'RTS24'\n",
    "# CaseName_ByStages = CaseName_Base+'_ByStages'\n",
    "CaseName_ByStages = CaseName_Base+'_ByStages_nc'+str(opt_cluster)\n",
    "\n",
    "CSV_name =  'oT_Data_Profiles_' + CaseName_Base\n",
    "\n",
    "_path_0 = os.path.join(DirName, CaseName_Base)\n",
    "_path_1 = os.path.join(DirName, CaseName_ByStages)\n",
    "\n",
    "StartTime = time.time()\n",
    "\n",
    "#%% Selecting the maximum number of cluster to plot\n",
    "max_cluster = 300\n",
    "#%% Selecting the optimal number of cluster and defining the clustering method (0: k-means; 1:k-medoids)\n",
    "# opt_cluster = 150\n",
    "cluster_method = 1\n",
    "\n",
    "#%% type of clustering  ('hourly'; 'daily with hourly resolution'; 'weekly with hourly resolution')\n",
    "clustering_type = 'hourly'\n",
    "\n",
    "output_directory = DirName + '/' + CaseName_ByStages + '/'\n",
    "if not os.path.exists(output_directory):\n",
    "    os.makedirs(output_directory)\n"
   ]
  },
  {
   "cell_type": "code",
   "execution_count": 468,
   "metadata": {},
   "outputs": [],
   "source": [
    "df_1 = pd.read_csv(_path_0+'/2.Par'+'/'+CSV_name+'.csv', index_col=0)\n",
    "diff_df_1 = df_1"
   ]
  },
  {
   "cell_type": "code",
   "execution_count": 469,
   "metadata": {},
   "outputs": [],
   "source": [
    "#%% Loading Sets from CSV\n",
    "dictSets = DataPortal()\n",
    "dictSets.load(filename=_path_0+'/1.Set'+'/oT_Dict_LoadLevel_'   +CaseName_Base+'.csv', set='n'   , format='set')"
   ]
  },
  {
   "cell_type": "markdown",
   "metadata": {},
   "source": [
    "#### Line benefits"
   ]
  },
  {
   "cell_type": "code",
   "execution_count": 470,
   "metadata": {},
   "outputs": [
    {
     "data": {
      "text/html": [
       "<div>\n",
       "<style scoped>\n",
       "    .dataframe tbody tr th:only-of-type {\n",
       "        vertical-align: middle;\n",
       "    }\n",
       "\n",
       "    .dataframe tbody tr th {\n",
       "        vertical-align: top;\n",
       "    }\n",
       "\n",
       "    .dataframe thead th {\n",
       "        text-align: right;\n",
       "    }\n",
       "</style>\n",
       "<table border=\"1\" class=\"dataframe\">\n",
       "  <thead>\n",
       "    <tr style=\"text-align: right;\">\n",
       "      <th></th>\n",
       "      <th>Unnamed: 1</th>\n",
       "      <th>Unnamed: 2</th>\n",
       "      <th>Demand</th>\n",
       "      <th>Solar</th>\n",
       "      <th>Wind</th>\n",
       "      <th>Hydro</th>\n",
       "    </tr>\n",
       "  </thead>\n",
       "  <tbody>\n",
       "    <tr>\n",
       "      <th>2030</th>\n",
       "      <td>sc01</td>\n",
       "      <td>01-01 00:00:00+01:00</td>\n",
       "      <td>1083.521771</td>\n",
       "      <td>0.02</td>\n",
       "      <td>2852.8</td>\n",
       "      <td>25.2</td>\n",
       "    </tr>\n",
       "    <tr>\n",
       "      <th>2030</th>\n",
       "      <td>sc01</td>\n",
       "      <td>01-01 01:00:00+01:00</td>\n",
       "      <td>1084.297378</td>\n",
       "      <td>0.02</td>\n",
       "      <td>2851.2</td>\n",
       "      <td>22.8</td>\n",
       "    </tr>\n",
       "    <tr>\n",
       "      <th>2030</th>\n",
       "      <td>sc01</td>\n",
       "      <td>01-01 02:00:00+01:00</td>\n",
       "      <td>1101.748516</td>\n",
       "      <td>0.02</td>\n",
       "      <td>2833.6</td>\n",
       "      <td>22.8</td>\n",
       "    </tr>\n",
       "    <tr>\n",
       "      <th>2030</th>\n",
       "      <td>sc01</td>\n",
       "      <td>01-01 03:00:00+01:00</td>\n",
       "      <td>1139.753216</td>\n",
       "      <td>0.02</td>\n",
       "      <td>2842.8</td>\n",
       "      <td>25.2</td>\n",
       "    </tr>\n",
       "    <tr>\n",
       "      <th>2030</th>\n",
       "      <td>sc01</td>\n",
       "      <td>01-01 04:00:00+01:00</td>\n",
       "      <td>1253.767318</td>\n",
       "      <td>0.02</td>\n",
       "      <td>2805.6</td>\n",
       "      <td>22.8</td>\n",
       "    </tr>\n",
       "  </tbody>\n",
       "</table>\n",
       "</div>"
      ],
      "text/plain": [
       "     Unnamed: 1            Unnamed: 2       Demand  Solar    Wind  Hydro\n",
       "2030       sc01  01-01 00:00:00+01:00  1083.521771   0.02  2852.8   25.2\n",
       "2030       sc01  01-01 01:00:00+01:00  1084.297378   0.02  2851.2   22.8\n",
       "2030       sc01  01-01 02:00:00+01:00  1101.748516   0.02  2833.6   22.8\n",
       "2030       sc01  01-01 03:00:00+01:00  1139.753216   0.02  2842.8   25.2\n",
       "2030       sc01  01-01 04:00:00+01:00  1253.767318   0.02  2805.6   22.8"
      ]
     },
     "execution_count": 470,
     "metadata": {},
     "output_type": "execute_result"
    }
   ],
   "source": [
    "diff_df_1.head()"
   ]
  },
  {
   "cell_type": "code",
   "execution_count": 471,
   "metadata": {},
   "outputs": [],
   "source": [
    "diff_df_1['LoadLevel'] = dictSets['n' ]\n",
    "diff_df_1.set_index('LoadLevel', inplace=True)"
   ]
  },
  {
   "cell_type": "code",
   "execution_count": 472,
   "metadata": {},
   "outputs": [
    {
     "data": {
      "text/html": [
       "<div>\n",
       "<style scoped>\n",
       "    .dataframe tbody tr th:only-of-type {\n",
       "        vertical-align: middle;\n",
       "    }\n",
       "\n",
       "    .dataframe tbody tr th {\n",
       "        vertical-align: top;\n",
       "    }\n",
       "\n",
       "    .dataframe thead th {\n",
       "        text-align: right;\n",
       "    }\n",
       "</style>\n",
       "<table border=\"1\" class=\"dataframe\">\n",
       "  <thead>\n",
       "    <tr style=\"text-align: right;\">\n",
       "      <th></th>\n",
       "      <th>Unnamed: 1</th>\n",
       "      <th>Unnamed: 2</th>\n",
       "      <th>Demand</th>\n",
       "      <th>Solar</th>\n",
       "      <th>Wind</th>\n",
       "      <th>Hydro</th>\n",
       "    </tr>\n",
       "    <tr>\n",
       "      <th>LoadLevel</th>\n",
       "      <th></th>\n",
       "      <th></th>\n",
       "      <th></th>\n",
       "      <th></th>\n",
       "      <th></th>\n",
       "      <th></th>\n",
       "    </tr>\n",
       "  </thead>\n",
       "  <tbody>\n",
       "    <tr>\n",
       "      <th>01-01 00:00:00+01:00</th>\n",
       "      <td>sc01</td>\n",
       "      <td>01-01 00:00:00+01:00</td>\n",
       "      <td>1083.521771</td>\n",
       "      <td>0.02</td>\n",
       "      <td>2852.8</td>\n",
       "      <td>25.2</td>\n",
       "    </tr>\n",
       "    <tr>\n",
       "      <th>01-01 01:00:00+01:00</th>\n",
       "      <td>sc01</td>\n",
       "      <td>01-01 01:00:00+01:00</td>\n",
       "      <td>1084.297378</td>\n",
       "      <td>0.02</td>\n",
       "      <td>2851.2</td>\n",
       "      <td>22.8</td>\n",
       "    </tr>\n",
       "    <tr>\n",
       "      <th>01-01 02:00:00+01:00</th>\n",
       "      <td>sc01</td>\n",
       "      <td>01-01 02:00:00+01:00</td>\n",
       "      <td>1101.748516</td>\n",
       "      <td>0.02</td>\n",
       "      <td>2833.6</td>\n",
       "      <td>22.8</td>\n",
       "    </tr>\n",
       "    <tr>\n",
       "      <th>01-01 03:00:00+01:00</th>\n",
       "      <td>sc01</td>\n",
       "      <td>01-01 03:00:00+01:00</td>\n",
       "      <td>1139.753216</td>\n",
       "      <td>0.02</td>\n",
       "      <td>2842.8</td>\n",
       "      <td>25.2</td>\n",
       "    </tr>\n",
       "    <tr>\n",
       "      <th>01-01 04:00:00+01:00</th>\n",
       "      <td>sc01</td>\n",
       "      <td>01-01 04:00:00+01:00</td>\n",
       "      <td>1253.767318</td>\n",
       "      <td>0.02</td>\n",
       "      <td>2805.6</td>\n",
       "      <td>22.8</td>\n",
       "    </tr>\n",
       "  </tbody>\n",
       "</table>\n",
       "</div>"
      ],
      "text/plain": [
       "                     Unnamed: 1            Unnamed: 2       Demand  Solar  \\\n",
       "LoadLevel                                                                   \n",
       "01-01 00:00:00+01:00       sc01  01-01 00:00:00+01:00  1083.521771   0.02   \n",
       "01-01 01:00:00+01:00       sc01  01-01 01:00:00+01:00  1084.297378   0.02   \n",
       "01-01 02:00:00+01:00       sc01  01-01 02:00:00+01:00  1101.748516   0.02   \n",
       "01-01 03:00:00+01:00       sc01  01-01 03:00:00+01:00  1139.753216   0.02   \n",
       "01-01 04:00:00+01:00       sc01  01-01 04:00:00+01:00  1253.767318   0.02   \n",
       "\n",
       "                        Wind  Hydro  \n",
       "LoadLevel                            \n",
       "01-01 00:00:00+01:00  2852.8   25.2  \n",
       "01-01 01:00:00+01:00  2851.2   22.8  \n",
       "01-01 02:00:00+01:00  2833.6   22.8  \n",
       "01-01 03:00:00+01:00  2842.8   25.2  \n",
       "01-01 04:00:00+01:00  2805.6   22.8  "
      ]
     },
     "execution_count": 472,
     "metadata": {},
     "output_type": "execute_result"
    }
   ],
   "source": [
    "diff_df_1.head()"
   ]
  },
  {
   "cell_type": "code",
   "execution_count": 473,
   "metadata": {},
   "outputs": [],
   "source": [
    "# Selecting the columns demand, wind, solar, hydro\n",
    "diff_df_1 = diff_df_1[['Demand', 'Wind', 'Solar', 'Hydro']]"
   ]
  },
  {
   "cell_type": "code",
   "execution_count": 474,
   "metadata": {},
   "outputs": [],
   "source": [
    "ddf_1 = diff_df_1.stack()"
   ]
  },
  {
   "cell_type": "code",
   "execution_count": 475,
   "metadata": {},
   "outputs": [],
   "source": [
    "ddf_1.index.names = ['LoadLevel', 'Execution']"
   ]
  },
  {
   "cell_type": "code",
   "execution_count": 476,
   "metadata": {},
   "outputs": [],
   "source": [
    "# changing the column name\n",
    "ddf_1 = ddf_1.to_frame(name='Value')"
   ]
  },
  {
   "cell_type": "code",
   "execution_count": 477,
   "metadata": {},
   "outputs": [
    {
     "data": {
      "text/html": [
       "<div>\n",
       "<style scoped>\n",
       "    .dataframe tbody tr th:only-of-type {\n",
       "        vertical-align: middle;\n",
       "    }\n",
       "\n",
       "    .dataframe tbody tr th {\n",
       "        vertical-align: top;\n",
       "    }\n",
       "\n",
       "    .dataframe thead th {\n",
       "        text-align: right;\n",
       "    }\n",
       "</style>\n",
       "<table border=\"1\" class=\"dataframe\">\n",
       "  <thead>\n",
       "    <tr style=\"text-align: right;\">\n",
       "      <th></th>\n",
       "      <th></th>\n",
       "      <th>Value</th>\n",
       "    </tr>\n",
       "    <tr>\n",
       "      <th>LoadLevel</th>\n",
       "      <th>Execution</th>\n",
       "      <th></th>\n",
       "    </tr>\n",
       "  </thead>\n",
       "  <tbody>\n",
       "    <tr>\n",
       "      <th rowspan=\"4\" valign=\"top\">01-01 00:00:00+01:00</th>\n",
       "      <th>Demand</th>\n",
       "      <td>1083.521771</td>\n",
       "    </tr>\n",
       "    <tr>\n",
       "      <th>Wind</th>\n",
       "      <td>2852.800000</td>\n",
       "    </tr>\n",
       "    <tr>\n",
       "      <th>Solar</th>\n",
       "      <td>0.020000</td>\n",
       "    </tr>\n",
       "    <tr>\n",
       "      <th>Hydro</th>\n",
       "      <td>25.200000</td>\n",
       "    </tr>\n",
       "    <tr>\n",
       "      <th>01-01 01:00:00+01:00</th>\n",
       "      <th>Demand</th>\n",
       "      <td>1084.297378</td>\n",
       "    </tr>\n",
       "  </tbody>\n",
       "</table>\n",
       "</div>"
      ],
      "text/plain": [
       "                                      Value\n",
       "LoadLevel            Execution             \n",
       "01-01 00:00:00+01:00 Demand     1083.521771\n",
       "                     Wind       2852.800000\n",
       "                     Solar         0.020000\n",
       "                     Hydro        25.200000\n",
       "01-01 01:00:00+01:00 Demand     1084.297378"
      ]
     },
     "execution_count": 477,
     "metadata": {},
     "output_type": "execute_result"
    }
   ],
   "source": [
    "ddf_1.head()"
   ]
  },
  {
   "cell_type": "code",
   "execution_count": 478,
   "metadata": {},
   "outputs": [],
   "source": [
    "ddf_1 = ddf_1.reset_index()"
   ]
  },
  {
   "cell_type": "code",
   "execution_count": 479,
   "metadata": {},
   "outputs": [],
   "source": [
    "ddf_1['Date'] = ddf_1['LoadLevel']\n",
    "ddf_1['Date'] = ddf_1['Date'].str.slice(0, -6)"
   ]
  },
  {
   "cell_type": "code",
   "execution_count": 481,
   "metadata": {},
   "outputs": [],
   "source": [
    "ddf_1['Date'] = pd.to_datetime(ddf_1['Date'], format='%m-%d %H:%M:%S', errors='coerce')"
   ]
  },
  {
   "cell_type": "code",
   "execution_count": 482,
   "metadata": {},
   "outputs": [
    {
     "data": {
      "text/html": [
       "<div>\n",
       "<style scoped>\n",
       "    .dataframe tbody tr th:only-of-type {\n",
       "        vertical-align: middle;\n",
       "    }\n",
       "\n",
       "    .dataframe tbody tr th {\n",
       "        vertical-align: top;\n",
       "    }\n",
       "\n",
       "    .dataframe thead th {\n",
       "        text-align: right;\n",
       "    }\n",
       "</style>\n",
       "<table border=\"1\" class=\"dataframe\">\n",
       "  <thead>\n",
       "    <tr style=\"text-align: right;\">\n",
       "      <th></th>\n",
       "      <th>LoadLevel</th>\n",
       "      <th>Execution</th>\n",
       "      <th>Value</th>\n",
       "      <th>Date</th>\n",
       "    </tr>\n",
       "  </thead>\n",
       "  <tbody>\n",
       "    <tr>\n",
       "      <th>34939</th>\n",
       "      <td>12-30 22:00:00+01:00</td>\n",
       "      <td>Hydro</td>\n",
       "      <td>96.00000</td>\n",
       "      <td>1900-12-30 22:00:00</td>\n",
       "    </tr>\n",
       "    <tr>\n",
       "      <th>34940</th>\n",
       "      <td>12-30 23:00:00+01:00</td>\n",
       "      <td>Demand</td>\n",
       "      <td>1090.89003</td>\n",
       "      <td>1900-12-30 23:00:00</td>\n",
       "    </tr>\n",
       "    <tr>\n",
       "      <th>34941</th>\n",
       "      <td>12-30 23:00:00+01:00</td>\n",
       "      <td>Wind</td>\n",
       "      <td>2687.20000</td>\n",
       "      <td>1900-12-30 23:00:00</td>\n",
       "    </tr>\n",
       "    <tr>\n",
       "      <th>34942</th>\n",
       "      <td>12-30 23:00:00+01:00</td>\n",
       "      <td>Solar</td>\n",
       "      <td>0.02000</td>\n",
       "      <td>1900-12-30 23:00:00</td>\n",
       "    </tr>\n",
       "    <tr>\n",
       "      <th>34943</th>\n",
       "      <td>12-30 23:00:00+01:00</td>\n",
       "      <td>Hydro</td>\n",
       "      <td>76.20000</td>\n",
       "      <td>1900-12-30 23:00:00</td>\n",
       "    </tr>\n",
       "  </tbody>\n",
       "</table>\n",
       "</div>"
      ],
      "text/plain": [
       "                  LoadLevel Execution       Value                Date\n",
       "34939  12-30 22:00:00+01:00     Hydro    96.00000 1900-12-30 22:00:00\n",
       "34940  12-30 23:00:00+01:00    Demand  1090.89003 1900-12-30 23:00:00\n",
       "34941  12-30 23:00:00+01:00      Wind  2687.20000 1900-12-30 23:00:00\n",
       "34942  12-30 23:00:00+01:00     Solar     0.02000 1900-12-30 23:00:00\n",
       "34943  12-30 23:00:00+01:00     Hydro    76.20000 1900-12-30 23:00:00"
      ]
     },
     "execution_count": 482,
     "metadata": {},
     "output_type": "execute_result"
    }
   ],
   "source": [
    "ddf_1.tail()"
   ]
  },
  {
   "cell_type": "markdown",
   "metadata": {},
   "source": [
    "#### Getting day of year and month"
   ]
  },
  {
   "cell_type": "code",
   "execution_count": 483,
   "metadata": {},
   "outputs": [],
   "source": [
    "ddf_1['Hour' ] = ddf_1['Date'].dt.hour\n",
    "ddf_1['Day'  ] = ddf_1['Date'].dt.dayofyear\n",
    "ddf_1['Week' ] = ddf_1['Date'].dt.isocalendar().week\n",
    "ddf_1['Month'] = ddf_1['Date'].dt.month"
   ]
  },
  {
   "cell_type": "code",
   "execution_count": 484,
   "metadata": {},
   "outputs": [
    {
     "data": {
      "text/html": [
       "<div>\n",
       "<style scoped>\n",
       "    .dataframe tbody tr th:only-of-type {\n",
       "        vertical-align: middle;\n",
       "    }\n",
       "\n",
       "    .dataframe tbody tr th {\n",
       "        vertical-align: top;\n",
       "    }\n",
       "\n",
       "    .dataframe thead th {\n",
       "        text-align: right;\n",
       "    }\n",
       "</style>\n",
       "<table border=\"1\" class=\"dataframe\">\n",
       "  <thead>\n",
       "    <tr style=\"text-align: right;\">\n",
       "      <th></th>\n",
       "      <th>LoadLevel</th>\n",
       "      <th>Execution</th>\n",
       "      <th>Value</th>\n",
       "      <th>Date</th>\n",
       "      <th>Hour</th>\n",
       "      <th>Day</th>\n",
       "      <th>Week</th>\n",
       "      <th>Month</th>\n",
       "    </tr>\n",
       "  </thead>\n",
       "  <tbody>\n",
       "    <tr>\n",
       "      <th>0</th>\n",
       "      <td>01-01 00:00:00+01:00</td>\n",
       "      <td>Demand</td>\n",
       "      <td>1083.521771</td>\n",
       "      <td>1900-01-01 00:00:00</td>\n",
       "      <td>0</td>\n",
       "      <td>1</td>\n",
       "      <td>1</td>\n",
       "      <td>1</td>\n",
       "    </tr>\n",
       "    <tr>\n",
       "      <th>1</th>\n",
       "      <td>01-01 00:00:00+01:00</td>\n",
       "      <td>Wind</td>\n",
       "      <td>2852.800000</td>\n",
       "      <td>1900-01-01 00:00:00</td>\n",
       "      <td>0</td>\n",
       "      <td>1</td>\n",
       "      <td>1</td>\n",
       "      <td>1</td>\n",
       "    </tr>\n",
       "    <tr>\n",
       "      <th>2</th>\n",
       "      <td>01-01 00:00:00+01:00</td>\n",
       "      <td>Solar</td>\n",
       "      <td>0.020000</td>\n",
       "      <td>1900-01-01 00:00:00</td>\n",
       "      <td>0</td>\n",
       "      <td>1</td>\n",
       "      <td>1</td>\n",
       "      <td>1</td>\n",
       "    </tr>\n",
       "    <tr>\n",
       "      <th>3</th>\n",
       "      <td>01-01 00:00:00+01:00</td>\n",
       "      <td>Hydro</td>\n",
       "      <td>25.200000</td>\n",
       "      <td>1900-01-01 00:00:00</td>\n",
       "      <td>0</td>\n",
       "      <td>1</td>\n",
       "      <td>1</td>\n",
       "      <td>1</td>\n",
       "    </tr>\n",
       "    <tr>\n",
       "      <th>4</th>\n",
       "      <td>01-01 01:00:00+01:00</td>\n",
       "      <td>Demand</td>\n",
       "      <td>1084.297378</td>\n",
       "      <td>1900-01-01 01:00:00</td>\n",
       "      <td>1</td>\n",
       "      <td>1</td>\n",
       "      <td>1</td>\n",
       "      <td>1</td>\n",
       "    </tr>\n",
       "  </tbody>\n",
       "</table>\n",
       "</div>"
      ],
      "text/plain": [
       "              LoadLevel Execution        Value                Date  Hour  Day  \\\n",
       "0  01-01 00:00:00+01:00    Demand  1083.521771 1900-01-01 00:00:00     0    1   \n",
       "1  01-01 00:00:00+01:00      Wind  2852.800000 1900-01-01 00:00:00     0    1   \n",
       "2  01-01 00:00:00+01:00     Solar     0.020000 1900-01-01 00:00:00     0    1   \n",
       "3  01-01 00:00:00+01:00     Hydro    25.200000 1900-01-01 00:00:00     0    1   \n",
       "4  01-01 01:00:00+01:00    Demand  1084.297378 1900-01-01 01:00:00     1    1   \n",
       "\n",
       "   Week  Month  \n",
       "0     1      1  \n",
       "1     1      1  \n",
       "2     1      1  \n",
       "3     1      1  \n",
       "4     1      1  "
      ]
     },
     "execution_count": 484,
     "metadata": {},
     "output_type": "execute_result"
    }
   ],
   "source": [
    "ddf_1.head()"
   ]
  },
  {
   "cell_type": "markdown",
   "metadata": {},
   "source": [
    "#### Generation new ID considering each line, and hour"
   ]
  },
  {
   "cell_type": "code",
   "execution_count": 485,
   "metadata": {},
   "outputs": [],
   "source": [
    "if clustering_type == 'hourly':\n",
    "    ddf_1['Variable'] = ddf_1['Execution']\n",
    "elif clustering_type == 'daily with hourly resolution':\n",
    "    ddf_1['Variable'] = ddf_1['Execution'] + '_' + ddf_1['Hour'].astype(str)\n",
    "elif clustering_type == 'weekly with hourly resolution':\n",
    "    ddf_1['Variable'] = ddf_1['Execution'] + '_' + ddf_1['Hour'].astype(str)"
   ]
  },
  {
   "cell_type": "code",
   "execution_count": 486,
   "metadata": {},
   "outputs": [
    {
     "data": {
      "text/html": [
       "<div>\n",
       "<style scoped>\n",
       "    .dataframe tbody tr th:only-of-type {\n",
       "        vertical-align: middle;\n",
       "    }\n",
       "\n",
       "    .dataframe tbody tr th {\n",
       "        vertical-align: top;\n",
       "    }\n",
       "\n",
       "    .dataframe thead th {\n",
       "        text-align: right;\n",
       "    }\n",
       "</style>\n",
       "<table border=\"1\" class=\"dataframe\">\n",
       "  <thead>\n",
       "    <tr style=\"text-align: right;\">\n",
       "      <th></th>\n",
       "      <th>LoadLevel</th>\n",
       "      <th>Execution</th>\n",
       "      <th>Value</th>\n",
       "      <th>Date</th>\n",
       "      <th>Hour</th>\n",
       "      <th>Day</th>\n",
       "      <th>Week</th>\n",
       "      <th>Month</th>\n",
       "      <th>Variable</th>\n",
       "    </tr>\n",
       "  </thead>\n",
       "  <tbody>\n",
       "    <tr>\n",
       "      <th>34939</th>\n",
       "      <td>12-30 22:00:00+01:00</td>\n",
       "      <td>Hydro</td>\n",
       "      <td>96.00000</td>\n",
       "      <td>1900-12-30 22:00:00</td>\n",
       "      <td>22</td>\n",
       "      <td>364</td>\n",
       "      <td>52</td>\n",
       "      <td>12</td>\n",
       "      <td>Hydro</td>\n",
       "    </tr>\n",
       "    <tr>\n",
       "      <th>34940</th>\n",
       "      <td>12-30 23:00:00+01:00</td>\n",
       "      <td>Demand</td>\n",
       "      <td>1090.89003</td>\n",
       "      <td>1900-12-30 23:00:00</td>\n",
       "      <td>23</td>\n",
       "      <td>364</td>\n",
       "      <td>52</td>\n",
       "      <td>12</td>\n",
       "      <td>Demand</td>\n",
       "    </tr>\n",
       "    <tr>\n",
       "      <th>34941</th>\n",
       "      <td>12-30 23:00:00+01:00</td>\n",
       "      <td>Wind</td>\n",
       "      <td>2687.20000</td>\n",
       "      <td>1900-12-30 23:00:00</td>\n",
       "      <td>23</td>\n",
       "      <td>364</td>\n",
       "      <td>52</td>\n",
       "      <td>12</td>\n",
       "      <td>Wind</td>\n",
       "    </tr>\n",
       "    <tr>\n",
       "      <th>34942</th>\n",
       "      <td>12-30 23:00:00+01:00</td>\n",
       "      <td>Solar</td>\n",
       "      <td>0.02000</td>\n",
       "      <td>1900-12-30 23:00:00</td>\n",
       "      <td>23</td>\n",
       "      <td>364</td>\n",
       "      <td>52</td>\n",
       "      <td>12</td>\n",
       "      <td>Solar</td>\n",
       "    </tr>\n",
       "    <tr>\n",
       "      <th>34943</th>\n",
       "      <td>12-30 23:00:00+01:00</td>\n",
       "      <td>Hydro</td>\n",
       "      <td>76.20000</td>\n",
       "      <td>1900-12-30 23:00:00</td>\n",
       "      <td>23</td>\n",
       "      <td>364</td>\n",
       "      <td>52</td>\n",
       "      <td>12</td>\n",
       "      <td>Hydro</td>\n",
       "    </tr>\n",
       "  </tbody>\n",
       "</table>\n",
       "</div>"
      ],
      "text/plain": [
       "                  LoadLevel Execution       Value                Date  Hour  \\\n",
       "34939  12-30 22:00:00+01:00     Hydro    96.00000 1900-12-30 22:00:00    22   \n",
       "34940  12-30 23:00:00+01:00    Demand  1090.89003 1900-12-30 23:00:00    23   \n",
       "34941  12-30 23:00:00+01:00      Wind  2687.20000 1900-12-30 23:00:00    23   \n",
       "34942  12-30 23:00:00+01:00     Solar     0.02000 1900-12-30 23:00:00    23   \n",
       "34943  12-30 23:00:00+01:00     Hydro    76.20000 1900-12-30 23:00:00    23   \n",
       "\n",
       "       Day  Week  Month Variable  \n",
       "34939  364    52     12    Hydro  \n",
       "34940  364    52     12   Demand  \n",
       "34941  364    52     12     Wind  \n",
       "34942  364    52     12    Solar  \n",
       "34943  364    52     12    Hydro  "
      ]
     },
     "execution_count": 486,
     "metadata": {},
     "output_type": "execute_result"
    }
   ],
   "source": [
    "ddf_1.tail()"
   ]
  },
  {
   "cell_type": "code",
   "execution_count": 487,
   "metadata": {},
   "outputs": [],
   "source": [
    "if clustering_type == 'hourly':\n",
    "    table = pd.pivot_table(ddf_1, values='Value', index=['LoadLevel', 'Month', 'Day'], columns=['Variable'], aggfunc=np.sum)\n",
    "elif clustering_type == 'daily with hourly resolution':\n",
    "    table = pd.pivot_table(ddf_1, values='Value', index=['Month', 'Day'], columns=['Variable'], aggfunc=np.sum)\n",
    "elif clustering_type == 'weekly with hourly resolution':\n",
    "    table = pd.pivot_table(ddf_1, values='Value', index=['Month', 'Week'], columns=['Variable'], aggfunc=np.sum)"
   ]
  },
  {
   "cell_type": "code",
   "execution_count": 488,
   "metadata": {},
   "outputs": [
    {
     "data": {
      "text/html": [
       "<div>\n",
       "<style scoped>\n",
       "    .dataframe tbody tr th:only-of-type {\n",
       "        vertical-align: middle;\n",
       "    }\n",
       "\n",
       "    .dataframe tbody tr th {\n",
       "        vertical-align: top;\n",
       "    }\n",
       "\n",
       "    .dataframe thead th {\n",
       "        text-align: right;\n",
       "    }\n",
       "</style>\n",
       "<table border=\"1\" class=\"dataframe\">\n",
       "  <thead>\n",
       "    <tr style=\"text-align: right;\">\n",
       "      <th></th>\n",
       "      <th></th>\n",
       "      <th>Variable</th>\n",
       "      <th>Demand</th>\n",
       "      <th>Hydro</th>\n",
       "      <th>Solar</th>\n",
       "      <th>Wind</th>\n",
       "    </tr>\n",
       "    <tr>\n",
       "      <th>LoadLevel</th>\n",
       "      <th>Month</th>\n",
       "      <th>Day</th>\n",
       "      <th></th>\n",
       "      <th></th>\n",
       "      <th></th>\n",
       "      <th></th>\n",
       "    </tr>\n",
       "  </thead>\n",
       "  <tbody>\n",
       "    <tr>\n",
       "      <th>12-30 19:00:00+01:00</th>\n",
       "      <th>12</th>\n",
       "      <th>364</th>\n",
       "      <td>1374.374073</td>\n",
       "      <td>232.2</td>\n",
       "      <td>0.02</td>\n",
       "      <td>2248.0</td>\n",
       "    </tr>\n",
       "    <tr>\n",
       "      <th>12-30 20:00:00+01:00</th>\n",
       "      <th>12</th>\n",
       "      <th>364</th>\n",
       "      <td>1338.308387</td>\n",
       "      <td>235.2</td>\n",
       "      <td>0.02</td>\n",
       "      <td>2568.0</td>\n",
       "    </tr>\n",
       "    <tr>\n",
       "      <th>12-30 21:00:00+01:00</th>\n",
       "      <th>12</th>\n",
       "      <th>364</th>\n",
       "      <td>1252.216106</td>\n",
       "      <td>147.0</td>\n",
       "      <td>0.02</td>\n",
       "      <td>2622.8</td>\n",
       "    </tr>\n",
       "    <tr>\n",
       "      <th>12-30 22:00:00+01:00</th>\n",
       "      <th>12</th>\n",
       "      <th>364</th>\n",
       "      <td>1147.897081</td>\n",
       "      <td>96.0</td>\n",
       "      <td>0.02</td>\n",
       "      <td>2669.2</td>\n",
       "    </tr>\n",
       "    <tr>\n",
       "      <th>12-30 23:00:00+01:00</th>\n",
       "      <th>12</th>\n",
       "      <th>364</th>\n",
       "      <td>1090.890030</td>\n",
       "      <td>76.2</td>\n",
       "      <td>0.02</td>\n",
       "      <td>2687.2</td>\n",
       "    </tr>\n",
       "  </tbody>\n",
       "</table>\n",
       "</div>"
      ],
      "text/plain": [
       "Variable                             Demand  Hydro  Solar    Wind\n",
       "LoadLevel            Month Day                                   \n",
       "12-30 19:00:00+01:00 12    364  1374.374073  232.2   0.02  2248.0\n",
       "12-30 20:00:00+01:00 12    364  1338.308387  235.2   0.02  2568.0\n",
       "12-30 21:00:00+01:00 12    364  1252.216106  147.0   0.02  2622.8\n",
       "12-30 22:00:00+01:00 12    364  1147.897081   96.0   0.02  2669.2\n",
       "12-30 23:00:00+01:00 12    364  1090.890030   76.2   0.02  2687.2"
      ]
     },
     "execution_count": 488,
     "metadata": {},
     "output_type": "execute_result"
    }
   ],
   "source": [
    "table.tail()"
   ]
  },
  {
   "cell_type": "code",
   "execution_count": 489,
   "metadata": {},
   "outputs": [],
   "source": [
    "table = table.reset_index()"
   ]
  },
  {
   "cell_type": "code",
   "execution_count": 490,
   "metadata": {},
   "outputs": [],
   "source": [
    "if clustering_type == 'hourly':\n",
    "    table = table.set_index(['LoadLevel'])\n",
    "elif clustering_type == 'daily with hourly resolution':\n",
    "    table = table.set_index(['Day'])\n",
    "elif clustering_type == 'weekly with hourly resolution':\n",
    "    table = table.set_index(['Week'])"
   ]
  },
  {
   "cell_type": "code",
   "execution_count": 491,
   "metadata": {},
   "outputs": [
    {
     "data": {
      "text/html": [
       "<div>\n",
       "<style scoped>\n",
       "    .dataframe tbody tr th:only-of-type {\n",
       "        vertical-align: middle;\n",
       "    }\n",
       "\n",
       "    .dataframe tbody tr th {\n",
       "        vertical-align: top;\n",
       "    }\n",
       "\n",
       "    .dataframe thead th {\n",
       "        text-align: right;\n",
       "    }\n",
       "</style>\n",
       "<table border=\"1\" class=\"dataframe\">\n",
       "  <thead>\n",
       "    <tr style=\"text-align: right;\">\n",
       "      <th>Variable</th>\n",
       "      <th>Month</th>\n",
       "      <th>Day</th>\n",
       "      <th>Demand</th>\n",
       "      <th>Hydro</th>\n",
       "      <th>Solar</th>\n",
       "      <th>Wind</th>\n",
       "    </tr>\n",
       "    <tr>\n",
       "      <th>LoadLevel</th>\n",
       "      <th></th>\n",
       "      <th></th>\n",
       "      <th></th>\n",
       "      <th></th>\n",
       "      <th></th>\n",
       "      <th></th>\n",
       "    </tr>\n",
       "  </thead>\n",
       "  <tbody>\n",
       "    <tr>\n",
       "      <th>12-30 19:00:00+01:00</th>\n",
       "      <td>12</td>\n",
       "      <td>364</td>\n",
       "      <td>1374.374073</td>\n",
       "      <td>232.2</td>\n",
       "      <td>0.02</td>\n",
       "      <td>2248.0</td>\n",
       "    </tr>\n",
       "    <tr>\n",
       "      <th>12-30 20:00:00+01:00</th>\n",
       "      <td>12</td>\n",
       "      <td>364</td>\n",
       "      <td>1338.308387</td>\n",
       "      <td>235.2</td>\n",
       "      <td>0.02</td>\n",
       "      <td>2568.0</td>\n",
       "    </tr>\n",
       "    <tr>\n",
       "      <th>12-30 21:00:00+01:00</th>\n",
       "      <td>12</td>\n",
       "      <td>364</td>\n",
       "      <td>1252.216106</td>\n",
       "      <td>147.0</td>\n",
       "      <td>0.02</td>\n",
       "      <td>2622.8</td>\n",
       "    </tr>\n",
       "    <tr>\n",
       "      <th>12-30 22:00:00+01:00</th>\n",
       "      <td>12</td>\n",
       "      <td>364</td>\n",
       "      <td>1147.897081</td>\n",
       "      <td>96.0</td>\n",
       "      <td>0.02</td>\n",
       "      <td>2669.2</td>\n",
       "    </tr>\n",
       "    <tr>\n",
       "      <th>12-30 23:00:00+01:00</th>\n",
       "      <td>12</td>\n",
       "      <td>364</td>\n",
       "      <td>1090.890030</td>\n",
       "      <td>76.2</td>\n",
       "      <td>0.02</td>\n",
       "      <td>2687.2</td>\n",
       "    </tr>\n",
       "  </tbody>\n",
       "</table>\n",
       "</div>"
      ],
      "text/plain": [
       "Variable              Month  Day       Demand  Hydro  Solar    Wind\n",
       "LoadLevel                                                          \n",
       "12-30 19:00:00+01:00     12  364  1374.374073  232.2   0.02  2248.0\n",
       "12-30 20:00:00+01:00     12  364  1338.308387  235.2   0.02  2568.0\n",
       "12-30 21:00:00+01:00     12  364  1252.216106  147.0   0.02  2622.8\n",
       "12-30 22:00:00+01:00     12  364  1147.897081   96.0   0.02  2669.2\n",
       "12-30 23:00:00+01:00     12  364  1090.890030   76.2   0.02  2687.2"
      ]
     },
     "execution_count": 491,
     "metadata": {},
     "output_type": "execute_result"
    }
   ],
   "source": [
    "table.tail()"
   ]
  },
  {
   "cell_type": "markdown",
   "metadata": {},
   "source": [
    "#### Split data table into data X and class labels y"
   ]
  },
  {
   "cell_type": "code",
   "execution_count": 492,
   "metadata": {},
   "outputs": [],
   "source": [
    "X = table.iloc[:,1:len(table.columns)+1].values\n",
    "y = table.iloc[:,0].values"
   ]
  },
  {
   "cell_type": "code",
   "execution_count": 493,
   "metadata": {},
   "outputs": [
    {
     "name": "stdout",
     "output_type": "stream",
     "text": [
      "[[1.00000000e+00 1.08352177e+03 2.52000000e+01 2.00000000e-02\n",
      "  2.85280000e+03]\n",
      " [1.00000000e+00 1.08429738e+03 2.28000000e+01 2.00000000e-02\n",
      "  2.85120000e+03]\n",
      " [1.00000000e+00 1.10174852e+03 2.28000000e+01 2.00000000e-02\n",
      "  2.83360000e+03]\n",
      " ...\n",
      " [3.64000000e+02 1.25221611e+03 1.47000000e+02 2.00000000e-02\n",
      "  2.62280000e+03]\n",
      " [3.64000000e+02 1.14789708e+03 9.60000000e+01 2.00000000e-02\n",
      "  2.66920000e+03]\n",
      " [3.64000000e+02 1.09089003e+03 7.62000000e+01 2.00000000e-02\n",
      "  2.68720000e+03]]\n",
      "[ 1  1  1 ... 12 12 12]\n"
     ]
    }
   ],
   "source": [
    "print(X)\n",
    "print(y)"
   ]
  },
  {
   "cell_type": "markdown",
   "metadata": {},
   "source": [
    "## PCA step by step"
   ]
  },
  {
   "cell_type": "markdown",
   "metadata": {},
   "source": [
    "#### Standardizing of the data"
   ]
  },
  {
   "cell_type": "code",
   "execution_count": 494,
   "metadata": {},
   "outputs": [],
   "source": [
    "X_std = StandardScaler().fit_transform(X)"
   ]
  },
  {
   "cell_type": "markdown",
   "metadata": {},
   "source": [
    "#### Eigendecomposition of the raw data based on the correlation matrix:"
   ]
  },
  {
   "cell_type": "code",
   "execution_count": 495,
   "metadata": {},
   "outputs": [
    {
     "name": "stdout",
     "output_type": "stream",
     "text": [
      "Eigenvectors \n",
      "[[ 0.1279853   0.86450061  0.11640932  0.44671423 -0.15216348]\n",
      " [ 0.56342086  0.13238156 -0.67117781 -0.08779192  0.45480213]\n",
      " [ 0.57302604 -0.12753275  0.71228063  0.02773535  0.38374941]\n",
      " [ 0.37676235 -0.4495823  -0.16469252  0.65060438 -0.45333895]\n",
      " [-0.44256974 -0.12932507 -0.03875432  0.60719327  0.64592684]]\n",
      "\n",
      "Eigenvalues \n",
      "[2.01450557 1.04187969 0.43879692 0.83704281 0.66834741]\n"
     ]
    }
   ],
   "source": [
    "cov_mat = np.cov(X_std.T)\n",
    "eig_vals, eig_vecs = np.linalg.eig(cov_mat)\n",
    "\n",
    "print('Eigenvectors \\n%s' %eig_vecs)\n",
    "print('\\nEigenvalues \\n%s' %eig_vals)"
   ]
  },
  {
   "cell_type": "markdown",
   "metadata": {},
   "source": [
    "#### Selecting Principal Components"
   ]
  },
  {
   "cell_type": "markdown",
   "metadata": {},
   "source": [
    "### Sorting Eigenpairs"
   ]
  },
  {
   "cell_type": "markdown",
   "metadata": {},
   "source": [
    "The typical goal of a PCA is to reduce the dimensionality of the original feature space by projecting it onto a smaller subspace, where the eigenvectors will form the axes. However, the eigenvectors only define the directions of the new axis, since they have all the same unit length 1, which can confirmed by the following two lines of code:"
   ]
  },
  {
   "cell_type": "code",
   "execution_count": 496,
   "metadata": {},
   "outputs": [],
   "source": [
    "# for ev in eig_vecs:\n",
    "#     np.testing.assert_array_almost_equal(1.0, np.linalg.norm(ev))\n",
    "# print('Everything ok!')"
   ]
  },
  {
   "cell_type": "markdown",
   "metadata": {},
   "source": [
    "The common approach is to rank the eigenvalues from highest to lowest in order choose the top k eigenvectors."
   ]
  },
  {
   "cell_type": "code",
   "execution_count": 497,
   "metadata": {},
   "outputs": [
    {
     "name": "stdout",
     "output_type": "stream",
     "text": [
      "Eigenvalues in descending order:\n",
      "2.0145055712479927\n",
      "1.0418796925668368\n",
      "0.8370428098499955\n",
      "0.6683474116902711\n",
      "0.4387969244903529\n"
     ]
    }
   ],
   "source": [
    "# Make a list of (eigenvalue, eigenvector) tuples\n",
    "eig_pairs = [(np.abs(eig_vals[i]), eig_vecs[:,i]) for i in range(len(eig_vals))]\n",
    "\n",
    "# Sort the (eigenvalue, eigenvector) tuples from high to low\n",
    "eig_pairs.sort(key=lambda x: x[0], reverse=True)\n",
    "\n",
    "# Visually confirm that the list is correctly sorted by decreasing eigenvalues\n",
    "print('Eigenvalues in descending order:')\n",
    "for i in eig_pairs:\n",
    "    print(i[0])"
   ]
  },
  {
   "cell_type": "markdown",
   "metadata": {},
   "source": [
    "### Explained Variance"
   ]
  },
  {
   "cell_type": "markdown",
   "metadata": {},
   "source": [
    "After sorting the eigenpairs, the next question is \"how many principal components are we going to choose for our new feature subspace?\" A useful measure is the so-called \"explained variance,\" which can be calculated from the eigenvalues. The explained variance tells us how much information (variance) can be attributed to each of the principal components."
   ]
  },
  {
   "cell_type": "code",
   "execution_count": 498,
   "metadata": {},
   "outputs": [],
   "source": [
    "tot = sum(eig_vals)\n",
    "var_exp = [(i / tot)*100 for i in sorted(eig_vals, reverse=True)]\n",
    "cum_var_exp = np.cumsum(var_exp)"
   ]
  },
  {
   "cell_type": "code",
   "execution_count": 499,
   "metadata": {},
   "outputs": [
    {
     "name": "stdout",
     "output_type": "stream",
     "text": [
      "40.285499461655725 0\n",
      "61.12070805728604 1\n",
      "77.85964794748685 2\n",
      "91.22506608190653 3\n",
      "100.00000000000001 4\n"
     ]
    }
   ],
   "source": [
    "i = 0\n",
    "cum = 0\n",
    "while cum < 97:\n",
    "    cum += var_exp[i]\n",
    "    print(cum, i)\n",
    "    i += 1"
   ]
  },
  {
   "cell_type": "markdown",
   "metadata": {},
   "source": [
    "Then"
   ]
  },
  {
   "cell_type": "code",
   "execution_count": 500,
   "metadata": {},
   "outputs": [
    {
     "name": "stdout",
     "output_type": "stream",
     "text": [
      "['Solarize_Light2', '_classic_test_patch', '_mpl-gallery', '_mpl-gallery-nogrid', 'bmh', 'classic', 'dark_background', 'fast', 'fivethirtyeight', 'ggplot', 'grayscale', 'seaborn-v0_8', 'seaborn-v0_8-bright', 'seaborn-v0_8-colorblind', 'seaborn-v0_8-dark', 'seaborn-v0_8-dark-palette', 'seaborn-v0_8-darkgrid', 'seaborn-v0_8-deep', 'seaborn-v0_8-muted', 'seaborn-v0_8-notebook', 'seaborn-v0_8-paper', 'seaborn-v0_8-pastel', 'seaborn-v0_8-poster', 'seaborn-v0_8-talk', 'seaborn-v0_8-ticks', 'seaborn-v0_8-white', 'seaborn-v0_8-whitegrid', 'tableau-colorblind10']\n",
      "5 5\n"
     ]
    },
    {
     "data": {
      "image/png": "[encoded data removed]",
      "text/plain": [
       "<Figure size 600x400 with 1 Axes>"
      ]
     },
     "metadata": {},
     "output_type": "display_data"
    }
   ],
   "source": [
    "print(plt.style.available)\n",
    "# Check the lengths of the arrays\n",
    "print(len(var_exp), len(cum_var_exp))\n",
    "\n",
    "# Trim or adjust arrays to match lengths for plotting\n",
    "min_length = min(len(var_exp), len(cum_var_exp))\n",
    "var_exp = var_exp[:min_length]  # Truncate var_exp to the minimum length\n",
    "cum_var_exp = cum_var_exp[:min_length]  # Truncate cum_var_exp to the minimum length\n",
    "\n",
    "# Proceed with the plot using the adjusted arrays\n",
    "with plt.style.context('tableau-colorblind10'):\n",
    "    plt.figure(figsize=(6, 4))\n",
    "    plt.axvline(x=i, label='line at x = {}'.format(i), c='r')\n",
    "    plt.bar(range(min_length), var_exp, alpha=0.5, align='center', label='individual explained variance')\n",
    "    plt.step(range(min_length), cum_var_exp, where='mid', label='cumulative explained variance')\n",
    "\n",
    "    plt.ylabel('Explained variance ratio')\n",
    "    plt.xlabel('Principal components')\n",
    "    plt.legend(loc='best')\n",
    "    plt.tight_layout()\n",
    "    plt.savefig(_path_1 + '/Fig1.png', format='png', dpi=1200)\n",
    "    plt.show()\n",
    "# with plt.style.context('classic'):\n",
    "#     plt.figure(figsize=(6, 4))\n",
    "#     plt.axvline(x=i, label='line at x = {}'.format(i), c='r')\n",
    "#     plt.bar(range(len(table.columns)-1), var_exp, alpha=0.5, align='center',\n",
    "#             label='individual explained variance')\n",
    "#     plt.step(range(len(table.columns)-1), cum_var_exp, where='mid',\n",
    "#              label='cumulative explained variance')\n",
    "    \n",
    "#     plt.ylabel('Explained variance ratio')\n",
    "#     plt.xlabel('Principal components')\n",
    "#     plt.legend(loc='best')\n",
    "#     plt.tight_layout()\n",
    "# plt.savefig(_path_1+'/Fig1.png', format='png', dpi=1200)\n",
    "# plt.show()"
   ]
  },
  {
   "cell_type": "code",
   "execution_count": 501,
   "metadata": {},
   "outputs": [],
   "source": [
    "labels = np.unique(y, axis=0)"
   ]
  },
  {
   "cell_type": "code",
   "execution_count": 502,
   "metadata": {},
   "outputs": [
    {
     "data": {
      "text/plain": [
       "array([ 1,  2,  3,  4,  5,  6,  7,  8,  9, 10, 11, 12])"
      ]
     },
     "execution_count": 502,
     "metadata": {},
     "output_type": "execute_result"
    }
   ],
   "source": [
    "labels"
   ]
  },
  {
   "cell_type": "markdown",
   "metadata": {},
   "source": [
    "### Data distribution in relevant components"
   ]
  },
  {
   "cell_type": "code",
   "execution_count": 503,
   "metadata": {},
   "outputs": [
    {
     "data": {
      "image/png": "[encoded data removed]",
      "text/plain": [
       "<Figure size 640x480 with 1 Axes>"
      ]
     },
     "metadata": {},
     "output_type": "display_data"
    }
   ],
   "source": [
    "sklearn_pca = sklearnPCA(n_components=i)\n",
    "Y_sklearn = sklearn_pca.fit_transform(X_std)\n",
    "\n",
    "ax = plt.axes(projection='3d')\n",
    "with plt.style.context('tableau-colorblind10'):\n",
    "#     plt.figure(figsize=(8, 6))\n",
    "    for lab in labels:\n",
    "#         plt.scatter(Y_sklearn[y==lab, 0],\n",
    "#                     Y_sklearn[y==lab, 1],\n",
    "#                     label=lab)\n",
    "        zdata = Y_sklearn[y==lab, 2]\n",
    "        xdata = Y_sklearn[y==lab, 0]\n",
    "        ydata = Y_sklearn[y==lab, 1]\n",
    "        ax.scatter3D(xdata, ydata, zdata, c=zdata, label=lab, cmap='twilight');\n",
    "#     plt.xlabel('Principal Component 1')\n",
    "#     plt.ylabel('Principal Component 2')\n",
    "    ax.set_xlabel('Principal Component 1')\n",
    "    ax.set_ylabel('Principal Component 2')\n",
    "    ax.set_zlabel('Principal Component 3')\n",
    "    ax.legend(loc=\"best\")\n",
    "#     plt.legend(loc='best')\n",
    "#     plt.tight_layout()\n",
    "    plt.savefig(_path_1+'/Fig2.png', format='png', dpi=1200)\n",
    "    plt.show()"
   ]
  },
  {
   "cell_type": "markdown",
   "metadata": {},
   "source": [
    "### Variance of each component"
   ]
  },
  {
   "cell_type": "code",
   "execution_count": 504,
   "metadata": {},
   "outputs": [
    {
     "data": {
      "image/png": "[encoded data removed]",
      "text/plain": [
       "<Figure size 640x480 with 1 Axes>"
      ]
     },
     "metadata": {},
     "output_type": "display_data"
    }
   ],
   "source": [
    "features = range(sklearn_pca.n_components_)\n",
    "plt.bar(features, sklearn_pca.explained_variance_ratio_, color='black')\n",
    "plt.xlabel('PCA features')\n",
    "plt.ylabel('variance %')\n",
    "plt.xticks(features)\n",
    "plt.savefig(_path_1+'/Fig3.png', format='png', dpi=1200)\n",
    "plt.show()"
   ]
  },
  {
   "cell_type": "code",
   "execution_count": 505,
   "metadata": {},
   "outputs": [],
   "source": [
    "# Save components to a DataFrame\n",
    "PCA_components = pd.DataFrame(Y_sklearn)"
   ]
  },
  {
   "cell_type": "code",
   "execution_count": 506,
   "metadata": {},
   "outputs": [
    {
     "data": {
      "text/html": [
       "<div>\n",
       "<style scoped>\n",
       "    .dataframe tbody tr th:only-of-type {\n",
       "        vertical-align: middle;\n",
       "    }\n",
       "\n",
       "    .dataframe tbody tr th {\n",
       "        vertical-align: top;\n",
       "    }\n",
       "\n",
       "    .dataframe thead th {\n",
       "        text-align: right;\n",
       "    }\n",
       "</style>\n",
       "<table border=\"1\" class=\"dataframe\">\n",
       "  <thead>\n",
       "    <tr style=\"text-align: right;\">\n",
       "      <th></th>\n",
       "      <th>0</th>\n",
       "      <th>1</th>\n",
       "      <th>2</th>\n",
       "      <th>3</th>\n",
       "      <th>4</th>\n",
       "    </tr>\n",
       "  </thead>\n",
       "  <tbody>\n",
       "    <tr>\n",
       "      <th>0</th>\n",
       "      <td>-2.707184</td>\n",
       "      <td>1.291557</td>\n",
       "      <td>-0.190717</td>\n",
       "      <td>0.784338</td>\n",
       "      <td>0.513049</td>\n",
       "    </tr>\n",
       "    <tr>\n",
       "      <th>1</th>\n",
       "      <td>-2.724176</td>\n",
       "      <td>1.286983</td>\n",
       "      <td>-0.192702</td>\n",
       "      <td>0.771646</td>\n",
       "      <td>0.537311</td>\n",
       "    </tr>\n",
       "    <tr>\n",
       "      <th>2</th>\n",
       "      <td>-2.694917</td>\n",
       "      <td>1.279680</td>\n",
       "      <td>-0.206348</td>\n",
       "      <td>0.778328</td>\n",
       "      <td>0.562611</td>\n",
       "    </tr>\n",
       "    <tr>\n",
       "      <th>3</th>\n",
       "      <td>-2.632736</td>\n",
       "      <td>1.273822</td>\n",
       "      <td>-0.207480</td>\n",
       "      <td>0.834811</td>\n",
       "      <td>0.596306</td>\n",
       "    </tr>\n",
       "    <tr>\n",
       "      <th>4</th>\n",
       "      <td>-2.493240</td>\n",
       "      <td>1.231614</td>\n",
       "      <td>-0.252230</td>\n",
       "      <td>0.914179</td>\n",
       "      <td>0.787657</td>\n",
       "    </tr>\n",
       "  </tbody>\n",
       "</table>\n",
       "</div>"
      ],
      "text/plain": [
       "          0         1         2         3         4\n",
       "0 -2.707184  1.291557 -0.190717  0.784338  0.513049\n",
       "1 -2.724176  1.286983 -0.192702  0.771646  0.537311\n",
       "2 -2.694917  1.279680 -0.206348  0.778328  0.562611\n",
       "3 -2.632736  1.273822 -0.207480  0.834811  0.596306\n",
       "4 -2.493240  1.231614 -0.252230  0.914179  0.787657"
      ]
     },
     "execution_count": 506,
     "metadata": {},
     "output_type": "execute_result"
    }
   ],
   "source": [
    "PCA_components.head()"
   ]
  },
  {
   "cell_type": "markdown",
   "metadata": {},
   "source": [
    "### Getting the optimal number of clusters"
   ]
  },
  {
   "cell_type": "code",
   "execution_count": 507,
   "metadata": {},
   "outputs": [],
   "source": [
    "# ks = range(1, max_cluster)\n",
    "# inertias = []\n",
    "# for k in ks:\n",
    "#     # Create a KMeans instance with k clusters: model\n",
    "#     model = KMeans(n_clusters=k)\n",
    "    \n",
    "#     # Fit model to samples\n",
    "#     model.fit(PCA_components.iloc[:,:i])\n",
    "    \n",
    "#     # Append the inertia to the list of inertias\n",
    "#     inertias.append(model.inertia_)\n",
    "    \n",
    "# plt.plot(ks, inertias, '-o', color='black')\n",
    "# plt.xlabel('number of clusters, k')\n",
    "# plt.ylabel('inertia')\n",
    "# plt.xticks(ks)\n",
    "# plt.savefig(_path_1+'/Fig4.png', format='png', dpi=1200)\n",
    "# plt.show()"
   ]
  },
  {
   "cell_type": "code",
   "execution_count": 508,
   "metadata": {},
   "outputs": [],
   "source": [
    "# opt_cluster = 0\n",
    "# for k in range(len(inertias)-1):\n",
    "#     diff = abs(inertias[k]-inertias[k+1])/inertias[k]*100\n",
    "#     if diff > 0.1:\n",
    "#         opt_cluster += 1\n",
    "#     else:\n",
    "#         break\n",
    "# print(\"Optimal number of clusters: \", opt_cluster)"
   ]
  },
  {
   "cell_type": "code",
   "execution_count": 509,
   "metadata": {},
   "outputs": [],
   "source": [
    "# with plt.style.context('tableau-colorblind10'):\n",
    "#     plt.figure(figsize=(6, 4))\n",
    "#     plt.axvline(x=opt_cluster, label='Optimal number of clusters at k = {}'.format(opt_cluster), c='r')\n",
    "#     # plt.bar(range(len(table.columns)-1), var_exp, alpha=0.5, align='center',\n",
    "#             # label='individual explained variance')\n",
    "#     plt.step(range(len(inertias)), inertias, where='mid',\n",
    "#              label='cumulative inertia')\n",
    "    \n",
    "#     plt.ylabel('Inertia')\n",
    "#     plt.xlabel('Number of clusters, k')\n",
    "#     plt.legend(loc='best')\n",
    "#     plt.tight_layout()\n",
    "# plt.savefig(_path_1+'/Fig5.png', format='png', dpi=1200)\n",
    "# plt.show()"
   ]
  },
  {
   "cell_type": "markdown",
   "metadata": {},
   "source": [
    "### %opt_cluster Five clusters are chosen, so we run K-medoids with number of clusters equals four.\n",
    "### Same initializer and random state as before"
   ]
  },
  {
   "cell_type": "code",
   "execution_count": 510,
   "metadata": {},
   "outputs": [
    {
     "name": "stdout",
     "output_type": "stream",
     "text": [
      "Clustering\n"
     ]
    },
    {
     "name": "stderr",
     "output_type": "stream",
     "text": [
      "c:\\Users\\erik_\\miniconda3\\Lib\\site-packages\\sklearn_extra\\cluster\\_k_medoids.py:297: ConvergenceWarning: Maximum number of iteration reached before convergence. Consider increasing max_iter to improve the fit.\n",
      "  warnings.warn(\n"
     ]
    },
    {
     "name": "stdout",
     "output_type": "stream",
     "text": [
      "Variable             LoadLevel  Month  Day       Demand  Hydro  Solar    Wind  \\\n",
      "0         01-01 00:00:00+01:00      1    1  1083.521771   25.2   0.02  2852.8   \n",
      "1         01-01 01:00:00+01:00      1    1  1084.297378   22.8   0.02  2851.2   \n",
      "2         01-01 02:00:00+01:00      1    1  1101.748516   22.8   0.02  2833.6   \n",
      "3         01-01 03:00:00+01:00      1    1  1139.753216   25.2   0.02  2842.8   \n",
      "4         01-01 04:00:00+01:00      1    1  1253.767318   22.8   0.02  2805.6   \n",
      "...                        ...    ...  ...          ...    ...    ...     ...   \n",
      "8731      12-30 19:00:00+01:00     12  364  1374.374073  232.2   0.02  2248.0   \n",
      "8732      12-30 20:00:00+01:00     12  364  1338.308387  235.2   0.02  2568.0   \n",
      "8733      12-30 21:00:00+01:00     12  364  1252.216106  147.0   0.02  2622.8   \n",
      "8734      12-30 22:00:00+01:00     12  364  1147.897081   96.0   0.02  2669.2   \n",
      "8735      12-30 23:00:00+01:00     12  364  1090.890030   76.2   0.02  2687.2   \n",
      "\n",
      "Variable  Segment K-medoids PCA  \n",
      "0                            92  \n",
      "1                            92  \n",
      "2                            92  \n",
      "3                            92  \n",
      "4                            92  \n",
      "...                         ...  \n",
      "8731                         65  \n",
      "8732                         65  \n",
      "8733                         65  \n",
      "8734                         85  \n",
      "8735                         85  \n",
      "\n",
      "[8736 rows x 8 columns]\n",
      "End of the process...\n"
     ]
    }
   ],
   "source": [
    "#%% Clustering method\n",
    "print(\"Clustering\")\n",
    "if cluster_method == 0:\n",
    "    KMeansMethod(opt_cluster, Y_sklearn, _path_0, _path_1, CaseName_Base, CaseName_ByStages, table, ddf_1, clustering_type)\n",
    "elif cluster_method == 1:\n",
    "    results = KMedoidsMethod(opt_cluster, Y_sklearn, _path_0, _path_1, CaseName_Base, CaseName_ByStages, table, ddf_1, clustering_type)\n",
    "print('End of the process...')"
   ]
  }
 ],
 "metadata": {
  "kernelspec": {
   "display_name": "base",
   "language": "python",
   "name": "python3"
  },
  "language_info": {
   "codemirror_mode": {
    "name": "ipython",
    "version": 3
   },
   "file_extension": ".py",
   "mimetype": "text/x-python",
   "name": "python",
   "nbconvert_exporter": "python",
   "pygments_lexer": "ipython3",
   "version": "3.11.4"
  },
  "orig_nbformat": 4
 },
 "nbformat": 4,
 "nbformat_minor": 2
}
