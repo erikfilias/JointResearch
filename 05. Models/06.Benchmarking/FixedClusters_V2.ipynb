{
 "cells": [
  {
   "cell_type": "code",
   "execution_count": 13,
   "id": "cb45c22c",
   "metadata": {},
   "outputs": [],
   "source": [
    "import os\n",
    "import pandas as pd\n",
    "import seaborn as sns\n",
    "import matplotlib.pyplot as plt"
   ]
  },
  {
   "cell_type": "code",
   "execution_count": 14,
   "id": "52bcea3e",
   "metadata": {},
   "outputs": [],
   "source": [
    "CaseName_Base = 'IEEE118'\n",
    "CaseName_ByStages = CaseName_Base + '_ByStages_nc'\n",
    "\n",
    "\n",
    "Folder_A = 'A.The_full_year_MILP'\n",
    "Folder_D = 'D.Representative_days_based_on_RES_and_Demand'\n",
    "# Folder_E = 'E.Representative_days_based_on_Line_Benefits_OptModel'\n",
    "# Folder_F = 'F.Representative_days_based_on_Line_Benefit_NN_OC_fy_1'\n",
    "# Folder_G = 'G.Representative_days_based_on_Line_Benefit_NN_OC_fy_2'\n",
    "# Folder_H = 'H.Representative_days_based_on_Line_Benefit_NN_OC_fy_3'\n",
    "# Folder_I = 'I.Representative_days_based_on_Line_Benefit_NN_OC_fy_4'\n",
    "\n",
    "DirName  = os.getcwd()\n",
    "_path_0 = os.path.join(DirName, CaseName_Base)\n",
    "# category_dict = {Folder_A: \"FYMILP\",Folder_D: \"R&D\",Folder_E: \"OPT_LB\",Folder_F: \"NN_OPCOST\",Folder_G: \"NN_LB\",}\n",
    "category_dict = {Folder_A: \"FYMILP\",Folder_D: \"R&D\"}\n",
    "colors_dict = { \"FYMILP\": \"Blue\",\"R&D\": \"Red\",\"OPT_LB\": \"Black\",\"NN_OPCOST\": \"Orange\" ,Folder_G: \"Green\"}"
   ]
  },
  {
   "cell_type": "code",
   "execution_count": 15,
   "id": "58715ce3",
   "metadata": {},
   "outputs": [],
   "source": [
    "def LoadingData(dir, folder,result, case, ncluster, cm):\n",
    "    if folder == 'A.The_full_year_MILP': \n",
    "        df = pd.read_csv(os.path.join(dir, folder, case, '3.Out', f'oT_Result_{result}_'+case+'.csv'), index_col=[0,1])\n",
    "    else: \n",
    "        df = pd.read_csv(os.path.join(dir, folder, case+'_ByStages_nc'+str(ncluster), '3.Out', f'oT_Result_{result}_'+case+ '_ByStages_nc'+str(ncluster)+'.csv'), index_col=[0,1])\n",
    "\n",
    "    df['CaseName'] = folder + ' - ' + case + str(ncluster)\n",
    "    df['Clustering method'] = cm\n",
    "#     df['Category2'] = cat2\n",
    "#     df['Category3'] = cat3\n",
    "    df['Number of clusters'] = ncluster\n",
    "    df = df.reset_index()\n",
    "#df = df.reset_index().set_index(['CaseName', 'Category1', 'Category2', 'Category3', 'Category4'])\n",
    "    # df = df.set_index('CaseName', append=True)\n",
    "    return df"
   ]
  },
  {
   "cell_type": "code",
   "execution_count": 16,
   "id": "8d8e0be9",
   "metadata": {},
   "outputs": [
    {
     "ename": "FileNotFoundError",
     "evalue": "[Errno 2] No such file or directory: 'c:\\\\Users\\\\ealvarezq\\\\Documents\\\\GitHub\\\\Comillas\\\\Models\\\\JointResearch\\\\05. Models\\\\06.Benchmarking\\\\E.Representative_days_based_on_Line_Benefits_OptModel\\\\IEEE118_ByStages_nc10\\\\3.Out\\\\oT_Result_CostSummary_IEEE118_ByStages_nc10.csv'",
     "output_type": "error",
     "traceback": [
      "\u001b[1;31m---------------------------------------------------------------------------\u001b[0m",
      "\u001b[1;31mFileNotFoundError\u001b[0m                         Traceback (most recent call last)",
      "\u001b[1;32mc:\\Users\\ealvarezq\\Documents\\GitHub\\Comillas\\Models\\JointResearch\\05. Models\\06.Benchmarking\\FixedClusters_V2.ipynb Cell 4\u001b[0m line \u001b[0;36m1\n\u001b[0;32m     <a href='vscode-notebook-cell:/c%3A/Users/ealvarezq/Documents/GitHub/Comillas/Models/JointResearch/05.%20Models/06.Benchmarking/FixedClusters_V2.ipynb#W3sZmlsZQ%3D%3D?line=11'>12</a>\u001b[0m results_dfs[result][folder] \u001b[39m=\u001b[39m \u001b[39mdict\u001b[39m()\n\u001b[0;32m     <a href='vscode-notebook-cell:/c%3A/Users/ealvarezq/Documents/GitHub/Comillas/Models/JointResearch/05.%20Models/06.Benchmarking/FixedClusters_V2.ipynb#W3sZmlsZQ%3D%3D?line=12'>13</a>\u001b[0m \u001b[39mfor\u001b[39;00m nb_clusters \u001b[39min\u001b[39;00m nbs_clusters:\n\u001b[1;32m---> <a href='vscode-notebook-cell:/c%3A/Users/ealvarezq/Documents/GitHub/Comillas/Models/JointResearch/05.%20Models/06.Benchmarking/FixedClusters_V2.ipynb#W3sZmlsZQ%3D%3D?line=13'>14</a>\u001b[0m     results_dfs[result][folder][nb_clusters] \u001b[39m=\u001b[39m LoadingData(DirName, folder,result, CaseName_Base, nb_clusters, category_dict[folder])\n",
      "\u001b[1;32mc:\\Users\\ealvarezq\\Documents\\GitHub\\Comillas\\Models\\JointResearch\\05. Models\\06.Benchmarking\\FixedClusters_V2.ipynb Cell 4\u001b[0m line \u001b[0;36m5\n\u001b[0;32m      <a href='vscode-notebook-cell:/c%3A/Users/ealvarezq/Documents/GitHub/Comillas/Models/JointResearch/05.%20Models/06.Benchmarking/FixedClusters_V2.ipynb#W3sZmlsZQ%3D%3D?line=2'>3</a>\u001b[0m     df \u001b[39m=\u001b[39m pd\u001b[39m.\u001b[39mread_csv(os\u001b[39m.\u001b[39mpath\u001b[39m.\u001b[39mjoin(\u001b[39mdir\u001b[39m, folder, case, \u001b[39m'\u001b[39m\u001b[39m3.Out\u001b[39m\u001b[39m'\u001b[39m, \u001b[39mf\u001b[39m\u001b[39m'\u001b[39m\u001b[39moT_Result_\u001b[39m\u001b[39m{\u001b[39;00mresult\u001b[39m}\u001b[39;00m\u001b[39m_\u001b[39m\u001b[39m'\u001b[39m\u001b[39m+\u001b[39mcase\u001b[39m+\u001b[39m\u001b[39m'\u001b[39m\u001b[39m.csv\u001b[39m\u001b[39m'\u001b[39m), index_col\u001b[39m=\u001b[39m[\u001b[39m0\u001b[39m,\u001b[39m1\u001b[39m])\n\u001b[0;32m      <a href='vscode-notebook-cell:/c%3A/Users/ealvarezq/Documents/GitHub/Comillas/Models/JointResearch/05.%20Models/06.Benchmarking/FixedClusters_V2.ipynb#W3sZmlsZQ%3D%3D?line=3'>4</a>\u001b[0m \u001b[39melse\u001b[39;00m: \n\u001b[1;32m----> <a href='vscode-notebook-cell:/c%3A/Users/ealvarezq/Documents/GitHub/Comillas/Models/JointResearch/05.%20Models/06.Benchmarking/FixedClusters_V2.ipynb#W3sZmlsZQ%3D%3D?line=4'>5</a>\u001b[0m     df \u001b[39m=\u001b[39m pd\u001b[39m.\u001b[39;49mread_csv(os\u001b[39m.\u001b[39;49mpath\u001b[39m.\u001b[39;49mjoin(\u001b[39mdir\u001b[39;49m, folder, case\u001b[39m+\u001b[39;49m\u001b[39m'\u001b[39;49m\u001b[39m_ByStages_nc\u001b[39;49m\u001b[39m'\u001b[39;49m\u001b[39m+\u001b[39;49m\u001b[39mstr\u001b[39;49m(ncluster), \u001b[39m'\u001b[39;49m\u001b[39m3.Out\u001b[39;49m\u001b[39m'\u001b[39;49m, \u001b[39mf\u001b[39;49m\u001b[39m'\u001b[39;49m\u001b[39moT_Result_\u001b[39;49m\u001b[39m{\u001b[39;49;00mresult\u001b[39m}\u001b[39;49;00m\u001b[39m_\u001b[39;49m\u001b[39m'\u001b[39;49m\u001b[39m+\u001b[39;49mcase\u001b[39m+\u001b[39;49m \u001b[39m'\u001b[39;49m\u001b[39m_ByStages_nc\u001b[39;49m\u001b[39m'\u001b[39;49m\u001b[39m+\u001b[39;49m\u001b[39mstr\u001b[39;49m(ncluster)\u001b[39m+\u001b[39;49m\u001b[39m'\u001b[39;49m\u001b[39m.csv\u001b[39;49m\u001b[39m'\u001b[39;49m), index_col\u001b[39m=\u001b[39;49m[\u001b[39m0\u001b[39;49m,\u001b[39m1\u001b[39;49m])\n\u001b[0;32m      <a href='vscode-notebook-cell:/c%3A/Users/ealvarezq/Documents/GitHub/Comillas/Models/JointResearch/05.%20Models/06.Benchmarking/FixedClusters_V2.ipynb#W3sZmlsZQ%3D%3D?line=6'>7</a>\u001b[0m df[\u001b[39m'\u001b[39m\u001b[39mCaseName\u001b[39m\u001b[39m'\u001b[39m] \u001b[39m=\u001b[39m folder \u001b[39m+\u001b[39m \u001b[39m'\u001b[39m\u001b[39m - \u001b[39m\u001b[39m'\u001b[39m \u001b[39m+\u001b[39m case \u001b[39m+\u001b[39m \u001b[39mstr\u001b[39m(ncluster)\n\u001b[0;32m      <a href='vscode-notebook-cell:/c%3A/Users/ealvarezq/Documents/GitHub/Comillas/Models/JointResearch/05.%20Models/06.Benchmarking/FixedClusters_V2.ipynb#W3sZmlsZQ%3D%3D?line=7'>8</a>\u001b[0m df[\u001b[39m'\u001b[39m\u001b[39mClustering method\u001b[39m\u001b[39m'\u001b[39m] \u001b[39m=\u001b[39m cm\n",
      "File \u001b[1;32mc:\\Users\\ealvarezq\\Miniconda3\\lib\\site-packages\\pandas\\io\\parsers\\readers.py:912\u001b[0m, in \u001b[0;36mread_csv\u001b[1;34m(filepath_or_buffer, sep, delimiter, header, names, index_col, usecols, dtype, engine, converters, true_values, false_values, skipinitialspace, skiprows, skipfooter, nrows, na_values, keep_default_na, na_filter, verbose, skip_blank_lines, parse_dates, infer_datetime_format, keep_date_col, date_parser, date_format, dayfirst, cache_dates, iterator, chunksize, compression, thousands, decimal, lineterminator, quotechar, quoting, doublequote, escapechar, comment, encoding, encoding_errors, dialect, on_bad_lines, delim_whitespace, low_memory, memory_map, float_precision, storage_options, dtype_backend)\u001b[0m\n\u001b[0;32m    899\u001b[0m kwds_defaults \u001b[39m=\u001b[39m _refine_defaults_read(\n\u001b[0;32m    900\u001b[0m     dialect,\n\u001b[0;32m    901\u001b[0m     delimiter,\n\u001b[1;32m   (...)\u001b[0m\n\u001b[0;32m    908\u001b[0m     dtype_backend\u001b[39m=\u001b[39mdtype_backend,\n\u001b[0;32m    909\u001b[0m )\n\u001b[0;32m    910\u001b[0m kwds\u001b[39m.\u001b[39mupdate(kwds_defaults)\n\u001b[1;32m--> 912\u001b[0m \u001b[39mreturn\u001b[39;00m _read(filepath_or_buffer, kwds)\n",
      "File \u001b[1;32mc:\\Users\\ealvarezq\\Miniconda3\\lib\\site-packages\\pandas\\io\\parsers\\readers.py:577\u001b[0m, in \u001b[0;36m_read\u001b[1;34m(filepath_or_buffer, kwds)\u001b[0m\n\u001b[0;32m    574\u001b[0m _validate_names(kwds\u001b[39m.\u001b[39mget(\u001b[39m\"\u001b[39m\u001b[39mnames\u001b[39m\u001b[39m\"\u001b[39m, \u001b[39mNone\u001b[39;00m))\n\u001b[0;32m    576\u001b[0m \u001b[39m# Create the parser.\u001b[39;00m\n\u001b[1;32m--> 577\u001b[0m parser \u001b[39m=\u001b[39m TextFileReader(filepath_or_buffer, \u001b[39m*\u001b[39m\u001b[39m*\u001b[39mkwds)\n\u001b[0;32m    579\u001b[0m \u001b[39mif\u001b[39;00m chunksize \u001b[39mor\u001b[39;00m iterator:\n\u001b[0;32m    580\u001b[0m     \u001b[39mreturn\u001b[39;00m parser\n",
      "File \u001b[1;32mc:\\Users\\ealvarezq\\Miniconda3\\lib\\site-packages\\pandas\\io\\parsers\\readers.py:1407\u001b[0m, in \u001b[0;36mTextFileReader.__init__\u001b[1;34m(self, f, engine, **kwds)\u001b[0m\n\u001b[0;32m   1404\u001b[0m     \u001b[39mself\u001b[39m\u001b[39m.\u001b[39moptions[\u001b[39m\"\u001b[39m\u001b[39mhas_index_names\u001b[39m\u001b[39m\"\u001b[39m] \u001b[39m=\u001b[39m kwds[\u001b[39m\"\u001b[39m\u001b[39mhas_index_names\u001b[39m\u001b[39m\"\u001b[39m]\n\u001b[0;32m   1406\u001b[0m \u001b[39mself\u001b[39m\u001b[39m.\u001b[39mhandles: IOHandles \u001b[39m|\u001b[39m \u001b[39mNone\u001b[39;00m \u001b[39m=\u001b[39m \u001b[39mNone\u001b[39;00m\n\u001b[1;32m-> 1407\u001b[0m \u001b[39mself\u001b[39m\u001b[39m.\u001b[39m_engine \u001b[39m=\u001b[39m \u001b[39mself\u001b[39;49m\u001b[39m.\u001b[39;49m_make_engine(f, \u001b[39mself\u001b[39;49m\u001b[39m.\u001b[39;49mengine)\n",
      "File \u001b[1;32mc:\\Users\\ealvarezq\\Miniconda3\\lib\\site-packages\\pandas\\io\\parsers\\readers.py:1661\u001b[0m, in \u001b[0;36mTextFileReader._make_engine\u001b[1;34m(self, f, engine)\u001b[0m\n\u001b[0;32m   1659\u001b[0m     \u001b[39mif\u001b[39;00m \u001b[39m\"\u001b[39m\u001b[39mb\u001b[39m\u001b[39m\"\u001b[39m \u001b[39mnot\u001b[39;00m \u001b[39min\u001b[39;00m mode:\n\u001b[0;32m   1660\u001b[0m         mode \u001b[39m+\u001b[39m\u001b[39m=\u001b[39m \u001b[39m\"\u001b[39m\u001b[39mb\u001b[39m\u001b[39m\"\u001b[39m\n\u001b[1;32m-> 1661\u001b[0m \u001b[39mself\u001b[39m\u001b[39m.\u001b[39mhandles \u001b[39m=\u001b[39m get_handle(\n\u001b[0;32m   1662\u001b[0m     f,\n\u001b[0;32m   1663\u001b[0m     mode,\n\u001b[0;32m   1664\u001b[0m     encoding\u001b[39m=\u001b[39;49m\u001b[39mself\u001b[39;49m\u001b[39m.\u001b[39;49moptions\u001b[39m.\u001b[39;49mget(\u001b[39m\"\u001b[39;49m\u001b[39mencoding\u001b[39;49m\u001b[39m\"\u001b[39;49m, \u001b[39mNone\u001b[39;49;00m),\n\u001b[0;32m   1665\u001b[0m     compression\u001b[39m=\u001b[39;49m\u001b[39mself\u001b[39;49m\u001b[39m.\u001b[39;49moptions\u001b[39m.\u001b[39;49mget(\u001b[39m\"\u001b[39;49m\u001b[39mcompression\u001b[39;49m\u001b[39m\"\u001b[39;49m, \u001b[39mNone\u001b[39;49;00m),\n\u001b[0;32m   1666\u001b[0m     memory_map\u001b[39m=\u001b[39;49m\u001b[39mself\u001b[39;49m\u001b[39m.\u001b[39;49moptions\u001b[39m.\u001b[39;49mget(\u001b[39m\"\u001b[39;49m\u001b[39mmemory_map\u001b[39;49m\u001b[39m\"\u001b[39;49m, \u001b[39mFalse\u001b[39;49;00m),\n\u001b[0;32m   1667\u001b[0m     is_text\u001b[39m=\u001b[39;49mis_text,\n\u001b[0;32m   1668\u001b[0m     errors\u001b[39m=\u001b[39;49m\u001b[39mself\u001b[39;49m\u001b[39m.\u001b[39;49moptions\u001b[39m.\u001b[39;49mget(\u001b[39m\"\u001b[39;49m\u001b[39mencoding_errors\u001b[39;49m\u001b[39m\"\u001b[39;49m, \u001b[39m\"\u001b[39;49m\u001b[39mstrict\u001b[39;49m\u001b[39m\"\u001b[39;49m),\n\u001b[0;32m   1669\u001b[0m     storage_options\u001b[39m=\u001b[39;49m\u001b[39mself\u001b[39;49m\u001b[39m.\u001b[39;49moptions\u001b[39m.\u001b[39;49mget(\u001b[39m\"\u001b[39;49m\u001b[39mstorage_options\u001b[39;49m\u001b[39m\"\u001b[39;49m, \u001b[39mNone\u001b[39;49;00m),\n\u001b[0;32m   1670\u001b[0m )\n\u001b[0;32m   1671\u001b[0m \u001b[39massert\u001b[39;00m \u001b[39mself\u001b[39m\u001b[39m.\u001b[39mhandles \u001b[39mis\u001b[39;00m \u001b[39mnot\u001b[39;00m \u001b[39mNone\u001b[39;00m\n\u001b[0;32m   1672\u001b[0m f \u001b[39m=\u001b[39m \u001b[39mself\u001b[39m\u001b[39m.\u001b[39mhandles\u001b[39m.\u001b[39mhandle\n",
      "File \u001b[1;32mc:\\Users\\ealvarezq\\Miniconda3\\lib\\site-packages\\pandas\\io\\common.py:859\u001b[0m, in \u001b[0;36mget_handle\u001b[1;34m(path_or_buf, mode, encoding, compression, memory_map, is_text, errors, storage_options)\u001b[0m\n\u001b[0;32m    854\u001b[0m \u001b[39melif\u001b[39;00m \u001b[39misinstance\u001b[39m(handle, \u001b[39mstr\u001b[39m):\n\u001b[0;32m    855\u001b[0m     \u001b[39m# Check whether the filename is to be opened in binary mode.\u001b[39;00m\n\u001b[0;32m    856\u001b[0m     \u001b[39m# Binary mode does not support 'encoding' and 'newline'.\u001b[39;00m\n\u001b[0;32m    857\u001b[0m     \u001b[39mif\u001b[39;00m ioargs\u001b[39m.\u001b[39mencoding \u001b[39mand\u001b[39;00m \u001b[39m\"\u001b[39m\u001b[39mb\u001b[39m\u001b[39m\"\u001b[39m \u001b[39mnot\u001b[39;00m \u001b[39min\u001b[39;00m ioargs\u001b[39m.\u001b[39mmode:\n\u001b[0;32m    858\u001b[0m         \u001b[39m# Encoding\u001b[39;00m\n\u001b[1;32m--> 859\u001b[0m         handle \u001b[39m=\u001b[39m \u001b[39mopen\u001b[39;49m(\n\u001b[0;32m    860\u001b[0m             handle,\n\u001b[0;32m    861\u001b[0m             ioargs\u001b[39m.\u001b[39;49mmode,\n\u001b[0;32m    862\u001b[0m             encoding\u001b[39m=\u001b[39;49mioargs\u001b[39m.\u001b[39;49mencoding,\n\u001b[0;32m    863\u001b[0m             errors\u001b[39m=\u001b[39;49merrors,\n\u001b[0;32m    864\u001b[0m             newline\u001b[39m=\u001b[39;49m\u001b[39m\"\u001b[39;49m\u001b[39m\"\u001b[39;49m,\n\u001b[0;32m    865\u001b[0m         )\n\u001b[0;32m    866\u001b[0m     \u001b[39melse\u001b[39;00m:\n\u001b[0;32m    867\u001b[0m         \u001b[39m# Binary mode\u001b[39;00m\n\u001b[0;32m    868\u001b[0m         handle \u001b[39m=\u001b[39m \u001b[39mopen\u001b[39m(handle, ioargs\u001b[39m.\u001b[39mmode)\n",
      "\u001b[1;31mFileNotFoundError\u001b[0m: [Errno 2] No such file or directory: 'c:\\\\Users\\\\ealvarezq\\\\Documents\\\\GitHub\\\\Comillas\\\\Models\\\\JointResearch\\\\05. Models\\\\06.Benchmarking\\\\E.Representative_days_based_on_Line_Benefits_OptModel\\\\IEEE118_ByStages_nc10\\\\3.Out\\\\oT_Result_CostSummary_IEEE118_ByStages_nc10.csv'"
     ]
    }
   ],
   "source": [
    "result = \"CostSummary\"\n",
    "nbs_clusters = [(i+1)*10 for i in range(10)] + [150, 200, 250]\n",
    "#nbs_clusters = [(i+1)*10 for i in range(2)]\n",
    "folders = [Folder_A,Folder_D,Folder_E]#,Folder_F,Folder_G]\n",
    "#folders = [Folder_A,Folder_D]\n",
    "results = [\"CostSummary\", \"NetworkInvestment\"]\n",
    "\n",
    "results_dfs = dict()\n",
    "for result in results :\n",
    "    results_dfs[result] = dict()\n",
    "    for folder in folders: \n",
    "        results_dfs[result][folder] = dict()\n",
    "        for nb_clusters in nbs_clusters:\n",
    "            results_dfs[result][folder][nb_clusters] = LoadingData(DirName, folder,result, CaseName_Base, nb_clusters, category_dict[folder])\n"
   ]
  },
  {
   "cell_type": "code",
   "execution_count": null,
   "id": "2722726e",
   "metadata": {},
   "outputs": [
    {
     "ename": "",
     "evalue": "",
     "output_type": "error",
     "traceback": [
      "\u001b[1;31mFailed to start the Kernel. \n",
      "\u001b[1;31mUnable to start Kernel 'Miniconda3 (Python 3.9.17)' due to a timeout waiting for the ports to get used. \n",
      "\u001b[1;31mView Jupyter <a href='command:jupyter.viewOutput'>log</a> for further details."
     ]
    }
   ],
   "source": [
    "#Concatenate results dataframes \n",
    "results_dfs_concat = dict()\n",
    "for result in results:\n",
    "    results_dfs_concat[result]=   pd.concat([results_dfs[result][folder][nb_clusters] for nb_clusters in nbs_clusters for folder in folders])"
   ]
  },
  {
   "cell_type": "code",
   "execution_count": null,
   "id": "1ce6f20e",
   "metadata": {},
   "outputs": [
    {
     "ename": "",
     "evalue": "",
     "output_type": "error",
     "traceback": [
      "\u001b[1;31mFailed to start the Kernel. \n",
      "\u001b[1;31mUnable to start Kernel 'Miniconda3 (Python 3.9.17)' due to a timeout waiting for the ports to get used. \n",
      "\u001b[1;31mView Jupyter <a href='command:jupyter.viewOutput'>log</a> for further details."
     ]
    }
   ],
   "source": [
    "#Pivot the system cost dataframe and rename some columns\n",
    "results_dfs_pivot = results_dfs_concat[\"CostSummary\"].pivot_table(values = \"MEUR\",columns = \"Cost/Payment\",index = [\"Clustering method\", \"Number of clusters\"]).reset_index().set_index([\"Clustering method\", \"Number of clusters\"])\n",
    "results_dfs_pivot.rename({\"Total          System Cost\" : \"TSC\",'Network    Investment Cost' : \"NIC\" },axis = 1,inplace=True)"
   ]
  },
  {
   "cell_type": "code",
   "execution_count": null,
   "id": "34cda3fe",
   "metadata": {},
   "outputs": [
    {
     "ename": "",
     "evalue": "",
     "output_type": "error",
     "traceback": [
      "\u001b[1;31mFailed to start the Kernel. \n",
      "\u001b[1;31mUnable to start Kernel 'Miniconda3 (Python 3.9.17)' due to a timeout waiting for the ports to get used. \n",
      "\u001b[1;31mView Jupyter <a href='command:jupyter.viewOutput'>log</a> for further details."
     ]
    }
   ],
   "source": [
    "#Calculate difference with respect to FYMILP\n",
    "diff_cols = [\"TSC\",\"NIC\"]\n",
    "#results_dfs_pivot.loc[\"NN_LL\",\"Diff TSC\"] = results_dfs_pivot.loc[\"FYMILP\",diff_col] - results_dfs_pivot.loc[\"NN_LL\",diff_col]\n",
    "for diff_col in diff_cols:\n",
    "    results_dfs_pivot[f'Diff_{diff_col}'] = results_dfs_pivot[diff_col] - results_dfs_pivot.loc['FYMILP', diff_col]"
   ]
  },
  {
   "cell_type": "code",
   "execution_count": null,
   "id": "bf02f234",
   "metadata": {},
   "outputs": [
    {
     "ename": "",
     "evalue": "",
     "output_type": "error",
     "traceback": [
      "\u001b[1;31mFailed to start the Kernel. \n",
      "\u001b[1;31mUnable to start Kernel 'Miniconda3 (Python 3.9.17)' due to a timeout waiting for the ports to get used. \n",
      "\u001b[1;31mView Jupyter <a href='command:jupyter.viewOutput'>log</a> for further details."
     ]
    }
   ],
   "source": [
    "# Add investment difference as column to existing pivot dataframe \n",
    "inv_diffs = pd.DataFrame()\n",
    "#inv_diffs[\"Clustering method\"] = results_dfs_concat[\"NetworkInvestment\"][\"Clustering method\"]\n",
    "inv_diffs[\"pu\"] = results_dfs_concat[\"NetworkInvestment\"].reset_index().set_index([\"Clustering method\",\"InitialNode\",\"FinalNode\",\"Circuit\", \"Number of clusters\"])[\"p.u.\"] -results_dfs_concat[\"NetworkInvestment\"].reset_index().set_index([\"Clustering method\",\"InitialNode\",\"FinalNode\",\"Circuit\",\"Number of clusters\"]).loc[\"FYMILP\"][\"p.u.\"]\n",
    "inv_diffs[\"pu_abs\"] = inv_diffs[\"pu\"].abs()\n",
    "results_dfs_pivot[\"Investment difference\"] = inv_diffs.groupby([\"Clustering method\", \"Number of clusters\"]).sum()[\"pu\"]\n",
    "results_dfs_pivot[\"Investment difference abs\"] = inv_diffs.groupby([\"Clustering method\", \"Number of clusters\"]).sum()[\"pu_abs\"]"
   ]
  },
  {
   "cell_type": "code",
   "execution_count": null,
   "id": "3d3cc2bf",
   "metadata": {},
   "outputs": [
    {
     "ename": "",
     "evalue": "",
     "output_type": "error",
     "traceback": [
      "\u001b[1;31mFailed to start the Kernel. \n",
      "\u001b[1;31mUnable to start Kernel 'Miniconda3 (Python 3.9.17)' due to a timeout waiting for the ports to get used. \n",
      "\u001b[1;31mView Jupyter <a href='command:jupyter.viewOutput'>log</a> for further details."
     ]
    }
   ],
   "source": [
    "#Regular line plots\n",
    "y = \"NIC\"\n",
    "#y = \"TSC\"\n",
    "#y= 'Investment difference abs'\n",
    "#y = 'Difference_from_FYMILP'\n",
    "x = \"Number of clusters\"\n",
    "sns.lineplot(data = results_dfs_pivot,x = x, y = y,hue = \"Clustering method\",marker = \"o\")\n",
    "plt.savefig(f\"Z.Figures/lineplot_{y}_{x}_{CaseName_Base}_highnb\")"
   ]
  },
  {
   "cell_type": "code",
   "execution_count": null,
   "id": "107c2de2",
   "metadata": {},
   "outputs": [
    {
     "ename": "",
     "evalue": "",
     "output_type": "error",
     "traceback": [
      "\u001b[1;31mFailed to start the Kernel. \n",
      "\u001b[1;31mUnable to start Kernel 'Miniconda3 (Python 3.9.17)' due to a timeout waiting for the ports to get used. \n",
      "\u001b[1;31mView Jupyter <a href='command:jupyter.viewOutput'>log</a> for further details."
     ]
    }
   ],
   "source": [
    "#Regular line plots\n",
    "y = \"NIC\"\n",
    "#y = \"TSC\"\n",
    "#y= 'Investment difference abs'\n",
    "#y = 'Difference_from_FYMILP'\n",
    "x = \"Number of clusters\"\n",
    "sns.lineplot(data = results_dfs_pivot,x = x, y = y,hue = \"Clustering method\",marker = \"o\")"
   ]
  },
  {
   "cell_type": "code",
   "execution_count": null,
   "id": "11fc062b",
   "metadata": {},
   "outputs": [
    {
     "ename": "",
     "evalue": "",
     "output_type": "error",
     "traceback": [
      "\u001b[1;31mFailed to start the Kernel. \n",
      "\u001b[1;31mUnable to start Kernel 'Miniconda3 (Python 3.9.17)' due to a timeout waiting for the ports to get used. \n",
      "\u001b[1;31mView Jupyter <a href='command:jupyter.viewOutput'>log</a> for further details."
     ]
    }
   ],
   "source": [
    "#Scatter plot with NIC vs TSC \n",
    "reindexed = results_dfs_pivot.reset_index()\n",
    "y = \"Diff_TSC\"\n",
    "x= 'Diff_NIC'\n",
    "\n",
    "sns.scatterplot(data = reindexed,x = x, y = y,hue = \"Number of clusters\",style = \"Clustering method\" )"
   ]
  },
  {
   "cell_type": "code",
   "execution_count": null,
   "id": "08093939",
   "metadata": {},
   "outputs": [
    {
     "ename": "",
     "evalue": "",
     "output_type": "error",
     "traceback": [
      "\u001b[1;31mFailed to start the Kernel. \n",
      "\u001b[1;31mUnable to start Kernel 'Miniconda3 (Python 3.9.17)' due to a timeout waiting for the ports to get used. \n",
      "\u001b[1;31mView Jupyter <a href='command:jupyter.viewOutput'>log</a> for further details."
     ]
    }
   ],
   "source": [
    "y = \n",
    "y.to_numpympy()"
   ]
  },
  {
   "cell_type": "code",
   "execution_count": null,
   "id": "f4ce47e8",
   "metadata": {},
   "outputs": [
    {
     "ename": "",
     "evalue": "",
     "output_type": "error",
     "traceback": [
      "\u001b[1;31mFailed to start the Kernel. \n",
      "\u001b[1;31mUnable to start Kernel 'Miniconda3 (Python 3.9.17)' due to a timeout waiting for the ports to get used. \n",
      "\u001b[1;31mView Jupyter <a href='command:jupyter.viewOutput'>log</a> for further details."
     ]
    }
   ],
   "source": [
    "from matplotlib import pyplot as plt\n",
    "from mpl_toolkits.mplot3d import Axes3D\n",
    "import numpy as np\n",
    "n = 200\n",
    "x = reindexed[\"NIC\"].to_numpy()\n",
    "y = reindexed[\"TSC\"].to_numpy()\n",
    "\n",
    "z = reindexed[\"Diff_NIC\"].to_numpy()\n",
    "y = reindexed[\"Diff_TSC\"].to_numpy()\n",
    "x = reindexed[\"Number of clusters\"].to_numpy()\n",
    "c= reindexed[\"Clustering method\"].to_numpy()\n",
    "\n",
    "unique_categories = np.unique(c)\n",
    "num_categories = len(unique_categories)\n",
    "\n",
    "# Mapping each category to a unique color using a colormap\n",
    "colors = plt.cm.tab10(np.linspace(0, 1, num_categories))\n",
    "\n",
    "# Creating a dictionary to map category to color\n",
    "category_to_color = {category: color for category, color in zip(unique_categories, colors)}\n",
    "\n",
    "# Mapping the 'c' array to colors\n",
    "point_colors = [category_to_color[category] for category in c]\n",
    "\n",
    "\n",
    "# axes instance\n",
    "fig = plt.figure(figsize=(6,6))\n",
    "ax = Axes3D(fig, auto_add_to_figure=False)\n",
    "fig.add_axes(ax)\n",
    "\n",
    "# plot\n",
    "sc = ax.scatter(x, y, z, s=40, c=point_colors, marker='o', alpha=1)\n",
    "ax.set_xlabel('NIC')\n",
    "ax.set_ylabel('TSC')\n",
    "ax.set_zlabel('Nb clust')\n",
    "\n",
    "legend_elements = [plt.Line2D([0], [0], marker='o', color='w', label=category, markerfacecolor=color, markersize=8) for category, color in category_to_color.items()]\n",
    "ax.legend(handles=legend_elements, title='Clustering Method', loc='upper right')\n"
   ]
  }
 ],
 "metadata": {
  "kernelspec": {
   "display_name": "Python 3 (ipykernel)",
   "language": "python",
   "name": "python3"
  },
  "language_info": {
   "codemirror_mode": {
    "name": "ipython",
    "version": 3
   },
   "file_extension": ".py",
   "mimetype": "text/x-python",
   "name": "python",
   "nbconvert_exporter": "python",
   "pygments_lexer": "ipython3",
   "version": "3.9.17"
  }
 },
 "nbformat": 4,
 "nbformat_minor": 5
}
