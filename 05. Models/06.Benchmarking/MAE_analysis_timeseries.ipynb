{
 "cells": [
  {
   "cell_type": "code",
   "execution_count": 1,
   "id": "ecc171e4",
   "metadata": {},
   "outputs": [],
   "source": [
    "import os\n",
    "import pandas as pd\n",
    "import seaborn as sns\n",
    "import matplotlib.pyplot as plt\n",
    "import numpy as np\n",
    "import predictor_of_investment_helper_methods as hm "
   ]
  },
  {
   "cell_type": "code",
   "execution_count": 143,
   "id": "7f166627",
   "metadata": {},
   "outputs": [],
   "source": [
    "def get_curts_FYMILP(case):\n",
    "    df_curts_FYMILP = pd.read_csv(f\"A.The_full_year_MILP/{case}/4.OutWoInv/oT_Result_RESCurtailment_{case}.csv\")\n",
    "    # Only considering existing lines:\n",
    "    #df_utils_existing = df_utils_FYMILP[df_utils_FYMILP[\"Circuit\"] == \"eac1\"]\n",
    "    \n",
    "    return df_curts_FYMILP\n",
    "\n",
    "def get_curts_CM(case,cm,nbc): \n",
    "    ts_CM_All_lines = pd.read_csv(f\"Y.FYTS_from_ByStages/{case}/{cm}/Curtailment_nc{nbc}_2.csv\",header = [0],index_col=0)\n",
    "    return ts_CM_All_lines"
   ]
  },
  {
   "cell_type": "code",
   "execution_count": 144,
   "id": "39a2fd36",
   "metadata": {},
   "outputs": [],
   "source": [
    "case = \"IEEE118_mod1\""
   ]
  },
  {
   "cell_type": "code",
   "execution_count": 145,
   "id": "da1c75a1",
   "metadata": {},
   "outputs": [],
   "source": [
    "curts_FYMILP = get_curts_FYMILP(case).pivot(values = \"MW\",index = \"LoadLevel\",columns = \"Unit\").sum(axis = 1)\n",
    "lu_FY = hm.get_utils_FYWOI(case).pivot(values = \"GWh\",index = \"LoadLevel\",columns = [\"InitialNode\",\"FinalNode\"])\n"
   ]
  },
  {
   "cell_type": "code",
   "execution_count": 146,
   "id": "f1ed864c",
   "metadata": {},
   "outputs": [],
   "source": [
    "cm = \"CHI\"\n",
    "nbc = 100\n",
    "frame_MAES = pd.DataFrame(columns = [\"cm\",\"nbc\",\"MAE_curt\"])\n",
    "for cm in [\"R&D\",\"OPC\",\"OPT_LB\",\"CHI\",\"HI\"]:  \n",
    "    #Curtailment \n",
    "    curts_cm = get_curts_CM(case,cm,100).sum(axis = 1)\n",
    "    MAE = curts_cm-curts_FYMILP\n",
    "    this_frame = pd.DataFrame({\"cm\":[cm],\"nbc\":[nbc],\"MAE_curt\": [np.mean(np.abs(MAE))]})\n",
    "    frame_MAES = pd.concat([frame_MAES,this_frame])\n",
    "    "
   ]
  },
  {
   "cell_type": "code",
   "execution_count": 147,
   "id": "72d8f11c",
   "metadata": {},
   "outputs": [
    {
     "data": {
      "text/html": [
       "<div>\n",
       "<style scoped>\n",
       "    .dataframe tbody tr th:only-of-type {\n",
       "        vertical-align: middle;\n",
       "    }\n",
       "\n",
       "    .dataframe tbody tr th {\n",
       "        vertical-align: top;\n",
       "    }\n",
       "\n",
       "    .dataframe thead th {\n",
       "        text-align: right;\n",
       "    }\n",
       "</style>\n",
       "<table border=\"1\" class=\"dataframe\">\n",
       "  <thead>\n",
       "    <tr style=\"text-align: right;\">\n",
       "      <th></th>\n",
       "      <th>cm</th>\n",
       "      <th>nbc</th>\n",
       "      <th>MAE_curt</th>\n",
       "    </tr>\n",
       "  </thead>\n",
       "  <tbody>\n",
       "    <tr>\n",
       "      <th>0</th>\n",
       "      <td>R&amp;D</td>\n",
       "      <td>100</td>\n",
       "      <td>1884.864740</td>\n",
       "    </tr>\n",
       "    <tr>\n",
       "      <th>0</th>\n",
       "      <td>OPC</td>\n",
       "      <td>100</td>\n",
       "      <td>4509.822849</td>\n",
       "    </tr>\n",
       "    <tr>\n",
       "      <th>0</th>\n",
       "      <td>OPT_LB</td>\n",
       "      <td>100</td>\n",
       "      <td>4432.511336</td>\n",
       "    </tr>\n",
       "    <tr>\n",
       "      <th>0</th>\n",
       "      <td>CHI</td>\n",
       "      <td>100</td>\n",
       "      <td>3046.302436</td>\n",
       "    </tr>\n",
       "    <tr>\n",
       "      <th>0</th>\n",
       "      <td>HI</td>\n",
       "      <td>100</td>\n",
       "      <td>3005.848562</td>\n",
       "    </tr>\n",
       "  </tbody>\n",
       "</table>\n",
       "</div>"
      ],
      "text/plain": [
       "       cm  nbc     MAE_curt\n",
       "0     R&D  100  1884.864740\n",
       "0     OPC  100  4509.822849\n",
       "0  OPT_LB  100  4432.511336\n",
       "0     CHI  100  3046.302436\n",
       "0      HI  100  3005.848562"
      ]
     },
     "execution_count": 147,
     "metadata": {},
     "output_type": "execute_result"
    }
   ],
   "source": [
    "frame_MAES"
   ]
  },
  {
   "cell_type": "markdown",
   "id": "35355b43",
   "metadata": {},
   "source": [
    "## Line utilization "
   ]
  },
  {
   "cell_type": "code",
   "execution_count": 148,
   "id": "ce9513c3",
   "metadata": {},
   "outputs": [],
   "source": [
    "case = \"RTS24_mod1\""
   ]
  },
  {
   "cell_type": "code",
   "execution_count": 149,
   "id": "693725c4",
   "metadata": {},
   "outputs": [],
   "source": [
    "lu_FY = hm.get_utils_FYWOI(case).pivot(values = \"GWh\",index = \"LoadLevel\",columns = [\"InitialNode\",\"FinalNode\"])"
   ]
  },
  {
   "cell_type": "code",
   "execution_count": 150,
   "id": "08e22e60",
   "metadata": {},
   "outputs": [],
   "source": [
    "lu_cm = hm.get_utils_cm(\"R&D\",100,case)"
   ]
  },
  {
   "cell_type": "code",
   "execution_count": 151,
   "id": "1b18c350",
   "metadata": {},
   "outputs": [
    {
     "data": {
      "text/plain": [
       "0.1176996713075296"
      ]
     },
     "execution_count": 151,
     "metadata": {},
     "output_type": "execute_result"
    }
   ],
   "source": [
    "np.mean(np.abs(lu_cm -lu_FY))"
   ]
  },
  {
   "cell_type": "code",
   "execution_count": 152,
   "id": "53cf1ac9",
   "metadata": {},
   "outputs": [],
   "source": [
    "arr_fy_all = np.zeros(lu_FY.shape[0]*lu_FY.shape[1])\n",
    "arr_fy_cm = np.zeros(lu_FY.shape[0]*lu_FY.shape[1])\n",
    "\n",
    "for i,col in enumerate(lu_FY.columns): \n",
    "    #print(col,lu_FY[col].to_numpy().shape,)\n",
    "    arr_fy_all[i*8736:(i+1)*8736] = lu_FY[col].to_numpy()\n",
    "    arr_fy_cm[i*8736:(i+1)*8736] = lu_cm[col].to_numpy()\n",
    "\n"
   ]
  },
  {
   "cell_type": "code",
   "execution_count": 153,
   "id": "06650426",
   "metadata": {},
   "outputs": [
    {
     "data": {
      "text/plain": [
       "0.1486627131942349"
      ]
     },
     "execution_count": 153,
     "metadata": {},
     "output_type": "execute_result"
    }
   ],
   "source": [
    "filter_ = arr_fy_all>=0.80\n",
    "np.mean(np.abs(arr_fy_all[filter_] -arr_fy_cm[filter_]))"
   ]
  },
  {
   "cell_type": "markdown",
   "id": "722de640",
   "metadata": {},
   "source": [
    "## Combined"
   ]
  },
  {
   "cell_type": "code",
   "execution_count": 88,
   "id": "85102839",
   "metadata": {},
   "outputs": [],
   "source": [
    "case = \"RTS24_mod1\"\n",
    "\n",
    "#curts_FYMILP = hm.get_curts_FYMILP(case).pivot(values = \"MW\",index = \"LoadLevel\",columns = \"Unit\").sum(axis = 1)\n",
    "curts_FYMILP = hm.get_curts_FYWOI(case).pivot(values = \"MW\",index = \"LoadLevel\",columns = \"Unit\").sum(axis = 1)\n",
    "\n",
    "lu_FY = hm.get_utils_FYWOI(case).pivot(values = \"GWh\",index = \"LoadLevel\",columns = [\"InitialNode\",\"FinalNode\"])\n",
    "net_dem_ph = hm.get_net_dem_FY(case)\n"
   ]
  },
  {
   "cell_type": "code",
   "execution_count": 89,
   "id": "c95cceb3",
   "metadata": {},
   "outputs": [],
   "source": [
    "cm = \"CHI\"\n",
    "nbc = 100\n",
    "frame_MAES = pd.DataFrame(columns = [\"cm\",\"nbc\",\"MAE_curt\",\"MAE_util\"])\n",
    "\n",
    "nbcs = [50,60,70,80,90,100,110,120,130,140,150]\n",
    "nbcs = [50,60,70,80,90,100,150,200,250,300,400]\n",
    "#nbcs = [40]\n",
    "for nbc in nbcs:\n",
    "    for cm in [\"R&D\",\"OPC\",\"OPT_LB\",\"CHI\",\"HI\"]:  \n",
    "\n",
    "        #Curtailment \n",
    "        #curts_cm = get_curts_CM(case,cm,nbc).sum(axis = 1)\n",
    "        curts_cm = hm.get_curts_cm(cm,nbc,case).sum(axis = 1)\n",
    "        MAE_curt = curts_cm-curts_FYMILP\n",
    "               \n",
    "\n",
    "\n",
    "        #line_util\n",
    "        lu_cm = hm.get_utils_cm(cm,nbc,case)\n",
    "        arr_fy_all = np.zeros(lu_FY.shape[0]*lu_FY.shape[1])\n",
    "        arr_fy_cm = np.zeros(lu_FY.shape[0]*lu_FY.shape[1])\n",
    "\n",
    "        for i,col in enumerate(lu_FY.columns): \n",
    "            #print(col,lu_FY[col].to_numpy().shape,)\n",
    "            arr_fy_all[i*8736:(i+1)*8736] = lu_FY[col].to_numpy()\n",
    "            arr_fy_cm[i*8736:(i+1)*8736] = lu_cm[col].to_numpy()\n",
    "\n",
    "        MAE_util = np.mean(np.abs(lu_cm -lu_FY))    \n",
    "        \n",
    "        filter_ = arr_fy_all>=0.85 \n",
    "        MAE_util_filtered = np.mean(np.abs(arr_fy_all[filter_] -arr_fy_cm[filter_]))\n",
    "        \n",
    "        filter_2 = arr_fy_cm>=0.85 \n",
    "        MAE_util_filtered_2 = np.mean(np.abs(arr_fy_all[filter_2] -arr_fy_cm[filter_2]))\n",
    "        \n",
    "        filter_3 = (arr_fy_cm>=0.85) |  (arr_fy_all>=0.85)\n",
    "        MAE_util_filtered_3 = np.mean(np.abs(arr_fy_all[filter_3] -arr_fy_cm[filter_3]))\n",
    "        \n",
    "        #Net demand \n",
    "        df_net_dem = hm.get_net_dem_cm(cm, nbc, case)\n",
    "        np_net_dem = df_net_dem[\"NetDemand\"].to_numpy()\n",
    "        MAE_nd = np.mean(np.abs(np_net_dem-net_dem_ph.to_numpy()))\n",
    "        \n",
    "        #MAE_nd = np.mean(np.abs(np.sort(np_net_dem)-np.sort(net_dem_ph.to_numpy())))\n",
    "\n",
    "        \n",
    "        this_frame = pd.DataFrame({\"cm\":[cm],\"nbc\":[nbc],\n",
    "                                   \"MAE_net_demand\":MAE_nd,\"MAE_curt\": [np.mean(np.abs(MAE_curt))],\n",
    "                                   \"MAE_util\":MAE_util,\n",
    "                                   \"MAE_util_filtered\":[MAE_util_filtered],\n",
    "                                   \"MAE_util_filtered_2\":[MAE_util_filtered_2],\n",
    "                                   \"MAE_util_filtered_3\":[MAE_util_filtered_3],\n",
    "                                  })\n",
    "        frame_MAES = pd.concat([frame_MAES,this_frame])"
   ]
  },
  {
   "cell_type": "code",
   "execution_count": 13,
   "id": "c8d1347f",
   "metadata": {
    "collapsed": true
   },
   "outputs": [
    {
     "data": {
      "text/plain": [
       "<Axes: xlabel='nbc', ylabel='MAE_curt'>"
      ]
     },
     "execution_count": 13,
     "metadata": {},
     "output_type": "execute_result"
    },
    {
     "data": {
      "image/png": "[encoded data removed]",
      "text/plain": [
       "<Figure size 640x480 with 1 Axes>"
      ]
     },
     "metadata": {},
     "output_type": "display_data"
    }
   ],
   "source": [
    "sns.lineplot(data= frame_MAES,x=\"nbc\",y=\"MAE_curt\",hue = \"cm\" )"
   ]
  },
  {
   "cell_type": "code",
   "execution_count": 90,
   "id": "3cc9d610",
   "metadata": {},
   "outputs": [
    {
     "data": {
      "text/html": [
       "<div>\n",
       "<style scoped>\n",
       "    .dataframe tbody tr th:only-of-type {\n",
       "        vertical-align: middle;\n",
       "    }\n",
       "\n",
       "    .dataframe tbody tr th {\n",
       "        vertical-align: top;\n",
       "    }\n",
       "\n",
       "    .dataframe thead th {\n",
       "        text-align: right;\n",
       "    }\n",
       "</style>\n",
       "<table border=\"1\" class=\"dataframe\">\n",
       "  <thead>\n",
       "    <tr style=\"text-align: right;\">\n",
       "      <th></th>\n",
       "      <th>nbc</th>\n",
       "      <th>MAE_curt</th>\n",
       "      <th>MAE_util</th>\n",
       "      <th>MAE_net_demand</th>\n",
       "      <th>MAE_util_filtered</th>\n",
       "      <th>MAE_util_filtered_2</th>\n",
       "      <th>MAE_util_filtered_3</th>\n",
       "    </tr>\n",
       "    <tr>\n",
       "      <th>cm</th>\n",
       "      <th></th>\n",
       "      <th></th>\n",
       "      <th></th>\n",
       "      <th></th>\n",
       "      <th></th>\n",
       "      <th></th>\n",
       "      <th></th>\n",
       "    </tr>\n",
       "  </thead>\n",
       "  <tbody>\n",
       "    <tr>\n",
       "      <th>CHI</th>\n",
       "      <td>159.090909</td>\n",
       "      <td>498.577745</td>\n",
       "      <td>0.099757</td>\n",
       "      <td>1011.353149</td>\n",
       "      <td>0.083563</td>\n",
       "      <td>0.042439</td>\n",
       "      <td>0.101912</td>\n",
       "    </tr>\n",
       "    <tr>\n",
       "      <th>HI</th>\n",
       "      <td>159.090909</td>\n",
       "      <td>571.812091</td>\n",
       "      <td>0.105954</td>\n",
       "      <td>1093.115100</td>\n",
       "      <td>0.094146</td>\n",
       "      <td>0.053927</td>\n",
       "      <td>0.118015</td>\n",
       "    </tr>\n",
       "    <tr>\n",
       "      <th>OPC</th>\n",
       "      <td>159.090909</td>\n",
       "      <td>569.188674</td>\n",
       "      <td>0.100450</td>\n",
       "      <td>1168.515642</td>\n",
       "      <td>0.095978</td>\n",
       "      <td>0.061022</td>\n",
       "      <td>0.124035</td>\n",
       "    </tr>\n",
       "    <tr>\n",
       "      <th>OPT_LB</th>\n",
       "      <td>159.090909</td>\n",
       "      <td>682.431509</td>\n",
       "      <td>0.133496</td>\n",
       "      <td>1034.384694</td>\n",
       "      <td>0.238726</td>\n",
       "      <td>0.213631</td>\n",
       "      <td>0.322345</td>\n",
       "    </tr>\n",
       "    <tr>\n",
       "      <th>R&amp;D</th>\n",
       "      <td>159.090909</td>\n",
       "      <td>567.849151</td>\n",
       "      <td>0.114467</td>\n",
       "      <td>752.230849</td>\n",
       "      <td>0.135050</td>\n",
       "      <td>0.166711</td>\n",
       "      <td>0.226937</td>\n",
       "    </tr>\n",
       "  </tbody>\n",
       "</table>\n",
       "</div>"
      ],
      "text/plain": [
       "               nbc    MAE_curt  MAE_util  MAE_net_demand  MAE_util_filtered   \n",
       "cm                                                                            \n",
       "CHI     159.090909  498.577745  0.099757     1011.353149           0.083563  \\\n",
       "HI      159.090909  571.812091  0.105954     1093.115100           0.094146   \n",
       "OPC     159.090909  569.188674  0.100450     1168.515642           0.095978   \n",
       "OPT_LB  159.090909  682.431509  0.133496     1034.384694           0.238726   \n",
       "R&D     159.090909  567.849151  0.114467      752.230849           0.135050   \n",
       "\n",
       "        MAE_util_filtered_2  MAE_util_filtered_3  \n",
       "cm                                                \n",
       "CHI                0.042439             0.101912  \n",
       "HI                 0.053927             0.118015  \n",
       "OPC                0.061022             0.124035  \n",
       "OPT_LB             0.213631             0.322345  \n",
       "R&D                0.166711             0.226937  "
      ]
     },
     "execution_count": 90,
     "metadata": {},
     "output_type": "execute_result"
    }
   ],
   "source": [
    "frame_MAES.groupby(\"cm\").mean()"
   ]
  },
  {
   "cell_type": "code",
   "execution_count": null,
   "id": "0e29e408",
   "metadata": {},
   "outputs": [],
   "source": [
    "((frame_MAES.groupby(\"cm\").max()/frame_MAES.groupby(\"cm\").min())-1).drop(columns = \"nbc\")"
   ]
  },
  {
   "cell_type": "markdown",
   "id": "1c9d5135",
   "metadata": {},
   "source": [
    "# Combined and averaged"
   ]
  },
  {
   "cell_type": "code",
   "execution_count": 85,
   "id": "3e22001e",
   "metadata": {},
   "outputs": [],
   "source": [
    "case = \"9n_mod1\"\n",
    "\n",
    "#curts_FYMILP = hm.get_curts_FYMILP(case).pivot(values = \"MW\",index = \"LoadLevel\",columns = \"Unit\").sum(axis = 1)\n",
    "curts_FYMILP = hm.get_curts_FYWOI(case).pivot(values = \"MW\",index = \"LoadLevel\",columns = \"Unit\").sum(axis = 1)\n",
    "\n",
    "lu_FY = hm.get_utils_FYWOI(case).pivot(values = \"GWh\",index = \"LoadLevel\",columns = [\"InitialNode\",\"FinalNode\"])\n",
    "net_dem_ph = hm.get_net_dem_FY(case)\n",
    "avg_curt_fy = curts_FYMILP.mean()"
   ]
  },
  {
   "cell_type": "code",
   "execution_count": 86,
   "id": "14c7f3c7",
   "metadata": {},
   "outputs": [
    {
     "data": {
      "text/plain": [
       "0.3863886611721284"
      ]
     },
     "execution_count": 86,
     "metadata": {},
     "output_type": "execute_result"
    }
   ],
   "source": [
    "lu_FY.mean().mean()"
   ]
  },
  {
   "cell_type": "code",
   "execution_count": 87,
   "id": "d0dad689",
   "metadata": {},
   "outputs": [
    {
     "data": {
      "text/plain": [
       "0.3863886611721284"
      ]
     },
     "execution_count": 87,
     "metadata": {},
     "output_type": "execute_result"
    }
   ],
   "source": [
    "lu_FY.mean().mean()"
   ]
  },
  {
   "cell_type": "code",
   "execution_count": 71,
   "id": "2a21533a",
   "metadata": {
    "scrolled": true
   },
   "outputs": [
    {
     "name": "stdout",
     "output_type": "stream",
     "text": [
      "0.10010656743379012\n",
      "0.126606267115746\n",
      "0.12569691436465502\n",
      "0.10131940089681533\n",
      "0.10630904606413294\n",
      "0.10024645983306524\n",
      "0.12939947061414814\n",
      "0.12490636718521834\n",
      "0.09914502869575986\n",
      "0.10452141788634499\n",
      "0.09798256138395772\n",
      "0.13082919555460537\n",
      "0.11960607759294603\n",
      "0.09559332882674704\n",
      "0.10251367925997693\n",
      "0.0986814311044505\n",
      "0.1269996432549674\n",
      "0.11804551376701164\n",
      "0.09540226014824815\n",
      "0.10046985904304404\n",
      "0.09833709004596432\n",
      "0.12487329201439624\n",
      "0.11805393197526352\n",
      "0.09458133200266543\n",
      "0.1003996518107387\n",
      "0.09597001058225982\n",
      "0.12320195130889017\n",
      "0.11411360866640625\n",
      "0.09297386191926178\n",
      "0.09913094152225169\n",
      "0.09296433463499437\n",
      "0.1174190689145381\n",
      "0.11303190565132672\n",
      "0.09175009351650226\n",
      "0.0966388328878001\n"
     ]
    },
    {
     "ename": "FileNotFoundError",
     "evalue": "[Errno 2] No such file or directory: 'Y.FYTS_from_ByStages/IEEE118_mod1/R&D/Curtailment_nc200_2.csv'",
     "output_type": "error",
     "traceback": [
      "\u001b[1;31m---------------------------------------------------------------------------\u001b[0m",
      "\u001b[1;31mFileNotFoundError\u001b[0m                         Traceback (most recent call last)",
      "Cell \u001b[1;32mIn[71], line 12\u001b[0m\n\u001b[0;32m      8\u001b[0m \u001b[38;5;28;01mfor\u001b[39;00m nbc \u001b[38;5;129;01min\u001b[39;00m nbcs:\n\u001b[0;32m      9\u001b[0m     \u001b[38;5;28;01mfor\u001b[39;00m cm \u001b[38;5;129;01min\u001b[39;00m [\u001b[38;5;124m\"\u001b[39m\u001b[38;5;124mR&D\u001b[39m\u001b[38;5;124m\"\u001b[39m,\u001b[38;5;124m\"\u001b[39m\u001b[38;5;124mOPC\u001b[39m\u001b[38;5;124m\"\u001b[39m,\u001b[38;5;124m\"\u001b[39m\u001b[38;5;124mOPT_LB\u001b[39m\u001b[38;5;124m\"\u001b[39m,\u001b[38;5;124m\"\u001b[39m\u001b[38;5;124mCHI\u001b[39m\u001b[38;5;124m\"\u001b[39m,\u001b[38;5;124m\"\u001b[39m\u001b[38;5;124mHI\u001b[39m\u001b[38;5;124m\"\u001b[39m]:  \n\u001b[0;32m     10\u001b[0m \n\u001b[0;32m     11\u001b[0m         \u001b[38;5;66;03m#Curtailment \u001b[39;00m\n\u001b[1;32m---> 12\u001b[0m         curts_cm \u001b[38;5;241m=\u001b[39m \u001b[43mhm\u001b[49m\u001b[38;5;241;43m.\u001b[39;49m\u001b[43mget_curts_cm\u001b[49m\u001b[43m(\u001b[49m\u001b[43mcm\u001b[49m\u001b[43m,\u001b[49m\u001b[43mnbc\u001b[49m\u001b[43m,\u001b[49m\u001b[43mcase\u001b[49m\u001b[43m)\u001b[49m\u001b[38;5;241m.\u001b[39msum(axis \u001b[38;5;241m=\u001b[39m \u001b[38;5;241m1\u001b[39m)\n\u001b[0;32m     13\u001b[0m         MAE_curt \u001b[38;5;241m=\u001b[39m np\u001b[38;5;241m.\u001b[39mmean(np\u001b[38;5;241m.\u001b[39mabs(curts_cm\u001b[38;5;241m-\u001b[39mcurts_FYMILP))\u001b[38;5;241m/\u001b[39mavg_curt_fy\n\u001b[0;32m     17\u001b[0m         \u001b[38;5;66;03m#line_util\u001b[39;00m\n",
      "File \u001b[1;32m~\\OneDrive - KU Leuven\\JointResearch\\05. Models\\06.Benchmarking\\predictor_of_investment_helper_methods.py:168\u001b[0m, in \u001b[0;36mget_curts_cm\u001b[1;34m(cm, nbc, case)\u001b[0m\n\u001b[0;32m    167\u001b[0m \u001b[38;5;28;01mdef\u001b[39;00m \u001b[38;5;21mget_curts_cm\u001b[39m(cm, nbc, case):\n\u001b[1;32m--> 168\u001b[0m     \u001b[38;5;28;01mreturn\u001b[39;00m \u001b[43mpd\u001b[49m\u001b[38;5;241;43m.\u001b[39;49m\u001b[43mread_csv\u001b[49m\u001b[43m(\u001b[49m\u001b[38;5;124;43mf\u001b[39;49m\u001b[38;5;124;43m\"\u001b[39;49m\u001b[38;5;124;43mY.FYTS_from_ByStages/\u001b[39;49m\u001b[38;5;132;43;01m{\u001b[39;49;00m\u001b[43mcase\u001b[49m\u001b[38;5;132;43;01m}\u001b[39;49;00m\u001b[38;5;124;43m/\u001b[39;49m\u001b[38;5;132;43;01m{\u001b[39;49;00m\u001b[43mcm\u001b[49m\u001b[38;5;132;43;01m}\u001b[39;49;00m\u001b[38;5;124;43m/Curtailment_nc\u001b[39;49m\u001b[38;5;132;43;01m{\u001b[39;49;00m\u001b[43mnbc\u001b[49m\u001b[38;5;132;43;01m}\u001b[39;49;00m\u001b[38;5;124;43m_2.csv\u001b[39;49m\u001b[38;5;124;43m\"\u001b[39;49m\u001b[43m,\u001b[49m\u001b[43m \u001b[49m\u001b[43mheader\u001b[49m\u001b[38;5;241;43m=\u001b[39;49m\u001b[43m[\u001b[49m\u001b[38;5;241;43m0\u001b[39;49m\u001b[43m]\u001b[49m\u001b[43m,\u001b[49m\u001b[43m \u001b[49m\u001b[43mindex_col\u001b[49m\u001b[38;5;241;43m=\u001b[39;49m\u001b[38;5;241;43m0\u001b[39;49m\u001b[43m)\u001b[49m\n",
      "File \u001b[1;32mC:\\Workdir\\Programs\\Miniconda\\envs\\jr23\\lib\\site-packages\\pandas\\io\\parsers\\readers.py:912\u001b[0m, in \u001b[0;36mread_csv\u001b[1;34m(filepath_or_buffer, sep, delimiter, header, names, index_col, usecols, dtype, engine, converters, true_values, false_values, skipinitialspace, skiprows, skipfooter, nrows, na_values, keep_default_na, na_filter, verbose, skip_blank_lines, parse_dates, infer_datetime_format, keep_date_col, date_parser, date_format, dayfirst, cache_dates, iterator, chunksize, compression, thousands, decimal, lineterminator, quotechar, quoting, doublequote, escapechar, comment, encoding, encoding_errors, dialect, on_bad_lines, delim_whitespace, low_memory, memory_map, float_precision, storage_options, dtype_backend)\u001b[0m\n\u001b[0;32m    899\u001b[0m kwds_defaults \u001b[38;5;241m=\u001b[39m _refine_defaults_read(\n\u001b[0;32m    900\u001b[0m     dialect,\n\u001b[0;32m    901\u001b[0m     delimiter,\n\u001b[1;32m   (...)\u001b[0m\n\u001b[0;32m    908\u001b[0m     dtype_backend\u001b[38;5;241m=\u001b[39mdtype_backend,\n\u001b[0;32m    909\u001b[0m )\n\u001b[0;32m    910\u001b[0m kwds\u001b[38;5;241m.\u001b[39mupdate(kwds_defaults)\n\u001b[1;32m--> 912\u001b[0m \u001b[38;5;28;01mreturn\u001b[39;00m \u001b[43m_read\u001b[49m\u001b[43m(\u001b[49m\u001b[43mfilepath_or_buffer\u001b[49m\u001b[43m,\u001b[49m\u001b[43m \u001b[49m\u001b[43mkwds\u001b[49m\u001b[43m)\u001b[49m\n",
      "File \u001b[1;32mC:\\Workdir\\Programs\\Miniconda\\envs\\jr23\\lib\\site-packages\\pandas\\io\\parsers\\readers.py:577\u001b[0m, in \u001b[0;36m_read\u001b[1;34m(filepath_or_buffer, kwds)\u001b[0m\n\u001b[0;32m    574\u001b[0m _validate_names(kwds\u001b[38;5;241m.\u001b[39mget(\u001b[38;5;124m\"\u001b[39m\u001b[38;5;124mnames\u001b[39m\u001b[38;5;124m\"\u001b[39m, \u001b[38;5;28;01mNone\u001b[39;00m))\n\u001b[0;32m    576\u001b[0m \u001b[38;5;66;03m# Create the parser.\u001b[39;00m\n\u001b[1;32m--> 577\u001b[0m parser \u001b[38;5;241m=\u001b[39m TextFileReader(filepath_or_buffer, \u001b[38;5;241m*\u001b[39m\u001b[38;5;241m*\u001b[39mkwds)\n\u001b[0;32m    579\u001b[0m \u001b[38;5;28;01mif\u001b[39;00m chunksize \u001b[38;5;129;01mor\u001b[39;00m iterator:\n\u001b[0;32m    580\u001b[0m     \u001b[38;5;28;01mreturn\u001b[39;00m parser\n",
      "File \u001b[1;32mC:\\Workdir\\Programs\\Miniconda\\envs\\jr23\\lib\\site-packages\\pandas\\io\\parsers\\readers.py:1407\u001b[0m, in \u001b[0;36mTextFileReader.__init__\u001b[1;34m(self, f, engine, **kwds)\u001b[0m\n\u001b[0;32m   1404\u001b[0m     \u001b[38;5;28mself\u001b[39m\u001b[38;5;241m.\u001b[39moptions[\u001b[38;5;124m\"\u001b[39m\u001b[38;5;124mhas_index_names\u001b[39m\u001b[38;5;124m\"\u001b[39m] \u001b[38;5;241m=\u001b[39m kwds[\u001b[38;5;124m\"\u001b[39m\u001b[38;5;124mhas_index_names\u001b[39m\u001b[38;5;124m\"\u001b[39m]\n\u001b[0;32m   1406\u001b[0m \u001b[38;5;28mself\u001b[39m\u001b[38;5;241m.\u001b[39mhandles: IOHandles \u001b[38;5;241m|\u001b[39m \u001b[38;5;28;01mNone\u001b[39;00m \u001b[38;5;241m=\u001b[39m \u001b[38;5;28;01mNone\u001b[39;00m\n\u001b[1;32m-> 1407\u001b[0m \u001b[38;5;28mself\u001b[39m\u001b[38;5;241m.\u001b[39m_engine \u001b[38;5;241m=\u001b[39m \u001b[38;5;28;43mself\u001b[39;49m\u001b[38;5;241;43m.\u001b[39;49m\u001b[43m_make_engine\u001b[49m\u001b[43m(\u001b[49m\u001b[43mf\u001b[49m\u001b[43m,\u001b[49m\u001b[43m \u001b[49m\u001b[38;5;28;43mself\u001b[39;49m\u001b[38;5;241;43m.\u001b[39;49m\u001b[43mengine\u001b[49m\u001b[43m)\u001b[49m\n",
      "File \u001b[1;32mC:\\Workdir\\Programs\\Miniconda\\envs\\jr23\\lib\\site-packages\\pandas\\io\\parsers\\readers.py:1661\u001b[0m, in \u001b[0;36mTextFileReader._make_engine\u001b[1;34m(self, f, engine)\u001b[0m\n\u001b[0;32m   1659\u001b[0m     \u001b[38;5;28;01mif\u001b[39;00m \u001b[38;5;124m\"\u001b[39m\u001b[38;5;124mb\u001b[39m\u001b[38;5;124m\"\u001b[39m \u001b[38;5;129;01mnot\u001b[39;00m \u001b[38;5;129;01min\u001b[39;00m mode:\n\u001b[0;32m   1660\u001b[0m         mode \u001b[38;5;241m+\u001b[39m\u001b[38;5;241m=\u001b[39m \u001b[38;5;124m\"\u001b[39m\u001b[38;5;124mb\u001b[39m\u001b[38;5;124m\"\u001b[39m\n\u001b[1;32m-> 1661\u001b[0m \u001b[38;5;28mself\u001b[39m\u001b[38;5;241m.\u001b[39mhandles \u001b[38;5;241m=\u001b[39m \u001b[43mget_handle\u001b[49m\u001b[43m(\u001b[49m\n\u001b[0;32m   1662\u001b[0m \u001b[43m    \u001b[49m\u001b[43mf\u001b[49m\u001b[43m,\u001b[49m\n\u001b[0;32m   1663\u001b[0m \u001b[43m    \u001b[49m\u001b[43mmode\u001b[49m\u001b[43m,\u001b[49m\n\u001b[0;32m   1664\u001b[0m \u001b[43m    \u001b[49m\u001b[43mencoding\u001b[49m\u001b[38;5;241;43m=\u001b[39;49m\u001b[38;5;28;43mself\u001b[39;49m\u001b[38;5;241;43m.\u001b[39;49m\u001b[43moptions\u001b[49m\u001b[38;5;241;43m.\u001b[39;49m\u001b[43mget\u001b[49m\u001b[43m(\u001b[49m\u001b[38;5;124;43m\"\u001b[39;49m\u001b[38;5;124;43mencoding\u001b[39;49m\u001b[38;5;124;43m\"\u001b[39;49m\u001b[43m,\u001b[49m\u001b[43m \u001b[49m\u001b[38;5;28;43;01mNone\u001b[39;49;00m\u001b[43m)\u001b[49m\u001b[43m,\u001b[49m\n\u001b[0;32m   1665\u001b[0m \u001b[43m    \u001b[49m\u001b[43mcompression\u001b[49m\u001b[38;5;241;43m=\u001b[39;49m\u001b[38;5;28;43mself\u001b[39;49m\u001b[38;5;241;43m.\u001b[39;49m\u001b[43moptions\u001b[49m\u001b[38;5;241;43m.\u001b[39;49m\u001b[43mget\u001b[49m\u001b[43m(\u001b[49m\u001b[38;5;124;43m\"\u001b[39;49m\u001b[38;5;124;43mcompression\u001b[39;49m\u001b[38;5;124;43m\"\u001b[39;49m\u001b[43m,\u001b[49m\u001b[43m \u001b[49m\u001b[38;5;28;43;01mNone\u001b[39;49;00m\u001b[43m)\u001b[49m\u001b[43m,\u001b[49m\n\u001b[0;32m   1666\u001b[0m \u001b[43m    \u001b[49m\u001b[43mmemory_map\u001b[49m\u001b[38;5;241;43m=\u001b[39;49m\u001b[38;5;28;43mself\u001b[39;49m\u001b[38;5;241;43m.\u001b[39;49m\u001b[43moptions\u001b[49m\u001b[38;5;241;43m.\u001b[39;49m\u001b[43mget\u001b[49m\u001b[43m(\u001b[49m\u001b[38;5;124;43m\"\u001b[39;49m\u001b[38;5;124;43mmemory_map\u001b[39;49m\u001b[38;5;124;43m\"\u001b[39;49m\u001b[43m,\u001b[49m\u001b[43m \u001b[49m\u001b[38;5;28;43;01mFalse\u001b[39;49;00m\u001b[43m)\u001b[49m\u001b[43m,\u001b[49m\n\u001b[0;32m   1667\u001b[0m \u001b[43m    \u001b[49m\u001b[43mis_text\u001b[49m\u001b[38;5;241;43m=\u001b[39;49m\u001b[43mis_text\u001b[49m\u001b[43m,\u001b[49m\n\u001b[0;32m   1668\u001b[0m \u001b[43m    \u001b[49m\u001b[43merrors\u001b[49m\u001b[38;5;241;43m=\u001b[39;49m\u001b[38;5;28;43mself\u001b[39;49m\u001b[38;5;241;43m.\u001b[39;49m\u001b[43moptions\u001b[49m\u001b[38;5;241;43m.\u001b[39;49m\u001b[43mget\u001b[49m\u001b[43m(\u001b[49m\u001b[38;5;124;43m\"\u001b[39;49m\u001b[38;5;124;43mencoding_errors\u001b[39;49m\u001b[38;5;124;43m\"\u001b[39;49m\u001b[43m,\u001b[49m\u001b[43m \u001b[49m\u001b[38;5;124;43m\"\u001b[39;49m\u001b[38;5;124;43mstrict\u001b[39;49m\u001b[38;5;124;43m\"\u001b[39;49m\u001b[43m)\u001b[49m\u001b[43m,\u001b[49m\n\u001b[0;32m   1669\u001b[0m \u001b[43m    \u001b[49m\u001b[43mstorage_options\u001b[49m\u001b[38;5;241;43m=\u001b[39;49m\u001b[38;5;28;43mself\u001b[39;49m\u001b[38;5;241;43m.\u001b[39;49m\u001b[43moptions\u001b[49m\u001b[38;5;241;43m.\u001b[39;49m\u001b[43mget\u001b[49m\u001b[43m(\u001b[49m\u001b[38;5;124;43m\"\u001b[39;49m\u001b[38;5;124;43mstorage_options\u001b[39;49m\u001b[38;5;124;43m\"\u001b[39;49m\u001b[43m,\u001b[49m\u001b[43m \u001b[49m\u001b[38;5;28;43;01mNone\u001b[39;49;00m\u001b[43m)\u001b[49m\u001b[43m,\u001b[49m\n\u001b[0;32m   1670\u001b[0m \u001b[43m\u001b[49m\u001b[43m)\u001b[49m\n\u001b[0;32m   1671\u001b[0m \u001b[38;5;28;01massert\u001b[39;00m \u001b[38;5;28mself\u001b[39m\u001b[38;5;241m.\u001b[39mhandles \u001b[38;5;129;01mis\u001b[39;00m \u001b[38;5;129;01mnot\u001b[39;00m \u001b[38;5;28;01mNone\u001b[39;00m\n\u001b[0;32m   1672\u001b[0m f \u001b[38;5;241m=\u001b[39m \u001b[38;5;28mself\u001b[39m\u001b[38;5;241m.\u001b[39mhandles\u001b[38;5;241m.\u001b[39mhandle\n",
      "File \u001b[1;32mC:\\Workdir\\Programs\\Miniconda\\envs\\jr23\\lib\\site-packages\\pandas\\io\\common.py:859\u001b[0m, in \u001b[0;36mget_handle\u001b[1;34m(path_or_buf, mode, encoding, compression, memory_map, is_text, errors, storage_options)\u001b[0m\n\u001b[0;32m    854\u001b[0m \u001b[38;5;28;01melif\u001b[39;00m \u001b[38;5;28misinstance\u001b[39m(handle, \u001b[38;5;28mstr\u001b[39m):\n\u001b[0;32m    855\u001b[0m     \u001b[38;5;66;03m# Check whether the filename is to be opened in binary mode.\u001b[39;00m\n\u001b[0;32m    856\u001b[0m     \u001b[38;5;66;03m# Binary mode does not support 'encoding' and 'newline'.\u001b[39;00m\n\u001b[0;32m    857\u001b[0m     \u001b[38;5;28;01mif\u001b[39;00m ioargs\u001b[38;5;241m.\u001b[39mencoding \u001b[38;5;129;01mand\u001b[39;00m \u001b[38;5;124m\"\u001b[39m\u001b[38;5;124mb\u001b[39m\u001b[38;5;124m\"\u001b[39m \u001b[38;5;129;01mnot\u001b[39;00m \u001b[38;5;129;01min\u001b[39;00m ioargs\u001b[38;5;241m.\u001b[39mmode:\n\u001b[0;32m    858\u001b[0m         \u001b[38;5;66;03m# Encoding\u001b[39;00m\n\u001b[1;32m--> 859\u001b[0m         handle \u001b[38;5;241m=\u001b[39m \u001b[38;5;28;43mopen\u001b[39;49m\u001b[43m(\u001b[49m\n\u001b[0;32m    860\u001b[0m \u001b[43m            \u001b[49m\u001b[43mhandle\u001b[49m\u001b[43m,\u001b[49m\n\u001b[0;32m    861\u001b[0m \u001b[43m            \u001b[49m\u001b[43mioargs\u001b[49m\u001b[38;5;241;43m.\u001b[39;49m\u001b[43mmode\u001b[49m\u001b[43m,\u001b[49m\n\u001b[0;32m    862\u001b[0m \u001b[43m            \u001b[49m\u001b[43mencoding\u001b[49m\u001b[38;5;241;43m=\u001b[39;49m\u001b[43mioargs\u001b[49m\u001b[38;5;241;43m.\u001b[39;49m\u001b[43mencoding\u001b[49m\u001b[43m,\u001b[49m\n\u001b[0;32m    863\u001b[0m \u001b[43m            \u001b[49m\u001b[43merrors\u001b[49m\u001b[38;5;241;43m=\u001b[39;49m\u001b[43merrors\u001b[49m\u001b[43m,\u001b[49m\n\u001b[0;32m    864\u001b[0m \u001b[43m            \u001b[49m\u001b[43mnewline\u001b[49m\u001b[38;5;241;43m=\u001b[39;49m\u001b[38;5;124;43m\"\u001b[39;49m\u001b[38;5;124;43m\"\u001b[39;49m\u001b[43m,\u001b[49m\n\u001b[0;32m    865\u001b[0m \u001b[43m        \u001b[49m\u001b[43m)\u001b[49m\n\u001b[0;32m    866\u001b[0m     \u001b[38;5;28;01melse\u001b[39;00m:\n\u001b[0;32m    867\u001b[0m         \u001b[38;5;66;03m# Binary mode\u001b[39;00m\n\u001b[0;32m    868\u001b[0m         handle \u001b[38;5;241m=\u001b[39m \u001b[38;5;28mopen\u001b[39m(handle, ioargs\u001b[38;5;241m.\u001b[39mmode)\n",
      "\u001b[1;31mFileNotFoundError\u001b[0m: [Errno 2] No such file or directory: 'Y.FYTS_from_ByStages/IEEE118_mod1/R&D/Curtailment_nc200_2.csv'"
     ]
    }
   ],
   "source": [
    "cm = \"CHI\"\n",
    "nbc = 100\n",
    "frame_MAES = pd.DataFrame(columns = [\"cm\",\"nbc\",\"MAE_curt\",\"MAE_util\"])\n",
    "\n",
    "#nbcs = [150]#,70,80,90,100,110,120,130,140,150]\n",
    "nbcs = [50,60,70,80,90,100,150,200,250,300,400]\n",
    "#nbcs = [40]\n",
    "for nbc in nbcs:\n",
    "    for cm in [\"R&D\",\"OPC\",\"OPT_LB\",\"CHI\",\"HI\"]:  \n",
    "\n",
    "        #Curtailment \n",
    "        curts_cm = hm.get_curts_cm(cm,nbc,case).sum(axis = 1)\n",
    "        MAE_curt = np.mean(np.abs(curts_cm-curts_FYMILP))/avg_curt_fy\n",
    "               \n",
    "\n",
    "\n",
    "        #line_util\n",
    "        lu_cm = hm.get_utils_cm(cm,nbc,case)\n",
    "        arr_fy_all = np.zeros(lu_FY.shape[0]*lu_FY.shape[1])\n",
    "        arr_fy_cm = np.zeros(lu_FY.shape[0]*lu_FY.shape[1])\n",
    "\n",
    "        for i,col in enumerate(lu_FY.columns): \n",
    "            #print(col,lu_FY[col].to_numpy().shape,)\n",
    "            arr_fy_all[i*8736:(i+1)*8736] = lu_FY[col].to_numpy()\n",
    "            arr_fy_cm[i*8736:(i+1)*8736] = lu_cm[col].to_numpy()\n",
    "\n",
    "        MAE_util = np.mean(np.abs(lu_cm -lu_FY))/np.mean(arr_fy_all)\n",
    "        print(np.mean(np.abs(lu_cm -lu_FY)))\n",
    "        \n",
    "        filter_ = arr_fy_all>=0.85 \n",
    "        MAE_util_filtered = np.mean(np.abs(arr_fy_all[filter_] -arr_fy_cm[filter_]))/np.mean(arr_fy_all)\n",
    "        \n",
    "        filter_2 = arr_fy_cm>=0.85 \n",
    "        MAE_util_filtered_2 = np.mean(np.abs(arr_fy_all[filter_2] -arr_fy_cm[filter_2]))/np.mean(arr_fy_all[filter_2])\n",
    "        \n",
    "        filter_3 = (arr_fy_cm>=0.85) |  (arr_fy_all>=0.85)\n",
    "        MAE_util_filtered_3 = np.mean(np.abs(arr_fy_all[filter_3] -arr_fy_cm[filter_3]))/np.mean(arr_fy_all[filter_2])\n",
    "        \n",
    "        \n",
    "        #Net demand \n",
    "        df_net_dem = hm.get_net_dem_cm(cm, nbc, case)\n",
    "        np_net_dem = df_net_dem[\"NetDemand\"].to_numpy()\n",
    "        MAE_nd = np.mean(np.abs(np_net_dem-net_dem_ph.to_numpy()))/np.abs(net_dem_ph.mean())\n",
    "        \n",
    "        #MAE_nd = np.mean(np.abs(np.sort(np_net_dem)-np.sort(net_dem_ph.to_numpy())))\n",
    "\n",
    "        \n",
    "        this_frame = pd.DataFrame({\"cm\":[cm],\"nbc\":[nbc],\n",
    "                                   \"MAE_net_demand\":MAE_nd,\n",
    "                                   \"MAE_curt\": [MAE_curt],\n",
    "                                   \"MAE_util\":MAE_util,\n",
    "                                   \"MAE_util_filtered\":[MAE_util_filtered],\n",
    "#                                    \"MAE_util_filtered_2\":[MAE_util_filtered_2],\n",
    "#                                    \"MAE_util_filtered_3\":[MAE_util_filtered_3],\n",
    "                                  })\n",
    "        frame_MAES = pd.concat([frame_MAES,this_frame])"
   ]
  },
  {
   "cell_type": "code",
   "execution_count": 72,
   "id": "243c746e",
   "metadata": {},
   "outputs": [
    {
     "data": {
      "text/html": [
       "<div>\n",
       "<style scoped>\n",
       "    .dataframe tbody tr th:only-of-type {\n",
       "        vertical-align: middle;\n",
       "    }\n",
       "\n",
       "    .dataframe tbody tr th {\n",
       "        vertical-align: top;\n",
       "    }\n",
       "\n",
       "    .dataframe thead th {\n",
       "        text-align: right;\n",
       "    }\n",
       "</style>\n",
       "<table border=\"1\" class=\"dataframe\">\n",
       "  <thead>\n",
       "    <tr style=\"text-align: right;\">\n",
       "      <th></th>\n",
       "      <th>MAE_curt</th>\n",
       "      <th>MAE_util</th>\n",
       "      <th>MAE_net_demand</th>\n",
       "      <th>MAE_util_filtered</th>\n",
       "    </tr>\n",
       "    <tr>\n",
       "      <th>cm</th>\n",
       "      <th></th>\n",
       "      <th></th>\n",
       "      <th></th>\n",
       "      <th></th>\n",
       "    </tr>\n",
       "  </thead>\n",
       "  <tbody>\n",
       "    <tr>\n",
       "      <th>CHI</th>\n",
       "      <td>0.400632</td>\n",
       "      <td>0.420415</td>\n",
       "      <td>2.442627</td>\n",
       "      <td>1.027507</td>\n",
       "    </tr>\n",
       "    <tr>\n",
       "      <th>HI</th>\n",
       "      <td>0.392867</td>\n",
       "      <td>0.444996</td>\n",
       "      <td>2.476065</td>\n",
       "      <td>1.086410</td>\n",
       "    </tr>\n",
       "    <tr>\n",
       "      <th>OPC</th>\n",
       "      <td>0.572057</td>\n",
       "      <td>0.551136</td>\n",
       "      <td>3.570275</td>\n",
       "      <td>1.565018</td>\n",
       "    </tr>\n",
       "    <tr>\n",
       "      <th>OPT_LB</th>\n",
       "      <td>0.568266</td>\n",
       "      <td>0.522383</td>\n",
       "      <td>3.590187</td>\n",
       "      <td>1.610873</td>\n",
       "    </tr>\n",
       "    <tr>\n",
       "      <th>R&amp;D</th>\n",
       "      <td>0.244369</td>\n",
       "      <td>0.428891</td>\n",
       "      <td>1.083814</td>\n",
       "      <td>1.090354</td>\n",
       "    </tr>\n",
       "  </tbody>\n",
       "</table>\n",
       "</div>"
      ],
      "text/plain": [
       "        MAE_curt  MAE_util  MAE_net_demand  MAE_util_filtered\n",
       "cm                                                           \n",
       "CHI     0.400632  0.420415        2.442627           1.027507\n",
       "HI      0.392867  0.444996        2.476065           1.086410\n",
       "OPC     0.572057  0.551136        3.570275           1.565018\n",
       "OPT_LB  0.568266  0.522383        3.590187           1.610873\n",
       "R&D     0.244369  0.428891        1.083814           1.090354"
      ]
     },
     "execution_count": 72,
     "metadata": {},
     "output_type": "execute_result"
    }
   ],
   "source": [
    "frame_MAES.groupby(\"cm\").mean().drop(columns = \"nbc\")"
   ]
  },
  {
   "cell_type": "code",
   "execution_count": 73,
   "id": "3cfa10b2",
   "metadata": {},
   "outputs": [
    {
     "data": {
      "text/html": [
       "<div>\n",
       "<style scoped>\n",
       "    .dataframe tbody tr th:only-of-type {\n",
       "        vertical-align: middle;\n",
       "    }\n",
       "\n",
       "    .dataframe tbody tr th {\n",
       "        vertical-align: top;\n",
       "    }\n",
       "\n",
       "    .dataframe thead th {\n",
       "        text-align: right;\n",
       "    }\n",
       "</style>\n",
       "<table border=\"1\" class=\"dataframe\">\n",
       "  <thead>\n",
       "    <tr style=\"text-align: right;\">\n",
       "      <th></th>\n",
       "      <th>MAE_curt</th>\n",
       "      <th>MAE_util</th>\n",
       "      <th>MAE_net_demand</th>\n",
       "      <th>MAE_util_filtered</th>\n",
       "    </tr>\n",
       "    <tr>\n",
       "      <th>cm</th>\n",
       "      <th></th>\n",
       "      <th></th>\n",
       "      <th></th>\n",
       "      <th></th>\n",
       "    </tr>\n",
       "  </thead>\n",
       "  <tbody>\n",
       "    <tr>\n",
       "      <th>CHI</th>\n",
       "      <td>0.091736</td>\n",
       "      <td>0.104298</td>\n",
       "      <td>0.111815</td>\n",
       "      <td>0.234985</td>\n",
       "    </tr>\n",
       "    <tr>\n",
       "      <th>HI</th>\n",
       "      <td>0.147076</td>\n",
       "      <td>0.100066</td>\n",
       "      <td>0.094867</td>\n",
       "      <td>0.139022</td>\n",
       "    </tr>\n",
       "    <tr>\n",
       "      <th>OPC</th>\n",
       "      <td>0.148462</td>\n",
       "      <td>0.114207</td>\n",
       "      <td>0.205173</td>\n",
       "      <td>0.097695</td>\n",
       "    </tr>\n",
       "    <tr>\n",
       "      <th>OPT_LB</th>\n",
       "      <td>0.171353</td>\n",
       "      <td>0.112048</td>\n",
       "      <td>0.109546</td>\n",
       "      <td>0.235394</td>\n",
       "    </tr>\n",
       "    <tr>\n",
       "      <th>R&amp;D</th>\n",
       "      <td>0.161552</td>\n",
       "      <td>0.078332</td>\n",
       "      <td>0.363580</td>\n",
       "      <td>0.164279</td>\n",
       "    </tr>\n",
       "  </tbody>\n",
       "</table>\n",
       "</div>"
      ],
      "text/plain": [
       "        MAE_curt  MAE_util  MAE_net_demand  MAE_util_filtered\n",
       "cm                                                           \n",
       "CHI     0.091736  0.104298        0.111815           0.234985\n",
       "HI      0.147076  0.100066        0.094867           0.139022\n",
       "OPC     0.148462  0.114207        0.205173           0.097695\n",
       "OPT_LB  0.171353  0.112048        0.109546           0.235394\n",
       "R&D     0.161552  0.078332        0.363580           0.164279"
      ]
     },
     "execution_count": 73,
     "metadata": {},
     "output_type": "execute_result"
    }
   ],
   "source": [
    "((frame_MAES.groupby(\"cm\").max()/frame_MAES.groupby(\"cm\").min())-1).drop(columns = \"nbc\")"
   ]
  },
  {
   "cell_type": "markdown",
   "id": "3e4f1ea0",
   "metadata": {},
   "source": [
    "# Combined and sorted"
   ]
  },
  {
   "cell_type": "code",
   "execution_count": 65,
   "id": "cffc3389",
   "metadata": {},
   "outputs": [],
   "source": [
    "case = \"IEEE118_mod1\"\n",
    "\n",
    "curts_FYMILP = get_curts_FYMILP(case).pivot(values = \"MW\",index = \"LoadLevel\",columns = \"Unit\").sum(axis = 1)\n",
    "lu_FY = hm.get_utils_FYWOI(case).pivot(values = \"GWh\",index = \"LoadLevel\",columns = [\"InitialNode\",\"FinalNode\"])\n",
    "net_dem_ph = hm.get_net_dem_FY(case)"
   ]
  },
  {
   "cell_type": "code",
   "execution_count": 66,
   "id": "cccf9a61",
   "metadata": {
    "collapsed": true
   },
   "outputs": [
    {
     "ename": "FileNotFoundError",
     "evalue": "[Errno 2] No such file or directory: 'Y.FYTS_from_ByStages/IEEE118_mod1/R&D/Curtailment_nc200_2.csv'",
     "output_type": "error",
     "traceback": [
      "\u001b[1;31m---------------------------------------------------------------------------\u001b[0m",
      "\u001b[1;31mFileNotFoundError\u001b[0m                         Traceback (most recent call last)",
      "Cell \u001b[1;32mIn[66], line 11\u001b[0m\n\u001b[0;32m      7\u001b[0m \u001b[38;5;28;01mfor\u001b[39;00m nbc \u001b[38;5;129;01min\u001b[39;00m nbcs:\n\u001b[0;32m      8\u001b[0m     \u001b[38;5;28;01mfor\u001b[39;00m cm \u001b[38;5;129;01min\u001b[39;00m [\u001b[38;5;124m\"\u001b[39m\u001b[38;5;124mR&D\u001b[39m\u001b[38;5;124m\"\u001b[39m,\u001b[38;5;124m\"\u001b[39m\u001b[38;5;124mOPC\u001b[39m\u001b[38;5;124m\"\u001b[39m,\u001b[38;5;124m\"\u001b[39m\u001b[38;5;124mOPT_LB\u001b[39m\u001b[38;5;124m\"\u001b[39m,\u001b[38;5;124m\"\u001b[39m\u001b[38;5;124mCHI\u001b[39m\u001b[38;5;124m\"\u001b[39m,\u001b[38;5;124m\"\u001b[39m\u001b[38;5;124mHI\u001b[39m\u001b[38;5;124m\"\u001b[39m]:  \n\u001b[0;32m      9\u001b[0m \n\u001b[0;32m     10\u001b[0m         \u001b[38;5;66;03m#Curtailment \u001b[39;00m\n\u001b[1;32m---> 11\u001b[0m         curts_cm \u001b[38;5;241m=\u001b[39m \u001b[43mget_curts_CM\u001b[49m\u001b[43m(\u001b[49m\u001b[43mcase\u001b[49m\u001b[43m,\u001b[49m\u001b[43mcm\u001b[49m\u001b[43m,\u001b[49m\u001b[43mnbc\u001b[49m\u001b[43m)\u001b[49m\u001b[38;5;241m.\u001b[39msum(axis \u001b[38;5;241m=\u001b[39m \u001b[38;5;241m1\u001b[39m)\n\u001b[0;32m     12\u001b[0m         MAE_curt \u001b[38;5;241m=\u001b[39m np\u001b[38;5;241m.\u001b[39msort(curts_cm)\u001b[38;5;241m-\u001b[39mnp\u001b[38;5;241m.\u001b[39msort(curts_FYMILP)\n\u001b[0;32m     15\u001b[0m         \u001b[38;5;66;03m#line_util\u001b[39;00m\n",
      "Cell \u001b[1;32mIn[2], line 9\u001b[0m, in \u001b[0;36mget_curts_CM\u001b[1;34m(case, cm, nbc)\u001b[0m\n\u001b[0;32m      8\u001b[0m \u001b[38;5;28;01mdef\u001b[39;00m \u001b[38;5;21mget_curts_CM\u001b[39m(case,cm,nbc): \n\u001b[1;32m----> 9\u001b[0m     ts_CM_All_lines \u001b[38;5;241m=\u001b[39m \u001b[43mpd\u001b[49m\u001b[38;5;241;43m.\u001b[39;49m\u001b[43mread_csv\u001b[49m\u001b[43m(\u001b[49m\u001b[38;5;124;43mf\u001b[39;49m\u001b[38;5;124;43m\"\u001b[39;49m\u001b[38;5;124;43mY.FYTS_from_ByStages/\u001b[39;49m\u001b[38;5;132;43;01m{\u001b[39;49;00m\u001b[43mcase\u001b[49m\u001b[38;5;132;43;01m}\u001b[39;49;00m\u001b[38;5;124;43m/\u001b[39;49m\u001b[38;5;132;43;01m{\u001b[39;49;00m\u001b[43mcm\u001b[49m\u001b[38;5;132;43;01m}\u001b[39;49;00m\u001b[38;5;124;43m/Curtailment_nc\u001b[39;49m\u001b[38;5;132;43;01m{\u001b[39;49;00m\u001b[43mnbc\u001b[49m\u001b[38;5;132;43;01m}\u001b[39;49;00m\u001b[38;5;124;43m_2.csv\u001b[39;49m\u001b[38;5;124;43m\"\u001b[39;49m\u001b[43m,\u001b[49m\u001b[43mheader\u001b[49m\u001b[43m \u001b[49m\u001b[38;5;241;43m=\u001b[39;49m\u001b[43m \u001b[49m\u001b[43m[\u001b[49m\u001b[38;5;241;43m0\u001b[39;49m\u001b[43m]\u001b[49m\u001b[43m,\u001b[49m\u001b[43mindex_col\u001b[49m\u001b[38;5;241;43m=\u001b[39;49m\u001b[38;5;241;43m0\u001b[39;49m\u001b[43m)\u001b[49m\n\u001b[0;32m     10\u001b[0m     \u001b[38;5;28;01mreturn\u001b[39;00m ts_CM_All_lines\n",
      "File \u001b[1;32mC:\\Workdir\\Programs\\Miniconda\\envs\\jr23\\lib\\site-packages\\pandas\\io\\parsers\\readers.py:912\u001b[0m, in \u001b[0;36mread_csv\u001b[1;34m(filepath_or_buffer, sep, delimiter, header, names, index_col, usecols, dtype, engine, converters, true_values, false_values, skipinitialspace, skiprows, skipfooter, nrows, na_values, keep_default_na, na_filter, verbose, skip_blank_lines, parse_dates, infer_datetime_format, keep_date_col, date_parser, date_format, dayfirst, cache_dates, iterator, chunksize, compression, thousands, decimal, lineterminator, quotechar, quoting, doublequote, escapechar, comment, encoding, encoding_errors, dialect, on_bad_lines, delim_whitespace, low_memory, memory_map, float_precision, storage_options, dtype_backend)\u001b[0m\n\u001b[0;32m    899\u001b[0m kwds_defaults \u001b[38;5;241m=\u001b[39m _refine_defaults_read(\n\u001b[0;32m    900\u001b[0m     dialect,\n\u001b[0;32m    901\u001b[0m     delimiter,\n\u001b[1;32m   (...)\u001b[0m\n\u001b[0;32m    908\u001b[0m     dtype_backend\u001b[38;5;241m=\u001b[39mdtype_backend,\n\u001b[0;32m    909\u001b[0m )\n\u001b[0;32m    910\u001b[0m kwds\u001b[38;5;241m.\u001b[39mupdate(kwds_defaults)\n\u001b[1;32m--> 912\u001b[0m \u001b[38;5;28;01mreturn\u001b[39;00m \u001b[43m_read\u001b[49m\u001b[43m(\u001b[49m\u001b[43mfilepath_or_buffer\u001b[49m\u001b[43m,\u001b[49m\u001b[43m \u001b[49m\u001b[43mkwds\u001b[49m\u001b[43m)\u001b[49m\n",
      "File \u001b[1;32mC:\\Workdir\\Programs\\Miniconda\\envs\\jr23\\lib\\site-packages\\pandas\\io\\parsers\\readers.py:577\u001b[0m, in \u001b[0;36m_read\u001b[1;34m(filepath_or_buffer, kwds)\u001b[0m\n\u001b[0;32m    574\u001b[0m _validate_names(kwds\u001b[38;5;241m.\u001b[39mget(\u001b[38;5;124m\"\u001b[39m\u001b[38;5;124mnames\u001b[39m\u001b[38;5;124m\"\u001b[39m, \u001b[38;5;28;01mNone\u001b[39;00m))\n\u001b[0;32m    576\u001b[0m \u001b[38;5;66;03m# Create the parser.\u001b[39;00m\n\u001b[1;32m--> 577\u001b[0m parser \u001b[38;5;241m=\u001b[39m TextFileReader(filepath_or_buffer, \u001b[38;5;241m*\u001b[39m\u001b[38;5;241m*\u001b[39mkwds)\n\u001b[0;32m    579\u001b[0m \u001b[38;5;28;01mif\u001b[39;00m chunksize \u001b[38;5;129;01mor\u001b[39;00m iterator:\n\u001b[0;32m    580\u001b[0m     \u001b[38;5;28;01mreturn\u001b[39;00m parser\n",
      "File \u001b[1;32mC:\\Workdir\\Programs\\Miniconda\\envs\\jr23\\lib\\site-packages\\pandas\\io\\parsers\\readers.py:1407\u001b[0m, in \u001b[0;36mTextFileReader.__init__\u001b[1;34m(self, f, engine, **kwds)\u001b[0m\n\u001b[0;32m   1404\u001b[0m     \u001b[38;5;28mself\u001b[39m\u001b[38;5;241m.\u001b[39moptions[\u001b[38;5;124m\"\u001b[39m\u001b[38;5;124mhas_index_names\u001b[39m\u001b[38;5;124m\"\u001b[39m] \u001b[38;5;241m=\u001b[39m kwds[\u001b[38;5;124m\"\u001b[39m\u001b[38;5;124mhas_index_names\u001b[39m\u001b[38;5;124m\"\u001b[39m]\n\u001b[0;32m   1406\u001b[0m \u001b[38;5;28mself\u001b[39m\u001b[38;5;241m.\u001b[39mhandles: IOHandles \u001b[38;5;241m|\u001b[39m \u001b[38;5;28;01mNone\u001b[39;00m \u001b[38;5;241m=\u001b[39m \u001b[38;5;28;01mNone\u001b[39;00m\n\u001b[1;32m-> 1407\u001b[0m \u001b[38;5;28mself\u001b[39m\u001b[38;5;241m.\u001b[39m_engine \u001b[38;5;241m=\u001b[39m \u001b[38;5;28;43mself\u001b[39;49m\u001b[38;5;241;43m.\u001b[39;49m\u001b[43m_make_engine\u001b[49m\u001b[43m(\u001b[49m\u001b[43mf\u001b[49m\u001b[43m,\u001b[49m\u001b[43m \u001b[49m\u001b[38;5;28;43mself\u001b[39;49m\u001b[38;5;241;43m.\u001b[39;49m\u001b[43mengine\u001b[49m\u001b[43m)\u001b[49m\n",
      "File \u001b[1;32mC:\\Workdir\\Programs\\Miniconda\\envs\\jr23\\lib\\site-packages\\pandas\\io\\parsers\\readers.py:1661\u001b[0m, in \u001b[0;36mTextFileReader._make_engine\u001b[1;34m(self, f, engine)\u001b[0m\n\u001b[0;32m   1659\u001b[0m     \u001b[38;5;28;01mif\u001b[39;00m \u001b[38;5;124m\"\u001b[39m\u001b[38;5;124mb\u001b[39m\u001b[38;5;124m\"\u001b[39m \u001b[38;5;129;01mnot\u001b[39;00m \u001b[38;5;129;01min\u001b[39;00m mode:\n\u001b[0;32m   1660\u001b[0m         mode \u001b[38;5;241m+\u001b[39m\u001b[38;5;241m=\u001b[39m \u001b[38;5;124m\"\u001b[39m\u001b[38;5;124mb\u001b[39m\u001b[38;5;124m\"\u001b[39m\n\u001b[1;32m-> 1661\u001b[0m \u001b[38;5;28mself\u001b[39m\u001b[38;5;241m.\u001b[39mhandles \u001b[38;5;241m=\u001b[39m \u001b[43mget_handle\u001b[49m\u001b[43m(\u001b[49m\n\u001b[0;32m   1662\u001b[0m \u001b[43m    \u001b[49m\u001b[43mf\u001b[49m\u001b[43m,\u001b[49m\n\u001b[0;32m   1663\u001b[0m \u001b[43m    \u001b[49m\u001b[43mmode\u001b[49m\u001b[43m,\u001b[49m\n\u001b[0;32m   1664\u001b[0m \u001b[43m    \u001b[49m\u001b[43mencoding\u001b[49m\u001b[38;5;241;43m=\u001b[39;49m\u001b[38;5;28;43mself\u001b[39;49m\u001b[38;5;241;43m.\u001b[39;49m\u001b[43moptions\u001b[49m\u001b[38;5;241;43m.\u001b[39;49m\u001b[43mget\u001b[49m\u001b[43m(\u001b[49m\u001b[38;5;124;43m\"\u001b[39;49m\u001b[38;5;124;43mencoding\u001b[39;49m\u001b[38;5;124;43m\"\u001b[39;49m\u001b[43m,\u001b[49m\u001b[43m \u001b[49m\u001b[38;5;28;43;01mNone\u001b[39;49;00m\u001b[43m)\u001b[49m\u001b[43m,\u001b[49m\n\u001b[0;32m   1665\u001b[0m \u001b[43m    \u001b[49m\u001b[43mcompression\u001b[49m\u001b[38;5;241;43m=\u001b[39;49m\u001b[38;5;28;43mself\u001b[39;49m\u001b[38;5;241;43m.\u001b[39;49m\u001b[43moptions\u001b[49m\u001b[38;5;241;43m.\u001b[39;49m\u001b[43mget\u001b[49m\u001b[43m(\u001b[49m\u001b[38;5;124;43m\"\u001b[39;49m\u001b[38;5;124;43mcompression\u001b[39;49m\u001b[38;5;124;43m\"\u001b[39;49m\u001b[43m,\u001b[49m\u001b[43m \u001b[49m\u001b[38;5;28;43;01mNone\u001b[39;49;00m\u001b[43m)\u001b[49m\u001b[43m,\u001b[49m\n\u001b[0;32m   1666\u001b[0m \u001b[43m    \u001b[49m\u001b[43mmemory_map\u001b[49m\u001b[38;5;241;43m=\u001b[39;49m\u001b[38;5;28;43mself\u001b[39;49m\u001b[38;5;241;43m.\u001b[39;49m\u001b[43moptions\u001b[49m\u001b[38;5;241;43m.\u001b[39;49m\u001b[43mget\u001b[49m\u001b[43m(\u001b[49m\u001b[38;5;124;43m\"\u001b[39;49m\u001b[38;5;124;43mmemory_map\u001b[39;49m\u001b[38;5;124;43m\"\u001b[39;49m\u001b[43m,\u001b[49m\u001b[43m \u001b[49m\u001b[38;5;28;43;01mFalse\u001b[39;49;00m\u001b[43m)\u001b[49m\u001b[43m,\u001b[49m\n\u001b[0;32m   1667\u001b[0m \u001b[43m    \u001b[49m\u001b[43mis_text\u001b[49m\u001b[38;5;241;43m=\u001b[39;49m\u001b[43mis_text\u001b[49m\u001b[43m,\u001b[49m\n\u001b[0;32m   1668\u001b[0m \u001b[43m    \u001b[49m\u001b[43merrors\u001b[49m\u001b[38;5;241;43m=\u001b[39;49m\u001b[38;5;28;43mself\u001b[39;49m\u001b[38;5;241;43m.\u001b[39;49m\u001b[43moptions\u001b[49m\u001b[38;5;241;43m.\u001b[39;49m\u001b[43mget\u001b[49m\u001b[43m(\u001b[49m\u001b[38;5;124;43m\"\u001b[39;49m\u001b[38;5;124;43mencoding_errors\u001b[39;49m\u001b[38;5;124;43m\"\u001b[39;49m\u001b[43m,\u001b[49m\u001b[43m \u001b[49m\u001b[38;5;124;43m\"\u001b[39;49m\u001b[38;5;124;43mstrict\u001b[39;49m\u001b[38;5;124;43m\"\u001b[39;49m\u001b[43m)\u001b[49m\u001b[43m,\u001b[49m\n\u001b[0;32m   1669\u001b[0m \u001b[43m    \u001b[49m\u001b[43mstorage_options\u001b[49m\u001b[38;5;241;43m=\u001b[39;49m\u001b[38;5;28;43mself\u001b[39;49m\u001b[38;5;241;43m.\u001b[39;49m\u001b[43moptions\u001b[49m\u001b[38;5;241;43m.\u001b[39;49m\u001b[43mget\u001b[49m\u001b[43m(\u001b[49m\u001b[38;5;124;43m\"\u001b[39;49m\u001b[38;5;124;43mstorage_options\u001b[39;49m\u001b[38;5;124;43m\"\u001b[39;49m\u001b[43m,\u001b[49m\u001b[43m \u001b[49m\u001b[38;5;28;43;01mNone\u001b[39;49;00m\u001b[43m)\u001b[49m\u001b[43m,\u001b[49m\n\u001b[0;32m   1670\u001b[0m \u001b[43m\u001b[49m\u001b[43m)\u001b[49m\n\u001b[0;32m   1671\u001b[0m \u001b[38;5;28;01massert\u001b[39;00m \u001b[38;5;28mself\u001b[39m\u001b[38;5;241m.\u001b[39mhandles \u001b[38;5;129;01mis\u001b[39;00m \u001b[38;5;129;01mnot\u001b[39;00m \u001b[38;5;28;01mNone\u001b[39;00m\n\u001b[0;32m   1672\u001b[0m f \u001b[38;5;241m=\u001b[39m \u001b[38;5;28mself\u001b[39m\u001b[38;5;241m.\u001b[39mhandles\u001b[38;5;241m.\u001b[39mhandle\n",
      "File \u001b[1;32mC:\\Workdir\\Programs\\Miniconda\\envs\\jr23\\lib\\site-packages\\pandas\\io\\common.py:859\u001b[0m, in \u001b[0;36mget_handle\u001b[1;34m(path_or_buf, mode, encoding, compression, memory_map, is_text, errors, storage_options)\u001b[0m\n\u001b[0;32m    854\u001b[0m \u001b[38;5;28;01melif\u001b[39;00m \u001b[38;5;28misinstance\u001b[39m(handle, \u001b[38;5;28mstr\u001b[39m):\n\u001b[0;32m    855\u001b[0m     \u001b[38;5;66;03m# Check whether the filename is to be opened in binary mode.\u001b[39;00m\n\u001b[0;32m    856\u001b[0m     \u001b[38;5;66;03m# Binary mode does not support 'encoding' and 'newline'.\u001b[39;00m\n\u001b[0;32m    857\u001b[0m     \u001b[38;5;28;01mif\u001b[39;00m ioargs\u001b[38;5;241m.\u001b[39mencoding \u001b[38;5;129;01mand\u001b[39;00m \u001b[38;5;124m\"\u001b[39m\u001b[38;5;124mb\u001b[39m\u001b[38;5;124m\"\u001b[39m \u001b[38;5;129;01mnot\u001b[39;00m \u001b[38;5;129;01min\u001b[39;00m ioargs\u001b[38;5;241m.\u001b[39mmode:\n\u001b[0;32m    858\u001b[0m         \u001b[38;5;66;03m# Encoding\u001b[39;00m\n\u001b[1;32m--> 859\u001b[0m         handle \u001b[38;5;241m=\u001b[39m \u001b[38;5;28;43mopen\u001b[39;49m\u001b[43m(\u001b[49m\n\u001b[0;32m    860\u001b[0m \u001b[43m            \u001b[49m\u001b[43mhandle\u001b[49m\u001b[43m,\u001b[49m\n\u001b[0;32m    861\u001b[0m \u001b[43m            \u001b[49m\u001b[43mioargs\u001b[49m\u001b[38;5;241;43m.\u001b[39;49m\u001b[43mmode\u001b[49m\u001b[43m,\u001b[49m\n\u001b[0;32m    862\u001b[0m \u001b[43m            \u001b[49m\u001b[43mencoding\u001b[49m\u001b[38;5;241;43m=\u001b[39;49m\u001b[43mioargs\u001b[49m\u001b[38;5;241;43m.\u001b[39;49m\u001b[43mencoding\u001b[49m\u001b[43m,\u001b[49m\n\u001b[0;32m    863\u001b[0m \u001b[43m            \u001b[49m\u001b[43merrors\u001b[49m\u001b[38;5;241;43m=\u001b[39;49m\u001b[43merrors\u001b[49m\u001b[43m,\u001b[49m\n\u001b[0;32m    864\u001b[0m \u001b[43m            \u001b[49m\u001b[43mnewline\u001b[49m\u001b[38;5;241;43m=\u001b[39;49m\u001b[38;5;124;43m\"\u001b[39;49m\u001b[38;5;124;43m\"\u001b[39;49m\u001b[43m,\u001b[49m\n\u001b[0;32m    865\u001b[0m \u001b[43m        \u001b[49m\u001b[43m)\u001b[49m\n\u001b[0;32m    866\u001b[0m     \u001b[38;5;28;01melse\u001b[39;00m:\n\u001b[0;32m    867\u001b[0m         \u001b[38;5;66;03m# Binary mode\u001b[39;00m\n\u001b[0;32m    868\u001b[0m         handle \u001b[38;5;241m=\u001b[39m \u001b[38;5;28mopen\u001b[39m(handle, ioargs\u001b[38;5;241m.\u001b[39mmode)\n",
      "\u001b[1;31mFileNotFoundError\u001b[0m: [Errno 2] No such file or directory: 'Y.FYTS_from_ByStages/IEEE118_mod1/R&D/Curtailment_nc200_2.csv'"
     ]
    }
   ],
   "source": [
    "#Same but everything sorted\n",
    "\n",
    "frame_MAES = pd.DataFrame(columns = [\"cm\",\"nbc\",\"MAE_curt\",\"MAE_util\"])\n",
    "\n",
    "nbcs = [10,50,100,150]\n",
    "nbcs = [10,20,30,40,50,60,70,80,90,100,150,200,250,300,400]\n",
    "for nbc in nbcs:\n",
    "    for cm in [\"R&D\",\"OPC\",\"OPT_LB\",\"CHI\",\"HI\"]:  \n",
    "\n",
    "        #Curtailment \n",
    "        curts_cm = get_curts_CM(case,cm,nbc).sum(axis = 1)\n",
    "        MAE_curt = np.sort(curts_cm)-np.sort(curts_FYMILP)\n",
    "\n",
    "\n",
    "        #line_util\n",
    "        lu_cm = hm.get_utils_cm(cm,nbc,case)\n",
    "        arr_fy_all = np.zeros(lu_FY.shape[0]*lu_FY.shape[1])\n",
    "        arr_fy_cm = np.zeros(lu_FY.shape[0]*lu_FY.shape[1])\n",
    "\n",
    "        for i,col in enumerate(lu_FY.columns): \n",
    "            #print(col,lu_FY[col].to_numpy().shape,)\n",
    "            arr_fy_all[i*8736:(i+1)*8736] = np.sort(lu_FY[col].to_numpy())\n",
    "            arr_fy_cm[i*8736:(i+1)*8736] = np.sort(lu_cm[col].to_numpy())\n",
    "\n",
    "        MAE_util = np.mean(np.abs(np.sort(lu_cm) -np.sort(lu_FY)))    \n",
    "        filter_ = arr_fy_all>=0.80 \n",
    "        MAE_util_filtered = np.mean(np.abs(arr_fy_all[filter_] -arr_fy_cm[filter_]))\n",
    "        \n",
    "        \n",
    "        #Net demand \n",
    "        df_net_dem = hm.get_net_dem_cm(cm, nbc, case)\n",
    "        np_net_dem = df_net_dem[\"NetDemand\"].to_numpy()\n",
    "        MAE_nd = np.mean(np.abs(np.sort(np_net_dem)-np.sort(net_dem_ph.to_numpy())))\n",
    "        \n",
    "        #MAE_nd = np.mean(np.abs(np.sort(np_net_dem)-np.sort(net_dem_ph.to_numpy())))\n",
    "\n",
    "        \n",
    "        this_frame = pd.DataFrame({\"cm\":[cm],\"nbc\":[nbc],\"MAE_net_demand\":MAE_nd,\"MAE_curt\": [np.mean(np.abs(MAE_curt))],\"MAE_util\":MAE_util,\"MAE_util_filtered\":[MAE_util_filtered]})\n",
    "        frame_MAES = pd.concat([frame_MAES,this_frame])"
   ]
  },
  {
   "cell_type": "code",
   "execution_count": null,
   "id": "9809a54a",
   "metadata": {},
   "outputs": [],
   "source": [
    "frame_MAES.groupby(\"cm\").min()"
   ]
  },
  {
   "cell_type": "code",
   "execution_count": null,
   "id": "77b25ec7",
   "metadata": {},
   "outputs": [],
   "source": [
    "(frame_MAES.groupby(\"cm\").max()/frame_MAES.groupby(\"cm\").min())-1"
   ]
  },
  {
   "cell_type": "markdown",
   "id": "b4487916",
   "metadata": {},
   "source": [
    "# Combined no absolute"
   ]
  },
  {
   "cell_type": "code",
   "execution_count": 93,
   "id": "c2c4207e",
   "metadata": {},
   "outputs": [],
   "source": [
    "case = \"IEEE118_mod1\"\n",
    "\n",
    "curts_FYMILP = hm.get_curts_FYWOI(case).pivot(values = \"MW\",index = \"LoadLevel\",columns = \"Unit\").sum(axis = 1)\n",
    "lu_FY = hm.get_utils_FYWOI(case).pivot(values = \"GWh\",index = \"LoadLevel\",columns = [\"InitialNode\",\"FinalNode\"])\n",
    "net_dem_ph = hm.get_net_dem_FY(case)"
   ]
  },
  {
   "cell_type": "code",
   "execution_count": 94,
   "id": "d76414ad",
   "metadata": {},
   "outputs": [
    {
     "ename": "NameError",
     "evalue": "name 'get_curts_CM' is not defined",
     "output_type": "error",
     "traceback": [
      "\u001b[1;31m---------------------------------------------------------------------------\u001b[0m",
      "\u001b[1;31mNameError\u001b[0m                                 Traceback (most recent call last)",
      "Cell \u001b[1;32mIn[94], line 12\u001b[0m\n\u001b[0;32m      8\u001b[0m \u001b[38;5;28;01mfor\u001b[39;00m nbc \u001b[38;5;129;01min\u001b[39;00m nbcs:\n\u001b[0;32m      9\u001b[0m     \u001b[38;5;28;01mfor\u001b[39;00m cm \u001b[38;5;129;01min\u001b[39;00m [\u001b[38;5;124m\"\u001b[39m\u001b[38;5;124mR&D\u001b[39m\u001b[38;5;124m\"\u001b[39m,\u001b[38;5;124m\"\u001b[39m\u001b[38;5;124mOPC\u001b[39m\u001b[38;5;124m\"\u001b[39m,\u001b[38;5;124m\"\u001b[39m\u001b[38;5;124mOPT_LB\u001b[39m\u001b[38;5;124m\"\u001b[39m,\u001b[38;5;124m\"\u001b[39m\u001b[38;5;124mCHI\u001b[39m\u001b[38;5;124m\"\u001b[39m,\u001b[38;5;124m\"\u001b[39m\u001b[38;5;124mHI\u001b[39m\u001b[38;5;124m\"\u001b[39m]:  \n\u001b[0;32m     10\u001b[0m \n\u001b[0;32m     11\u001b[0m         \u001b[38;5;66;03m#Curtailment \u001b[39;00m\n\u001b[1;32m---> 12\u001b[0m         curts_cm \u001b[38;5;241m=\u001b[39m \u001b[43mget_curts_CM\u001b[49m(case,cm,nbc)\u001b[38;5;241m.\u001b[39msum(axis \u001b[38;5;241m=\u001b[39m \u001b[38;5;241m1\u001b[39m)\n\u001b[0;32m     13\u001b[0m         MAE_curt \u001b[38;5;241m=\u001b[39m (curts_cm)\u001b[38;5;241m-\u001b[39m(curts_FYMILP)\n\u001b[0;32m     16\u001b[0m         \u001b[38;5;66;03m#line_util\u001b[39;00m\n",
      "\u001b[1;31mNameError\u001b[0m: name 'get_curts_CM' is not defined"
     ]
    }
   ],
   "source": [
    "#Same but no absolute errors\n",
    "\n",
    "frame_MAES = pd.DataFrame(columns = [\"cm\",\"nbc\",\"MAE_curt\",\"MAE_util\"])\n",
    "\n",
    "nbcs = [10,50,100,150]\n",
    "nbcs = [10,20,30,40,50,60,70,80,90,100,110,120,130,140,150]\n",
    "nbcs = [150]\n",
    "for nbc in nbcs:\n",
    "    for cm in [\"R&D\",\"OPC\",\"OPT_LB\",\"CHI\",\"HI\"]:  \n",
    "\n",
    "        #Curtailment \n",
    "        curts_cm = get_curts_CM(case,cm,nbc).sum(axis = 1)\n",
    "        MAE_curt = (curts_cm)-(curts_FYMILP)\n",
    "\n",
    "\n",
    "        #line_util\n",
    "        lu_cm = hm.get_utils_cm(cm,nbc,case)\n",
    "        arr_fy_all = np.zeros(lu_FY.shape[0]*lu_FY.shape[1])\n",
    "        arr_fy_cm = np.zeros(lu_FY.shape[0]*lu_FY.shape[1])\n",
    "\n",
    "        for i,col in enumerate(lu_FY.columns): \n",
    "            #print(col,lu_FY[col].to_numpy().shape,)\n",
    "            arr_fy_all[i*8736:(i+1)*8736] = (lu_FY[col].to_numpy())\n",
    "            arr_fy_cm[i*8736:(i+1)*8736] = (lu_cm[col].to_numpy())\n",
    "\n",
    "        MAE_util = np.mean((lu_FY)-(lu_cm))  \n",
    "        ME_util = arr_fy_cm[filter_]-arr_fy_all[filter_]\n",
    "        filter_ = arr_fy_cm>=0.80 \n",
    "        MAE_util_filtered = np.mean((arr_fy_cm[filter_]-arr_fy_all[filter_] ))\n",
    "        \n",
    "        \n",
    "        #Net demand \n",
    "        df_net_dem = hm.get_net_dem_cm(cm, nbc, case)\n",
    "        np_net_dem = df_net_dem[\"NetDemand\"].to_numpy()\n",
    "        MAE_nd = np.mean(((net_dem_ph.to_numpy()))-(np_net_dem))\n",
    "        \n",
    "        #MAE_nd = np.mean(np.abs(np.sort(np_net_dem)-np.sort(net_dem_ph.to_numpy())))\n",
    "\n",
    "        \n",
    "        this_frame = pd.DataFrame({\"cm\":[cm],\"nbc\":[nbc],\"MAE_net_demand\":MAE_nd,\"MAE_curt\": [np.mean((MAE_curt))],\"MAE_util\":MAE_util,\"MAE_util_filtered\":[MAE_util_filtered]})\n",
    "        frame_MAES = pd.concat([frame_MAES,this_frame])"
   ]
  },
  {
   "cell_type": "code",
   "execution_count": 194,
   "id": "8276cbce",
   "metadata": {},
   "outputs": [
    {
     "data": {
      "text/html": [
       "<div>\n",
       "<style scoped>\n",
       "    .dataframe tbody tr th:only-of-type {\n",
       "        vertical-align: middle;\n",
       "    }\n",
       "\n",
       "    .dataframe tbody tr th {\n",
       "        vertical-align: top;\n",
       "    }\n",
       "\n",
       "    .dataframe thead th {\n",
       "        text-align: right;\n",
       "    }\n",
       "</style>\n",
       "<table border=\"1\" class=\"dataframe\">\n",
       "  <thead>\n",
       "    <tr style=\"text-align: right;\">\n",
       "      <th></th>\n",
       "      <th>cm</th>\n",
       "      <th>nbc</th>\n",
       "      <th>MAE_curt</th>\n",
       "      <th>MAE_util</th>\n",
       "      <th>MAE_net_demand</th>\n",
       "      <th>MAE_util_filtered</th>\n",
       "    </tr>\n",
       "  </thead>\n",
       "  <tbody>\n",
       "    <tr>\n",
       "      <th>0</th>\n",
       "      <td>R&amp;D</td>\n",
       "      <td>150</td>\n",
       "      <td>-38.754850</td>\n",
       "      <td>0.000372</td>\n",
       "      <td>-62.037919</td>\n",
       "      <td>0.212485</td>\n",
       "    </tr>\n",
       "    <tr>\n",
       "      <th>0</th>\n",
       "      <td>OPC</td>\n",
       "      <td>150</td>\n",
       "      <td>-522.173786</td>\n",
       "      <td>0.008166</td>\n",
       "      <td>-401.915098</td>\n",
       "      <td>0.310681</td>\n",
       "    </tr>\n",
       "    <tr>\n",
       "      <th>0</th>\n",
       "      <td>OPT_LB</td>\n",
       "      <td>150</td>\n",
       "      <td>-494.864358</td>\n",
       "      <td>0.013738</td>\n",
       "      <td>-11.661157</td>\n",
       "      <td>0.261133</td>\n",
       "    </tr>\n",
       "    <tr>\n",
       "      <th>0</th>\n",
       "      <td>CHI</td>\n",
       "      <td>150</td>\n",
       "      <td>-548.760904</td>\n",
       "      <td>0.002772</td>\n",
       "      <td>-295.049258</td>\n",
       "      <td>0.197811</td>\n",
       "    </tr>\n",
       "    <tr>\n",
       "      <th>0</th>\n",
       "      <td>HI</td>\n",
       "      <td>150</td>\n",
       "      <td>-74.994903</td>\n",
       "      <td>0.007502</td>\n",
       "      <td>13.509289</td>\n",
       "      <td>0.203351</td>\n",
       "    </tr>\n",
       "  </tbody>\n",
       "</table>\n",
       "</div>"
      ],
      "text/plain": [
       "       cm  nbc    MAE_curt  MAE_util  MAE_net_demand  MAE_util_filtered\n",
       "0     R&D  150  -38.754850  0.000372      -62.037919           0.212485\n",
       "0     OPC  150 -522.173786  0.008166     -401.915098           0.310681\n",
       "0  OPT_LB  150 -494.864358  0.013738      -11.661157           0.261133\n",
       "0     CHI  150 -548.760904  0.002772     -295.049258           0.197811\n",
       "0      HI  150  -74.994903  0.007502       13.509289           0.203351"
      ]
     },
     "execution_count": 194,
     "metadata": {},
     "output_type": "execute_result"
    }
   ],
   "source": [
    "frame_MAES"
   ]
  },
  {
   "cell_type": "code",
   "execution_count": 185,
   "id": "45a8e717",
   "metadata": {},
   "outputs": [
    {
     "data": {
      "text/html": [
       "<div>\n",
       "<style scoped>\n",
       "    .dataframe tbody tr th:only-of-type {\n",
       "        vertical-align: middle;\n",
       "    }\n",
       "\n",
       "    .dataframe tbody tr th {\n",
       "        vertical-align: top;\n",
       "    }\n",
       "\n",
       "    .dataframe thead th {\n",
       "        text-align: right;\n",
       "    }\n",
       "</style>\n",
       "<table border=\"1\" class=\"dataframe\">\n",
       "  <thead>\n",
       "    <tr style=\"text-align: right;\">\n",
       "      <th></th>\n",
       "      <th>nbc</th>\n",
       "      <th>MAE_curt</th>\n",
       "      <th>MAE_util</th>\n",
       "      <th>MAE_net_demand</th>\n",
       "      <th>MAE_util_filtered</th>\n",
       "    </tr>\n",
       "    <tr>\n",
       "      <th>cm</th>\n",
       "      <th></th>\n",
       "      <th></th>\n",
       "      <th></th>\n",
       "      <th></th>\n",
       "      <th></th>\n",
       "    </tr>\n",
       "  </thead>\n",
       "  <tbody>\n",
       "    <tr>\n",
       "      <th>CHI</th>\n",
       "      <td>40.0</td>\n",
       "      <td>112.692050</td>\n",
       "      <td>0.009637</td>\n",
       "      <td>864.191706</td>\n",
       "      <td>0.195787</td>\n",
       "    </tr>\n",
       "    <tr>\n",
       "      <th>HI</th>\n",
       "      <td>40.0</td>\n",
       "      <td>-664.030316</td>\n",
       "      <td>0.014523</td>\n",
       "      <td>-102.996603</td>\n",
       "      <td>0.230154</td>\n",
       "    </tr>\n",
       "    <tr>\n",
       "      <th>OPC</th>\n",
       "      <td>40.0</td>\n",
       "      <td>1115.892037</td>\n",
       "      <td>-0.012389</td>\n",
       "      <td>971.724373</td>\n",
       "      <td>0.382296</td>\n",
       "    </tr>\n",
       "    <tr>\n",
       "      <th>OPT_LB</th>\n",
       "      <td>40.0</td>\n",
       "      <td>225.535763</td>\n",
       "      <td>0.017161</td>\n",
       "      <td>155.766582</td>\n",
       "      <td>0.336469</td>\n",
       "    </tr>\n",
       "    <tr>\n",
       "      <th>R&amp;D</th>\n",
       "      <td>40.0</td>\n",
       "      <td>-170.002487</td>\n",
       "      <td>-0.003586</td>\n",
       "      <td>-194.999274</td>\n",
       "      <td>0.224739</td>\n",
       "    </tr>\n",
       "  </tbody>\n",
       "</table>\n",
       "</div>"
      ],
      "text/plain": [
       "         nbc     MAE_curt  MAE_util  MAE_net_demand  MAE_util_filtered\n",
       "cm                                                                    \n",
       "CHI     40.0   112.692050  0.009637      864.191706           0.195787\n",
       "HI      40.0  -664.030316  0.014523     -102.996603           0.230154\n",
       "OPC     40.0  1115.892037 -0.012389      971.724373           0.382296\n",
       "OPT_LB  40.0   225.535763  0.017161      155.766582           0.336469\n",
       "R&D     40.0  -170.002487 -0.003586     -194.999274           0.224739"
      ]
     },
     "execution_count": 185,
     "metadata": {},
     "output_type": "execute_result"
    }
   ],
   "source": [
    "frame_MAES.groupby(\"cm\").mean()"
   ]
  }
 ],
 "metadata": {
  "kernelspec": {
   "display_name": "Python 3 (ipykernel)",
   "language": "python",
   "name": "python3"
  },
  "language_info": {
   "codemirror_mode": {
    "name": "ipython",
    "version": 3
   },
   "file_extension": ".py",
   "mimetype": "text/x-python",
   "name": "python",
   "nbconvert_exporter": "python",
   "pygments_lexer": "ipython3",
   "version": "3.10.11"
  }
 },
 "nbformat": 4,
 "nbformat_minor": 5
}
