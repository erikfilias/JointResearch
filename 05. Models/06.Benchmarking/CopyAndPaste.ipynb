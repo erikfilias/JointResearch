{
 "cells": [
  {
   "cell_type": "code",
   "execution_count": 56,
   "metadata": {},
   "outputs": [],
   "source": [
    "import os\n",
    "import altair as alt\n",
    "import pandas as pd"
   ]
  },
  {
   "cell_type": "code",
   "execution_count": 57,
   "metadata": {},
   "outputs": [],
   "source": [
    "CaseName_Base = 'RTS24_mod1'\n",
    "CaseName_ByStage = CaseName_Base + '_ByStages'\n",
    "# CaseName_ByStages = CaseName_Base + '_ByStages_nc'"
   ]
  },
  {
   "cell_type": "code",
   "execution_count": 58,
   "metadata": {},
   "outputs": [],
   "source": [
    "DirName  = os.getcwd()"
   ]
  },
  {
   "cell_type": "code",
   "execution_count": 59,
   "metadata": {},
   "outputs": [],
   "source": [
    "Folder_A = 'A.The_full_year_MILP'\n",
    "Folder_D = 'D.Representative_days_based_on_RES_and_Demand'\n",
    "Folder_E = 'E.Representative_days_based_on_Line_Benefits_OptModel'\n",
    "Folder_F = 'F.Representative_days_based_on_Line_Benefit_NN_OC_fy_1'\n",
    "Folder_G = 'G.Representative_days_based_on_Line_Benefit_NN_OC_fy_2'\n",
    "# Folder_H = 'H.Representative_days_based_on_Line_Benefit_NN_OC_fy_3'\n",
    "# Folder_I = 'I.Representative_days_based_on_Line_Benefit_NN_OC_fy_4'"
   ]
  },
  {
   "cell_type": "code",
   "execution_count": 60,
   "metadata": {},
   "outputs": [],
   "source": [
    "# Folders = [Folder_D, Folder_E, Folder_F, Folder_G, Folder_H, Folder_I]\n",
    "Folders = [Folder_D, Folder_E, Folder_F, Folder_G]\n"
   ]
  },
  {
   "cell_type": "code",
   "execution_count": 61,
   "metadata": {},
   "outputs": [
    {
     "name": "stdout",
     "output_type": "stream",
     "text": [
      "c:\\Users\\ealvarezq\\Documents\\GitHub\\Comillas\\Models\\JointResearch\\05. Models\\06.Benchmarking\\D.Representative_days_based_on_RES_and_Demand\\RTS24_mod1_ByStages\\2.Par\n"
     ]
    }
   ],
   "source": [
    "# reading the data\n",
    "df_Generation = pd.read_csv(os.path.join(DirName, Folder_A, CaseName_Base, '2.Par', 'oT_Data_Generation_' + CaseName_Base + '.csv'), index_col=0)\n",
    "df_Generation.fillna(0, inplace=True)\n",
    "# renaming the dataframe and saving it\n",
    "df_Generation.index.name = None\n",
    "print(os.path.join(DirName, Folder_D, CaseName_ByStage, '2.Par'))"
   ]
  },
  {
   "cell_type": "code",
   "execution_count": 62,
   "metadata": {},
   "outputs": [
    {
     "name": "stdout",
     "output_type": "stream",
     "text": [
      "c:\\Users\\ealvarezq\\Documents\\GitHub\\Comillas\\Models\\JointResearch\\05. Models\\06.Benchmarking\\D.Representative_days_based_on_RES_and_Demand\\RTS24_mod1_ByStages\\2.Par\n"
     ]
    }
   ],
   "source": [
    "# reading the data\n",
    "df_Network = pd.read_csv(os.path.join(DirName, Folder_A, CaseName_Base, '2.Par', 'oT_Data_Network_' + CaseName_Base + '.csv'), index_col=[0,1,2])\n",
    "df_Network.fillna(0, inplace=True)\n",
    "# renaming the dataframe and saving it\n",
    "df_Network.index.names = [None, None, None]\n",
    "print(os.path.join(DirName, Folder_D, CaseName_ByStage, '2.Par'))"
   ]
  },
  {
   "cell_type": "code",
   "execution_count": 63,
   "metadata": {},
   "outputs": [
    {
     "name": "stdout",
     "output_type": "stream",
     "text": [
      "c:\\Users\\ealvarezq\\Documents\\GitHub\\Comillas\\Models\\JointResearch\\05. Models\\06.Benchmarking\\D.Representative_days_based_on_RES_and_Demand\\RTS24_mod1_ByStages\\2.Par\n"
     ]
    }
   ],
   "source": [
    "# reading the data\n",
    "df_VarGen = pd.read_csv(os.path.join(DirName, Folder_A, CaseName_Base, '2.Par', 'oT_Data_VariableMaxGeneration_' + CaseName_Base + '.csv'), index_col=[0,1,2])\n",
    "df_VarGen.fillna(0, inplace=True)\n",
    "# renaming the dataframe and saving it\n",
    "df_VarGen.index.names = [None, None, None]\n",
    "print(os.path.join(DirName, Folder_D, CaseName_ByStage, '2.Par'))"
   ]
  },
  {
   "cell_type": "code",
   "execution_count": 64,
   "metadata": {},
   "outputs": [],
   "source": [
    "# dataframes = [df_Generation, df_Network, df_VarGen]\n",
    "dataframes = [df_Network]"
   ]
  },
  {
   "cell_type": "code",
   "execution_count": 65,
   "metadata": {},
   "outputs": [],
   "source": [
    "def loop(df, folder, case, df_type):\n",
    "    if df_type == 0:\n",
    "        df.to_csv(os.path.join(DirName, folder, case, '2.Par', 'oT_Data_Generation_' + case + '.csv'), index=True)\n",
    "    elif df_type == 1:\n",
    "        df.to_csv(os.path.join(DirName, folder, case, '2.Par', 'oT_Data_Network_' + case + '.csv'), index=True)\n",
    "    elif df_type == 2:\n",
    "        df.to_csv(os.path.join(DirName, folder, case, '2.Par', 'oT_Data_VariableMaxGeneration_' + case + '.csv'), index=True)\n",
    "    for i in range(10, 101, 10):\n",
    "        print(os.path.join(DirName, folder, case + '_nc' + str(i), '2.Par'))\n",
    "        if df_type == 0:\n",
    "            df.to_csv(os.path.join(DirName, folder, case + '_nc' + str(i), '2.Par', 'oT_Data_Generation_' + case + '_nc' + str(i) + '.csv'), index=True)\n",
    "        elif df_type == 1:\n",
    "            df.to_csv(os.path.join(DirName, folder, case + '_nc' + str(i), '2.Par', 'oT_Data_Network_' + case + '_nc' + str(i) + '.csv'), index=True)\n",
    "        elif df_type == 2:\n",
    "            df.to_csv(os.path.join(DirName, folder, case + '_nc' + str(i), '2.Par', 'oT_Data_VariableMaxGeneration_' + case + '_nc' + str(i) + '.csv'), index=True)\n",
    "    for i in [1000, 2000, 4000]:\n",
    "        print(os.path.join(DirName, folder, case + '_nc' + str(i), '2.Par'))\n",
    "        if df_type == 0:\n",
    "            df.to_csv(os.path.join(DirName, folder, case + '_nc' + str(i), '2.Par', 'oT_Data_Generation_' + case + '_nc' + str(i) + '.csv'), index=True)\n",
    "        elif df_type == 1:\n",
    "            df.to_csv(os.path.join(DirName, folder, case + '_nc' + str(i), '2.Par', 'oT_Data_Network_' + case + '_nc' + str(i) + '.csv'), index=True)\n",
    "        elif df_type == 2:\n",
    "            df.to_csv(os.path.join(DirName, folder, case + '_nc' + str(i), '2.Par', 'oT_Data_VariableMaxGeneration_' + case + '_nc' + str(i) + '.csv'), index=True)"
   ]
  },
  {
   "cell_type": "code",
   "execution_count": 66,
   "metadata": {},
   "outputs": [
    {
     "name": "stdout",
     "output_type": "stream",
     "text": [
      "c:\\Users\\ealvarezq\\Documents\\GitHub\\Comillas\\Models\\JointResearch\\05. Models\\06.Benchmarking\\D.Representative_days_based_on_RES_and_Demand\\RTS24_mod1_ByStages_nc10\\2.Par\n",
      "c:\\Users\\ealvarezq\\Documents\\GitHub\\Comillas\\Models\\JointResearch\\05. Models\\06.Benchmarking\\D.Representative_days_based_on_RES_and_Demand\\RTS24_mod1_ByStages_nc20\\2.Par\n",
      "c:\\Users\\ealvarezq\\Documents\\GitHub\\Comillas\\Models\\JointResearch\\05. Models\\06.Benchmarking\\D.Representative_days_based_on_RES_and_Demand\\RTS24_mod1_ByStages_nc30\\2.Par\n",
      "c:\\Users\\ealvarezq\\Documents\\GitHub\\Comillas\\Models\\JointResearch\\05. Models\\06.Benchmarking\\D.Representative_days_based_on_RES_and_Demand\\RTS24_mod1_ByStages_nc40\\2.Par\n",
      "c:\\Users\\ealvarezq\\Documents\\GitHub\\Comillas\\Models\\JointResearch\\05. Models\\06.Benchmarking\\D.Representative_days_based_on_RES_and_Demand\\RTS24_mod1_ByStages_nc50\\2.Par\n",
      "c:\\Users\\ealvarezq\\Documents\\GitHub\\Comillas\\Models\\JointResearch\\05. Models\\06.Benchmarking\\D.Representative_days_based_on_RES_and_Demand\\RTS24_mod1_ByStages_nc60\\2.Par\n",
      "c:\\Users\\ealvarezq\\Documents\\GitHub\\Comillas\\Models\\JointResearch\\05. Models\\06.Benchmarking\\D.Representative_days_based_on_RES_and_Demand\\RTS24_mod1_ByStages_nc70\\2.Par\n",
      "c:\\Users\\ealvarezq\\Documents\\GitHub\\Comillas\\Models\\JointResearch\\05. Models\\06.Benchmarking\\D.Representative_days_based_on_RES_and_Demand\\RTS24_mod1_ByStages_nc80\\2.Par\n",
      "c:\\Users\\ealvarezq\\Documents\\GitHub\\Comillas\\Models\\JointResearch\\05. Models\\06.Benchmarking\\D.Representative_days_based_on_RES_and_Demand\\RTS24_mod1_ByStages_nc90\\2.Par\n",
      "c:\\Users\\ealvarezq\\Documents\\GitHub\\Comillas\\Models\\JointResearch\\05. Models\\06.Benchmarking\\D.Representative_days_based_on_RES_and_Demand\\RTS24_mod1_ByStages_nc100\\2.Par\n",
      "c:\\Users\\ealvarezq\\Documents\\GitHub\\Comillas\\Models\\JointResearch\\05. Models\\06.Benchmarking\\D.Representative_days_based_on_RES_and_Demand\\RTS24_mod1_ByStages_nc1000\\2.Par\n"
     ]
    },
    {
     "name": "stdout",
     "output_type": "stream",
     "text": [
      "c:\\Users\\ealvarezq\\Documents\\GitHub\\Comillas\\Models\\JointResearch\\05. Models\\06.Benchmarking\\D.Representative_days_based_on_RES_and_Demand\\RTS24_mod1_ByStages_nc2000\\2.Par\n",
      "c:\\Users\\ealvarezq\\Documents\\GitHub\\Comillas\\Models\\JointResearch\\05. Models\\06.Benchmarking\\D.Representative_days_based_on_RES_and_Demand\\RTS24_mod1_ByStages_nc4000\\2.Par\n",
      "c:\\Users\\ealvarezq\\Documents\\GitHub\\Comillas\\Models\\JointResearch\\05. Models\\06.Benchmarking\\E.Representative_days_based_on_Line_Benefits_OptModel\\RTS24_mod1_ByStages_nc10\\2.Par\n",
      "c:\\Users\\ealvarezq\\Documents\\GitHub\\Comillas\\Models\\JointResearch\\05. Models\\06.Benchmarking\\E.Representative_days_based_on_Line_Benefits_OptModel\\RTS24_mod1_ByStages_nc20\\2.Par\n",
      "c:\\Users\\ealvarezq\\Documents\\GitHub\\Comillas\\Models\\JointResearch\\05. Models\\06.Benchmarking\\E.Representative_days_based_on_Line_Benefits_OptModel\\RTS24_mod1_ByStages_nc30\\2.Par\n",
      "c:\\Users\\ealvarezq\\Documents\\GitHub\\Comillas\\Models\\JointResearch\\05. Models\\06.Benchmarking\\E.Representative_days_based_on_Line_Benefits_OptModel\\RTS24_mod1_ByStages_nc40\\2.Par\n",
      "c:\\Users\\ealvarezq\\Documents\\GitHub\\Comillas\\Models\\JointResearch\\05. Models\\06.Benchmarking\\E.Representative_days_based_on_Line_Benefits_OptModel\\RTS24_mod1_ByStages_nc50\\2.Par\n",
      "c:\\Users\\ealvarezq\\Documents\\GitHub\\Comillas\\Models\\JointResearch\\05. Models\\06.Benchmarking\\E.Representative_days_based_on_Line_Benefits_OptModel\\RTS24_mod1_ByStages_nc60\\2.Par\n",
      "c:\\Users\\ealvarezq\\Documents\\GitHub\\Comillas\\Models\\JointResearch\\05. Models\\06.Benchmarking\\E.Representative_days_based_on_Line_Benefits_OptModel\\RTS24_mod1_ByStages_nc70\\2.Par\n",
      "c:\\Users\\ealvarezq\\Documents\\GitHub\\Comillas\\Models\\JointResearch\\05. Models\\06.Benchmarking\\E.Representative_days_based_on_Line_Benefits_OptModel\\RTS24_mod1_ByStages_nc80\\2.Par\n",
      "c:\\Users\\ealvarezq\\Documents\\GitHub\\Comillas\\Models\\JointResearch\\05. Models\\06.Benchmarking\\E.Representative_days_based_on_Line_Benefits_OptModel\\RTS24_mod1_ByStages_nc90\\2.Par\n",
      "c:\\Users\\ealvarezq\\Documents\\GitHub\\Comillas\\Models\\JointResearch\\05. Models\\06.Benchmarking\\E.Representative_days_based_on_Line_Benefits_OptModel\\RTS24_mod1_ByStages_nc100\\2.Par\n",
      "c:\\Users\\ealvarezq\\Documents\\GitHub\\Comillas\\Models\\JointResearch\\05. Models\\06.Benchmarking\\E.Representative_days_based_on_Line_Benefits_OptModel\\RTS24_mod1_ByStages_nc1000\\2.Par\n",
      "c:\\Users\\ealvarezq\\Documents\\GitHub\\Comillas\\Models\\JointResearch\\05. Models\\06.Benchmarking\\E.Representative_days_based_on_Line_Benefits_OptModel\\RTS24_mod1_ByStages_nc2000\\2.Par\n",
      "c:\\Users\\ealvarezq\\Documents\\GitHub\\Comillas\\Models\\JointResearch\\05. Models\\06.Benchmarking\\E.Representative_days_based_on_Line_Benefits_OptModel\\RTS24_mod1_ByStages_nc4000\\2.Par\n",
      "c:\\Users\\ealvarezq\\Documents\\GitHub\\Comillas\\Models\\JointResearch\\05. Models\\06.Benchmarking\\F.Representative_days_based_on_Line_Benefit_NN_OC_fy_1\\RTS24_mod1_ByStages_nc10\\2.Par\n",
      "c:\\Users\\ealvarezq\\Documents\\GitHub\\Comillas\\Models\\JointResearch\\05. Models\\06.Benchmarking\\F.Representative_days_based_on_Line_Benefit_NN_OC_fy_1\\RTS24_mod1_ByStages_nc20\\2.Par\n",
      "c:\\Users\\ealvarezq\\Documents\\GitHub\\Comillas\\Models\\JointResearch\\05. Models\\06.Benchmarking\\F.Representative_days_based_on_Line_Benefit_NN_OC_fy_1\\RTS24_mod1_ByStages_nc30\\2.Par\n",
      "c:\\Users\\ealvarezq\\Documents\\GitHub\\Comillas\\Models\\JointResearch\\05. Models\\06.Benchmarking\\F.Representative_days_based_on_Line_Benefit_NN_OC_fy_1\\RTS24_mod1_ByStages_nc40\\2.Par\n",
      "c:\\Users\\ealvarezq\\Documents\\GitHub\\Comillas\\Models\\JointResearch\\05. Models\\06.Benchmarking\\F.Representative_days_based_on_Line_Benefit_NN_OC_fy_1\\RTS24_mod1_ByStages_nc50\\2.Par\n",
      "c:\\Users\\ealvarezq\\Documents\\GitHub\\Comillas\\Models\\JointResearch\\05. Models\\06.Benchmarking\\F.Representative_days_based_on_Line_Benefit_NN_OC_fy_1\\RTS24_mod1_ByStages_nc60\\2.Par\n",
      "c:\\Users\\ealvarezq\\Documents\\GitHub\\Comillas\\Models\\JointResearch\\05. Models\\06.Benchmarking\\F.Representative_days_based_on_Line_Benefit_NN_OC_fy_1\\RTS24_mod1_ByStages_nc70\\2.Par\n",
      "c:\\Users\\ealvarezq\\Documents\\GitHub\\Comillas\\Models\\JointResearch\\05. Models\\06.Benchmarking\\F.Representative_days_based_on_Line_Benefit_NN_OC_fy_1\\RTS24_mod1_ByStages_nc80\\2.Par\n",
      "c:\\Users\\ealvarezq\\Documents\\GitHub\\Comillas\\Models\\JointResearch\\05. Models\\06.Benchmarking\\F.Representative_days_based_on_Line_Benefit_NN_OC_fy_1\\RTS24_mod1_ByStages_nc90\\2.Par\n",
      "c:\\Users\\ealvarezq\\Documents\\GitHub\\Comillas\\Models\\JointResearch\\05. Models\\06.Benchmarking\\F.Representative_days_based_on_Line_Benefit_NN_OC_fy_1\\RTS24_mod1_ByStages_nc100\\2.Par\n",
      "c:\\Users\\ealvarezq\\Documents\\GitHub\\Comillas\\Models\\JointResearch\\05. Models\\06.Benchmarking\\F.Representative_days_based_on_Line_Benefit_NN_OC_fy_1\\RTS24_mod1_ByStages_nc1000\\2.Par\n",
      "c:\\Users\\ealvarezq\\Documents\\GitHub\\Comillas\\Models\\JointResearch\\05. Models\\06.Benchmarking\\F.Representative_days_based_on_Line_Benefit_NN_OC_fy_1\\RTS24_mod1_ByStages_nc2000\\2.Par\n",
      "c:\\Users\\ealvarezq\\Documents\\GitHub\\Comillas\\Models\\JointResearch\\05. Models\\06.Benchmarking\\F.Representative_days_based_on_Line_Benefit_NN_OC_fy_1\\RTS24_mod1_ByStages_nc4000\\2.Par\n",
      "c:\\Users\\ealvarezq\\Documents\\GitHub\\Comillas\\Models\\JointResearch\\05. Models\\06.Benchmarking\\G.Representative_days_based_on_Line_Benefit_NN_OC_fy_2\\RTS24_mod1_ByStages_nc10\\2.Par\n",
      "c:\\Users\\ealvarezq\\Documents\\GitHub\\Comillas\\Models\\JointResearch\\05. Models\\06.Benchmarking\\G.Representative_days_based_on_Line_Benefit_NN_OC_fy_2\\RTS24_mod1_ByStages_nc20\\2.Par\n",
      "c:\\Users\\ealvarezq\\Documents\\GitHub\\Comillas\\Models\\JointResearch\\05. Models\\06.Benchmarking\\G.Representative_days_based_on_Line_Benefit_NN_OC_fy_2\\RTS24_mod1_ByStages_nc30\\2.Par\n",
      "c:\\Users\\ealvarezq\\Documents\\GitHub\\Comillas\\Models\\JointResearch\\05. Models\\06.Benchmarking\\G.Representative_days_based_on_Line_Benefit_NN_OC_fy_2\\RTS24_mod1_ByStages_nc40\\2.Par\n",
      "c:\\Users\\ealvarezq\\Documents\\GitHub\\Comillas\\Models\\JointResearch\\05. Models\\06.Benchmarking\\G.Representative_days_based_on_Line_Benefit_NN_OC_fy_2\\RTS24_mod1_ByStages_nc50\\2.Par\n",
      "c:\\Users\\ealvarezq\\Documents\\GitHub\\Comillas\\Models\\JointResearch\\05. Models\\06.Benchmarking\\G.Representative_days_based_on_Line_Benefit_NN_OC_fy_2\\RTS24_mod1_ByStages_nc60\\2.Par\n",
      "c:\\Users\\ealvarezq\\Documents\\GitHub\\Comillas\\Models\\JointResearch\\05. Models\\06.Benchmarking\\G.Representative_days_based_on_Line_Benefit_NN_OC_fy_2\\RTS24_mod1_ByStages_nc70\\2.Par\n",
      "c:\\Users\\ealvarezq\\Documents\\GitHub\\Comillas\\Models\\JointResearch\\05. Models\\06.Benchmarking\\G.Representative_days_based_on_Line_Benefit_NN_OC_fy_2\\RTS24_mod1_ByStages_nc80\\2.Par\n",
      "c:\\Users\\ealvarezq\\Documents\\GitHub\\Comillas\\Models\\JointResearch\\05. Models\\06.Benchmarking\\G.Representative_days_based_on_Line_Benefit_NN_OC_fy_2\\RTS24_mod1_ByStages_nc90\\2.Par\n",
      "c:\\Users\\ealvarezq\\Documents\\GitHub\\Comillas\\Models\\JointResearch\\05. Models\\06.Benchmarking\\G.Representative_days_based_on_Line_Benefit_NN_OC_fy_2\\RTS24_mod1_ByStages_nc100\\2.Par\n",
      "c:\\Users\\ealvarezq\\Documents\\GitHub\\Comillas\\Models\\JointResearch\\05. Models\\06.Benchmarking\\G.Representative_days_based_on_Line_Benefit_NN_OC_fy_2\\RTS24_mod1_ByStages_nc1000\\2.Par\n",
      "c:\\Users\\ealvarezq\\Documents\\GitHub\\Comillas\\Models\\JointResearch\\05. Models\\06.Benchmarking\\G.Representative_days_based_on_Line_Benefit_NN_OC_fy_2\\RTS24_mod1_ByStages_nc2000\\2.Par\n",
      "c:\\Users\\ealvarezq\\Documents\\GitHub\\Comillas\\Models\\JointResearch\\05. Models\\06.Benchmarking\\G.Representative_days_based_on_Line_Benefit_NN_OC_fy_2\\RTS24_mod1_ByStages_nc4000\\2.Par\n"
     ]
    }
   ],
   "source": [
    "for k in range(len(dataframes)):\n",
    "    for i in range(len(Folders)):\n",
    "        # print(os.path.join(DirName, Folders[k], CaseName_ByStage, '2.Par'))\n",
    "        loop(dataframes[k], Folders[i], CaseName_ByStage, 1)\n",
    "# for i in range(len(Folders)):\n",
    "#     loop(df_Generation, Folders[i], CaseName_ByStage)\n"
   ]
  }
 ],
 "metadata": {
  "kernelspec": {
   "display_name": "base",
   "language": "python",
   "name": "python3"
  },
  "language_info": {
   "codemirror_mode": {
    "name": "ipython",
    "version": 3
   },
   "file_extension": ".py",
   "mimetype": "text/x-python",
   "name": "python",
   "nbconvert_exporter": "python",
   "pygments_lexer": "ipython3",
   "version": "3.9.17"
  },
  "orig_nbformat": 4
 },
 "nbformat": 4,
 "nbformat_minor": 2
}
